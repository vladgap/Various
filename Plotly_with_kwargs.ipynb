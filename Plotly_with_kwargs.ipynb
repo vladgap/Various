{
  "nbformat": 4,
  "nbformat_minor": 0,
  "metadata": {
    "colab": {
      "provenance": [],
      "authorship_tag": "ABX9TyPS/hWIWukobq6UgrftBgoD",
      "include_colab_link": true
    },
    "kernelspec": {
      "name": "python3",
      "display_name": "Python 3"
    },
    "language_info": {
      "name": "python"
    }
  },
  "cells": [
    {
      "cell_type": "markdown",
      "metadata": {
        "id": "view-in-github",
        "colab_type": "text"
      },
      "source": [
        "<a href=\"https://colab.research.google.com/github/vladgap/Various/blob/main/Plotly_with_kwargs.ipynb\" target=\"_parent\"><img src=\"https://colab.research.google.com/assets/colab-badge.svg\" alt=\"Open In Colab\"/></a>"
      ]
    },
    {
      "cell_type": "code",
      "execution_count": 1,
      "metadata": {
        "id": "3jYNsZC-J9u1"
      },
      "outputs": [],
      "source": [
        "import plotly.graph_objects as go\n",
        "import pandas as pd # Assuming you use pandas for results_df"
      ]
    },
    {
      "cell_type": "code",
      "source": [
        "# @title def trace_from_path (Universal with **kwargs)\n",
        "def trace_from_path(\n",
        "    results_df,\n",
        "    **kwargs          # Capture arbitrary Scatter3d keyword arguments\n",
        "    ):\n",
        "    \"\"\"\n",
        "    Create 3D scatter trace of crystallization pathway, allowing any\n",
        "    go.Scatter3d option to be passed via keyword arguments.\n",
        "\n",
        "    Args:\n",
        "        results_df (pd.DataFrame): DataFrame containing crystallization results.\n",
        "                                   Must have columns 'x', 'y', 'z',\n",
        "                                   'final_solution_mass', 'nacl_mass',\n",
        "                                   'carnallite_mass'.\n",
        "        **kwargs: Keyword arguments passed directly to the go.Scatter3d constructor.\n",
        "                  These will override the function's defaults if the same key\n",
        "                  (e.g., 'mode', 'marker', 'line', 'visible', 'opacity') is provided.\n",
        "                  See Plotly documentation for go.Scatter3d for all available options.\n",
        "\n",
        "    Returns:\n",
        "        go.Scatter3d: Plotly Scatter3d trace for 3D visualization.\n",
        "    \"\"\"\n",
        "    # --- Calculate necessary data from DataFrame ---\n",
        "    x_data = results_df['x']\n",
        "    y_data = results_df['y']\n",
        "    z_data = results_df['z']\n",
        "    hover_text = [f'Step {i}<br>Solution mass: {e:.1f}g<br>NaCl: {n:.1f}g<br>Carnallite: {c:.1f}g'\n",
        "                  for i, e, n, c in zip(results_df.index,\n",
        "                                      results_df['final_solution_mass'],\n",
        "                                      results_df['nacl_mass'],\n",
        "                                      results_df['carnallite_mass'])]\n",
        "\n",
        "    # --- Define the base/default options for this specific trace type ---\n",
        "    # These are applied if not overridden by kwargs\n",
        "    trace_options = {\n",
        "        'mode': 'lines+markers',\n",
        "        'marker': dict(\n",
        "            size=5,\n",
        "            color=z_data,  # Default to coloring by z-value\n",
        "            colorscale='Viridis',\n",
        "        ),\n",
        "        'line': dict(\n",
        "            width=3\n",
        "            # Line color often defaults to marker color or a standard sequence\n",
        "        ),\n",
        "        'hoverinfo': 'text' # Essential because we provide custom text\n",
        "        # Add any other essential defaults specific to this function's purpose\n",
        "    }\n",
        "\n",
        "    # --- Update defaults with any user-provided kwargs ---\n",
        "    # If kwargs contains 'mode', 'marker', 'line', 'opacity', etc.,\n",
        "    # it will overwrite the values defined in trace_options above.\n",
        "    trace_options.update(kwargs)\n",
        "\n",
        "    # --- Create the Scatter3d trace ---\n",
        "    # Pass the calculated data and the (potentially updated) options\n",
        "    trace = go.Scatter3d(\n",
        "        x=x_data,\n",
        "        y=y_data,\n",
        "        z=z_data,\n",
        "        text=hover_text,\n",
        "        **trace_options # Unpack mode, marker, line, hoverinfo, and any user kwargs\n",
        "    )\n",
        "\n",
        "    return trace"
      ],
      "metadata": {
        "id": "4xa6jmptKCq6"
      },
      "execution_count": 13,
      "outputs": []
    },
    {
      "cell_type": "code",
      "source": [
        "# --- Example Usage ---\n",
        "\n",
        "# Create some dummy data (same as before)\n",
        "data = {\n",
        "    'x': [10, 12, 15, 13, 11],\n",
        "    'y': [20, 22, 25, 23, 21],\n",
        "    'z': [30, 35, 40, 38, 32],\n",
        "    'final_solution_mass': [100, 95, 90, 92, 98],\n",
        "    'nacl_mass': [5, 4, 3, 3.5, 4.5],\n",
        "    'carnallite_mass': [2, 3, 4, 3.8, 2.5]\n",
        "}\n",
        "results_df_example = pd.DataFrame(data)\n",
        "\n",
        "# 1. Default trace (lines+markers, z-based color)\n",
        "trace1 = trace_from_path(results_df_example, name='Default')\n",
        "\n",
        "# 2. Override mode and set a simple red marker via kwargs\n",
        "trace2 = trace_from_path(\n",
        "    results_df_example,\n",
        "    name='Kwargs: Markers Only, Red',\n",
        "    mode='markers', # Override default mode\n",
        "    marker=dict(color='red', size=8) # Override default marker dict entirely\n",
        ")\n",
        "\n",
        "# 3. Override line properties using kwargs\n",
        "trace3 = trace_from_path(\n",
        "    results_df_example,\n",
        "    name='Kwargs: Blue Dashed Line',\n",
        "    mode='lines', # Override default mode\n",
        "    line=dict(color='blue', width=5, dash='dash') # Override default line dict\n",
        ")\n",
        "\n",
        "# 4. Override marker color and symbol, keep default line width/color\n",
        "trace4 = trace_from_path(\n",
        "    results_df_example,\n",
        "    name='Kwargs: Green Diamonds',\n",
        "    marker=dict(color='green', size=7, symbol='diamond') # Override marker dict\n",
        "    # mode='lines+markers' (default) is used\n",
        "    # line=dict(width=3) (default) is used\n",
        ")\n",
        "\n",
        "# 5. Pass another Scatter3d argument like 'opacity'\n",
        "trace5 = trace_from_path(\n",
        "    results_df_example,\n",
        "    name='Semi-Transparent',\n",
        "    opacity=0.6 # Pass a standard Scatter3d arg via kwargs\n",
        ")"
      ],
      "metadata": {
        "id": "eBh_H0gDKJhO"
      },
      "execution_count": 14,
      "outputs": []
    },
    {
      "cell_type": "code",
      "source": [
        "# To display these (requires plotly installed)\n",
        "fig = go.Figure(data=[trace1, trace2, trace3, trace4, trace5])\n",
        "fig.update_layout(title='Customizable Crystallization Paths (Universal **kwargs)',\n",
        "                  scene=dict(xaxis_title='X', yaxis_title='Y', zaxis_title='Z'))\n",
        "fig.show() # Uncomment to display the plot"
      ],
      "metadata": {
        "colab": {
          "base_uri": "https://localhost:8080/",
          "height": 542
        },
        "id": "WERyJOXZKcyX",
        "outputId": "91c01c87-0568-4e0f-9d4c-d7fc06e80bf4"
      },
      "execution_count": 15,
      "outputs": [
        {
          "output_type": "display_data",
          "data": {
            "text/html": [
              "<html>\n",
              "<head><meta charset=\"utf-8\" /></head>\n",
              "<body>\n",
              "    <div>            <script src=\"https://cdnjs.cloudflare.com/ajax/libs/mathjax/2.7.5/MathJax.js?config=TeX-AMS-MML_SVG\"></script><script type=\"text/javascript\">if (window.MathJax && window.MathJax.Hub && window.MathJax.Hub.Config) {window.MathJax.Hub.Config({SVG: {font: \"STIX-Web\"}});}</script>                <script type=\"text/javascript\">window.PlotlyConfig = {MathJaxConfig: 'local'};</script>\n",
              "        <script charset=\"utf-8\" src=\"https://cdn.plot.ly/plotly-2.35.2.min.js\"></script>                <div id=\"4d3be2fc-0627-4f29-85a4-8b6f79a38f6f\" class=\"plotly-graph-div\" style=\"height:525px; width:100%;\"></div>            <script type=\"text/javascript\">                                    window.PLOTLYENV=window.PLOTLYENV || {};                                    if (document.getElementById(\"4d3be2fc-0627-4f29-85a4-8b6f79a38f6f\")) {                    Plotly.newPlot(                        \"4d3be2fc-0627-4f29-85a4-8b6f79a38f6f\",                        [{\"hoverinfo\":\"text\",\"line\":{\"width\":3},\"marker\":{\"color\":[30,35,40,38,32],\"colorscale\":[[0.0,\"#440154\"],[0.1111111111111111,\"#482878\"],[0.2222222222222222,\"#3e4989\"],[0.3333333333333333,\"#31688e\"],[0.4444444444444444,\"#26828e\"],[0.5555555555555556,\"#1f9e89\"],[0.6666666666666666,\"#35b779\"],[0.7777777777777778,\"#6ece58\"],[0.8888888888888888,\"#b5de2b\"],[1.0,\"#fde725\"]],\"size\":5},\"mode\":\"lines+markers\",\"name\":\"Default\",\"text\":[\"Step 0\\u003cbr\\u003eSolution mass: 100.0g\\u003cbr\\u003eNaCl: 5.0g\\u003cbr\\u003eCarnallite: 2.0g\",\"Step 1\\u003cbr\\u003eSolution mass: 95.0g\\u003cbr\\u003eNaCl: 4.0g\\u003cbr\\u003eCarnallite: 3.0g\",\"Step 2\\u003cbr\\u003eSolution mass: 90.0g\\u003cbr\\u003eNaCl: 3.0g\\u003cbr\\u003eCarnallite: 4.0g\",\"Step 3\\u003cbr\\u003eSolution mass: 92.0g\\u003cbr\\u003eNaCl: 3.5g\\u003cbr\\u003eCarnallite: 3.8g\",\"Step 4\\u003cbr\\u003eSolution mass: 98.0g\\u003cbr\\u003eNaCl: 4.5g\\u003cbr\\u003eCarnallite: 2.5g\"],\"x\":[10,12,15,13,11],\"y\":[20,22,25,23,21],\"z\":[30,35,40,38,32],\"type\":\"scatter3d\"},{\"hoverinfo\":\"text\",\"line\":{\"width\":3},\"marker\":{\"color\":\"red\",\"size\":8},\"mode\":\"markers\",\"name\":\"Kwargs: Markers Only, Red\",\"text\":[\"Step 0\\u003cbr\\u003eSolution mass: 100.0g\\u003cbr\\u003eNaCl: 5.0g\\u003cbr\\u003eCarnallite: 2.0g\",\"Step 1\\u003cbr\\u003eSolution mass: 95.0g\\u003cbr\\u003eNaCl: 4.0g\\u003cbr\\u003eCarnallite: 3.0g\",\"Step 2\\u003cbr\\u003eSolution mass: 90.0g\\u003cbr\\u003eNaCl: 3.0g\\u003cbr\\u003eCarnallite: 4.0g\",\"Step 3\\u003cbr\\u003eSolution mass: 92.0g\\u003cbr\\u003eNaCl: 3.5g\\u003cbr\\u003eCarnallite: 3.8g\",\"Step 4\\u003cbr\\u003eSolution mass: 98.0g\\u003cbr\\u003eNaCl: 4.5g\\u003cbr\\u003eCarnallite: 2.5g\"],\"x\":[10,12,15,13,11],\"y\":[20,22,25,23,21],\"z\":[30,35,40,38,32],\"type\":\"scatter3d\"},{\"hoverinfo\":\"text\",\"line\":{\"color\":\"blue\",\"dash\":\"dash\",\"width\":5},\"marker\":{\"color\":[30,35,40,38,32],\"colorscale\":[[0.0,\"#440154\"],[0.1111111111111111,\"#482878\"],[0.2222222222222222,\"#3e4989\"],[0.3333333333333333,\"#31688e\"],[0.4444444444444444,\"#26828e\"],[0.5555555555555556,\"#1f9e89\"],[0.6666666666666666,\"#35b779\"],[0.7777777777777778,\"#6ece58\"],[0.8888888888888888,\"#b5de2b\"],[1.0,\"#fde725\"]],\"size\":5},\"mode\":\"lines\",\"name\":\"Kwargs: Blue Dashed Line\",\"text\":[\"Step 0\\u003cbr\\u003eSolution mass: 100.0g\\u003cbr\\u003eNaCl: 5.0g\\u003cbr\\u003eCarnallite: 2.0g\",\"Step 1\\u003cbr\\u003eSolution mass: 95.0g\\u003cbr\\u003eNaCl: 4.0g\\u003cbr\\u003eCarnallite: 3.0g\",\"Step 2\\u003cbr\\u003eSolution mass: 90.0g\\u003cbr\\u003eNaCl: 3.0g\\u003cbr\\u003eCarnallite: 4.0g\",\"Step 3\\u003cbr\\u003eSolution mass: 92.0g\\u003cbr\\u003eNaCl: 3.5g\\u003cbr\\u003eCarnallite: 3.8g\",\"Step 4\\u003cbr\\u003eSolution mass: 98.0g\\u003cbr\\u003eNaCl: 4.5g\\u003cbr\\u003eCarnallite: 2.5g\"],\"x\":[10,12,15,13,11],\"y\":[20,22,25,23,21],\"z\":[30,35,40,38,32],\"type\":\"scatter3d\"},{\"hoverinfo\":\"text\",\"line\":{\"width\":3},\"marker\":{\"color\":\"green\",\"size\":7,\"symbol\":\"diamond\"},\"mode\":\"lines+markers\",\"name\":\"Kwargs: Green Diamonds\",\"text\":[\"Step 0\\u003cbr\\u003eSolution mass: 100.0g\\u003cbr\\u003eNaCl: 5.0g\\u003cbr\\u003eCarnallite: 2.0g\",\"Step 1\\u003cbr\\u003eSolution mass: 95.0g\\u003cbr\\u003eNaCl: 4.0g\\u003cbr\\u003eCarnallite: 3.0g\",\"Step 2\\u003cbr\\u003eSolution mass: 90.0g\\u003cbr\\u003eNaCl: 3.0g\\u003cbr\\u003eCarnallite: 4.0g\",\"Step 3\\u003cbr\\u003eSolution mass: 92.0g\\u003cbr\\u003eNaCl: 3.5g\\u003cbr\\u003eCarnallite: 3.8g\",\"Step 4\\u003cbr\\u003eSolution mass: 98.0g\\u003cbr\\u003eNaCl: 4.5g\\u003cbr\\u003eCarnallite: 2.5g\"],\"x\":[10,12,15,13,11],\"y\":[20,22,25,23,21],\"z\":[30,35,40,38,32],\"type\":\"scatter3d\"},{\"hoverinfo\":\"text\",\"line\":{\"width\":3},\"marker\":{\"color\":[30,35,40,38,32],\"colorscale\":[[0.0,\"#440154\"],[0.1111111111111111,\"#482878\"],[0.2222222222222222,\"#3e4989\"],[0.3333333333333333,\"#31688e\"],[0.4444444444444444,\"#26828e\"],[0.5555555555555556,\"#1f9e89\"],[0.6666666666666666,\"#35b779\"],[0.7777777777777778,\"#6ece58\"],[0.8888888888888888,\"#b5de2b\"],[1.0,\"#fde725\"]],\"size\":5},\"mode\":\"lines+markers\",\"name\":\"Semi-Transparent\",\"opacity\":0.6,\"text\":[\"Step 0\\u003cbr\\u003eSolution mass: 100.0g\\u003cbr\\u003eNaCl: 5.0g\\u003cbr\\u003eCarnallite: 2.0g\",\"Step 1\\u003cbr\\u003eSolution mass: 95.0g\\u003cbr\\u003eNaCl: 4.0g\\u003cbr\\u003eCarnallite: 3.0g\",\"Step 2\\u003cbr\\u003eSolution mass: 90.0g\\u003cbr\\u003eNaCl: 3.0g\\u003cbr\\u003eCarnallite: 4.0g\",\"Step 3\\u003cbr\\u003eSolution mass: 92.0g\\u003cbr\\u003eNaCl: 3.5g\\u003cbr\\u003eCarnallite: 3.8g\",\"Step 4\\u003cbr\\u003eSolution mass: 98.0g\\u003cbr\\u003eNaCl: 4.5g\\u003cbr\\u003eCarnallite: 2.5g\"],\"x\":[10,12,15,13,11],\"y\":[20,22,25,23,21],\"z\":[30,35,40,38,32],\"type\":\"scatter3d\"}],                        {\"template\":{\"data\":{\"histogram2dcontour\":[{\"type\":\"histogram2dcontour\",\"colorbar\":{\"outlinewidth\":0,\"ticks\":\"\"},\"colorscale\":[[0.0,\"#0d0887\"],[0.1111111111111111,\"#46039f\"],[0.2222222222222222,\"#7201a8\"],[0.3333333333333333,\"#9c179e\"],[0.4444444444444444,\"#bd3786\"],[0.5555555555555556,\"#d8576b\"],[0.6666666666666666,\"#ed7953\"],[0.7777777777777778,\"#fb9f3a\"],[0.8888888888888888,\"#fdca26\"],[1.0,\"#f0f921\"]]}],\"choropleth\":[{\"type\":\"choropleth\",\"colorbar\":{\"outlinewidth\":0,\"ticks\":\"\"}}],\"histogram2d\":[{\"type\":\"histogram2d\",\"colorbar\":{\"outlinewidth\":0,\"ticks\":\"\"},\"colorscale\":[[0.0,\"#0d0887\"],[0.1111111111111111,\"#46039f\"],[0.2222222222222222,\"#7201a8\"],[0.3333333333333333,\"#9c179e\"],[0.4444444444444444,\"#bd3786\"],[0.5555555555555556,\"#d8576b\"],[0.6666666666666666,\"#ed7953\"],[0.7777777777777778,\"#fb9f3a\"],[0.8888888888888888,\"#fdca26\"],[1.0,\"#f0f921\"]]}],\"heatmap\":[{\"type\":\"heatmap\",\"colorbar\":{\"outlinewidth\":0,\"ticks\":\"\"},\"colorscale\":[[0.0,\"#0d0887\"],[0.1111111111111111,\"#46039f\"],[0.2222222222222222,\"#7201a8\"],[0.3333333333333333,\"#9c179e\"],[0.4444444444444444,\"#bd3786\"],[0.5555555555555556,\"#d8576b\"],[0.6666666666666666,\"#ed7953\"],[0.7777777777777778,\"#fb9f3a\"],[0.8888888888888888,\"#fdca26\"],[1.0,\"#f0f921\"]]}],\"heatmapgl\":[{\"type\":\"heatmapgl\",\"colorbar\":{\"outlinewidth\":0,\"ticks\":\"\"},\"colorscale\":[[0.0,\"#0d0887\"],[0.1111111111111111,\"#46039f\"],[0.2222222222222222,\"#7201a8\"],[0.3333333333333333,\"#9c179e\"],[0.4444444444444444,\"#bd3786\"],[0.5555555555555556,\"#d8576b\"],[0.6666666666666666,\"#ed7953\"],[0.7777777777777778,\"#fb9f3a\"],[0.8888888888888888,\"#fdca26\"],[1.0,\"#f0f921\"]]}],\"contourcarpet\":[{\"type\":\"contourcarpet\",\"colorbar\":{\"outlinewidth\":0,\"ticks\":\"\"}}],\"contour\":[{\"type\":\"contour\",\"colorbar\":{\"outlinewidth\":0,\"ticks\":\"\"},\"colorscale\":[[0.0,\"#0d0887\"],[0.1111111111111111,\"#46039f\"],[0.2222222222222222,\"#7201a8\"],[0.3333333333333333,\"#9c179e\"],[0.4444444444444444,\"#bd3786\"],[0.5555555555555556,\"#d8576b\"],[0.6666666666666666,\"#ed7953\"],[0.7777777777777778,\"#fb9f3a\"],[0.8888888888888888,\"#fdca26\"],[1.0,\"#f0f921\"]]}],\"surface\":[{\"type\":\"surface\",\"colorbar\":{\"outlinewidth\":0,\"ticks\":\"\"},\"colorscale\":[[0.0,\"#0d0887\"],[0.1111111111111111,\"#46039f\"],[0.2222222222222222,\"#7201a8\"],[0.3333333333333333,\"#9c179e\"],[0.4444444444444444,\"#bd3786\"],[0.5555555555555556,\"#d8576b\"],[0.6666666666666666,\"#ed7953\"],[0.7777777777777778,\"#fb9f3a\"],[0.8888888888888888,\"#fdca26\"],[1.0,\"#f0f921\"]]}],\"mesh3d\":[{\"type\":\"mesh3d\",\"colorbar\":{\"outlinewidth\":0,\"ticks\":\"\"}}],\"scatter\":[{\"fillpattern\":{\"fillmode\":\"overlay\",\"size\":10,\"solidity\":0.2},\"type\":\"scatter\"}],\"parcoords\":[{\"type\":\"parcoords\",\"line\":{\"colorbar\":{\"outlinewidth\":0,\"ticks\":\"\"}}}],\"scatterpolargl\":[{\"type\":\"scatterpolargl\",\"marker\":{\"colorbar\":{\"outlinewidth\":0,\"ticks\":\"\"}}}],\"bar\":[{\"error_x\":{\"color\":\"#2a3f5f\"},\"error_y\":{\"color\":\"#2a3f5f\"},\"marker\":{\"line\":{\"color\":\"#E5ECF6\",\"width\":0.5},\"pattern\":{\"fillmode\":\"overlay\",\"size\":10,\"solidity\":0.2}},\"type\":\"bar\"}],\"scattergeo\":[{\"type\":\"scattergeo\",\"marker\":{\"colorbar\":{\"outlinewidth\":0,\"ticks\":\"\"}}}],\"scatterpolar\":[{\"type\":\"scatterpolar\",\"marker\":{\"colorbar\":{\"outlinewidth\":0,\"ticks\":\"\"}}}],\"histogram\":[{\"marker\":{\"pattern\":{\"fillmode\":\"overlay\",\"size\":10,\"solidity\":0.2}},\"type\":\"histogram\"}],\"scattergl\":[{\"type\":\"scattergl\",\"marker\":{\"colorbar\":{\"outlinewidth\":0,\"ticks\":\"\"}}}],\"scatter3d\":[{\"type\":\"scatter3d\",\"line\":{\"colorbar\":{\"outlinewidth\":0,\"ticks\":\"\"}},\"marker\":{\"colorbar\":{\"outlinewidth\":0,\"ticks\":\"\"}}}],\"scattermapbox\":[{\"type\":\"scattermapbox\",\"marker\":{\"colorbar\":{\"outlinewidth\":0,\"ticks\":\"\"}}}],\"scatterternary\":[{\"type\":\"scatterternary\",\"marker\":{\"colorbar\":{\"outlinewidth\":0,\"ticks\":\"\"}}}],\"scattercarpet\":[{\"type\":\"scattercarpet\",\"marker\":{\"colorbar\":{\"outlinewidth\":0,\"ticks\":\"\"}}}],\"carpet\":[{\"aaxis\":{\"endlinecolor\":\"#2a3f5f\",\"gridcolor\":\"white\",\"linecolor\":\"white\",\"minorgridcolor\":\"white\",\"startlinecolor\":\"#2a3f5f\"},\"baxis\":{\"endlinecolor\":\"#2a3f5f\",\"gridcolor\":\"white\",\"linecolor\":\"white\",\"minorgridcolor\":\"white\",\"startlinecolor\":\"#2a3f5f\"},\"type\":\"carpet\"}],\"table\":[{\"cells\":{\"fill\":{\"color\":\"#EBF0F8\"},\"line\":{\"color\":\"white\"}},\"header\":{\"fill\":{\"color\":\"#C8D4E3\"},\"line\":{\"color\":\"white\"}},\"type\":\"table\"}],\"barpolar\":[{\"marker\":{\"line\":{\"color\":\"#E5ECF6\",\"width\":0.5},\"pattern\":{\"fillmode\":\"overlay\",\"size\":10,\"solidity\":0.2}},\"type\":\"barpolar\"}],\"pie\":[{\"automargin\":true,\"type\":\"pie\"}]},\"layout\":{\"autotypenumbers\":\"strict\",\"colorway\":[\"#636efa\",\"#EF553B\",\"#00cc96\",\"#ab63fa\",\"#FFA15A\",\"#19d3f3\",\"#FF6692\",\"#B6E880\",\"#FF97FF\",\"#FECB52\"],\"font\":{\"color\":\"#2a3f5f\"},\"hovermode\":\"closest\",\"hoverlabel\":{\"align\":\"left\"},\"paper_bgcolor\":\"white\",\"plot_bgcolor\":\"#E5ECF6\",\"polar\":{\"bgcolor\":\"#E5ECF6\",\"angularaxis\":{\"gridcolor\":\"white\",\"linecolor\":\"white\",\"ticks\":\"\"},\"radialaxis\":{\"gridcolor\":\"white\",\"linecolor\":\"white\",\"ticks\":\"\"}},\"ternary\":{\"bgcolor\":\"#E5ECF6\",\"aaxis\":{\"gridcolor\":\"white\",\"linecolor\":\"white\",\"ticks\":\"\"},\"baxis\":{\"gridcolor\":\"white\",\"linecolor\":\"white\",\"ticks\":\"\"},\"caxis\":{\"gridcolor\":\"white\",\"linecolor\":\"white\",\"ticks\":\"\"}},\"coloraxis\":{\"colorbar\":{\"outlinewidth\":0,\"ticks\":\"\"}},\"colorscale\":{\"sequential\":[[0.0,\"#0d0887\"],[0.1111111111111111,\"#46039f\"],[0.2222222222222222,\"#7201a8\"],[0.3333333333333333,\"#9c179e\"],[0.4444444444444444,\"#bd3786\"],[0.5555555555555556,\"#d8576b\"],[0.6666666666666666,\"#ed7953\"],[0.7777777777777778,\"#fb9f3a\"],[0.8888888888888888,\"#fdca26\"],[1.0,\"#f0f921\"]],\"sequentialminus\":[[0.0,\"#0d0887\"],[0.1111111111111111,\"#46039f\"],[0.2222222222222222,\"#7201a8\"],[0.3333333333333333,\"#9c179e\"],[0.4444444444444444,\"#bd3786\"],[0.5555555555555556,\"#d8576b\"],[0.6666666666666666,\"#ed7953\"],[0.7777777777777778,\"#fb9f3a\"],[0.8888888888888888,\"#fdca26\"],[1.0,\"#f0f921\"]],\"diverging\":[[0,\"#8e0152\"],[0.1,\"#c51b7d\"],[0.2,\"#de77ae\"],[0.3,\"#f1b6da\"],[0.4,\"#fde0ef\"],[0.5,\"#f7f7f7\"],[0.6,\"#e6f5d0\"],[0.7,\"#b8e186\"],[0.8,\"#7fbc41\"],[0.9,\"#4d9221\"],[1,\"#276419\"]]},\"xaxis\":{\"gridcolor\":\"white\",\"linecolor\":\"white\",\"ticks\":\"\",\"title\":{\"standoff\":15},\"zerolinecolor\":\"white\",\"automargin\":true,\"zerolinewidth\":2},\"yaxis\":{\"gridcolor\":\"white\",\"linecolor\":\"white\",\"ticks\":\"\",\"title\":{\"standoff\":15},\"zerolinecolor\":\"white\",\"automargin\":true,\"zerolinewidth\":2},\"scene\":{\"xaxis\":{\"backgroundcolor\":\"#E5ECF6\",\"gridcolor\":\"white\",\"linecolor\":\"white\",\"showbackground\":true,\"ticks\":\"\",\"zerolinecolor\":\"white\",\"gridwidth\":2},\"yaxis\":{\"backgroundcolor\":\"#E5ECF6\",\"gridcolor\":\"white\",\"linecolor\":\"white\",\"showbackground\":true,\"ticks\":\"\",\"zerolinecolor\":\"white\",\"gridwidth\":2},\"zaxis\":{\"backgroundcolor\":\"#E5ECF6\",\"gridcolor\":\"white\",\"linecolor\":\"white\",\"showbackground\":true,\"ticks\":\"\",\"zerolinecolor\":\"white\",\"gridwidth\":2}},\"shapedefaults\":{\"line\":{\"color\":\"#2a3f5f\"}},\"annotationdefaults\":{\"arrowcolor\":\"#2a3f5f\",\"arrowhead\":0,\"arrowwidth\":1},\"geo\":{\"bgcolor\":\"white\",\"landcolor\":\"#E5ECF6\",\"subunitcolor\":\"white\",\"showland\":true,\"showlakes\":true,\"lakecolor\":\"white\"},\"title\":{\"x\":0.05},\"mapbox\":{\"style\":\"light\"}}},\"title\":{\"text\":\"Customizable Crystallization Paths (Universal **kwargs)\"},\"scene\":{\"xaxis\":{\"title\":{\"text\":\"X\"}},\"yaxis\":{\"title\":{\"text\":\"Y\"}},\"zaxis\":{\"title\":{\"text\":\"Z\"}}}},                        {\"responsive\": true}                    ).then(function(){\n",
              "                            \n",
              "var gd = document.getElementById('4d3be2fc-0627-4f29-85a4-8b6f79a38f6f');\n",
              "var x = new MutationObserver(function (mutations, observer) {{\n",
              "        var display = window.getComputedStyle(gd).display;\n",
              "        if (!display || display === 'none') {{\n",
              "            console.log([gd, 'removed!']);\n",
              "            Plotly.purge(gd);\n",
              "            observer.disconnect();\n",
              "        }}\n",
              "}});\n",
              "\n",
              "// Listen for the removal of the full notebook cells\n",
              "var notebookContainer = gd.closest('#notebook-container');\n",
              "if (notebookContainer) {{\n",
              "    x.observe(notebookContainer, {childList: true});\n",
              "}}\n",
              "\n",
              "// Listen for the clearing of the current output cell\n",
              "var outputEl = gd.closest('.output');\n",
              "if (outputEl) {{\n",
              "    x.observe(outputEl, {childList: true});\n",
              "}}\n",
              "\n",
              "                        })                };                            </script>        </div>\n",
              "</body>\n",
              "</html>"
            ]
          },
          "metadata": {}
        }
      ]
    },
    {
      "cell_type": "code",
      "source": [],
      "metadata": {
        "id": "Rzelp6TTPf3f"
      },
      "execution_count": null,
      "outputs": []
    }
  ]
}