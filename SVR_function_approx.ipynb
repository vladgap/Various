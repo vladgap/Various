{
  "nbformat": 4,
  "nbformat_minor": 0,
  "metadata": {
    "colab": {
      "provenance": [],
      "toc_visible": true,
      "authorship_tag": "ABX9TyPz6B/rK3ElxccgoK+7vdZ4",
      "include_colab_link": true
    },
    "kernelspec": {
      "name": "python3",
      "display_name": "Python 3"
    },
    "language_info": {
      "name": "python"
    }
  },
  "cells": [
    {
      "cell_type": "markdown",
      "metadata": {
        "id": "view-in-github",
        "colab_type": "text"
      },
      "source": [
        "<a href=\"https://colab.research.google.com/github/vladgap/Various/blob/main/SVR_function_approx.ipynb\" target=\"_parent\"><img src=\"https://colab.research.google.com/assets/colab-badge.svg\" alt=\"Open In Colab\"/></a>"
      ]
    },
    {
      "cell_type": "code",
      "execution_count": 6,
      "metadata": {
        "id": "-iV87ghCR8gK"
      },
      "outputs": [],
      "source": [
        "import numpy as np\n",
        "import pandas as pd\n",
        "import plotly.express as px\n",
        "import plotly.graph_objs as go\n",
        "from plotly.subplots import make_subplots\n",
        "from sklearn import preprocessing\n",
        "import matplotlib.pyplot as plt\n",
        "import skimage.io as sio"
      ]
    },
    {
      "cell_type": "code",
      "source": [
        "from sklearn.svm import SVR"
      ],
      "metadata": {
        "id": "4l_ji9AUSdJm"
      },
      "execution_count": 9,
      "outputs": []
    },
    {
      "cell_type": "markdown",
      "source": [
        "# 1"
      ],
      "metadata": {
        "id": "MtgFyX0NSM8X"
      }
    },
    {
      "cell_type": "code",
      "source": [
        "def func(x):\n",
        "    y = x**2+1\n",
        "    return y"
      ],
      "metadata": {
        "id": "N2hJEDYRSKf9"
      },
      "execution_count": 43,
      "outputs": []
    },
    {
      "cell_type": "code",
      "source": [
        "x=np.linspace(-1,2,11)\n",
        "data1=np.array([\n",
        "               x,\n",
        "               func(x)\n",
        "               ]).T\n",
        "X1=data1[:,[0]]\n",
        "T1=data1[:,[1]]"
      ],
      "metadata": {
        "id": "WGbMB6khyiOs"
      },
      "execution_count": 44,
      "outputs": []
    },
    {
      "cell_type": "code",
      "source": [
        "scaler_X1 = preprocessing.StandardScaler().fit(X1)\n",
        "scaler_T1 = preprocessing.StandardScaler().fit(T1)\n",
        "\n",
        "# scaler_X1.mean_, scaler_X1.scale_ = 0, 1 # disable scaling\n",
        "# scaler_T1.mean_, scaler_T1.scale_ = 0, 1 # disable scaling\n",
        "\n",
        "scaler_data1 = [scaler_X1.mean_, scaler_X1.scale_, scaler_T1.mean_, scaler_T1.scale_]\n",
        "print('scaler X -- mean, stdev:  ',scaler_data1[0], scaler_data1[1])\n",
        "print('scaler T -- mean, stdev:  ',scaler_data1[2], scaler_data1[3])\n",
        "\n",
        "X_sc1 = scaler_X1.transform(X1)\n",
        "T_sc1 = scaler_T1.transform(T1)\n",
        "X_sc1[0:3]"
      ],
      "metadata": {
        "colab": {
          "base_uri": "https://localhost:8080/"
        },
        "outputId": "99d5b7a3-4af1-4ff7-ece5-dcb92d3bb348",
        "id": "BsyaONOmmuD1"
      },
      "execution_count": 45,
      "outputs": [
        {
          "output_type": "stream",
          "name": "stdout",
          "text": [
            "scaler X -- mean, stdev:   [0.5] [0.9486833]\n",
            "scaler T -- mean, stdev:   [2.15] [1.23765908]\n"
          ]
        },
        {
          "output_type": "execute_result",
          "data": {
            "text/plain": [
              "array([[-1.58113883],\n",
              "       [-1.26491106],\n",
              "       [-0.9486833 ]])"
            ]
          },
          "metadata": {},
          "execution_count": 45
        }
      ]
    },
    {
      "cell_type": "code",
      "source": [
        "# T_sc1.ravel()"
      ],
      "metadata": {
        "id": "a0tMqEHAUU1u"
      },
      "execution_count": 46,
      "outputs": []
    },
    {
      "cell_type": "code",
      "source": [
        "# T_sc1.ravel().reshape(-1,1)"
      ],
      "metadata": {
        "id": "h0AQzdBfV6qR"
      },
      "execution_count": 47,
      "outputs": []
    },
    {
      "cell_type": "markdown",
      "source": [
        "## 1_1"
      ],
      "metadata": {
        "id": "R52wfZNua8s6"
      }
    },
    {
      "cell_type": "code",
      "source": [
        "svr1=SVR(kernel='rbf')\n",
        "svr1.fit(X_sc1,T_sc1.ravel())\n",
        "predics1=scaler_T1.inverse_transform(svr1.predict(X_sc1).reshape(-1,1))\n",
        "# predics1"
      ],
      "metadata": {
        "id": "AAHRkPQrSHVd"
      },
      "execution_count": 48,
      "outputs": []
    },
    {
      "cell_type": "code",
      "source": [
        "errors1=(predics1-T1)/T1*100\n",
        "plt.hist(errors1[:,0]) # division by 0"
      ],
      "metadata": {
        "colab": {
          "base_uri": "https://localhost:8080/",
          "height": 519
        },
        "id": "9TokyvaPXDRL",
        "outputId": "8d5c1635-219f-4b36-d792-c1150480968e"
      },
      "execution_count": 49,
      "outputs": [
        {
          "output_type": "execute_result",
          "data": {
            "text/plain": [
              "(array([1., 0., 0., 0., 2., 0., 0., 4., 1., 3.]),\n",
              " array([-17.86527736, -14.8517629 , -11.83824845,  -8.82473399,\n",
              "         -5.81121954,  -2.79770508,   0.21580938,   3.22932383,\n",
              "          6.24283829,   9.25635275,  12.2698672 ]),\n",
              " <BarContainer object of 10 artists>)"
            ]
          },
          "metadata": {},
          "execution_count": 49
        },
        {
          "output_type": "display_data",
          "data": {
            "text/plain": [
              "<Figure size 640x480 with 1 Axes>"
            ],
            "image/png": "[encoded data removed]"
          },
          "metadata": {}
        }
      ]
    },
    {
      "cell_type": "code",
      "source": [
        "fig = make_subplots(specs=[[{\"secondary_y\": True}]])\n",
        "fig.add_trace(go.Scatter(x=T1[:,0], y=predics1[:,0], mode='markers', marker_size=4, name='predics', marker_color='black'),secondary_y=False)\n",
        "fig.add_trace(go.Scatter(x=T1[:,0], y=T1[:,0], mode='lines', line_color='red', line_width=0.2, showlegend=False),secondary_y=False)\n",
        "fig.add_trace(go.Scatter(x=T1[:,0], y=errors1[:,0], mode='markers', marker_size=4, name='errors', marker_color='orange'),secondary_y=True)\n",
        "\n",
        "fig.update_xaxes(title_text=\"data\")\n",
        "\n",
        "# Set y-axes titles\n",
        "fig.update_yaxes(title_text=\"predics\", secondary_y=False)\n",
        "fig.update_yaxes(title_text=\"% error\", range=[-20, 20], secondary_y=True, showgrid=False, tick0=-5, dtick=2)\n",
        "\n",
        "fig.show()"
      ],
      "metadata": {
        "colab": {
          "base_uri": "https://localhost:8080/",
          "height": 542
        },
        "id": "aJP-rr5sXFBh",
        "outputId": "3b8c95aa-d693-4cbe-f894-e80971524c17"
      },
      "execution_count": 53,
      "outputs": [
        {
          "output_type": "display_data",
          "data": {
            "text/html": [
              "<html>\n",
              "<head><meta charset=\"utf-8\" /></head>\n",
              "<body>\n",
              "    <div>            <script src=\"https://cdnjs.cloudflare.com/ajax/libs/mathjax/2.7.5/MathJax.js?config=TeX-AMS-MML_SVG\"></script><script type=\"text/javascript\">if (window.MathJax && window.MathJax.Hub && window.MathJax.Hub.Config) {window.MathJax.Hub.Config({SVG: {font: \"STIX-Web\"}});}</script>                <script type=\"text/javascript\">window.PlotlyConfig = {MathJaxConfig: 'local'};</script>\n",
              "        <script charset=\"utf-8\" src=\"https://cdn.plot.ly/plotly-2.24.1.min.js\"></script>                <div id=\"3a92bfa9-8bb6-4fc1-88b2-3a0957bc75ec\" class=\"plotly-graph-div\" style=\"height:525px; width:100%;\"></div>            <script type=\"text/javascript\">                                    window.PLOTLYENV=window.PLOTLYENV || {};                                    if (document.getElementById(\"3a92bfa9-8bb6-4fc1-88b2-3a0957bc75ec\")) {                    Plotly.newPlot(                        \"3a92bfa9-8bb6-4fc1-88b2-3a0957bc75ec\",                        [{\"marker\":{\"color\":\"black\",\"size\":4},\"mode\":\"markers\",\"name\":\"predics\",\"x\":[2.0,1.49,1.1600000000000001,1.01,1.04,1.25,1.6399999999999997,2.21,2.96,3.8899999999999992,5.0],\"y\":[1.8903308611038767,1.5692588330441954,1.2839575405168104,1.133925658734072,1.161041819159002,1.3589582109487253,1.7394959612860605,2.3339256783595523,3.083254799405858,3.764672234924893,4.106736131976398],\"type\":\"scatter\",\"xaxis\":\"x\",\"yaxis\":\"y\"},{\"line\":{\"color\":\"red\",\"width\":0.2},\"mode\":\"lines\",\"showlegend\":false,\"x\":[2.0,1.49,1.1600000000000001,1.01,1.04,1.25,1.6399999999999997,2.21,2.96,3.8899999999999992,5.0],\"y\":[2.0,1.49,1.1600000000000001,1.01,1.04,1.25,1.6399999999999997,2.21,2.96,3.8899999999999992,5.0],\"type\":\"scatter\",\"xaxis\":\"x\",\"yaxis\":\"y\"},{\"marker\":{\"color\":\"orange\",\"size\":4},\"mode\":\"markers\",\"name\":\"errors\",\"x\":[2.0,1.49,1.1600000000000001,1.01,1.04,1.25,1.6399999999999997,2.21,2.96,3.8899999999999992,5.0],\"y\":[-5.483456944806164,5.319384768066809,10.685994872138817,12.26986720139327,11.638636457596338,8.716656875898021,6.0668269076866395,5.607496758350786,4.1640134934411535,-3.221793446660832,-17.86527736047203],\"type\":\"scatter\",\"xaxis\":\"x\",\"yaxis\":\"y2\"}],                        {\"template\":{\"data\":{\"histogram2dcontour\":[{\"type\":\"histogram2dcontour\",\"colorbar\":{\"outlinewidth\":0,\"ticks\":\"\"},\"colorscale\":[[0.0,\"#0d0887\"],[0.1111111111111111,\"#46039f\"],[0.2222222222222222,\"#7201a8\"],[0.3333333333333333,\"#9c179e\"],[0.4444444444444444,\"#bd3786\"],[0.5555555555555556,\"#d8576b\"],[0.6666666666666666,\"#ed7953\"],[0.7777777777777778,\"#fb9f3a\"],[0.8888888888888888,\"#fdca26\"],[1.0,\"#f0f921\"]]}],\"choropleth\":[{\"type\":\"choropleth\",\"colorbar\":{\"outlinewidth\":0,\"ticks\":\"\"}}],\"histogram2d\":[{\"type\":\"histogram2d\",\"colorbar\":{\"outlinewidth\":0,\"ticks\":\"\"},\"colorscale\":[[0.0,\"#0d0887\"],[0.1111111111111111,\"#46039f\"],[0.2222222222222222,\"#7201a8\"],[0.3333333333333333,\"#9c179e\"],[0.4444444444444444,\"#bd3786\"],[0.5555555555555556,\"#d8576b\"],[0.6666666666666666,\"#ed7953\"],[0.7777777777777778,\"#fb9f3a\"],[0.8888888888888888,\"#fdca26\"],[1.0,\"#f0f921\"]]}],\"heatmap\":[{\"type\":\"heatmap\",\"colorbar\":{\"outlinewidth\":0,\"ticks\":\"\"},\"colorscale\":[[0.0,\"#0d0887\"],[0.1111111111111111,\"#46039f\"],[0.2222222222222222,\"#7201a8\"],[0.3333333333333333,\"#9c179e\"],[0.4444444444444444,\"#bd3786\"],[0.5555555555555556,\"#d8576b\"],[0.6666666666666666,\"#ed7953\"],[0.7777777777777778,\"#fb9f3a\"],[0.8888888888888888,\"#fdca26\"],[1.0,\"#f0f921\"]]}],\"heatmapgl\":[{\"type\":\"heatmapgl\",\"colorbar\":{\"outlinewidth\":0,\"ticks\":\"\"},\"colorscale\":[[0.0,\"#0d0887\"],[0.1111111111111111,\"#46039f\"],[0.2222222222222222,\"#7201a8\"],[0.3333333333333333,\"#9c179e\"],[0.4444444444444444,\"#bd3786\"],[0.5555555555555556,\"#d8576b\"],[0.6666666666666666,\"#ed7953\"],[0.7777777777777778,\"#fb9f3a\"],[0.8888888888888888,\"#fdca26\"],[1.0,\"#f0f921\"]]}],\"contourcarpet\":[{\"type\":\"contourcarpet\",\"colorbar\":{\"outlinewidth\":0,\"ticks\":\"\"}}],\"contour\":[{\"type\":\"contour\",\"colorbar\":{\"outlinewidth\":0,\"ticks\":\"\"},\"colorscale\":[[0.0,\"#0d0887\"],[0.1111111111111111,\"#46039f\"],[0.2222222222222222,\"#7201a8\"],[0.3333333333333333,\"#9c179e\"],[0.4444444444444444,\"#bd3786\"],[0.5555555555555556,\"#d8576b\"],[0.6666666666666666,\"#ed7953\"],[0.7777777777777778,\"#fb9f3a\"],[0.8888888888888888,\"#fdca26\"],[1.0,\"#f0f921\"]]}],\"surface\":[{\"type\":\"surface\",\"colorbar\":{\"outlinewidth\":0,\"ticks\":\"\"},\"colorscale\":[[0.0,\"#0d0887\"],[0.1111111111111111,\"#46039f\"],[0.2222222222222222,\"#7201a8\"],[0.3333333333333333,\"#9c179e\"],[0.4444444444444444,\"#bd3786\"],[0.5555555555555556,\"#d8576b\"],[0.6666666666666666,\"#ed7953\"],[0.7777777777777778,\"#fb9f3a\"],[0.8888888888888888,\"#fdca26\"],[1.0,\"#f0f921\"]]}],\"mesh3d\":[{\"type\":\"mesh3d\",\"colorbar\":{\"outlinewidth\":0,\"ticks\":\"\"}}],\"scatter\":[{\"fillpattern\":{\"fillmode\":\"overlay\",\"size\":10,\"solidity\":0.2},\"type\":\"scatter\"}],\"parcoords\":[{\"type\":\"parcoords\",\"line\":{\"colorbar\":{\"outlinewidth\":0,\"ticks\":\"\"}}}],\"scatterpolargl\":[{\"type\":\"scatterpolargl\",\"marker\":{\"colorbar\":{\"outlinewidth\":0,\"ticks\":\"\"}}}],\"bar\":[{\"error_x\":{\"color\":\"#2a3f5f\"},\"error_y\":{\"color\":\"#2a3f5f\"},\"marker\":{\"line\":{\"color\":\"#E5ECF6\",\"width\":0.5},\"pattern\":{\"fillmode\":\"overlay\",\"size\":10,\"solidity\":0.2}},\"type\":\"bar\"}],\"scattergeo\":[{\"type\":\"scattergeo\",\"marker\":{\"colorbar\":{\"outlinewidth\":0,\"ticks\":\"\"}}}],\"scatterpolar\":[{\"type\":\"scatterpolar\",\"marker\":{\"colorbar\":{\"outlinewidth\":0,\"ticks\":\"\"}}}],\"histogram\":[{\"marker\":{\"pattern\":{\"fillmode\":\"overlay\",\"size\":10,\"solidity\":0.2}},\"type\":\"histogram\"}],\"scattergl\":[{\"type\":\"scattergl\",\"marker\":{\"colorbar\":{\"outlinewidth\":0,\"ticks\":\"\"}}}],\"scatter3d\":[{\"type\":\"scatter3d\",\"line\":{\"colorbar\":{\"outlinewidth\":0,\"ticks\":\"\"}},\"marker\":{\"colorbar\":{\"outlinewidth\":0,\"ticks\":\"\"}}}],\"scattermapbox\":[{\"type\":\"scattermapbox\",\"marker\":{\"colorbar\":{\"outlinewidth\":0,\"ticks\":\"\"}}}],\"scatterternary\":[{\"type\":\"scatterternary\",\"marker\":{\"colorbar\":{\"outlinewidth\":0,\"ticks\":\"\"}}}],\"scattercarpet\":[{\"type\":\"scattercarpet\",\"marker\":{\"colorbar\":{\"outlinewidth\":0,\"ticks\":\"\"}}}],\"carpet\":[{\"aaxis\":{\"endlinecolor\":\"#2a3f5f\",\"gridcolor\":\"white\",\"linecolor\":\"white\",\"minorgridcolor\":\"white\",\"startlinecolor\":\"#2a3f5f\"},\"baxis\":{\"endlinecolor\":\"#2a3f5f\",\"gridcolor\":\"white\",\"linecolor\":\"white\",\"minorgridcolor\":\"white\",\"startlinecolor\":\"#2a3f5f\"},\"type\":\"carpet\"}],\"table\":[{\"cells\":{\"fill\":{\"color\":\"#EBF0F8\"},\"line\":{\"color\":\"white\"}},\"header\":{\"fill\":{\"color\":\"#C8D4E3\"},\"line\":{\"color\":\"white\"}},\"type\":\"table\"}],\"barpolar\":[{\"marker\":{\"line\":{\"color\":\"#E5ECF6\",\"width\":0.5},\"pattern\":{\"fillmode\":\"overlay\",\"size\":10,\"solidity\":0.2}},\"type\":\"barpolar\"}],\"pie\":[{\"automargin\":true,\"type\":\"pie\"}]},\"layout\":{\"autotypenumbers\":\"strict\",\"colorway\":[\"#636efa\",\"#EF553B\",\"#00cc96\",\"#ab63fa\",\"#FFA15A\",\"#19d3f3\",\"#FF6692\",\"#B6E880\",\"#FF97FF\",\"#FECB52\"],\"font\":{\"color\":\"#2a3f5f\"},\"hovermode\":\"closest\",\"hoverlabel\":{\"align\":\"left\"},\"paper_bgcolor\":\"white\",\"plot_bgcolor\":\"#E5ECF6\",\"polar\":{\"bgcolor\":\"#E5ECF6\",\"angularaxis\":{\"gridcolor\":\"white\",\"linecolor\":\"white\",\"ticks\":\"\"},\"radialaxis\":{\"gridcolor\":\"white\",\"linecolor\":\"white\",\"ticks\":\"\"}},\"ternary\":{\"bgcolor\":\"#E5ECF6\",\"aaxis\":{\"gridcolor\":\"white\",\"linecolor\":\"white\",\"ticks\":\"\"},\"baxis\":{\"gridcolor\":\"white\",\"linecolor\":\"white\",\"ticks\":\"\"},\"caxis\":{\"gridcolor\":\"white\",\"linecolor\":\"white\",\"ticks\":\"\"}},\"coloraxis\":{\"colorbar\":{\"outlinewidth\":0,\"ticks\":\"\"}},\"colorscale\":{\"sequential\":[[0.0,\"#0d0887\"],[0.1111111111111111,\"#46039f\"],[0.2222222222222222,\"#7201a8\"],[0.3333333333333333,\"#9c179e\"],[0.4444444444444444,\"#bd3786\"],[0.5555555555555556,\"#d8576b\"],[0.6666666666666666,\"#ed7953\"],[0.7777777777777778,\"#fb9f3a\"],[0.8888888888888888,\"#fdca26\"],[1.0,\"#f0f921\"]],\"sequentialminus\":[[0.0,\"#0d0887\"],[0.1111111111111111,\"#46039f\"],[0.2222222222222222,\"#7201a8\"],[0.3333333333333333,\"#9c179e\"],[0.4444444444444444,\"#bd3786\"],[0.5555555555555556,\"#d8576b\"],[0.6666666666666666,\"#ed7953\"],[0.7777777777777778,\"#fb9f3a\"],[0.8888888888888888,\"#fdca26\"],[1.0,\"#f0f921\"]],\"diverging\":[[0,\"#8e0152\"],[0.1,\"#c51b7d\"],[0.2,\"#de77ae\"],[0.3,\"#f1b6da\"],[0.4,\"#fde0ef\"],[0.5,\"#f7f7f7\"],[0.6,\"#e6f5d0\"],[0.7,\"#b8e186\"],[0.8,\"#7fbc41\"],[0.9,\"#4d9221\"],[1,\"#276419\"]]},\"xaxis\":{\"gridcolor\":\"white\",\"linecolor\":\"white\",\"ticks\":\"\",\"title\":{\"standoff\":15},\"zerolinecolor\":\"white\",\"automargin\":true,\"zerolinewidth\":2},\"yaxis\":{\"gridcolor\":\"white\",\"linecolor\":\"white\",\"ticks\":\"\",\"title\":{\"standoff\":15},\"zerolinecolor\":\"white\",\"automargin\":true,\"zerolinewidth\":2},\"scene\":{\"xaxis\":{\"backgroundcolor\":\"#E5ECF6\",\"gridcolor\":\"white\",\"linecolor\":\"white\",\"showbackground\":true,\"ticks\":\"\",\"zerolinecolor\":\"white\",\"gridwidth\":2},\"yaxis\":{\"backgroundcolor\":\"#E5ECF6\",\"gridcolor\":\"white\",\"linecolor\":\"white\",\"showbackground\":true,\"ticks\":\"\",\"zerolinecolor\":\"white\",\"gridwidth\":2},\"zaxis\":{\"backgroundcolor\":\"#E5ECF6\",\"gridcolor\":\"white\",\"linecolor\":\"white\",\"showbackground\":true,\"ticks\":\"\",\"zerolinecolor\":\"white\",\"gridwidth\":2}},\"shapedefaults\":{\"line\":{\"color\":\"#2a3f5f\"}},\"annotationdefaults\":{\"arrowcolor\":\"#2a3f5f\",\"arrowhead\":0,\"arrowwidth\":1},\"geo\":{\"bgcolor\":\"white\",\"landcolor\":\"#E5ECF6\",\"subunitcolor\":\"white\",\"showland\":true,\"showlakes\":true,\"lakecolor\":\"white\"},\"title\":{\"x\":0.05},\"mapbox\":{\"style\":\"light\"}}},\"xaxis\":{\"anchor\":\"y\",\"domain\":[0.0,0.94],\"title\":{\"text\":\"data\"}},\"yaxis\":{\"anchor\":\"x\",\"domain\":[0.0,1.0],\"title\":{\"text\":\"predics\"}},\"yaxis2\":{\"anchor\":\"x\",\"overlaying\":\"y\",\"side\":\"right\",\"title\":{\"text\":\"% error\"},\"range\":[-20,20],\"showgrid\":false,\"tick0\":-5,\"dtick\":2}},                        {\"responsive\": true}                    ).then(function(){\n",
              "                            \n",
              "var gd = document.getElementById('3a92bfa9-8bb6-4fc1-88b2-3a0957bc75ec');\n",
              "var x = new MutationObserver(function (mutations, observer) {{\n",
              "        var display = window.getComputedStyle(gd).display;\n",
              "        if (!display || display === 'none') {{\n",
              "            console.log([gd, 'removed!']);\n",
              "            Plotly.purge(gd);\n",
              "            observer.disconnect();\n",
              "        }}\n",
              "}});\n",
              "\n",
              "// Listen for the removal of the full notebook cells\n",
              "var notebookContainer = gd.closest('#notebook-container');\n",
              "if (notebookContainer) {{\n",
              "    x.observe(notebookContainer, {childList: true});\n",
              "}}\n",
              "\n",
              "// Listen for the clearing of the current output cell\n",
              "var outputEl = gd.closest('.output');\n",
              "if (outputEl) {{\n",
              "    x.observe(outputEl, {childList: true});\n",
              "}}\n",
              "\n",
              "                        })                };                            </script>        </div>\n",
              "</body>\n",
              "</html>"
            ]
          },
          "metadata": {}
        }
      ]
    },
    {
      "cell_type": "code",
      "source": [
        "fig = make_subplots(specs=[[{\"secondary_y\": True}]])\n",
        "fig.add_trace(go.Scatter(x=X1[:,0], y=T1[:,0], mode='markers', marker_color='blue', name='data'),secondary_y=False)\n",
        "fig.add_trace(go.Scatter(x=X1[:,0], y=errors1[:,0], mode='markers', marker_size=4, marker_color='orange', name='errors'),secondary_y=True)\n",
        "\n",
        "X_mean, X_wigth = X1[:,0].mean(), X1[:,0].max()-X1[:,0].mean()\n",
        "X_extended=np.linspace(X_mean-2*X_wigth, X_mean+2*X_wigth, 51)\n",
        "\n",
        "fig.add_trace(go.Scatter(x=X_extended, y=scaler_T1.inverse_transform(svr1.predict(scaler_X1.transform(X_extended.reshape(51,1))).reshape(-1,1))[:,0], mode='markers', marker_size=3, name='extenden prediction'),secondary_y=False)\n",
        "fig.add_trace(go.Scatter(x=X1[:,0], y=predics1[:,0], mode='markers', marker_color='black', name='prediction'),secondary_y=False)\n",
        "\n",
        "fig.update_xaxes(title_text=\"x_axis\")\n",
        "\n",
        "# Set y-axes titles\n",
        "fig.update_yaxes(title_text=\"data, predics\", secondary_y=False)\n",
        "fig.update_yaxes(title_text=\"% error\", range=[-20, 20], secondary_y=True, showgrid=False, tick0=-5, dtick=2)\n",
        "\n",
        "fig.show()"
      ],
      "metadata": {
        "colab": {
          "base_uri": "https://localhost:8080/",
          "height": 542
        },
        "id": "uafdN_anXNEQ",
        "outputId": "623159a1-27ca-45b0-e297-0edda5b40c68"
      },
      "execution_count": 56,
      "outputs": [
        {
          "output_type": "display_data",
          "data": {
            "text/html": [
              "<html>\n",
              "<head><meta charset=\"utf-8\" /></head>\n",
              "<body>\n",
              "    <div>            <script src=\"https://cdnjs.cloudflare.com/ajax/libs/mathjax/2.7.5/MathJax.js?config=TeX-AMS-MML_SVG\"></script><script type=\"text/javascript\">if (window.MathJax && window.MathJax.Hub && window.MathJax.Hub.Config) {window.MathJax.Hub.Config({SVG: {font: \"STIX-Web\"}});}</script>                <script type=\"text/javascript\">window.PlotlyConfig = {MathJaxConfig: 'local'};</script>\n",
              "        <script charset=\"utf-8\" src=\"https://cdn.plot.ly/plotly-2.24.1.min.js\"></script>                <div id=\"0bf0ffb9-da16-465c-9fdd-23a774c21315\" class=\"plotly-graph-div\" style=\"height:525px; width:100%;\"></div>            <script type=\"text/javascript\">                                    window.PLOTLYENV=window.PLOTLYENV || {};                                    if (document.getElementById(\"0bf0ffb9-da16-465c-9fdd-23a774c21315\")) {                    Plotly.newPlot(                        \"0bf0ffb9-da16-465c-9fdd-23a774c21315\",                        [{\"marker\":{\"color\":\"blue\"},\"mode\":\"markers\",\"name\":\"data\",\"x\":[-1.0,-0.7,-0.4,-0.10000000000000009,0.19999999999999996,0.5,0.7999999999999998,1.1,1.4,1.6999999999999997,2.0],\"y\":[2.0,1.49,1.1600000000000001,1.01,1.04,1.25,1.6399999999999997,2.21,2.96,3.8899999999999992,5.0],\"type\":\"scatter\",\"xaxis\":\"x\",\"yaxis\":\"y\"},{\"marker\":{\"color\":\"orange\",\"size\":4},\"mode\":\"markers\",\"name\":\"errors\",\"x\":[-1.0,-0.7,-0.4,-0.10000000000000009,0.19999999999999996,0.5,0.7999999999999998,1.1,1.4,1.6999999999999997,2.0],\"y\":[-5.483456944806164,5.319384768066809,10.685994872138817,12.26986720139327,11.638636457596338,8.716656875898021,6.0668269076866395,5.607496758350786,4.1640134934411535,-3.221793446660832,-17.86527736047203],\"type\":\"scatter\",\"xaxis\":\"x\",\"yaxis\":\"y2\"},{\"marker\":{\"size\":3},\"mode\":\"markers\",\"name\":\"extenden prediction\",\"x\":[-2.5,-2.38,-2.26,-2.14,-2.02,-1.9,-1.78,-1.6600000000000001,-1.54,-1.42,-1.3,-1.1800000000000002,-1.06,-0.94,-0.8200000000000001,-0.7000000000000002,-0.5800000000000001,-0.45999999999999996,-0.33999999999999986,-0.2200000000000002,-0.10000000000000009,0.020000000000000018,0.13999999999999968,0.2599999999999998,0.3799999999999999,0.5,0.6200000000000001,0.7399999999999998,0.8599999999999999,0.98,1.0999999999999996,1.2199999999999998,1.3399999999999999,1.46,1.58,1.7000000000000002,1.8200000000000003,1.9399999999999995,2.0599999999999996,2.1799999999999997,2.3,2.42,2.54,2.66,2.7799999999999994,2.8999999999999995,3.0199999999999996,3.1399999999999997,3.26,3.38,3.5],\"y\":[2.438547912982971,2.4358919166137425,2.431459542837568,2.424305059656915,2.4131390029491855,2.396296012765731,2.3717534477656055,2.3372276800438128,2.2903702984062866,2.2290723266146926,2.151860467974604,2.0583382330762636,1.949593611031712,1.8284740570458151,1.6996301134043768,1.5692588330441959,1.444537656689936,1.3328184435004184,1.2407299021593534,1.173389091893509,1.133925658734072,1.1234640704975272,1.141595534351791,1.1872285428332132,1.2595756764708326,1.3589582109487253,1.4871220347309864,1.6468675969995004,1.840982413194319,2.0706794118285807,2.3339256783595514,2.624135155968679,2.92965963244945,3.2343452452857457,3.519166220567329,3.7646722349248933,3.953768271063086,4.074248664389325,4.120557803148376,4.094432682450176,4.004343458300117,3.863913724340647,3.6897026647236872,3.498821335704083,3.3068255433626526,3.126202658347392,2.96559576878564,2.8297371938114546,2.7199351318457365,2.634892589468142,2.5716359666632354],\"type\":\"scatter\",\"xaxis\":\"x\",\"yaxis\":\"y\"},{\"marker\":{\"color\":\"black\"},\"mode\":\"markers\",\"name\":\"prediction\",\"x\":[-1.0,-0.7,-0.4,-0.10000000000000009,0.19999999999999996,0.5,0.7999999999999998,1.1,1.4,1.6999999999999997,2.0],\"y\":[1.8903308611038767,1.5692588330441954,1.2839575405168104,1.133925658734072,1.161041819159002,1.3589582109487253,1.7394959612860605,2.3339256783595523,3.083254799405858,3.764672234924893,4.106736131976398],\"type\":\"scatter\",\"xaxis\":\"x\",\"yaxis\":\"y\"}],                        {\"template\":{\"data\":{\"histogram2dcontour\":[{\"type\":\"histogram2dcontour\",\"colorbar\":{\"outlinewidth\":0,\"ticks\":\"\"},\"colorscale\":[[0.0,\"#0d0887\"],[0.1111111111111111,\"#46039f\"],[0.2222222222222222,\"#7201a8\"],[0.3333333333333333,\"#9c179e\"],[0.4444444444444444,\"#bd3786\"],[0.5555555555555556,\"#d8576b\"],[0.6666666666666666,\"#ed7953\"],[0.7777777777777778,\"#fb9f3a\"],[0.8888888888888888,\"#fdca26\"],[1.0,\"#f0f921\"]]}],\"choropleth\":[{\"type\":\"choropleth\",\"colorbar\":{\"outlinewidth\":0,\"ticks\":\"\"}}],\"histogram2d\":[{\"type\":\"histogram2d\",\"colorbar\":{\"outlinewidth\":0,\"ticks\":\"\"},\"colorscale\":[[0.0,\"#0d0887\"],[0.1111111111111111,\"#46039f\"],[0.2222222222222222,\"#7201a8\"],[0.3333333333333333,\"#9c179e\"],[0.4444444444444444,\"#bd3786\"],[0.5555555555555556,\"#d8576b\"],[0.6666666666666666,\"#ed7953\"],[0.7777777777777778,\"#fb9f3a\"],[0.8888888888888888,\"#fdca26\"],[1.0,\"#f0f921\"]]}],\"heatmap\":[{\"type\":\"heatmap\",\"colorbar\":{\"outlinewidth\":0,\"ticks\":\"\"},\"colorscale\":[[0.0,\"#0d0887\"],[0.1111111111111111,\"#46039f\"],[0.2222222222222222,\"#7201a8\"],[0.3333333333333333,\"#9c179e\"],[0.4444444444444444,\"#bd3786\"],[0.5555555555555556,\"#d8576b\"],[0.6666666666666666,\"#ed7953\"],[0.7777777777777778,\"#fb9f3a\"],[0.8888888888888888,\"#fdca26\"],[1.0,\"#f0f921\"]]}],\"heatmapgl\":[{\"type\":\"heatmapgl\",\"colorbar\":{\"outlinewidth\":0,\"ticks\":\"\"},\"colorscale\":[[0.0,\"#0d0887\"],[0.1111111111111111,\"#46039f\"],[0.2222222222222222,\"#7201a8\"],[0.3333333333333333,\"#9c179e\"],[0.4444444444444444,\"#bd3786\"],[0.5555555555555556,\"#d8576b\"],[0.6666666666666666,\"#ed7953\"],[0.7777777777777778,\"#fb9f3a\"],[0.8888888888888888,\"#fdca26\"],[1.0,\"#f0f921\"]]}],\"contourcarpet\":[{\"type\":\"contourcarpet\",\"colorbar\":{\"outlinewidth\":0,\"ticks\":\"\"}}],\"contour\":[{\"type\":\"contour\",\"colorbar\":{\"outlinewidth\":0,\"ticks\":\"\"},\"colorscale\":[[0.0,\"#0d0887\"],[0.1111111111111111,\"#46039f\"],[0.2222222222222222,\"#7201a8\"],[0.3333333333333333,\"#9c179e\"],[0.4444444444444444,\"#bd3786\"],[0.5555555555555556,\"#d8576b\"],[0.6666666666666666,\"#ed7953\"],[0.7777777777777778,\"#fb9f3a\"],[0.8888888888888888,\"#fdca26\"],[1.0,\"#f0f921\"]]}],\"surface\":[{\"type\":\"surface\",\"colorbar\":{\"outlinewidth\":0,\"ticks\":\"\"},\"colorscale\":[[0.0,\"#0d0887\"],[0.1111111111111111,\"#46039f\"],[0.2222222222222222,\"#7201a8\"],[0.3333333333333333,\"#9c179e\"],[0.4444444444444444,\"#bd3786\"],[0.5555555555555556,\"#d8576b\"],[0.6666666666666666,\"#ed7953\"],[0.7777777777777778,\"#fb9f3a\"],[0.8888888888888888,\"#fdca26\"],[1.0,\"#f0f921\"]]}],\"mesh3d\":[{\"type\":\"mesh3d\",\"colorbar\":{\"outlinewidth\":0,\"ticks\":\"\"}}],\"scatter\":[{\"fillpattern\":{\"fillmode\":\"overlay\",\"size\":10,\"solidity\":0.2},\"type\":\"scatter\"}],\"parcoords\":[{\"type\":\"parcoords\",\"line\":{\"colorbar\":{\"outlinewidth\":0,\"ticks\":\"\"}}}],\"scatterpolargl\":[{\"type\":\"scatterpolargl\",\"marker\":{\"colorbar\":{\"outlinewidth\":0,\"ticks\":\"\"}}}],\"bar\":[{\"error_x\":{\"color\":\"#2a3f5f\"},\"error_y\":{\"color\":\"#2a3f5f\"},\"marker\":{\"line\":{\"color\":\"#E5ECF6\",\"width\":0.5},\"pattern\":{\"fillmode\":\"overlay\",\"size\":10,\"solidity\":0.2}},\"type\":\"bar\"}],\"scattergeo\":[{\"type\":\"scattergeo\",\"marker\":{\"colorbar\":{\"outlinewidth\":0,\"ticks\":\"\"}}}],\"scatterpolar\":[{\"type\":\"scatterpolar\",\"marker\":{\"colorbar\":{\"outlinewidth\":0,\"ticks\":\"\"}}}],\"histogram\":[{\"marker\":{\"pattern\":{\"fillmode\":\"overlay\",\"size\":10,\"solidity\":0.2}},\"type\":\"histogram\"}],\"scattergl\":[{\"type\":\"scattergl\",\"marker\":{\"colorbar\":{\"outlinewidth\":0,\"ticks\":\"\"}}}],\"scatter3d\":[{\"type\":\"scatter3d\",\"line\":{\"colorbar\":{\"outlinewidth\":0,\"ticks\":\"\"}},\"marker\":{\"colorbar\":{\"outlinewidth\":0,\"ticks\":\"\"}}}],\"scattermapbox\":[{\"type\":\"scattermapbox\",\"marker\":{\"colorbar\":{\"outlinewidth\":0,\"ticks\":\"\"}}}],\"scatterternary\":[{\"type\":\"scatterternary\",\"marker\":{\"colorbar\":{\"outlinewidth\":0,\"ticks\":\"\"}}}],\"scattercarpet\":[{\"type\":\"scattercarpet\",\"marker\":{\"colorbar\":{\"outlinewidth\":0,\"ticks\":\"\"}}}],\"carpet\":[{\"aaxis\":{\"endlinecolor\":\"#2a3f5f\",\"gridcolor\":\"white\",\"linecolor\":\"white\",\"minorgridcolor\":\"white\",\"startlinecolor\":\"#2a3f5f\"},\"baxis\":{\"endlinecolor\":\"#2a3f5f\",\"gridcolor\":\"white\",\"linecolor\":\"white\",\"minorgridcolor\":\"white\",\"startlinecolor\":\"#2a3f5f\"},\"type\":\"carpet\"}],\"table\":[{\"cells\":{\"fill\":{\"color\":\"#EBF0F8\"},\"line\":{\"color\":\"white\"}},\"header\":{\"fill\":{\"color\":\"#C8D4E3\"},\"line\":{\"color\":\"white\"}},\"type\":\"table\"}],\"barpolar\":[{\"marker\":{\"line\":{\"color\":\"#E5ECF6\",\"width\":0.5},\"pattern\":{\"fillmode\":\"overlay\",\"size\":10,\"solidity\":0.2}},\"type\":\"barpolar\"}],\"pie\":[{\"automargin\":true,\"type\":\"pie\"}]},\"layout\":{\"autotypenumbers\":\"strict\",\"colorway\":[\"#636efa\",\"#EF553B\",\"#00cc96\",\"#ab63fa\",\"#FFA15A\",\"#19d3f3\",\"#FF6692\",\"#B6E880\",\"#FF97FF\",\"#FECB52\"],\"font\":{\"color\":\"#2a3f5f\"},\"hovermode\":\"closest\",\"hoverlabel\":{\"align\":\"left\"},\"paper_bgcolor\":\"white\",\"plot_bgcolor\":\"#E5ECF6\",\"polar\":{\"bgcolor\":\"#E5ECF6\",\"angularaxis\":{\"gridcolor\":\"white\",\"linecolor\":\"white\",\"ticks\":\"\"},\"radialaxis\":{\"gridcolor\":\"white\",\"linecolor\":\"white\",\"ticks\":\"\"}},\"ternary\":{\"bgcolor\":\"#E5ECF6\",\"aaxis\":{\"gridcolor\":\"white\",\"linecolor\":\"white\",\"ticks\":\"\"},\"baxis\":{\"gridcolor\":\"white\",\"linecolor\":\"white\",\"ticks\":\"\"},\"caxis\":{\"gridcolor\":\"white\",\"linecolor\":\"white\",\"ticks\":\"\"}},\"coloraxis\":{\"colorbar\":{\"outlinewidth\":0,\"ticks\":\"\"}},\"colorscale\":{\"sequential\":[[0.0,\"#0d0887\"],[0.1111111111111111,\"#46039f\"],[0.2222222222222222,\"#7201a8\"],[0.3333333333333333,\"#9c179e\"],[0.4444444444444444,\"#bd3786\"],[0.5555555555555556,\"#d8576b\"],[0.6666666666666666,\"#ed7953\"],[0.7777777777777778,\"#fb9f3a\"],[0.8888888888888888,\"#fdca26\"],[1.0,\"#f0f921\"]],\"sequentialminus\":[[0.0,\"#0d0887\"],[0.1111111111111111,\"#46039f\"],[0.2222222222222222,\"#7201a8\"],[0.3333333333333333,\"#9c179e\"],[0.4444444444444444,\"#bd3786\"],[0.5555555555555556,\"#d8576b\"],[0.6666666666666666,\"#ed7953\"],[0.7777777777777778,\"#fb9f3a\"],[0.8888888888888888,\"#fdca26\"],[1.0,\"#f0f921\"]],\"diverging\":[[0,\"#8e0152\"],[0.1,\"#c51b7d\"],[0.2,\"#de77ae\"],[0.3,\"#f1b6da\"],[0.4,\"#fde0ef\"],[0.5,\"#f7f7f7\"],[0.6,\"#e6f5d0\"],[0.7,\"#b8e186\"],[0.8,\"#7fbc41\"],[0.9,\"#4d9221\"],[1,\"#276419\"]]},\"xaxis\":{\"gridcolor\":\"white\",\"linecolor\":\"white\",\"ticks\":\"\",\"title\":{\"standoff\":15},\"zerolinecolor\":\"white\",\"automargin\":true,\"zerolinewidth\":2},\"yaxis\":{\"gridcolor\":\"white\",\"linecolor\":\"white\",\"ticks\":\"\",\"title\":{\"standoff\":15},\"zerolinecolor\":\"white\",\"automargin\":true,\"zerolinewidth\":2},\"scene\":{\"xaxis\":{\"backgroundcolor\":\"#E5ECF6\",\"gridcolor\":\"white\",\"linecolor\":\"white\",\"showbackground\":true,\"ticks\":\"\",\"zerolinecolor\":\"white\",\"gridwidth\":2},\"yaxis\":{\"backgroundcolor\":\"#E5ECF6\",\"gridcolor\":\"white\",\"linecolor\":\"white\",\"showbackground\":true,\"ticks\":\"\",\"zerolinecolor\":\"white\",\"gridwidth\":2},\"zaxis\":{\"backgroundcolor\":\"#E5ECF6\",\"gridcolor\":\"white\",\"linecolor\":\"white\",\"showbackground\":true,\"ticks\":\"\",\"zerolinecolor\":\"white\",\"gridwidth\":2}},\"shapedefaults\":{\"line\":{\"color\":\"#2a3f5f\"}},\"annotationdefaults\":{\"arrowcolor\":\"#2a3f5f\",\"arrowhead\":0,\"arrowwidth\":1},\"geo\":{\"bgcolor\":\"white\",\"landcolor\":\"#E5ECF6\",\"subunitcolor\":\"white\",\"showland\":true,\"showlakes\":true,\"lakecolor\":\"white\"},\"title\":{\"x\":0.05},\"mapbox\":{\"style\":\"light\"}}},\"xaxis\":{\"anchor\":\"y\",\"domain\":[0.0,0.94],\"title\":{\"text\":\"x_axis\"}},\"yaxis\":{\"anchor\":\"x\",\"domain\":[0.0,1.0],\"title\":{\"text\":\"data, predics\"}},\"yaxis2\":{\"anchor\":\"x\",\"overlaying\":\"y\",\"side\":\"right\",\"title\":{\"text\":\"% error\"},\"range\":[-20,20],\"showgrid\":false,\"tick0\":-5,\"dtick\":2}},                        {\"responsive\": true}                    ).then(function(){\n",
              "                            \n",
              "var gd = document.getElementById('0bf0ffb9-da16-465c-9fdd-23a774c21315');\n",
              "var x = new MutationObserver(function (mutations, observer) {{\n",
              "        var display = window.getComputedStyle(gd).display;\n",
              "        if (!display || display === 'none') {{\n",
              "            console.log([gd, 'removed!']);\n",
              "            Plotly.purge(gd);\n",
              "            observer.disconnect();\n",
              "        }}\n",
              "}});\n",
              "\n",
              "// Listen for the removal of the full notebook cells\n",
              "var notebookContainer = gd.closest('#notebook-container');\n",
              "if (notebookContainer) {{\n",
              "    x.observe(notebookContainer, {childList: true});\n",
              "}}\n",
              "\n",
              "// Listen for the clearing of the current output cell\n",
              "var outputEl = gd.closest('.output');\n",
              "if (outputEl) {{\n",
              "    x.observe(outputEl, {childList: true});\n",
              "}}\n",
              "\n",
              "                        })                };                            </script>        </div>\n",
              "</body>\n",
              "</html>"
            ]
          },
          "metadata": {}
        }
      ]
    },
    {
      "cell_type": "markdown",
      "source": [
        "## 1_2"
      ],
      "metadata": {
        "id": "2EaleSsQa3-V"
      }
    },
    {
      "cell_type": "code",
      "source": [
        "svr1_2=SVR(kernel='poly')\n",
        "svr1_2.fit(X_sc1,T_sc1.ravel())\n",
        "predics1_2=scaler_T1.inverse_transform(svr1_2.predict(X_sc1).reshape(-1,1))\n",
        "# predics1_2"
      ],
      "metadata": {
        "id": "NV7XwmHDYAxM"
      },
      "execution_count": 69,
      "outputs": []
    },
    {
      "cell_type": "code",
      "source": [
        "fig = make_subplots(specs=[[{\"secondary_y\": True}]])\n",
        "fig.add_trace(go.Scatter(x=X1[:,0], y=T1[:,0], mode='markers', marker_color='blue', name='data'),secondary_y=False)\n",
        "# fig.add_trace(go.Scatter(x=X1[:,0], y=errors1[:,0], mode='markers', marker_size=4, marker_color='orange', name='errors'),secondary_y=True)\n",
        "\n",
        "X_mean, X_wigth = X1[:,0].mean(), X1[:,0].max()-X1[:,0].mean()\n",
        "X_extended=np.linspace(X_mean-2*X_wigth, X_mean+2*X_wigth, 51)\n",
        "\n",
        "fig.add_trace(go.Scatter(x=X_extended, y=scaler_T1.inverse_transform(svr1_2.predict(scaler_X1.transform(X_extended.reshape(-1,1))).reshape(-1,1))[:,0], mode='markers', marker_size=3, name='extenden prediction'),secondary_y=False)\n",
        "fig.add_trace(go.Scatter(x=X1[:,0], y=predics1_2[:,0], mode='markers', marker_color='black', name='prediction'),secondary_y=False)\n",
        "\n",
        "fig.update_xaxes(title_text=\"x_axis\")\n",
        "\n",
        "# Set y-axes titles\n",
        "fig.update_yaxes(title_text=\"data, predics\", secondary_y=False)\n",
        "fig.update_yaxes(title_text=\"% error\", range=[-20, 20], secondary_y=True, showgrid=False, tick0=-5, dtick=2)\n",
        "\n",
        "fig.show()"
      ],
      "metadata": {
        "colab": {
          "base_uri": "https://localhost:8080/",
          "height": 542
        },
        "id": "sX5S8ZNMbB5z",
        "outputId": "002e040d-814b-4659-b732-4e94e66e430d"
      },
      "execution_count": 70,
      "outputs": [
        {
          "output_type": "display_data",
          "data": {
            "text/html": [
              "<html>\n",
              "<head><meta charset=\"utf-8\" /></head>\n",
              "<body>\n",
              "    <div>            <script src=\"https://cdnjs.cloudflare.com/ajax/libs/mathjax/2.7.5/MathJax.js?config=TeX-AMS-MML_SVG\"></script><script type=\"text/javascript\">if (window.MathJax && window.MathJax.Hub && window.MathJax.Hub.Config) {window.MathJax.Hub.Config({SVG: {font: \"STIX-Web\"}});}</script>                <script type=\"text/javascript\">window.PlotlyConfig = {MathJaxConfig: 'local'};</script>\n",
              "        <script charset=\"utf-8\" src=\"https://cdn.plot.ly/plotly-2.24.1.min.js\"></script>                <div id=\"b7aa0ff6-508a-4710-b3d5-7dfe9c3ef3a4\" class=\"plotly-graph-div\" style=\"height:525px; width:100%;\"></div>            <script type=\"text/javascript\">                                    window.PLOTLYENV=window.PLOTLYENV || {};                                    if (document.getElementById(\"b7aa0ff6-508a-4710-b3d5-7dfe9c3ef3a4\")) {                    Plotly.newPlot(                        \"b7aa0ff6-508a-4710-b3d5-7dfe9c3ef3a4\",                        [{\"marker\":{\"color\":\"blue\"},\"mode\":\"markers\",\"name\":\"data\",\"x\":[-1.0,-0.7,-0.4,-0.10000000000000009,0.19999999999999996,0.5,0.7999999999999998,1.1,1.4,1.6999999999999997,2.0],\"y\":[2.0,1.49,1.1600000000000001,1.01,1.04,1.25,1.6399999999999997,2.21,2.96,3.8899999999999992,5.0],\"type\":\"scatter\",\"xaxis\":\"x\",\"yaxis\":\"y\"},{\"marker\":{\"size\":3},\"mode\":\"markers\",\"name\":\"extenden prediction\",\"x\":[-2.5,-2.38,-2.26,-2.14,-2.02,-1.9,-1.78,-1.6600000000000001,-1.54,-1.42,-1.3,-1.1800000000000002,-1.06,-0.94,-0.8200000000000001,-0.7000000000000002,-0.5800000000000001,-0.45999999999999996,-0.33999999999999986,-0.2200000000000002,-0.10000000000000009,0.020000000000000018,0.13999999999999968,0.2599999999999998,0.3799999999999999,0.5,0.6200000000000001,0.7399999999999998,0.8599999999999999,0.98,1.0999999999999996,1.2199999999999998,1.3399999999999999,1.46,1.58,1.7000000000000002,1.8200000000000003,1.9399999999999995,2.0599999999999996,2.1799999999999997,2.3,2.42,2.54,2.66,2.7799999999999994,2.8999999999999995,3.0199999999999996,3.1399999999999997,3.26,3.38,3.5],\"y\":[-1.0637659969850022,-0.9437659934283356,-0.8237659898716747,-0.7037659863150112,-0.5837659827583459,-0.46376597920168416,-0.3437659756450211,-0.22376597208835847,-0.10376596853169318,0.016234035024969007,0.1362340385816312,0.25623404213829604,0.37623404569495866,0.4962340492516233,0.6162340528082859,0.7362340563649483,0.8562340599216121,0.9762340634782758,1.0962340670349393,1.2162340705916028,1.3362340741482654,1.456234077704929,1.5762340812615923,1.6962340848182555,1.816234088374919,1.9362340919315826,2.056234095488246,2.1762340990449087,2.2962341026015722,2.4162341061582358,2.536234109714899,2.6562341132715623,2.776234116828226,2.8962341203848894,3.016234123941553,3.1362341274982164,3.256234131054879,3.3762341346115425,3.496234138168206,3.6162341417248687,3.7362341452815317,3.8562341488381957,3.976234152394858,4.096234155951523,4.2162341595081845,4.33623416306485,4.4562341666215115,4.576234170178175,4.696234173734839,4.8162341772915,4.936234180848167],\"type\":\"scatter\",\"xaxis\":\"x\",\"yaxis\":\"y\"},{\"marker\":{\"color\":\"black\"},\"mode\":\"markers\",\"name\":\"prediction\",\"x\":[-1.0,-0.7,-0.4,-0.10000000000000009,0.19999999999999996,0.5,0.7999999999999998,1.1,1.4,1.6999999999999997,2.0],\"y\":[0.4362340474732904,0.7362340563649494,1.0362340652566078,1.3362340741482654,1.6362340830399242,1.9362340919315826,2.236234100823241,2.5362341097148997,2.836234118606557,3.136234127498216,3.4362341363898747],\"type\":\"scatter\",\"xaxis\":\"x\",\"yaxis\":\"y\"}],                        {\"template\":{\"data\":{\"histogram2dcontour\":[{\"type\":\"histogram2dcontour\",\"colorbar\":{\"outlinewidth\":0,\"ticks\":\"\"},\"colorscale\":[[0.0,\"#0d0887\"],[0.1111111111111111,\"#46039f\"],[0.2222222222222222,\"#7201a8\"],[0.3333333333333333,\"#9c179e\"],[0.4444444444444444,\"#bd3786\"],[0.5555555555555556,\"#d8576b\"],[0.6666666666666666,\"#ed7953\"],[0.7777777777777778,\"#fb9f3a\"],[0.8888888888888888,\"#fdca26\"],[1.0,\"#f0f921\"]]}],\"choropleth\":[{\"type\":\"choropleth\",\"colorbar\":{\"outlinewidth\":0,\"ticks\":\"\"}}],\"histogram2d\":[{\"type\":\"histogram2d\",\"colorbar\":{\"outlinewidth\":0,\"ticks\":\"\"},\"colorscale\":[[0.0,\"#0d0887\"],[0.1111111111111111,\"#46039f\"],[0.2222222222222222,\"#7201a8\"],[0.3333333333333333,\"#9c179e\"],[0.4444444444444444,\"#bd3786\"],[0.5555555555555556,\"#d8576b\"],[0.6666666666666666,\"#ed7953\"],[0.7777777777777778,\"#fb9f3a\"],[0.8888888888888888,\"#fdca26\"],[1.0,\"#f0f921\"]]}],\"heatmap\":[{\"type\":\"heatmap\",\"colorbar\":{\"outlinewidth\":0,\"ticks\":\"\"},\"colorscale\":[[0.0,\"#0d0887\"],[0.1111111111111111,\"#46039f\"],[0.2222222222222222,\"#7201a8\"],[0.3333333333333333,\"#9c179e\"],[0.4444444444444444,\"#bd3786\"],[0.5555555555555556,\"#d8576b\"],[0.6666666666666666,\"#ed7953\"],[0.7777777777777778,\"#fb9f3a\"],[0.8888888888888888,\"#fdca26\"],[1.0,\"#f0f921\"]]}],\"heatmapgl\":[{\"type\":\"heatmapgl\",\"colorbar\":{\"outlinewidth\":0,\"ticks\":\"\"},\"colorscale\":[[0.0,\"#0d0887\"],[0.1111111111111111,\"#46039f\"],[0.2222222222222222,\"#7201a8\"],[0.3333333333333333,\"#9c179e\"],[0.4444444444444444,\"#bd3786\"],[0.5555555555555556,\"#d8576b\"],[0.6666666666666666,\"#ed7953\"],[0.7777777777777778,\"#fb9f3a\"],[0.8888888888888888,\"#fdca26\"],[1.0,\"#f0f921\"]]}],\"contourcarpet\":[{\"type\":\"contourcarpet\",\"colorbar\":{\"outlinewidth\":0,\"ticks\":\"\"}}],\"contour\":[{\"type\":\"contour\",\"colorbar\":{\"outlinewidth\":0,\"ticks\":\"\"},\"colorscale\":[[0.0,\"#0d0887\"],[0.1111111111111111,\"#46039f\"],[0.2222222222222222,\"#7201a8\"],[0.3333333333333333,\"#9c179e\"],[0.4444444444444444,\"#bd3786\"],[0.5555555555555556,\"#d8576b\"],[0.6666666666666666,\"#ed7953\"],[0.7777777777777778,\"#fb9f3a\"],[0.8888888888888888,\"#fdca26\"],[1.0,\"#f0f921\"]]}],\"surface\":[{\"type\":\"surface\",\"colorbar\":{\"outlinewidth\":0,\"ticks\":\"\"},\"colorscale\":[[0.0,\"#0d0887\"],[0.1111111111111111,\"#46039f\"],[0.2222222222222222,\"#7201a8\"],[0.3333333333333333,\"#9c179e\"],[0.4444444444444444,\"#bd3786\"],[0.5555555555555556,\"#d8576b\"],[0.6666666666666666,\"#ed7953\"],[0.7777777777777778,\"#fb9f3a\"],[0.8888888888888888,\"#fdca26\"],[1.0,\"#f0f921\"]]}],\"mesh3d\":[{\"type\":\"mesh3d\",\"colorbar\":{\"outlinewidth\":0,\"ticks\":\"\"}}],\"scatter\":[{\"fillpattern\":{\"fillmode\":\"overlay\",\"size\":10,\"solidity\":0.2},\"type\":\"scatter\"}],\"parcoords\":[{\"type\":\"parcoords\",\"line\":{\"colorbar\":{\"outlinewidth\":0,\"ticks\":\"\"}}}],\"scatterpolargl\":[{\"type\":\"scatterpolargl\",\"marker\":{\"colorbar\":{\"outlinewidth\":0,\"ticks\":\"\"}}}],\"bar\":[{\"error_x\":{\"color\":\"#2a3f5f\"},\"error_y\":{\"color\":\"#2a3f5f\"},\"marker\":{\"line\":{\"color\":\"#E5ECF6\",\"width\":0.5},\"pattern\":{\"fillmode\":\"overlay\",\"size\":10,\"solidity\":0.2}},\"type\":\"bar\"}],\"scattergeo\":[{\"type\":\"scattergeo\",\"marker\":{\"colorbar\":{\"outlinewidth\":0,\"ticks\":\"\"}}}],\"scatterpolar\":[{\"type\":\"scatterpolar\",\"marker\":{\"colorbar\":{\"outlinewidth\":0,\"ticks\":\"\"}}}],\"histogram\":[{\"marker\":{\"pattern\":{\"fillmode\":\"overlay\",\"size\":10,\"solidity\":0.2}},\"type\":\"histogram\"}],\"scattergl\":[{\"type\":\"scattergl\",\"marker\":{\"colorbar\":{\"outlinewidth\":0,\"ticks\":\"\"}}}],\"scatter3d\":[{\"type\":\"scatter3d\",\"line\":{\"colorbar\":{\"outlinewidth\":0,\"ticks\":\"\"}},\"marker\":{\"colorbar\":{\"outlinewidth\":0,\"ticks\":\"\"}}}],\"scattermapbox\":[{\"type\":\"scattermapbox\",\"marker\":{\"colorbar\":{\"outlinewidth\":0,\"ticks\":\"\"}}}],\"scatterternary\":[{\"type\":\"scatterternary\",\"marker\":{\"colorbar\":{\"outlinewidth\":0,\"ticks\":\"\"}}}],\"scattercarpet\":[{\"type\":\"scattercarpet\",\"marker\":{\"colorbar\":{\"outlinewidth\":0,\"ticks\":\"\"}}}],\"carpet\":[{\"aaxis\":{\"endlinecolor\":\"#2a3f5f\",\"gridcolor\":\"white\",\"linecolor\":\"white\",\"minorgridcolor\":\"white\",\"startlinecolor\":\"#2a3f5f\"},\"baxis\":{\"endlinecolor\":\"#2a3f5f\",\"gridcolor\":\"white\",\"linecolor\":\"white\",\"minorgridcolor\":\"white\",\"startlinecolor\":\"#2a3f5f\"},\"type\":\"carpet\"}],\"table\":[{\"cells\":{\"fill\":{\"color\":\"#EBF0F8\"},\"line\":{\"color\":\"white\"}},\"header\":{\"fill\":{\"color\":\"#C8D4E3\"},\"line\":{\"color\":\"white\"}},\"type\":\"table\"}],\"barpolar\":[{\"marker\":{\"line\":{\"color\":\"#E5ECF6\",\"width\":0.5},\"pattern\":{\"fillmode\":\"overlay\",\"size\":10,\"solidity\":0.2}},\"type\":\"barpolar\"}],\"pie\":[{\"automargin\":true,\"type\":\"pie\"}]},\"layout\":{\"autotypenumbers\":\"strict\",\"colorway\":[\"#636efa\",\"#EF553B\",\"#00cc96\",\"#ab63fa\",\"#FFA15A\",\"#19d3f3\",\"#FF6692\",\"#B6E880\",\"#FF97FF\",\"#FECB52\"],\"font\":{\"color\":\"#2a3f5f\"},\"hovermode\":\"closest\",\"hoverlabel\":{\"align\":\"left\"},\"paper_bgcolor\":\"white\",\"plot_bgcolor\":\"#E5ECF6\",\"polar\":{\"bgcolor\":\"#E5ECF6\",\"angularaxis\":{\"gridcolor\":\"white\",\"linecolor\":\"white\",\"ticks\":\"\"},\"radialaxis\":{\"gridcolor\":\"white\",\"linecolor\":\"white\",\"ticks\":\"\"}},\"ternary\":{\"bgcolor\":\"#E5ECF6\",\"aaxis\":{\"gridcolor\":\"white\",\"linecolor\":\"white\",\"ticks\":\"\"},\"baxis\":{\"gridcolor\":\"white\",\"linecolor\":\"white\",\"ticks\":\"\"},\"caxis\":{\"gridcolor\":\"white\",\"linecolor\":\"white\",\"ticks\":\"\"}},\"coloraxis\":{\"colorbar\":{\"outlinewidth\":0,\"ticks\":\"\"}},\"colorscale\":{\"sequential\":[[0.0,\"#0d0887\"],[0.1111111111111111,\"#46039f\"],[0.2222222222222222,\"#7201a8\"],[0.3333333333333333,\"#9c179e\"],[0.4444444444444444,\"#bd3786\"],[0.5555555555555556,\"#d8576b\"],[0.6666666666666666,\"#ed7953\"],[0.7777777777777778,\"#fb9f3a\"],[0.8888888888888888,\"#fdca26\"],[1.0,\"#f0f921\"]],\"sequentialminus\":[[0.0,\"#0d0887\"],[0.1111111111111111,\"#46039f\"],[0.2222222222222222,\"#7201a8\"],[0.3333333333333333,\"#9c179e\"],[0.4444444444444444,\"#bd3786\"],[0.5555555555555556,\"#d8576b\"],[0.6666666666666666,\"#ed7953\"],[0.7777777777777778,\"#fb9f3a\"],[0.8888888888888888,\"#fdca26\"],[1.0,\"#f0f921\"]],\"diverging\":[[0,\"#8e0152\"],[0.1,\"#c51b7d\"],[0.2,\"#de77ae\"],[0.3,\"#f1b6da\"],[0.4,\"#fde0ef\"],[0.5,\"#f7f7f7\"],[0.6,\"#e6f5d0\"],[0.7,\"#b8e186\"],[0.8,\"#7fbc41\"],[0.9,\"#4d9221\"],[1,\"#276419\"]]},\"xaxis\":{\"gridcolor\":\"white\",\"linecolor\":\"white\",\"ticks\":\"\",\"title\":{\"standoff\":15},\"zerolinecolor\":\"white\",\"automargin\":true,\"zerolinewidth\":2},\"yaxis\":{\"gridcolor\":\"white\",\"linecolor\":\"white\",\"ticks\":\"\",\"title\":{\"standoff\":15},\"zerolinecolor\":\"white\",\"automargin\":true,\"zerolinewidth\":2},\"scene\":{\"xaxis\":{\"backgroundcolor\":\"#E5ECF6\",\"gridcolor\":\"white\",\"linecolor\":\"white\",\"showbackground\":true,\"ticks\":\"\",\"zerolinecolor\":\"white\",\"gridwidth\":2},\"yaxis\":{\"backgroundcolor\":\"#E5ECF6\",\"gridcolor\":\"white\",\"linecolor\":\"white\",\"showbackground\":true,\"ticks\":\"\",\"zerolinecolor\":\"white\",\"gridwidth\":2},\"zaxis\":{\"backgroundcolor\":\"#E5ECF6\",\"gridcolor\":\"white\",\"linecolor\":\"white\",\"showbackground\":true,\"ticks\":\"\",\"zerolinecolor\":\"white\",\"gridwidth\":2}},\"shapedefaults\":{\"line\":{\"color\":\"#2a3f5f\"}},\"annotationdefaults\":{\"arrowcolor\":\"#2a3f5f\",\"arrowhead\":0,\"arrowwidth\":1},\"geo\":{\"bgcolor\":\"white\",\"landcolor\":\"#E5ECF6\",\"subunitcolor\":\"white\",\"showland\":true,\"showlakes\":true,\"lakecolor\":\"white\"},\"title\":{\"x\":0.05},\"mapbox\":{\"style\":\"light\"}}},\"xaxis\":{\"anchor\":\"y\",\"domain\":[0.0,0.94],\"title\":{\"text\":\"x_axis\"}},\"yaxis\":{\"anchor\":\"x\",\"domain\":[0.0,1.0],\"title\":{\"text\":\"data, predics\"}},\"yaxis2\":{\"anchor\":\"x\",\"overlaying\":\"y\",\"side\":\"right\",\"title\":{\"text\":\"% error\"},\"range\":[-20,20],\"showgrid\":false,\"tick0\":-5,\"dtick\":2}},                        {\"responsive\": true}                    ).then(function(){\n",
              "                            \n",
              "var gd = document.getElementById('b7aa0ff6-508a-4710-b3d5-7dfe9c3ef3a4');\n",
              "var x = new MutationObserver(function (mutations, observer) {{\n",
              "        var display = window.getComputedStyle(gd).display;\n",
              "        if (!display || display === 'none') {{\n",
              "            console.log([gd, 'removed!']);\n",
              "            Plotly.purge(gd);\n",
              "            observer.disconnect();\n",
              "        }}\n",
              "}});\n",
              "\n",
              "// Listen for the removal of the full notebook cells\n",
              "var notebookContainer = gd.closest('#notebook-container');\n",
              "if (notebookContainer) {{\n",
              "    x.observe(notebookContainer, {childList: true});\n",
              "}}\n",
              "\n",
              "// Listen for the clearing of the current output cell\n",
              "var outputEl = gd.closest('.output');\n",
              "if (outputEl) {{\n",
              "    x.observe(outputEl, {childList: true});\n",
              "}}\n",
              "\n",
              "                        })                };                            </script>        </div>\n",
              "</body>\n",
              "</html>"
            ]
          },
          "metadata": {}
        }
      ]
    },
    {
      "cell_type": "markdown",
      "source": [
        "# 2"
      ],
      "metadata": {
        "id": "h9fyS_pgttCQ"
      }
    },
    {
      "cell_type": "code",
      "source": [
        "data2=[\n",
        "[0.32,\t0.99,\t0.77,\t0.69,\t0.04,\t0.37,\t0.25,\t0.44,\t0.42,\t0.64,\t0.8,],\n",
        "[0.4,\t0.23,\t0.22,\t0.57,\t0.78,\t0.69,\t0.2,\t0.45,\t0.17,\t0.98,\t0.96,],\n",
        "[4.952768,\t5.924299,\t5.412533,\t5.214509,\t4.844064,\t4.912653,\t4.975625,\t4.995184,\t5.040088,\t5.066144,\t5.32,],\n",
        "]\n",
        "data2=np.array(data2).T\n",
        "X2=data2[:,[0,1]]\n",
        "T2=data2[:,[2]]"
      ],
      "metadata": {
        "id": "bem65dLcf982"
      },
      "execution_count": 71,
      "outputs": []
    },
    {
      "cell_type": "code",
      "source": [
        "scaler_X2 = preprocessing.StandardScaler().fit(X2)\n",
        "scaler_T2 = preprocessing.StandardScaler().fit(T2)\n",
        "\n",
        "scaler_data2 = [scaler_X2.mean_, scaler_X2.scale_, scaler_T2.mean_, scaler_T2.scale_]\n",
        "print('scaler X -- mean, stdev:  ',scaler_data2[0], scaler_data2[1])\n",
        "print('scaler T -- mean, stdev:  ',scaler_data2[2], scaler_data2[3])\n",
        "\n",
        "X_sc2 = scaler_X2.transform(X2)\n",
        "T_sc2 = scaler_T2.transform(T2)\n",
        "X_sc2[0:3]"
      ],
      "metadata": {
        "colab": {
          "base_uri": "https://localhost:8080/"
        },
        "id": "ZMDUCakvt5HG",
        "outputId": "d8858343-dd85-494b-d33d-ba5ae25f231f"
      },
      "execution_count": 72,
      "outputs": [
        {
          "output_type": "stream",
          "name": "stdout",
          "text": [
            "scaler X -- mean, stdev:   [0.52090909 0.51363636] [0.26752925 0.28952226]\n",
            "scaler T -- mean, stdev:   [5.15071518] [0.29600926]\n"
          ]
        },
        {
          "output_type": "execute_result",
          "data": {
            "text/plain": [
              "array([[-0.7509799 , -0.39249612],\n",
              "       [ 1.75341913, -0.97967031],\n",
              "       [ 0.93107915, -1.01420996]])"
            ]
          },
          "metadata": {},
          "execution_count": 72
        }
      ]
    },
    {
      "cell_type": "code",
      "source": [
        "# svr2=SVR(kernel='rbf', gamma=.1)\n",
        "svr2=SVR(kernel='sigmoid')\n",
        "# svr2=SVR(kernel='poly', degree=2)\n",
        "svr2.fit(X_sc2,T_sc2.ravel())\n",
        "predics2=scaler_T2.inverse_transform(svr2.predict(X_sc2).reshape(-1,1))\n",
        "# predics2"
      ],
      "metadata": {
        "id": "pOUjYYVAttl-"
      },
      "execution_count": 154,
      "outputs": []
    },
    {
      "cell_type": "code",
      "source": [
        "svr2.get_params()"
      ],
      "metadata": {
        "colab": {
          "base_uri": "https://localhost:8080/"
        },
        "id": "5lmtfoT4wu_U",
        "outputId": "f1d5244f-ef7f-4270-85a2-86ce1a6b1ca3"
      },
      "execution_count": 155,
      "outputs": [
        {
          "output_type": "execute_result",
          "data": {
            "text/plain": [
              "{'C': 1.0,\n",
              " 'cache_size': 200,\n",
              " 'coef0': 0.0,\n",
              " 'degree': 3,\n",
              " 'epsilon': 0.1,\n",
              " 'gamma': 'scale',\n",
              " 'kernel': 'sigmoid',\n",
              " 'max_iter': -1,\n",
              " 'shrinking': True,\n",
              " 'tol': 0.001,\n",
              " 'verbose': False}"
            ]
          },
          "metadata": {},
          "execution_count": 155
        }
      ]
    },
    {
      "cell_type": "code",
      "source": [
        "x_mesh, y_mesh = np.linspace(-1, 2, 31), np.linspace(-1, 2, 31)\n",
        "# x_mesh, y_mesh = np.arange(-1, 2, 0.1), np.arange(-1, 2, 0.1)\n",
        "x_mesh, y_mesh = np.meshgrid(x_mesh, y_mesh)\n",
        "x_mesh = x_mesh.flatten().reshape(31*31,1)\n",
        "y_mesh = y_mesh.flatten().reshape(31*31,1)\n",
        "mesh2=np.concatenate((x_mesh, y_mesh), axis=1)\n",
        "# x_mesh[:5]\n",
        "mesh_predics2=scaler_T2.inverse_transform(svr2.predict(scaler_X2.transform(mesh2)).reshape(-1,1))"
      ],
      "metadata": {
        "id": "TcQ-xsIvuuL1"
      },
      "execution_count": 156,
      "outputs": []
    },
    {
      "cell_type": "code",
      "source": [
        "fig=go.Figure()\n",
        "fig.add_trace(go.Scatter3d(x=data2[:,0], y=data2[:,1], z=data2[:,2], mode='markers', name='data'))\n",
        "fig.add_trace(go.Scatter3d(x=data2[:,0], y=data2[:,1], z=predics2[:,0], mode='markers', name='predics'))\n",
        "fig.add_trace(go.Scatter3d(x=x_mesh[:,0], y=y_mesh[:,0], z=mesh_predics2[:,0], mode='markers', marker_size=2, name='mesh-predics'))\n",
        "x=np.linspace(0, 1, 11)\n",
        "y=np.linspace(0, 1, 11)\n",
        "x, y = np.meshgrid(x,y)\n",
        "z=x**3-.2*y+5\n",
        "fig.add_trace(go.Surface(x=x, y=y, z=z, colorbar_x=0, opacity=0.5, showlegend=True, name='data surface'))\n",
        "fig.update_scenes(camera_projection_type=\"orthographic\")\n",
        "\n",
        "fig.show()"
      ],
      "metadata": {
        "colab": {
          "base_uri": "https://localhost:8080/",
          "height": 542
        },
        "outputId": "2aa6a5d4-5a22-4c29-8996-8439dd35565a",
        "id": "255c_AQVttmA"
      },
      "execution_count": 158,
      "outputs": [
        {
          "output_type": "display_data",
          "data": {
            "text/html": [
              "<html>\n",
              "<head><meta charset=\"utf-8\" /></head>\n",
              "<body>\n",
              "    <div>            <script src=\"https://cdnjs.cloudflare.com/ajax/libs/mathjax/2.7.5/MathJax.js?config=TeX-AMS-MML_SVG\"></script><script type=\"text/javascript\">if (window.MathJax && window.MathJax.Hub && window.MathJax.Hub.Config) {window.MathJax.Hub.Config({SVG: {font: \"STIX-Web\"}});}</script>                <script type=\"text/javascript\">window.PlotlyConfig = {MathJaxConfig: 'local'};</script>\n",
              "        <script charset=\"utf-8\" src=\"https://cdn.plot.ly/plotly-2.24.1.min.js\"></script>                <div id=\"22280a07-07f2-4de9-ad83-9c226fc24b80\" class=\"plotly-graph-div\" style=\"height:525px; width:100%;\"></div>            <script type=\"text/javascript\">                                    window.PLOTLYENV=window.PLOTLYENV || {};                                    if (document.getElementById(\"22280a07-07f2-4de9-ad83-9c226fc24b80\")) {                    Plotly.newPlot(                        \"22280a07-07f2-4de9-ad83-9c226fc24b80\",                        [{\"mode\":\"markers\",\"name\":\"data\",\"x\":[0.32,0.99,0.77,0.69,0.04,0.37,0.25,0.44,0.42,0.64,0.8],\"y\":[0.4,0.23,0.22,0.57,0.78,0.69,0.2,0.45,0.17,0.98,0.96],\"z\":[4.952768,5.924299,5.412533,5.214509,4.844064,4.912653,4.975625,4.995184,5.040088,5.066144,5.32],\"type\":\"scatter3d\"},{\"mode\":\"markers\",\"name\":\"predics\",\"x\":[0.32,0.99,0.77,0.69,0.04,0.37,0.25,0.44,0.42,0.64,0.8],\"y\":[0.4,0.23,0.22,0.57,0.78,0.69,0.2,0.45,0.17,0.98,0.96],\"z\":[4.923167064296257,5.444920470145289,5.293027337133807,5.277434989825606,4.756575691072138,4.9705734030585065,4.9542163278007365,5.028681127466063,5.08178241743868,5.095744920335991,5.187401454831053],\"type\":\"scatter3d\"},{\"marker\":{\"size\":2},\"mode\":\"markers\",\"name\":\"mesh-predics\",\"x\":[-1.0,-0.9,-0.8,-0.7,-0.6,-0.5,-0.3999999999999999,-0.29999999999999993,-0.19999999999999996,-0.09999999999999998,0.0,0.10000000000000009,0.20000000000000018,0.30000000000000004,0.40000000000000013,0.5,0.6000000000000001,0.7000000000000002,0.8,0.9000000000000001,1.0,1.1,1.2000000000000002,1.3000000000000003,1.4000000000000004,1.5,1.6,1.7000000000000002,1.8000000000000003,1.9000000000000004,2.0,-1.0,-0.9,-0.8,-0.7,-0.6,-0.5,-0.3999999999999999,-0.29999999999999993,-0.19999999999999996,-0.09999999999999998,0.0,0.10000000000000009,0.20000000000000018,0.30000000000000004,0.40000000000000013,0.5,0.6000000000000001,0.7000000000000002,0.8,0.9000000000000001,1.0,1.1,1.2000000000000002,1.3000000000000003,1.4000000000000004,1.5,1.6,1.7000000000000002,1.8000000000000003,1.9000000000000004,2.0,-1.0,-0.9,-0.8,-0.7,-0.6,-0.5,-0.3999999999999999,-0.29999999999999993,-0.19999999999999996,-0.09999999999999998,0.0,0.10000000000000009,0.20000000000000018,0.30000000000000004,0.40000000000000013,0.5,0.6000000000000001,0.7000000000000002,0.8,0.9000000000000001,1.0,1.1,1.2000000000000002,1.3000000000000003,1.4000000000000004,1.5,1.6,1.7000000000000002,1.8000000000000003,1.9000000000000004,2.0,-1.0,-0.9,-0.8,-0.7,-0.6,-0.5,-0.3999999999999999,-0.29999999999999993,-0.19999999999999996,-0.09999999999999998,0.0,0.10000000000000009,0.20000000000000018,0.30000000000000004,0.40000000000000013,0.5,0.6000000000000001,0.7000000000000002,0.8,0.9000000000000001,1.0,1.1,1.2000000000000002,1.3000000000000003,1.4000000000000004,1.5,1.6,1.7000000000000002,1.8000000000000003,1.9000000000000004,2.0,-1.0,-0.9,-0.8,-0.7,-0.6,-0.5,-0.3999999999999999,-0.29999999999999993,-0.19999999999999996,-0.09999999999999998,0.0,0.10000000000000009,0.20000000000000018,0.30000000000000004,0.40000000000000013,0.5,0.6000000000000001,0.7000000000000002,0.8,0.9000000000000001,1.0,1.1,1.2000000000000002,1.3000000000000003,1.4000000000000004,1.5,1.6,1.7000000000000002,1.8000000000000003,1.9000000000000004,2.0,-1.0,-0.9,-0.8,-0.7,-0.6,-0.5,-0.3999999999999999,-0.29999999999999993,-0.19999999999999996,-0.09999999999999998,0.0,0.10000000000000009,0.20000000000000018,0.30000000000000004,0.40000000000000013,0.5,0.6000000000000001,0.7000000000000002,0.8,0.9000000000000001,1.0,1.1,1.2000000000000002,1.3000000000000003,1.4000000000000004,1.5,1.6,1.7000000000000002,1.8000000000000003,1.9000000000000004,2.0,-1.0,-0.9,-0.8,-0.7,-0.6,-0.5,-0.3999999999999999,-0.29999999999999993,-0.19999999999999996,-0.09999999999999998,0.0,0.10000000000000009,0.20000000000000018,0.30000000000000004,0.40000000000000013,0.5,0.6000000000000001,0.7000000000000002,0.8,0.9000000000000001,1.0,1.1,1.2000000000000002,1.3000000000000003,1.4000000000000004,1.5,1.6,1.7000000000000002,1.8000000000000003,1.9000000000000004,2.0,-1.0,-0.9,-0.8,-0.7,-0.6,-0.5,-0.3999999999999999,-0.29999999999999993,-0.19999999999999996,-0.09999999999999998,0.0,0.10000000000000009,0.20000000000000018,0.30000000000000004,0.40000000000000013,0.5,0.6000000000000001,0.7000000000000002,0.8,0.9000000000000001,1.0,1.1,1.2000000000000002,1.3000000000000003,1.4000000000000004,1.5,1.6,1.7000000000000002,1.8000000000000003,1.9000000000000004,2.0,-1.0,-0.9,-0.8,-0.7,-0.6,-0.5,-0.3999999999999999,-0.29999999999999993,-0.19999999999999996,-0.09999999999999998,0.0,0.10000000000000009,0.20000000000000018,0.30000000000000004,0.40000000000000013,0.5,0.6000000000000001,0.7000000000000002,0.8,0.9000000000000001,1.0,1.1,1.2000000000000002,1.3000000000000003,1.4000000000000004,1.5,1.6,1.7000000000000002,1.8000000000000003,1.9000000000000004,2.0,-1.0,-0.9,-0.8,-0.7,-0.6,-0.5,-0.3999999999999999,-0.29999999999999993,-0.19999999999999996,-0.09999999999999998,0.0,0.10000000000000009,0.20000000000000018,0.30000000000000004,0.40000000000000013,0.5,0.6000000000000001,0.7000000000000002,0.8,0.9000000000000001,1.0,1.1,1.2000000000000002,1.3000000000000003,1.4000000000000004,1.5,1.6,1.7000000000000002,1.8000000000000003,1.9000000000000004,2.0,-1.0,-0.9,-0.8,-0.7,-0.6,-0.5,-0.3999999999999999,-0.29999999999999993,-0.19999999999999996,-0.09999999999999998,0.0,0.10000000000000009,0.20000000000000018,0.30000000000000004,0.40000000000000013,0.5,0.6000000000000001,0.7000000000000002,0.8,0.9000000000000001,1.0,1.1,1.2000000000000002,1.3000000000000003,1.4000000000000004,1.5,1.6,1.7000000000000002,1.8000000000000003,1.9000000000000004,2.0,-1.0,-0.9,-0.8,-0.7,-0.6,-0.5,-0.3999999999999999,-0.29999999999999993,-0.19999999999999996,-0.09999999999999998,0.0,0.10000000000000009,0.20000000000000018,0.30000000000000004,0.40000000000000013,0.5,0.6000000000000001,0.7000000000000002,0.8,0.9000000000000001,1.0,1.1,1.2000000000000002,1.3000000000000003,1.4000000000000004,1.5,1.6,1.7000000000000002,1.8000000000000003,1.9000000000000004,2.0,-1.0,-0.9,-0.8,-0.7,-0.6,-0.5,-0.3999999999999999,-0.29999999999999993,-0.19999999999999996,-0.09999999999999998,0.0,0.10000000000000009,0.20000000000000018,0.30000000000000004,0.40000000000000013,0.5,0.6000000000000001,0.7000000000000002,0.8,0.9000000000000001,1.0,1.1,1.2000000000000002,1.3000000000000003,1.4000000000000004,1.5,1.6,1.7000000000000002,1.8000000000000003,1.9000000000000004,2.0,-1.0,-0.9,-0.8,-0.7,-0.6,-0.5,-0.3999999999999999,-0.29999999999999993,-0.19999999999999996,-0.09999999999999998,0.0,0.10000000000000009,0.20000000000000018,0.30000000000000004,0.40000000000000013,0.5,0.6000000000000001,0.7000000000000002,0.8,0.9000000000000001,1.0,1.1,1.2000000000000002,1.3000000000000003,1.4000000000000004,1.5,1.6,1.7000000000000002,1.8000000000000003,1.9000000000000004,2.0,-1.0,-0.9,-0.8,-0.7,-0.6,-0.5,-0.3999999999999999,-0.29999999999999993,-0.19999999999999996,-0.09999999999999998,0.0,0.10000000000000009,0.20000000000000018,0.30000000000000004,0.40000000000000013,0.5,0.6000000000000001,0.7000000000000002,0.8,0.9000000000000001,1.0,1.1,1.2000000000000002,1.3000000000000003,1.4000000000000004,1.5,1.6,1.7000000000000002,1.8000000000000003,1.9000000000000004,2.0,-1.0,-0.9,-0.8,-0.7,-0.6,-0.5,-0.3999999999999999,-0.29999999999999993,-0.19999999999999996,-0.09999999999999998,0.0,0.10000000000000009,0.20000000000000018,0.30000000000000004,0.40000000000000013,0.5,0.6000000000000001,0.7000000000000002,0.8,0.9000000000000001,1.0,1.1,1.2000000000000002,1.3000000000000003,1.4000000000000004,1.5,1.6,1.7000000000000002,1.8000000000000003,1.9000000000000004,2.0,-1.0,-0.9,-0.8,-0.7,-0.6,-0.5,-0.3999999999999999,-0.29999999999999993,-0.19999999999999996,-0.09999999999999998,0.0,0.10000000000000009,0.20000000000000018,0.30000000000000004,0.40000000000000013,0.5,0.6000000000000001,0.7000000000000002,0.8,0.9000000000000001,1.0,1.1,1.2000000000000002,1.3000000000000003,1.4000000000000004,1.5,1.6,1.7000000000000002,1.8000000000000003,1.9000000000000004,2.0,-1.0,-0.9,-0.8,-0.7,-0.6,-0.5,-0.3999999999999999,-0.29999999999999993,-0.19999999999999996,-0.09999999999999998,0.0,0.10000000000000009,0.20000000000000018,0.30000000000000004,0.40000000000000013,0.5,0.6000000000000001,0.7000000000000002,0.8,0.9000000000000001,1.0,1.1,1.2000000000000002,1.3000000000000003,1.4000000000000004,1.5,1.6,1.7000000000000002,1.8000000000000003,1.9000000000000004,2.0,-1.0,-0.9,-0.8,-0.7,-0.6,-0.5,-0.3999999999999999,-0.29999999999999993,-0.19999999999999996,-0.09999999999999998,0.0,0.10000000000000009,0.20000000000000018,0.30000000000000004,0.40000000000000013,0.5,0.6000000000000001,0.7000000000000002,0.8,0.9000000000000001,1.0,1.1,1.2000000000000002,1.3000000000000003,1.4000000000000004,1.5,1.6,1.7000000000000002,1.8000000000000003,1.9000000000000004,2.0,-1.0,-0.9,-0.8,-0.7,-0.6,-0.5,-0.3999999999999999,-0.29999999999999993,-0.19999999999999996,-0.09999999999999998,0.0,0.10000000000000009,0.20000000000000018,0.30000000000000004,0.40000000000000013,0.5,0.6000000000000001,0.7000000000000002,0.8,0.9000000000000001,1.0,1.1,1.2000000000000002,1.3000000000000003,1.4000000000000004,1.5,1.6,1.7000000000000002,1.8000000000000003,1.9000000000000004,2.0,-1.0,-0.9,-0.8,-0.7,-0.6,-0.5,-0.3999999999999999,-0.29999999999999993,-0.19999999999999996,-0.09999999999999998,0.0,0.10000000000000009,0.20000000000000018,0.30000000000000004,0.40000000000000013,0.5,0.6000000000000001,0.7000000000000002,0.8,0.9000000000000001,1.0,1.1,1.2000000000000002,1.3000000000000003,1.4000000000000004,1.5,1.6,1.7000000000000002,1.8000000000000003,1.9000000000000004,2.0,-1.0,-0.9,-0.8,-0.7,-0.6,-0.5,-0.3999999999999999,-0.29999999999999993,-0.19999999999999996,-0.09999999999999998,0.0,0.10000000000000009,0.20000000000000018,0.30000000000000004,0.40000000000000013,0.5,0.6000000000000001,0.7000000000000002,0.8,0.9000000000000001,1.0,1.1,1.2000000000000002,1.3000000000000003,1.4000000000000004,1.5,1.6,1.7000000000000002,1.8000000000000003,1.9000000000000004,2.0,-1.0,-0.9,-0.8,-0.7,-0.6,-0.5,-0.3999999999999999,-0.29999999999999993,-0.19999999999999996,-0.09999999999999998,0.0,0.10000000000000009,0.20000000000000018,0.30000000000000004,0.40000000000000013,0.5,0.6000000000000001,0.7000000000000002,0.8,0.9000000000000001,1.0,1.1,1.2000000000000002,1.3000000000000003,1.4000000000000004,1.5,1.6,1.7000000000000002,1.8000000000000003,1.9000000000000004,2.0,-1.0,-0.9,-0.8,-0.7,-0.6,-0.5,-0.3999999999999999,-0.29999999999999993,-0.19999999999999996,-0.09999999999999998,0.0,0.10000000000000009,0.20000000000000018,0.30000000000000004,0.40000000000000013,0.5,0.6000000000000001,0.7000000000000002,0.8,0.9000000000000001,1.0,1.1,1.2000000000000002,1.3000000000000003,1.4000000000000004,1.5,1.6,1.7000000000000002,1.8000000000000003,1.9000000000000004,2.0,-1.0,-0.9,-0.8,-0.7,-0.6,-0.5,-0.3999999999999999,-0.29999999999999993,-0.19999999999999996,-0.09999999999999998,0.0,0.10000000000000009,0.20000000000000018,0.30000000000000004,0.40000000000000013,0.5,0.6000000000000001,0.7000000000000002,0.8,0.9000000000000001,1.0,1.1,1.2000000000000002,1.3000000000000003,1.4000000000000004,1.5,1.6,1.7000000000000002,1.8000000000000003,1.9000000000000004,2.0,-1.0,-0.9,-0.8,-0.7,-0.6,-0.5,-0.3999999999999999,-0.29999999999999993,-0.19999999999999996,-0.09999999999999998,0.0,0.10000000000000009,0.20000000000000018,0.30000000000000004,0.40000000000000013,0.5,0.6000000000000001,0.7000000000000002,0.8,0.9000000000000001,1.0,1.1,1.2000000000000002,1.3000000000000003,1.4000000000000004,1.5,1.6,1.7000000000000002,1.8000000000000003,1.9000000000000004,2.0,-1.0,-0.9,-0.8,-0.7,-0.6,-0.5,-0.3999999999999999,-0.29999999999999993,-0.19999999999999996,-0.09999999999999998,0.0,0.10000000000000009,0.20000000000000018,0.30000000000000004,0.40000000000000013,0.5,0.6000000000000001,0.7000000000000002,0.8,0.9000000000000001,1.0,1.1,1.2000000000000002,1.3000000000000003,1.4000000000000004,1.5,1.6,1.7000000000000002,1.8000000000000003,1.9000000000000004,2.0,-1.0,-0.9,-0.8,-0.7,-0.6,-0.5,-0.3999999999999999,-0.29999999999999993,-0.19999999999999996,-0.09999999999999998,0.0,0.10000000000000009,0.20000000000000018,0.30000000000000004,0.40000000000000013,0.5,0.6000000000000001,0.7000000000000002,0.8,0.9000000000000001,1.0,1.1,1.2000000000000002,1.3000000000000003,1.4000000000000004,1.5,1.6,1.7000000000000002,1.8000000000000003,1.9000000000000004,2.0,-1.0,-0.9,-0.8,-0.7,-0.6,-0.5,-0.3999999999999999,-0.29999999999999993,-0.19999999999999996,-0.09999999999999998,0.0,0.10000000000000009,0.20000000000000018,0.30000000000000004,0.40000000000000013,0.5,0.6000000000000001,0.7000000000000002,0.8,0.9000000000000001,1.0,1.1,1.2000000000000002,1.3000000000000003,1.4000000000000004,1.5,1.6,1.7000000000000002,1.8000000000000003,1.9000000000000004,2.0,-1.0,-0.9,-0.8,-0.7,-0.6,-0.5,-0.3999999999999999,-0.29999999999999993,-0.19999999999999996,-0.09999999999999998,0.0,0.10000000000000009,0.20000000000000018,0.30000000000000004,0.40000000000000013,0.5,0.6000000000000001,0.7000000000000002,0.8,0.9000000000000001,1.0,1.1,1.2000000000000002,1.3000000000000003,1.4000000000000004,1.5,1.6,1.7000000000000002,1.8000000000000003,1.9000000000000004,2.0,-1.0,-0.9,-0.8,-0.7,-0.6,-0.5,-0.3999999999999999,-0.29999999999999993,-0.19999999999999996,-0.09999999999999998,0.0,0.10000000000000009,0.20000000000000018,0.30000000000000004,0.40000000000000013,0.5,0.6000000000000001,0.7000000000000002,0.8,0.9000000000000001,1.0,1.1,1.2000000000000002,1.3000000000000003,1.4000000000000004,1.5,1.6,1.7000000000000002,1.8000000000000003,1.9000000000000004,2.0],\"y\":[-1.0,-1.0,-1.0,-1.0,-1.0,-1.0,-1.0,-1.0,-1.0,-1.0,-1.0,-1.0,-1.0,-1.0,-1.0,-1.0,-1.0,-1.0,-1.0,-1.0,-1.0,-1.0,-1.0,-1.0,-1.0,-1.0,-1.0,-1.0,-1.0,-1.0,-1.0,-0.9,-0.9,-0.9,-0.9,-0.9,-0.9,-0.9,-0.9,-0.9,-0.9,-0.9,-0.9,-0.9,-0.9,-0.9,-0.9,-0.9,-0.9,-0.9,-0.9,-0.9,-0.9,-0.9,-0.9,-0.9,-0.9,-0.9,-0.9,-0.9,-0.9,-0.9,-0.8,-0.8,-0.8,-0.8,-0.8,-0.8,-0.8,-0.8,-0.8,-0.8,-0.8,-0.8,-0.8,-0.8,-0.8,-0.8,-0.8,-0.8,-0.8,-0.8,-0.8,-0.8,-0.8,-0.8,-0.8,-0.8,-0.8,-0.8,-0.8,-0.8,-0.8,-0.7,-0.7,-0.7,-0.7,-0.7,-0.7,-0.7,-0.7,-0.7,-0.7,-0.7,-0.7,-0.7,-0.7,-0.7,-0.7,-0.7,-0.7,-0.7,-0.7,-0.7,-0.7,-0.7,-0.7,-0.7,-0.7,-0.7,-0.7,-0.7,-0.7,-0.7,-0.6,-0.6,-0.6,-0.6,-0.6,-0.6,-0.6,-0.6,-0.6,-0.6,-0.6,-0.6,-0.6,-0.6,-0.6,-0.6,-0.6,-0.6,-0.6,-0.6,-0.6,-0.6,-0.6,-0.6,-0.6,-0.6,-0.6,-0.6,-0.6,-0.6,-0.6,-0.5,-0.5,-0.5,-0.5,-0.5,-0.5,-0.5,-0.5,-0.5,-0.5,-0.5,-0.5,-0.5,-0.5,-0.5,-0.5,-0.5,-0.5,-0.5,-0.5,-0.5,-0.5,-0.5,-0.5,-0.5,-0.5,-0.5,-0.5,-0.5,-0.5,-0.5,-0.3999999999999999,-0.3999999999999999,-0.3999999999999999,-0.3999999999999999,-0.3999999999999999,-0.3999999999999999,-0.3999999999999999,-0.3999999999999999,-0.3999999999999999,-0.3999999999999999,-0.3999999999999999,-0.3999999999999999,-0.3999999999999999,-0.3999999999999999,-0.3999999999999999,-0.3999999999999999,-0.3999999999999999,-0.3999999999999999,-0.3999999999999999,-0.3999999999999999,-0.3999999999999999,-0.3999999999999999,-0.3999999999999999,-0.3999999999999999,-0.3999999999999999,-0.3999999999999999,-0.3999999999999999,-0.3999999999999999,-0.3999999999999999,-0.3999999999999999,-0.3999999999999999,-0.29999999999999993,-0.29999999999999993,-0.29999999999999993,-0.29999999999999993,-0.29999999999999993,-0.29999999999999993,-0.29999999999999993,-0.29999999999999993,-0.29999999999999993,-0.29999999999999993,-0.29999999999999993,-0.29999999999999993,-0.29999999999999993,-0.29999999999999993,-0.29999999999999993,-0.29999999999999993,-0.29999999999999993,-0.29999999999999993,-0.29999999999999993,-0.29999999999999993,-0.29999999999999993,-0.29999999999999993,-0.29999999999999993,-0.29999999999999993,-0.29999999999999993,-0.29999999999999993,-0.29999999999999993,-0.29999999999999993,-0.29999999999999993,-0.29999999999999993,-0.29999999999999993,-0.19999999999999996,-0.19999999999999996,-0.19999999999999996,-0.19999999999999996,-0.19999999999999996,-0.19999999999999996,-0.19999999999999996,-0.19999999999999996,-0.19999999999999996,-0.19999999999999996,-0.19999999999999996,-0.19999999999999996,-0.19999999999999996,-0.19999999999999996,-0.19999999999999996,-0.19999999999999996,-0.19999999999999996,-0.19999999999999996,-0.19999999999999996,-0.19999999999999996,-0.19999999999999996,-0.19999999999999996,-0.19999999999999996,-0.19999999999999996,-0.19999999999999996,-0.19999999999999996,-0.19999999999999996,-0.19999999999999996,-0.19999999999999996,-0.19999999999999996,-0.19999999999999996,-0.09999999999999998,-0.09999999999999998,-0.09999999999999998,-0.09999999999999998,-0.09999999999999998,-0.09999999999999998,-0.09999999999999998,-0.09999999999999998,-0.09999999999999998,-0.09999999999999998,-0.09999999999999998,-0.09999999999999998,-0.09999999999999998,-0.09999999999999998,-0.09999999999999998,-0.09999999999999998,-0.09999999999999998,-0.09999999999999998,-0.09999999999999998,-0.09999999999999998,-0.09999999999999998,-0.09999999999999998,-0.09999999999999998,-0.09999999999999998,-0.09999999999999998,-0.09999999999999998,-0.09999999999999998,-0.09999999999999998,-0.09999999999999998,-0.09999999999999998,-0.09999999999999998,0.0,0.0,0.0,0.0,0.0,0.0,0.0,0.0,0.0,0.0,0.0,0.0,0.0,0.0,0.0,0.0,0.0,0.0,0.0,0.0,0.0,0.0,0.0,0.0,0.0,0.0,0.0,0.0,0.0,0.0,0.0,0.10000000000000009,0.10000000000000009,0.10000000000000009,0.10000000000000009,0.10000000000000009,0.10000000000000009,0.10000000000000009,0.10000000000000009,0.10000000000000009,0.10000000000000009,0.10000000000000009,0.10000000000000009,0.10000000000000009,0.10000000000000009,0.10000000000000009,0.10000000000000009,0.10000000000000009,0.10000000000000009,0.10000000000000009,0.10000000000000009,0.10000000000000009,0.10000000000000009,0.10000000000000009,0.10000000000000009,0.10000000000000009,0.10000000000000009,0.10000000000000009,0.10000000000000009,0.10000000000000009,0.10000000000000009,0.10000000000000009,0.20000000000000018,0.20000000000000018,0.20000000000000018,0.20000000000000018,0.20000000000000018,0.20000000000000018,0.20000000000000018,0.20000000000000018,0.20000000000000018,0.20000000000000018,0.20000000000000018,0.20000000000000018,0.20000000000000018,0.20000000000000018,0.20000000000000018,0.20000000000000018,0.20000000000000018,0.20000000000000018,0.20000000000000018,0.20000000000000018,0.20000000000000018,0.20000000000000018,0.20000000000000018,0.20000000000000018,0.20000000000000018,0.20000000000000018,0.20000000000000018,0.20000000000000018,0.20000000000000018,0.20000000000000018,0.20000000000000018,0.30000000000000004,0.30000000000000004,0.30000000000000004,0.30000000000000004,0.30000000000000004,0.30000000000000004,0.30000000000000004,0.30000000000000004,0.30000000000000004,0.30000000000000004,0.30000000000000004,0.30000000000000004,0.30000000000000004,0.30000000000000004,0.30000000000000004,0.30000000000000004,0.30000000000000004,0.30000000000000004,0.30000000000000004,0.30000000000000004,0.30000000000000004,0.30000000000000004,0.30000000000000004,0.30000000000000004,0.30000000000000004,0.30000000000000004,0.30000000000000004,0.30000000000000004,0.30000000000000004,0.30000000000000004,0.30000000000000004,0.40000000000000013,0.40000000000000013,0.40000000000000013,0.40000000000000013,0.40000000000000013,0.40000000000000013,0.40000000000000013,0.40000000000000013,0.40000000000000013,0.40000000000000013,0.40000000000000013,0.40000000000000013,0.40000000000000013,0.40000000000000013,0.40000000000000013,0.40000000000000013,0.40000000000000013,0.40000000000000013,0.40000000000000013,0.40000000000000013,0.40000000000000013,0.40000000000000013,0.40000000000000013,0.40000000000000013,0.40000000000000013,0.40000000000000013,0.40000000000000013,0.40000000000000013,0.40000000000000013,0.40000000000000013,0.40000000000000013,0.5,0.5,0.5,0.5,0.5,0.5,0.5,0.5,0.5,0.5,0.5,0.5,0.5,0.5,0.5,0.5,0.5,0.5,0.5,0.5,0.5,0.5,0.5,0.5,0.5,0.5,0.5,0.5,0.5,0.5,0.5,0.6000000000000001,0.6000000000000001,0.6000000000000001,0.6000000000000001,0.6000000000000001,0.6000000000000001,0.6000000000000001,0.6000000000000001,0.6000000000000001,0.6000000000000001,0.6000000000000001,0.6000000000000001,0.6000000000000001,0.6000000000000001,0.6000000000000001,0.6000000000000001,0.6000000000000001,0.6000000000000001,0.6000000000000001,0.6000000000000001,0.6000000000000001,0.6000000000000001,0.6000000000000001,0.6000000000000001,0.6000000000000001,0.6000000000000001,0.6000000000000001,0.6000000000000001,0.6000000000000001,0.6000000000000001,0.6000000000000001,0.7000000000000002,0.7000000000000002,0.7000000000000002,0.7000000000000002,0.7000000000000002,0.7000000000000002,0.7000000000000002,0.7000000000000002,0.7000000000000002,0.7000000000000002,0.7000000000000002,0.7000000000000002,0.7000000000000002,0.7000000000000002,0.7000000000000002,0.7000000000000002,0.7000000000000002,0.7000000000000002,0.7000000000000002,0.7000000000000002,0.7000000000000002,0.7000000000000002,0.7000000000000002,0.7000000000000002,0.7000000000000002,0.7000000000000002,0.7000000000000002,0.7000000000000002,0.7000000000000002,0.7000000000000002,0.7000000000000002,0.8,0.8,0.8,0.8,0.8,0.8,0.8,0.8,0.8,0.8,0.8,0.8,0.8,0.8,0.8,0.8,0.8,0.8,0.8,0.8,0.8,0.8,0.8,0.8,0.8,0.8,0.8,0.8,0.8,0.8,0.8,0.9000000000000001,0.9000000000000001,0.9000000000000001,0.9000000000000001,0.9000000000000001,0.9000000000000001,0.9000000000000001,0.9000000000000001,0.9000000000000001,0.9000000000000001,0.9000000000000001,0.9000000000000001,0.9000000000000001,0.9000000000000001,0.9000000000000001,0.9000000000000001,0.9000000000000001,0.9000000000000001,0.9000000000000001,0.9000000000000001,0.9000000000000001,0.9000000000000001,0.9000000000000001,0.9000000000000001,0.9000000000000001,0.9000000000000001,0.9000000000000001,0.9000000000000001,0.9000000000000001,0.9000000000000001,0.9000000000000001,1.0,1.0,1.0,1.0,1.0,1.0,1.0,1.0,1.0,1.0,1.0,1.0,1.0,1.0,1.0,1.0,1.0,1.0,1.0,1.0,1.0,1.0,1.0,1.0,1.0,1.0,1.0,1.0,1.0,1.0,1.0,1.1,1.1,1.1,1.1,1.1,1.1,1.1,1.1,1.1,1.1,1.1,1.1,1.1,1.1,1.1,1.1,1.1,1.1,1.1,1.1,1.1,1.1,1.1,1.1,1.1,1.1,1.1,1.1,1.1,1.1,1.1,1.2000000000000002,1.2000000000000002,1.2000000000000002,1.2000000000000002,1.2000000000000002,1.2000000000000002,1.2000000000000002,1.2000000000000002,1.2000000000000002,1.2000000000000002,1.2000000000000002,1.2000000000000002,1.2000000000000002,1.2000000000000002,1.2000000000000002,1.2000000000000002,1.2000000000000002,1.2000000000000002,1.2000000000000002,1.2000000000000002,1.2000000000000002,1.2000000000000002,1.2000000000000002,1.2000000000000002,1.2000000000000002,1.2000000000000002,1.2000000000000002,1.2000000000000002,1.2000000000000002,1.2000000000000002,1.2000000000000002,1.3000000000000003,1.3000000000000003,1.3000000000000003,1.3000000000000003,1.3000000000000003,1.3000000000000003,1.3000000000000003,1.3000000000000003,1.3000000000000003,1.3000000000000003,1.3000000000000003,1.3000000000000003,1.3000000000000003,1.3000000000000003,1.3000000000000003,1.3000000000000003,1.3000000000000003,1.3000000000000003,1.3000000000000003,1.3000000000000003,1.3000000000000003,1.3000000000000003,1.3000000000000003,1.3000000000000003,1.3000000000000003,1.3000000000000003,1.3000000000000003,1.3000000000000003,1.3000000000000003,1.3000000000000003,1.3000000000000003,1.4000000000000004,1.4000000000000004,1.4000000000000004,1.4000000000000004,1.4000000000000004,1.4000000000000004,1.4000000000000004,1.4000000000000004,1.4000000000000004,1.4000000000000004,1.4000000000000004,1.4000000000000004,1.4000000000000004,1.4000000000000004,1.4000000000000004,1.4000000000000004,1.4000000000000004,1.4000000000000004,1.4000000000000004,1.4000000000000004,1.4000000000000004,1.4000000000000004,1.4000000000000004,1.4000000000000004,1.4000000000000004,1.4000000000000004,1.4000000000000004,1.4000000000000004,1.4000000000000004,1.4000000000000004,1.4000000000000004,1.5,1.5,1.5,1.5,1.5,1.5,1.5,1.5,1.5,1.5,1.5,1.5,1.5,1.5,1.5,1.5,1.5,1.5,1.5,1.5,1.5,1.5,1.5,1.5,1.5,1.5,1.5,1.5,1.5,1.5,1.5,1.6,1.6,1.6,1.6,1.6,1.6,1.6,1.6,1.6,1.6,1.6,1.6,1.6,1.6,1.6,1.6,1.6,1.6,1.6,1.6,1.6,1.6,1.6,1.6,1.6,1.6,1.6,1.6,1.6,1.6,1.6,1.7000000000000002,1.7000000000000002,1.7000000000000002,1.7000000000000002,1.7000000000000002,1.7000000000000002,1.7000000000000002,1.7000000000000002,1.7000000000000002,1.7000000000000002,1.7000000000000002,1.7000000000000002,1.7000000000000002,1.7000000000000002,1.7000000000000002,1.7000000000000002,1.7000000000000002,1.7000000000000002,1.7000000000000002,1.7000000000000002,1.7000000000000002,1.7000000000000002,1.7000000000000002,1.7000000000000002,1.7000000000000002,1.7000000000000002,1.7000000000000002,1.7000000000000002,1.7000000000000002,1.7000000000000002,1.7000000000000002,1.8000000000000003,1.8000000000000003,1.8000000000000003,1.8000000000000003,1.8000000000000003,1.8000000000000003,1.8000000000000003,1.8000000000000003,1.8000000000000003,1.8000000000000003,1.8000000000000003,1.8000000000000003,1.8000000000000003,1.8000000000000003,1.8000000000000003,1.8000000000000003,1.8000000000000003,1.8000000000000003,1.8000000000000003,1.8000000000000003,1.8000000000000003,1.8000000000000003,1.8000000000000003,1.8000000000000003,1.8000000000000003,1.8000000000000003,1.8000000000000003,1.8000000000000003,1.8000000000000003,1.8000000000000003,1.8000000000000003,1.9000000000000004,1.9000000000000004,1.9000000000000004,1.9000000000000004,1.9000000000000004,1.9000000000000004,1.9000000000000004,1.9000000000000004,1.9000000000000004,1.9000000000000004,1.9000000000000004,1.9000000000000004,1.9000000000000004,1.9000000000000004,1.9000000000000004,1.9000000000000004,1.9000000000000004,1.9000000000000004,1.9000000000000004,1.9000000000000004,1.9000000000000004,1.9000000000000004,1.9000000000000004,1.9000000000000004,1.9000000000000004,1.9000000000000004,1.9000000000000004,1.9000000000000004,1.9000000000000004,1.9000000000000004,1.9000000000000004,2.0,2.0,2.0,2.0,2.0,2.0,2.0,2.0,2.0,2.0,2.0,2.0,2.0,2.0,2.0,2.0,2.0,2.0,2.0,2.0,2.0,2.0,2.0,2.0,2.0,2.0,2.0,2.0,2.0,2.0,2.0],\"z\":[4.867554274110177,4.953216581901908,5.036570750257414,5.115581313830359,5.189549885805872,5.258379646906018,5.320354094375091,5.369843040908129,5.399923711888618,5.410417395162317,5.409245212950028,5.404135861205118,5.397782892597389,5.3895659382830345,5.378107256108097,5.3623601532817515,5.34180252929947,5.316390465683467,5.286505329867209,5.2529232324903825,5.216782187265334,5.179520746314625,5.142774624485431,5.1082359356022735,5.077499523422072,5.051935116751114,5.032623378564699,5.020375439615397,5.015826869965925,5.0195699835547085,5.032268613849439,4.786549728046098,4.871824573887024,4.958008996500054,5.042124255555484,5.122183701251672,5.197265737471415,5.266275124708272,5.325491464461418,5.368087990271991,5.3899191017831285,5.395390339633401,5.392934664946147,5.387489884181796,5.379686188796498,5.368460094963437,5.352770330341127,5.332095476994167,5.306458484336447,5.276368194650676,5.242767416262641,5.206976026345202,5.170604497193377,5.135427693531349,5.103231223211195,5.075663415406444,5.054134632755732,5.039794546581658,5.033589642163308,5.03636864768441,5.048973319308587,5.072231507866743,4.709550110552051,4.790940253229388,4.876572052745499,4.9632620161029095,5.048096618130288,5.129031068019608,5.204614177298247,5.272277672095425,5.326438121243979,5.360869616334838,5.375634248284729,5.377874246469434,5.374372283540341,5.3674982314577555,5.356858924706036,5.341545763739058,5.321074913031833,5.29555652621057,5.265649545733626,5.232488027172913,5.197596050836705,5.16277392947138,5.129951861882008,5.101031791996327,5.077756165194284,5.061641120465871,5.053987645234749,5.055945143756393,5.068561668399276,5.092728105958394,5.128930160593538,4.639490257526974,4.714164666569536,4.795789006070829,4.881723364645804,4.968840481155778,5.054237545542789,5.135627654567054,5.210636131419706,5.274938496611197,5.322018290592914,5.348234798130352,5.357619531995607,5.357585148575087,5.352447193326799,5.3429189763346185,5.328434751672153,5.308619314936336,5.283702880825886,5.254524074434239,5.222439009133621,5.1892056060192395,5.156842323412639,5.127466730821522,5.1031415307021355,5.085765312988477,5.077029701292476,5.078425509193612,5.09123322454129,5.116401620841447,5.1542361734995845,5.203925670031198,4.5781897994235266,4.644421390424599,4.719244282376007,4.80101706375157,4.8871372701381315,4.9745058090686385,5.0601276663793,5.1412041863878875,5.214051690984997,5.2727941546273325,5.311614491977762,5.330610655643567,5.33605701895347,5.333846688488415,5.32619479736886,5.313176766407942,5.294647202808258,5.27100945956816,5.2433223690291735,5.213204880901976,5.1826903912201505,5.154059528731088,5.129668071657449,5.111798414276384,5.10255751795638,5.103810706274131,5.117091786621753,5.143398663482529,5.182817376854387,5.234055694995191,5.294170630962644,4.526320138026539,4.583526725948922,4.64985296385675,4.724714352659123,4.806485442860279,4.892584898785416,4.979885699012562,5.065135816925093,5.144698764381129,5.213402770373716,5.264727046789711,5.295267050624456,5.308517399293881,5.310871919447911,5.306185782499901,5.295524846793389,5.279157570779771,5.257743656068701,5.232619128925618,5.205720977794388,5.179415379027961,5.156304240635071,5.139037111904075,5.130145331980153,5.1318895632318755,5.146069041209862,5.173718002966302,5.214670036033586,5.2671352071865325,5.3276193352409065,5.3914850943062955,4.483660911642326,4.532159757696393,4.589434468171846,4.655728620956637,4.730453044524651,4.811986387609129,4.897736991116551,4.984455903966305,5.068409990009304,5.144842724409801,5.207379646955009,5.250337029279902,5.273627885709231,5.282590730033883,5.28236063896435,5.27528612650665,5.262292545012125,5.244418632737907,5.22335643665758,5.20143212307753,5.181411834063448,5.166269227805135,5.1589472646341665,5.162104982737955,5.17780649545462,5.20710558513198,5.249562126055927,5.302904638465279,5.36318404928114,5.425602814768122,5.485737675170219,4.449457084460082,4.490121523921801,4.538686473462049,4.595894054661736,4.661965452525006,4.736296398751836,4.817250614823797,4.902174877308593,4.98756352080862,5.068961388713338,5.140440962052987,5.195333779173221,5.230264595032643,5.2480731305597415,5.254219537752141,5.2523903285027895,5.24442821353394,5.231913688673951,5.216994164182988,5.20245900752302,5.191514651044181,5.187467366657248,5.1933509571532195,5.211476309932339,5.242896537055096,5.286894880168517,5.34077555298523,5.4002773802168065,5.460632027910885,5.5178053693768305,5.569292942181937,4.422736002039071,4.456694337835449,4.497447383090036,4.545944278449402,4.602890989768291,4.668476610859133,4.742069543708171,4.82199250969151,4.9054596951880605,4.98855189295741,5.065944365507417,5.130942838090637,5.177955800898494,5.20662893847268,5.221422661920204,5.226997587231404,5.226292484819895,5.221606369425018,5.21563620262481,5.211656829519466,5.213222593604968,5.223671620013206,5.245516201660524,5.279784743451028,5.325505984532804,5.379665090871279,5.437877396102807,5.495609319772189,5.549349654512089,5.597173624923423,5.638612419031205,4.402528747542137,4.430960617128471,4.4650577802229225,4.5057778811241835,4.554024341534524,4.610458511813184,4.675230263728847,4.747670984239195,4.826034750739443,4.907326532331825,4.987098201784583,5.059285089921709,5.117394231838201,5.158203500769345,5.184018050031051,5.199651981950073,5.209085507809661,5.215444621266937,5.221979228440707,5.2322828083775095,5.249835868481014,5.2772526031200275,5.31550053710459,5.363404063250432,5.417786089266337,5.474369953230178,5.52907400302057,5.579033337642357,5.62292393939834,5.6606753761026924,5.692941055303371,4.387998711238279,4.412024674986689,4.440679056319751,4.4748193287471265,4.515351868941991,4.563128398933482,4.618764288939096,4.682374239174852,4.753257362209472,4.8295884284900055,4.908126255229111,4.983949896951622,5.050856395245323,5.103888907154078,5.142781791728667,5.1714640759942645,5.194522537335886,5.215778566111707,5.23876033482394,5.266803343844248,5.302405660628633,5.346387614157583,5.397432547242002,5.4524017242018115,5.507392414294916,5.558999742685142,5.605124502051645,5.645070623366471,5.679154248806134,5.7081965470212594,5.733137142493694,4.378501137151637,4.3991376238539095,4.42350948732929,4.452329621241781,4.486402473497792,4.526581496715751,4.5736734372871855,4.628267072852862,4.690476599412279,4.759615330103758,4.833829436490218,4.909729531140728,4.9823284051849805,5.046387853212997,5.0996136748681185,5.144247149361583,5.1846220401872065,5.22463192361223,5.267282237404376,5.314565742243877,5.36691641116773,5.422880202152206,5.479555616400361,5.533685167628922,5.582760026751313,5.6255619840572,5.66205919769741,5.692960210980994,5.7192592533399536,5.7419341594646,5.761805498574846,4.373593832932724,4.391743565959792,4.412891538348455,4.4375998984805785,4.466530636022439,4.500440576381293,4.540149206648294,4.5864583727919275,4.639999695862928,4.7009913244761705,4.76890024524078,4.842030887188104,4.917198355537656,4.990168528004665,5.057803663258179,5.120433073115675,5.180981451253143,5.242141742156798,5.305075008669607,5.369345251723591,5.433120817085624,5.493784706649333,5.5489057685432215,5.597034842044293,5.63792445362445,5.672241892459149,5.7011028176496445,5.7256867681866686,5.747021262247161,5.765906679133771,5.782922667001034,4.373005418284047,4.389458699358565,4.408319522394277,4.430012898977718,4.455057152203314,4.484080630586078,4.517831187435184,4.557165524141457,4.602997055156494,4.656172544585053,4.717243263524986,4.78610431243624,4.861547469679123,4.941083588325075,5.021856473472883,5.1025200848084316,5.1834597348826765,5.2646365012263105,5.344303976288542,5.419638707123356,5.487901764564282,5.547327079751433,5.59748041100191,5.639072658178504,5.673471254207803,5.702214364034349,5.726693615221217,5.748017680313758,5.766997781561366,5.784192126922784,5.799967349970966,4.376553495200183,4.39198247046091,4.4093546893561975,4.428981816744627,4.451261048166019,4.4767059962650135,4.505984088645517,4.539955006286784,4.579695731836903,4.6264826311853655,4.681679482519961,4.74645939557174,4.821305324949063,4.905412168192579,4.99655567562249,5.091951014480323,5.188945877112327,5.284254392711369,5.373668353852032,5.453440191686063,5.521598925828822,5.578127867585586,5.6243630638534245,5.662227907818245,5.693656919830886,5.720291608677758,5.743387712353312,5.763840904823262,5.782259272008126,5.799041857413868,5.814445639912357,4.384004670945509,4.3989452509585245,4.4154719370854965,4.433816907488801,4.454299747640589,4.477371234989278,4.503672236048429,4.534105266062445,4.569905780635677,4.612679487434105,4.664338069467826,4.726825930955597,4.801525681427002,4.888375538722637,4.985169727018925,5.087869279015202,5.191748351834064,5.2919291305360785,5.383714591438559,5.463822516398961,5.531249414923275,5.586894913820167,5.6326311258415025,5.670525556930156,5.702413384453589,5.729746118502598,5.753594852191356,5.774717212582374,5.7936372267540905,5.8107157252880794,5.826204636889666,4.394911584002474,4.409759563785595,4.425948737192703,4.4436859132447655,4.463286764249249,4.48523305850422,4.510246332441555,4.5393703486820485,4.574038299752067,4.616072919052521,4.667532966217107,4.730302639699103,4.80537871689475,4.892021301436686,4.987307791125131,5.0868188858286665,5.186231355162043,5.281995316235756,5.3708192207185785,5.450016469843882,5.518413821835792,5.576377154565759,5.625171672402397,5.666343286904767,5.701354178694158,5.731431783367425,5.757542120385922,5.780420119781361,5.800617693520311,5.818550536727795,5.8345365295263445,4.4085884428423805,4.423692821807281,4.440073970187354,4.458000391417977,4.477893101183055,4.500389077874264,4.526406932624869,4.5571894142824805,4.594274164965997,4.639323378984121,4.693754302484491,4.7581989608354975,4.83198691273994,4.912979873548319,4.9980369479794655,5.0841478766711585,5.169689804154022,5.2542660621455735,5.336786215984206,5.414764650925677,5.48577546058617,5.548587752329389,5.603132481471488,5.650042432392136,5.690252382194571,5.724748939538738,5.754441190249107,5.780110165083636,5.802402537959831,5.821844769500867,5.838863746827336,4.424540876531499,4.440492284920919,4.457980275409272,4.47744199345111,4.499513316559559,4.525069582537702,4.5552254692731085,4.591241940577962,4.634281285539871,4.684995744232764,4.743065598651827,4.806970738711089,4.874291485090571,4.942519820282096,5.0099562250900265,5.076322183147432,5.143064799478227,5.212723860328486,5.286459023391915,5.362181789652269,5.436045486177369,5.5048189325021255,5.566705034253252,5.621115452224815,5.668247942966924,5.708730760353469,5.74336935216054,5.772988454966695,5.798349218689662,5.820116225536801,5.838852658195462,4.443480417681217,4.461500319758012,4.4817661465591545,4.504953350901148,4.531936093966315,4.563740158950992,4.601377090094339,4.6455121345855215,4.695998266257724,4.751474801793331,4.809378080296938,4.866609372338502,4.92065769352155,4.970540892569436,5.0170325485948215,5.062300786857156,5.109625841959696,5.163141681941772,5.225955936959603,5.297232236264021,5.372493204615706,5.4467275387596885,5.516312048122973,5.579206158066981,5.634599766732906,5.682527567125576,5.723530484536099,5.758389788596035,5.787947606529701,5.8130048977087565,5.83427487041731,4.46812651016223,4.490140582699652,4.515526018381824,4.545168018741157,4.58001841702647,4.6208541514563555,4.667861535514973,4.720134712574707,4.7753633872129075,4.830078428584197,4.880592483163708,4.92426352416352,4.9603944487109235,4.99032175783457,5.016797279666519,5.043190597632923,5.07319339314398,5.111180525935168,5.161546503930944,5.2255229530711835,5.299369010832129,5.377044043172854,5.453314905984785,5.524643193096024,5.588994687354733,5.645519342214217,5.694228356474848,5.735672548039355,5.770669100068369,5.800109753480397,5.824848819282996,4.502412909371304,4.530607829304179,4.563538866855294,4.602093467140368,4.646820531238072,4.697441243792292,4.752346358114667,4.808418596093464,4.861520172217237,4.907626909405302,4.944089331090751,4.9703718993887405,4.98800600133999,4.999960449476439,5.009808855166814,5.021045290269137,5.036939917707137,5.061240086489291,5.0986871815753005,5.152696226995701,5.221643416971208,5.299611258899382,5.380248876301232,5.4587185864219565,5.53175246087267,5.597406283849768,5.654857681820826,5.704145946314169,5.745863731385265,5.780879221975188,5.810137146871324,4.549491634397386,4.585849741346327,4.628226467391246,4.676935797900503,4.731233294916139,4.788858506999014,4.846040326424424,4.898222235995089,4.941307287216403,4.972806059618329,4.992349385271806,5.001497878549975,5.003141013168389,5.000801015033842,4.998012173466339,4.997869747042994,5.0029557872905634,5.0160392393388324,5.041309194744717,5.083636272043821,5.144315637048643,5.218920286095442,5.3006835757776125,5.383816260364501,5.464064906755978,5.538424610935437,5.6050382802941625,5.66312309271002,5.712757155349229,5.754578495397442,5.789503300441094,4.610802762036124,4.656813963655242,4.709266009241715,4.766930509891605,4.826944427854502,4.885038777670649,4.936475624160596,4.977313806180515,5.005360386548001,5.0204353434716396,5.024058494562327,5.018893120501352,5.008195194056905,4.995349298589054,4.983483297180359,4.975167539071679,4.97233044242075,4.976772722012053,4.991573321390548,5.021869147532162,5.071708536214456,5.139418091504009,5.2187453993447805,5.303291717448621,5.388171527321732,5.4696466391220895,5.544895358742547,5.61211703974454,5.670559750382564,5.720335290645059,5.762120057754943,4.686495461417483,4.742315607933828,4.802866035661292,4.864736148892265,4.923320432689724,4.973916357512393,5.0129191602207985,5.0385218397130425,5.050742102159261,5.051022328219461,5.041734514421297,5.025764535429152,5.00618998480427,4.986006768217573,4.967873212335108,4.953880072948465,4.945435620958869,4.943559728520269,4.950084165167438,4.9693275842275,5.007011743348628,5.064898423403725,5.138450225059759,5.221017481419529,5.307275937063728,5.393198813734462,5.475400636166586,5.55115741184286,5.6186931732708025,5.677273620780529,5.727034673972328,4.775037746474786,4.83792744741576,4.901040639522049,4.959603905020566,5.009141398129895,5.046515276659909,5.070349401557983,5.0808508973849325,5.079361853743198,5.067937517727965,5.049053417080533,5.025404491466064,4.999728160225564,4.974614497971932,4.952304125477675,4.934494832081511,4.922210055929241,4.9159173373881275,4.916370335129628,4.926466162376714,4.9521082289325165,4.998181819383524,5.063133348975077,5.140713419673744,5.2250966503164955,5.3121923618831275,5.39860675719574,5.481146528831327,5.557119306855714,5.62474971268034,5.683309284747397,4.871439164369852,4.935161805797505,4.993179584245282,5.041403364553365,5.077244103851001,5.099764260121643,5.10933969789031,5.107198456958175,5.0950767046532155,5.0750331313867845,5.049350713713748,5.020442752855543,4.990720590673998,4.962425939256996,4.937453463289506,4.917186576498067,4.90236966604784,4.8931157044217715,4.889401007579183,4.89262538921318,4.907605664851772,4.941064393212949,4.995206959174371,5.065365246796055,5.145177352770919,5.2302668973844915,5.317577862475078,5.404095896580907,5.486698646356826,5.562682599301636,5.630257534770701,4.96674523685815,5.023720645344782,5.070383860809368,5.104731720676545,5.1262443104605975,5.135438284572068,5.133421491463809,5.121624590383072,5.1017040957067685,5.075527732805095,5.045152524490992,5.01274662086688,4.980453454718895,4.950228028366138,4.9236794257163,4.901936618921253,4.885539099959845,4.87438924421929,4.867985294860083,4.8665031299051105,4.873019354368396,4.894372780361568,4.936234716971684,4.996996769683755,5.07027311601666,5.150878865981538,5.235923368114863,5.323051988925366,5.409423991181725,5.491910640295572,5.5677736159060345,5.051144427991836,5.09603354720509,5.128905322332368,5.1496162531230745,5.1587927281916555,5.157422533659472,5.146655447655417,5.127775220194914,5.102248905878112,5.071765290944415,5.0382090013372895,5.0035602237125065,4.969745472518518,4.9384796648453575,4.911131145629628,4.888618236311321,4.871325205657618,4.8590372013909136,4.851007742279222,4.846588172109381,4.847087851516146,4.8580211055831874,4.8871095519123795,4.936821266008765,5.002098549478909,5.076655369663012,5.157069822674421,5.241621859495302,5.328341078800797,5.414421652634706,5.496686345674981,5.118463794960853,5.14987115567941,5.169917934836825,5.179309167232274,5.178917395212533,5.169643003333896,5.152436327903017,5.128391941558294,5.0988342379562965,5.0653398851580835,5.029677752622155,4.993681813258216,4.959095023697069,4.927424186442231,4.899829936043625,4.877052512871371,4.85935409341182,4.846457900347001,4.8375276170069945,4.831460039600241,4.828164163407289,4.831109171516127,4.848128930239342,4.885561090322651,4.941495426383908,5.00910547115173,5.083590702752145,5.163234529901572,5.2470684208807965,5.333269261584004,5.41898623311603,5.167835087221532,5.187308848937316,5.197051602559501,5.1978285632936165,5.190325412210912,5.175204038990492,5.153224656419701,5.125364709239676,5.092882780758003,5.057300590678025,5.020306518721961,4.983610478831737,4.948791166353509,4.917169589673528,4.889724224423301,4.867042578732175,4.84928745458812,4.836150327130482,4.826794555688618,4.819936035266575,4.814576428355107,4.812141543421609,4.818945644839068,4.843663216743266,4.888842726552071,4.948763689811259,5.016884572061116,5.090456104475248,5.169052946542578,5.252088835417792,5.337738446256737],\"type\":\"scatter3d\"},{\"colorbar\":{\"x\":0},\"name\":\"data surface\",\"opacity\":0.5,\"showlegend\":true,\"x\":[[0.0,0.1,0.2,0.30000000000000004,0.4,0.5,0.6000000000000001,0.7000000000000001,0.8,0.9,1.0],[0.0,0.1,0.2,0.30000000000000004,0.4,0.5,0.6000000000000001,0.7000000000000001,0.8,0.9,1.0],[0.0,0.1,0.2,0.30000000000000004,0.4,0.5,0.6000000000000001,0.7000000000000001,0.8,0.9,1.0],[0.0,0.1,0.2,0.30000000000000004,0.4,0.5,0.6000000000000001,0.7000000000000001,0.8,0.9,1.0],[0.0,0.1,0.2,0.30000000000000004,0.4,0.5,0.6000000000000001,0.7000000000000001,0.8,0.9,1.0],[0.0,0.1,0.2,0.30000000000000004,0.4,0.5,0.6000000000000001,0.7000000000000001,0.8,0.9,1.0],[0.0,0.1,0.2,0.30000000000000004,0.4,0.5,0.6000000000000001,0.7000000000000001,0.8,0.9,1.0],[0.0,0.1,0.2,0.30000000000000004,0.4,0.5,0.6000000000000001,0.7000000000000001,0.8,0.9,1.0],[0.0,0.1,0.2,0.30000000000000004,0.4,0.5,0.6000000000000001,0.7000000000000001,0.8,0.9,1.0],[0.0,0.1,0.2,0.30000000000000004,0.4,0.5,0.6000000000000001,0.7000000000000001,0.8,0.9,1.0],[0.0,0.1,0.2,0.30000000000000004,0.4,0.5,0.6000000000000001,0.7000000000000001,0.8,0.9,1.0]],\"y\":[[0.0,0.0,0.0,0.0,0.0,0.0,0.0,0.0,0.0,0.0,0.0],[0.1,0.1,0.1,0.1,0.1,0.1,0.1,0.1,0.1,0.1,0.1],[0.2,0.2,0.2,0.2,0.2,0.2,0.2,0.2,0.2,0.2,0.2],[0.30000000000000004,0.30000000000000004,0.30000000000000004,0.30000000000000004,0.30000000000000004,0.30000000000000004,0.30000000000000004,0.30000000000000004,0.30000000000000004,0.30000000000000004,0.30000000000000004],[0.4,0.4,0.4,0.4,0.4,0.4,0.4,0.4,0.4,0.4,0.4],[0.5,0.5,0.5,0.5,0.5,0.5,0.5,0.5,0.5,0.5,0.5],[0.6000000000000001,0.6000000000000001,0.6000000000000001,0.6000000000000001,0.6000000000000001,0.6000000000000001,0.6000000000000001,0.6000000000000001,0.6000000000000001,0.6000000000000001,0.6000000000000001],[0.7000000000000001,0.7000000000000001,0.7000000000000001,0.7000000000000001,0.7000000000000001,0.7000000000000001,0.7000000000000001,0.7000000000000001,0.7000000000000001,0.7000000000000001,0.7000000000000001],[0.8,0.8,0.8,0.8,0.8,0.8,0.8,0.8,0.8,0.8,0.8],[0.9,0.9,0.9,0.9,0.9,0.9,0.9,0.9,0.9,0.9,0.9],[1.0,1.0,1.0,1.0,1.0,1.0,1.0,1.0,1.0,1.0,1.0]],\"z\":[[5.0,5.001,5.008,5.027,5.064,5.125,5.216,5.343,5.5120000000000005,5.729,6.0],[4.98,4.981,4.988,5.007,5.044,5.105,5.196,5.323,5.492,5.709,5.98],[4.96,4.961,4.968,4.987,5.024,5.085,5.176,5.303,5.472,5.689,5.96],[4.94,4.941,4.948,4.967,5.004,5.065,5.156,5.283,5.452,5.6690000000000005,5.9399999999999995],[4.92,4.921,4.928,4.947,4.984,5.045,5.136,5.263,5.432,5.649,5.92],[4.9,4.901,4.908,4.927,4.964,5.025,5.116,5.243,5.412,5.6290000000000004,5.9],[4.88,4.881,4.888,4.907,4.944,5.005,5.096,5.223,5.392,5.609,5.88],[4.86,4.861,4.868,4.887,4.924,4.985,5.0760000000000005,5.203,5.372,5.589,5.86],[4.84,4.841,4.848,4.867,4.904,4.965,5.056,5.183,5.352,5.569,5.84],[4.82,4.821,4.828,4.847,4.884,4.945,5.0360000000000005,5.163,5.332,5.549,5.82],[4.8,4.801,4.808,4.827,4.864,4.925,5.016,5.143,5.312,5.529,5.8]],\"type\":\"surface\"}],                        {\"template\":{\"data\":{\"histogram2dcontour\":[{\"type\":\"histogram2dcontour\",\"colorbar\":{\"outlinewidth\":0,\"ticks\":\"\"},\"colorscale\":[[0.0,\"#0d0887\"],[0.1111111111111111,\"#46039f\"],[0.2222222222222222,\"#7201a8\"],[0.3333333333333333,\"#9c179e\"],[0.4444444444444444,\"#bd3786\"],[0.5555555555555556,\"#d8576b\"],[0.6666666666666666,\"#ed7953\"],[0.7777777777777778,\"#fb9f3a\"],[0.8888888888888888,\"#fdca26\"],[1.0,\"#f0f921\"]]}],\"choropleth\":[{\"type\":\"choropleth\",\"colorbar\":{\"outlinewidth\":0,\"ticks\":\"\"}}],\"histogram2d\":[{\"type\":\"histogram2d\",\"colorbar\":{\"outlinewidth\":0,\"ticks\":\"\"},\"colorscale\":[[0.0,\"#0d0887\"],[0.1111111111111111,\"#46039f\"],[0.2222222222222222,\"#7201a8\"],[0.3333333333333333,\"#9c179e\"],[0.4444444444444444,\"#bd3786\"],[0.5555555555555556,\"#d8576b\"],[0.6666666666666666,\"#ed7953\"],[0.7777777777777778,\"#fb9f3a\"],[0.8888888888888888,\"#fdca26\"],[1.0,\"#f0f921\"]]}],\"heatmap\":[{\"type\":\"heatmap\",\"colorbar\":{\"outlinewidth\":0,\"ticks\":\"\"},\"colorscale\":[[0.0,\"#0d0887\"],[0.1111111111111111,\"#46039f\"],[0.2222222222222222,\"#7201a8\"],[0.3333333333333333,\"#9c179e\"],[0.4444444444444444,\"#bd3786\"],[0.5555555555555556,\"#d8576b\"],[0.6666666666666666,\"#ed7953\"],[0.7777777777777778,\"#fb9f3a\"],[0.8888888888888888,\"#fdca26\"],[1.0,\"#f0f921\"]]}],\"heatmapgl\":[{\"type\":\"heatmapgl\",\"colorbar\":{\"outlinewidth\":0,\"ticks\":\"\"},\"colorscale\":[[0.0,\"#0d0887\"],[0.1111111111111111,\"#46039f\"],[0.2222222222222222,\"#7201a8\"],[0.3333333333333333,\"#9c179e\"],[0.4444444444444444,\"#bd3786\"],[0.5555555555555556,\"#d8576b\"],[0.6666666666666666,\"#ed7953\"],[0.7777777777777778,\"#fb9f3a\"],[0.8888888888888888,\"#fdca26\"],[1.0,\"#f0f921\"]]}],\"contourcarpet\":[{\"type\":\"contourcarpet\",\"colorbar\":{\"outlinewidth\":0,\"ticks\":\"\"}}],\"contour\":[{\"type\":\"contour\",\"colorbar\":{\"outlinewidth\":0,\"ticks\":\"\"},\"colorscale\":[[0.0,\"#0d0887\"],[0.1111111111111111,\"#46039f\"],[0.2222222222222222,\"#7201a8\"],[0.3333333333333333,\"#9c179e\"],[0.4444444444444444,\"#bd3786\"],[0.5555555555555556,\"#d8576b\"],[0.6666666666666666,\"#ed7953\"],[0.7777777777777778,\"#fb9f3a\"],[0.8888888888888888,\"#fdca26\"],[1.0,\"#f0f921\"]]}],\"surface\":[{\"type\":\"surface\",\"colorbar\":{\"outlinewidth\":0,\"ticks\":\"\"},\"colorscale\":[[0.0,\"#0d0887\"],[0.1111111111111111,\"#46039f\"],[0.2222222222222222,\"#7201a8\"],[0.3333333333333333,\"#9c179e\"],[0.4444444444444444,\"#bd3786\"],[0.5555555555555556,\"#d8576b\"],[0.6666666666666666,\"#ed7953\"],[0.7777777777777778,\"#fb9f3a\"],[0.8888888888888888,\"#fdca26\"],[1.0,\"#f0f921\"]]}],\"mesh3d\":[{\"type\":\"mesh3d\",\"colorbar\":{\"outlinewidth\":0,\"ticks\":\"\"}}],\"scatter\":[{\"fillpattern\":{\"fillmode\":\"overlay\",\"size\":10,\"solidity\":0.2},\"type\":\"scatter\"}],\"parcoords\":[{\"type\":\"parcoords\",\"line\":{\"colorbar\":{\"outlinewidth\":0,\"ticks\":\"\"}}}],\"scatterpolargl\":[{\"type\":\"scatterpolargl\",\"marker\":{\"colorbar\":{\"outlinewidth\":0,\"ticks\":\"\"}}}],\"bar\":[{\"error_x\":{\"color\":\"#2a3f5f\"},\"error_y\":{\"color\":\"#2a3f5f\"},\"marker\":{\"line\":{\"color\":\"#E5ECF6\",\"width\":0.5},\"pattern\":{\"fillmode\":\"overlay\",\"size\":10,\"solidity\":0.2}},\"type\":\"bar\"}],\"scattergeo\":[{\"type\":\"scattergeo\",\"marker\":{\"colorbar\":{\"outlinewidth\":0,\"ticks\":\"\"}}}],\"scatterpolar\":[{\"type\":\"scatterpolar\",\"marker\":{\"colorbar\":{\"outlinewidth\":0,\"ticks\":\"\"}}}],\"histogram\":[{\"marker\":{\"pattern\":{\"fillmode\":\"overlay\",\"size\":10,\"solidity\":0.2}},\"type\":\"histogram\"}],\"scattergl\":[{\"type\":\"scattergl\",\"marker\":{\"colorbar\":{\"outlinewidth\":0,\"ticks\":\"\"}}}],\"scatter3d\":[{\"type\":\"scatter3d\",\"line\":{\"colorbar\":{\"outlinewidth\":0,\"ticks\":\"\"}},\"marker\":{\"colorbar\":{\"outlinewidth\":0,\"ticks\":\"\"}}}],\"scattermapbox\":[{\"type\":\"scattermapbox\",\"marker\":{\"colorbar\":{\"outlinewidth\":0,\"ticks\":\"\"}}}],\"scatterternary\":[{\"type\":\"scatterternary\",\"marker\":{\"colorbar\":{\"outlinewidth\":0,\"ticks\":\"\"}}}],\"scattercarpet\":[{\"type\":\"scattercarpet\",\"marker\":{\"colorbar\":{\"outlinewidth\":0,\"ticks\":\"\"}}}],\"carpet\":[{\"aaxis\":{\"endlinecolor\":\"#2a3f5f\",\"gridcolor\":\"white\",\"linecolor\":\"white\",\"minorgridcolor\":\"white\",\"startlinecolor\":\"#2a3f5f\"},\"baxis\":{\"endlinecolor\":\"#2a3f5f\",\"gridcolor\":\"white\",\"linecolor\":\"white\",\"minorgridcolor\":\"white\",\"startlinecolor\":\"#2a3f5f\"},\"type\":\"carpet\"}],\"table\":[{\"cells\":{\"fill\":{\"color\":\"#EBF0F8\"},\"line\":{\"color\":\"white\"}},\"header\":{\"fill\":{\"color\":\"#C8D4E3\"},\"line\":{\"color\":\"white\"}},\"type\":\"table\"}],\"barpolar\":[{\"marker\":{\"line\":{\"color\":\"#E5ECF6\",\"width\":0.5},\"pattern\":{\"fillmode\":\"overlay\",\"size\":10,\"solidity\":0.2}},\"type\":\"barpolar\"}],\"pie\":[{\"automargin\":true,\"type\":\"pie\"}]},\"layout\":{\"autotypenumbers\":\"strict\",\"colorway\":[\"#636efa\",\"#EF553B\",\"#00cc96\",\"#ab63fa\",\"#FFA15A\",\"#19d3f3\",\"#FF6692\",\"#B6E880\",\"#FF97FF\",\"#FECB52\"],\"font\":{\"color\":\"#2a3f5f\"},\"hovermode\":\"closest\",\"hoverlabel\":{\"align\":\"left\"},\"paper_bgcolor\":\"white\",\"plot_bgcolor\":\"#E5ECF6\",\"polar\":{\"bgcolor\":\"#E5ECF6\",\"angularaxis\":{\"gridcolor\":\"white\",\"linecolor\":\"white\",\"ticks\":\"\"},\"radialaxis\":{\"gridcolor\":\"white\",\"linecolor\":\"white\",\"ticks\":\"\"}},\"ternary\":{\"bgcolor\":\"#E5ECF6\",\"aaxis\":{\"gridcolor\":\"white\",\"linecolor\":\"white\",\"ticks\":\"\"},\"baxis\":{\"gridcolor\":\"white\",\"linecolor\":\"white\",\"ticks\":\"\"},\"caxis\":{\"gridcolor\":\"white\",\"linecolor\":\"white\",\"ticks\":\"\"}},\"coloraxis\":{\"colorbar\":{\"outlinewidth\":0,\"ticks\":\"\"}},\"colorscale\":{\"sequential\":[[0.0,\"#0d0887\"],[0.1111111111111111,\"#46039f\"],[0.2222222222222222,\"#7201a8\"],[0.3333333333333333,\"#9c179e\"],[0.4444444444444444,\"#bd3786\"],[0.5555555555555556,\"#d8576b\"],[0.6666666666666666,\"#ed7953\"],[0.7777777777777778,\"#fb9f3a\"],[0.8888888888888888,\"#fdca26\"],[1.0,\"#f0f921\"]],\"sequentialminus\":[[0.0,\"#0d0887\"],[0.1111111111111111,\"#46039f\"],[0.2222222222222222,\"#7201a8\"],[0.3333333333333333,\"#9c179e\"],[0.4444444444444444,\"#bd3786\"],[0.5555555555555556,\"#d8576b\"],[0.6666666666666666,\"#ed7953\"],[0.7777777777777778,\"#fb9f3a\"],[0.8888888888888888,\"#fdca26\"],[1.0,\"#f0f921\"]],\"diverging\":[[0,\"#8e0152\"],[0.1,\"#c51b7d\"],[0.2,\"#de77ae\"],[0.3,\"#f1b6da\"],[0.4,\"#fde0ef\"],[0.5,\"#f7f7f7\"],[0.6,\"#e6f5d0\"],[0.7,\"#b8e186\"],[0.8,\"#7fbc41\"],[0.9,\"#4d9221\"],[1,\"#276419\"]]},\"xaxis\":{\"gridcolor\":\"white\",\"linecolor\":\"white\",\"ticks\":\"\",\"title\":{\"standoff\":15},\"zerolinecolor\":\"white\",\"automargin\":true,\"zerolinewidth\":2},\"yaxis\":{\"gridcolor\":\"white\",\"linecolor\":\"white\",\"ticks\":\"\",\"title\":{\"standoff\":15},\"zerolinecolor\":\"white\",\"automargin\":true,\"zerolinewidth\":2},\"scene\":{\"xaxis\":{\"backgroundcolor\":\"#E5ECF6\",\"gridcolor\":\"white\",\"linecolor\":\"white\",\"showbackground\":true,\"ticks\":\"\",\"zerolinecolor\":\"white\",\"gridwidth\":2},\"yaxis\":{\"backgroundcolor\":\"#E5ECF6\",\"gridcolor\":\"white\",\"linecolor\":\"white\",\"showbackground\":true,\"ticks\":\"\",\"zerolinecolor\":\"white\",\"gridwidth\":2},\"zaxis\":{\"backgroundcolor\":\"#E5ECF6\",\"gridcolor\":\"white\",\"linecolor\":\"white\",\"showbackground\":true,\"ticks\":\"\",\"zerolinecolor\":\"white\",\"gridwidth\":2}},\"shapedefaults\":{\"line\":{\"color\":\"#2a3f5f\"}},\"annotationdefaults\":{\"arrowcolor\":\"#2a3f5f\",\"arrowhead\":0,\"arrowwidth\":1},\"geo\":{\"bgcolor\":\"white\",\"landcolor\":\"#E5ECF6\",\"subunitcolor\":\"white\",\"showland\":true,\"showlakes\":true,\"lakecolor\":\"white\"},\"title\":{\"x\":0.05},\"mapbox\":{\"style\":\"light\"}}},\"scene\":{\"camera\":{\"projection\":{\"type\":\"orthographic\"}}}},                        {\"responsive\": true}                    ).then(function(){\n",
              "                            \n",
              "var gd = document.getElementById('22280a07-07f2-4de9-ad83-9c226fc24b80');\n",
              "var x = new MutationObserver(function (mutations, observer) {{\n",
              "        var display = window.getComputedStyle(gd).display;\n",
              "        if (!display || display === 'none') {{\n",
              "            console.log([gd, 'removed!']);\n",
              "            Plotly.purge(gd);\n",
              "            observer.disconnect();\n",
              "        }}\n",
              "}});\n",
              "\n",
              "// Listen for the removal of the full notebook cells\n",
              "var notebookContainer = gd.closest('#notebook-container');\n",
              "if (notebookContainer) {{\n",
              "    x.observe(notebookContainer, {childList: true});\n",
              "}}\n",
              "\n",
              "// Listen for the clearing of the current output cell\n",
              "var outputEl = gd.closest('.output');\n",
              "if (outputEl) {{\n",
              "    x.observe(outputEl, {childList: true});\n",
              "}}\n",
              "\n",
              "                        })                };                            </script>        </div>\n",
              "</body>\n",
              "</html>"
            ]
          },
          "metadata": {}
        }
      ]
    },
    {
      "cell_type": "code",
      "source": [],
      "metadata": {
        "id": "nQ_2c4WFvkv7"
      },
      "execution_count": null,
      "outputs": []
    }
  ]
}