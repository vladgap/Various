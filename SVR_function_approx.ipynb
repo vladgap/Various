{
  "nbformat": 4,
  "nbformat_minor": 0,
  "metadata": {
    "colab": {
      "provenance": [],
      "toc_visible": true,
      "authorship_tag": "ABX9TyNQFh9FfEYxH9awrijSoZtC",
      "include_colab_link": true
    },
    "kernelspec": {
      "name": "python3",
      "display_name": "Python 3"
    },
    "language_info": {
      "name": "python"
    }
  },
  "cells": [
    {
      "cell_type": "markdown",
      "metadata": {
        "id": "view-in-github",
        "colab_type": "text"
      },
      "source": [
        "<a href=\"https://colab.research.google.com/github/vladgap/Various/blob/main/SVR_function_approx.ipynb\" target=\"_parent\"><img src=\"https://colab.research.google.com/assets/colab-badge.svg\" alt=\"Open In Colab\"/></a>"
      ]
    },
    {
      "cell_type": "code",
      "execution_count": 1,
      "metadata": {
        "id": "-iV87ghCR8gK"
      },
      "outputs": [],
      "source": [
        "import numpy as np\n",
        "import pandas as pd\n",
        "import plotly.express as px\n",
        "import plotly.graph_objs as go\n",
        "from plotly.subplots import make_subplots\n",
        "from sklearn import preprocessing\n",
        "import matplotlib.pyplot as plt\n",
        "import skimage.io as sio"
      ]
    },
    {
      "cell_type": "code",
      "source": [
        "from sklearn.svm import SVR"
      ],
      "metadata": {
        "id": "4l_ji9AUSdJm"
      },
      "execution_count": 2,
      "outputs": []
    },
    {
      "cell_type": "markdown",
      "source": [
        "# 1"
      ],
      "metadata": {
        "id": "MtgFyX0NSM8X"
      }
    },
    {
      "cell_type": "code",
      "source": [
        "def func(x):\n",
        "    y = x**2+1\n",
        "    return y"
      ],
      "metadata": {
        "id": "N2hJEDYRSKf9"
      },
      "execution_count": 3,
      "outputs": []
    },
    {
      "cell_type": "code",
      "source": [
        "x=np.linspace(-1,2,16)\n",
        "data1=np.array([\n",
        "               x,\n",
        "               func(x)\n",
        "               ]).T\n",
        "X1=data1[:,[0]]\n",
        "T1=data1[:,[1]]"
      ],
      "metadata": {
        "id": "WGbMB6khyiOs"
      },
      "execution_count": 4,
      "outputs": []
    },
    {
      "cell_type": "code",
      "source": [
        "scaler_X1 = preprocessing.StandardScaler().fit(X1)\n",
        "scaler_T1 = preprocessing.StandardScaler().fit(T1)\n",
        "\n",
        "scaler_X1.mean_, scaler_X1.scale_ = 0, 1 # disable scaling\n",
        "scaler_T1.mean_, scaler_T1.scale_ = 0, 1 # disable scaling\n",
        "\n",
        "scaler_data1 = [scaler_X1.mean_, scaler_X1.scale_, scaler_T1.mean_, scaler_T1.scale_]\n",
        "print('scaler X -- mean, stdev:  ',scaler_data1[0], scaler_data1[1])\n",
        "print('scaler T -- mean, stdev:  ',scaler_data1[2], scaler_data1[3])\n",
        "\n",
        "X_sc1 = scaler_X1.transform(X1)\n",
        "T_sc1 = scaler_T1.transform(T1)\n",
        "X_sc1[0:3]"
      ],
      "metadata": {
        "colab": {
          "base_uri": "https://localhost:8080/"
        },
        "outputId": "e3f8aeea-7134-4ba4-c240-5de5829ccbea",
        "id": "BsyaONOmmuD1"
      },
      "execution_count": 5,
      "outputs": [
        {
          "output_type": "stream",
          "name": "stdout",
          "text": [
            "scaler X -- mean, stdev:   0 1\n",
            "scaler T -- mean, stdev:   0 1\n"
          ]
        },
        {
          "output_type": "execute_result",
          "data": {
            "text/plain": [
              "array([[-1. ],\n",
              "       [-0.8],\n",
              "       [-0.6]])"
            ]
          },
          "metadata": {},
          "execution_count": 5
        }
      ]
    },
    {
      "cell_type": "code",
      "source": [
        "# T_sc1.ravel()"
      ],
      "metadata": {
        "id": "a0tMqEHAUU1u"
      },
      "execution_count": 6,
      "outputs": []
    },
    {
      "cell_type": "code",
      "source": [
        "# T_sc1.ravel().reshape(-1,1)"
      ],
      "metadata": {
        "id": "h0AQzdBfV6qR"
      },
      "execution_count": 7,
      "outputs": []
    },
    {
      "cell_type": "markdown",
      "source": [
        "## 1_1"
      ],
      "metadata": {
        "id": "R52wfZNua8s6"
      }
    },
    {
      "cell_type": "code",
      "source": [
        "svr1=SVR(kernel='rbf', gamma=10)\n",
        "svr1.fit(X_sc1,T_sc1.ravel())\n",
        "predics1=scaler_T1.inverse_transform(svr1.predict(X_sc1).reshape(-1,1))\n",
        "# predics1"
      ],
      "metadata": {
        "id": "AAHRkPQrSHVd"
      },
      "execution_count": 8,
      "outputs": []
    },
    {
      "cell_type": "code",
      "source": [
        "# @title\n",
        "errors1=(predics1-T1)/T1*100\n",
        "# plt.hist(errors1[:,0]) # division by 0"
      ],
      "metadata": {
        "id": "9TokyvaPXDRL"
      },
      "execution_count": 9,
      "outputs": []
    },
    {
      "cell_type": "code",
      "source": [
        "# @title\n",
        "fig = make_subplots(specs=[[{\"secondary_y\": True}]])\n",
        "fig.add_trace(go.Scatter(x=T1[:,0], y=predics1[:,0], mode='markers', marker_size=4, name='predics', marker_color='black'),secondary_y=False)\n",
        "fig.add_trace(go.Scatter(x=T1[:,0], y=T1[:,0], mode='lines', line_color='red', line_width=0.2, showlegend=False),secondary_y=False)\n",
        "fig.add_trace(go.Scatter(x=T1[:,0], y=errors1[:,0], mode='markers', marker_size=4, name='errors', marker_color='orange'),secondary_y=True)\n",
        "\n",
        "fig.update_xaxes(title_text=\"data\")\n",
        "\n",
        "# Set y-axes titles\n",
        "fig.update_yaxes(title_text=\"predics\", secondary_y=False)\n",
        "fig.update_yaxes(title_text=\"% error\", range=[-20, 20], secondary_y=True, showgrid=False, tick0=-5, dtick=2)\n",
        "\n",
        "fig.show()"
      ],
      "metadata": {
        "colab": {
          "base_uri": "https://localhost:8080/",
          "height": 542
        },
        "id": "aJP-rr5sXFBh",
        "outputId": "9a7ed7db-1efe-4a58-ce82-7361ae0bda88"
      },
      "execution_count": 10,
      "outputs": [
        {
          "output_type": "display_data",
          "data": {
            "text/html": [
              "<html>\n",
              "<head><meta charset=\"utf-8\" /></head>\n",
              "<body>\n",
              "    <div>            <script src=\"https://cdnjs.cloudflare.com/ajax/libs/mathjax/2.7.5/MathJax.js?config=TeX-AMS-MML_SVG\"></script><script type=\"text/javascript\">if (window.MathJax && window.MathJax.Hub && window.MathJax.Hub.Config) {window.MathJax.Hub.Config({SVG: {font: \"STIX-Web\"}});}</script>                <script type=\"text/javascript\">window.PlotlyConfig = {MathJaxConfig: 'local'};</script>\n",
              "        <script charset=\"utf-8\" src=\"https://cdn.plot.ly/plotly-2.24.1.min.js\"></script>                <div id=\"15cd2a76-eb96-4ae1-9dc2-cfbf2a2da186\" class=\"plotly-graph-div\" style=\"height:525px; width:100%;\"></div>            <script type=\"text/javascript\">                                    window.PLOTLYENV=window.PLOTLYENV || {};                                    if (document.getElementById(\"15cd2a76-eb96-4ae1-9dc2-cfbf2a2da186\")) {                    Plotly.newPlot(                        \"15cd2a76-eb96-4ae1-9dc2-cfbf2a2da186\",                        [{\"marker\":{\"color\":\"black\",\"size\":4},\"mode\":\"markers\",\"name\":\"predics\",\"x\":[2.0,1.6400000000000001,1.3599999999999999,1.16,1.04,1.0,1.04,1.1600000000000001,1.36,1.6400000000000001,2.0,2.4400000000000004,2.960000000000001,3.5600000000000005,4.240000000000001,5.0],\"y\":[1.983062314580048,1.7399886807791067,1.4601771959006027,1.2598493787200606,1.140101343069298,1.0993992061825273,1.1401701339949275,1.2596390873853243,1.460149410839192,1.7401701380984949,2.0521866439375875,2.4076527451970007,2.8603868283273277,3.4599685585810582,4.016902300042465,3.851518524870314],\"type\":\"scatter\",\"xaxis\":\"x\",\"yaxis\":\"y\"},{\"line\":{\"color\":\"red\",\"width\":0.2},\"mode\":\"lines\",\"showlegend\":false,\"x\":[2.0,1.6400000000000001,1.3599999999999999,1.16,1.04,1.0,1.04,1.1600000000000001,1.36,1.6400000000000001,2.0,2.4400000000000004,2.960000000000001,3.5600000000000005,4.240000000000001,5.0],\"y\":[2.0,1.6400000000000001,1.3599999999999999,1.16,1.04,1.0,1.04,1.1600000000000001,1.36,1.6400000000000001,2.0,2.4400000000000004,2.960000000000001,3.5600000000000005,4.240000000000001,5.0],\"type\":\"scatter\",\"xaxis\":\"x\",\"yaxis\":\"y\"},{\"marker\":{\"color\":\"orange\",\"size\":4},\"mode\":\"markers\",\"name\":\"errors\",\"x\":[2.0,1.6400000000000001,1.3599999999999999,1.16,1.04,1.0,1.04,1.1600000000000001,1.36,1.6400000000000001,2.0,2.4400000000000004,2.960000000000001,3.5600000000000005,4.240000000000001,5.0],\"y\":[-0.8468842709976054,6.096870779213817,7.3659702868090315,8.6077050620742,9.62512914127864,9.939920618252728,9.63174365335841,8.589576498734838,7.363927267587633,6.1079352499082145,2.609332196879377,-1.3257071640573652,-3.3653098538065236,-2.809871949970288,-5.26173820654567,-22.969629502593722],\"type\":\"scatter\",\"xaxis\":\"x\",\"yaxis\":\"y2\"}],                        {\"template\":{\"data\":{\"histogram2dcontour\":[{\"type\":\"histogram2dcontour\",\"colorbar\":{\"outlinewidth\":0,\"ticks\":\"\"},\"colorscale\":[[0.0,\"#0d0887\"],[0.1111111111111111,\"#46039f\"],[0.2222222222222222,\"#7201a8\"],[0.3333333333333333,\"#9c179e\"],[0.4444444444444444,\"#bd3786\"],[0.5555555555555556,\"#d8576b\"],[0.6666666666666666,\"#ed7953\"],[0.7777777777777778,\"#fb9f3a\"],[0.8888888888888888,\"#fdca26\"],[1.0,\"#f0f921\"]]}],\"choropleth\":[{\"type\":\"choropleth\",\"colorbar\":{\"outlinewidth\":0,\"ticks\":\"\"}}],\"histogram2d\":[{\"type\":\"histogram2d\",\"colorbar\":{\"outlinewidth\":0,\"ticks\":\"\"},\"colorscale\":[[0.0,\"#0d0887\"],[0.1111111111111111,\"#46039f\"],[0.2222222222222222,\"#7201a8\"],[0.3333333333333333,\"#9c179e\"],[0.4444444444444444,\"#bd3786\"],[0.5555555555555556,\"#d8576b\"],[0.6666666666666666,\"#ed7953\"],[0.7777777777777778,\"#fb9f3a\"],[0.8888888888888888,\"#fdca26\"],[1.0,\"#f0f921\"]]}],\"heatmap\":[{\"type\":\"heatmap\",\"colorbar\":{\"outlinewidth\":0,\"ticks\":\"\"},\"colorscale\":[[0.0,\"#0d0887\"],[0.1111111111111111,\"#46039f\"],[0.2222222222222222,\"#7201a8\"],[0.3333333333333333,\"#9c179e\"],[0.4444444444444444,\"#bd3786\"],[0.5555555555555556,\"#d8576b\"],[0.6666666666666666,\"#ed7953\"],[0.7777777777777778,\"#fb9f3a\"],[0.8888888888888888,\"#fdca26\"],[1.0,\"#f0f921\"]]}],\"heatmapgl\":[{\"type\":\"heatmapgl\",\"colorbar\":{\"outlinewidth\":0,\"ticks\":\"\"},\"colorscale\":[[0.0,\"#0d0887\"],[0.1111111111111111,\"#46039f\"],[0.2222222222222222,\"#7201a8\"],[0.3333333333333333,\"#9c179e\"],[0.4444444444444444,\"#bd3786\"],[0.5555555555555556,\"#d8576b\"],[0.6666666666666666,\"#ed7953\"],[0.7777777777777778,\"#fb9f3a\"],[0.8888888888888888,\"#fdca26\"],[1.0,\"#f0f921\"]]}],\"contourcarpet\":[{\"type\":\"contourcarpet\",\"colorbar\":{\"outlinewidth\":0,\"ticks\":\"\"}}],\"contour\":[{\"type\":\"contour\",\"colorbar\":{\"outlinewidth\":0,\"ticks\":\"\"},\"colorscale\":[[0.0,\"#0d0887\"],[0.1111111111111111,\"#46039f\"],[0.2222222222222222,\"#7201a8\"],[0.3333333333333333,\"#9c179e\"],[0.4444444444444444,\"#bd3786\"],[0.5555555555555556,\"#d8576b\"],[0.6666666666666666,\"#ed7953\"],[0.7777777777777778,\"#fb9f3a\"],[0.8888888888888888,\"#fdca26\"],[1.0,\"#f0f921\"]]}],\"surface\":[{\"type\":\"surface\",\"colorbar\":{\"outlinewidth\":0,\"ticks\":\"\"},\"colorscale\":[[0.0,\"#0d0887\"],[0.1111111111111111,\"#46039f\"],[0.2222222222222222,\"#7201a8\"],[0.3333333333333333,\"#9c179e\"],[0.4444444444444444,\"#bd3786\"],[0.5555555555555556,\"#d8576b\"],[0.6666666666666666,\"#ed7953\"],[0.7777777777777778,\"#fb9f3a\"],[0.8888888888888888,\"#fdca26\"],[1.0,\"#f0f921\"]]}],\"mesh3d\":[{\"type\":\"mesh3d\",\"colorbar\":{\"outlinewidth\":0,\"ticks\":\"\"}}],\"scatter\":[{\"fillpattern\":{\"fillmode\":\"overlay\",\"size\":10,\"solidity\":0.2},\"type\":\"scatter\"}],\"parcoords\":[{\"type\":\"parcoords\",\"line\":{\"colorbar\":{\"outlinewidth\":0,\"ticks\":\"\"}}}],\"scatterpolargl\":[{\"type\":\"scatterpolargl\",\"marker\":{\"colorbar\":{\"outlinewidth\":0,\"ticks\":\"\"}}}],\"bar\":[{\"error_x\":{\"color\":\"#2a3f5f\"},\"error_y\":{\"color\":\"#2a3f5f\"},\"marker\":{\"line\":{\"color\":\"#E5ECF6\",\"width\":0.5},\"pattern\":{\"fillmode\":\"overlay\",\"size\":10,\"solidity\":0.2}},\"type\":\"bar\"}],\"scattergeo\":[{\"type\":\"scattergeo\",\"marker\":{\"colorbar\":{\"outlinewidth\":0,\"ticks\":\"\"}}}],\"scatterpolar\":[{\"type\":\"scatterpolar\",\"marker\":{\"colorbar\":{\"outlinewidth\":0,\"ticks\":\"\"}}}],\"histogram\":[{\"marker\":{\"pattern\":{\"fillmode\":\"overlay\",\"size\":10,\"solidity\":0.2}},\"type\":\"histogram\"}],\"scattergl\":[{\"type\":\"scattergl\",\"marker\":{\"colorbar\":{\"outlinewidth\":0,\"ticks\":\"\"}}}],\"scatter3d\":[{\"type\":\"scatter3d\",\"line\":{\"colorbar\":{\"outlinewidth\":0,\"ticks\":\"\"}},\"marker\":{\"colorbar\":{\"outlinewidth\":0,\"ticks\":\"\"}}}],\"scattermapbox\":[{\"type\":\"scattermapbox\",\"marker\":{\"colorbar\":{\"outlinewidth\":0,\"ticks\":\"\"}}}],\"scatterternary\":[{\"type\":\"scatterternary\",\"marker\":{\"colorbar\":{\"outlinewidth\":0,\"ticks\":\"\"}}}],\"scattercarpet\":[{\"type\":\"scattercarpet\",\"marker\":{\"colorbar\":{\"outlinewidth\":0,\"ticks\":\"\"}}}],\"carpet\":[{\"aaxis\":{\"endlinecolor\":\"#2a3f5f\",\"gridcolor\":\"white\",\"linecolor\":\"white\",\"minorgridcolor\":\"white\",\"startlinecolor\":\"#2a3f5f\"},\"baxis\":{\"endlinecolor\":\"#2a3f5f\",\"gridcolor\":\"white\",\"linecolor\":\"white\",\"minorgridcolor\":\"white\",\"startlinecolor\":\"#2a3f5f\"},\"type\":\"carpet\"}],\"table\":[{\"cells\":{\"fill\":{\"color\":\"#EBF0F8\"},\"line\":{\"color\":\"white\"}},\"header\":{\"fill\":{\"color\":\"#C8D4E3\"},\"line\":{\"color\":\"white\"}},\"type\":\"table\"}],\"barpolar\":[{\"marker\":{\"line\":{\"color\":\"#E5ECF6\",\"width\":0.5},\"pattern\":{\"fillmode\":\"overlay\",\"size\":10,\"solidity\":0.2}},\"type\":\"barpolar\"}],\"pie\":[{\"automargin\":true,\"type\":\"pie\"}]},\"layout\":{\"autotypenumbers\":\"strict\",\"colorway\":[\"#636efa\",\"#EF553B\",\"#00cc96\",\"#ab63fa\",\"#FFA15A\",\"#19d3f3\",\"#FF6692\",\"#B6E880\",\"#FF97FF\",\"#FECB52\"],\"font\":{\"color\":\"#2a3f5f\"},\"hovermode\":\"closest\",\"hoverlabel\":{\"align\":\"left\"},\"paper_bgcolor\":\"white\",\"plot_bgcolor\":\"#E5ECF6\",\"polar\":{\"bgcolor\":\"#E5ECF6\",\"angularaxis\":{\"gridcolor\":\"white\",\"linecolor\":\"white\",\"ticks\":\"\"},\"radialaxis\":{\"gridcolor\":\"white\",\"linecolor\":\"white\",\"ticks\":\"\"}},\"ternary\":{\"bgcolor\":\"#E5ECF6\",\"aaxis\":{\"gridcolor\":\"white\",\"linecolor\":\"white\",\"ticks\":\"\"},\"baxis\":{\"gridcolor\":\"white\",\"linecolor\":\"white\",\"ticks\":\"\"},\"caxis\":{\"gridcolor\":\"white\",\"linecolor\":\"white\",\"ticks\":\"\"}},\"coloraxis\":{\"colorbar\":{\"outlinewidth\":0,\"ticks\":\"\"}},\"colorscale\":{\"sequential\":[[0.0,\"#0d0887\"],[0.1111111111111111,\"#46039f\"],[0.2222222222222222,\"#7201a8\"],[0.3333333333333333,\"#9c179e\"],[0.4444444444444444,\"#bd3786\"],[0.5555555555555556,\"#d8576b\"],[0.6666666666666666,\"#ed7953\"],[0.7777777777777778,\"#fb9f3a\"],[0.8888888888888888,\"#fdca26\"],[1.0,\"#f0f921\"]],\"sequentialminus\":[[0.0,\"#0d0887\"],[0.1111111111111111,\"#46039f\"],[0.2222222222222222,\"#7201a8\"],[0.3333333333333333,\"#9c179e\"],[0.4444444444444444,\"#bd3786\"],[0.5555555555555556,\"#d8576b\"],[0.6666666666666666,\"#ed7953\"],[0.7777777777777778,\"#fb9f3a\"],[0.8888888888888888,\"#fdca26\"],[1.0,\"#f0f921\"]],\"diverging\":[[0,\"#8e0152\"],[0.1,\"#c51b7d\"],[0.2,\"#de77ae\"],[0.3,\"#f1b6da\"],[0.4,\"#fde0ef\"],[0.5,\"#f7f7f7\"],[0.6,\"#e6f5d0\"],[0.7,\"#b8e186\"],[0.8,\"#7fbc41\"],[0.9,\"#4d9221\"],[1,\"#276419\"]]},\"xaxis\":{\"gridcolor\":\"white\",\"linecolor\":\"white\",\"ticks\":\"\",\"title\":{\"standoff\":15},\"zerolinecolor\":\"white\",\"automargin\":true,\"zerolinewidth\":2},\"yaxis\":{\"gridcolor\":\"white\",\"linecolor\":\"white\",\"ticks\":\"\",\"title\":{\"standoff\":15},\"zerolinecolor\":\"white\",\"automargin\":true,\"zerolinewidth\":2},\"scene\":{\"xaxis\":{\"backgroundcolor\":\"#E5ECF6\",\"gridcolor\":\"white\",\"linecolor\":\"white\",\"showbackground\":true,\"ticks\":\"\",\"zerolinecolor\":\"white\",\"gridwidth\":2},\"yaxis\":{\"backgroundcolor\":\"#E5ECF6\",\"gridcolor\":\"white\",\"linecolor\":\"white\",\"showbackground\":true,\"ticks\":\"\",\"zerolinecolor\":\"white\",\"gridwidth\":2},\"zaxis\":{\"backgroundcolor\":\"#E5ECF6\",\"gridcolor\":\"white\",\"linecolor\":\"white\",\"showbackground\":true,\"ticks\":\"\",\"zerolinecolor\":\"white\",\"gridwidth\":2}},\"shapedefaults\":{\"line\":{\"color\":\"#2a3f5f\"}},\"annotationdefaults\":{\"arrowcolor\":\"#2a3f5f\",\"arrowhead\":0,\"arrowwidth\":1},\"geo\":{\"bgcolor\":\"white\",\"landcolor\":\"#E5ECF6\",\"subunitcolor\":\"white\",\"showland\":true,\"showlakes\":true,\"lakecolor\":\"white\"},\"title\":{\"x\":0.05},\"mapbox\":{\"style\":\"light\"}}},\"xaxis\":{\"anchor\":\"y\",\"domain\":[0.0,0.94],\"title\":{\"text\":\"data\"}},\"yaxis\":{\"anchor\":\"x\",\"domain\":[0.0,1.0],\"title\":{\"text\":\"predics\"}},\"yaxis2\":{\"anchor\":\"x\",\"overlaying\":\"y\",\"side\":\"right\",\"title\":{\"text\":\"% error\"},\"range\":[-20,20],\"showgrid\":false,\"tick0\":-5,\"dtick\":2}},                        {\"responsive\": true}                    ).then(function(){\n",
              "                            \n",
              "var gd = document.getElementById('15cd2a76-eb96-4ae1-9dc2-cfbf2a2da186');\n",
              "var x = new MutationObserver(function (mutations, observer) {{\n",
              "        var display = window.getComputedStyle(gd).display;\n",
              "        if (!display || display === 'none') {{\n",
              "            console.log([gd, 'removed!']);\n",
              "            Plotly.purge(gd);\n",
              "            observer.disconnect();\n",
              "        }}\n",
              "}});\n",
              "\n",
              "// Listen for the removal of the full notebook cells\n",
              "var notebookContainer = gd.closest('#notebook-container');\n",
              "if (notebookContainer) {{\n",
              "    x.observe(notebookContainer, {childList: true});\n",
              "}}\n",
              "\n",
              "// Listen for the clearing of the current output cell\n",
              "var outputEl = gd.closest('.output');\n",
              "if (outputEl) {{\n",
              "    x.observe(outputEl, {childList: true});\n",
              "}}\n",
              "\n",
              "                        })                };                            </script>        </div>\n",
              "</body>\n",
              "</html>"
            ]
          },
          "metadata": {}
        }
      ]
    },
    {
      "cell_type": "code",
      "source": [
        "fig = make_subplots(specs=[[{\"secondary_y\": True}]])\n",
        "fig.add_trace(go.Scatter(x=X1[:,0], y=T1[:,0], mode='markers', marker_color='blue', name='data'),secondary_y=False)\n",
        "fig.add_trace(go.Scatter(x=X1[:,0], y=errors1[:,0], mode='markers', marker_size=4, marker_color='orange', name='errors'),secondary_y=True)\n",
        "\n",
        "X_mean, X_wigth = X1[:,0].mean(), X1[:,0].max()-X1[:,0].mean()\n",
        "X_extended=np.linspace(X_mean-2*X_wigth, X_mean+2*X_wigth, 51)\n",
        "\n",
        "fig.add_trace(go.Scatter(x=X_extended, y=scaler_T1.inverse_transform(svr1.predict(scaler_X1.transform(X_extended.reshape(51,1))).reshape(-1,1))[:,0], mode='markers', marker_size=3, name='extenden prediction'),secondary_y=False)\n",
        "fig.add_trace(go.Scatter(x=X1[:,0], y=predics1[:,0], mode='markers', marker_color='black', name='prediction'),secondary_y=False)\n",
        "\n",
        "fig.update_xaxes(title_text=\"x_axis\")\n",
        "\n",
        "# Set y-axes titles\n",
        "fig.update_yaxes(title_text=\"data, predics\", secondary_y=False)\n",
        "fig.update_yaxes(title_text=\"% error\", range=[-20, 20], secondary_y=True, showgrid=False, tick0=-5, dtick=2)\n",
        "\n",
        "fig.show()"
      ],
      "metadata": {
        "colab": {
          "base_uri": "https://localhost:8080/",
          "height": 542
        },
        "id": "uafdN_anXNEQ",
        "outputId": "f99b61da-1262-4744-bc2f-ae123708e3cb"
      },
      "execution_count": 11,
      "outputs": [
        {
          "output_type": "display_data",
          "data": {
            "text/html": [
              "<html>\n",
              "<head><meta charset=\"utf-8\" /></head>\n",
              "<body>\n",
              "    <div>            <script src=\"https://cdnjs.cloudflare.com/ajax/libs/mathjax/2.7.5/MathJax.js?config=TeX-AMS-MML_SVG\"></script><script type=\"text/javascript\">if (window.MathJax && window.MathJax.Hub && window.MathJax.Hub.Config) {window.MathJax.Hub.Config({SVG: {font: \"STIX-Web\"}});}</script>                <script type=\"text/javascript\">window.PlotlyConfig = {MathJaxConfig: 'local'};</script>\n",
              "        <script charset=\"utf-8\" src=\"https://cdn.plot.ly/plotly-2.24.1.min.js\"></script>                <div id=\"1c015608-0744-4d6c-8209-46e81d1ed69e\" class=\"plotly-graph-div\" style=\"height:525px; width:100%;\"></div>            <script type=\"text/javascript\">                                    window.PLOTLYENV=window.PLOTLYENV || {};                                    if (document.getElementById(\"1c015608-0744-4d6c-8209-46e81d1ed69e\")) {                    Plotly.newPlot(                        \"1c015608-0744-4d6c-8209-46e81d1ed69e\",                        [{\"marker\":{\"color\":\"blue\"},\"mode\":\"markers\",\"name\":\"data\",\"x\":[-1.0,-0.8,-0.6,-0.3999999999999999,-0.19999999999999996,0.0,0.20000000000000018,0.40000000000000013,0.6000000000000001,0.8,1.0,1.2000000000000002,1.4000000000000004,1.6,1.8000000000000003,2.0],\"y\":[2.0,1.6400000000000001,1.3599999999999999,1.16,1.04,1.0,1.04,1.1600000000000001,1.36,1.6400000000000001,2.0,2.4400000000000004,2.960000000000001,3.5600000000000005,4.240000000000001,5.0],\"type\":\"scatter\",\"xaxis\":\"x\",\"yaxis\":\"y\"},{\"marker\":{\"color\":\"orange\",\"size\":4},\"mode\":\"markers\",\"name\":\"errors\",\"x\":[-1.0,-0.8,-0.6,-0.3999999999999999,-0.19999999999999996,0.0,0.20000000000000018,0.40000000000000013,0.6000000000000001,0.8,1.0,1.2000000000000002,1.4000000000000004,1.6,1.8000000000000003,2.0],\"y\":[-0.8468842709976054,6.096870779213817,7.3659702868090315,8.6077050620742,9.62512914127864,9.939920618252728,9.63174365335841,8.589576498734838,7.363927267587633,6.1079352499082145,2.609332196879377,-1.3257071640573652,-3.3653098538065236,-2.809871949970288,-5.26173820654567,-22.969629502593722],\"type\":\"scatter\",\"xaxis\":\"x\",\"yaxis\":\"y2\"},{\"marker\":{\"size\":3},\"mode\":\"markers\",\"name\":\"extenden prediction\",\"x\":[-2.5,-2.38,-2.26,-2.14,-2.02,-1.9,-1.78,-1.6600000000000001,-1.54,-1.42,-1.3,-1.1800000000000002,-1.06,-0.94,-0.8200000000000001,-0.7000000000000002,-0.5800000000000001,-0.45999999999999996,-0.33999999999999986,-0.2200000000000002,-0.10000000000000009,0.020000000000000018,0.13999999999999968,0.2599999999999998,0.3799999999999999,0.5,0.6200000000000001,0.7399999999999998,0.8599999999999999,0.98,1.0999999999999996,1.2199999999999998,1.3399999999999999,1.46,1.58,1.7000000000000002,1.8200000000000003,1.9399999999999995,2.0599999999999996,2.1799999999999997,2.3,2.42,2.54,2.66,2.7799999999999994,2.8999999999999995,3.0199999999999996,3.1399999999999997,3.26,3.38,3.5],\"y\":[2.1272466585862717,2.1272466585847476,2.127246658526494,2.127246656858438,2.1272466210789682,2.127246046043143,2.1272391171127865,2.1271764395957735,2.1267497940786613,2.1245556245285244,2.1159776867417177,2.0902710798788138,2.030635877607603,1.9225642979918247,1.7685564148799195,1.594738263621454,1.4358274968928182,1.3103540342006117,1.2162744674493216,1.1487119741067442,1.1093269388267681,1.0998750657699599,1.1195646960143621,1.1678864791911752,1.2442146369430662,1.3489812446035636,1.4850499707379696,1.650320605333459,1.8322670527082379,2.0201166403025668,2.220155113091214,2.448019510117822,2.7121210734013594,3.0226094034764093,3.3936094632865093,3.78317612058982,4.043008063122297,4.002185438083746,3.63147974109598,3.0948546916644535,2.617636495906791,2.3202857828473427,2.1856151114818565,2.1406928900602074,2.1295933569471637,2.127555767285524,2.127277313492848,2.1272489439011655,2.127246786530955,2.127246663962321,2.127246658755773],\"type\":\"scatter\",\"xaxis\":\"x\",\"yaxis\":\"y\"},{\"marker\":{\"color\":\"black\"},\"mode\":\"markers\",\"name\":\"prediction\",\"x\":[-1.0,-0.8,-0.6,-0.3999999999999999,-0.19999999999999996,0.0,0.20000000000000018,0.40000000000000013,0.6000000000000001,0.8,1.0,1.2000000000000002,1.4000000000000004,1.6,1.8000000000000003,2.0],\"y\":[1.983062314580048,1.7399886807791067,1.4601771959006027,1.2598493787200606,1.140101343069298,1.0993992061825273,1.1401701339949275,1.2596390873853243,1.460149410839192,1.7401701380984949,2.0521866439375875,2.4076527451970007,2.8603868283273277,3.4599685585810582,4.016902300042465,3.851518524870314],\"type\":\"scatter\",\"xaxis\":\"x\",\"yaxis\":\"y\"}],                        {\"template\":{\"data\":{\"histogram2dcontour\":[{\"type\":\"histogram2dcontour\",\"colorbar\":{\"outlinewidth\":0,\"ticks\":\"\"},\"colorscale\":[[0.0,\"#0d0887\"],[0.1111111111111111,\"#46039f\"],[0.2222222222222222,\"#7201a8\"],[0.3333333333333333,\"#9c179e\"],[0.4444444444444444,\"#bd3786\"],[0.5555555555555556,\"#d8576b\"],[0.6666666666666666,\"#ed7953\"],[0.7777777777777778,\"#fb9f3a\"],[0.8888888888888888,\"#fdca26\"],[1.0,\"#f0f921\"]]}],\"choropleth\":[{\"type\":\"choropleth\",\"colorbar\":{\"outlinewidth\":0,\"ticks\":\"\"}}],\"histogram2d\":[{\"type\":\"histogram2d\",\"colorbar\":{\"outlinewidth\":0,\"ticks\":\"\"},\"colorscale\":[[0.0,\"#0d0887\"],[0.1111111111111111,\"#46039f\"],[0.2222222222222222,\"#7201a8\"],[0.3333333333333333,\"#9c179e\"],[0.4444444444444444,\"#bd3786\"],[0.5555555555555556,\"#d8576b\"],[0.6666666666666666,\"#ed7953\"],[0.7777777777777778,\"#fb9f3a\"],[0.8888888888888888,\"#fdca26\"],[1.0,\"#f0f921\"]]}],\"heatmap\":[{\"type\":\"heatmap\",\"colorbar\":{\"outlinewidth\":0,\"ticks\":\"\"},\"colorscale\":[[0.0,\"#0d0887\"],[0.1111111111111111,\"#46039f\"],[0.2222222222222222,\"#7201a8\"],[0.3333333333333333,\"#9c179e\"],[0.4444444444444444,\"#bd3786\"],[0.5555555555555556,\"#d8576b\"],[0.6666666666666666,\"#ed7953\"],[0.7777777777777778,\"#fb9f3a\"],[0.8888888888888888,\"#fdca26\"],[1.0,\"#f0f921\"]]}],\"heatmapgl\":[{\"type\":\"heatmapgl\",\"colorbar\":{\"outlinewidth\":0,\"ticks\":\"\"},\"colorscale\":[[0.0,\"#0d0887\"],[0.1111111111111111,\"#46039f\"],[0.2222222222222222,\"#7201a8\"],[0.3333333333333333,\"#9c179e\"],[0.4444444444444444,\"#bd3786\"],[0.5555555555555556,\"#d8576b\"],[0.6666666666666666,\"#ed7953\"],[0.7777777777777778,\"#fb9f3a\"],[0.8888888888888888,\"#fdca26\"],[1.0,\"#f0f921\"]]}],\"contourcarpet\":[{\"type\":\"contourcarpet\",\"colorbar\":{\"outlinewidth\":0,\"ticks\":\"\"}}],\"contour\":[{\"type\":\"contour\",\"colorbar\":{\"outlinewidth\":0,\"ticks\":\"\"},\"colorscale\":[[0.0,\"#0d0887\"],[0.1111111111111111,\"#46039f\"],[0.2222222222222222,\"#7201a8\"],[0.3333333333333333,\"#9c179e\"],[0.4444444444444444,\"#bd3786\"],[0.5555555555555556,\"#d8576b\"],[0.6666666666666666,\"#ed7953\"],[0.7777777777777778,\"#fb9f3a\"],[0.8888888888888888,\"#fdca26\"],[1.0,\"#f0f921\"]]}],\"surface\":[{\"type\":\"surface\",\"colorbar\":{\"outlinewidth\":0,\"ticks\":\"\"},\"colorscale\":[[0.0,\"#0d0887\"],[0.1111111111111111,\"#46039f\"],[0.2222222222222222,\"#7201a8\"],[0.3333333333333333,\"#9c179e\"],[0.4444444444444444,\"#bd3786\"],[0.5555555555555556,\"#d8576b\"],[0.6666666666666666,\"#ed7953\"],[0.7777777777777778,\"#fb9f3a\"],[0.8888888888888888,\"#fdca26\"],[1.0,\"#f0f921\"]]}],\"mesh3d\":[{\"type\":\"mesh3d\",\"colorbar\":{\"outlinewidth\":0,\"ticks\":\"\"}}],\"scatter\":[{\"fillpattern\":{\"fillmode\":\"overlay\",\"size\":10,\"solidity\":0.2},\"type\":\"scatter\"}],\"parcoords\":[{\"type\":\"parcoords\",\"line\":{\"colorbar\":{\"outlinewidth\":0,\"ticks\":\"\"}}}],\"scatterpolargl\":[{\"type\":\"scatterpolargl\",\"marker\":{\"colorbar\":{\"outlinewidth\":0,\"ticks\":\"\"}}}],\"bar\":[{\"error_x\":{\"color\":\"#2a3f5f\"},\"error_y\":{\"color\":\"#2a3f5f\"},\"marker\":{\"line\":{\"color\":\"#E5ECF6\",\"width\":0.5},\"pattern\":{\"fillmode\":\"overlay\",\"size\":10,\"solidity\":0.2}},\"type\":\"bar\"}],\"scattergeo\":[{\"type\":\"scattergeo\",\"marker\":{\"colorbar\":{\"outlinewidth\":0,\"ticks\":\"\"}}}],\"scatterpolar\":[{\"type\":\"scatterpolar\",\"marker\":{\"colorbar\":{\"outlinewidth\":0,\"ticks\":\"\"}}}],\"histogram\":[{\"marker\":{\"pattern\":{\"fillmode\":\"overlay\",\"size\":10,\"solidity\":0.2}},\"type\":\"histogram\"}],\"scattergl\":[{\"type\":\"scattergl\",\"marker\":{\"colorbar\":{\"outlinewidth\":0,\"ticks\":\"\"}}}],\"scatter3d\":[{\"type\":\"scatter3d\",\"line\":{\"colorbar\":{\"outlinewidth\":0,\"ticks\":\"\"}},\"marker\":{\"colorbar\":{\"outlinewidth\":0,\"ticks\":\"\"}}}],\"scattermapbox\":[{\"type\":\"scattermapbox\",\"marker\":{\"colorbar\":{\"outlinewidth\":0,\"ticks\":\"\"}}}],\"scatterternary\":[{\"type\":\"scatterternary\",\"marker\":{\"colorbar\":{\"outlinewidth\":0,\"ticks\":\"\"}}}],\"scattercarpet\":[{\"type\":\"scattercarpet\",\"marker\":{\"colorbar\":{\"outlinewidth\":0,\"ticks\":\"\"}}}],\"carpet\":[{\"aaxis\":{\"endlinecolor\":\"#2a3f5f\",\"gridcolor\":\"white\",\"linecolor\":\"white\",\"minorgridcolor\":\"white\",\"startlinecolor\":\"#2a3f5f\"},\"baxis\":{\"endlinecolor\":\"#2a3f5f\",\"gridcolor\":\"white\",\"linecolor\":\"white\",\"minorgridcolor\":\"white\",\"startlinecolor\":\"#2a3f5f\"},\"type\":\"carpet\"}],\"table\":[{\"cells\":{\"fill\":{\"color\":\"#EBF0F8\"},\"line\":{\"color\":\"white\"}},\"header\":{\"fill\":{\"color\":\"#C8D4E3\"},\"line\":{\"color\":\"white\"}},\"type\":\"table\"}],\"barpolar\":[{\"marker\":{\"line\":{\"color\":\"#E5ECF6\",\"width\":0.5},\"pattern\":{\"fillmode\":\"overlay\",\"size\":10,\"solidity\":0.2}},\"type\":\"barpolar\"}],\"pie\":[{\"automargin\":true,\"type\":\"pie\"}]},\"layout\":{\"autotypenumbers\":\"strict\",\"colorway\":[\"#636efa\",\"#EF553B\",\"#00cc96\",\"#ab63fa\",\"#FFA15A\",\"#19d3f3\",\"#FF6692\",\"#B6E880\",\"#FF97FF\",\"#FECB52\"],\"font\":{\"color\":\"#2a3f5f\"},\"hovermode\":\"closest\",\"hoverlabel\":{\"align\":\"left\"},\"paper_bgcolor\":\"white\",\"plot_bgcolor\":\"#E5ECF6\",\"polar\":{\"bgcolor\":\"#E5ECF6\",\"angularaxis\":{\"gridcolor\":\"white\",\"linecolor\":\"white\",\"ticks\":\"\"},\"radialaxis\":{\"gridcolor\":\"white\",\"linecolor\":\"white\",\"ticks\":\"\"}},\"ternary\":{\"bgcolor\":\"#E5ECF6\",\"aaxis\":{\"gridcolor\":\"white\",\"linecolor\":\"white\",\"ticks\":\"\"},\"baxis\":{\"gridcolor\":\"white\",\"linecolor\":\"white\",\"ticks\":\"\"},\"caxis\":{\"gridcolor\":\"white\",\"linecolor\":\"white\",\"ticks\":\"\"}},\"coloraxis\":{\"colorbar\":{\"outlinewidth\":0,\"ticks\":\"\"}},\"colorscale\":{\"sequential\":[[0.0,\"#0d0887\"],[0.1111111111111111,\"#46039f\"],[0.2222222222222222,\"#7201a8\"],[0.3333333333333333,\"#9c179e\"],[0.4444444444444444,\"#bd3786\"],[0.5555555555555556,\"#d8576b\"],[0.6666666666666666,\"#ed7953\"],[0.7777777777777778,\"#fb9f3a\"],[0.8888888888888888,\"#fdca26\"],[1.0,\"#f0f921\"]],\"sequentialminus\":[[0.0,\"#0d0887\"],[0.1111111111111111,\"#46039f\"],[0.2222222222222222,\"#7201a8\"],[0.3333333333333333,\"#9c179e\"],[0.4444444444444444,\"#bd3786\"],[0.5555555555555556,\"#d8576b\"],[0.6666666666666666,\"#ed7953\"],[0.7777777777777778,\"#fb9f3a\"],[0.8888888888888888,\"#fdca26\"],[1.0,\"#f0f921\"]],\"diverging\":[[0,\"#8e0152\"],[0.1,\"#c51b7d\"],[0.2,\"#de77ae\"],[0.3,\"#f1b6da\"],[0.4,\"#fde0ef\"],[0.5,\"#f7f7f7\"],[0.6,\"#e6f5d0\"],[0.7,\"#b8e186\"],[0.8,\"#7fbc41\"],[0.9,\"#4d9221\"],[1,\"#276419\"]]},\"xaxis\":{\"gridcolor\":\"white\",\"linecolor\":\"white\",\"ticks\":\"\",\"title\":{\"standoff\":15},\"zerolinecolor\":\"white\",\"automargin\":true,\"zerolinewidth\":2},\"yaxis\":{\"gridcolor\":\"white\",\"linecolor\":\"white\",\"ticks\":\"\",\"title\":{\"standoff\":15},\"zerolinecolor\":\"white\",\"automargin\":true,\"zerolinewidth\":2},\"scene\":{\"xaxis\":{\"backgroundcolor\":\"#E5ECF6\",\"gridcolor\":\"white\",\"linecolor\":\"white\",\"showbackground\":true,\"ticks\":\"\",\"zerolinecolor\":\"white\",\"gridwidth\":2},\"yaxis\":{\"backgroundcolor\":\"#E5ECF6\",\"gridcolor\":\"white\",\"linecolor\":\"white\",\"showbackground\":true,\"ticks\":\"\",\"zerolinecolor\":\"white\",\"gridwidth\":2},\"zaxis\":{\"backgroundcolor\":\"#E5ECF6\",\"gridcolor\":\"white\",\"linecolor\":\"white\",\"showbackground\":true,\"ticks\":\"\",\"zerolinecolor\":\"white\",\"gridwidth\":2}},\"shapedefaults\":{\"line\":{\"color\":\"#2a3f5f\"}},\"annotationdefaults\":{\"arrowcolor\":\"#2a3f5f\",\"arrowhead\":0,\"arrowwidth\":1},\"geo\":{\"bgcolor\":\"white\",\"landcolor\":\"#E5ECF6\",\"subunitcolor\":\"white\",\"showland\":true,\"showlakes\":true,\"lakecolor\":\"white\"},\"title\":{\"x\":0.05},\"mapbox\":{\"style\":\"light\"}}},\"xaxis\":{\"anchor\":\"y\",\"domain\":[0.0,0.94],\"title\":{\"text\":\"x_axis\"}},\"yaxis\":{\"anchor\":\"x\",\"domain\":[0.0,1.0],\"title\":{\"text\":\"data, predics\"}},\"yaxis2\":{\"anchor\":\"x\",\"overlaying\":\"y\",\"side\":\"right\",\"title\":{\"text\":\"% error\"},\"range\":[-20,20],\"showgrid\":false,\"tick0\":-5,\"dtick\":2}},                        {\"responsive\": true}                    ).then(function(){\n",
              "                            \n",
              "var gd = document.getElementById('1c015608-0744-4d6c-8209-46e81d1ed69e');\n",
              "var x = new MutationObserver(function (mutations, observer) {{\n",
              "        var display = window.getComputedStyle(gd).display;\n",
              "        if (!display || display === 'none') {{\n",
              "            console.log([gd, 'removed!']);\n",
              "            Plotly.purge(gd);\n",
              "            observer.disconnect();\n",
              "        }}\n",
              "}});\n",
              "\n",
              "// Listen for the removal of the full notebook cells\n",
              "var notebookContainer = gd.closest('#notebook-container');\n",
              "if (notebookContainer) {{\n",
              "    x.observe(notebookContainer, {childList: true});\n",
              "}}\n",
              "\n",
              "// Listen for the clearing of the current output cell\n",
              "var outputEl = gd.closest('.output');\n",
              "if (outputEl) {{\n",
              "    x.observe(outputEl, {childList: true});\n",
              "}}\n",
              "\n",
              "                        })                };                            </script>        </div>\n",
              "</body>\n",
              "</html>"
            ]
          },
          "metadata": {}
        }
      ]
    },
    {
      "cell_type": "markdown",
      "source": [
        "## 1_2"
      ],
      "metadata": {
        "id": "2EaleSsQa3-V"
      }
    },
    {
      "cell_type": "code",
      "source": [
        "svr1_2=SVR(kernel='poly',degree=2,coef0=1)\n",
        "svr1_2.fit(X_sc1,T_sc1.ravel())\n",
        "predics1_2=scaler_T1.inverse_transform(svr1_2.predict(X_sc1).reshape(-1,1))\n",
        "# predics1_2"
      ],
      "metadata": {
        "id": "NV7XwmHDYAxM"
      },
      "execution_count": 12,
      "outputs": []
    },
    {
      "cell_type": "code",
      "source": [
        "fig = make_subplots(specs=[[{\"secondary_y\": True}]])\n",
        "fig.add_trace(go.Scatter(x=X1[:,0], y=T1[:,0], mode='markers', marker_color='blue', name='data'),secondary_y=False)\n",
        "# fig.add_trace(go.Scatter(x=X1[:,0], y=errors1[:,0], mode='markers', marker_size=4, marker_color='orange', name='errors'),secondary_y=True)\n",
        "\n",
        "X_mean, X_wigth = X1[:,0].mean(), X1[:,0].max()-X1[:,0].mean()\n",
        "X_extended=np.linspace(X_mean-2*X_wigth, X_mean+2*X_wigth, 51)\n",
        "\n",
        "fig.add_trace(go.Scatter(x=X_extended, y=scaler_T1.inverse_transform(svr1_2.predict(scaler_X1.transform(X_extended.reshape(-1,1))).reshape(-1,1))[:,0], mode='markers', marker_size=3, name='extenden prediction'),secondary_y=False)\n",
        "fig.add_trace(go.Scatter(x=X1[:,0], y=predics1_2[:,0], mode='markers', marker_color='black', name='prediction'),secondary_y=False)\n",
        "\n",
        "fig.update_xaxes(title_text=\"x_axis\")\n",
        "\n",
        "# Set y-axes titles\n",
        "fig.update_yaxes(title_text=\"data, predics\", secondary_y=False)\n",
        "fig.update_yaxes(title_text=\"% error\", range=[-20, 20], secondary_y=True, showgrid=False, tick0=-5, dtick=2)\n",
        "\n",
        "fig.show()"
      ],
      "metadata": {
        "colab": {
          "base_uri": "https://localhost:8080/",
          "height": 542
        },
        "id": "sX5S8ZNMbB5z",
        "outputId": "f4f66d21-dc63-4105-d2b7-0dad9d3f73b2"
      },
      "execution_count": 13,
      "outputs": [
        {
          "output_type": "display_data",
          "data": {
            "text/html": [
              "<html>\n",
              "<head><meta charset=\"utf-8\" /></head>\n",
              "<body>\n",
              "    <div>            <script src=\"https://cdnjs.cloudflare.com/ajax/libs/mathjax/2.7.5/MathJax.js?config=TeX-AMS-MML_SVG\"></script><script type=\"text/javascript\">if (window.MathJax && window.MathJax.Hub && window.MathJax.Hub.Config) {window.MathJax.Hub.Config({SVG: {font: \"STIX-Web\"}});}</script>                <script type=\"text/javascript\">window.PlotlyConfig = {MathJaxConfig: 'local'};</script>\n",
              "        <script charset=\"utf-8\" src=\"https://cdn.plot.ly/plotly-2.24.1.min.js\"></script>                <div id=\"db7ae38d-89fe-487e-a92e-9943cf7d15df\" class=\"plotly-graph-div\" style=\"height:525px; width:100%;\"></div>            <script type=\"text/javascript\">                                    window.PLOTLYENV=window.PLOTLYENV || {};                                    if (document.getElementById(\"db7ae38d-89fe-487e-a92e-9943cf7d15df\")) {                    Plotly.newPlot(                        \"db7ae38d-89fe-487e-a92e-9943cf7d15df\",                        [{\"marker\":{\"color\":\"blue\"},\"mode\":\"markers\",\"name\":\"data\",\"x\":[-1.0,-0.8,-0.6,-0.3999999999999999,-0.19999999999999996,0.0,0.20000000000000018,0.40000000000000013,0.6000000000000001,0.8,1.0,1.2000000000000002,1.4000000000000004,1.6,1.8000000000000003,2.0],\"y\":[2.0,1.6400000000000001,1.3599999999999999,1.16,1.04,1.0,1.04,1.1600000000000001,1.36,1.6400000000000001,2.0,2.4400000000000004,2.960000000000001,3.5600000000000005,4.240000000000001,5.0],\"type\":\"scatter\",\"xaxis\":\"x\",\"yaxis\":\"y\"},{\"marker\":{\"size\":3},\"mode\":\"markers\",\"name\":\"extenden prediction\",\"x\":[-2.5,-2.38,-2.26,-2.14,-2.02,-1.9,-1.78,-1.6600000000000001,-1.54,-1.42,-1.3,-1.1800000000000002,-1.06,-0.94,-0.8200000000000001,-0.7000000000000002,-0.5800000000000001,-0.45999999999999996,-0.33999999999999986,-0.2200000000000002,-0.10000000000000009,0.020000000000000018,0.13999999999999968,0.2599999999999998,0.3799999999999999,0.5,0.6200000000000001,0.7399999999999998,0.8599999999999999,0.98,1.0999999999999996,1.2199999999999998,1.3399999999999999,1.46,1.58,1.7000000000000002,1.8200000000000003,1.9399999999999995,2.0599999999999996,2.1799999999999997,2.3,2.42,2.54,2.66,2.7799999999999994,2.8999999999999995,3.0199999999999996,3.1399999999999997,3.26,3.38,3.5],\"y\":[6.548740207439671,6.026037529086919,5.529566806650047,5.059328040129062,4.615321229523953,4.19754637483473,3.8060034760613886,3.4406925332039298,3.1016135462623518,2.788766515236656,2.502151440126844,2.2417683209329127,2.007617157654864,1.7996979502926975,1.6180106988464136,1.4625554033160117,1.3333320637014916,1.230340680002854,1.1535812522200983,1.1030537803532252,1.078758264402234,1.0806947043671251,1.1088631002478984,1.1632634520445537,1.2438957597570914,1.3507600233855115,1.4838562429298134,1.643184418389997,1.8287445497660637,2.0405366370580125,2.2785606802658425,2.542816679389556,2.833304634429151,3.1500245453846287,3.4929764122559877,3.8621602350432305,4.257576013746354,4.679223748365358,5.127103438900248,5.6012150853510185,6.10155868771767,6.628134246000206,7.180941760198623,7.759981230312922,8.365252656343099,8.996756038289163,9.654491376151112,10.33845866992894,11.048657919622647,11.785089125232242,12.547752286757719],\"type\":\"scatter\",\"xaxis\":\"x\",\"yaxis\":\"y\"},{\"marker\":{\"color\":\"black\"},\"mode\":\"markers\",\"name\":\"prediction\",\"x\":[-1.0,-0.8,-0.6,-0.3999999999999999,-0.19999999999999996,0.0,0.20000000000000018,0.40000000000000013,0.6000000000000001,0.8,1.0,1.2000000000000002,1.4000000000000004,1.6,1.8000000000000003,2.0],\"y\":[1.9003785594842957,1.59027981931941,1.3530476233653086,1.1886819716219907,1.097182864089457,1.078550300767707,1.132784281656741,1.2598848067565585,1.4598518760671606,1.732685489588545,2.0783856473207143,2.4969523492636685,2.9883855954174066,3.5526853857819254,4.189851720357231,4.899884599143318],\"type\":\"scatter\",\"xaxis\":\"x\",\"yaxis\":\"y\"}],                        {\"template\":{\"data\":{\"histogram2dcontour\":[{\"type\":\"histogram2dcontour\",\"colorbar\":{\"outlinewidth\":0,\"ticks\":\"\"},\"colorscale\":[[0.0,\"#0d0887\"],[0.1111111111111111,\"#46039f\"],[0.2222222222222222,\"#7201a8\"],[0.3333333333333333,\"#9c179e\"],[0.4444444444444444,\"#bd3786\"],[0.5555555555555556,\"#d8576b\"],[0.6666666666666666,\"#ed7953\"],[0.7777777777777778,\"#fb9f3a\"],[0.8888888888888888,\"#fdca26\"],[1.0,\"#f0f921\"]]}],\"choropleth\":[{\"type\":\"choropleth\",\"colorbar\":{\"outlinewidth\":0,\"ticks\":\"\"}}],\"histogram2d\":[{\"type\":\"histogram2d\",\"colorbar\":{\"outlinewidth\":0,\"ticks\":\"\"},\"colorscale\":[[0.0,\"#0d0887\"],[0.1111111111111111,\"#46039f\"],[0.2222222222222222,\"#7201a8\"],[0.3333333333333333,\"#9c179e\"],[0.4444444444444444,\"#bd3786\"],[0.5555555555555556,\"#d8576b\"],[0.6666666666666666,\"#ed7953\"],[0.7777777777777778,\"#fb9f3a\"],[0.8888888888888888,\"#fdca26\"],[1.0,\"#f0f921\"]]}],\"heatmap\":[{\"type\":\"heatmap\",\"colorbar\":{\"outlinewidth\":0,\"ticks\":\"\"},\"colorscale\":[[0.0,\"#0d0887\"],[0.1111111111111111,\"#46039f\"],[0.2222222222222222,\"#7201a8\"],[0.3333333333333333,\"#9c179e\"],[0.4444444444444444,\"#bd3786\"],[0.5555555555555556,\"#d8576b\"],[0.6666666666666666,\"#ed7953\"],[0.7777777777777778,\"#fb9f3a\"],[0.8888888888888888,\"#fdca26\"],[1.0,\"#f0f921\"]]}],\"heatmapgl\":[{\"type\":\"heatmapgl\",\"colorbar\":{\"outlinewidth\":0,\"ticks\":\"\"},\"colorscale\":[[0.0,\"#0d0887\"],[0.1111111111111111,\"#46039f\"],[0.2222222222222222,\"#7201a8\"],[0.3333333333333333,\"#9c179e\"],[0.4444444444444444,\"#bd3786\"],[0.5555555555555556,\"#d8576b\"],[0.6666666666666666,\"#ed7953\"],[0.7777777777777778,\"#fb9f3a\"],[0.8888888888888888,\"#fdca26\"],[1.0,\"#f0f921\"]]}],\"contourcarpet\":[{\"type\":\"contourcarpet\",\"colorbar\":{\"outlinewidth\":0,\"ticks\":\"\"}}],\"contour\":[{\"type\":\"contour\",\"colorbar\":{\"outlinewidth\":0,\"ticks\":\"\"},\"colorscale\":[[0.0,\"#0d0887\"],[0.1111111111111111,\"#46039f\"],[0.2222222222222222,\"#7201a8\"],[0.3333333333333333,\"#9c179e\"],[0.4444444444444444,\"#bd3786\"],[0.5555555555555556,\"#d8576b\"],[0.6666666666666666,\"#ed7953\"],[0.7777777777777778,\"#fb9f3a\"],[0.8888888888888888,\"#fdca26\"],[1.0,\"#f0f921\"]]}],\"surface\":[{\"type\":\"surface\",\"colorbar\":{\"outlinewidth\":0,\"ticks\":\"\"},\"colorscale\":[[0.0,\"#0d0887\"],[0.1111111111111111,\"#46039f\"],[0.2222222222222222,\"#7201a8\"],[0.3333333333333333,\"#9c179e\"],[0.4444444444444444,\"#bd3786\"],[0.5555555555555556,\"#d8576b\"],[0.6666666666666666,\"#ed7953\"],[0.7777777777777778,\"#fb9f3a\"],[0.8888888888888888,\"#fdca26\"],[1.0,\"#f0f921\"]]}],\"mesh3d\":[{\"type\":\"mesh3d\",\"colorbar\":{\"outlinewidth\":0,\"ticks\":\"\"}}],\"scatter\":[{\"fillpattern\":{\"fillmode\":\"overlay\",\"size\":10,\"solidity\":0.2},\"type\":\"scatter\"}],\"parcoords\":[{\"type\":\"parcoords\",\"line\":{\"colorbar\":{\"outlinewidth\":0,\"ticks\":\"\"}}}],\"scatterpolargl\":[{\"type\":\"scatterpolargl\",\"marker\":{\"colorbar\":{\"outlinewidth\":0,\"ticks\":\"\"}}}],\"bar\":[{\"error_x\":{\"color\":\"#2a3f5f\"},\"error_y\":{\"color\":\"#2a3f5f\"},\"marker\":{\"line\":{\"color\":\"#E5ECF6\",\"width\":0.5},\"pattern\":{\"fillmode\":\"overlay\",\"size\":10,\"solidity\":0.2}},\"type\":\"bar\"}],\"scattergeo\":[{\"type\":\"scattergeo\",\"marker\":{\"colorbar\":{\"outlinewidth\":0,\"ticks\":\"\"}}}],\"scatterpolar\":[{\"type\":\"scatterpolar\",\"marker\":{\"colorbar\":{\"outlinewidth\":0,\"ticks\":\"\"}}}],\"histogram\":[{\"marker\":{\"pattern\":{\"fillmode\":\"overlay\",\"size\":10,\"solidity\":0.2}},\"type\":\"histogram\"}],\"scattergl\":[{\"type\":\"scattergl\",\"marker\":{\"colorbar\":{\"outlinewidth\":0,\"ticks\":\"\"}}}],\"scatter3d\":[{\"type\":\"scatter3d\",\"line\":{\"colorbar\":{\"outlinewidth\":0,\"ticks\":\"\"}},\"marker\":{\"colorbar\":{\"outlinewidth\":0,\"ticks\":\"\"}}}],\"scattermapbox\":[{\"type\":\"scattermapbox\",\"marker\":{\"colorbar\":{\"outlinewidth\":0,\"ticks\":\"\"}}}],\"scatterternary\":[{\"type\":\"scatterternary\",\"marker\":{\"colorbar\":{\"outlinewidth\":0,\"ticks\":\"\"}}}],\"scattercarpet\":[{\"type\":\"scattercarpet\",\"marker\":{\"colorbar\":{\"outlinewidth\":0,\"ticks\":\"\"}}}],\"carpet\":[{\"aaxis\":{\"endlinecolor\":\"#2a3f5f\",\"gridcolor\":\"white\",\"linecolor\":\"white\",\"minorgridcolor\":\"white\",\"startlinecolor\":\"#2a3f5f\"},\"baxis\":{\"endlinecolor\":\"#2a3f5f\",\"gridcolor\":\"white\",\"linecolor\":\"white\",\"minorgridcolor\":\"white\",\"startlinecolor\":\"#2a3f5f\"},\"type\":\"carpet\"}],\"table\":[{\"cells\":{\"fill\":{\"color\":\"#EBF0F8\"},\"line\":{\"color\":\"white\"}},\"header\":{\"fill\":{\"color\":\"#C8D4E3\"},\"line\":{\"color\":\"white\"}},\"type\":\"table\"}],\"barpolar\":[{\"marker\":{\"line\":{\"color\":\"#E5ECF6\",\"width\":0.5},\"pattern\":{\"fillmode\":\"overlay\",\"size\":10,\"solidity\":0.2}},\"type\":\"barpolar\"}],\"pie\":[{\"automargin\":true,\"type\":\"pie\"}]},\"layout\":{\"autotypenumbers\":\"strict\",\"colorway\":[\"#636efa\",\"#EF553B\",\"#00cc96\",\"#ab63fa\",\"#FFA15A\",\"#19d3f3\",\"#FF6692\",\"#B6E880\",\"#FF97FF\",\"#FECB52\"],\"font\":{\"color\":\"#2a3f5f\"},\"hovermode\":\"closest\",\"hoverlabel\":{\"align\":\"left\"},\"paper_bgcolor\":\"white\",\"plot_bgcolor\":\"#E5ECF6\",\"polar\":{\"bgcolor\":\"#E5ECF6\",\"angularaxis\":{\"gridcolor\":\"white\",\"linecolor\":\"white\",\"ticks\":\"\"},\"radialaxis\":{\"gridcolor\":\"white\",\"linecolor\":\"white\",\"ticks\":\"\"}},\"ternary\":{\"bgcolor\":\"#E5ECF6\",\"aaxis\":{\"gridcolor\":\"white\",\"linecolor\":\"white\",\"ticks\":\"\"},\"baxis\":{\"gridcolor\":\"white\",\"linecolor\":\"white\",\"ticks\":\"\"},\"caxis\":{\"gridcolor\":\"white\",\"linecolor\":\"white\",\"ticks\":\"\"}},\"coloraxis\":{\"colorbar\":{\"outlinewidth\":0,\"ticks\":\"\"}},\"colorscale\":{\"sequential\":[[0.0,\"#0d0887\"],[0.1111111111111111,\"#46039f\"],[0.2222222222222222,\"#7201a8\"],[0.3333333333333333,\"#9c179e\"],[0.4444444444444444,\"#bd3786\"],[0.5555555555555556,\"#d8576b\"],[0.6666666666666666,\"#ed7953\"],[0.7777777777777778,\"#fb9f3a\"],[0.8888888888888888,\"#fdca26\"],[1.0,\"#f0f921\"]],\"sequentialminus\":[[0.0,\"#0d0887\"],[0.1111111111111111,\"#46039f\"],[0.2222222222222222,\"#7201a8\"],[0.3333333333333333,\"#9c179e\"],[0.4444444444444444,\"#bd3786\"],[0.5555555555555556,\"#d8576b\"],[0.6666666666666666,\"#ed7953\"],[0.7777777777777778,\"#fb9f3a\"],[0.8888888888888888,\"#fdca26\"],[1.0,\"#f0f921\"]],\"diverging\":[[0,\"#8e0152\"],[0.1,\"#c51b7d\"],[0.2,\"#de77ae\"],[0.3,\"#f1b6da\"],[0.4,\"#fde0ef\"],[0.5,\"#f7f7f7\"],[0.6,\"#e6f5d0\"],[0.7,\"#b8e186\"],[0.8,\"#7fbc41\"],[0.9,\"#4d9221\"],[1,\"#276419\"]]},\"xaxis\":{\"gridcolor\":\"white\",\"linecolor\":\"white\",\"ticks\":\"\",\"title\":{\"standoff\":15},\"zerolinecolor\":\"white\",\"automargin\":true,\"zerolinewidth\":2},\"yaxis\":{\"gridcolor\":\"white\",\"linecolor\":\"white\",\"ticks\":\"\",\"title\":{\"standoff\":15},\"zerolinecolor\":\"white\",\"automargin\":true,\"zerolinewidth\":2},\"scene\":{\"xaxis\":{\"backgroundcolor\":\"#E5ECF6\",\"gridcolor\":\"white\",\"linecolor\":\"white\",\"showbackground\":true,\"ticks\":\"\",\"zerolinecolor\":\"white\",\"gridwidth\":2},\"yaxis\":{\"backgroundcolor\":\"#E5ECF6\",\"gridcolor\":\"white\",\"linecolor\":\"white\",\"showbackground\":true,\"ticks\":\"\",\"zerolinecolor\":\"white\",\"gridwidth\":2},\"zaxis\":{\"backgroundcolor\":\"#E5ECF6\",\"gridcolor\":\"white\",\"linecolor\":\"white\",\"showbackground\":true,\"ticks\":\"\",\"zerolinecolor\":\"white\",\"gridwidth\":2}},\"shapedefaults\":{\"line\":{\"color\":\"#2a3f5f\"}},\"annotationdefaults\":{\"arrowcolor\":\"#2a3f5f\",\"arrowhead\":0,\"arrowwidth\":1},\"geo\":{\"bgcolor\":\"white\",\"landcolor\":\"#E5ECF6\",\"subunitcolor\":\"white\",\"showland\":true,\"showlakes\":true,\"lakecolor\":\"white\"},\"title\":{\"x\":0.05},\"mapbox\":{\"style\":\"light\"}}},\"xaxis\":{\"anchor\":\"y\",\"domain\":[0.0,0.94],\"title\":{\"text\":\"x_axis\"}},\"yaxis\":{\"anchor\":\"x\",\"domain\":[0.0,1.0],\"title\":{\"text\":\"data, predics\"}},\"yaxis2\":{\"anchor\":\"x\",\"overlaying\":\"y\",\"side\":\"right\",\"title\":{\"text\":\"% error\"},\"range\":[-20,20],\"showgrid\":false,\"tick0\":-5,\"dtick\":2}},                        {\"responsive\": true}                    ).then(function(){\n",
              "                            \n",
              "var gd = document.getElementById('db7ae38d-89fe-487e-a92e-9943cf7d15df');\n",
              "var x = new MutationObserver(function (mutations, observer) {{\n",
              "        var display = window.getComputedStyle(gd).display;\n",
              "        if (!display || display === 'none') {{\n",
              "            console.log([gd, 'removed!']);\n",
              "            Plotly.purge(gd);\n",
              "            observer.disconnect();\n",
              "        }}\n",
              "}});\n",
              "\n",
              "// Listen for the removal of the full notebook cells\n",
              "var notebookContainer = gd.closest('#notebook-container');\n",
              "if (notebookContainer) {{\n",
              "    x.observe(notebookContainer, {childList: true});\n",
              "}}\n",
              "\n",
              "// Listen for the clearing of the current output cell\n",
              "var outputEl = gd.closest('.output');\n",
              "if (outputEl) {{\n",
              "    x.observe(outputEl, {childList: true});\n",
              "}}\n",
              "\n",
              "                        })                };                            </script>        </div>\n",
              "</body>\n",
              "</html>"
            ]
          },
          "metadata": {}
        }
      ]
    },
    {
      "cell_type": "code",
      "source": [
        "svr_temp=svr1_2\n",
        "print (' Dual coefficients:\\n',svr_temp.dual_coef_,'\\n',\n",
        "       'Support vectors:\\n',svr_temp.support_vectors_,'\\n',\n",
        "       'Coef0: ',svr_temp.coef0,'\\n',\n",
        "       'Intercept: ',svr_temp.intercept_[0],)"
      ],
      "metadata": {
        "id": "Bz5GnhGLk8Lz",
        "outputId": "770de542-f207-459b-9fdc-b0ff7f58642d",
        "colab": {
          "base_uri": "https://localhost:8080/"
        }
      },
      "execution_count": 14,
      "outputs": [
        {
          "output_type": "stream",
          "name": "stdout",
          "text": [
            " Dual coefficients:\n",
            " [[ 0.12260026 -0.08985684 -0.18704024  0.15429682]] \n",
            " Support vectors:\n",
            " [[-1. ]\n",
            " [ 0.4]\n",
            " [ 0.6]\n",
            " [ 2. ]] \n",
            " Coef0:  1 \n",
            " Intercept:  1.078550300767707\n"
          ]
        }
      ]
    },
    {
      "cell_type": "code",
      "source": [
        "scaler_T1.inverse_transform(svr1_2.predict([[1]]).reshape(-1,1))"
      ],
      "metadata": {
        "id": "Yu2DiiVNS6s6",
        "outputId": "bf4c106f-33aa-47a4-cc51-d9105f425ba4",
        "colab": {
          "base_uri": "https://localhost:8080/"
        }
      },
      "execution_count": 15,
      "outputs": [
        {
          "output_type": "execute_result",
          "data": {
            "text/plain": [
              "array([[2.07838565]])"
            ]
          },
          "metadata": {},
          "execution_count": 15
        }
      ]
    },
    {
      "cell_type": "markdown",
      "source": [
        "# 2"
      ],
      "metadata": {
        "id": "h9fyS_pgttCQ"
      }
    },
    {
      "cell_type": "code",
      "source": [
        "data2=[\n",
        "[0.32,\t0.99,\t0.77,\t0.69,\t0.04,\t0.37,\t0.25,\t0.44,\t0.42,\t0.64,\t0.8,],\n",
        "[0.4,\t0.23,\t0.22,\t0.57,\t0.78,\t0.69,\t0.2,\t0.45,\t0.17,\t0.98,\t0.96,],\n",
        "[4.952768,\t5.924299,\t5.412533,\t5.214509,\t4.844064,\t4.912653,\t4.975625,\t4.995184,\t5.040088,\t5.066144,\t5.32,],\n",
        "]\n",
        "data2=np.array(data2).T\n",
        "X2=data2[:,[0,1]]\n",
        "T2=data2[:,[2]]"
      ],
      "metadata": {
        "id": "bem65dLcf982"
      },
      "execution_count": 16,
      "outputs": []
    },
    {
      "cell_type": "code",
      "source": [
        "scaler_X2 = preprocessing.StandardScaler().fit(X2)\n",
        "scaler_T2 = preprocessing.StandardScaler().fit(T2)\n",
        "\n",
        "scaler_X2.mean_, scaler_X2.scale_ = 0, 1 # disable scaling\n",
        "scaler_T2.mean_, scaler_T2.scale_ = 0, 1 # disable scaling\n",
        "\n",
        "scaler_data2 = [scaler_X2.mean_, scaler_X2.scale_, scaler_T2.mean_, scaler_T2.scale_]\n",
        "print('scaler X -- mean, stdev:  ',scaler_data2[0], scaler_data2[1])\n",
        "print('scaler T -- mean, stdev:  ',scaler_data2[2], scaler_data2[3])\n",
        "\n",
        "X_sc2 = scaler_X2.transform(X2)\n",
        "T_sc2 = scaler_T2.transform(T2)\n",
        "X_sc2[0:3]"
      ],
      "metadata": {
        "colab": {
          "base_uri": "https://localhost:8080/"
        },
        "id": "ZMDUCakvt5HG",
        "outputId": "f76c2b13-f826-458b-e4f0-6196f0a065e0"
      },
      "execution_count": 17,
      "outputs": [
        {
          "output_type": "stream",
          "name": "stdout",
          "text": [
            "scaler X -- mean, stdev:   0 1\n",
            "scaler T -- mean, stdev:   0 1\n"
          ]
        },
        {
          "output_type": "execute_result",
          "data": {
            "text/plain": [
              "array([[0.32, 0.4 ],\n",
              "       [0.99, 0.23],\n",
              "       [0.77, 0.22]])"
            ]
          },
          "metadata": {},
          "execution_count": 17
        }
      ]
    },
    {
      "cell_type": "code",
      "source": [
        "# svr2=SVR(kernel='rbf', gamma=.1)\n",
        "# svr2=SVR(kernel='sigmoid')\n",
        "svr2=SVR(kernel='poly', degree=2, coef0=1, gamma=1)\n",
        "svr2.fit(X_sc2,T_sc2.ravel())\n",
        "predics2=scaler_T2.inverse_transform(svr2.predict(X_sc2).reshape(-1,1))\n",
        "# predics2"
      ],
      "metadata": {
        "id": "pOUjYYVAttl-"
      },
      "execution_count": 96,
      "outputs": []
    },
    {
      "cell_type": "code",
      "source": [
        "svr2.get_params()"
      ],
      "metadata": {
        "colab": {
          "base_uri": "https://localhost:8080/"
        },
        "id": "5lmtfoT4wu_U",
        "outputId": "320bb5b7-6d5f-4084-8309-bf20845d3a2e"
      },
      "execution_count": 97,
      "outputs": [
        {
          "output_type": "execute_result",
          "data": {
            "text/plain": [
              "{'C': 1.0,\n",
              " 'cache_size': 200,\n",
              " 'coef0': 1,\n",
              " 'degree': 2,\n",
              " 'epsilon': 0.1,\n",
              " 'gamma': 1,\n",
              " 'kernel': 'poly',\n",
              " 'max_iter': -1,\n",
              " 'shrinking': True,\n",
              " 'tol': 0.001,\n",
              " 'verbose': False}"
            ]
          },
          "metadata": {},
          "execution_count": 97
        }
      ]
    },
    {
      "cell_type": "code",
      "source": [
        "x_mesh, y_mesh = np.linspace(-1, 2, 31), np.linspace(-1, 2, 31)\n",
        "# x_mesh, y_mesh = np.arange(-1, 2, 0.1), np.arange(-1, 2, 0.1)\n",
        "x_mesh, y_mesh = np.meshgrid(x_mesh, y_mesh)\n",
        "x_mesh = x_mesh.flatten().reshape(31*31,1)\n",
        "y_mesh = y_mesh.flatten().reshape(31*31,1)\n",
        "mesh2=np.concatenate((x_mesh, y_mesh), axis=1)\n",
        "# x_mesh[:5]\n",
        "mesh_predics2=scaler_T2.inverse_transform(svr2.predict(scaler_X2.transform(mesh2)).reshape(-1,1))"
      ],
      "metadata": {
        "id": "TcQ-xsIvuuL1"
      },
      "execution_count": 98,
      "outputs": []
    },
    {
      "cell_type": "code",
      "source": [
        "fig=go.Figure()\n",
        "fig.add_trace(go.Scatter3d(x=data2[:,0], y=data2[:,1], z=data2[:,2], mode='markers', name='data'))\n",
        "fig.add_trace(go.Scatter3d(x=data2[:,0], y=data2[:,1], z=predics2[:,0], mode='markers', name='predics'))\n",
        "fig.add_trace(go.Scatter3d(x=x_mesh[:,0], y=y_mesh[:,0], z=mesh_predics2[:,0], mode='markers', marker_size=2, name='mesh-predics'))\n",
        "x=np.linspace(0, 1, 11)\n",
        "y=np.linspace(0, 1, 11)\n",
        "x, y = np.meshgrid(x,y)\n",
        "z=x**3-.2*y+5\n",
        "fig.add_trace(go.Surface(x=x, y=y, z=z, colorbar_x=0, opacity=0.5, showlegend=True, name='data surface'))\n",
        "fig.update_scenes(camera_projection_type=\"orthographic\")\n",
        "\n",
        "fig.show()"
      ],
      "metadata": {
        "colab": {
          "base_uri": "https://localhost:8080/",
          "height": 542
        },
        "outputId": "8d5c1716-032f-4736-b5de-5fd5bf85f973",
        "id": "255c_AQVttmA"
      },
      "execution_count": 99,
      "outputs": [
        {
          "output_type": "display_data",
          "data": {
            "text/html": [
              "<html>\n",
              "<head><meta charset=\"utf-8\" /></head>\n",
              "<body>\n",
              "    <div>            <script src=\"https://cdnjs.cloudflare.com/ajax/libs/mathjax/2.7.5/MathJax.js?config=TeX-AMS-MML_SVG\"></script><script type=\"text/javascript\">if (window.MathJax && window.MathJax.Hub && window.MathJax.Hub.Config) {window.MathJax.Hub.Config({SVG: {font: \"STIX-Web\"}});}</script>                <script type=\"text/javascript\">window.PlotlyConfig = {MathJaxConfig: 'local'};</script>\n",
              "        <script charset=\"utf-8\" src=\"https://cdn.plot.ly/plotly-2.24.1.min.js\"></script>                <div id=\"03616d9a-1bff-49d5-aef5-6fcb55c1a2f0\" class=\"plotly-graph-div\" style=\"height:525px; width:100%;\"></div>            <script type=\"text/javascript\">                                    window.PLOTLYENV=window.PLOTLYENV || {};                                    if (document.getElementById(\"03616d9a-1bff-49d5-aef5-6fcb55c1a2f0\")) {                    Plotly.newPlot(                        \"03616d9a-1bff-49d5-aef5-6fcb55c1a2f0\",                        [{\"mode\":\"markers\",\"name\":\"data\",\"x\":[0.32,0.99,0.77,0.69,0.04,0.37,0.25,0.44,0.42,0.64,0.8],\"y\":[0.4,0.23,0.22,0.57,0.78,0.69,0.2,0.45,0.17,0.98,0.96],\"z\":[4.952768,5.924299,5.412533,5.214509,4.844064,4.912653,4.975625,4.995184,5.040088,5.066144,5.32],\"type\":\"scatter3d\"},{\"mode\":\"markers\",\"name\":\"predics\",\"x\":[0.32,0.99,0.77,0.69,0.04,0.37,0.25,0.44,0.42,0.64,0.8],\"y\":[0.4,0.23,0.22,0.57,0.78,0.69,0.2,0.45,0.17,0.98,0.96],\"z\":[5.002727763296002,5.8133594577210435,5.511936881764205,5.314783341457485,4.744338542153325,4.971423460142651,4.991835980530076,5.092261360175622,5.140135371852009,5.132740599398806,5.317372612861081],\"type\":\"scatter3d\"},{\"marker\":{\"size\":2},\"mode\":\"markers\",\"name\":\"mesh-predics\",\"x\":[-1.0,-0.9,-0.8,-0.7,-0.6,-0.5,-0.3999999999999999,-0.29999999999999993,-0.19999999999999996,-0.09999999999999998,0.0,0.10000000000000009,0.20000000000000018,0.30000000000000004,0.40000000000000013,0.5,0.6000000000000001,0.7000000000000002,0.8,0.9000000000000001,1.0,1.1,1.2000000000000002,1.3000000000000003,1.4000000000000004,1.5,1.6,1.7000000000000002,1.8000000000000003,1.9000000000000004,2.0,-1.0,-0.9,-0.8,-0.7,-0.6,-0.5,-0.3999999999999999,-0.29999999999999993,-0.19999999999999996,-0.09999999999999998,0.0,0.10000000000000009,0.20000000000000018,0.30000000000000004,0.40000000000000013,0.5,0.6000000000000001,0.7000000000000002,0.8,0.9000000000000001,1.0,1.1,1.2000000000000002,1.3000000000000003,1.4000000000000004,1.5,1.6,1.7000000000000002,1.8000000000000003,1.9000000000000004,2.0,-1.0,-0.9,-0.8,-0.7,-0.6,-0.5,-0.3999999999999999,-0.29999999999999993,-0.19999999999999996,-0.09999999999999998,0.0,0.10000000000000009,0.20000000000000018,0.30000000000000004,0.40000000000000013,0.5,0.6000000000000001,0.7000000000000002,0.8,0.9000000000000001,1.0,1.1,1.2000000000000002,1.3000000000000003,1.4000000000000004,1.5,1.6,1.7000000000000002,1.8000000000000003,1.9000000000000004,2.0,-1.0,-0.9,-0.8,-0.7,-0.6,-0.5,-0.3999999999999999,-0.29999999999999993,-0.19999999999999996,-0.09999999999999998,0.0,0.10000000000000009,0.20000000000000018,0.30000000000000004,0.40000000000000013,0.5,0.6000000000000001,0.7000000000000002,0.8,0.9000000000000001,1.0,1.1,1.2000000000000002,1.3000000000000003,1.4000000000000004,1.5,1.6,1.7000000000000002,1.8000000000000003,1.9000000000000004,2.0,-1.0,-0.9,-0.8,-0.7,-0.6,-0.5,-0.3999999999999999,-0.29999999999999993,-0.19999999999999996,-0.09999999999999998,0.0,0.10000000000000009,0.20000000000000018,0.30000000000000004,0.40000000000000013,0.5,0.6000000000000001,0.7000000000000002,0.8,0.9000000000000001,1.0,1.1,1.2000000000000002,1.3000000000000003,1.4000000000000004,1.5,1.6,1.7000000000000002,1.8000000000000003,1.9000000000000004,2.0,-1.0,-0.9,-0.8,-0.7,-0.6,-0.5,-0.3999999999999999,-0.29999999999999993,-0.19999999999999996,-0.09999999999999998,0.0,0.10000000000000009,0.20000000000000018,0.30000000000000004,0.40000000000000013,0.5,0.6000000000000001,0.7000000000000002,0.8,0.9000000000000001,1.0,1.1,1.2000000000000002,1.3000000000000003,1.4000000000000004,1.5,1.6,1.7000000000000002,1.8000000000000003,1.9000000000000004,2.0,-1.0,-0.9,-0.8,-0.7,-0.6,-0.5,-0.3999999999999999,-0.29999999999999993,-0.19999999999999996,-0.09999999999999998,0.0,0.10000000000000009,0.20000000000000018,0.30000000000000004,0.40000000000000013,0.5,0.6000000000000001,0.7000000000000002,0.8,0.9000000000000001,1.0,1.1,1.2000000000000002,1.3000000000000003,1.4000000000000004,1.5,1.6,1.7000000000000002,1.8000000000000003,1.9000000000000004,2.0,-1.0,-0.9,-0.8,-0.7,-0.6,-0.5,-0.3999999999999999,-0.29999999999999993,-0.19999999999999996,-0.09999999999999998,0.0,0.10000000000000009,0.20000000000000018,0.30000000000000004,0.40000000000000013,0.5,0.6000000000000001,0.7000000000000002,0.8,0.9000000000000001,1.0,1.1,1.2000000000000002,1.3000000000000003,1.4000000000000004,1.5,1.6,1.7000000000000002,1.8000000000000003,1.9000000000000004,2.0,-1.0,-0.9,-0.8,-0.7,-0.6,-0.5,-0.3999999999999999,-0.29999999999999993,-0.19999999999999996,-0.09999999999999998,0.0,0.10000000000000009,0.20000000000000018,0.30000000000000004,0.40000000000000013,0.5,0.6000000000000001,0.7000000000000002,0.8,0.9000000000000001,1.0,1.1,1.2000000000000002,1.3000000000000003,1.4000000000000004,1.5,1.6,1.7000000000000002,1.8000000000000003,1.9000000000000004,2.0,-1.0,-0.9,-0.8,-0.7,-0.6,-0.5,-0.3999999999999999,-0.29999999999999993,-0.19999999999999996,-0.09999999999999998,0.0,0.10000000000000009,0.20000000000000018,0.30000000000000004,0.40000000000000013,0.5,0.6000000000000001,0.7000000000000002,0.8,0.9000000000000001,1.0,1.1,1.2000000000000002,1.3000000000000003,1.4000000000000004,1.5,1.6,1.7000000000000002,1.8000000000000003,1.9000000000000004,2.0,-1.0,-0.9,-0.8,-0.7,-0.6,-0.5,-0.3999999999999999,-0.29999999999999993,-0.19999999999999996,-0.09999999999999998,0.0,0.10000000000000009,0.20000000000000018,0.30000000000000004,0.40000000000000013,0.5,0.6000000000000001,0.7000000000000002,0.8,0.9000000000000001,1.0,1.1,1.2000000000000002,1.3000000000000003,1.4000000000000004,1.5,1.6,1.7000000000000002,1.8000000000000003,1.9000000000000004,2.0,-1.0,-0.9,-0.8,-0.7,-0.6,-0.5,-0.3999999999999999,-0.29999999999999993,-0.19999999999999996,-0.09999999999999998,0.0,0.10000000000000009,0.20000000000000018,0.30000000000000004,0.40000000000000013,0.5,0.6000000000000001,0.7000000000000002,0.8,0.9000000000000001,1.0,1.1,1.2000000000000002,1.3000000000000003,1.4000000000000004,1.5,1.6,1.7000000000000002,1.8000000000000003,1.9000000000000004,2.0,-1.0,-0.9,-0.8,-0.7,-0.6,-0.5,-0.3999999999999999,-0.29999999999999993,-0.19999999999999996,-0.09999999999999998,0.0,0.10000000000000009,0.20000000000000018,0.30000000000000004,0.40000000000000013,0.5,0.6000000000000001,0.7000000000000002,0.8,0.9000000000000001,1.0,1.1,1.2000000000000002,1.3000000000000003,1.4000000000000004,1.5,1.6,1.7000000000000002,1.8000000000000003,1.9000000000000004,2.0,-1.0,-0.9,-0.8,-0.7,-0.6,-0.5,-0.3999999999999999,-0.29999999999999993,-0.19999999999999996,-0.09999999999999998,0.0,0.10000000000000009,0.20000000000000018,0.30000000000000004,0.40000000000000013,0.5,0.6000000000000001,0.7000000000000002,0.8,0.9000000000000001,1.0,1.1,1.2000000000000002,1.3000000000000003,1.4000000000000004,1.5,1.6,1.7000000000000002,1.8000000000000003,1.9000000000000004,2.0,-1.0,-0.9,-0.8,-0.7,-0.6,-0.5,-0.3999999999999999,-0.29999999999999993,-0.19999999999999996,-0.09999999999999998,0.0,0.10000000000000009,0.20000000000000018,0.30000000000000004,0.40000000000000013,0.5,0.6000000000000001,0.7000000000000002,0.8,0.9000000000000001,1.0,1.1,1.2000000000000002,1.3000000000000003,1.4000000000000004,1.5,1.6,1.7000000000000002,1.8000000000000003,1.9000000000000004,2.0,-1.0,-0.9,-0.8,-0.7,-0.6,-0.5,-0.3999999999999999,-0.29999999999999993,-0.19999999999999996,-0.09999999999999998,0.0,0.10000000000000009,0.20000000000000018,0.30000000000000004,0.40000000000000013,0.5,0.6000000000000001,0.7000000000000002,0.8,0.9000000000000001,1.0,1.1,1.2000000000000002,1.3000000000000003,1.4000000000000004,1.5,1.6,1.7000000000000002,1.8000000000000003,1.9000000000000004,2.0,-1.0,-0.9,-0.8,-0.7,-0.6,-0.5,-0.3999999999999999,-0.29999999999999993,-0.19999999999999996,-0.09999999999999998,0.0,0.10000000000000009,0.20000000000000018,0.30000000000000004,0.40000000000000013,0.5,0.6000000000000001,0.7000000000000002,0.8,0.9000000000000001,1.0,1.1,1.2000000000000002,1.3000000000000003,1.4000000000000004,1.5,1.6,1.7000000000000002,1.8000000000000003,1.9000000000000004,2.0,-1.0,-0.9,-0.8,-0.7,-0.6,-0.5,-0.3999999999999999,-0.29999999999999993,-0.19999999999999996,-0.09999999999999998,0.0,0.10000000000000009,0.20000000000000018,0.30000000000000004,0.40000000000000013,0.5,0.6000000000000001,0.7000000000000002,0.8,0.9000000000000001,1.0,1.1,1.2000000000000002,1.3000000000000003,1.4000000000000004,1.5,1.6,1.7000000000000002,1.8000000000000003,1.9000000000000004,2.0,-1.0,-0.9,-0.8,-0.7,-0.6,-0.5,-0.3999999999999999,-0.29999999999999993,-0.19999999999999996,-0.09999999999999998,0.0,0.10000000000000009,0.20000000000000018,0.30000000000000004,0.40000000000000013,0.5,0.6000000000000001,0.7000000000000002,0.8,0.9000000000000001,1.0,1.1,1.2000000000000002,1.3000000000000003,1.4000000000000004,1.5,1.6,1.7000000000000002,1.8000000000000003,1.9000000000000004,2.0,-1.0,-0.9,-0.8,-0.7,-0.6,-0.5,-0.3999999999999999,-0.29999999999999993,-0.19999999999999996,-0.09999999999999998,0.0,0.10000000000000009,0.20000000000000018,0.30000000000000004,0.40000000000000013,0.5,0.6000000000000001,0.7000000000000002,0.8,0.9000000000000001,1.0,1.1,1.2000000000000002,1.3000000000000003,1.4000000000000004,1.5,1.6,1.7000000000000002,1.8000000000000003,1.9000000000000004,2.0,-1.0,-0.9,-0.8,-0.7,-0.6,-0.5,-0.3999999999999999,-0.29999999999999993,-0.19999999999999996,-0.09999999999999998,0.0,0.10000000000000009,0.20000000000000018,0.30000000000000004,0.40000000000000013,0.5,0.6000000000000001,0.7000000000000002,0.8,0.9000000000000001,1.0,1.1,1.2000000000000002,1.3000000000000003,1.4000000000000004,1.5,1.6,1.7000000000000002,1.8000000000000003,1.9000000000000004,2.0,-1.0,-0.9,-0.8,-0.7,-0.6,-0.5,-0.3999999999999999,-0.29999999999999993,-0.19999999999999996,-0.09999999999999998,0.0,0.10000000000000009,0.20000000000000018,0.30000000000000004,0.40000000000000013,0.5,0.6000000000000001,0.7000000000000002,0.8,0.9000000000000001,1.0,1.1,1.2000000000000002,1.3000000000000003,1.4000000000000004,1.5,1.6,1.7000000000000002,1.8000000000000003,1.9000000000000004,2.0,-1.0,-0.9,-0.8,-0.7,-0.6,-0.5,-0.3999999999999999,-0.29999999999999993,-0.19999999999999996,-0.09999999999999998,0.0,0.10000000000000009,0.20000000000000018,0.30000000000000004,0.40000000000000013,0.5,0.6000000000000001,0.7000000000000002,0.8,0.9000000000000001,1.0,1.1,1.2000000000000002,1.3000000000000003,1.4000000000000004,1.5,1.6,1.7000000000000002,1.8000000000000003,1.9000000000000004,2.0,-1.0,-0.9,-0.8,-0.7,-0.6,-0.5,-0.3999999999999999,-0.29999999999999993,-0.19999999999999996,-0.09999999999999998,0.0,0.10000000000000009,0.20000000000000018,0.30000000000000004,0.40000000000000013,0.5,0.6000000000000001,0.7000000000000002,0.8,0.9000000000000001,1.0,1.1,1.2000000000000002,1.3000000000000003,1.4000000000000004,1.5,1.6,1.7000000000000002,1.8000000000000003,1.9000000000000004,2.0,-1.0,-0.9,-0.8,-0.7,-0.6,-0.5,-0.3999999999999999,-0.29999999999999993,-0.19999999999999996,-0.09999999999999998,0.0,0.10000000000000009,0.20000000000000018,0.30000000000000004,0.40000000000000013,0.5,0.6000000000000001,0.7000000000000002,0.8,0.9000000000000001,1.0,1.1,1.2000000000000002,1.3000000000000003,1.4000000000000004,1.5,1.6,1.7000000000000002,1.8000000000000003,1.9000000000000004,2.0,-1.0,-0.9,-0.8,-0.7,-0.6,-0.5,-0.3999999999999999,-0.29999999999999993,-0.19999999999999996,-0.09999999999999998,0.0,0.10000000000000009,0.20000000000000018,0.30000000000000004,0.40000000000000013,0.5,0.6000000000000001,0.7000000000000002,0.8,0.9000000000000001,1.0,1.1,1.2000000000000002,1.3000000000000003,1.4000000000000004,1.5,1.6,1.7000000000000002,1.8000000000000003,1.9000000000000004,2.0,-1.0,-0.9,-0.8,-0.7,-0.6,-0.5,-0.3999999999999999,-0.29999999999999993,-0.19999999999999996,-0.09999999999999998,0.0,0.10000000000000009,0.20000000000000018,0.30000000000000004,0.40000000000000013,0.5,0.6000000000000001,0.7000000000000002,0.8,0.9000000000000001,1.0,1.1,1.2000000000000002,1.3000000000000003,1.4000000000000004,1.5,1.6,1.7000000000000002,1.8000000000000003,1.9000000000000004,2.0,-1.0,-0.9,-0.8,-0.7,-0.6,-0.5,-0.3999999999999999,-0.29999999999999993,-0.19999999999999996,-0.09999999999999998,0.0,0.10000000000000009,0.20000000000000018,0.30000000000000004,0.40000000000000013,0.5,0.6000000000000001,0.7000000000000002,0.8,0.9000000000000001,1.0,1.1,1.2000000000000002,1.3000000000000003,1.4000000000000004,1.5,1.6,1.7000000000000002,1.8000000000000003,1.9000000000000004,2.0,-1.0,-0.9,-0.8,-0.7,-0.6,-0.5,-0.3999999999999999,-0.29999999999999993,-0.19999999999999996,-0.09999999999999998,0.0,0.10000000000000009,0.20000000000000018,0.30000000000000004,0.40000000000000013,0.5,0.6000000000000001,0.7000000000000002,0.8,0.9000000000000001,1.0,1.1,1.2000000000000002,1.3000000000000003,1.4000000000000004,1.5,1.6,1.7000000000000002,1.8000000000000003,1.9000000000000004,2.0,-1.0,-0.9,-0.8,-0.7,-0.6,-0.5,-0.3999999999999999,-0.29999999999999993,-0.19999999999999996,-0.09999999999999998,0.0,0.10000000000000009,0.20000000000000018,0.30000000000000004,0.40000000000000013,0.5,0.6000000000000001,0.7000000000000002,0.8,0.9000000000000001,1.0,1.1,1.2000000000000002,1.3000000000000003,1.4000000000000004,1.5,1.6,1.7000000000000002,1.8000000000000003,1.9000000000000004,2.0,-1.0,-0.9,-0.8,-0.7,-0.6,-0.5,-0.3999999999999999,-0.29999999999999993,-0.19999999999999996,-0.09999999999999998,0.0,0.10000000000000009,0.20000000000000018,0.30000000000000004,0.40000000000000013,0.5,0.6000000000000001,0.7000000000000002,0.8,0.9000000000000001,1.0,1.1,1.2000000000000002,1.3000000000000003,1.4000000000000004,1.5,1.6,1.7000000000000002,1.8000000000000003,1.9000000000000004,2.0],\"y\":[-1.0,-1.0,-1.0,-1.0,-1.0,-1.0,-1.0,-1.0,-1.0,-1.0,-1.0,-1.0,-1.0,-1.0,-1.0,-1.0,-1.0,-1.0,-1.0,-1.0,-1.0,-1.0,-1.0,-1.0,-1.0,-1.0,-1.0,-1.0,-1.0,-1.0,-1.0,-0.9,-0.9,-0.9,-0.9,-0.9,-0.9,-0.9,-0.9,-0.9,-0.9,-0.9,-0.9,-0.9,-0.9,-0.9,-0.9,-0.9,-0.9,-0.9,-0.9,-0.9,-0.9,-0.9,-0.9,-0.9,-0.9,-0.9,-0.9,-0.9,-0.9,-0.9,-0.8,-0.8,-0.8,-0.8,-0.8,-0.8,-0.8,-0.8,-0.8,-0.8,-0.8,-0.8,-0.8,-0.8,-0.8,-0.8,-0.8,-0.8,-0.8,-0.8,-0.8,-0.8,-0.8,-0.8,-0.8,-0.8,-0.8,-0.8,-0.8,-0.8,-0.8,-0.7,-0.7,-0.7,-0.7,-0.7,-0.7,-0.7,-0.7,-0.7,-0.7,-0.7,-0.7,-0.7,-0.7,-0.7,-0.7,-0.7,-0.7,-0.7,-0.7,-0.7,-0.7,-0.7,-0.7,-0.7,-0.7,-0.7,-0.7,-0.7,-0.7,-0.7,-0.6,-0.6,-0.6,-0.6,-0.6,-0.6,-0.6,-0.6,-0.6,-0.6,-0.6,-0.6,-0.6,-0.6,-0.6,-0.6,-0.6,-0.6,-0.6,-0.6,-0.6,-0.6,-0.6,-0.6,-0.6,-0.6,-0.6,-0.6,-0.6,-0.6,-0.6,-0.5,-0.5,-0.5,-0.5,-0.5,-0.5,-0.5,-0.5,-0.5,-0.5,-0.5,-0.5,-0.5,-0.5,-0.5,-0.5,-0.5,-0.5,-0.5,-0.5,-0.5,-0.5,-0.5,-0.5,-0.5,-0.5,-0.5,-0.5,-0.5,-0.5,-0.5,-0.3999999999999999,-0.3999999999999999,-0.3999999999999999,-0.3999999999999999,-0.3999999999999999,-0.3999999999999999,-0.3999999999999999,-0.3999999999999999,-0.3999999999999999,-0.3999999999999999,-0.3999999999999999,-0.3999999999999999,-0.3999999999999999,-0.3999999999999999,-0.3999999999999999,-0.3999999999999999,-0.3999999999999999,-0.3999999999999999,-0.3999999999999999,-0.3999999999999999,-0.3999999999999999,-0.3999999999999999,-0.3999999999999999,-0.3999999999999999,-0.3999999999999999,-0.3999999999999999,-0.3999999999999999,-0.3999999999999999,-0.3999999999999999,-0.3999999999999999,-0.3999999999999999,-0.29999999999999993,-0.29999999999999993,-0.29999999999999993,-0.29999999999999993,-0.29999999999999993,-0.29999999999999993,-0.29999999999999993,-0.29999999999999993,-0.29999999999999993,-0.29999999999999993,-0.29999999999999993,-0.29999999999999993,-0.29999999999999993,-0.29999999999999993,-0.29999999999999993,-0.29999999999999993,-0.29999999999999993,-0.29999999999999993,-0.29999999999999993,-0.29999999999999993,-0.29999999999999993,-0.29999999999999993,-0.29999999999999993,-0.29999999999999993,-0.29999999999999993,-0.29999999999999993,-0.29999999999999993,-0.29999999999999993,-0.29999999999999993,-0.29999999999999993,-0.29999999999999993,-0.19999999999999996,-0.19999999999999996,-0.19999999999999996,-0.19999999999999996,-0.19999999999999996,-0.19999999999999996,-0.19999999999999996,-0.19999999999999996,-0.19999999999999996,-0.19999999999999996,-0.19999999999999996,-0.19999999999999996,-0.19999999999999996,-0.19999999999999996,-0.19999999999999996,-0.19999999999999996,-0.19999999999999996,-0.19999999999999996,-0.19999999999999996,-0.19999999999999996,-0.19999999999999996,-0.19999999999999996,-0.19999999999999996,-0.19999999999999996,-0.19999999999999996,-0.19999999999999996,-0.19999999999999996,-0.19999999999999996,-0.19999999999999996,-0.19999999999999996,-0.19999999999999996,-0.09999999999999998,-0.09999999999999998,-0.09999999999999998,-0.09999999999999998,-0.09999999999999998,-0.09999999999999998,-0.09999999999999998,-0.09999999999999998,-0.09999999999999998,-0.09999999999999998,-0.09999999999999998,-0.09999999999999998,-0.09999999999999998,-0.09999999999999998,-0.09999999999999998,-0.09999999999999998,-0.09999999999999998,-0.09999999999999998,-0.09999999999999998,-0.09999999999999998,-0.09999999999999998,-0.09999999999999998,-0.09999999999999998,-0.09999999999999998,-0.09999999999999998,-0.09999999999999998,-0.09999999999999998,-0.09999999999999998,-0.09999999999999998,-0.09999999999999998,-0.09999999999999998,0.0,0.0,0.0,0.0,0.0,0.0,0.0,0.0,0.0,0.0,0.0,0.0,0.0,0.0,0.0,0.0,0.0,0.0,0.0,0.0,0.0,0.0,0.0,0.0,0.0,0.0,0.0,0.0,0.0,0.0,0.0,0.10000000000000009,0.10000000000000009,0.10000000000000009,0.10000000000000009,0.10000000000000009,0.10000000000000009,0.10000000000000009,0.10000000000000009,0.10000000000000009,0.10000000000000009,0.10000000000000009,0.10000000000000009,0.10000000000000009,0.10000000000000009,0.10000000000000009,0.10000000000000009,0.10000000000000009,0.10000000000000009,0.10000000000000009,0.10000000000000009,0.10000000000000009,0.10000000000000009,0.10000000000000009,0.10000000000000009,0.10000000000000009,0.10000000000000009,0.10000000000000009,0.10000000000000009,0.10000000000000009,0.10000000000000009,0.10000000000000009,0.20000000000000018,0.20000000000000018,0.20000000000000018,0.20000000000000018,0.20000000000000018,0.20000000000000018,0.20000000000000018,0.20000000000000018,0.20000000000000018,0.20000000000000018,0.20000000000000018,0.20000000000000018,0.20000000000000018,0.20000000000000018,0.20000000000000018,0.20000000000000018,0.20000000000000018,0.20000000000000018,0.20000000000000018,0.20000000000000018,0.20000000000000018,0.20000000000000018,0.20000000000000018,0.20000000000000018,0.20000000000000018,0.20000000000000018,0.20000000000000018,0.20000000000000018,0.20000000000000018,0.20000000000000018,0.20000000000000018,0.30000000000000004,0.30000000000000004,0.30000000000000004,0.30000000000000004,0.30000000000000004,0.30000000000000004,0.30000000000000004,0.30000000000000004,0.30000000000000004,0.30000000000000004,0.30000000000000004,0.30000000000000004,0.30000000000000004,0.30000000000000004,0.30000000000000004,0.30000000000000004,0.30000000000000004,0.30000000000000004,0.30000000000000004,0.30000000000000004,0.30000000000000004,0.30000000000000004,0.30000000000000004,0.30000000000000004,0.30000000000000004,0.30000000000000004,0.30000000000000004,0.30000000000000004,0.30000000000000004,0.30000000000000004,0.30000000000000004,0.40000000000000013,0.40000000000000013,0.40000000000000013,0.40000000000000013,0.40000000000000013,0.40000000000000013,0.40000000000000013,0.40000000000000013,0.40000000000000013,0.40000000000000013,0.40000000000000013,0.40000000000000013,0.40000000000000013,0.40000000000000013,0.40000000000000013,0.40000000000000013,0.40000000000000013,0.40000000000000013,0.40000000000000013,0.40000000000000013,0.40000000000000013,0.40000000000000013,0.40000000000000013,0.40000000000000013,0.40000000000000013,0.40000000000000013,0.40000000000000013,0.40000000000000013,0.40000000000000013,0.40000000000000013,0.40000000000000013,0.5,0.5,0.5,0.5,0.5,0.5,0.5,0.5,0.5,0.5,0.5,0.5,0.5,0.5,0.5,0.5,0.5,0.5,0.5,0.5,0.5,0.5,0.5,0.5,0.5,0.5,0.5,0.5,0.5,0.5,0.5,0.6000000000000001,0.6000000000000001,0.6000000000000001,0.6000000000000001,0.6000000000000001,0.6000000000000001,0.6000000000000001,0.6000000000000001,0.6000000000000001,0.6000000000000001,0.6000000000000001,0.6000000000000001,0.6000000000000001,0.6000000000000001,0.6000000000000001,0.6000000000000001,0.6000000000000001,0.6000000000000001,0.6000000000000001,0.6000000000000001,0.6000000000000001,0.6000000000000001,0.6000000000000001,0.6000000000000001,0.6000000000000001,0.6000000000000001,0.6000000000000001,0.6000000000000001,0.6000000000000001,0.6000000000000001,0.6000000000000001,0.7000000000000002,0.7000000000000002,0.7000000000000002,0.7000000000000002,0.7000000000000002,0.7000000000000002,0.7000000000000002,0.7000000000000002,0.7000000000000002,0.7000000000000002,0.7000000000000002,0.7000000000000002,0.7000000000000002,0.7000000000000002,0.7000000000000002,0.7000000000000002,0.7000000000000002,0.7000000000000002,0.7000000000000002,0.7000000000000002,0.7000000000000002,0.7000000000000002,0.7000000000000002,0.7000000000000002,0.7000000000000002,0.7000000000000002,0.7000000000000002,0.7000000000000002,0.7000000000000002,0.7000000000000002,0.7000000000000002,0.8,0.8,0.8,0.8,0.8,0.8,0.8,0.8,0.8,0.8,0.8,0.8,0.8,0.8,0.8,0.8,0.8,0.8,0.8,0.8,0.8,0.8,0.8,0.8,0.8,0.8,0.8,0.8,0.8,0.8,0.8,0.9000000000000001,0.9000000000000001,0.9000000000000001,0.9000000000000001,0.9000000000000001,0.9000000000000001,0.9000000000000001,0.9000000000000001,0.9000000000000001,0.9000000000000001,0.9000000000000001,0.9000000000000001,0.9000000000000001,0.9000000000000001,0.9000000000000001,0.9000000000000001,0.9000000000000001,0.9000000000000001,0.9000000000000001,0.9000000000000001,0.9000000000000001,0.9000000000000001,0.9000000000000001,0.9000000000000001,0.9000000000000001,0.9000000000000001,0.9000000000000001,0.9000000000000001,0.9000000000000001,0.9000000000000001,0.9000000000000001,1.0,1.0,1.0,1.0,1.0,1.0,1.0,1.0,1.0,1.0,1.0,1.0,1.0,1.0,1.0,1.0,1.0,1.0,1.0,1.0,1.0,1.0,1.0,1.0,1.0,1.0,1.0,1.0,1.0,1.0,1.0,1.1,1.1,1.1,1.1,1.1,1.1,1.1,1.1,1.1,1.1,1.1,1.1,1.1,1.1,1.1,1.1,1.1,1.1,1.1,1.1,1.1,1.1,1.1,1.1,1.1,1.1,1.1,1.1,1.1,1.1,1.1,1.2000000000000002,1.2000000000000002,1.2000000000000002,1.2000000000000002,1.2000000000000002,1.2000000000000002,1.2000000000000002,1.2000000000000002,1.2000000000000002,1.2000000000000002,1.2000000000000002,1.2000000000000002,1.2000000000000002,1.2000000000000002,1.2000000000000002,1.2000000000000002,1.2000000000000002,1.2000000000000002,1.2000000000000002,1.2000000000000002,1.2000000000000002,1.2000000000000002,1.2000000000000002,1.2000000000000002,1.2000000000000002,1.2000000000000002,1.2000000000000002,1.2000000000000002,1.2000000000000002,1.2000000000000002,1.2000000000000002,1.3000000000000003,1.3000000000000003,1.3000000000000003,1.3000000000000003,1.3000000000000003,1.3000000000000003,1.3000000000000003,1.3000000000000003,1.3000000000000003,1.3000000000000003,1.3000000000000003,1.3000000000000003,1.3000000000000003,1.3000000000000003,1.3000000000000003,1.3000000000000003,1.3000000000000003,1.3000000000000003,1.3000000000000003,1.3000000000000003,1.3000000000000003,1.3000000000000003,1.3000000000000003,1.3000000000000003,1.3000000000000003,1.3000000000000003,1.3000000000000003,1.3000000000000003,1.3000000000000003,1.3000000000000003,1.3000000000000003,1.4000000000000004,1.4000000000000004,1.4000000000000004,1.4000000000000004,1.4000000000000004,1.4000000000000004,1.4000000000000004,1.4000000000000004,1.4000000000000004,1.4000000000000004,1.4000000000000004,1.4000000000000004,1.4000000000000004,1.4000000000000004,1.4000000000000004,1.4000000000000004,1.4000000000000004,1.4000000000000004,1.4000000000000004,1.4000000000000004,1.4000000000000004,1.4000000000000004,1.4000000000000004,1.4000000000000004,1.4000000000000004,1.4000000000000004,1.4000000000000004,1.4000000000000004,1.4000000000000004,1.4000000000000004,1.4000000000000004,1.5,1.5,1.5,1.5,1.5,1.5,1.5,1.5,1.5,1.5,1.5,1.5,1.5,1.5,1.5,1.5,1.5,1.5,1.5,1.5,1.5,1.5,1.5,1.5,1.5,1.5,1.5,1.5,1.5,1.5,1.5,1.6,1.6,1.6,1.6,1.6,1.6,1.6,1.6,1.6,1.6,1.6,1.6,1.6,1.6,1.6,1.6,1.6,1.6,1.6,1.6,1.6,1.6,1.6,1.6,1.6,1.6,1.6,1.6,1.6,1.6,1.6,1.7000000000000002,1.7000000000000002,1.7000000000000002,1.7000000000000002,1.7000000000000002,1.7000000000000002,1.7000000000000002,1.7000000000000002,1.7000000000000002,1.7000000000000002,1.7000000000000002,1.7000000000000002,1.7000000000000002,1.7000000000000002,1.7000000000000002,1.7000000000000002,1.7000000000000002,1.7000000000000002,1.7000000000000002,1.7000000000000002,1.7000000000000002,1.7000000000000002,1.7000000000000002,1.7000000000000002,1.7000000000000002,1.7000000000000002,1.7000000000000002,1.7000000000000002,1.7000000000000002,1.7000000000000002,1.7000000000000002,1.8000000000000003,1.8000000000000003,1.8000000000000003,1.8000000000000003,1.8000000000000003,1.8000000000000003,1.8000000000000003,1.8000000000000003,1.8000000000000003,1.8000000000000003,1.8000000000000003,1.8000000000000003,1.8000000000000003,1.8000000000000003,1.8000000000000003,1.8000000000000003,1.8000000000000003,1.8000000000000003,1.8000000000000003,1.8000000000000003,1.8000000000000003,1.8000000000000003,1.8000000000000003,1.8000000000000003,1.8000000000000003,1.8000000000000003,1.8000000000000003,1.8000000000000003,1.8000000000000003,1.8000000000000003,1.8000000000000003,1.9000000000000004,1.9000000000000004,1.9000000000000004,1.9000000000000004,1.9000000000000004,1.9000000000000004,1.9000000000000004,1.9000000000000004,1.9000000000000004,1.9000000000000004,1.9000000000000004,1.9000000000000004,1.9000000000000004,1.9000000000000004,1.9000000000000004,1.9000000000000004,1.9000000000000004,1.9000000000000004,1.9000000000000004,1.9000000000000004,1.9000000000000004,1.9000000000000004,1.9000000000000004,1.9000000000000004,1.9000000000000004,1.9000000000000004,1.9000000000000004,1.9000000000000004,1.9000000000000004,1.9000000000000004,1.9000000000000004,2.0,2.0,2.0,2.0,2.0,2.0,2.0,2.0,2.0,2.0,2.0,2.0,2.0,2.0,2.0,2.0,2.0,2.0,2.0,2.0,2.0,2.0,2.0,2.0,2.0,2.0,2.0,2.0,2.0,2.0,2.0],\"z\":[4.810410323122475,4.7805611391314455,4.760882061945224,4.751373091563808,4.7520342279872,4.762865471215398,4.783866821248404,4.815038278086217,4.8563798417288355,4.907891512176262,4.969573289428495,5.0414251734855355,5.1234471643473825,5.215639262014037,5.318001466485498,5.430533777761766,5.553236195842841,5.686108720728722,5.829151352419411,5.982364090914906,6.145746936215209,6.319299888320318,6.503022947230235,6.69691611294496,6.900979385464491,7.1152127647888275,7.33961625091797,7.574189843851922,7.818933543590683,8.073847350134246,8.338931263482618,4.818857833201942,4.787546212485638,4.766404698574141,4.755433291467451,4.754631991165568,4.7640007976684915,4.783539710976222,4.81324873108876,4.853127858006105,4.903177091728256,4.963396432255215,5.033785879586981,5.114345433723553,5.205075094664933,5.3059748624111185,5.4170447369621115,5.538284718317912,5.669694806478519,5.811275001443933,5.963025303214154,6.124945711789182,6.297036227169016,6.479296849353659,6.671727578343107,6.874328414137364,7.087099356736424,7.310040406140295,7.543151562348971,7.786432825362455,8.039884195180747,8.30350567180384,4.8264198799259175,4.793645822484339,4.771041871847567,4.758608028015602,4.756344290988444,4.764250660766094,4.78232713734855,4.810573720735813,4.8489904109278825,4.897577207924759,4.956334111726443,5.025261122332934,5.104358239744232,5.193625463960337,5.293062794981249,5.402670232806966,5.522447777437492,5.652395428872825,5.792513187112964,5.94280105215791,6.103259024007664,6.273887102662222,6.454685288121592,6.645653580385764,6.846791979454746,7.058100485328535,7.2795790980071295,7.51122781749053,7.753046643778739,8.005035576871753,8.26719461676958,4.833096463294402,4.798859969127548,4.774793581765502,4.760897301208263,4.75717112745583,4.763615060508204,4.780229100365386,4.807013247027374,4.84396750049417,4.891091860765772,4.94838632784218,5.015850901723397,5.09348558240942,5.18129036990025,5.279265264195887,5.387410265296331,5.505725373201581,5.634210587911639,5.772865909426503,5.921691337746175,6.080686872870653,6.249852514799938,6.429188263534031,6.618694119072931,6.818370081416639,7.028216150565148,7.248232326518471,7.478418609276598,7.718774998839533,7.969301495207272,8.22999809837982,4.838887583307395,4.803188652415267,4.777659828327946,4.762301111045431,4.757112500567724,4.762093996894824,4.77724560002673,4.802567309963444,4.838059126704965,4.883721050251292,4.939553080602426,5.005555217758368,5.081727461719116,5.168069812484672,5.264582270055033,5.371264834430202,5.4881175056101785,5.615140283594962,5.752333168384551,5.899696159978948,6.057229258378152,6.224932463582163,6.402805775590981,6.590849194404604,6.789062720023037,6.997446352446275,7.216000091674322,7.444723937707172,7.6836178905448325,7.932681950187297,8.191916116634571,4.843793239964897,4.806631872347493,4.779640611534898,4.762819457527109,4.756168410324127,4.759687469925952,4.773376636332584,4.797235909544023,4.831265289560268,4.875464776381321,4.929834370007181,4.994374070437848,5.069083877673321,5.153963791713601,5.249013812558689,5.354233940208583,5.469624174663285,5.595184515922793,5.730914963987108,5.8768155188562305,6.032886180530159,6.199126949008895,6.375537824292439,6.562118806380788,6.7588698952739446,6.9657910909719085,7.182882393474681,7.410143802782257,7.647575318894643,7.895176941811832,8.152948671533835,4.847813433266906,4.809189628924229,4.780735931386358,4.762452340653295,4.754338856725038,4.756395479601588,4.768622209282945,4.79101904576911,4.823585989060081,4.866323039155859,4.919230196056444,4.982307459761836,5.055554830272035,5.138972307587041,5.232559891706853,5.336317582631473,5.4502453803609,5.574343284895134,5.7086112962341735,5.853049414378021,6.007657639326675,6.1724359710801355,6.347384409638405,6.53250295500148,6.7277916071693635,6.933250366142049,7.1488792319195475,7.37467820450185,7.610647283888961,7.856786470080876,8.113095763077599,4.850948163213426,4.810861922145473,4.780945787882328,4.76119976042399,4.751623839770458,4.752218025921734,4.762982318877817,4.7839167186387055,4.8150212252044025,4.856295838574906,4.907740558750215,4.969355385730332,5.041140319515257,5.123095360104988,5.215220507499526,5.317515761698871,5.429981122703023,5.552616590511981,5.685422165125747,5.82839784654432,5.9815436347677,6.144859529795886,6.31834553162888,6.50200164026668,6.695827855709288,6.899824177956702,7.113990607008924,7.338327142865952,7.572833785527787,7.8175105349944305,8.072357391265879,4.853197429804453,4.811648752011226,4.780270181022806,4.759061716839193,4.748023359460387,4.747155108886388,4.756456965117196,4.77592892815281,4.8055709979932315,4.84538317463846,4.895365458088496,4.955517848343339,5.025840345402988,5.106332949267444,5.196995659936707,5.297828477410778,5.408831401689655,5.53000443277334,5.66134757066183,5.802860815355129,5.954544166853233,6.116397625156146,6.288421190263865,6.47061486217639,6.662978640893723,6.865512526415863,7.078216518742811,7.301090617874562,7.534134823811121,7.777349136552488,8.030733556098664,4.854561233039989,4.811550118521487,4.778709110807792,4.756038209898905,4.743537415794824,4.74120672849555,4.749046148001083,4.767055674311424,4.79523530742657,4.833585047346524,4.882104894071285,4.940794847600853,5.009654907935228,5.08868507507441,5.177885349018398,5.277255729767193,5.386796217320796,5.5065068116792055,5.636387512842422,5.776438320810445,5.926659235583275,6.087050257160911,6.257611385543356,6.438342620730609,6.629243962722667,6.830315411519528,7.041556967121201,7.2629686295276805,7.4945503987389674,7.73630227475506,7.9882242575759586,4.855039572920034,4.810566021676258,4.776262577237288,4.752129239603126,4.73816600877377,4.734372884749222,4.74074986752948,4.757296957114545,4.784014153504417,4.820901456699096,4.867958866698583,4.925186383502876,4.992584007111976,5.070151737525883,5.157889574744597,5.255797518768118,5.363875569596445,5.482123727229579,5.610541991667521,5.74913036291027,5.897888840957826,6.056817425810188,6.225916117467358,6.405184915929333,6.594623821196116,6.7942328332677056,7.004011952144104,7.2239611778253074,7.454080510311319,7.694369949602137,7.944829495697761,4.854632449444587,4.808696461475536,4.772930580311292,4.747334805951855,4.731909138397225,4.726653577647402,4.731568123702385,4.7466527765621755,4.771907536226773,4.8073324026961775,4.852927375970389,4.908692456049407,4.974627642933232,5.0507329366218645,5.137008337115304,5.23345384441355,5.340069458516603,5.456855179424464,5.58381100713713,5.720936941654604,5.868232982976885,6.0256991311039725,6.1933353860358675,6.371141747772567,6.559118216314077,6.757264791660394,6.9655814738115165,7.184068262767443,7.412725158528182,7.651552161093724,7.900549270464075,4.853339862613649,4.805941437919324,4.768713120029805,4.741654908945093,4.724766804665188,4.71804880719009,4.7215009165197985,4.735123132654315,4.7589154555936375,4.792877885337767,4.837010421886704,4.891313065240447,4.955785815398999,5.030428672362355,5.115241636130521,5.210224706703491,5.31537788408127,5.430701168263855,5.556194559251248,5.691858057043447,5.837691661640453,5.993695373042264,6.159869191248885,6.336213116260312,6.522727148076547,6.719411286697586,6.926265532123434,7.14328988435409,7.370484343389553,7.60784890922982,7.855383581874895,4.85116181242722,4.80230095100762,4.763610196392826,4.73508954858284,4.71673900757766,4.708558573377287,4.710548245981721,4.722708025390962,4.74503791160501,4.777537904623865,4.820208004447528,4.8730482110759965,4.9360585245092725,5.009238944747355,5.0925894717902445,5.186110105637942,5.289800846290446,5.403661693747756,5.527692648009874,5.661893709076797,5.806264876948529,5.960806151625066,6.125517533106413,6.300399021392564,6.485450616483522,6.680672318379289,6.886064127079863,7.10162604258524,7.327358064895429,7.563260194010423,7.8093324299302225,4.8480982988853,4.797775000740424,4.757621809400356,4.727638724865095,4.70782574713464,4.6981828762089926,4.698710112088152,4.709407454772119,4.7302749042608925,4.761312460554473,4.80252012365286,4.853897893556054,4.915445770264055,4.987163753776863,5.069051844094479,5.161110041216901,5.263338345144129,5.375736755876164,5.498305273413008,5.631043897754657,5.773952628901113,5.927031466852377,6.090280411608449,6.263699463169328,6.447288621535013,6.641047886705501,6.8449772586808,7.059076737460908,7.283346323045821,7.517786015435538,7.762395814630063,4.844149321987888,4.7923635871177375,4.750747959052394,4.719302437791859,4.69802702333613,4.686921715685208,4.685986514839092,4.695221420797784,4.714626433561283,4.744201553129589,4.783946779502701,4.83386211268062,4.893947552663347,4.96420309945088,5.04462875304322,5.135224513440368,5.235990380642321,5.346926354649084,5.4680324354606515,5.599308623077026,5.740754917498208,5.892371318724194,6.054157826754992,6.226114441590595,6.408241163231006,6.6005379916762195,6.803004926926244,7.0156419689810745,7.238449117840713,7.471426373505159,7.714573735974408,4.8393148817349845,4.7860667101395595,4.742988645348942,4.710080687363131,4.687342836182127,4.67477509180593,4.672377454234541,4.680149923467957,4.698092499506181,4.726205182349212,4.764487971997051,4.812940868449695,4.8715638717071466,4.940356981769406,5.019320198636471,5.108453522308343,5.207756952785023,5.317230490066509,5.436874134152804,5.566687885043902,5.706671742739811,5.856825707240525,6.017149778546047,6.187643956656374,6.36830824157151,6.559142633291452,6.760147131816202,6.971321737145755,7.192666449280119,7.424181268219286,7.665866193963263,4.833594978126589,4.7788843698058905,4.734343868289998,4.699973473578912,4.675773185672634,4.6617430045711625,4.657882930274497,4.66419296278264,4.680673102095589,4.707323348213346,4.744143701135909,4.791134160863279,4.848294727395455,4.91562540073244,4.9931261808742295,5.0807970678208285,5.178638061572233,5.286649162128445,5.4048303694894635,5.533181683655291,5.671703104625921,5.820394632401359,5.979256266981606,6.14828800836666,6.327489856556522,6.516861811551186,6.716403873350662,6.926116041954944,7.145998317364033,7.376050699577928,7.616273188596627,4.826989611162704,4.770816566116729,4.724813627875562,4.6889807964392025,4.663318071807649,4.647825453980903,4.642502942958964,4.647350538741831,4.662368241329506,4.6875560507219864,4.7229139669192755,4.768441989921371,4.8241401197282725,4.890008356339982,4.9660466997564985,5.052255149977822,5.148633707003952,5.255182370834889,5.371901141470632,5.498790018911183,5.63584900315654,5.783078094206705,5.9404772920616775,6.108046596721455,6.285786008186042,6.473695526455433,6.671775151529634,6.88002488340864,7.098444722092453,7.327034667581075,7.5657947198745,4.819498780843326,4.761863299072077,4.7143979241056355,4.677102655944001,4.649977494587173,4.633022440035152,4.626237492287937,4.629622651345531,4.643177917207931,4.666903289875138,4.700798769347151,4.744864355623971,4.799100048705599,4.863505848592034,4.9380817552832745,5.022827768779322,5.117743889080178,5.2228301161858415,5.338086450096311,5.463512890811586,5.599109438331669,5.74487609265656,5.900812853786258,6.066919721720761,6.243196696460071,6.4296437780041895,6.626260966353114,6.833048261506845,7.050005663465384,7.277133172228727,7.514430787796879,4.811122487168458,4.752024568671934,4.703096756980218,4.6643390520933075,4.6357514540112055,4.617333962733909,4.6090865782614205,4.6110093005937385,4.623102129730864,4.645365065672796,4.677798108419535,4.720401257971081,4.773174514327433,4.836117877488594,4.90923134745456,4.992514924225334,5.085968607800915,5.189592398181302,5.303386295366497,5.427350299356499,5.561484410151307,5.705788627750921,5.8602629521553435,6.024907383364574,6.19972192137861,6.384706566197451,6.579861317821102,6.785186176249559,7.000681141482826,7.226346213520895,7.462181392363773,4.801860730138097,4.741300374916299,4.690910126499308,4.650689984887124,4.620639950079746,4.600760022077176,4.591050200879413,4.591510486486456,4.6021408788983065,4.622941378114963,4.653911984136427,4.695052696962698,4.746363516593777,4.807844443029662,4.879495476270355,4.9613166163158535,5.053307863166159,5.155469216821271,5.267800677281191,5.390302244545918,5.5229739186154525,5.665815699489792,5.818827587168942,5.9820095816528935,6.155361682941656,6.338883891035223,6.5325762059336,6.736438627636782,6.950471156144772,7.174673791457568,7.409046533575171,4.791713509752245,4.729690717805172,4.6778380326629065,4.636155454325448,4.604642982792796,4.583300618064951,4.572128360141912,4.571126209023681,4.580294164710256,4.599632227201639,4.629140396497829,4.668818672598825,4.718667055504628,4.7786855452152395,4.848874141730656,4.9292328450508816,5.019761655175912,5.12046057210575,5.231329595840395,5.352368726379847,5.483577963724105,5.6249573078731725,5.776506758827046,5.938226316585722,6.110115981149211,6.292175752517505,6.484405630690608,6.686805615668513,6.899375707451229,7.122115906038751,7.355026211431078,4.780680826010903,4.717195597338556,4.663880475471014,4.62073546040828,4.587760552150354,4.5649557506972345,4.552321056048921,4.549856468205415,4.557561987166716,4.5754376129328245,4.603483345503739,4.641699184879461,4.690085131059989,4.748641184045325,4.817367343835467,4.896263610430417,4.985329983830174,5.0845664640347366,5.193973051044107,5.313549744858286,5.443296545477269,5.5832134529010595,5.7333004671296575,5.8935575881630635,6.063984816001277,6.244582150644295,6.43534959209212,6.636287140344753,6.8473947954021925,7.0686725572644376,7.300120425931491,4.768762678914069,4.703815013516446,4.649037454923631,4.604430003135622,4.5699926581524215,4.545725419974026,4.531628288600438,4.527701264031657,4.533944346267685,4.5503575353085175,4.5769408311541575,4.613694233804605,4.660617743259858,4.71771135951992,4.784975082584787,4.862408912454462,4.950012849128944,5.047786892608235,5.155731042892327,5.273845299981231,5.402129663874941,5.540584134573455,5.6892087120767805,5.848003396384909,6.016968187497848,6.19610308541559,6.385408090138142,6.584883201665503,6.794528419997667,7.014343745134639,7.244329177076417,4.755959068461743,4.689548966338846,4.633308971020756,4.587239082507472,4.551339300798996,4.525609625895328,4.510050057796464,4.50466059650241,4.50944124201316,4.5243919943287185,4.549512853449085,4.584803819374257,4.630264892104236,4.685896071639022,4.751697357978616,4.827668751123015,4.913810251072222,5.010121857826237,5.116603571385057,5.2332553917486875,5.360077318917119,5.497069352890362,5.644231493668412,5.801563741251265,5.96906609563893,6.1467385568314,6.334581124828677,6.532593799630757,6.740776581237649,6.959129469649346,7.187652464865852,4.742269994653927,4.674397455805755,4.61669502376239,4.569162698523832,4.531800480090081,4.504608368461136,4.487586363637,4.48073446561767,4.484052674403147,4.497540989993431,4.521199412388521,4.555027941588419,4.599026577593124,4.653195320402635,4.717534170016954,4.792043126436079,4.876722189660011,4.97157135968875,5.076590636522296,5.191780020160651,5.31713951060381,5.452669107851777,5.59836881190455,5.754238622762131,5.92027854042452,6.096488564891713,6.282868696163715,6.479418934240524,6.686139279122142,6.903029730808562,7.130090289299792,4.7276954574906185,4.658360481917172,4.599195613148532,4.550200851184699,4.511376196025675,4.482721647671455,4.464237206122044,4.455922871377439,4.457778643437641,4.469804522302649,4.492000507972466,4.524366600447088,4.566902799726519,4.619609105810755,4.682485518699799,4.75553203839365,4.838748664892307,4.932135398195774,5.035692238304043,5.149419185217122,5.273316238935009,5.4073833994577,5.551620666785198,5.706028040917504,5.870605521854618,6.045353109596538,6.230270804143266,6.4253586054948,6.630616513651144,6.846044528612286,7.071642650378241,4.712235456971818,4.641438044673098,4.580810739179183,4.530353540490076,4.490066448605775,4.459949463526282,4.440002585251595,4.430225813781717,4.430619149116644,4.441182591256378,4.46191614020092,4.4928197959502665,4.533893558504422,4.585137427863383,4.646551404027154,4.718135486995729,4.799889676769112,4.8918139733473005,4.9939083767303005,5.1061728869181024,5.228607503910712,5.361212227708131,5.503987058310356,5.656931995717389,5.820047039929229,5.993332190945871,6.176787448767325,6.370412813393584,6.57420828482465,6.78817386306052,7.012309548101204,4.695889993097527,4.623630144073532,4.561540401854343,4.50962076643996,4.467871237830385,4.4362918160256175,4.414882501025655,4.403643292830502,4.402574191440154,4.411675196854613,4.43094630907388,4.460387528097955,4.499998853926835,4.549780286560523,4.609731825999017,4.6798534722423195,4.760145225290425,4.850607085143341,4.951239051801062,5.062041125263592,5.183013305530927,5.31415559260307,5.455467986480018,5.606950487161775,5.7686030946483395,5.940425808939709,6.122418630035889,6.314581557936874,6.516914592642667,6.729417734153266,6.95209098246867,4.678659065867745,4.604936780118474,4.54138460117401,4.488002529034354,4.444790563699504,4.411748705169461,4.3888769534442265,4.376175308523797,4.373643770408175,4.38128233909736,4.3990910145913515,4.42706979689015,4.465218685993756,4.513537681902169,4.572026784615388,4.640685994133415,4.719515310456249,4.808514733583889,4.907684263516335,5.017023900253589,5.1365336437956515,5.2662134941425185,5.4060634512941945,5.556083515250675,5.716273686011966,5.88663396357806,6.067164347948964,6.257864839124677,6.458735437105194,6.669776141890516,6.890986953480645],\"type\":\"scatter3d\"},{\"colorbar\":{\"x\":0},\"name\":\"data surface\",\"opacity\":0.5,\"showlegend\":true,\"x\":[[0.0,0.1,0.2,0.30000000000000004,0.4,0.5,0.6000000000000001,0.7000000000000001,0.8,0.9,1.0],[0.0,0.1,0.2,0.30000000000000004,0.4,0.5,0.6000000000000001,0.7000000000000001,0.8,0.9,1.0],[0.0,0.1,0.2,0.30000000000000004,0.4,0.5,0.6000000000000001,0.7000000000000001,0.8,0.9,1.0],[0.0,0.1,0.2,0.30000000000000004,0.4,0.5,0.6000000000000001,0.7000000000000001,0.8,0.9,1.0],[0.0,0.1,0.2,0.30000000000000004,0.4,0.5,0.6000000000000001,0.7000000000000001,0.8,0.9,1.0],[0.0,0.1,0.2,0.30000000000000004,0.4,0.5,0.6000000000000001,0.7000000000000001,0.8,0.9,1.0],[0.0,0.1,0.2,0.30000000000000004,0.4,0.5,0.6000000000000001,0.7000000000000001,0.8,0.9,1.0],[0.0,0.1,0.2,0.30000000000000004,0.4,0.5,0.6000000000000001,0.7000000000000001,0.8,0.9,1.0],[0.0,0.1,0.2,0.30000000000000004,0.4,0.5,0.6000000000000001,0.7000000000000001,0.8,0.9,1.0],[0.0,0.1,0.2,0.30000000000000004,0.4,0.5,0.6000000000000001,0.7000000000000001,0.8,0.9,1.0],[0.0,0.1,0.2,0.30000000000000004,0.4,0.5,0.6000000000000001,0.7000000000000001,0.8,0.9,1.0]],\"y\":[[0.0,0.0,0.0,0.0,0.0,0.0,0.0,0.0,0.0,0.0,0.0],[0.1,0.1,0.1,0.1,0.1,0.1,0.1,0.1,0.1,0.1,0.1],[0.2,0.2,0.2,0.2,0.2,0.2,0.2,0.2,0.2,0.2,0.2],[0.30000000000000004,0.30000000000000004,0.30000000000000004,0.30000000000000004,0.30000000000000004,0.30000000000000004,0.30000000000000004,0.30000000000000004,0.30000000000000004,0.30000000000000004,0.30000000000000004],[0.4,0.4,0.4,0.4,0.4,0.4,0.4,0.4,0.4,0.4,0.4],[0.5,0.5,0.5,0.5,0.5,0.5,0.5,0.5,0.5,0.5,0.5],[0.6000000000000001,0.6000000000000001,0.6000000000000001,0.6000000000000001,0.6000000000000001,0.6000000000000001,0.6000000000000001,0.6000000000000001,0.6000000000000001,0.6000000000000001,0.6000000000000001],[0.7000000000000001,0.7000000000000001,0.7000000000000001,0.7000000000000001,0.7000000000000001,0.7000000000000001,0.7000000000000001,0.7000000000000001,0.7000000000000001,0.7000000000000001,0.7000000000000001],[0.8,0.8,0.8,0.8,0.8,0.8,0.8,0.8,0.8,0.8,0.8],[0.9,0.9,0.9,0.9,0.9,0.9,0.9,0.9,0.9,0.9,0.9],[1.0,1.0,1.0,1.0,1.0,1.0,1.0,1.0,1.0,1.0,1.0]],\"z\":[[5.0,5.001,5.008,5.027,5.064,5.125,5.216,5.343,5.5120000000000005,5.729,6.0],[4.98,4.981,4.988,5.007,5.044,5.105,5.196,5.323,5.492,5.709,5.98],[4.96,4.961,4.968,4.987,5.024,5.085,5.176,5.303,5.472,5.689,5.96],[4.94,4.941,4.948,4.967,5.004,5.065,5.156,5.283,5.452,5.6690000000000005,5.9399999999999995],[4.92,4.921,4.928,4.947,4.984,5.045,5.136,5.263,5.432,5.649,5.92],[4.9,4.901,4.908,4.927,4.964,5.025,5.116,5.243,5.412,5.6290000000000004,5.9],[4.88,4.881,4.888,4.907,4.944,5.005,5.096,5.223,5.392,5.609,5.88],[4.86,4.861,4.868,4.887,4.924,4.985,5.0760000000000005,5.203,5.372,5.589,5.86],[4.84,4.841,4.848,4.867,4.904,4.965,5.056,5.183,5.352,5.569,5.84],[4.82,4.821,4.828,4.847,4.884,4.945,5.0360000000000005,5.163,5.332,5.549,5.82],[4.8,4.801,4.808,4.827,4.864,4.925,5.016,5.143,5.312,5.529,5.8]],\"type\":\"surface\"}],                        {\"template\":{\"data\":{\"histogram2dcontour\":[{\"type\":\"histogram2dcontour\",\"colorbar\":{\"outlinewidth\":0,\"ticks\":\"\"},\"colorscale\":[[0.0,\"#0d0887\"],[0.1111111111111111,\"#46039f\"],[0.2222222222222222,\"#7201a8\"],[0.3333333333333333,\"#9c179e\"],[0.4444444444444444,\"#bd3786\"],[0.5555555555555556,\"#d8576b\"],[0.6666666666666666,\"#ed7953\"],[0.7777777777777778,\"#fb9f3a\"],[0.8888888888888888,\"#fdca26\"],[1.0,\"#f0f921\"]]}],\"choropleth\":[{\"type\":\"choropleth\",\"colorbar\":{\"outlinewidth\":0,\"ticks\":\"\"}}],\"histogram2d\":[{\"type\":\"histogram2d\",\"colorbar\":{\"outlinewidth\":0,\"ticks\":\"\"},\"colorscale\":[[0.0,\"#0d0887\"],[0.1111111111111111,\"#46039f\"],[0.2222222222222222,\"#7201a8\"],[0.3333333333333333,\"#9c179e\"],[0.4444444444444444,\"#bd3786\"],[0.5555555555555556,\"#d8576b\"],[0.6666666666666666,\"#ed7953\"],[0.7777777777777778,\"#fb9f3a\"],[0.8888888888888888,\"#fdca26\"],[1.0,\"#f0f921\"]]}],\"heatmap\":[{\"type\":\"heatmap\",\"colorbar\":{\"outlinewidth\":0,\"ticks\":\"\"},\"colorscale\":[[0.0,\"#0d0887\"],[0.1111111111111111,\"#46039f\"],[0.2222222222222222,\"#7201a8\"],[0.3333333333333333,\"#9c179e\"],[0.4444444444444444,\"#bd3786\"],[0.5555555555555556,\"#d8576b\"],[0.6666666666666666,\"#ed7953\"],[0.7777777777777778,\"#fb9f3a\"],[0.8888888888888888,\"#fdca26\"],[1.0,\"#f0f921\"]]}],\"heatmapgl\":[{\"type\":\"heatmapgl\",\"colorbar\":{\"outlinewidth\":0,\"ticks\":\"\"},\"colorscale\":[[0.0,\"#0d0887\"],[0.1111111111111111,\"#46039f\"],[0.2222222222222222,\"#7201a8\"],[0.3333333333333333,\"#9c179e\"],[0.4444444444444444,\"#bd3786\"],[0.5555555555555556,\"#d8576b\"],[0.6666666666666666,\"#ed7953\"],[0.7777777777777778,\"#fb9f3a\"],[0.8888888888888888,\"#fdca26\"],[1.0,\"#f0f921\"]]}],\"contourcarpet\":[{\"type\":\"contourcarpet\",\"colorbar\":{\"outlinewidth\":0,\"ticks\":\"\"}}],\"contour\":[{\"type\":\"contour\",\"colorbar\":{\"outlinewidth\":0,\"ticks\":\"\"},\"colorscale\":[[0.0,\"#0d0887\"],[0.1111111111111111,\"#46039f\"],[0.2222222222222222,\"#7201a8\"],[0.3333333333333333,\"#9c179e\"],[0.4444444444444444,\"#bd3786\"],[0.5555555555555556,\"#d8576b\"],[0.6666666666666666,\"#ed7953\"],[0.7777777777777778,\"#fb9f3a\"],[0.8888888888888888,\"#fdca26\"],[1.0,\"#f0f921\"]]}],\"surface\":[{\"type\":\"surface\",\"colorbar\":{\"outlinewidth\":0,\"ticks\":\"\"},\"colorscale\":[[0.0,\"#0d0887\"],[0.1111111111111111,\"#46039f\"],[0.2222222222222222,\"#7201a8\"],[0.3333333333333333,\"#9c179e\"],[0.4444444444444444,\"#bd3786\"],[0.5555555555555556,\"#d8576b\"],[0.6666666666666666,\"#ed7953\"],[0.7777777777777778,\"#fb9f3a\"],[0.8888888888888888,\"#fdca26\"],[1.0,\"#f0f921\"]]}],\"mesh3d\":[{\"type\":\"mesh3d\",\"colorbar\":{\"outlinewidth\":0,\"ticks\":\"\"}}],\"scatter\":[{\"fillpattern\":{\"fillmode\":\"overlay\",\"size\":10,\"solidity\":0.2},\"type\":\"scatter\"}],\"parcoords\":[{\"type\":\"parcoords\",\"line\":{\"colorbar\":{\"outlinewidth\":0,\"ticks\":\"\"}}}],\"scatterpolargl\":[{\"type\":\"scatterpolargl\",\"marker\":{\"colorbar\":{\"outlinewidth\":0,\"ticks\":\"\"}}}],\"bar\":[{\"error_x\":{\"color\":\"#2a3f5f\"},\"error_y\":{\"color\":\"#2a3f5f\"},\"marker\":{\"line\":{\"color\":\"#E5ECF6\",\"width\":0.5},\"pattern\":{\"fillmode\":\"overlay\",\"size\":10,\"solidity\":0.2}},\"type\":\"bar\"}],\"scattergeo\":[{\"type\":\"scattergeo\",\"marker\":{\"colorbar\":{\"outlinewidth\":0,\"ticks\":\"\"}}}],\"scatterpolar\":[{\"type\":\"scatterpolar\",\"marker\":{\"colorbar\":{\"outlinewidth\":0,\"ticks\":\"\"}}}],\"histogram\":[{\"marker\":{\"pattern\":{\"fillmode\":\"overlay\",\"size\":10,\"solidity\":0.2}},\"type\":\"histogram\"}],\"scattergl\":[{\"type\":\"scattergl\",\"marker\":{\"colorbar\":{\"outlinewidth\":0,\"ticks\":\"\"}}}],\"scatter3d\":[{\"type\":\"scatter3d\",\"line\":{\"colorbar\":{\"outlinewidth\":0,\"ticks\":\"\"}},\"marker\":{\"colorbar\":{\"outlinewidth\":0,\"ticks\":\"\"}}}],\"scattermapbox\":[{\"type\":\"scattermapbox\",\"marker\":{\"colorbar\":{\"outlinewidth\":0,\"ticks\":\"\"}}}],\"scatterternary\":[{\"type\":\"scatterternary\",\"marker\":{\"colorbar\":{\"outlinewidth\":0,\"ticks\":\"\"}}}],\"scattercarpet\":[{\"type\":\"scattercarpet\",\"marker\":{\"colorbar\":{\"outlinewidth\":0,\"ticks\":\"\"}}}],\"carpet\":[{\"aaxis\":{\"endlinecolor\":\"#2a3f5f\",\"gridcolor\":\"white\",\"linecolor\":\"white\",\"minorgridcolor\":\"white\",\"startlinecolor\":\"#2a3f5f\"},\"baxis\":{\"endlinecolor\":\"#2a3f5f\",\"gridcolor\":\"white\",\"linecolor\":\"white\",\"minorgridcolor\":\"white\",\"startlinecolor\":\"#2a3f5f\"},\"type\":\"carpet\"}],\"table\":[{\"cells\":{\"fill\":{\"color\":\"#EBF0F8\"},\"line\":{\"color\":\"white\"}},\"header\":{\"fill\":{\"color\":\"#C8D4E3\"},\"line\":{\"color\":\"white\"}},\"type\":\"table\"}],\"barpolar\":[{\"marker\":{\"line\":{\"color\":\"#E5ECF6\",\"width\":0.5},\"pattern\":{\"fillmode\":\"overlay\",\"size\":10,\"solidity\":0.2}},\"type\":\"barpolar\"}],\"pie\":[{\"automargin\":true,\"type\":\"pie\"}]},\"layout\":{\"autotypenumbers\":\"strict\",\"colorway\":[\"#636efa\",\"#EF553B\",\"#00cc96\",\"#ab63fa\",\"#FFA15A\",\"#19d3f3\",\"#FF6692\",\"#B6E880\",\"#FF97FF\",\"#FECB52\"],\"font\":{\"color\":\"#2a3f5f\"},\"hovermode\":\"closest\",\"hoverlabel\":{\"align\":\"left\"},\"paper_bgcolor\":\"white\",\"plot_bgcolor\":\"#E5ECF6\",\"polar\":{\"bgcolor\":\"#E5ECF6\",\"angularaxis\":{\"gridcolor\":\"white\",\"linecolor\":\"white\",\"ticks\":\"\"},\"radialaxis\":{\"gridcolor\":\"white\",\"linecolor\":\"white\",\"ticks\":\"\"}},\"ternary\":{\"bgcolor\":\"#E5ECF6\",\"aaxis\":{\"gridcolor\":\"white\",\"linecolor\":\"white\",\"ticks\":\"\"},\"baxis\":{\"gridcolor\":\"white\",\"linecolor\":\"white\",\"ticks\":\"\"},\"caxis\":{\"gridcolor\":\"white\",\"linecolor\":\"white\",\"ticks\":\"\"}},\"coloraxis\":{\"colorbar\":{\"outlinewidth\":0,\"ticks\":\"\"}},\"colorscale\":{\"sequential\":[[0.0,\"#0d0887\"],[0.1111111111111111,\"#46039f\"],[0.2222222222222222,\"#7201a8\"],[0.3333333333333333,\"#9c179e\"],[0.4444444444444444,\"#bd3786\"],[0.5555555555555556,\"#d8576b\"],[0.6666666666666666,\"#ed7953\"],[0.7777777777777778,\"#fb9f3a\"],[0.8888888888888888,\"#fdca26\"],[1.0,\"#f0f921\"]],\"sequentialminus\":[[0.0,\"#0d0887\"],[0.1111111111111111,\"#46039f\"],[0.2222222222222222,\"#7201a8\"],[0.3333333333333333,\"#9c179e\"],[0.4444444444444444,\"#bd3786\"],[0.5555555555555556,\"#d8576b\"],[0.6666666666666666,\"#ed7953\"],[0.7777777777777778,\"#fb9f3a\"],[0.8888888888888888,\"#fdca26\"],[1.0,\"#f0f921\"]],\"diverging\":[[0,\"#8e0152\"],[0.1,\"#c51b7d\"],[0.2,\"#de77ae\"],[0.3,\"#f1b6da\"],[0.4,\"#fde0ef\"],[0.5,\"#f7f7f7\"],[0.6,\"#e6f5d0\"],[0.7,\"#b8e186\"],[0.8,\"#7fbc41\"],[0.9,\"#4d9221\"],[1,\"#276419\"]]},\"xaxis\":{\"gridcolor\":\"white\",\"linecolor\":\"white\",\"ticks\":\"\",\"title\":{\"standoff\":15},\"zerolinecolor\":\"white\",\"automargin\":true,\"zerolinewidth\":2},\"yaxis\":{\"gridcolor\":\"white\",\"linecolor\":\"white\",\"ticks\":\"\",\"title\":{\"standoff\":15},\"zerolinecolor\":\"white\",\"automargin\":true,\"zerolinewidth\":2},\"scene\":{\"xaxis\":{\"backgroundcolor\":\"#E5ECF6\",\"gridcolor\":\"white\",\"linecolor\":\"white\",\"showbackground\":true,\"ticks\":\"\",\"zerolinecolor\":\"white\",\"gridwidth\":2},\"yaxis\":{\"backgroundcolor\":\"#E5ECF6\",\"gridcolor\":\"white\",\"linecolor\":\"white\",\"showbackground\":true,\"ticks\":\"\",\"zerolinecolor\":\"white\",\"gridwidth\":2},\"zaxis\":{\"backgroundcolor\":\"#E5ECF6\",\"gridcolor\":\"white\",\"linecolor\":\"white\",\"showbackground\":true,\"ticks\":\"\",\"zerolinecolor\":\"white\",\"gridwidth\":2}},\"shapedefaults\":{\"line\":{\"color\":\"#2a3f5f\"}},\"annotationdefaults\":{\"arrowcolor\":\"#2a3f5f\",\"arrowhead\":0,\"arrowwidth\":1},\"geo\":{\"bgcolor\":\"white\",\"landcolor\":\"#E5ECF6\",\"subunitcolor\":\"white\",\"showland\":true,\"showlakes\":true,\"lakecolor\":\"white\"},\"title\":{\"x\":0.05},\"mapbox\":{\"style\":\"light\"}}},\"scene\":{\"camera\":{\"projection\":{\"type\":\"orthographic\"}}}},                        {\"responsive\": true}                    ).then(function(){\n",
              "                            \n",
              "var gd = document.getElementById('03616d9a-1bff-49d5-aef5-6fcb55c1a2f0');\n",
              "var x = new MutationObserver(function (mutations, observer) {{\n",
              "        var display = window.getComputedStyle(gd).display;\n",
              "        if (!display || display === 'none') {{\n",
              "            console.log([gd, 'removed!']);\n",
              "            Plotly.purge(gd);\n",
              "            observer.disconnect();\n",
              "        }}\n",
              "}});\n",
              "\n",
              "// Listen for the removal of the full notebook cells\n",
              "var notebookContainer = gd.closest('#notebook-container');\n",
              "if (notebookContainer) {{\n",
              "    x.observe(notebookContainer, {childList: true});\n",
              "}}\n",
              "\n",
              "// Listen for the clearing of the current output cell\n",
              "var outputEl = gd.closest('.output');\n",
              "if (outputEl) {{\n",
              "    x.observe(outputEl, {childList: true});\n",
              "}}\n",
              "\n",
              "                        })                };                            </script>        </div>\n",
              "</body>\n",
              "</html>"
            ]
          },
          "metadata": {}
        }
      ]
    },
    {
      "cell_type": "code",
      "source": [
        "svr_temp=svr2\n",
        "print (' Dual coefficients:\\n',svr_temp.dual_coef_,'\\n',\n",
        "       'Support vectors:\\n',svr_temp.support_vectors_,'\\n',\n",
        "       'coef0: ',svr_temp.coef0,'\\n',\n",
        "       'gamma: ',svr_temp.gamma,'\\n',\n",
        "       'Intercept: ',svr_temp.intercept_[0],)"
      ],
      "metadata": {
        "id": "nQ_2c4WFvkv7",
        "outputId": "4a5f013d-ba0d-4148-b6bb-986e2bdb359e",
        "colab": {
          "base_uri": "https://localhost:8080/"
        }
      },
      "execution_count": 100,
      "outputs": [
        {
          "output_type": "stream",
          "name": "stdout",
          "text": [
            " Dual coefficients:\n",
            " [[ 1.         -0.16088724 -0.63712613  0.21303446 -0.41502109]] \n",
            " Support vectors:\n",
            " [[0.99 0.23]\n",
            " [0.77 0.22]\n",
            " [0.69 0.57]\n",
            " [0.04 0.78]\n",
            " [0.42 0.17]] \n",
            " coef0:  1 \n",
            " gamma:  1 \n",
            " Intercept:  4.867958866698583\n"
          ]
        }
      ]
    },
    {
      "cell_type": "markdown",
      "source": [
        "## manual test1"
      ],
      "metadata": {
        "id": "Vgkx6a42zti-"
      }
    },
    {
      "cell_type": "code",
      "source": [
        "regressor=svr2\n",
        "\n",
        "# Extract the parameters\n",
        "support_vectors = regressor.support_vectors_\n",
        "coefficients = regressor.dual_coef_\n",
        "intercept = regressor.intercept_\n",
        "gamma = regressor.gamma\n",
        "\n",
        "# Polynomial kernel function\n",
        "def polynomial_kernel(x, y, degree=2, r=1, gamma=1):\n",
        "    return (gamma * np.dot(x, y) + r) ** degree\n",
        "\n",
        "# Predict manually (example for one instance x)\n",
        "x = [0.37,0.69]  # replace this with your instance\n",
        "manual_y_pred = np.sum(coefficients.ravel() * np.array([polynomial_kernel(x, sv, 2, 1, gamma) for sv in support_vectors])) + intercept\n",
        "manual_y_pred"
      ],
      "metadata": {
        "id": "FCh3VisWvz9s",
        "outputId": "37d24e03-593d-441f-d992-1f33ed675b2d",
        "colab": {
          "base_uri": "https://localhost:8080/"
        }
      },
      "execution_count": 101,
      "outputs": [
        {
          "output_type": "execute_result",
          "data": {
            "text/plain": [
              "array([4.97142346])"
            ]
          },
          "metadata": {},
          "execution_count": 101
        }
      ]
    },
    {
      "cell_type": "code",
      "source": [
        "svr2.predict([x])"
      ],
      "metadata": {
        "id": "xY4hfKNOxcqu",
        "outputId": "51da4b5c-194f-4e15-f1a8-f8acd39f494b",
        "colab": {
          "base_uri": "https://localhost:8080/"
        }
      },
      "execution_count": 102,
      "outputs": [
        {
          "output_type": "execute_result",
          "data": {
            "text/plain": [
              "array([4.97142346])"
            ]
          },
          "metadata": {},
          "execution_count": 102
        }
      ]
    },
    {
      "cell_type": "markdown",
      "source": [
        "## manual test2"
      ],
      "metadata": {
        "id": "uXOVXRDJgk_g"
      }
    },
    {
      "cell_type": "code",
      "source": [
        "import numpy as np\n",
        "from sklearn.svm import SVR\n",
        "import matplotlib.pyplot as plt\n",
        "\n",
        "# Generate sample data\n",
        "np.random.seed(0)\n",
        "X = np.sort(5 * np.random.rand(40, 2), axis=0)\n",
        "y = np.sin(X).sum(axis=1) + np.random.randn(40) * 0.2\n",
        "\n",
        "# Define SVR model\n",
        "svr_poly = SVR(kernel='poly',coef0=1, degree=2, gamma=1)\n",
        "\n",
        "# Fit model\n",
        "svr_poly.fit(X, y)\n",
        "\n",
        "# Predict on sample data\n",
        "y_pred = svr_poly.predict(X)\n",
        "\n",
        "# Plot results\n",
        "plt.scatter(X[:,1], y, color='black', label='Data')\n",
        "plt.plot(X[:,1], y_pred, color='red', linewidth=2, label='SVR poly')\n",
        "plt.legend()\n",
        "plt.show()"
      ],
      "metadata": {
        "id": "IRm7_Li2JkXx",
        "outputId": "9cbdcce8-02f1-41de-fbe9-51bab82f7bd0",
        "colab": {
          "base_uri": "https://localhost:8080/",
          "height": 430
        }
      },
      "execution_count": 72,
      "outputs": [
        {
          "output_type": "display_data",
          "data": {
            "text/plain": [
              "<Figure size 640x480 with 1 Axes>"
            ],
            "image/png": "[encoded data removed]"
          },
          "metadata": {}
        }
      ]
    },
    {
      "cell_type": "code",
      "source": [
        "# Extract model parameters\n",
        "support_vectors = svr_poly.support_vectors_\n",
        "dual_coefs = svr_poly.dual_coef_\n",
        "intercept = svr_poly.intercept_\n",
        "gamma = svr_poly.gamma\n",
        "\n",
        "# Make manual prediction\n",
        "def manual_predict(x):\n",
        "    y_pred = 0\n",
        "    for i in range(len(support_vectors)):\n",
        "        kernel_value = polynomial_kernel(x, support_vectors[i], degree=2, gamma=gamma)\n",
        "        y_pred += dual_coefs[0][i] * kernel_value\n",
        "    y_pred += intercept\n",
        "    return y_pred\n",
        "\n",
        "# Polynomial kernel function\n",
        "def polynomial_kernel(x, y, degree=2, gamma=1):\n",
        "    return (gamma*np.dot(x, y.T) + 1) ** degree\n",
        "\n",
        "# Make prediction on new data point\n",
        "x_new = [2.5, 3.0]\n",
        "y_new = manual_predict(x_new)\n",
        "print(y_new)"
      ],
      "metadata": {
        "id": "eG4YUEiUhmCo",
        "outputId": "e5dd03ae-b8d2-481a-9e96-4e30ce353659",
        "colab": {
          "base_uri": "https://localhost:8080/"
        }
      },
      "execution_count": 105,
      "outputs": [
        {
          "output_type": "stream",
          "name": "stdout",
          "text": [
            "[0.29505739]\n"
          ]
        }
      ]
    },
    {
      "cell_type": "code",
      "source": [
        "svr_poly.predict([x_new])"
      ],
      "metadata": {
        "id": "NBeq_dADiuBP",
        "outputId": "0d2a8971-9202-47e9-f817-2ffff45e60c5",
        "colab": {
          "base_uri": "https://localhost:8080/"
        }
      },
      "execution_count": 74,
      "outputs": [
        {
          "output_type": "execute_result",
          "data": {
            "text/plain": [
              "array([0.29505739])"
            ]
          },
          "metadata": {},
          "execution_count": 74
        }
      ]
    }
  ]
}