{
  "nbformat": 4,
  "nbformat_minor": 0,
  "metadata": {
    "colab": {
      "provenance": [],
      "toc_visible": true,
      "authorship_tag": "ABX9TyPMIVA3NPR/JUa4VWH7Indz",
      "include_colab_link": true
    },
    "kernelspec": {
      "name": "python3",
      "display_name": "Python 3"
    },
    "language_info": {
      "name": "python"
    }
  },
  "cells": [
    {
      "cell_type": "markdown",
      "metadata": {
        "id": "view-in-github",
        "colab_type": "text"
      },
      "source": [
        "<a href=\"https://colab.research.google.com/github/vladgap/Various/blob/main/SVR_function_approx.ipynb\" target=\"_parent\"><img src=\"https://colab.research.google.com/assets/colab-badge.svg\" alt=\"Open In Colab\"/></a>"
      ]
    },
    {
      "cell_type": "code",
      "execution_count": 1,
      "metadata": {
        "id": "-iV87ghCR8gK"
      },
      "outputs": [],
      "source": [
        "import numpy as np\n",
        "import pandas as pd\n",
        "import plotly.express as px\n",
        "import plotly.graph_objs as go\n",
        "from plotly.subplots import make_subplots\n",
        "from sklearn import preprocessing\n",
        "import matplotlib.pyplot as plt\n",
        "import skimage.io as sio"
      ]
    },
    {
      "cell_type": "code",
      "source": [
        "from sklearn.svm import SVR"
      ],
      "metadata": {
        "id": "4l_ji9AUSdJm"
      },
      "execution_count": 2,
      "outputs": []
    },
    {
      "cell_type": "markdown",
      "source": [
        "# 1"
      ],
      "metadata": {
        "id": "MtgFyX0NSM8X"
      }
    },
    {
      "cell_type": "code",
      "source": [
        "def func(x):\n",
        "    y = x**2+1\n",
        "    return y"
      ],
      "metadata": {
        "id": "N2hJEDYRSKf9"
      },
      "execution_count": 21,
      "outputs": []
    },
    {
      "cell_type": "code",
      "source": [
        "x=np.linspace(-1,2,16)\n",
        "data1=np.array([\n",
        "               x,\n",
        "               func(x)\n",
        "               ]).T\n",
        "X1=data1[:,[0]]\n",
        "T1=data1[:,[1]]"
      ],
      "metadata": {
        "id": "WGbMB6khyiOs"
      },
      "execution_count": 33,
      "outputs": []
    },
    {
      "cell_type": "code",
      "source": [
        "scaler_X1 = preprocessing.StandardScaler().fit(X1)\n",
        "scaler_T1 = preprocessing.StandardScaler().fit(T1)\n",
        "\n",
        "scaler_X1.mean_, scaler_X1.scale_ = 0, 1 # disable scaling\n",
        "scaler_T1.mean_, scaler_T1.scale_ = 0, 1 # disable scaling\n",
        "\n",
        "scaler_data1 = [scaler_X1.mean_, scaler_X1.scale_, scaler_T1.mean_, scaler_T1.scale_]\n",
        "print('scaler X -- mean, stdev:  ',scaler_data1[0], scaler_data1[1])\n",
        "print('scaler T -- mean, stdev:  ',scaler_data1[2], scaler_data1[3])\n",
        "\n",
        "X_sc1 = scaler_X1.transform(X1)\n",
        "T_sc1 = scaler_T1.transform(T1)\n",
        "X_sc1[0:3]"
      ],
      "metadata": {
        "colab": {
          "base_uri": "https://localhost:8080/"
        },
        "outputId": "5e31f3b6-7ee2-4d36-f1c7-8fd212de94b7",
        "id": "BsyaONOmmuD1"
      },
      "execution_count": 34,
      "outputs": [
        {
          "output_type": "stream",
          "name": "stdout",
          "text": [
            "scaler X -- mean, stdev:   0 1\n",
            "scaler T -- mean, stdev:   0 1\n"
          ]
        },
        {
          "output_type": "execute_result",
          "data": {
            "text/plain": [
              "array([[-1. ],\n",
              "       [-0.8],\n",
              "       [-0.6]])"
            ]
          },
          "metadata": {},
          "execution_count": 34
        }
      ]
    },
    {
      "cell_type": "code",
      "source": [
        "# T_sc1.ravel()"
      ],
      "metadata": {
        "id": "a0tMqEHAUU1u"
      },
      "execution_count": 35,
      "outputs": []
    },
    {
      "cell_type": "code",
      "source": [
        "# T_sc1.ravel().reshape(-1,1)"
      ],
      "metadata": {
        "id": "h0AQzdBfV6qR"
      },
      "execution_count": 36,
      "outputs": []
    },
    {
      "cell_type": "markdown",
      "source": [
        "## 1_1"
      ],
      "metadata": {
        "id": "R52wfZNua8s6"
      }
    },
    {
      "cell_type": "code",
      "source": [
        "svr1=SVR(kernel='rbf', gamma=10)\n",
        "svr1.fit(X_sc1,T_sc1.ravel())\n",
        "predics1=scaler_T1.inverse_transform(svr1.predict(X_sc1).reshape(-1,1))\n",
        "# predics1"
      ],
      "metadata": {
        "id": "AAHRkPQrSHVd"
      },
      "execution_count": 37,
      "outputs": []
    },
    {
      "cell_type": "code",
      "source": [
        "# @title\n",
        "errors1=(predics1-T1)/T1*100\n",
        "# plt.hist(errors1[:,0]) # division by 0"
      ],
      "metadata": {
        "id": "9TokyvaPXDRL"
      },
      "execution_count": 38,
      "outputs": []
    },
    {
      "cell_type": "code",
      "source": [
        "# @title\n",
        "fig = make_subplots(specs=[[{\"secondary_y\": True}]])\n",
        "fig.add_trace(go.Scatter(x=T1[:,0], y=predics1[:,0], mode='markers', marker_size=4, name='predics', marker_color='black'),secondary_y=False)\n",
        "fig.add_trace(go.Scatter(x=T1[:,0], y=T1[:,0], mode='lines', line_color='red', line_width=0.2, showlegend=False),secondary_y=False)\n",
        "fig.add_trace(go.Scatter(x=T1[:,0], y=errors1[:,0], mode='markers', marker_size=4, name='errors', marker_color='orange'),secondary_y=True)\n",
        "\n",
        "fig.update_xaxes(title_text=\"data\")\n",
        "\n",
        "# Set y-axes titles\n",
        "fig.update_yaxes(title_text=\"predics\", secondary_y=False)\n",
        "fig.update_yaxes(title_text=\"% error\", range=[-20, 20], secondary_y=True, showgrid=False, tick0=-5, dtick=2)\n",
        "\n",
        "fig.show()"
      ],
      "metadata": {
        "colab": {
          "base_uri": "https://localhost:8080/",
          "height": 542
        },
        "id": "aJP-rr5sXFBh",
        "outputId": "65c80ab9-61c2-45a8-9db8-754ba1b66f6d"
      },
      "execution_count": 39,
      "outputs": [
        {
          "output_type": "display_data",
          "data": {
            "text/html": [
              "<html>\n",
              "<head><meta charset=\"utf-8\" /></head>\n",
              "<body>\n",
              "    <div>            <script src=\"https://cdnjs.cloudflare.com/ajax/libs/mathjax/2.7.5/MathJax.js?config=TeX-AMS-MML_SVG\"></script><script type=\"text/javascript\">if (window.MathJax && window.MathJax.Hub && window.MathJax.Hub.Config) {window.MathJax.Hub.Config({SVG: {font: \"STIX-Web\"}});}</script>                <script type=\"text/javascript\">window.PlotlyConfig = {MathJaxConfig: 'local'};</script>\n",
              "        <script charset=\"utf-8\" src=\"https://cdn.plot.ly/plotly-2.24.1.min.js\"></script>                <div id=\"33d2c91f-02d1-44a9-8d45-5995e40332a3\" class=\"plotly-graph-div\" style=\"height:525px; width:100%;\"></div>            <script type=\"text/javascript\">                                    window.PLOTLYENV=window.PLOTLYENV || {};                                    if (document.getElementById(\"33d2c91f-02d1-44a9-8d45-5995e40332a3\")) {                    Plotly.newPlot(                        \"33d2c91f-02d1-44a9-8d45-5995e40332a3\",                        [{\"marker\":{\"color\":\"black\",\"size\":4},\"mode\":\"markers\",\"name\":\"predics\",\"x\":[2.0,1.6400000000000001,1.3599999999999999,1.16,1.04,1.0,1.04,1.1600000000000001,1.36,1.6400000000000001,2.0,2.4400000000000004,2.960000000000001,3.5600000000000005,4.240000000000001,5.0],\"y\":[1.983062314580048,1.7399886807791067,1.4601771959006027,1.2598493787200606,1.140101343069298,1.0993992061825273,1.1401701339949275,1.2596390873853243,1.460149410839192,1.7401701380984949,2.0521866439375875,2.4076527451970007,2.8603868283273277,3.4599685585810582,4.016902300042465,3.851518524870314],\"type\":\"scatter\",\"xaxis\":\"x\",\"yaxis\":\"y\"},{\"line\":{\"color\":\"red\",\"width\":0.2},\"mode\":\"lines\",\"showlegend\":false,\"x\":[2.0,1.6400000000000001,1.3599999999999999,1.16,1.04,1.0,1.04,1.1600000000000001,1.36,1.6400000000000001,2.0,2.4400000000000004,2.960000000000001,3.5600000000000005,4.240000000000001,5.0],\"y\":[2.0,1.6400000000000001,1.3599999999999999,1.16,1.04,1.0,1.04,1.1600000000000001,1.36,1.6400000000000001,2.0,2.4400000000000004,2.960000000000001,3.5600000000000005,4.240000000000001,5.0],\"type\":\"scatter\",\"xaxis\":\"x\",\"yaxis\":\"y\"},{\"marker\":{\"color\":\"orange\",\"size\":4},\"mode\":\"markers\",\"name\":\"errors\",\"x\":[2.0,1.6400000000000001,1.3599999999999999,1.16,1.04,1.0,1.04,1.1600000000000001,1.36,1.6400000000000001,2.0,2.4400000000000004,2.960000000000001,3.5600000000000005,4.240000000000001,5.0],\"y\":[-0.8468842709976054,6.096870779213817,7.3659702868090315,8.6077050620742,9.62512914127864,9.939920618252728,9.63174365335841,8.589576498734838,7.363927267587633,6.1079352499082145,2.609332196879377,-1.3257071640573652,-3.3653098538065236,-2.809871949970288,-5.26173820654567,-22.969629502593722],\"type\":\"scatter\",\"xaxis\":\"x\",\"yaxis\":\"y2\"}],                        {\"template\":{\"data\":{\"histogram2dcontour\":[{\"type\":\"histogram2dcontour\",\"colorbar\":{\"outlinewidth\":0,\"ticks\":\"\"},\"colorscale\":[[0.0,\"#0d0887\"],[0.1111111111111111,\"#46039f\"],[0.2222222222222222,\"#7201a8\"],[0.3333333333333333,\"#9c179e\"],[0.4444444444444444,\"#bd3786\"],[0.5555555555555556,\"#d8576b\"],[0.6666666666666666,\"#ed7953\"],[0.7777777777777778,\"#fb9f3a\"],[0.8888888888888888,\"#fdca26\"],[1.0,\"#f0f921\"]]}],\"choropleth\":[{\"type\":\"choropleth\",\"colorbar\":{\"outlinewidth\":0,\"ticks\":\"\"}}],\"histogram2d\":[{\"type\":\"histogram2d\",\"colorbar\":{\"outlinewidth\":0,\"ticks\":\"\"},\"colorscale\":[[0.0,\"#0d0887\"],[0.1111111111111111,\"#46039f\"],[0.2222222222222222,\"#7201a8\"],[0.3333333333333333,\"#9c179e\"],[0.4444444444444444,\"#bd3786\"],[0.5555555555555556,\"#d8576b\"],[0.6666666666666666,\"#ed7953\"],[0.7777777777777778,\"#fb9f3a\"],[0.8888888888888888,\"#fdca26\"],[1.0,\"#f0f921\"]]}],\"heatmap\":[{\"type\":\"heatmap\",\"colorbar\":{\"outlinewidth\":0,\"ticks\":\"\"},\"colorscale\":[[0.0,\"#0d0887\"],[0.1111111111111111,\"#46039f\"],[0.2222222222222222,\"#7201a8\"],[0.3333333333333333,\"#9c179e\"],[0.4444444444444444,\"#bd3786\"],[0.5555555555555556,\"#d8576b\"],[0.6666666666666666,\"#ed7953\"],[0.7777777777777778,\"#fb9f3a\"],[0.8888888888888888,\"#fdca26\"],[1.0,\"#f0f921\"]]}],\"heatmapgl\":[{\"type\":\"heatmapgl\",\"colorbar\":{\"outlinewidth\":0,\"ticks\":\"\"},\"colorscale\":[[0.0,\"#0d0887\"],[0.1111111111111111,\"#46039f\"],[0.2222222222222222,\"#7201a8\"],[0.3333333333333333,\"#9c179e\"],[0.4444444444444444,\"#bd3786\"],[0.5555555555555556,\"#d8576b\"],[0.6666666666666666,\"#ed7953\"],[0.7777777777777778,\"#fb9f3a\"],[0.8888888888888888,\"#fdca26\"],[1.0,\"#f0f921\"]]}],\"contourcarpet\":[{\"type\":\"contourcarpet\",\"colorbar\":{\"outlinewidth\":0,\"ticks\":\"\"}}],\"contour\":[{\"type\":\"contour\",\"colorbar\":{\"outlinewidth\":0,\"ticks\":\"\"},\"colorscale\":[[0.0,\"#0d0887\"],[0.1111111111111111,\"#46039f\"],[0.2222222222222222,\"#7201a8\"],[0.3333333333333333,\"#9c179e\"],[0.4444444444444444,\"#bd3786\"],[0.5555555555555556,\"#d8576b\"],[0.6666666666666666,\"#ed7953\"],[0.7777777777777778,\"#fb9f3a\"],[0.8888888888888888,\"#fdca26\"],[1.0,\"#f0f921\"]]}],\"surface\":[{\"type\":\"surface\",\"colorbar\":{\"outlinewidth\":0,\"ticks\":\"\"},\"colorscale\":[[0.0,\"#0d0887\"],[0.1111111111111111,\"#46039f\"],[0.2222222222222222,\"#7201a8\"],[0.3333333333333333,\"#9c179e\"],[0.4444444444444444,\"#bd3786\"],[0.5555555555555556,\"#d8576b\"],[0.6666666666666666,\"#ed7953\"],[0.7777777777777778,\"#fb9f3a\"],[0.8888888888888888,\"#fdca26\"],[1.0,\"#f0f921\"]]}],\"mesh3d\":[{\"type\":\"mesh3d\",\"colorbar\":{\"outlinewidth\":0,\"ticks\":\"\"}}],\"scatter\":[{\"fillpattern\":{\"fillmode\":\"overlay\",\"size\":10,\"solidity\":0.2},\"type\":\"scatter\"}],\"parcoords\":[{\"type\":\"parcoords\",\"line\":{\"colorbar\":{\"outlinewidth\":0,\"ticks\":\"\"}}}],\"scatterpolargl\":[{\"type\":\"scatterpolargl\",\"marker\":{\"colorbar\":{\"outlinewidth\":0,\"ticks\":\"\"}}}],\"bar\":[{\"error_x\":{\"color\":\"#2a3f5f\"},\"error_y\":{\"color\":\"#2a3f5f\"},\"marker\":{\"line\":{\"color\":\"#E5ECF6\",\"width\":0.5},\"pattern\":{\"fillmode\":\"overlay\",\"size\":10,\"solidity\":0.2}},\"type\":\"bar\"}],\"scattergeo\":[{\"type\":\"scattergeo\",\"marker\":{\"colorbar\":{\"outlinewidth\":0,\"ticks\":\"\"}}}],\"scatterpolar\":[{\"type\":\"scatterpolar\",\"marker\":{\"colorbar\":{\"outlinewidth\":0,\"ticks\":\"\"}}}],\"histogram\":[{\"marker\":{\"pattern\":{\"fillmode\":\"overlay\",\"size\":10,\"solidity\":0.2}},\"type\":\"histogram\"}],\"scattergl\":[{\"type\":\"scattergl\",\"marker\":{\"colorbar\":{\"outlinewidth\":0,\"ticks\":\"\"}}}],\"scatter3d\":[{\"type\":\"scatter3d\",\"line\":{\"colorbar\":{\"outlinewidth\":0,\"ticks\":\"\"}},\"marker\":{\"colorbar\":{\"outlinewidth\":0,\"ticks\":\"\"}}}],\"scattermapbox\":[{\"type\":\"scattermapbox\",\"marker\":{\"colorbar\":{\"outlinewidth\":0,\"ticks\":\"\"}}}],\"scatterternary\":[{\"type\":\"scatterternary\",\"marker\":{\"colorbar\":{\"outlinewidth\":0,\"ticks\":\"\"}}}],\"scattercarpet\":[{\"type\":\"scattercarpet\",\"marker\":{\"colorbar\":{\"outlinewidth\":0,\"ticks\":\"\"}}}],\"carpet\":[{\"aaxis\":{\"endlinecolor\":\"#2a3f5f\",\"gridcolor\":\"white\",\"linecolor\":\"white\",\"minorgridcolor\":\"white\",\"startlinecolor\":\"#2a3f5f\"},\"baxis\":{\"endlinecolor\":\"#2a3f5f\",\"gridcolor\":\"white\",\"linecolor\":\"white\",\"minorgridcolor\":\"white\",\"startlinecolor\":\"#2a3f5f\"},\"type\":\"carpet\"}],\"table\":[{\"cells\":{\"fill\":{\"color\":\"#EBF0F8\"},\"line\":{\"color\":\"white\"}},\"header\":{\"fill\":{\"color\":\"#C8D4E3\"},\"line\":{\"color\":\"white\"}},\"type\":\"table\"}],\"barpolar\":[{\"marker\":{\"line\":{\"color\":\"#E5ECF6\",\"width\":0.5},\"pattern\":{\"fillmode\":\"overlay\",\"size\":10,\"solidity\":0.2}},\"type\":\"barpolar\"}],\"pie\":[{\"automargin\":true,\"type\":\"pie\"}]},\"layout\":{\"autotypenumbers\":\"strict\",\"colorway\":[\"#636efa\",\"#EF553B\",\"#00cc96\",\"#ab63fa\",\"#FFA15A\",\"#19d3f3\",\"#FF6692\",\"#B6E880\",\"#FF97FF\",\"#FECB52\"],\"font\":{\"color\":\"#2a3f5f\"},\"hovermode\":\"closest\",\"hoverlabel\":{\"align\":\"left\"},\"paper_bgcolor\":\"white\",\"plot_bgcolor\":\"#E5ECF6\",\"polar\":{\"bgcolor\":\"#E5ECF6\",\"angularaxis\":{\"gridcolor\":\"white\",\"linecolor\":\"white\",\"ticks\":\"\"},\"radialaxis\":{\"gridcolor\":\"white\",\"linecolor\":\"white\",\"ticks\":\"\"}},\"ternary\":{\"bgcolor\":\"#E5ECF6\",\"aaxis\":{\"gridcolor\":\"white\",\"linecolor\":\"white\",\"ticks\":\"\"},\"baxis\":{\"gridcolor\":\"white\",\"linecolor\":\"white\",\"ticks\":\"\"},\"caxis\":{\"gridcolor\":\"white\",\"linecolor\":\"white\",\"ticks\":\"\"}},\"coloraxis\":{\"colorbar\":{\"outlinewidth\":0,\"ticks\":\"\"}},\"colorscale\":{\"sequential\":[[0.0,\"#0d0887\"],[0.1111111111111111,\"#46039f\"],[0.2222222222222222,\"#7201a8\"],[0.3333333333333333,\"#9c179e\"],[0.4444444444444444,\"#bd3786\"],[0.5555555555555556,\"#d8576b\"],[0.6666666666666666,\"#ed7953\"],[0.7777777777777778,\"#fb9f3a\"],[0.8888888888888888,\"#fdca26\"],[1.0,\"#f0f921\"]],\"sequentialminus\":[[0.0,\"#0d0887\"],[0.1111111111111111,\"#46039f\"],[0.2222222222222222,\"#7201a8\"],[0.3333333333333333,\"#9c179e\"],[0.4444444444444444,\"#bd3786\"],[0.5555555555555556,\"#d8576b\"],[0.6666666666666666,\"#ed7953\"],[0.7777777777777778,\"#fb9f3a\"],[0.8888888888888888,\"#fdca26\"],[1.0,\"#f0f921\"]],\"diverging\":[[0,\"#8e0152\"],[0.1,\"#c51b7d\"],[0.2,\"#de77ae\"],[0.3,\"#f1b6da\"],[0.4,\"#fde0ef\"],[0.5,\"#f7f7f7\"],[0.6,\"#e6f5d0\"],[0.7,\"#b8e186\"],[0.8,\"#7fbc41\"],[0.9,\"#4d9221\"],[1,\"#276419\"]]},\"xaxis\":{\"gridcolor\":\"white\",\"linecolor\":\"white\",\"ticks\":\"\",\"title\":{\"standoff\":15},\"zerolinecolor\":\"white\",\"automargin\":true,\"zerolinewidth\":2},\"yaxis\":{\"gridcolor\":\"white\",\"linecolor\":\"white\",\"ticks\":\"\",\"title\":{\"standoff\":15},\"zerolinecolor\":\"white\",\"automargin\":true,\"zerolinewidth\":2},\"scene\":{\"xaxis\":{\"backgroundcolor\":\"#E5ECF6\",\"gridcolor\":\"white\",\"linecolor\":\"white\",\"showbackground\":true,\"ticks\":\"\",\"zerolinecolor\":\"white\",\"gridwidth\":2},\"yaxis\":{\"backgroundcolor\":\"#E5ECF6\",\"gridcolor\":\"white\",\"linecolor\":\"white\",\"showbackground\":true,\"ticks\":\"\",\"zerolinecolor\":\"white\",\"gridwidth\":2},\"zaxis\":{\"backgroundcolor\":\"#E5ECF6\",\"gridcolor\":\"white\",\"linecolor\":\"white\",\"showbackground\":true,\"ticks\":\"\",\"zerolinecolor\":\"white\",\"gridwidth\":2}},\"shapedefaults\":{\"line\":{\"color\":\"#2a3f5f\"}},\"annotationdefaults\":{\"arrowcolor\":\"#2a3f5f\",\"arrowhead\":0,\"arrowwidth\":1},\"geo\":{\"bgcolor\":\"white\",\"landcolor\":\"#E5ECF6\",\"subunitcolor\":\"white\",\"showland\":true,\"showlakes\":true,\"lakecolor\":\"white\"},\"title\":{\"x\":0.05},\"mapbox\":{\"style\":\"light\"}}},\"xaxis\":{\"anchor\":\"y\",\"domain\":[0.0,0.94],\"title\":{\"text\":\"data\"}},\"yaxis\":{\"anchor\":\"x\",\"domain\":[0.0,1.0],\"title\":{\"text\":\"predics\"}},\"yaxis2\":{\"anchor\":\"x\",\"overlaying\":\"y\",\"side\":\"right\",\"title\":{\"text\":\"% error\"},\"range\":[-20,20],\"showgrid\":false,\"tick0\":-5,\"dtick\":2}},                        {\"responsive\": true}                    ).then(function(){\n",
              "                            \n",
              "var gd = document.getElementById('33d2c91f-02d1-44a9-8d45-5995e40332a3');\n",
              "var x = new MutationObserver(function (mutations, observer) {{\n",
              "        var display = window.getComputedStyle(gd).display;\n",
              "        if (!display || display === 'none') {{\n",
              "            console.log([gd, 'removed!']);\n",
              "            Plotly.purge(gd);\n",
              "            observer.disconnect();\n",
              "        }}\n",
              "}});\n",
              "\n",
              "// Listen for the removal of the full notebook cells\n",
              "var notebookContainer = gd.closest('#notebook-container');\n",
              "if (notebookContainer) {{\n",
              "    x.observe(notebookContainer, {childList: true});\n",
              "}}\n",
              "\n",
              "// Listen for the clearing of the current output cell\n",
              "var outputEl = gd.closest('.output');\n",
              "if (outputEl) {{\n",
              "    x.observe(outputEl, {childList: true});\n",
              "}}\n",
              "\n",
              "                        })                };                            </script>        </div>\n",
              "</body>\n",
              "</html>"
            ]
          },
          "metadata": {}
        }
      ]
    },
    {
      "cell_type": "code",
      "source": [
        "fig = make_subplots(specs=[[{\"secondary_y\": True}]])\n",
        "fig.add_trace(go.Scatter(x=X1[:,0], y=T1[:,0], mode='markers', marker_color='blue', name='data'),secondary_y=False)\n",
        "fig.add_trace(go.Scatter(x=X1[:,0], y=errors1[:,0], mode='markers', marker_size=4, marker_color='orange', name='errors'),secondary_y=True)\n",
        "\n",
        "X_mean, X_wigth = X1[:,0].mean(), X1[:,0].max()-X1[:,0].mean()\n",
        "X_extended=np.linspace(X_mean-2*X_wigth, X_mean+2*X_wigth, 51)\n",
        "\n",
        "fig.add_trace(go.Scatter(x=X_extended, y=scaler_T1.inverse_transform(svr1.predict(scaler_X1.transform(X_extended.reshape(51,1))).reshape(-1,1))[:,0], mode='markers', marker_size=3, name='extenden prediction'),secondary_y=False)\n",
        "fig.add_trace(go.Scatter(x=X1[:,0], y=predics1[:,0], mode='markers', marker_color='black', name='prediction'),secondary_y=False)\n",
        "\n",
        "fig.update_xaxes(title_text=\"x_axis\")\n",
        "\n",
        "# Set y-axes titles\n",
        "fig.update_yaxes(title_text=\"data, predics\", secondary_y=False)\n",
        "fig.update_yaxes(title_text=\"% error\", range=[-20, 20], secondary_y=True, showgrid=False, tick0=-5, dtick=2)\n",
        "\n",
        "fig.show()"
      ],
      "metadata": {
        "colab": {
          "base_uri": "https://localhost:8080/",
          "height": 542
        },
        "id": "uafdN_anXNEQ",
        "outputId": "ebb67dae-a0fc-4c4c-87e1-d4c1d2821de3"
      },
      "execution_count": 40,
      "outputs": [
        {
          "output_type": "display_data",
          "data": {
            "text/html": [
              "<html>\n",
              "<head><meta charset=\"utf-8\" /></head>\n",
              "<body>\n",
              "    <div>            <script src=\"https://cdnjs.cloudflare.com/ajax/libs/mathjax/2.7.5/MathJax.js?config=TeX-AMS-MML_SVG\"></script><script type=\"text/javascript\">if (window.MathJax && window.MathJax.Hub && window.MathJax.Hub.Config) {window.MathJax.Hub.Config({SVG: {font: \"STIX-Web\"}});}</script>                <script type=\"text/javascript\">window.PlotlyConfig = {MathJaxConfig: 'local'};</script>\n",
              "        <script charset=\"utf-8\" src=\"https://cdn.plot.ly/plotly-2.24.1.min.js\"></script>                <div id=\"9923c7b2-a5ab-4458-b6c7-0853a0973aa3\" class=\"plotly-graph-div\" style=\"height:525px; width:100%;\"></div>            <script type=\"text/javascript\">                                    window.PLOTLYENV=window.PLOTLYENV || {};                                    if (document.getElementById(\"9923c7b2-a5ab-4458-b6c7-0853a0973aa3\")) {                    Plotly.newPlot(                        \"9923c7b2-a5ab-4458-b6c7-0853a0973aa3\",                        [{\"marker\":{\"color\":\"blue\"},\"mode\":\"markers\",\"name\":\"data\",\"x\":[-1.0,-0.8,-0.6,-0.3999999999999999,-0.19999999999999996,0.0,0.20000000000000018,0.40000000000000013,0.6000000000000001,0.8,1.0,1.2000000000000002,1.4000000000000004,1.6,1.8000000000000003,2.0],\"y\":[2.0,1.6400000000000001,1.3599999999999999,1.16,1.04,1.0,1.04,1.1600000000000001,1.36,1.6400000000000001,2.0,2.4400000000000004,2.960000000000001,3.5600000000000005,4.240000000000001,5.0],\"type\":\"scatter\",\"xaxis\":\"x\",\"yaxis\":\"y\"},{\"marker\":{\"color\":\"orange\",\"size\":4},\"mode\":\"markers\",\"name\":\"errors\",\"x\":[-1.0,-0.8,-0.6,-0.3999999999999999,-0.19999999999999996,0.0,0.20000000000000018,0.40000000000000013,0.6000000000000001,0.8,1.0,1.2000000000000002,1.4000000000000004,1.6,1.8000000000000003,2.0],\"y\":[-0.8468842709976054,6.096870779213817,7.3659702868090315,8.6077050620742,9.62512914127864,9.939920618252728,9.63174365335841,8.589576498734838,7.363927267587633,6.1079352499082145,2.609332196879377,-1.3257071640573652,-3.3653098538065236,-2.809871949970288,-5.26173820654567,-22.969629502593722],\"type\":\"scatter\",\"xaxis\":\"x\",\"yaxis\":\"y2\"},{\"marker\":{\"size\":3},\"mode\":\"markers\",\"name\":\"extenden prediction\",\"x\":[-2.5,-2.38,-2.26,-2.14,-2.02,-1.9,-1.78,-1.6600000000000001,-1.54,-1.42,-1.3,-1.1800000000000002,-1.06,-0.94,-0.8200000000000001,-0.7000000000000002,-0.5800000000000001,-0.45999999999999996,-0.33999999999999986,-0.2200000000000002,-0.10000000000000009,0.020000000000000018,0.13999999999999968,0.2599999999999998,0.3799999999999999,0.5,0.6200000000000001,0.7399999999999998,0.8599999999999999,0.98,1.0999999999999996,1.2199999999999998,1.3399999999999999,1.46,1.58,1.7000000000000002,1.8200000000000003,1.9399999999999995,2.0599999999999996,2.1799999999999997,2.3,2.42,2.54,2.66,2.7799999999999994,2.8999999999999995,3.0199999999999996,3.1399999999999997,3.26,3.38,3.5],\"y\":[2.1272466585862717,2.1272466585847476,2.127246658526494,2.127246656858438,2.1272466210789682,2.127246046043143,2.1272391171127865,2.1271764395957735,2.1267497940786613,2.1245556245285244,2.1159776867417177,2.0902710798788138,2.030635877607603,1.9225642979918247,1.7685564148799195,1.594738263621454,1.4358274968928182,1.3103540342006117,1.2162744674493216,1.1487119741067442,1.1093269388267681,1.0998750657699599,1.1195646960143621,1.1678864791911752,1.2442146369430662,1.3489812446035636,1.4850499707379696,1.650320605333459,1.8322670527082379,2.0201166403025668,2.220155113091214,2.448019510117822,2.7121210734013594,3.0226094034764093,3.3936094632865093,3.78317612058982,4.043008063122297,4.002185438083746,3.63147974109598,3.0948546916644535,2.617636495906791,2.3202857828473427,2.1856151114818565,2.1406928900602074,2.1295933569471637,2.127555767285524,2.127277313492848,2.1272489439011655,2.127246786530955,2.127246663962321,2.127246658755773],\"type\":\"scatter\",\"xaxis\":\"x\",\"yaxis\":\"y\"},{\"marker\":{\"color\":\"black\"},\"mode\":\"markers\",\"name\":\"prediction\",\"x\":[-1.0,-0.8,-0.6,-0.3999999999999999,-0.19999999999999996,0.0,0.20000000000000018,0.40000000000000013,0.6000000000000001,0.8,1.0,1.2000000000000002,1.4000000000000004,1.6,1.8000000000000003,2.0],\"y\":[1.983062314580048,1.7399886807791067,1.4601771959006027,1.2598493787200606,1.140101343069298,1.0993992061825273,1.1401701339949275,1.2596390873853243,1.460149410839192,1.7401701380984949,2.0521866439375875,2.4076527451970007,2.8603868283273277,3.4599685585810582,4.016902300042465,3.851518524870314],\"type\":\"scatter\",\"xaxis\":\"x\",\"yaxis\":\"y\"}],                        {\"template\":{\"data\":{\"histogram2dcontour\":[{\"type\":\"histogram2dcontour\",\"colorbar\":{\"outlinewidth\":0,\"ticks\":\"\"},\"colorscale\":[[0.0,\"#0d0887\"],[0.1111111111111111,\"#46039f\"],[0.2222222222222222,\"#7201a8\"],[0.3333333333333333,\"#9c179e\"],[0.4444444444444444,\"#bd3786\"],[0.5555555555555556,\"#d8576b\"],[0.6666666666666666,\"#ed7953\"],[0.7777777777777778,\"#fb9f3a\"],[0.8888888888888888,\"#fdca26\"],[1.0,\"#f0f921\"]]}],\"choropleth\":[{\"type\":\"choropleth\",\"colorbar\":{\"outlinewidth\":0,\"ticks\":\"\"}}],\"histogram2d\":[{\"type\":\"histogram2d\",\"colorbar\":{\"outlinewidth\":0,\"ticks\":\"\"},\"colorscale\":[[0.0,\"#0d0887\"],[0.1111111111111111,\"#46039f\"],[0.2222222222222222,\"#7201a8\"],[0.3333333333333333,\"#9c179e\"],[0.4444444444444444,\"#bd3786\"],[0.5555555555555556,\"#d8576b\"],[0.6666666666666666,\"#ed7953\"],[0.7777777777777778,\"#fb9f3a\"],[0.8888888888888888,\"#fdca26\"],[1.0,\"#f0f921\"]]}],\"heatmap\":[{\"type\":\"heatmap\",\"colorbar\":{\"outlinewidth\":0,\"ticks\":\"\"},\"colorscale\":[[0.0,\"#0d0887\"],[0.1111111111111111,\"#46039f\"],[0.2222222222222222,\"#7201a8\"],[0.3333333333333333,\"#9c179e\"],[0.4444444444444444,\"#bd3786\"],[0.5555555555555556,\"#d8576b\"],[0.6666666666666666,\"#ed7953\"],[0.7777777777777778,\"#fb9f3a\"],[0.8888888888888888,\"#fdca26\"],[1.0,\"#f0f921\"]]}],\"heatmapgl\":[{\"type\":\"heatmapgl\",\"colorbar\":{\"outlinewidth\":0,\"ticks\":\"\"},\"colorscale\":[[0.0,\"#0d0887\"],[0.1111111111111111,\"#46039f\"],[0.2222222222222222,\"#7201a8\"],[0.3333333333333333,\"#9c179e\"],[0.4444444444444444,\"#bd3786\"],[0.5555555555555556,\"#d8576b\"],[0.6666666666666666,\"#ed7953\"],[0.7777777777777778,\"#fb9f3a\"],[0.8888888888888888,\"#fdca26\"],[1.0,\"#f0f921\"]]}],\"contourcarpet\":[{\"type\":\"contourcarpet\",\"colorbar\":{\"outlinewidth\":0,\"ticks\":\"\"}}],\"contour\":[{\"type\":\"contour\",\"colorbar\":{\"outlinewidth\":0,\"ticks\":\"\"},\"colorscale\":[[0.0,\"#0d0887\"],[0.1111111111111111,\"#46039f\"],[0.2222222222222222,\"#7201a8\"],[0.3333333333333333,\"#9c179e\"],[0.4444444444444444,\"#bd3786\"],[0.5555555555555556,\"#d8576b\"],[0.6666666666666666,\"#ed7953\"],[0.7777777777777778,\"#fb9f3a\"],[0.8888888888888888,\"#fdca26\"],[1.0,\"#f0f921\"]]}],\"surface\":[{\"type\":\"surface\",\"colorbar\":{\"outlinewidth\":0,\"ticks\":\"\"},\"colorscale\":[[0.0,\"#0d0887\"],[0.1111111111111111,\"#46039f\"],[0.2222222222222222,\"#7201a8\"],[0.3333333333333333,\"#9c179e\"],[0.4444444444444444,\"#bd3786\"],[0.5555555555555556,\"#d8576b\"],[0.6666666666666666,\"#ed7953\"],[0.7777777777777778,\"#fb9f3a\"],[0.8888888888888888,\"#fdca26\"],[1.0,\"#f0f921\"]]}],\"mesh3d\":[{\"type\":\"mesh3d\",\"colorbar\":{\"outlinewidth\":0,\"ticks\":\"\"}}],\"scatter\":[{\"fillpattern\":{\"fillmode\":\"overlay\",\"size\":10,\"solidity\":0.2},\"type\":\"scatter\"}],\"parcoords\":[{\"type\":\"parcoords\",\"line\":{\"colorbar\":{\"outlinewidth\":0,\"ticks\":\"\"}}}],\"scatterpolargl\":[{\"type\":\"scatterpolargl\",\"marker\":{\"colorbar\":{\"outlinewidth\":0,\"ticks\":\"\"}}}],\"bar\":[{\"error_x\":{\"color\":\"#2a3f5f\"},\"error_y\":{\"color\":\"#2a3f5f\"},\"marker\":{\"line\":{\"color\":\"#E5ECF6\",\"width\":0.5},\"pattern\":{\"fillmode\":\"overlay\",\"size\":10,\"solidity\":0.2}},\"type\":\"bar\"}],\"scattergeo\":[{\"type\":\"scattergeo\",\"marker\":{\"colorbar\":{\"outlinewidth\":0,\"ticks\":\"\"}}}],\"scatterpolar\":[{\"type\":\"scatterpolar\",\"marker\":{\"colorbar\":{\"outlinewidth\":0,\"ticks\":\"\"}}}],\"histogram\":[{\"marker\":{\"pattern\":{\"fillmode\":\"overlay\",\"size\":10,\"solidity\":0.2}},\"type\":\"histogram\"}],\"scattergl\":[{\"type\":\"scattergl\",\"marker\":{\"colorbar\":{\"outlinewidth\":0,\"ticks\":\"\"}}}],\"scatter3d\":[{\"type\":\"scatter3d\",\"line\":{\"colorbar\":{\"outlinewidth\":0,\"ticks\":\"\"}},\"marker\":{\"colorbar\":{\"outlinewidth\":0,\"ticks\":\"\"}}}],\"scattermapbox\":[{\"type\":\"scattermapbox\",\"marker\":{\"colorbar\":{\"outlinewidth\":0,\"ticks\":\"\"}}}],\"scatterternary\":[{\"type\":\"scatterternary\",\"marker\":{\"colorbar\":{\"outlinewidth\":0,\"ticks\":\"\"}}}],\"scattercarpet\":[{\"type\":\"scattercarpet\",\"marker\":{\"colorbar\":{\"outlinewidth\":0,\"ticks\":\"\"}}}],\"carpet\":[{\"aaxis\":{\"endlinecolor\":\"#2a3f5f\",\"gridcolor\":\"white\",\"linecolor\":\"white\",\"minorgridcolor\":\"white\",\"startlinecolor\":\"#2a3f5f\"},\"baxis\":{\"endlinecolor\":\"#2a3f5f\",\"gridcolor\":\"white\",\"linecolor\":\"white\",\"minorgridcolor\":\"white\",\"startlinecolor\":\"#2a3f5f\"},\"type\":\"carpet\"}],\"table\":[{\"cells\":{\"fill\":{\"color\":\"#EBF0F8\"},\"line\":{\"color\":\"white\"}},\"header\":{\"fill\":{\"color\":\"#C8D4E3\"},\"line\":{\"color\":\"white\"}},\"type\":\"table\"}],\"barpolar\":[{\"marker\":{\"line\":{\"color\":\"#E5ECF6\",\"width\":0.5},\"pattern\":{\"fillmode\":\"overlay\",\"size\":10,\"solidity\":0.2}},\"type\":\"barpolar\"}],\"pie\":[{\"automargin\":true,\"type\":\"pie\"}]},\"layout\":{\"autotypenumbers\":\"strict\",\"colorway\":[\"#636efa\",\"#EF553B\",\"#00cc96\",\"#ab63fa\",\"#FFA15A\",\"#19d3f3\",\"#FF6692\",\"#B6E880\",\"#FF97FF\",\"#FECB52\"],\"font\":{\"color\":\"#2a3f5f\"},\"hovermode\":\"closest\",\"hoverlabel\":{\"align\":\"left\"},\"paper_bgcolor\":\"white\",\"plot_bgcolor\":\"#E5ECF6\",\"polar\":{\"bgcolor\":\"#E5ECF6\",\"angularaxis\":{\"gridcolor\":\"white\",\"linecolor\":\"white\",\"ticks\":\"\"},\"radialaxis\":{\"gridcolor\":\"white\",\"linecolor\":\"white\",\"ticks\":\"\"}},\"ternary\":{\"bgcolor\":\"#E5ECF6\",\"aaxis\":{\"gridcolor\":\"white\",\"linecolor\":\"white\",\"ticks\":\"\"},\"baxis\":{\"gridcolor\":\"white\",\"linecolor\":\"white\",\"ticks\":\"\"},\"caxis\":{\"gridcolor\":\"white\",\"linecolor\":\"white\",\"ticks\":\"\"}},\"coloraxis\":{\"colorbar\":{\"outlinewidth\":0,\"ticks\":\"\"}},\"colorscale\":{\"sequential\":[[0.0,\"#0d0887\"],[0.1111111111111111,\"#46039f\"],[0.2222222222222222,\"#7201a8\"],[0.3333333333333333,\"#9c179e\"],[0.4444444444444444,\"#bd3786\"],[0.5555555555555556,\"#d8576b\"],[0.6666666666666666,\"#ed7953\"],[0.7777777777777778,\"#fb9f3a\"],[0.8888888888888888,\"#fdca26\"],[1.0,\"#f0f921\"]],\"sequentialminus\":[[0.0,\"#0d0887\"],[0.1111111111111111,\"#46039f\"],[0.2222222222222222,\"#7201a8\"],[0.3333333333333333,\"#9c179e\"],[0.4444444444444444,\"#bd3786\"],[0.5555555555555556,\"#d8576b\"],[0.6666666666666666,\"#ed7953\"],[0.7777777777777778,\"#fb9f3a\"],[0.8888888888888888,\"#fdca26\"],[1.0,\"#f0f921\"]],\"diverging\":[[0,\"#8e0152\"],[0.1,\"#c51b7d\"],[0.2,\"#de77ae\"],[0.3,\"#f1b6da\"],[0.4,\"#fde0ef\"],[0.5,\"#f7f7f7\"],[0.6,\"#e6f5d0\"],[0.7,\"#b8e186\"],[0.8,\"#7fbc41\"],[0.9,\"#4d9221\"],[1,\"#276419\"]]},\"xaxis\":{\"gridcolor\":\"white\",\"linecolor\":\"white\",\"ticks\":\"\",\"title\":{\"standoff\":15},\"zerolinecolor\":\"white\",\"automargin\":true,\"zerolinewidth\":2},\"yaxis\":{\"gridcolor\":\"white\",\"linecolor\":\"white\",\"ticks\":\"\",\"title\":{\"standoff\":15},\"zerolinecolor\":\"white\",\"automargin\":true,\"zerolinewidth\":2},\"scene\":{\"xaxis\":{\"backgroundcolor\":\"#E5ECF6\",\"gridcolor\":\"white\",\"linecolor\":\"white\",\"showbackground\":true,\"ticks\":\"\",\"zerolinecolor\":\"white\",\"gridwidth\":2},\"yaxis\":{\"backgroundcolor\":\"#E5ECF6\",\"gridcolor\":\"white\",\"linecolor\":\"white\",\"showbackground\":true,\"ticks\":\"\",\"zerolinecolor\":\"white\",\"gridwidth\":2},\"zaxis\":{\"backgroundcolor\":\"#E5ECF6\",\"gridcolor\":\"white\",\"linecolor\":\"white\",\"showbackground\":true,\"ticks\":\"\",\"zerolinecolor\":\"white\",\"gridwidth\":2}},\"shapedefaults\":{\"line\":{\"color\":\"#2a3f5f\"}},\"annotationdefaults\":{\"arrowcolor\":\"#2a3f5f\",\"arrowhead\":0,\"arrowwidth\":1},\"geo\":{\"bgcolor\":\"white\",\"landcolor\":\"#E5ECF6\",\"subunitcolor\":\"white\",\"showland\":true,\"showlakes\":true,\"lakecolor\":\"white\"},\"title\":{\"x\":0.05},\"mapbox\":{\"style\":\"light\"}}},\"xaxis\":{\"anchor\":\"y\",\"domain\":[0.0,0.94],\"title\":{\"text\":\"x_axis\"}},\"yaxis\":{\"anchor\":\"x\",\"domain\":[0.0,1.0],\"title\":{\"text\":\"data, predics\"}},\"yaxis2\":{\"anchor\":\"x\",\"overlaying\":\"y\",\"side\":\"right\",\"title\":{\"text\":\"% error\"},\"range\":[-20,20],\"showgrid\":false,\"tick0\":-5,\"dtick\":2}},                        {\"responsive\": true}                    ).then(function(){\n",
              "                            \n",
              "var gd = document.getElementById('9923c7b2-a5ab-4458-b6c7-0853a0973aa3');\n",
              "var x = new MutationObserver(function (mutations, observer) {{\n",
              "        var display = window.getComputedStyle(gd).display;\n",
              "        if (!display || display === 'none') {{\n",
              "            console.log([gd, 'removed!']);\n",
              "            Plotly.purge(gd);\n",
              "            observer.disconnect();\n",
              "        }}\n",
              "}});\n",
              "\n",
              "// Listen for the removal of the full notebook cells\n",
              "var notebookContainer = gd.closest('#notebook-container');\n",
              "if (notebookContainer) {{\n",
              "    x.observe(notebookContainer, {childList: true});\n",
              "}}\n",
              "\n",
              "// Listen for the clearing of the current output cell\n",
              "var outputEl = gd.closest('.output');\n",
              "if (outputEl) {{\n",
              "    x.observe(outputEl, {childList: true});\n",
              "}}\n",
              "\n",
              "                        })                };                            </script>        </div>\n",
              "</body>\n",
              "</html>"
            ]
          },
          "metadata": {}
        }
      ]
    },
    {
      "cell_type": "markdown",
      "source": [
        "## 1_2"
      ],
      "metadata": {
        "id": "2EaleSsQa3-V"
      }
    },
    {
      "cell_type": "code",
      "source": [
        "svr1_2=SVR(kernel='poly',degree=2,coef0=1)\n",
        "svr1_2.fit(X_sc1,T_sc1.ravel())\n",
        "predics1_2=scaler_T1.inverse_transform(svr1_2.predict(X_sc1).reshape(-1,1))\n",
        "# predics1_2"
      ],
      "metadata": {
        "id": "NV7XwmHDYAxM"
      },
      "execution_count": 41,
      "outputs": []
    },
    {
      "cell_type": "code",
      "source": [
        "fig = make_subplots(specs=[[{\"secondary_y\": True}]])\n",
        "fig.add_trace(go.Scatter(x=X1[:,0], y=T1[:,0], mode='markers', marker_color='blue', name='data'),secondary_y=False)\n",
        "# fig.add_trace(go.Scatter(x=X1[:,0], y=errors1[:,0], mode='markers', marker_size=4, marker_color='orange', name='errors'),secondary_y=True)\n",
        "\n",
        "X_mean, X_wigth = X1[:,0].mean(), X1[:,0].max()-X1[:,0].mean()\n",
        "X_extended=np.linspace(X_mean-2*X_wigth, X_mean+2*X_wigth, 51)\n",
        "\n",
        "fig.add_trace(go.Scatter(x=X_extended, y=scaler_T1.inverse_transform(svr1_2.predict(scaler_X1.transform(X_extended.reshape(-1,1))).reshape(-1,1))[:,0], mode='markers', marker_size=3, name='extenden prediction'),secondary_y=False)\n",
        "fig.add_trace(go.Scatter(x=X1[:,0], y=predics1_2[:,0], mode='markers', marker_color='black', name='prediction'),secondary_y=False)\n",
        "\n",
        "fig.update_xaxes(title_text=\"x_axis\")\n",
        "\n",
        "# Set y-axes titles\n",
        "fig.update_yaxes(title_text=\"data, predics\", secondary_y=False)\n",
        "fig.update_yaxes(title_text=\"% error\", range=[-20, 20], secondary_y=True, showgrid=False, tick0=-5, dtick=2)\n",
        "\n",
        "fig.show()"
      ],
      "metadata": {
        "colab": {
          "base_uri": "https://localhost:8080/",
          "height": 542
        },
        "id": "sX5S8ZNMbB5z",
        "outputId": "3ced44de-8525-4bf4-b01b-8467b438863e"
      },
      "execution_count": 42,
      "outputs": [
        {
          "output_type": "display_data",
          "data": {
            "text/html": [
              "<html>\n",
              "<head><meta charset=\"utf-8\" /></head>\n",
              "<body>\n",
              "    <div>            <script src=\"https://cdnjs.cloudflare.com/ajax/libs/mathjax/2.7.5/MathJax.js?config=TeX-AMS-MML_SVG\"></script><script type=\"text/javascript\">if (window.MathJax && window.MathJax.Hub && window.MathJax.Hub.Config) {window.MathJax.Hub.Config({SVG: {font: \"STIX-Web\"}});}</script>                <script type=\"text/javascript\">window.PlotlyConfig = {MathJaxConfig: 'local'};</script>\n",
              "        <script charset=\"utf-8\" src=\"https://cdn.plot.ly/plotly-2.24.1.min.js\"></script>                <div id=\"ea977c85-2b14-4ce3-bde0-831d918baad2\" class=\"plotly-graph-div\" style=\"height:525px; width:100%;\"></div>            <script type=\"text/javascript\">                                    window.PLOTLYENV=window.PLOTLYENV || {};                                    if (document.getElementById(\"ea977c85-2b14-4ce3-bde0-831d918baad2\")) {                    Plotly.newPlot(                        \"ea977c85-2b14-4ce3-bde0-831d918baad2\",                        [{\"marker\":{\"color\":\"blue\"},\"mode\":\"markers\",\"name\":\"data\",\"x\":[-1.0,-0.8,-0.6,-0.3999999999999999,-0.19999999999999996,0.0,0.20000000000000018,0.40000000000000013,0.6000000000000001,0.8,1.0,1.2000000000000002,1.4000000000000004,1.6,1.8000000000000003,2.0],\"y\":[2.0,1.6400000000000001,1.3599999999999999,1.16,1.04,1.0,1.04,1.1600000000000001,1.36,1.6400000000000001,2.0,2.4400000000000004,2.960000000000001,3.5600000000000005,4.240000000000001,5.0],\"type\":\"scatter\",\"xaxis\":\"x\",\"yaxis\":\"y\"},{\"marker\":{\"size\":3},\"mode\":\"markers\",\"name\":\"extenden prediction\",\"x\":[-2.5,-2.38,-2.26,-2.14,-2.02,-1.9,-1.78,-1.6600000000000001,-1.54,-1.42,-1.3,-1.1800000000000002,-1.06,-0.94,-0.8200000000000001,-0.7000000000000002,-0.5800000000000001,-0.45999999999999996,-0.33999999999999986,-0.2200000000000002,-0.10000000000000009,0.020000000000000018,0.13999999999999968,0.2599999999999998,0.3799999999999999,0.5,0.6200000000000001,0.7399999999999998,0.8599999999999999,0.98,1.0999999999999996,1.2199999999999998,1.3399999999999999,1.46,1.58,1.7000000000000002,1.8200000000000003,1.9399999999999995,2.0599999999999996,2.1799999999999997,2.3,2.42,2.54,2.66,2.7799999999999994,2.8999999999999995,3.0199999999999996,3.1399999999999997,3.26,3.38,3.5],\"y\":[6.548740207439671,6.026037529086919,5.529566806650047,5.059328040129062,4.615321229523953,4.19754637483473,3.8060034760613886,3.4406925332039298,3.1016135462623518,2.788766515236656,2.502151440126844,2.2417683209329127,2.007617157654864,1.7996979502926975,1.6180106988464136,1.4625554033160117,1.3333320637014916,1.230340680002854,1.1535812522200983,1.1030537803532252,1.078758264402234,1.0806947043671251,1.1088631002478984,1.1632634520445537,1.2438957597570914,1.3507600233855115,1.4838562429298134,1.643184418389997,1.8287445497660637,2.0405366370580125,2.2785606802658425,2.542816679389556,2.833304634429151,3.1500245453846287,3.4929764122559877,3.8621602350432305,4.257576013746354,4.679223748365358,5.127103438900248,5.6012150853510185,6.10155868771767,6.628134246000206,7.180941760198623,7.759981230312922,8.365252656343099,8.996756038289163,9.654491376151112,10.33845866992894,11.048657919622647,11.785089125232242,12.547752286757719],\"type\":\"scatter\",\"xaxis\":\"x\",\"yaxis\":\"y\"},{\"marker\":{\"color\":\"black\"},\"mode\":\"markers\",\"name\":\"prediction\",\"x\":[-1.0,-0.8,-0.6,-0.3999999999999999,-0.19999999999999996,0.0,0.20000000000000018,0.40000000000000013,0.6000000000000001,0.8,1.0,1.2000000000000002,1.4000000000000004,1.6,1.8000000000000003,2.0],\"y\":[1.9003785594842957,1.59027981931941,1.3530476233653086,1.1886819716219907,1.097182864089457,1.078550300767707,1.132784281656741,1.2598848067565585,1.4598518760671606,1.732685489588545,2.0783856473207143,2.4969523492636685,2.9883855954174066,3.5526853857819254,4.189851720357231,4.899884599143318],\"type\":\"scatter\",\"xaxis\":\"x\",\"yaxis\":\"y\"}],                        {\"template\":{\"data\":{\"histogram2dcontour\":[{\"type\":\"histogram2dcontour\",\"colorbar\":{\"outlinewidth\":0,\"ticks\":\"\"},\"colorscale\":[[0.0,\"#0d0887\"],[0.1111111111111111,\"#46039f\"],[0.2222222222222222,\"#7201a8\"],[0.3333333333333333,\"#9c179e\"],[0.4444444444444444,\"#bd3786\"],[0.5555555555555556,\"#d8576b\"],[0.6666666666666666,\"#ed7953\"],[0.7777777777777778,\"#fb9f3a\"],[0.8888888888888888,\"#fdca26\"],[1.0,\"#f0f921\"]]}],\"choropleth\":[{\"type\":\"choropleth\",\"colorbar\":{\"outlinewidth\":0,\"ticks\":\"\"}}],\"histogram2d\":[{\"type\":\"histogram2d\",\"colorbar\":{\"outlinewidth\":0,\"ticks\":\"\"},\"colorscale\":[[0.0,\"#0d0887\"],[0.1111111111111111,\"#46039f\"],[0.2222222222222222,\"#7201a8\"],[0.3333333333333333,\"#9c179e\"],[0.4444444444444444,\"#bd3786\"],[0.5555555555555556,\"#d8576b\"],[0.6666666666666666,\"#ed7953\"],[0.7777777777777778,\"#fb9f3a\"],[0.8888888888888888,\"#fdca26\"],[1.0,\"#f0f921\"]]}],\"heatmap\":[{\"type\":\"heatmap\",\"colorbar\":{\"outlinewidth\":0,\"ticks\":\"\"},\"colorscale\":[[0.0,\"#0d0887\"],[0.1111111111111111,\"#46039f\"],[0.2222222222222222,\"#7201a8\"],[0.3333333333333333,\"#9c179e\"],[0.4444444444444444,\"#bd3786\"],[0.5555555555555556,\"#d8576b\"],[0.6666666666666666,\"#ed7953\"],[0.7777777777777778,\"#fb9f3a\"],[0.8888888888888888,\"#fdca26\"],[1.0,\"#f0f921\"]]}],\"heatmapgl\":[{\"type\":\"heatmapgl\",\"colorbar\":{\"outlinewidth\":0,\"ticks\":\"\"},\"colorscale\":[[0.0,\"#0d0887\"],[0.1111111111111111,\"#46039f\"],[0.2222222222222222,\"#7201a8\"],[0.3333333333333333,\"#9c179e\"],[0.4444444444444444,\"#bd3786\"],[0.5555555555555556,\"#d8576b\"],[0.6666666666666666,\"#ed7953\"],[0.7777777777777778,\"#fb9f3a\"],[0.8888888888888888,\"#fdca26\"],[1.0,\"#f0f921\"]]}],\"contourcarpet\":[{\"type\":\"contourcarpet\",\"colorbar\":{\"outlinewidth\":0,\"ticks\":\"\"}}],\"contour\":[{\"type\":\"contour\",\"colorbar\":{\"outlinewidth\":0,\"ticks\":\"\"},\"colorscale\":[[0.0,\"#0d0887\"],[0.1111111111111111,\"#46039f\"],[0.2222222222222222,\"#7201a8\"],[0.3333333333333333,\"#9c179e\"],[0.4444444444444444,\"#bd3786\"],[0.5555555555555556,\"#d8576b\"],[0.6666666666666666,\"#ed7953\"],[0.7777777777777778,\"#fb9f3a\"],[0.8888888888888888,\"#fdca26\"],[1.0,\"#f0f921\"]]}],\"surface\":[{\"type\":\"surface\",\"colorbar\":{\"outlinewidth\":0,\"ticks\":\"\"},\"colorscale\":[[0.0,\"#0d0887\"],[0.1111111111111111,\"#46039f\"],[0.2222222222222222,\"#7201a8\"],[0.3333333333333333,\"#9c179e\"],[0.4444444444444444,\"#bd3786\"],[0.5555555555555556,\"#d8576b\"],[0.6666666666666666,\"#ed7953\"],[0.7777777777777778,\"#fb9f3a\"],[0.8888888888888888,\"#fdca26\"],[1.0,\"#f0f921\"]]}],\"mesh3d\":[{\"type\":\"mesh3d\",\"colorbar\":{\"outlinewidth\":0,\"ticks\":\"\"}}],\"scatter\":[{\"fillpattern\":{\"fillmode\":\"overlay\",\"size\":10,\"solidity\":0.2},\"type\":\"scatter\"}],\"parcoords\":[{\"type\":\"parcoords\",\"line\":{\"colorbar\":{\"outlinewidth\":0,\"ticks\":\"\"}}}],\"scatterpolargl\":[{\"type\":\"scatterpolargl\",\"marker\":{\"colorbar\":{\"outlinewidth\":0,\"ticks\":\"\"}}}],\"bar\":[{\"error_x\":{\"color\":\"#2a3f5f\"},\"error_y\":{\"color\":\"#2a3f5f\"},\"marker\":{\"line\":{\"color\":\"#E5ECF6\",\"width\":0.5},\"pattern\":{\"fillmode\":\"overlay\",\"size\":10,\"solidity\":0.2}},\"type\":\"bar\"}],\"scattergeo\":[{\"type\":\"scattergeo\",\"marker\":{\"colorbar\":{\"outlinewidth\":0,\"ticks\":\"\"}}}],\"scatterpolar\":[{\"type\":\"scatterpolar\",\"marker\":{\"colorbar\":{\"outlinewidth\":0,\"ticks\":\"\"}}}],\"histogram\":[{\"marker\":{\"pattern\":{\"fillmode\":\"overlay\",\"size\":10,\"solidity\":0.2}},\"type\":\"histogram\"}],\"scattergl\":[{\"type\":\"scattergl\",\"marker\":{\"colorbar\":{\"outlinewidth\":0,\"ticks\":\"\"}}}],\"scatter3d\":[{\"type\":\"scatter3d\",\"line\":{\"colorbar\":{\"outlinewidth\":0,\"ticks\":\"\"}},\"marker\":{\"colorbar\":{\"outlinewidth\":0,\"ticks\":\"\"}}}],\"scattermapbox\":[{\"type\":\"scattermapbox\",\"marker\":{\"colorbar\":{\"outlinewidth\":0,\"ticks\":\"\"}}}],\"scatterternary\":[{\"type\":\"scatterternary\",\"marker\":{\"colorbar\":{\"outlinewidth\":0,\"ticks\":\"\"}}}],\"scattercarpet\":[{\"type\":\"scattercarpet\",\"marker\":{\"colorbar\":{\"outlinewidth\":0,\"ticks\":\"\"}}}],\"carpet\":[{\"aaxis\":{\"endlinecolor\":\"#2a3f5f\",\"gridcolor\":\"white\",\"linecolor\":\"white\",\"minorgridcolor\":\"white\",\"startlinecolor\":\"#2a3f5f\"},\"baxis\":{\"endlinecolor\":\"#2a3f5f\",\"gridcolor\":\"white\",\"linecolor\":\"white\",\"minorgridcolor\":\"white\",\"startlinecolor\":\"#2a3f5f\"},\"type\":\"carpet\"}],\"table\":[{\"cells\":{\"fill\":{\"color\":\"#EBF0F8\"},\"line\":{\"color\":\"white\"}},\"header\":{\"fill\":{\"color\":\"#C8D4E3\"},\"line\":{\"color\":\"white\"}},\"type\":\"table\"}],\"barpolar\":[{\"marker\":{\"line\":{\"color\":\"#E5ECF6\",\"width\":0.5},\"pattern\":{\"fillmode\":\"overlay\",\"size\":10,\"solidity\":0.2}},\"type\":\"barpolar\"}],\"pie\":[{\"automargin\":true,\"type\":\"pie\"}]},\"layout\":{\"autotypenumbers\":\"strict\",\"colorway\":[\"#636efa\",\"#EF553B\",\"#00cc96\",\"#ab63fa\",\"#FFA15A\",\"#19d3f3\",\"#FF6692\",\"#B6E880\",\"#FF97FF\",\"#FECB52\"],\"font\":{\"color\":\"#2a3f5f\"},\"hovermode\":\"closest\",\"hoverlabel\":{\"align\":\"left\"},\"paper_bgcolor\":\"white\",\"plot_bgcolor\":\"#E5ECF6\",\"polar\":{\"bgcolor\":\"#E5ECF6\",\"angularaxis\":{\"gridcolor\":\"white\",\"linecolor\":\"white\",\"ticks\":\"\"},\"radialaxis\":{\"gridcolor\":\"white\",\"linecolor\":\"white\",\"ticks\":\"\"}},\"ternary\":{\"bgcolor\":\"#E5ECF6\",\"aaxis\":{\"gridcolor\":\"white\",\"linecolor\":\"white\",\"ticks\":\"\"},\"baxis\":{\"gridcolor\":\"white\",\"linecolor\":\"white\",\"ticks\":\"\"},\"caxis\":{\"gridcolor\":\"white\",\"linecolor\":\"white\",\"ticks\":\"\"}},\"coloraxis\":{\"colorbar\":{\"outlinewidth\":0,\"ticks\":\"\"}},\"colorscale\":{\"sequential\":[[0.0,\"#0d0887\"],[0.1111111111111111,\"#46039f\"],[0.2222222222222222,\"#7201a8\"],[0.3333333333333333,\"#9c179e\"],[0.4444444444444444,\"#bd3786\"],[0.5555555555555556,\"#d8576b\"],[0.6666666666666666,\"#ed7953\"],[0.7777777777777778,\"#fb9f3a\"],[0.8888888888888888,\"#fdca26\"],[1.0,\"#f0f921\"]],\"sequentialminus\":[[0.0,\"#0d0887\"],[0.1111111111111111,\"#46039f\"],[0.2222222222222222,\"#7201a8\"],[0.3333333333333333,\"#9c179e\"],[0.4444444444444444,\"#bd3786\"],[0.5555555555555556,\"#d8576b\"],[0.6666666666666666,\"#ed7953\"],[0.7777777777777778,\"#fb9f3a\"],[0.8888888888888888,\"#fdca26\"],[1.0,\"#f0f921\"]],\"diverging\":[[0,\"#8e0152\"],[0.1,\"#c51b7d\"],[0.2,\"#de77ae\"],[0.3,\"#f1b6da\"],[0.4,\"#fde0ef\"],[0.5,\"#f7f7f7\"],[0.6,\"#e6f5d0\"],[0.7,\"#b8e186\"],[0.8,\"#7fbc41\"],[0.9,\"#4d9221\"],[1,\"#276419\"]]},\"xaxis\":{\"gridcolor\":\"white\",\"linecolor\":\"white\",\"ticks\":\"\",\"title\":{\"standoff\":15},\"zerolinecolor\":\"white\",\"automargin\":true,\"zerolinewidth\":2},\"yaxis\":{\"gridcolor\":\"white\",\"linecolor\":\"white\",\"ticks\":\"\",\"title\":{\"standoff\":15},\"zerolinecolor\":\"white\",\"automargin\":true,\"zerolinewidth\":2},\"scene\":{\"xaxis\":{\"backgroundcolor\":\"#E5ECF6\",\"gridcolor\":\"white\",\"linecolor\":\"white\",\"showbackground\":true,\"ticks\":\"\",\"zerolinecolor\":\"white\",\"gridwidth\":2},\"yaxis\":{\"backgroundcolor\":\"#E5ECF6\",\"gridcolor\":\"white\",\"linecolor\":\"white\",\"showbackground\":true,\"ticks\":\"\",\"zerolinecolor\":\"white\",\"gridwidth\":2},\"zaxis\":{\"backgroundcolor\":\"#E5ECF6\",\"gridcolor\":\"white\",\"linecolor\":\"white\",\"showbackground\":true,\"ticks\":\"\",\"zerolinecolor\":\"white\",\"gridwidth\":2}},\"shapedefaults\":{\"line\":{\"color\":\"#2a3f5f\"}},\"annotationdefaults\":{\"arrowcolor\":\"#2a3f5f\",\"arrowhead\":0,\"arrowwidth\":1},\"geo\":{\"bgcolor\":\"white\",\"landcolor\":\"#E5ECF6\",\"subunitcolor\":\"white\",\"showland\":true,\"showlakes\":true,\"lakecolor\":\"white\"},\"title\":{\"x\":0.05},\"mapbox\":{\"style\":\"light\"}}},\"xaxis\":{\"anchor\":\"y\",\"domain\":[0.0,0.94],\"title\":{\"text\":\"x_axis\"}},\"yaxis\":{\"anchor\":\"x\",\"domain\":[0.0,1.0],\"title\":{\"text\":\"data, predics\"}},\"yaxis2\":{\"anchor\":\"x\",\"overlaying\":\"y\",\"side\":\"right\",\"title\":{\"text\":\"% error\"},\"range\":[-20,20],\"showgrid\":false,\"tick0\":-5,\"dtick\":2}},                        {\"responsive\": true}                    ).then(function(){\n",
              "                            \n",
              "var gd = document.getElementById('ea977c85-2b14-4ce3-bde0-831d918baad2');\n",
              "var x = new MutationObserver(function (mutations, observer) {{\n",
              "        var display = window.getComputedStyle(gd).display;\n",
              "        if (!display || display === 'none') {{\n",
              "            console.log([gd, 'removed!']);\n",
              "            Plotly.purge(gd);\n",
              "            observer.disconnect();\n",
              "        }}\n",
              "}});\n",
              "\n",
              "// Listen for the removal of the full notebook cells\n",
              "var notebookContainer = gd.closest('#notebook-container');\n",
              "if (notebookContainer) {{\n",
              "    x.observe(notebookContainer, {childList: true});\n",
              "}}\n",
              "\n",
              "// Listen for the clearing of the current output cell\n",
              "var outputEl = gd.closest('.output');\n",
              "if (outputEl) {{\n",
              "    x.observe(outputEl, {childList: true});\n",
              "}}\n",
              "\n",
              "                        })                };                            </script>        </div>\n",
              "</body>\n",
              "</html>"
            ]
          },
          "metadata": {}
        }
      ]
    },
    {
      "cell_type": "code",
      "source": [
        "svr_temp=svr1_2\n",
        "print (' Dual coefficients:\\n',svr_temp.dual_coef_,'\\n',\n",
        "       'Support vectors:\\n',svr_temp.support_vectors_,'\\n',\n",
        "       'Coef0: ',svr_temp.coef0,'\\n',\n",
        "       'Intercept: ',svr_temp.intercept_[0],)"
      ],
      "metadata": {
        "id": "Bz5GnhGLk8Lz",
        "outputId": "f7309ed2-d24d-4b23-ab1f-7f4feeec68f4",
        "colab": {
          "base_uri": "https://localhost:8080/"
        }
      },
      "execution_count": 47,
      "outputs": [
        {
          "output_type": "stream",
          "name": "stdout",
          "text": [
            " Dual coefficients:\n",
            " [[ 0.12260026 -0.08985684 -0.18704024  0.15429682]] \n",
            " Support vectors:\n",
            " [[-1. ]\n",
            " [ 0.4]\n",
            " [ 0.6]\n",
            " [ 2. ]] \n",
            " Coef0:  1 \n",
            " Intercept:  1.078550300767707\n"
          ]
        }
      ]
    },
    {
      "cell_type": "code",
      "source": [
        "scaler_T1.inverse_transform(svr1_2.predict([[1]]).reshape(-1,1))"
      ],
      "metadata": {
        "id": "Yu2DiiVNS6s6",
        "outputId": "44903d50-70cc-4b0b-d9b5-f6bc412d6951",
        "colab": {
          "base_uri": "https://localhost:8080/"
        }
      },
      "execution_count": 58,
      "outputs": [
        {
          "output_type": "execute_result",
          "data": {
            "text/plain": [
              "array([[2.07838565]])"
            ]
          },
          "metadata": {},
          "execution_count": 58
        }
      ]
    },
    {
      "cell_type": "markdown",
      "source": [
        "# 2"
      ],
      "metadata": {
        "id": "h9fyS_pgttCQ"
      }
    },
    {
      "cell_type": "code",
      "source": [
        "data2=[\n",
        "[0.32,\t0.99,\t0.77,\t0.69,\t0.04,\t0.37,\t0.25,\t0.44,\t0.42,\t0.64,\t0.8,],\n",
        "[0.4,\t0.23,\t0.22,\t0.57,\t0.78,\t0.69,\t0.2,\t0.45,\t0.17,\t0.98,\t0.96,],\n",
        "[4.952768,\t5.924299,\t5.412533,\t5.214509,\t4.844064,\t4.912653,\t4.975625,\t4.995184,\t5.040088,\t5.066144,\t5.32,],\n",
        "]\n",
        "data2=np.array(data2).T\n",
        "X2=data2[:,[0,1]]\n",
        "T2=data2[:,[2]]"
      ],
      "metadata": {
        "id": "bem65dLcf982"
      },
      "execution_count": 50,
      "outputs": []
    },
    {
      "cell_type": "code",
      "source": [
        "scaler_X2 = preprocessing.StandardScaler().fit(X2)\n",
        "scaler_T2 = preprocessing.StandardScaler().fit(T2)\n",
        "\n",
        "scaler_X2.mean_, scaler_X2.scale_ = 0, 1 # disable scaling\n",
        "scaler_T2.mean_, scaler_T2.scale_ = 0, 1 # disable scaling\n",
        "\n",
        "scaler_data2 = [scaler_X2.mean_, scaler_X2.scale_, scaler_T2.mean_, scaler_T2.scale_]\n",
        "print('scaler X -- mean, stdev:  ',scaler_data2[0], scaler_data2[1])\n",
        "print('scaler T -- mean, stdev:  ',scaler_data2[2], scaler_data2[3])\n",
        "\n",
        "X_sc2 = scaler_X2.transform(X2)\n",
        "T_sc2 = scaler_T2.transform(T2)\n",
        "X_sc2[0:3]"
      ],
      "metadata": {
        "colab": {
          "base_uri": "https://localhost:8080/"
        },
        "id": "ZMDUCakvt5HG",
        "outputId": "b7f0de9d-f2a9-4c3f-92b3-84628ee3faf8"
      },
      "execution_count": 51,
      "outputs": [
        {
          "output_type": "stream",
          "name": "stdout",
          "text": [
            "scaler X -- mean, stdev:   0 1\n",
            "scaler T -- mean, stdev:   0 1\n"
          ]
        },
        {
          "output_type": "execute_result",
          "data": {
            "text/plain": [
              "array([[0.32, 0.4 ],\n",
              "       [0.99, 0.23],\n",
              "       [0.77, 0.22]])"
            ]
          },
          "metadata": {},
          "execution_count": 51
        }
      ]
    },
    {
      "cell_type": "code",
      "source": [
        "# svr2=SVR(kernel='rbf', gamma=.1)\n",
        "# svr2=SVR(kernel='sigmoid')\n",
        "svr2=SVR(kernel='poly', degree=2, coef0=1)\n",
        "svr2.fit(X_sc2,T_sc2.ravel())\n",
        "predics2=scaler_T2.inverse_transform(svr2.predict(X_sc2).reshape(-1,1))\n",
        "# predics2"
      ],
      "metadata": {
        "id": "pOUjYYVAttl-"
      },
      "execution_count": 52,
      "outputs": []
    },
    {
      "cell_type": "code",
      "source": [
        "svr2.get_params()"
      ],
      "metadata": {
        "colab": {
          "base_uri": "https://localhost:8080/"
        },
        "id": "5lmtfoT4wu_U",
        "outputId": "853a4230-fd4a-408c-c264-6913d79d21b5"
      },
      "execution_count": 53,
      "outputs": [
        {
          "output_type": "execute_result",
          "data": {
            "text/plain": [
              "{'C': 1.0,\n",
              " 'cache_size': 200,\n",
              " 'coef0': 1,\n",
              " 'degree': 2,\n",
              " 'epsilon': 0.1,\n",
              " 'gamma': 'scale',\n",
              " 'kernel': 'poly',\n",
              " 'max_iter': -1,\n",
              " 'shrinking': True,\n",
              " 'tol': 0.001,\n",
              " 'verbose': False}"
            ]
          },
          "metadata": {},
          "execution_count": 53
        }
      ]
    },
    {
      "cell_type": "code",
      "source": [
        "x_mesh, y_mesh = np.linspace(-1, 2, 31), np.linspace(-1, 2, 31)\n",
        "# x_mesh, y_mesh = np.arange(-1, 2, 0.1), np.arange(-1, 2, 0.1)\n",
        "x_mesh, y_mesh = np.meshgrid(x_mesh, y_mesh)\n",
        "x_mesh = x_mesh.flatten().reshape(31*31,1)\n",
        "y_mesh = y_mesh.flatten().reshape(31*31,1)\n",
        "mesh2=np.concatenate((x_mesh, y_mesh), axis=1)\n",
        "# x_mesh[:5]\n",
        "mesh_predics2=scaler_T2.inverse_transform(svr2.predict(scaler_X2.transform(mesh2)).reshape(-1,1))"
      ],
      "metadata": {
        "id": "TcQ-xsIvuuL1"
      },
      "execution_count": 54,
      "outputs": []
    },
    {
      "cell_type": "code",
      "source": [
        "fig=go.Figure()\n",
        "fig.add_trace(go.Scatter3d(x=data2[:,0], y=data2[:,1], z=data2[:,2], mode='markers', name='data'))\n",
        "fig.add_trace(go.Scatter3d(x=data2[:,0], y=data2[:,1], z=predics2[:,0], mode='markers', name='predics'))\n",
        "fig.add_trace(go.Scatter3d(x=x_mesh[:,0], y=y_mesh[:,0], z=mesh_predics2[:,0], mode='markers', marker_size=2, name='mesh-predics'))\n",
        "x=np.linspace(0, 1, 11)\n",
        "y=np.linspace(0, 1, 11)\n",
        "x, y = np.meshgrid(x,y)\n",
        "z=x**3-.2*y+5\n",
        "fig.add_trace(go.Surface(x=x, y=y, z=z, colorbar_x=0, opacity=0.5, showlegend=True, name='data surface'))\n",
        "fig.update_scenes(camera_projection_type=\"orthographic\")\n",
        "\n",
        "fig.show()"
      ],
      "metadata": {
        "colab": {
          "base_uri": "https://localhost:8080/",
          "height": 542
        },
        "outputId": "7aaccc48-b68d-49b5-c6bd-64c1b2f7118d",
        "id": "255c_AQVttmA"
      },
      "execution_count": 55,
      "outputs": [
        {
          "output_type": "display_data",
          "data": {
            "text/html": [
              "<html>\n",
              "<head><meta charset=\"utf-8\" /></head>\n",
              "<body>\n",
              "    <div>            <script src=\"https://cdnjs.cloudflare.com/ajax/libs/mathjax/2.7.5/MathJax.js?config=TeX-AMS-MML_SVG\"></script><script type=\"text/javascript\">if (window.MathJax && window.MathJax.Hub && window.MathJax.Hub.Config) {window.MathJax.Hub.Config({SVG: {font: \"STIX-Web\"}});}</script>                <script type=\"text/javascript\">window.PlotlyConfig = {MathJaxConfig: 'local'};</script>\n",
              "        <script charset=\"utf-8\" src=\"https://cdn.plot.ly/plotly-2.24.1.min.js\"></script>                <div id=\"94648cf1-2db6-4318-8b12-0cc27b901fc8\" class=\"plotly-graph-div\" style=\"height:525px; width:100%;\"></div>            <script type=\"text/javascript\">                                    window.PLOTLYENV=window.PLOTLYENV || {};                                    if (document.getElementById(\"94648cf1-2db6-4318-8b12-0cc27b901fc8\")) {                    Plotly.newPlot(                        \"94648cf1-2db6-4318-8b12-0cc27b901fc8\",                        [{\"mode\":\"markers\",\"name\":\"data\",\"x\":[0.32,0.99,0.77,0.69,0.04,0.37,0.25,0.44,0.42,0.64,0.8],\"y\":[0.4,0.23,0.22,0.57,0.78,0.69,0.2,0.45,0.17,0.98,0.96],\"z\":[4.952768,5.924299,5.412533,5.214509,4.844064,4.912653,4.975625,4.995184,5.040088,5.066144,5.32],\"type\":\"scatter3d\"},{\"mode\":\"markers\",\"name\":\"predics\",\"x\":[0.32,0.99,0.77,0.69,0.04,0.37,0.25,0.44,0.42,0.64,0.8],\"y\":[0.4,0.23,0.22,0.57,0.78,0.69,0.2,0.45,0.17,0.98,0.96],\"z\":[5.019462551603795,5.824341344954237,5.497779760542139,5.314551367059129,4.788699200614175,4.971397346585309,5.016771881213313,5.095099249211307,5.1345977938486955,5.104578311222685,5.311129796437139],\"type\":\"scatter3d\"},{\"marker\":{\"size\":2},\"mode\":\"markers\",\"name\":\"mesh-predics\",\"x\":[-1.0,-0.9,-0.8,-0.7,-0.6,-0.5,-0.3999999999999999,-0.29999999999999993,-0.19999999999999996,-0.09999999999999998,0.0,0.10000000000000009,0.20000000000000018,0.30000000000000004,0.40000000000000013,0.5,0.6000000000000001,0.7000000000000002,0.8,0.9000000000000001,1.0,1.1,1.2000000000000002,1.3000000000000003,1.4000000000000004,1.5,1.6,1.7000000000000002,1.8000000000000003,1.9000000000000004,2.0,-1.0,-0.9,-0.8,-0.7,-0.6,-0.5,-0.3999999999999999,-0.29999999999999993,-0.19999999999999996,-0.09999999999999998,0.0,0.10000000000000009,0.20000000000000018,0.30000000000000004,0.40000000000000013,0.5,0.6000000000000001,0.7000000000000002,0.8,0.9000000000000001,1.0,1.1,1.2000000000000002,1.3000000000000003,1.4000000000000004,1.5,1.6,1.7000000000000002,1.8000000000000003,1.9000000000000004,2.0,-1.0,-0.9,-0.8,-0.7,-0.6,-0.5,-0.3999999999999999,-0.29999999999999993,-0.19999999999999996,-0.09999999999999998,0.0,0.10000000000000009,0.20000000000000018,0.30000000000000004,0.40000000000000013,0.5,0.6000000000000001,0.7000000000000002,0.8,0.9000000000000001,1.0,1.1,1.2000000000000002,1.3000000000000003,1.4000000000000004,1.5,1.6,1.7000000000000002,1.8000000000000003,1.9000000000000004,2.0,-1.0,-0.9,-0.8,-0.7,-0.6,-0.5,-0.3999999999999999,-0.29999999999999993,-0.19999999999999996,-0.09999999999999998,0.0,0.10000000000000009,0.20000000000000018,0.30000000000000004,0.40000000000000013,0.5,0.6000000000000001,0.7000000000000002,0.8,0.9000000000000001,1.0,1.1,1.2000000000000002,1.3000000000000003,1.4000000000000004,1.5,1.6,1.7000000000000002,1.8000000000000003,1.9000000000000004,2.0,-1.0,-0.9,-0.8,-0.7,-0.6,-0.5,-0.3999999999999999,-0.29999999999999993,-0.19999999999999996,-0.09999999999999998,0.0,0.10000000000000009,0.20000000000000018,0.30000000000000004,0.40000000000000013,0.5,0.6000000000000001,0.7000000000000002,0.8,0.9000000000000001,1.0,1.1,1.2000000000000002,1.3000000000000003,1.4000000000000004,1.5,1.6,1.7000000000000002,1.8000000000000003,1.9000000000000004,2.0,-1.0,-0.9,-0.8,-0.7,-0.6,-0.5,-0.3999999999999999,-0.29999999999999993,-0.19999999999999996,-0.09999999999999998,0.0,0.10000000000000009,0.20000000000000018,0.30000000000000004,0.40000000000000013,0.5,0.6000000000000001,0.7000000000000002,0.8,0.9000000000000001,1.0,1.1,1.2000000000000002,1.3000000000000003,1.4000000000000004,1.5,1.6,1.7000000000000002,1.8000000000000003,1.9000000000000004,2.0,-1.0,-0.9,-0.8,-0.7,-0.6,-0.5,-0.3999999999999999,-0.29999999999999993,-0.19999999999999996,-0.09999999999999998,0.0,0.10000000000000009,0.20000000000000018,0.30000000000000004,0.40000000000000013,0.5,0.6000000000000001,0.7000000000000002,0.8,0.9000000000000001,1.0,1.1,1.2000000000000002,1.3000000000000003,1.4000000000000004,1.5,1.6,1.7000000000000002,1.8000000000000003,1.9000000000000004,2.0,-1.0,-0.9,-0.8,-0.7,-0.6,-0.5,-0.3999999999999999,-0.29999999999999993,-0.19999999999999996,-0.09999999999999998,0.0,0.10000000000000009,0.20000000000000018,0.30000000000000004,0.40000000000000013,0.5,0.6000000000000001,0.7000000000000002,0.8,0.9000000000000001,1.0,1.1,1.2000000000000002,1.3000000000000003,1.4000000000000004,1.5,1.6,1.7000000000000002,1.8000000000000003,1.9000000000000004,2.0,-1.0,-0.9,-0.8,-0.7,-0.6,-0.5,-0.3999999999999999,-0.29999999999999993,-0.19999999999999996,-0.09999999999999998,0.0,0.10000000000000009,0.20000000000000018,0.30000000000000004,0.40000000000000013,0.5,0.6000000000000001,0.7000000000000002,0.8,0.9000000000000001,1.0,1.1,1.2000000000000002,1.3000000000000003,1.4000000000000004,1.5,1.6,1.7000000000000002,1.8000000000000003,1.9000000000000004,2.0,-1.0,-0.9,-0.8,-0.7,-0.6,-0.5,-0.3999999999999999,-0.29999999999999993,-0.19999999999999996,-0.09999999999999998,0.0,0.10000000000000009,0.20000000000000018,0.30000000000000004,0.40000000000000013,0.5,0.6000000000000001,0.7000000000000002,0.8,0.9000000000000001,1.0,1.1,1.2000000000000002,1.3000000000000003,1.4000000000000004,1.5,1.6,1.7000000000000002,1.8000000000000003,1.9000000000000004,2.0,-1.0,-0.9,-0.8,-0.7,-0.6,-0.5,-0.3999999999999999,-0.29999999999999993,-0.19999999999999996,-0.09999999999999998,0.0,0.10000000000000009,0.20000000000000018,0.30000000000000004,0.40000000000000013,0.5,0.6000000000000001,0.7000000000000002,0.8,0.9000000000000001,1.0,1.1,1.2000000000000002,1.3000000000000003,1.4000000000000004,1.5,1.6,1.7000000000000002,1.8000000000000003,1.9000000000000004,2.0,-1.0,-0.9,-0.8,-0.7,-0.6,-0.5,-0.3999999999999999,-0.29999999999999993,-0.19999999999999996,-0.09999999999999998,0.0,0.10000000000000009,0.20000000000000018,0.30000000000000004,0.40000000000000013,0.5,0.6000000000000001,0.7000000000000002,0.8,0.9000000000000001,1.0,1.1,1.2000000000000002,1.3000000000000003,1.4000000000000004,1.5,1.6,1.7000000000000002,1.8000000000000003,1.9000000000000004,2.0,-1.0,-0.9,-0.8,-0.7,-0.6,-0.5,-0.3999999999999999,-0.29999999999999993,-0.19999999999999996,-0.09999999999999998,0.0,0.10000000000000009,0.20000000000000018,0.30000000000000004,0.40000000000000013,0.5,0.6000000000000001,0.7000000000000002,0.8,0.9000000000000001,1.0,1.1,1.2000000000000002,1.3000000000000003,1.4000000000000004,1.5,1.6,1.7000000000000002,1.8000000000000003,1.9000000000000004,2.0,-1.0,-0.9,-0.8,-0.7,-0.6,-0.5,-0.3999999999999999,-0.29999999999999993,-0.19999999999999996,-0.09999999999999998,0.0,0.10000000000000009,0.20000000000000018,0.30000000000000004,0.40000000000000013,0.5,0.6000000000000001,0.7000000000000002,0.8,0.9000000000000001,1.0,1.1,1.2000000000000002,1.3000000000000003,1.4000000000000004,1.5,1.6,1.7000000000000002,1.8000000000000003,1.9000000000000004,2.0,-1.0,-0.9,-0.8,-0.7,-0.6,-0.5,-0.3999999999999999,-0.29999999999999993,-0.19999999999999996,-0.09999999999999998,0.0,0.10000000000000009,0.20000000000000018,0.30000000000000004,0.40000000000000013,0.5,0.6000000000000001,0.7000000000000002,0.8,0.9000000000000001,1.0,1.1,1.2000000000000002,1.3000000000000003,1.4000000000000004,1.5,1.6,1.7000000000000002,1.8000000000000003,1.9000000000000004,2.0,-1.0,-0.9,-0.8,-0.7,-0.6,-0.5,-0.3999999999999999,-0.29999999999999993,-0.19999999999999996,-0.09999999999999998,0.0,0.10000000000000009,0.20000000000000018,0.30000000000000004,0.40000000000000013,0.5,0.6000000000000001,0.7000000000000002,0.8,0.9000000000000001,1.0,1.1,1.2000000000000002,1.3000000000000003,1.4000000000000004,1.5,1.6,1.7000000000000002,1.8000000000000003,1.9000000000000004,2.0,-1.0,-0.9,-0.8,-0.7,-0.6,-0.5,-0.3999999999999999,-0.29999999999999993,-0.19999999999999996,-0.09999999999999998,0.0,0.10000000000000009,0.20000000000000018,0.30000000000000004,0.40000000000000013,0.5,0.6000000000000001,0.7000000000000002,0.8,0.9000000000000001,1.0,1.1,1.2000000000000002,1.3000000000000003,1.4000000000000004,1.5,1.6,1.7000000000000002,1.8000000000000003,1.9000000000000004,2.0,-1.0,-0.9,-0.8,-0.7,-0.6,-0.5,-0.3999999999999999,-0.29999999999999993,-0.19999999999999996,-0.09999999999999998,0.0,0.10000000000000009,0.20000000000000018,0.30000000000000004,0.40000000000000013,0.5,0.6000000000000001,0.7000000000000002,0.8,0.9000000000000001,1.0,1.1,1.2000000000000002,1.3000000000000003,1.4000000000000004,1.5,1.6,1.7000000000000002,1.8000000000000003,1.9000000000000004,2.0,-1.0,-0.9,-0.8,-0.7,-0.6,-0.5,-0.3999999999999999,-0.29999999999999993,-0.19999999999999996,-0.09999999999999998,0.0,0.10000000000000009,0.20000000000000018,0.30000000000000004,0.40000000000000013,0.5,0.6000000000000001,0.7000000000000002,0.8,0.9000000000000001,1.0,1.1,1.2000000000000002,1.3000000000000003,1.4000000000000004,1.5,1.6,1.7000000000000002,1.8000000000000003,1.9000000000000004,2.0,-1.0,-0.9,-0.8,-0.7,-0.6,-0.5,-0.3999999999999999,-0.29999999999999993,-0.19999999999999996,-0.09999999999999998,0.0,0.10000000000000009,0.20000000000000018,0.30000000000000004,0.40000000000000013,0.5,0.6000000000000001,0.7000000000000002,0.8,0.9000000000000001,1.0,1.1,1.2000000000000002,1.3000000000000003,1.4000000000000004,1.5,1.6,1.7000000000000002,1.8000000000000003,1.9000000000000004,2.0,-1.0,-0.9,-0.8,-0.7,-0.6,-0.5,-0.3999999999999999,-0.29999999999999993,-0.19999999999999996,-0.09999999999999998,0.0,0.10000000000000009,0.20000000000000018,0.30000000000000004,0.40000000000000013,0.5,0.6000000000000001,0.7000000000000002,0.8,0.9000000000000001,1.0,1.1,1.2000000000000002,1.3000000000000003,1.4000000000000004,1.5,1.6,1.7000000000000002,1.8000000000000003,1.9000000000000004,2.0,-1.0,-0.9,-0.8,-0.7,-0.6,-0.5,-0.3999999999999999,-0.29999999999999993,-0.19999999999999996,-0.09999999999999998,0.0,0.10000000000000009,0.20000000000000018,0.30000000000000004,0.40000000000000013,0.5,0.6000000000000001,0.7000000000000002,0.8,0.9000000000000001,1.0,1.1,1.2000000000000002,1.3000000000000003,1.4000000000000004,1.5,1.6,1.7000000000000002,1.8000000000000003,1.9000000000000004,2.0,-1.0,-0.9,-0.8,-0.7,-0.6,-0.5,-0.3999999999999999,-0.29999999999999993,-0.19999999999999996,-0.09999999999999998,0.0,0.10000000000000009,0.20000000000000018,0.30000000000000004,0.40000000000000013,0.5,0.6000000000000001,0.7000000000000002,0.8,0.9000000000000001,1.0,1.1,1.2000000000000002,1.3000000000000003,1.4000000000000004,1.5,1.6,1.7000000000000002,1.8000000000000003,1.9000000000000004,2.0,-1.0,-0.9,-0.8,-0.7,-0.6,-0.5,-0.3999999999999999,-0.29999999999999993,-0.19999999999999996,-0.09999999999999998,0.0,0.10000000000000009,0.20000000000000018,0.30000000000000004,0.40000000000000013,0.5,0.6000000000000001,0.7000000000000002,0.8,0.9000000000000001,1.0,1.1,1.2000000000000002,1.3000000000000003,1.4000000000000004,1.5,1.6,1.7000000000000002,1.8000000000000003,1.9000000000000004,2.0,-1.0,-0.9,-0.8,-0.7,-0.6,-0.5,-0.3999999999999999,-0.29999999999999993,-0.19999999999999996,-0.09999999999999998,0.0,0.10000000000000009,0.20000000000000018,0.30000000000000004,0.40000000000000013,0.5,0.6000000000000001,0.7000000000000002,0.8,0.9000000000000001,1.0,1.1,1.2000000000000002,1.3000000000000003,1.4000000000000004,1.5,1.6,1.7000000000000002,1.8000000000000003,1.9000000000000004,2.0,-1.0,-0.9,-0.8,-0.7,-0.6,-0.5,-0.3999999999999999,-0.29999999999999993,-0.19999999999999996,-0.09999999999999998,0.0,0.10000000000000009,0.20000000000000018,0.30000000000000004,0.40000000000000013,0.5,0.6000000000000001,0.7000000000000002,0.8,0.9000000000000001,1.0,1.1,1.2000000000000002,1.3000000000000003,1.4000000000000004,1.5,1.6,1.7000000000000002,1.8000000000000003,1.9000000000000004,2.0,-1.0,-0.9,-0.8,-0.7,-0.6,-0.5,-0.3999999999999999,-0.29999999999999993,-0.19999999999999996,-0.09999999999999998,0.0,0.10000000000000009,0.20000000000000018,0.30000000000000004,0.40000000000000013,0.5,0.6000000000000001,0.7000000000000002,0.8,0.9000000000000001,1.0,1.1,1.2000000000000002,1.3000000000000003,1.4000000000000004,1.5,1.6,1.7000000000000002,1.8000000000000003,1.9000000000000004,2.0,-1.0,-0.9,-0.8,-0.7,-0.6,-0.5,-0.3999999999999999,-0.29999999999999993,-0.19999999999999996,-0.09999999999999998,0.0,0.10000000000000009,0.20000000000000018,0.30000000000000004,0.40000000000000013,0.5,0.6000000000000001,0.7000000000000002,0.8,0.9000000000000001,1.0,1.1,1.2000000000000002,1.3000000000000003,1.4000000000000004,1.5,1.6,1.7000000000000002,1.8000000000000003,1.9000000000000004,2.0,-1.0,-0.9,-0.8,-0.7,-0.6,-0.5,-0.3999999999999999,-0.29999999999999993,-0.19999999999999996,-0.09999999999999998,0.0,0.10000000000000009,0.20000000000000018,0.30000000000000004,0.40000000000000013,0.5,0.6000000000000001,0.7000000000000002,0.8,0.9000000000000001,1.0,1.1,1.2000000000000002,1.3000000000000003,1.4000000000000004,1.5,1.6,1.7000000000000002,1.8000000000000003,1.9000000000000004,2.0,-1.0,-0.9,-0.8,-0.7,-0.6,-0.5,-0.3999999999999999,-0.29999999999999993,-0.19999999999999996,-0.09999999999999998,0.0,0.10000000000000009,0.20000000000000018,0.30000000000000004,0.40000000000000013,0.5,0.6000000000000001,0.7000000000000002,0.8,0.9000000000000001,1.0,1.1,1.2000000000000002,1.3000000000000003,1.4000000000000004,1.5,1.6,1.7000000000000002,1.8000000000000003,1.9000000000000004,2.0,-1.0,-0.9,-0.8,-0.7,-0.6,-0.5,-0.3999999999999999,-0.29999999999999993,-0.19999999999999996,-0.09999999999999998,0.0,0.10000000000000009,0.20000000000000018,0.30000000000000004,0.40000000000000013,0.5,0.6000000000000001,0.7000000000000002,0.8,0.9000000000000001,1.0,1.1,1.2000000000000002,1.3000000000000003,1.4000000000000004,1.5,1.6,1.7000000000000002,1.8000000000000003,1.9000000000000004,2.0],\"y\":[-1.0,-1.0,-1.0,-1.0,-1.0,-1.0,-1.0,-1.0,-1.0,-1.0,-1.0,-1.0,-1.0,-1.0,-1.0,-1.0,-1.0,-1.0,-1.0,-1.0,-1.0,-1.0,-1.0,-1.0,-1.0,-1.0,-1.0,-1.0,-1.0,-1.0,-1.0,-0.9,-0.9,-0.9,-0.9,-0.9,-0.9,-0.9,-0.9,-0.9,-0.9,-0.9,-0.9,-0.9,-0.9,-0.9,-0.9,-0.9,-0.9,-0.9,-0.9,-0.9,-0.9,-0.9,-0.9,-0.9,-0.9,-0.9,-0.9,-0.9,-0.9,-0.9,-0.8,-0.8,-0.8,-0.8,-0.8,-0.8,-0.8,-0.8,-0.8,-0.8,-0.8,-0.8,-0.8,-0.8,-0.8,-0.8,-0.8,-0.8,-0.8,-0.8,-0.8,-0.8,-0.8,-0.8,-0.8,-0.8,-0.8,-0.8,-0.8,-0.8,-0.8,-0.7,-0.7,-0.7,-0.7,-0.7,-0.7,-0.7,-0.7,-0.7,-0.7,-0.7,-0.7,-0.7,-0.7,-0.7,-0.7,-0.7,-0.7,-0.7,-0.7,-0.7,-0.7,-0.7,-0.7,-0.7,-0.7,-0.7,-0.7,-0.7,-0.7,-0.7,-0.6,-0.6,-0.6,-0.6,-0.6,-0.6,-0.6,-0.6,-0.6,-0.6,-0.6,-0.6,-0.6,-0.6,-0.6,-0.6,-0.6,-0.6,-0.6,-0.6,-0.6,-0.6,-0.6,-0.6,-0.6,-0.6,-0.6,-0.6,-0.6,-0.6,-0.6,-0.5,-0.5,-0.5,-0.5,-0.5,-0.5,-0.5,-0.5,-0.5,-0.5,-0.5,-0.5,-0.5,-0.5,-0.5,-0.5,-0.5,-0.5,-0.5,-0.5,-0.5,-0.5,-0.5,-0.5,-0.5,-0.5,-0.5,-0.5,-0.5,-0.5,-0.5,-0.3999999999999999,-0.3999999999999999,-0.3999999999999999,-0.3999999999999999,-0.3999999999999999,-0.3999999999999999,-0.3999999999999999,-0.3999999999999999,-0.3999999999999999,-0.3999999999999999,-0.3999999999999999,-0.3999999999999999,-0.3999999999999999,-0.3999999999999999,-0.3999999999999999,-0.3999999999999999,-0.3999999999999999,-0.3999999999999999,-0.3999999999999999,-0.3999999999999999,-0.3999999999999999,-0.3999999999999999,-0.3999999999999999,-0.3999999999999999,-0.3999999999999999,-0.3999999999999999,-0.3999999999999999,-0.3999999999999999,-0.3999999999999999,-0.3999999999999999,-0.3999999999999999,-0.29999999999999993,-0.29999999999999993,-0.29999999999999993,-0.29999999999999993,-0.29999999999999993,-0.29999999999999993,-0.29999999999999993,-0.29999999999999993,-0.29999999999999993,-0.29999999999999993,-0.29999999999999993,-0.29999999999999993,-0.29999999999999993,-0.29999999999999993,-0.29999999999999993,-0.29999999999999993,-0.29999999999999993,-0.29999999999999993,-0.29999999999999993,-0.29999999999999993,-0.29999999999999993,-0.29999999999999993,-0.29999999999999993,-0.29999999999999993,-0.29999999999999993,-0.29999999999999993,-0.29999999999999993,-0.29999999999999993,-0.29999999999999993,-0.29999999999999993,-0.29999999999999993,-0.19999999999999996,-0.19999999999999996,-0.19999999999999996,-0.19999999999999996,-0.19999999999999996,-0.19999999999999996,-0.19999999999999996,-0.19999999999999996,-0.19999999999999996,-0.19999999999999996,-0.19999999999999996,-0.19999999999999996,-0.19999999999999996,-0.19999999999999996,-0.19999999999999996,-0.19999999999999996,-0.19999999999999996,-0.19999999999999996,-0.19999999999999996,-0.19999999999999996,-0.19999999999999996,-0.19999999999999996,-0.19999999999999996,-0.19999999999999996,-0.19999999999999996,-0.19999999999999996,-0.19999999999999996,-0.19999999999999996,-0.19999999999999996,-0.19999999999999996,-0.19999999999999996,-0.09999999999999998,-0.09999999999999998,-0.09999999999999998,-0.09999999999999998,-0.09999999999999998,-0.09999999999999998,-0.09999999999999998,-0.09999999999999998,-0.09999999999999998,-0.09999999999999998,-0.09999999999999998,-0.09999999999999998,-0.09999999999999998,-0.09999999999999998,-0.09999999999999998,-0.09999999999999998,-0.09999999999999998,-0.09999999999999998,-0.09999999999999998,-0.09999999999999998,-0.09999999999999998,-0.09999999999999998,-0.09999999999999998,-0.09999999999999998,-0.09999999999999998,-0.09999999999999998,-0.09999999999999998,-0.09999999999999998,-0.09999999999999998,-0.09999999999999998,-0.09999999999999998,0.0,0.0,0.0,0.0,0.0,0.0,0.0,0.0,0.0,0.0,0.0,0.0,0.0,0.0,0.0,0.0,0.0,0.0,0.0,0.0,0.0,0.0,0.0,0.0,0.0,0.0,0.0,0.0,0.0,0.0,0.0,0.10000000000000009,0.10000000000000009,0.10000000000000009,0.10000000000000009,0.10000000000000009,0.10000000000000009,0.10000000000000009,0.10000000000000009,0.10000000000000009,0.10000000000000009,0.10000000000000009,0.10000000000000009,0.10000000000000009,0.10000000000000009,0.10000000000000009,0.10000000000000009,0.10000000000000009,0.10000000000000009,0.10000000000000009,0.10000000000000009,0.10000000000000009,0.10000000000000009,0.10000000000000009,0.10000000000000009,0.10000000000000009,0.10000000000000009,0.10000000000000009,0.10000000000000009,0.10000000000000009,0.10000000000000009,0.10000000000000009,0.20000000000000018,0.20000000000000018,0.20000000000000018,0.20000000000000018,0.20000000000000018,0.20000000000000018,0.20000000000000018,0.20000000000000018,0.20000000000000018,0.20000000000000018,0.20000000000000018,0.20000000000000018,0.20000000000000018,0.20000000000000018,0.20000000000000018,0.20000000000000018,0.20000000000000018,0.20000000000000018,0.20000000000000018,0.20000000000000018,0.20000000000000018,0.20000000000000018,0.20000000000000018,0.20000000000000018,0.20000000000000018,0.20000000000000018,0.20000000000000018,0.20000000000000018,0.20000000000000018,0.20000000000000018,0.20000000000000018,0.30000000000000004,0.30000000000000004,0.30000000000000004,0.30000000000000004,0.30000000000000004,0.30000000000000004,0.30000000000000004,0.30000000000000004,0.30000000000000004,0.30000000000000004,0.30000000000000004,0.30000000000000004,0.30000000000000004,0.30000000000000004,0.30000000000000004,0.30000000000000004,0.30000000000000004,0.30000000000000004,0.30000000000000004,0.30000000000000004,0.30000000000000004,0.30000000000000004,0.30000000000000004,0.30000000000000004,0.30000000000000004,0.30000000000000004,0.30000000000000004,0.30000000000000004,0.30000000000000004,0.30000000000000004,0.30000000000000004,0.40000000000000013,0.40000000000000013,0.40000000000000013,0.40000000000000013,0.40000000000000013,0.40000000000000013,0.40000000000000013,0.40000000000000013,0.40000000000000013,0.40000000000000013,0.40000000000000013,0.40000000000000013,0.40000000000000013,0.40000000000000013,0.40000000000000013,0.40000000000000013,0.40000000000000013,0.40000000000000013,0.40000000000000013,0.40000000000000013,0.40000000000000013,0.40000000000000013,0.40000000000000013,0.40000000000000013,0.40000000000000013,0.40000000000000013,0.40000000000000013,0.40000000000000013,0.40000000000000013,0.40000000000000013,0.40000000000000013,0.5,0.5,0.5,0.5,0.5,0.5,0.5,0.5,0.5,0.5,0.5,0.5,0.5,0.5,0.5,0.5,0.5,0.5,0.5,0.5,0.5,0.5,0.5,0.5,0.5,0.5,0.5,0.5,0.5,0.5,0.5,0.6000000000000001,0.6000000000000001,0.6000000000000001,0.6000000000000001,0.6000000000000001,0.6000000000000001,0.6000000000000001,0.6000000000000001,0.6000000000000001,0.6000000000000001,0.6000000000000001,0.6000000000000001,0.6000000000000001,0.6000000000000001,0.6000000000000001,0.6000000000000001,0.6000000000000001,0.6000000000000001,0.6000000000000001,0.6000000000000001,0.6000000000000001,0.6000000000000001,0.6000000000000001,0.6000000000000001,0.6000000000000001,0.6000000000000001,0.6000000000000001,0.6000000000000001,0.6000000000000001,0.6000000000000001,0.6000000000000001,0.7000000000000002,0.7000000000000002,0.7000000000000002,0.7000000000000002,0.7000000000000002,0.7000000000000002,0.7000000000000002,0.7000000000000002,0.7000000000000002,0.7000000000000002,0.7000000000000002,0.7000000000000002,0.7000000000000002,0.7000000000000002,0.7000000000000002,0.7000000000000002,0.7000000000000002,0.7000000000000002,0.7000000000000002,0.7000000000000002,0.7000000000000002,0.7000000000000002,0.7000000000000002,0.7000000000000002,0.7000000000000002,0.7000000000000002,0.7000000000000002,0.7000000000000002,0.7000000000000002,0.7000000000000002,0.7000000000000002,0.8,0.8,0.8,0.8,0.8,0.8,0.8,0.8,0.8,0.8,0.8,0.8,0.8,0.8,0.8,0.8,0.8,0.8,0.8,0.8,0.8,0.8,0.8,0.8,0.8,0.8,0.8,0.8,0.8,0.8,0.8,0.9000000000000001,0.9000000000000001,0.9000000000000001,0.9000000000000001,0.9000000000000001,0.9000000000000001,0.9000000000000001,0.9000000000000001,0.9000000000000001,0.9000000000000001,0.9000000000000001,0.9000000000000001,0.9000000000000001,0.9000000000000001,0.9000000000000001,0.9000000000000001,0.9000000000000001,0.9000000000000001,0.9000000000000001,0.9000000000000001,0.9000000000000001,0.9000000000000001,0.9000000000000001,0.9000000000000001,0.9000000000000001,0.9000000000000001,0.9000000000000001,0.9000000000000001,0.9000000000000001,0.9000000000000001,0.9000000000000001,1.0,1.0,1.0,1.0,1.0,1.0,1.0,1.0,1.0,1.0,1.0,1.0,1.0,1.0,1.0,1.0,1.0,1.0,1.0,1.0,1.0,1.0,1.0,1.0,1.0,1.0,1.0,1.0,1.0,1.0,1.0,1.1,1.1,1.1,1.1,1.1,1.1,1.1,1.1,1.1,1.1,1.1,1.1,1.1,1.1,1.1,1.1,1.1,1.1,1.1,1.1,1.1,1.1,1.1,1.1,1.1,1.1,1.1,1.1,1.1,1.1,1.1,1.2000000000000002,1.2000000000000002,1.2000000000000002,1.2000000000000002,1.2000000000000002,1.2000000000000002,1.2000000000000002,1.2000000000000002,1.2000000000000002,1.2000000000000002,1.2000000000000002,1.2000000000000002,1.2000000000000002,1.2000000000000002,1.2000000000000002,1.2000000000000002,1.2000000000000002,1.2000000000000002,1.2000000000000002,1.2000000000000002,1.2000000000000002,1.2000000000000002,1.2000000000000002,1.2000000000000002,1.2000000000000002,1.2000000000000002,1.2000000000000002,1.2000000000000002,1.2000000000000002,1.2000000000000002,1.2000000000000002,1.3000000000000003,1.3000000000000003,1.3000000000000003,1.3000000000000003,1.3000000000000003,1.3000000000000003,1.3000000000000003,1.3000000000000003,1.3000000000000003,1.3000000000000003,1.3000000000000003,1.3000000000000003,1.3000000000000003,1.3000000000000003,1.3000000000000003,1.3000000000000003,1.3000000000000003,1.3000000000000003,1.3000000000000003,1.3000000000000003,1.3000000000000003,1.3000000000000003,1.3000000000000003,1.3000000000000003,1.3000000000000003,1.3000000000000003,1.3000000000000003,1.3000000000000003,1.3000000000000003,1.3000000000000003,1.3000000000000003,1.4000000000000004,1.4000000000000004,1.4000000000000004,1.4000000000000004,1.4000000000000004,1.4000000000000004,1.4000000000000004,1.4000000000000004,1.4000000000000004,1.4000000000000004,1.4000000000000004,1.4000000000000004,1.4000000000000004,1.4000000000000004,1.4000000000000004,1.4000000000000004,1.4000000000000004,1.4000000000000004,1.4000000000000004,1.4000000000000004,1.4000000000000004,1.4000000000000004,1.4000000000000004,1.4000000000000004,1.4000000000000004,1.4000000000000004,1.4000000000000004,1.4000000000000004,1.4000000000000004,1.4000000000000004,1.4000000000000004,1.5,1.5,1.5,1.5,1.5,1.5,1.5,1.5,1.5,1.5,1.5,1.5,1.5,1.5,1.5,1.5,1.5,1.5,1.5,1.5,1.5,1.5,1.5,1.5,1.5,1.5,1.5,1.5,1.5,1.5,1.5,1.6,1.6,1.6,1.6,1.6,1.6,1.6,1.6,1.6,1.6,1.6,1.6,1.6,1.6,1.6,1.6,1.6,1.6,1.6,1.6,1.6,1.6,1.6,1.6,1.6,1.6,1.6,1.6,1.6,1.6,1.6,1.7000000000000002,1.7000000000000002,1.7000000000000002,1.7000000000000002,1.7000000000000002,1.7000000000000002,1.7000000000000002,1.7000000000000002,1.7000000000000002,1.7000000000000002,1.7000000000000002,1.7000000000000002,1.7000000000000002,1.7000000000000002,1.7000000000000002,1.7000000000000002,1.7000000000000002,1.7000000000000002,1.7000000000000002,1.7000000000000002,1.7000000000000002,1.7000000000000002,1.7000000000000002,1.7000000000000002,1.7000000000000002,1.7000000000000002,1.7000000000000002,1.7000000000000002,1.7000000000000002,1.7000000000000002,1.7000000000000002,1.8000000000000003,1.8000000000000003,1.8000000000000003,1.8000000000000003,1.8000000000000003,1.8000000000000003,1.8000000000000003,1.8000000000000003,1.8000000000000003,1.8000000000000003,1.8000000000000003,1.8000000000000003,1.8000000000000003,1.8000000000000003,1.8000000000000003,1.8000000000000003,1.8000000000000003,1.8000000000000003,1.8000000000000003,1.8000000000000003,1.8000000000000003,1.8000000000000003,1.8000000000000003,1.8000000000000003,1.8000000000000003,1.8000000000000003,1.8000000000000003,1.8000000000000003,1.8000000000000003,1.8000000000000003,1.8000000000000003,1.9000000000000004,1.9000000000000004,1.9000000000000004,1.9000000000000004,1.9000000000000004,1.9000000000000004,1.9000000000000004,1.9000000000000004,1.9000000000000004,1.9000000000000004,1.9000000000000004,1.9000000000000004,1.9000000000000004,1.9000000000000004,1.9000000000000004,1.9000000000000004,1.9000000000000004,1.9000000000000004,1.9000000000000004,1.9000000000000004,1.9000000000000004,1.9000000000000004,1.9000000000000004,1.9000000000000004,1.9000000000000004,1.9000000000000004,1.9000000000000004,1.9000000000000004,1.9000000000000004,1.9000000000000004,1.9000000000000004,2.0,2.0,2.0,2.0,2.0,2.0,2.0,2.0,2.0,2.0,2.0,2.0,2.0,2.0,2.0,2.0,2.0,2.0,2.0,2.0,2.0,2.0,2.0,2.0,2.0,2.0,2.0,2.0,2.0,2.0,2.0],\"z\":[5.429204405210398,5.303111302544349,5.192189805527549,5.096439914159995,5.01586162844169,4.950454948372633,4.900219873952823,4.865156405182261,4.845264542060947,4.84054428458888,4.850995632766061,4.87661858659249,4.917413146068167,4.973379311193091,5.044517081967263,5.1308264583906835,5.232307440463351,5.3489600281852665,5.48078422155643,5.627780020576841,5.789947425246499,5.967286435565406,6.15979705153356,6.367479273150963,6.590333100417612,6.828358533333509,7.0815555718986545,7.349924216113047,7.633464465976688,7.932176321489578,8.246059782651713,5.457531388444338,5.331249906233332,5.2201400296715725,5.124201758759061,5.043435093495798,4.977840033881783,4.927416579917015,4.892164731601495,4.872084488935223,4.867175851918199,4.877438820550422,4.902873394831893,4.943479574762612,4.999257360342578,5.070206751571792,5.156327748450254,5.257620350977964,5.374084559154921,5.505720372981126,5.6525277924565795,5.81450681758128,5.9916574483552285,6.183979684778425,6.391473526850869,6.614138974572561,6.8519760279435,7.104984686963688,7.373164951633122,7.656516821951806,7.955040297919736,8.268735379536913,5.482246329802903,5.355776468046939,5.244478211940223,5.148351561482753,5.067396516674532,5.001613077515558,4.951001244005832,4.915561016145355,4.895292393934125,4.890195377372142,4.900269966459407,4.925516161195921,4.965933961581681,5.021523367616689,5.092284379300946,5.17821699663445,5.279321219617201,5.3955970482492015,5.5270444825304486,5.673663522460943,5.835454168040686,6.012416419269677,6.204550276147915,6.411855738675401,6.634332806852136,6.871981480678116,7.124801760153346,7.3927936452778225,7.675957136051549,7.974292232474522,8.28779893454674,5.503349229286094,5.376690987985171,5.265204352333496,5.1688893223310695,5.08774589797789,5.021774079273959,4.970973866219275,4.93534525881384,4.914888257057651,4.90960286095071,4.919489070493018,4.944546885684573,4.984776306525376,5.040177333015427,5.110749965154724,5.196494202943271,5.2974100463810645,5.413497495468106,5.544756550204395,5.691187210589932,5.852789476624717,6.02956334830875,6.22150882564203,6.428625908624558,6.650914597256334,6.888374891537357,7.141006791467628,7.4088102970471486,7.691785408275915,7.9899321251539295,8.30325044768119,5.52084008689391,5.393993466048029,5.282318450851396,5.185815041304011,5.104483237405874,5.038323039156984,4.987334446557343,4.951517459606949,4.930872078305803,4.925398302653904,4.935096132651253,4.959965568297851,5.0000066095936955,5.055219256538788,5.1256035091331285,5.211159367376716,5.311886831269552,5.427785900811636,5.558856576002967,5.705098856843547,5.866512743333374,6.043098235472447,6.234855333260771,6.4417840366983405,6.663884345785158,6.9011562605212236,7.1535997809065375,7.421214906941098,7.7040016386249075,8.001959975957964,8.315089918940268,5.5347189026263495,5.407683902235511,5.295820507493921,5.199128718401577,5.117608534958483,5.051259957164635,5.000082985020035,4.9640776185246835,4.9432438576785795,4.937581702481723,4.947091152934115,4.971772209035754,5.01162487078664,5.066649138186775,5.136845011236157,5.222212489934788,5.322751574282665,5.438462264279791,5.569344559926164,5.715398461221786,5.876623968166655,6.053021080760771,6.244589799004135,6.4513301228967475,6.673242052438607,6.910325587629714,7.162580728470071,7.430007474959673,7.712605827098525,8.010375784886623,8.32331734832397,5.544985676483416,5.417762296547618,5.30571052226107,5.208830353623769,5.127121790635716,5.060584833296911,5.009219481607353,4.9730257355670435,4.952003595175981,4.946153060434167,4.9554741313416,4.979966807898281,5.01963109010421,5.0744669779593865,5.144474471463811,5.229653570617483,5.330004275420404,5.445526585872571,5.576220501973986,5.72208602372465,5.88312315112456,6.059331884173719,6.250712222872125,6.457264167219779,6.678987717216682,6.915882872862831,7.167949634158228,7.4351880011028735,7.717597973696767,8.015179551939909,8.327932735832295,5.551640408465105,5.424228648984351,5.311988495152844,5.214919946970586,5.133023004437574,5.066297667553811,5.014743936319295,4.978361810734028,4.9571512907980075,4.951112376511236,4.960245067873711,4.984549364885434,5.024025267546405,5.0786727758566235,5.14849188981609,5.233482609424804,5.333644934682766,5.448978865589976,5.579484402146433,5.725161544352138,5.886010292207091,6.0620306457112925,6.2532226048647415,6.459586169667437,6.681121340119382,6.917828116220572,7.169706497971013,7.436756485370698,7.718978078419635,8.016371277117816,8.328936081465248,5.554683098571421,5.427082959545709,5.314654426169244,5.217397498442027,5.135312176364058,5.068398459935337,5.016656349155864,4.980085844025638,4.9586869445446595,4.952459650712929,4.961403962530446,4.985519879997212,5.024807403113225,5.079266531878486,5.148897266292994,5.23369960635675,5.3336735520697545,5.448819103432006,5.579136260443505,5.724625023104252,5.885285391414247,6.06111736537349,6.25212094498198,6.458296130239718,6.679642921146705,6.916161317702938,7.16785131990842,7.434712927763149,7.7167461412671265,8.013950960420352,8.326327385222822,5.554113746802361,5.426325228231692,5.313708315310269,5.216263008038093,5.133989306415167,5.066887210441488,5.014956720117056,4.978197835441872,4.956610556415936,4.950194883039248,4.958950815311807,4.982878353233615,5.02197749680467,5.0762482460249725,5.145690600894523,5.2303045614133215,5.330090127581367,5.445047299398661,5.575176076865202,5.720476459980992,5.880948448746029,6.056592043160314,6.247407243223847,6.453394048936627,6.6745524602986555,6.91088247730993,7.162384099970454,7.429057328280225,7.710902162239245,8.00791860184751,8.320106647105025,5.549932353157927,5.421955455042299,5.309150162575919,5.211516475758786,5.1290543945909,5.061763919072264,5.009645049202874,4.972697784982732,4.950922126411838,4.944318073490192,4.952885626217793,4.976624784594643,5.01553554862074,5.0696179182960845,5.138871893620677,5.223297474594517,5.322894661217605,5.437663453489941,5.5676038514115245,5.712715854982356,5.872999464202435,6.048454679071762,6.239081499590336,6.444879925758158,6.665849957575229,6.901991595041546,7.153304838157112,7.419789686921925,7.701446141335987,7.998274201399295,8.310273867111853,5.542138917638118,5.413973639977532,5.300979967966192,5.2031579016041025,5.120507440891259,5.053028585827664,5.000721336413316,4.963585692648217,4.941621654532365,4.934829222065761,4.943208395248404,4.966759174080296,5.005481558561435,5.059375548691821,5.128441144471456,5.212678345900338,5.312087152978468,5.426667565705847,5.556419584082472,5.701343208108345,5.861438437783466,6.036705273107835,6.227143714081452,6.4327537607043155,6.653535412976428,6.889488670897788,7.140613534468396,7.40691000368825,7.6883780785573546,7.985017759075706,8.296829045243303,5.530733440242933,5.4023797830373885,5.289197731481092,5.191187285574044,5.108348445316243,5.04068121070769,4.988185581748384,4.950861558438326,4.928709140777517,4.921728328765955,4.92991912240364,4.953281521690574,4.9918155266267545,5.045521137212184,5.11439835344686,5.198447175330784,5.297667602863957,5.412059636046377,5.541623274878044,5.68635851935896,5.846265369489123,6.0213438252685325,6.211593886697192,6.417015553775099,6.637608826502253,6.873373704878654,7.124310188904304,7.390418278579201,7.671697973903347,7.96814927487674,8.279772181499379,5.515715920972374,5.3871738842218715,5.2738034531206175,5.17560462766861,5.092577407865852,5.024721793712341,4.9720377852080775,4.934525382353062,4.912184585147294,4.905015393590774,4.913017807683501,4.936191827425477,4.9745374528166995,5.028054683857171,5.096743520546889,5.180603962885856,5.27963601087407,5.393839664511532,5.523214923798241,5.667761788734199,5.827480259319404,6.002370335553856,6.192432017437557,6.397665304970506,6.618070198152703,6.8536466969841445,7.104394801464837,7.370314511594776,7.651405827373964,7.947668748802399,8.259103275880083,5.497086359826439,5.36835594353098,5.254797132884767,5.156409927887802,5.073194328540086,5.005150334841616,4.952277946792395,4.914577164392422,4.892047987641695,4.884690416540217,4.892504451087987,4.915490091285005,4.95364733713127,5.0069761886267825,5.075476645771543,5.159148708565552,5.257992377008808,5.3720076511013115,5.501194530843064,5.645553016234063,5.80508310727431,5.979784803963805,6.169658106302548,6.374703014290538,6.594919527927778,6.830307647214262,7.080867372149997,7.346598702734978,7.627501638969208,7.923576180852684,8.234822328385407,5.474844756805131,5.3459259609647125,5.232178770773542,5.133603186231619,5.050199207338944,4.981966834095517,4.928906066501338,4.891016904556406,4.868299348260723,4.860753397614286,4.868379052617098,4.891176313269158,4.929145179570465,4.98228565152102,5.050597729120822,5.134081412369873,5.232736701268171,5.346563595815717,5.475562096012511,5.619732201858552,5.779073913353842,5.953587230498378,6.143272153292163,6.348128681735195,6.568156815827477,6.803356555569003,7.05372790095978,7.3192708519998035,7.599985408689076,7.895871571027594,8.20692933901536,5.448991111908446,5.31988393652307,5.2059483667869415,5.107184402700061,5.023592044262428,4.955171291474043,4.901922144334906,4.863844602845016,4.840938667004375,4.8332043368129805,4.840641612270835,4.863250493377936,4.901030980134285,4.953983072539882,5.022106770594727,5.105402074298819,5.20386898365216,5.317507498654748,5.446317619306583,5.590299345607667,5.749452677557998,5.923777615157578,6.113274158406404,6.317942307304478,6.537782061851801,6.77279342204837,7.022976387894188,7.288330959389254,7.568857136533568,7.8645549193271265,8.175424307769935,5.419525425136387,5.290229870206053,5.176105920924966,5.077153577293128,4.993372839310537,4.924763706977195,4.8713261802930985,4.833060259258251,4.809965943872651,4.8020432341363,4.8092921300491955,4.831712631611339,4.869304738822731,4.922068451683369,4.990003770193256,5.0731106943523905,5.171389224160772,5.2848393596184025,5.41346110072528,5.557254447481406,5.716219399886779,5.8903559579413995,6.079664121645269,6.2841438909983856,6.503795266000751,6.738618246652361,6.988612832953222,7.253779024903329,7.5341168225026856,7.829626225751288,8.14030723464914,5.386447696488952,5.256963762013661,5.142651433187616,5.04351071001082,4.959541592483271,4.8907440806049705,4.837118174375917,4.798663873796111,4.775381178865554,4.767270089584244,4.774330605952182,4.796562727969367,4.8339664556358,4.886541788951481,4.954288727916411,5.037207272530587,5.135297422794011,5.248559178706683,5.376992540268603,5.520597507479771,5.679374080340185,5.853322258849849,6.042442043008759,6.246733432816919,6.4661964282743245,6.700831029380977,6.95063723613688,7.21561504854203,7.495764466596428,7.791085490300073,8.101578119652967,5.349757925966143,5.220085611945893,5.105584903574892,5.006255800853137,4.92209830378063,4.853112412357371,4.79929812658336,4.760655446458596,4.737184371983081,4.728884903156813,4.735757039979792,4.75780078245202,4.7950161305734955,4.847403084344219,4.914961643764189,4.997691808833408,5.095593579551874,5.208666955919588,5.33691193793655,5.4803285256027605,5.638916718918217,5.812676517882922,6.001607922496875,6.205710932760075,6.424985548672525,6.659431770234219,6.909049597445163,7.173839030305356,7.453800068814797,7.748932712973482,8.059236962781416,5.309456113567959,5.179595420002752,5.0649063320867915,4.965388849820079,4.881042973202614,4.811868702234397,4.757866036915428,4.719034977245706,4.695375523225233,4.686887674854007,4.693571432132029,4.715426795059298,4.752453763635816,4.804652337861581,4.872022517736594,4.954564303260854,5.052277694434363,5.16516269125712,5.2932192937291225,5.436447501850375,5.594847315620873,5.768418735040621,5.957161760109615,6.1610763908278585,6.380162627195349,6.614420469212086,6.863849916878073,7.128450970193305,7.4082236291577885,7.703167893771516,8.013283764034494,5.2655422592944,5.135493186184235,5.020615718723316,4.920909856911646,4.836375600749223,4.767012950236048,4.712821905372121,4.673802466157442,4.64995463259201,4.641278404675826,4.6477737824088905,4.669440765791202,4.706279354822761,4.758289549503568,4.825471349833624,4.907824755812926,5.005349767441476,5.118046384719275,5.24591460764632,5.3889544362226145,5.547165870448155,5.720548910322945,5.909103555846982,6.112829807020267,6.331727663842799,6.565797126314579,6.815038194435607,7.079450868205883,7.359035147625405,7.653791032694178,7.963718523412195,5.218016363145466,5.087778910490342,4.972713063484466,4.8728188221278375,4.788096186420457,4.718545156362325,4.664165731953439,4.624957913193802,4.600921700083412,4.59205709262227,4.598364090810376,4.61984269464773,4.656492904134331,4.708314719270181,4.7753081400552775,4.857473166489623,4.954809798573215,5.067318036306055,5.194997879688143,5.337849328719479,5.495872383400062,5.669067043729893,5.857433309708973,6.0609711813372975,6.279680658614873,6.513561741541695,6.7626144301177655,7.026838724343083,7.306234624217648,7.600802129741463,7.910541240914523,5.166878425121157,5.0364525929210755,4.921198366370241,4.821115745468655,4.736204730216317,4.666465320613225,4.611897516659383,4.572501318354787,4.54827672569944,4.539223738693339,4.545342357336487,4.566632581628883,4.603094411570527,4.654727847161418,4.7215328884015575,4.803509535290943,4.900657787829578,5.01297764601746,5.14046910985459,5.283132179340968,5.440966854476593,5.613973135261467,5.802151021695588,6.005500513778957,6.224021611511573,6.457714314893437,6.706578623924549,6.970614538604909,7.249822058934517,7.544201184913371,7.853751916541473,5.112128445221473,4.9815142334764335,4.8660716273806415,4.765800626934097,4.6807012321368004,4.6107734429887515,4.55601725948995,4.5164326816403975,4.4920197094400915,4.482778342889034,4.488708581987224,4.509810426734662,4.5460838771313465,4.597528933177281,4.664145594872461,4.74593386221689,4.842893735210566,4.955025213853491,5.082328298145662,5.224802988087083,5.38244928367775,5.555267184917665,5.7432566918068275,5.946417804345238,6.164750522532898,6.398254846369802,6.6469307758559575,6.910778310991359,7.189797451776011,7.483988198209907,7.7933505502930505,5.053766423446414,4.922963832156417,4.807332846515666,4.706873466524164,4.62158569218191,4.551469523488903,4.496524960445144,4.4567520030506325,4.432150651305369,4.422720905209354,4.428462764762585,4.449376229965065,4.485461300816793,4.536717977317768,4.603146259467991,4.684746147267462,4.78151764071618,4.893460739814147,5.02057544456136,5.162861754957823,5.320319671003532,5.492949192698489,5.680750320042694,5.883723053036147,6.101867391678848,6.335183335970794,6.583670885911992,6.847330041502435,7.126160802742128,7.420163169631069,7.729337142169253,4.99179235979598,4.860801388961025,4.744982023775316,4.644334264238856,4.558858110351644,4.488553562113679,4.433420619524962,4.393459282585493,4.368669551295271,4.359051425654298,4.3646049056625715,4.385329991320093,4.421226682626863,4.47229497958288,4.538534882188145,4.619946390442658,4.716529504346418,4.828284223899427,4.955210549101683,5.097308479953187,5.254578016453938,5.427019158603938,5.614631906403185,5.81741625985168,6.035372218949424,6.268499783696412,6.516798954092652,6.780269730138137,7.058912111832871,7.352726099176851,7.661711692170079,4.926206254270172,4.795026903890258,4.6790191591595915,4.578183020078173,4.492518486646003,4.42202555886308,4.366704236729405,4.326554520244978,4.301576409409799,4.291769904223867,4.297135004687183,4.317671710799747,4.353380022561558,4.4042599399726186,4.4703114630329255,4.55153459174248,4.647929326101282,4.759495666109333,4.88623361176663,5.028143163073176,5.18522432002897,5.357477082634011,5.544901450888301,5.747497424791837,5.965265004344623,6.198204189546654,6.4463149803979345,6.709597376898461,6.98805137904824,7.281676986847259,7.590474200295532,4.857008106868987,4.725640376944116,4.609444252668492,4.508419734042116,4.422566821064987,4.351885513737106,4.296375812058473,4.2560377160290885,4.230871225648951,4.220876340918061,4.22605306183642,4.246401388404025,4.28192132062088,4.33261285848698,4.3984760020023295,4.479510751166925,4.575717105980771,4.687095066443863,4.813644632556203,4.9553658043177915,5.112258581728627,5.28432296478871,5.471558953498041,5.673966547856621,5.891545747864447,6.1242965535215195,6.372218964827844,6.635312981783413,6.913578604388232,7.207015832642297,7.5156246665456115,4.7841979175924285,4.652641808122599,4.536257304302017,4.435044406130682,4.349003113608596,4.278133426735757,4.222435345512167,4.181908869937824,4.156554000012728,4.14637073573688,4.151359077110281,4.171519024132929,4.2068505768048245,4.257353735125967,4.323028499096359,4.403874868715998,4.499892843984884,4.611082424903019,4.737443611470401,4.878976403687031,5.035680801552909,5.207556805068034,5.394604414232407,5.5968236290460265,5.814214449508897,6.0467768756210125,6.294510907382378,6.557416544792989,6.83549378785285,7.128742636561958,7.437163090920311,4.707775686440495,4.576031197425707,4.459458314060168,4.358057036343875,4.271827364276831,4.2007692978590345,4.144882837090486,4.104167981971185,4.078624732501131,4.068253088680326,4.073053050508768,4.093024617986458,4.128167791113396,4.178482569889581,4.243968954315014,4.324626944389695,4.420456540113624,4.5314577414868,4.657630548509225,4.798974961180897,4.955490979501816,5.127178603471982,5.314037833091399,5.516068668360061,5.733271109277974,5.965645155845129,6.213190808061536,6.475908065927191,6.753796929442095,7.046857398606242,7.355089473419638],\"type\":\"scatter3d\"},{\"colorbar\":{\"x\":0},\"name\":\"data surface\",\"opacity\":0.5,\"showlegend\":true,\"x\":[[0.0,0.1,0.2,0.30000000000000004,0.4,0.5,0.6000000000000001,0.7000000000000001,0.8,0.9,1.0],[0.0,0.1,0.2,0.30000000000000004,0.4,0.5,0.6000000000000001,0.7000000000000001,0.8,0.9,1.0],[0.0,0.1,0.2,0.30000000000000004,0.4,0.5,0.6000000000000001,0.7000000000000001,0.8,0.9,1.0],[0.0,0.1,0.2,0.30000000000000004,0.4,0.5,0.6000000000000001,0.7000000000000001,0.8,0.9,1.0],[0.0,0.1,0.2,0.30000000000000004,0.4,0.5,0.6000000000000001,0.7000000000000001,0.8,0.9,1.0],[0.0,0.1,0.2,0.30000000000000004,0.4,0.5,0.6000000000000001,0.7000000000000001,0.8,0.9,1.0],[0.0,0.1,0.2,0.30000000000000004,0.4,0.5,0.6000000000000001,0.7000000000000001,0.8,0.9,1.0],[0.0,0.1,0.2,0.30000000000000004,0.4,0.5,0.6000000000000001,0.7000000000000001,0.8,0.9,1.0],[0.0,0.1,0.2,0.30000000000000004,0.4,0.5,0.6000000000000001,0.7000000000000001,0.8,0.9,1.0],[0.0,0.1,0.2,0.30000000000000004,0.4,0.5,0.6000000000000001,0.7000000000000001,0.8,0.9,1.0],[0.0,0.1,0.2,0.30000000000000004,0.4,0.5,0.6000000000000001,0.7000000000000001,0.8,0.9,1.0]],\"y\":[[0.0,0.0,0.0,0.0,0.0,0.0,0.0,0.0,0.0,0.0,0.0],[0.1,0.1,0.1,0.1,0.1,0.1,0.1,0.1,0.1,0.1,0.1],[0.2,0.2,0.2,0.2,0.2,0.2,0.2,0.2,0.2,0.2,0.2],[0.30000000000000004,0.30000000000000004,0.30000000000000004,0.30000000000000004,0.30000000000000004,0.30000000000000004,0.30000000000000004,0.30000000000000004,0.30000000000000004,0.30000000000000004,0.30000000000000004],[0.4,0.4,0.4,0.4,0.4,0.4,0.4,0.4,0.4,0.4,0.4],[0.5,0.5,0.5,0.5,0.5,0.5,0.5,0.5,0.5,0.5,0.5],[0.6000000000000001,0.6000000000000001,0.6000000000000001,0.6000000000000001,0.6000000000000001,0.6000000000000001,0.6000000000000001,0.6000000000000001,0.6000000000000001,0.6000000000000001,0.6000000000000001],[0.7000000000000001,0.7000000000000001,0.7000000000000001,0.7000000000000001,0.7000000000000001,0.7000000000000001,0.7000000000000001,0.7000000000000001,0.7000000000000001,0.7000000000000001,0.7000000000000001],[0.8,0.8,0.8,0.8,0.8,0.8,0.8,0.8,0.8,0.8,0.8],[0.9,0.9,0.9,0.9,0.9,0.9,0.9,0.9,0.9,0.9,0.9],[1.0,1.0,1.0,1.0,1.0,1.0,1.0,1.0,1.0,1.0,1.0]],\"z\":[[5.0,5.001,5.008,5.027,5.064,5.125,5.216,5.343,5.5120000000000005,5.729,6.0],[4.98,4.981,4.988,5.007,5.044,5.105,5.196,5.323,5.492,5.709,5.98],[4.96,4.961,4.968,4.987,5.024,5.085,5.176,5.303,5.472,5.689,5.96],[4.94,4.941,4.948,4.967,5.004,5.065,5.156,5.283,5.452,5.6690000000000005,5.9399999999999995],[4.92,4.921,4.928,4.947,4.984,5.045,5.136,5.263,5.432,5.649,5.92],[4.9,4.901,4.908,4.927,4.964,5.025,5.116,5.243,5.412,5.6290000000000004,5.9],[4.88,4.881,4.888,4.907,4.944,5.005,5.096,5.223,5.392,5.609,5.88],[4.86,4.861,4.868,4.887,4.924,4.985,5.0760000000000005,5.203,5.372,5.589,5.86],[4.84,4.841,4.848,4.867,4.904,4.965,5.056,5.183,5.352,5.569,5.84],[4.82,4.821,4.828,4.847,4.884,4.945,5.0360000000000005,5.163,5.332,5.549,5.82],[4.8,4.801,4.808,4.827,4.864,4.925,5.016,5.143,5.312,5.529,5.8]],\"type\":\"surface\"}],                        {\"template\":{\"data\":{\"histogram2dcontour\":[{\"type\":\"histogram2dcontour\",\"colorbar\":{\"outlinewidth\":0,\"ticks\":\"\"},\"colorscale\":[[0.0,\"#0d0887\"],[0.1111111111111111,\"#46039f\"],[0.2222222222222222,\"#7201a8\"],[0.3333333333333333,\"#9c179e\"],[0.4444444444444444,\"#bd3786\"],[0.5555555555555556,\"#d8576b\"],[0.6666666666666666,\"#ed7953\"],[0.7777777777777778,\"#fb9f3a\"],[0.8888888888888888,\"#fdca26\"],[1.0,\"#f0f921\"]]}],\"choropleth\":[{\"type\":\"choropleth\",\"colorbar\":{\"outlinewidth\":0,\"ticks\":\"\"}}],\"histogram2d\":[{\"type\":\"histogram2d\",\"colorbar\":{\"outlinewidth\":0,\"ticks\":\"\"},\"colorscale\":[[0.0,\"#0d0887\"],[0.1111111111111111,\"#46039f\"],[0.2222222222222222,\"#7201a8\"],[0.3333333333333333,\"#9c179e\"],[0.4444444444444444,\"#bd3786\"],[0.5555555555555556,\"#d8576b\"],[0.6666666666666666,\"#ed7953\"],[0.7777777777777778,\"#fb9f3a\"],[0.8888888888888888,\"#fdca26\"],[1.0,\"#f0f921\"]]}],\"heatmap\":[{\"type\":\"heatmap\",\"colorbar\":{\"outlinewidth\":0,\"ticks\":\"\"},\"colorscale\":[[0.0,\"#0d0887\"],[0.1111111111111111,\"#46039f\"],[0.2222222222222222,\"#7201a8\"],[0.3333333333333333,\"#9c179e\"],[0.4444444444444444,\"#bd3786\"],[0.5555555555555556,\"#d8576b\"],[0.6666666666666666,\"#ed7953\"],[0.7777777777777778,\"#fb9f3a\"],[0.8888888888888888,\"#fdca26\"],[1.0,\"#f0f921\"]]}],\"heatmapgl\":[{\"type\":\"heatmapgl\",\"colorbar\":{\"outlinewidth\":0,\"ticks\":\"\"},\"colorscale\":[[0.0,\"#0d0887\"],[0.1111111111111111,\"#46039f\"],[0.2222222222222222,\"#7201a8\"],[0.3333333333333333,\"#9c179e\"],[0.4444444444444444,\"#bd3786\"],[0.5555555555555556,\"#d8576b\"],[0.6666666666666666,\"#ed7953\"],[0.7777777777777778,\"#fb9f3a\"],[0.8888888888888888,\"#fdca26\"],[1.0,\"#f0f921\"]]}],\"contourcarpet\":[{\"type\":\"contourcarpet\",\"colorbar\":{\"outlinewidth\":0,\"ticks\":\"\"}}],\"contour\":[{\"type\":\"contour\",\"colorbar\":{\"outlinewidth\":0,\"ticks\":\"\"},\"colorscale\":[[0.0,\"#0d0887\"],[0.1111111111111111,\"#46039f\"],[0.2222222222222222,\"#7201a8\"],[0.3333333333333333,\"#9c179e\"],[0.4444444444444444,\"#bd3786\"],[0.5555555555555556,\"#d8576b\"],[0.6666666666666666,\"#ed7953\"],[0.7777777777777778,\"#fb9f3a\"],[0.8888888888888888,\"#fdca26\"],[1.0,\"#f0f921\"]]}],\"surface\":[{\"type\":\"surface\",\"colorbar\":{\"outlinewidth\":0,\"ticks\":\"\"},\"colorscale\":[[0.0,\"#0d0887\"],[0.1111111111111111,\"#46039f\"],[0.2222222222222222,\"#7201a8\"],[0.3333333333333333,\"#9c179e\"],[0.4444444444444444,\"#bd3786\"],[0.5555555555555556,\"#d8576b\"],[0.6666666666666666,\"#ed7953\"],[0.7777777777777778,\"#fb9f3a\"],[0.8888888888888888,\"#fdca26\"],[1.0,\"#f0f921\"]]}],\"mesh3d\":[{\"type\":\"mesh3d\",\"colorbar\":{\"outlinewidth\":0,\"ticks\":\"\"}}],\"scatter\":[{\"fillpattern\":{\"fillmode\":\"overlay\",\"size\":10,\"solidity\":0.2},\"type\":\"scatter\"}],\"parcoords\":[{\"type\":\"parcoords\",\"line\":{\"colorbar\":{\"outlinewidth\":0,\"ticks\":\"\"}}}],\"scatterpolargl\":[{\"type\":\"scatterpolargl\",\"marker\":{\"colorbar\":{\"outlinewidth\":0,\"ticks\":\"\"}}}],\"bar\":[{\"error_x\":{\"color\":\"#2a3f5f\"},\"error_y\":{\"color\":\"#2a3f5f\"},\"marker\":{\"line\":{\"color\":\"#E5ECF6\",\"width\":0.5},\"pattern\":{\"fillmode\":\"overlay\",\"size\":10,\"solidity\":0.2}},\"type\":\"bar\"}],\"scattergeo\":[{\"type\":\"scattergeo\",\"marker\":{\"colorbar\":{\"outlinewidth\":0,\"ticks\":\"\"}}}],\"scatterpolar\":[{\"type\":\"scatterpolar\",\"marker\":{\"colorbar\":{\"outlinewidth\":0,\"ticks\":\"\"}}}],\"histogram\":[{\"marker\":{\"pattern\":{\"fillmode\":\"overlay\",\"size\":10,\"solidity\":0.2}},\"type\":\"histogram\"}],\"scattergl\":[{\"type\":\"scattergl\",\"marker\":{\"colorbar\":{\"outlinewidth\":0,\"ticks\":\"\"}}}],\"scatter3d\":[{\"type\":\"scatter3d\",\"line\":{\"colorbar\":{\"outlinewidth\":0,\"ticks\":\"\"}},\"marker\":{\"colorbar\":{\"outlinewidth\":0,\"ticks\":\"\"}}}],\"scattermapbox\":[{\"type\":\"scattermapbox\",\"marker\":{\"colorbar\":{\"outlinewidth\":0,\"ticks\":\"\"}}}],\"scatterternary\":[{\"type\":\"scatterternary\",\"marker\":{\"colorbar\":{\"outlinewidth\":0,\"ticks\":\"\"}}}],\"scattercarpet\":[{\"type\":\"scattercarpet\",\"marker\":{\"colorbar\":{\"outlinewidth\":0,\"ticks\":\"\"}}}],\"carpet\":[{\"aaxis\":{\"endlinecolor\":\"#2a3f5f\",\"gridcolor\":\"white\",\"linecolor\":\"white\",\"minorgridcolor\":\"white\",\"startlinecolor\":\"#2a3f5f\"},\"baxis\":{\"endlinecolor\":\"#2a3f5f\",\"gridcolor\":\"white\",\"linecolor\":\"white\",\"minorgridcolor\":\"white\",\"startlinecolor\":\"#2a3f5f\"},\"type\":\"carpet\"}],\"table\":[{\"cells\":{\"fill\":{\"color\":\"#EBF0F8\"},\"line\":{\"color\":\"white\"}},\"header\":{\"fill\":{\"color\":\"#C8D4E3\"},\"line\":{\"color\":\"white\"}},\"type\":\"table\"}],\"barpolar\":[{\"marker\":{\"line\":{\"color\":\"#E5ECF6\",\"width\":0.5},\"pattern\":{\"fillmode\":\"overlay\",\"size\":10,\"solidity\":0.2}},\"type\":\"barpolar\"}],\"pie\":[{\"automargin\":true,\"type\":\"pie\"}]},\"layout\":{\"autotypenumbers\":\"strict\",\"colorway\":[\"#636efa\",\"#EF553B\",\"#00cc96\",\"#ab63fa\",\"#FFA15A\",\"#19d3f3\",\"#FF6692\",\"#B6E880\",\"#FF97FF\",\"#FECB52\"],\"font\":{\"color\":\"#2a3f5f\"},\"hovermode\":\"closest\",\"hoverlabel\":{\"align\":\"left\"},\"paper_bgcolor\":\"white\",\"plot_bgcolor\":\"#E5ECF6\",\"polar\":{\"bgcolor\":\"#E5ECF6\",\"angularaxis\":{\"gridcolor\":\"white\",\"linecolor\":\"white\",\"ticks\":\"\"},\"radialaxis\":{\"gridcolor\":\"white\",\"linecolor\":\"white\",\"ticks\":\"\"}},\"ternary\":{\"bgcolor\":\"#E5ECF6\",\"aaxis\":{\"gridcolor\":\"white\",\"linecolor\":\"white\",\"ticks\":\"\"},\"baxis\":{\"gridcolor\":\"white\",\"linecolor\":\"white\",\"ticks\":\"\"},\"caxis\":{\"gridcolor\":\"white\",\"linecolor\":\"white\",\"ticks\":\"\"}},\"coloraxis\":{\"colorbar\":{\"outlinewidth\":0,\"ticks\":\"\"}},\"colorscale\":{\"sequential\":[[0.0,\"#0d0887\"],[0.1111111111111111,\"#46039f\"],[0.2222222222222222,\"#7201a8\"],[0.3333333333333333,\"#9c179e\"],[0.4444444444444444,\"#bd3786\"],[0.5555555555555556,\"#d8576b\"],[0.6666666666666666,\"#ed7953\"],[0.7777777777777778,\"#fb9f3a\"],[0.8888888888888888,\"#fdca26\"],[1.0,\"#f0f921\"]],\"sequentialminus\":[[0.0,\"#0d0887\"],[0.1111111111111111,\"#46039f\"],[0.2222222222222222,\"#7201a8\"],[0.3333333333333333,\"#9c179e\"],[0.4444444444444444,\"#bd3786\"],[0.5555555555555556,\"#d8576b\"],[0.6666666666666666,\"#ed7953\"],[0.7777777777777778,\"#fb9f3a\"],[0.8888888888888888,\"#fdca26\"],[1.0,\"#f0f921\"]],\"diverging\":[[0,\"#8e0152\"],[0.1,\"#c51b7d\"],[0.2,\"#de77ae\"],[0.3,\"#f1b6da\"],[0.4,\"#fde0ef\"],[0.5,\"#f7f7f7\"],[0.6,\"#e6f5d0\"],[0.7,\"#b8e186\"],[0.8,\"#7fbc41\"],[0.9,\"#4d9221\"],[1,\"#276419\"]]},\"xaxis\":{\"gridcolor\":\"white\",\"linecolor\":\"white\",\"ticks\":\"\",\"title\":{\"standoff\":15},\"zerolinecolor\":\"white\",\"automargin\":true,\"zerolinewidth\":2},\"yaxis\":{\"gridcolor\":\"white\",\"linecolor\":\"white\",\"ticks\":\"\",\"title\":{\"standoff\":15},\"zerolinecolor\":\"white\",\"automargin\":true,\"zerolinewidth\":2},\"scene\":{\"xaxis\":{\"backgroundcolor\":\"#E5ECF6\",\"gridcolor\":\"white\",\"linecolor\":\"white\",\"showbackground\":true,\"ticks\":\"\",\"zerolinecolor\":\"white\",\"gridwidth\":2},\"yaxis\":{\"backgroundcolor\":\"#E5ECF6\",\"gridcolor\":\"white\",\"linecolor\":\"white\",\"showbackground\":true,\"ticks\":\"\",\"zerolinecolor\":\"white\",\"gridwidth\":2},\"zaxis\":{\"backgroundcolor\":\"#E5ECF6\",\"gridcolor\":\"white\",\"linecolor\":\"white\",\"showbackground\":true,\"ticks\":\"\",\"zerolinecolor\":\"white\",\"gridwidth\":2}},\"shapedefaults\":{\"line\":{\"color\":\"#2a3f5f\"}},\"annotationdefaults\":{\"arrowcolor\":\"#2a3f5f\",\"arrowhead\":0,\"arrowwidth\":1},\"geo\":{\"bgcolor\":\"white\",\"landcolor\":\"#E5ECF6\",\"subunitcolor\":\"white\",\"showland\":true,\"showlakes\":true,\"lakecolor\":\"white\"},\"title\":{\"x\":0.05},\"mapbox\":{\"style\":\"light\"}}},\"scene\":{\"camera\":{\"projection\":{\"type\":\"orthographic\"}}}},                        {\"responsive\": true}                    ).then(function(){\n",
              "                            \n",
              "var gd = document.getElementById('94648cf1-2db6-4318-8b12-0cc27b901fc8');\n",
              "var x = new MutationObserver(function (mutations, observer) {{\n",
              "        var display = window.getComputedStyle(gd).display;\n",
              "        if (!display || display === 'none') {{\n",
              "            console.log([gd, 'removed!']);\n",
              "            Plotly.purge(gd);\n",
              "            observer.disconnect();\n",
              "        }}\n",
              "}});\n",
              "\n",
              "// Listen for the removal of the full notebook cells\n",
              "var notebookContainer = gd.closest('#notebook-container');\n",
              "if (notebookContainer) {{\n",
              "    x.observe(notebookContainer, {childList: true});\n",
              "}}\n",
              "\n",
              "// Listen for the clearing of the current output cell\n",
              "var outputEl = gd.closest('.output');\n",
              "if (outputEl) {{\n",
              "    x.observe(outputEl, {childList: true});\n",
              "}}\n",
              "\n",
              "                        })                };                            </script>        </div>\n",
              "</body>\n",
              "</html>"
            ]
          },
          "metadata": {}
        }
      ]
    },
    {
      "cell_type": "code",
      "source": [
        "svr_temp=svr2\n",
        "print (' Dual coefficients:\\n',svr_temp.dual_coef_,'\\n',\n",
        "       'Support vectors:\\n',svr_temp.support_vectors_,'\\n',\n",
        "       'Coef0: ',svr_temp.coef0,'\\n',\n",
        "       'Intercept: ',svr_temp.intercept_[0],)"
      ],
      "metadata": {
        "id": "nQ_2c4WFvkv7",
        "outputId": "e5fe4b2a-d33b-460a-ffe8-fb2eb5a2650b",
        "colab": {
          "base_uri": "https://localhost:8080/"
        }
      },
      "execution_count": 56,
      "outputs": [
        {
          "output_type": "stream",
          "name": "stdout",
          "text": [
            " Dual coefficients:\n",
            " [[ 0.02508712 -0.00498009 -0.02010703]] \n",
            " Support vectors:\n",
            " [[0.99 0.23]\n",
            " [0.69 0.57]\n",
            " [0.44 0.45]] \n",
            " Coef0:  1 \n",
            " Intercept:  4.952885626217793\n"
          ]
        }
      ]
    },
    {
      "cell_type": "code",
      "source": [],
      "metadata": {
        "id": "IRm7_Li2JkXx"
      },
      "execution_count": null,
      "outputs": []
    }
  ]
}