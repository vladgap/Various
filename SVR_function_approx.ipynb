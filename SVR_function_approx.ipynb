{
  "nbformat": 4,
  "nbformat_minor": 0,
  "metadata": {
    "colab": {
      "provenance": [],
      "toc_visible": true,
      "authorship_tag": "ABX9TyPRZgR/brBxTxRmbkqxYTQP",
      "include_colab_link": true
    },
    "kernelspec": {
      "name": "python3",
      "display_name": "Python 3"
    },
    "language_info": {
      "name": "python"
    }
  },
  "cells": [
    {
      "cell_type": "markdown",
      "metadata": {
        "id": "view-in-github",
        "colab_type": "text"
      },
      "source": [
        "<a href=\"https://colab.research.google.com/github/vladgap/Various/blob/main/SVR_function_approx.ipynb\" target=\"_parent\"><img src=\"https://colab.research.google.com/assets/colab-badge.svg\" alt=\"Open In Colab\"/></a>"
      ]
    },
    {
      "cell_type": "code",
      "execution_count": 1,
      "metadata": {
        "id": "-iV87ghCR8gK"
      },
      "outputs": [],
      "source": [
        "import numpy as np\n",
        "import pandas as pd\n",
        "import plotly.express as px\n",
        "import plotly.graph_objs as go\n",
        "from plotly.subplots import make_subplots\n",
        "from sklearn import preprocessing\n",
        "import matplotlib.pyplot as plt\n",
        "import skimage.io as sio"
      ]
    },
    {
      "cell_type": "code",
      "source": [
        "from sklearn.svm import SVR"
      ],
      "metadata": {
        "id": "4l_ji9AUSdJm"
      },
      "execution_count": 2,
      "outputs": []
    },
    {
      "cell_type": "markdown",
      "source": [
        "# 1"
      ],
      "metadata": {
        "id": "MtgFyX0NSM8X"
      }
    },
    {
      "cell_type": "code",
      "source": [
        "def func(x):\n",
        "    y = x**2+1\n",
        "    return y"
      ],
      "metadata": {
        "id": "N2hJEDYRSKf9"
      },
      "execution_count": 3,
      "outputs": []
    },
    {
      "cell_type": "code",
      "source": [
        "x=np.linspace(-1,2,11)\n",
        "data1=np.array([\n",
        "               x,\n",
        "               func(x)\n",
        "               ]).T\n",
        "X1=data1[:,[0]]\n",
        "T1=data1[:,[1]]"
      ],
      "metadata": {
        "id": "WGbMB6khyiOs"
      },
      "execution_count": 4,
      "outputs": []
    },
    {
      "cell_type": "code",
      "source": [
        "scaler_X1 = preprocessing.StandardScaler().fit(X1)\n",
        "scaler_T1 = preprocessing.StandardScaler().fit(T1)\n",
        "\n",
        "# scaler_X1.mean_, scaler_X1.scale_ = 0, 1 # disable scaling\n",
        "# scaler_T1.mean_, scaler_T1.scale_ = 0, 1 # disable scaling\n",
        "\n",
        "scaler_data1 = [scaler_X1.mean_, scaler_X1.scale_, scaler_T1.mean_, scaler_T1.scale_]\n",
        "print('scaler X -- mean, stdev:  ',scaler_data1[0], scaler_data1[1])\n",
        "print('scaler T -- mean, stdev:  ',scaler_data1[2], scaler_data1[3])\n",
        "\n",
        "X_sc1 = scaler_X1.transform(X1)\n",
        "T_sc1 = scaler_T1.transform(T1)\n",
        "X_sc1[0:3]"
      ],
      "metadata": {
        "colab": {
          "base_uri": "https://localhost:8080/"
        },
        "outputId": "f1556c81-3cec-4a2f-f6b7-edcead2b1d44",
        "id": "BsyaONOmmuD1"
      },
      "execution_count": 5,
      "outputs": [
        {
          "output_type": "stream",
          "name": "stdout",
          "text": [
            "scaler X -- mean, stdev:   [0.5] [0.9486833]\n",
            "scaler T -- mean, stdev:   [2.15] [1.23765908]\n"
          ]
        },
        {
          "output_type": "execute_result",
          "data": {
            "text/plain": [
              "array([[-1.58113883],\n",
              "       [-1.26491106],\n",
              "       [-0.9486833 ]])"
            ]
          },
          "metadata": {},
          "execution_count": 5
        }
      ]
    },
    {
      "cell_type": "code",
      "source": [
        "# T_sc1.ravel()"
      ],
      "metadata": {
        "id": "a0tMqEHAUU1u"
      },
      "execution_count": 6,
      "outputs": []
    },
    {
      "cell_type": "code",
      "source": [
        "# T_sc1.ravel().reshape(-1,1)"
      ],
      "metadata": {
        "id": "h0AQzdBfV6qR"
      },
      "execution_count": 7,
      "outputs": []
    },
    {
      "cell_type": "markdown",
      "source": [
        "## 1_1"
      ],
      "metadata": {
        "id": "R52wfZNua8s6"
      }
    },
    {
      "cell_type": "code",
      "source": [
        "svr1=SVR(kernel='rbf', gamma=10)\n",
        "svr1.fit(X_sc1,T_sc1.ravel())\n",
        "predics1=scaler_T1.inverse_transform(svr1.predict(X_sc1).reshape(-1,1))\n",
        "# predics1"
      ],
      "metadata": {
        "id": "AAHRkPQrSHVd"
      },
      "execution_count": 111,
      "outputs": []
    },
    {
      "cell_type": "code",
      "source": [
        "# @title\n",
        "errors1=(predics1-T1)/T1*100\n",
        "# plt.hist(errors1[:,0]) # division by 0"
      ],
      "metadata": {
        "id": "9TokyvaPXDRL"
      },
      "execution_count": 112,
      "outputs": []
    },
    {
      "cell_type": "code",
      "source": [
        "# @title\n",
        "fig = make_subplots(specs=[[{\"secondary_y\": True}]])\n",
        "fig.add_trace(go.Scatter(x=T1[:,0], y=predics1[:,0], mode='markers', marker_size=4, name='predics', marker_color='black'),secondary_y=False)\n",
        "fig.add_trace(go.Scatter(x=T1[:,0], y=T1[:,0], mode='lines', line_color='red', line_width=0.2, showlegend=False),secondary_y=False)\n",
        "fig.add_trace(go.Scatter(x=T1[:,0], y=errors1[:,0], mode='markers', marker_size=4, name='errors', marker_color='orange'),secondary_y=True)\n",
        "\n",
        "fig.update_xaxes(title_text=\"data\")\n",
        "\n",
        "# Set y-axes titles\n",
        "fig.update_yaxes(title_text=\"predics\", secondary_y=False)\n",
        "fig.update_yaxes(title_text=\"% error\", range=[-20, 20], secondary_y=True, showgrid=False, tick0=-5, dtick=2)\n",
        "\n",
        "fig.show()"
      ],
      "metadata": {
        "colab": {
          "base_uri": "https://localhost:8080/",
          "height": 542
        },
        "id": "aJP-rr5sXFBh",
        "outputId": "65627188-6d14-4597-8063-daf69f4a455e"
      },
      "execution_count": 113,
      "outputs": [
        {
          "output_type": "display_data",
          "data": {
            "text/html": [
              "<html>\n",
              "<head><meta charset=\"utf-8\" /></head>\n",
              "<body>\n",
              "    <div>            <script src=\"https://cdnjs.cloudflare.com/ajax/libs/mathjax/2.7.5/MathJax.js?config=TeX-AMS-MML_SVG\"></script><script type=\"text/javascript\">if (window.MathJax && window.MathJax.Hub && window.MathJax.Hub.Config) {window.MathJax.Hub.Config({SVG: {font: \"STIX-Web\"}});}</script>                <script type=\"text/javascript\">window.PlotlyConfig = {MathJaxConfig: 'local'};</script>\n",
              "        <script charset=\"utf-8\" src=\"https://cdn.plot.ly/plotly-2.24.1.min.js\"></script>                <div id=\"d2335471-48cb-4716-8ca6-87cbb09e51bd\" class=\"plotly-graph-div\" style=\"height:525px; width:100%;\"></div>            <script type=\"text/javascript\">                                    window.PLOTLYENV=window.PLOTLYENV || {};                                    if (document.getElementById(\"d2335471-48cb-4716-8ca6-87cbb09e51bd\")) {                    Plotly.newPlot(                        \"d2335471-48cb-4716-8ca6-87cbb09e51bd\",                        [{\"marker\":{\"color\":\"black\",\"size\":4},\"mode\":\"markers\",\"name\":\"predics\",\"x\":[2.0,1.49,1.1600000000000001,1.01,1.04,1.25,1.6399999999999997,2.21,2.96,3.8899999999999992,5.0],\"y\":[1.998473335186525,1.6138300999829167,1.284457950654235,1.1332471992431827,1.1636505773473402,1.3737062895760606,1.7640552344930485,2.176888697172511,2.836298268693617,3.765818032694517,3.763577399007851],\"type\":\"scatter\",\"xaxis\":\"x\",\"yaxis\":\"y\"},{\"line\":{\"color\":\"red\",\"width\":0.2},\"mode\":\"lines\",\"showlegend\":false,\"x\":[2.0,1.49,1.1600000000000001,1.01,1.04,1.25,1.6399999999999997,2.21,2.96,3.8899999999999992,5.0],\"y\":[2.0,1.49,1.1600000000000001,1.01,1.04,1.25,1.6399999999999997,2.21,2.96,3.8899999999999992,5.0],\"type\":\"scatter\",\"xaxis\":\"x\",\"yaxis\":\"y\"},{\"marker\":{\"color\":\"orange\",\"size\":4},\"mode\":\"markers\",\"name\":\"errors\",\"x\":[2.0,1.49,1.1600000000000001,1.01,1.04,1.25,1.6399999999999997,2.21,2.96,3.8899999999999992,5.0],\"y\":[-0.0763332406737538,8.310744965296424,10.729133677089218,12.202692994374527,11.889478591090404,9.896503166084845,7.564343566649318,-1.498248996718948,-4.179112544134563,-3.1923384911434973,-24.72845201984298],\"type\":\"scatter\",\"xaxis\":\"x\",\"yaxis\":\"y2\"}],                        {\"template\":{\"data\":{\"histogram2dcontour\":[{\"type\":\"histogram2dcontour\",\"colorbar\":{\"outlinewidth\":0,\"ticks\":\"\"},\"colorscale\":[[0.0,\"#0d0887\"],[0.1111111111111111,\"#46039f\"],[0.2222222222222222,\"#7201a8\"],[0.3333333333333333,\"#9c179e\"],[0.4444444444444444,\"#bd3786\"],[0.5555555555555556,\"#d8576b\"],[0.6666666666666666,\"#ed7953\"],[0.7777777777777778,\"#fb9f3a\"],[0.8888888888888888,\"#fdca26\"],[1.0,\"#f0f921\"]]}],\"choropleth\":[{\"type\":\"choropleth\",\"colorbar\":{\"outlinewidth\":0,\"ticks\":\"\"}}],\"histogram2d\":[{\"type\":\"histogram2d\",\"colorbar\":{\"outlinewidth\":0,\"ticks\":\"\"},\"colorscale\":[[0.0,\"#0d0887\"],[0.1111111111111111,\"#46039f\"],[0.2222222222222222,\"#7201a8\"],[0.3333333333333333,\"#9c179e\"],[0.4444444444444444,\"#bd3786\"],[0.5555555555555556,\"#d8576b\"],[0.6666666666666666,\"#ed7953\"],[0.7777777777777778,\"#fb9f3a\"],[0.8888888888888888,\"#fdca26\"],[1.0,\"#f0f921\"]]}],\"heatmap\":[{\"type\":\"heatmap\",\"colorbar\":{\"outlinewidth\":0,\"ticks\":\"\"},\"colorscale\":[[0.0,\"#0d0887\"],[0.1111111111111111,\"#46039f\"],[0.2222222222222222,\"#7201a8\"],[0.3333333333333333,\"#9c179e\"],[0.4444444444444444,\"#bd3786\"],[0.5555555555555556,\"#d8576b\"],[0.6666666666666666,\"#ed7953\"],[0.7777777777777778,\"#fb9f3a\"],[0.8888888888888888,\"#fdca26\"],[1.0,\"#f0f921\"]]}],\"heatmapgl\":[{\"type\":\"heatmapgl\",\"colorbar\":{\"outlinewidth\":0,\"ticks\":\"\"},\"colorscale\":[[0.0,\"#0d0887\"],[0.1111111111111111,\"#46039f\"],[0.2222222222222222,\"#7201a8\"],[0.3333333333333333,\"#9c179e\"],[0.4444444444444444,\"#bd3786\"],[0.5555555555555556,\"#d8576b\"],[0.6666666666666666,\"#ed7953\"],[0.7777777777777778,\"#fb9f3a\"],[0.8888888888888888,\"#fdca26\"],[1.0,\"#f0f921\"]]}],\"contourcarpet\":[{\"type\":\"contourcarpet\",\"colorbar\":{\"outlinewidth\":0,\"ticks\":\"\"}}],\"contour\":[{\"type\":\"contour\",\"colorbar\":{\"outlinewidth\":0,\"ticks\":\"\"},\"colorscale\":[[0.0,\"#0d0887\"],[0.1111111111111111,\"#46039f\"],[0.2222222222222222,\"#7201a8\"],[0.3333333333333333,\"#9c179e\"],[0.4444444444444444,\"#bd3786\"],[0.5555555555555556,\"#d8576b\"],[0.6666666666666666,\"#ed7953\"],[0.7777777777777778,\"#fb9f3a\"],[0.8888888888888888,\"#fdca26\"],[1.0,\"#f0f921\"]]}],\"surface\":[{\"type\":\"surface\",\"colorbar\":{\"outlinewidth\":0,\"ticks\":\"\"},\"colorscale\":[[0.0,\"#0d0887\"],[0.1111111111111111,\"#46039f\"],[0.2222222222222222,\"#7201a8\"],[0.3333333333333333,\"#9c179e\"],[0.4444444444444444,\"#bd3786\"],[0.5555555555555556,\"#d8576b\"],[0.6666666666666666,\"#ed7953\"],[0.7777777777777778,\"#fb9f3a\"],[0.8888888888888888,\"#fdca26\"],[1.0,\"#f0f921\"]]}],\"mesh3d\":[{\"type\":\"mesh3d\",\"colorbar\":{\"outlinewidth\":0,\"ticks\":\"\"}}],\"scatter\":[{\"fillpattern\":{\"fillmode\":\"overlay\",\"size\":10,\"solidity\":0.2},\"type\":\"scatter\"}],\"parcoords\":[{\"type\":\"parcoords\",\"line\":{\"colorbar\":{\"outlinewidth\":0,\"ticks\":\"\"}}}],\"scatterpolargl\":[{\"type\":\"scatterpolargl\",\"marker\":{\"colorbar\":{\"outlinewidth\":0,\"ticks\":\"\"}}}],\"bar\":[{\"error_x\":{\"color\":\"#2a3f5f\"},\"error_y\":{\"color\":\"#2a3f5f\"},\"marker\":{\"line\":{\"color\":\"#E5ECF6\",\"width\":0.5},\"pattern\":{\"fillmode\":\"overlay\",\"size\":10,\"solidity\":0.2}},\"type\":\"bar\"}],\"scattergeo\":[{\"type\":\"scattergeo\",\"marker\":{\"colorbar\":{\"outlinewidth\":0,\"ticks\":\"\"}}}],\"scatterpolar\":[{\"type\":\"scatterpolar\",\"marker\":{\"colorbar\":{\"outlinewidth\":0,\"ticks\":\"\"}}}],\"histogram\":[{\"marker\":{\"pattern\":{\"fillmode\":\"overlay\",\"size\":10,\"solidity\":0.2}},\"type\":\"histogram\"}],\"scattergl\":[{\"type\":\"scattergl\",\"marker\":{\"colorbar\":{\"outlinewidth\":0,\"ticks\":\"\"}}}],\"scatter3d\":[{\"type\":\"scatter3d\",\"line\":{\"colorbar\":{\"outlinewidth\":0,\"ticks\":\"\"}},\"marker\":{\"colorbar\":{\"outlinewidth\":0,\"ticks\":\"\"}}}],\"scattermapbox\":[{\"type\":\"scattermapbox\",\"marker\":{\"colorbar\":{\"outlinewidth\":0,\"ticks\":\"\"}}}],\"scatterternary\":[{\"type\":\"scatterternary\",\"marker\":{\"colorbar\":{\"outlinewidth\":0,\"ticks\":\"\"}}}],\"scattercarpet\":[{\"type\":\"scattercarpet\",\"marker\":{\"colorbar\":{\"outlinewidth\":0,\"ticks\":\"\"}}}],\"carpet\":[{\"aaxis\":{\"endlinecolor\":\"#2a3f5f\",\"gridcolor\":\"white\",\"linecolor\":\"white\",\"minorgridcolor\":\"white\",\"startlinecolor\":\"#2a3f5f\"},\"baxis\":{\"endlinecolor\":\"#2a3f5f\",\"gridcolor\":\"white\",\"linecolor\":\"white\",\"minorgridcolor\":\"white\",\"startlinecolor\":\"#2a3f5f\"},\"type\":\"carpet\"}],\"table\":[{\"cells\":{\"fill\":{\"color\":\"#EBF0F8\"},\"line\":{\"color\":\"white\"}},\"header\":{\"fill\":{\"color\":\"#C8D4E3\"},\"line\":{\"color\":\"white\"}},\"type\":\"table\"}],\"barpolar\":[{\"marker\":{\"line\":{\"color\":\"#E5ECF6\",\"width\":0.5},\"pattern\":{\"fillmode\":\"overlay\",\"size\":10,\"solidity\":0.2}},\"type\":\"barpolar\"}],\"pie\":[{\"automargin\":true,\"type\":\"pie\"}]},\"layout\":{\"autotypenumbers\":\"strict\",\"colorway\":[\"#636efa\",\"#EF553B\",\"#00cc96\",\"#ab63fa\",\"#FFA15A\",\"#19d3f3\",\"#FF6692\",\"#B6E880\",\"#FF97FF\",\"#FECB52\"],\"font\":{\"color\":\"#2a3f5f\"},\"hovermode\":\"closest\",\"hoverlabel\":{\"align\":\"left\"},\"paper_bgcolor\":\"white\",\"plot_bgcolor\":\"#E5ECF6\",\"polar\":{\"bgcolor\":\"#E5ECF6\",\"angularaxis\":{\"gridcolor\":\"white\",\"linecolor\":\"white\",\"ticks\":\"\"},\"radialaxis\":{\"gridcolor\":\"white\",\"linecolor\":\"white\",\"ticks\":\"\"}},\"ternary\":{\"bgcolor\":\"#E5ECF6\",\"aaxis\":{\"gridcolor\":\"white\",\"linecolor\":\"white\",\"ticks\":\"\"},\"baxis\":{\"gridcolor\":\"white\",\"linecolor\":\"white\",\"ticks\":\"\"},\"caxis\":{\"gridcolor\":\"white\",\"linecolor\":\"white\",\"ticks\":\"\"}},\"coloraxis\":{\"colorbar\":{\"outlinewidth\":0,\"ticks\":\"\"}},\"colorscale\":{\"sequential\":[[0.0,\"#0d0887\"],[0.1111111111111111,\"#46039f\"],[0.2222222222222222,\"#7201a8\"],[0.3333333333333333,\"#9c179e\"],[0.4444444444444444,\"#bd3786\"],[0.5555555555555556,\"#d8576b\"],[0.6666666666666666,\"#ed7953\"],[0.7777777777777778,\"#fb9f3a\"],[0.8888888888888888,\"#fdca26\"],[1.0,\"#f0f921\"]],\"sequentialminus\":[[0.0,\"#0d0887\"],[0.1111111111111111,\"#46039f\"],[0.2222222222222222,\"#7201a8\"],[0.3333333333333333,\"#9c179e\"],[0.4444444444444444,\"#bd3786\"],[0.5555555555555556,\"#d8576b\"],[0.6666666666666666,\"#ed7953\"],[0.7777777777777778,\"#fb9f3a\"],[0.8888888888888888,\"#fdca26\"],[1.0,\"#f0f921\"]],\"diverging\":[[0,\"#8e0152\"],[0.1,\"#c51b7d\"],[0.2,\"#de77ae\"],[0.3,\"#f1b6da\"],[0.4,\"#fde0ef\"],[0.5,\"#f7f7f7\"],[0.6,\"#e6f5d0\"],[0.7,\"#b8e186\"],[0.8,\"#7fbc41\"],[0.9,\"#4d9221\"],[1,\"#276419\"]]},\"xaxis\":{\"gridcolor\":\"white\",\"linecolor\":\"white\",\"ticks\":\"\",\"title\":{\"standoff\":15},\"zerolinecolor\":\"white\",\"automargin\":true,\"zerolinewidth\":2},\"yaxis\":{\"gridcolor\":\"white\",\"linecolor\":\"white\",\"ticks\":\"\",\"title\":{\"standoff\":15},\"zerolinecolor\":\"white\",\"automargin\":true,\"zerolinewidth\":2},\"scene\":{\"xaxis\":{\"backgroundcolor\":\"#E5ECF6\",\"gridcolor\":\"white\",\"linecolor\":\"white\",\"showbackground\":true,\"ticks\":\"\",\"zerolinecolor\":\"white\",\"gridwidth\":2},\"yaxis\":{\"backgroundcolor\":\"#E5ECF6\",\"gridcolor\":\"white\",\"linecolor\":\"white\",\"showbackground\":true,\"ticks\":\"\",\"zerolinecolor\":\"white\",\"gridwidth\":2},\"zaxis\":{\"backgroundcolor\":\"#E5ECF6\",\"gridcolor\":\"white\",\"linecolor\":\"white\",\"showbackground\":true,\"ticks\":\"\",\"zerolinecolor\":\"white\",\"gridwidth\":2}},\"shapedefaults\":{\"line\":{\"color\":\"#2a3f5f\"}},\"annotationdefaults\":{\"arrowcolor\":\"#2a3f5f\",\"arrowhead\":0,\"arrowwidth\":1},\"geo\":{\"bgcolor\":\"white\",\"landcolor\":\"#E5ECF6\",\"subunitcolor\":\"white\",\"showland\":true,\"showlakes\":true,\"lakecolor\":\"white\"},\"title\":{\"x\":0.05},\"mapbox\":{\"style\":\"light\"}}},\"xaxis\":{\"anchor\":\"y\",\"domain\":[0.0,0.94],\"title\":{\"text\":\"data\"}},\"yaxis\":{\"anchor\":\"x\",\"domain\":[0.0,1.0],\"title\":{\"text\":\"predics\"}},\"yaxis2\":{\"anchor\":\"x\",\"overlaying\":\"y\",\"side\":\"right\",\"title\":{\"text\":\"% error\"},\"range\":[-20,20],\"showgrid\":false,\"tick0\":-5,\"dtick\":2}},                        {\"responsive\": true}                    ).then(function(){\n",
              "                            \n",
              "var gd = document.getElementById('d2335471-48cb-4716-8ca6-87cbb09e51bd');\n",
              "var x = new MutationObserver(function (mutations, observer) {{\n",
              "        var display = window.getComputedStyle(gd).display;\n",
              "        if (!display || display === 'none') {{\n",
              "            console.log([gd, 'removed!']);\n",
              "            Plotly.purge(gd);\n",
              "            observer.disconnect();\n",
              "        }}\n",
              "}});\n",
              "\n",
              "// Listen for the removal of the full notebook cells\n",
              "var notebookContainer = gd.closest('#notebook-container');\n",
              "if (notebookContainer) {{\n",
              "    x.observe(notebookContainer, {childList: true});\n",
              "}}\n",
              "\n",
              "// Listen for the clearing of the current output cell\n",
              "var outputEl = gd.closest('.output');\n",
              "if (outputEl) {{\n",
              "    x.observe(outputEl, {childList: true});\n",
              "}}\n",
              "\n",
              "                        })                };                            </script>        </div>\n",
              "</body>\n",
              "</html>"
            ]
          },
          "metadata": {}
        }
      ]
    },
    {
      "cell_type": "code",
      "source": [
        "fig = make_subplots(specs=[[{\"secondary_y\": True}]])\n",
        "fig.add_trace(go.Scatter(x=X1[:,0], y=T1[:,0], mode='markers', marker_color='blue', name='data'),secondary_y=False)\n",
        "fig.add_trace(go.Scatter(x=X1[:,0], y=errors1[:,0], mode='markers', marker_size=4, marker_color='orange', name='errors'),secondary_y=True)\n",
        "\n",
        "X_mean, X_wigth = X1[:,0].mean(), X1[:,0].max()-X1[:,0].mean()\n",
        "X_extended=np.linspace(X_mean-2*X_wigth, X_mean+2*X_wigth, 51)\n",
        "\n",
        "fig.add_trace(go.Scatter(x=X_extended, y=scaler_T1.inverse_transform(svr1.predict(scaler_X1.transform(X_extended.reshape(51,1))).reshape(-1,1))[:,0], mode='markers', marker_size=3, name='extenden prediction'),secondary_y=False)\n",
        "fig.add_trace(go.Scatter(x=X1[:,0], y=predics1[:,0], mode='markers', marker_color='black', name='prediction'),secondary_y=False)\n",
        "\n",
        "fig.update_xaxes(title_text=\"x_axis\")\n",
        "\n",
        "# Set y-axes titles\n",
        "fig.update_yaxes(title_text=\"data, predics\", secondary_y=False)\n",
        "fig.update_yaxes(title_text=\"% error\", range=[-20, 20], secondary_y=True, showgrid=False, tick0=-5, dtick=2)\n",
        "\n",
        "fig.show()"
      ],
      "metadata": {
        "colab": {
          "base_uri": "https://localhost:8080/",
          "height": 542
        },
        "id": "uafdN_anXNEQ",
        "outputId": "88ab4746-1c78-46e5-d3ed-4248d20c230a"
      },
      "execution_count": 114,
      "outputs": [
        {
          "output_type": "display_data",
          "data": {
            "text/html": [
              "<html>\n",
              "<head><meta charset=\"utf-8\" /></head>\n",
              "<body>\n",
              "    <div>            <script src=\"https://cdnjs.cloudflare.com/ajax/libs/mathjax/2.7.5/MathJax.js?config=TeX-AMS-MML_SVG\"></script><script type=\"text/javascript\">if (window.MathJax && window.MathJax.Hub && window.MathJax.Hub.Config) {window.MathJax.Hub.Config({SVG: {font: \"STIX-Web\"}});}</script>                <script type=\"text/javascript\">window.PlotlyConfig = {MathJaxConfig: 'local'};</script>\n",
              "        <script charset=\"utf-8\" src=\"https://cdn.plot.ly/plotly-2.24.1.min.js\"></script>                <div id=\"8fc1a9cd-9275-45cb-9cd5-d3523bdcd9e4\" class=\"plotly-graph-div\" style=\"height:525px; width:100%;\"></div>            <script type=\"text/javascript\">                                    window.PLOTLYENV=window.PLOTLYENV || {};                                    if (document.getElementById(\"8fc1a9cd-9275-45cb-9cd5-d3523bdcd9e4\")) {                    Plotly.newPlot(                        \"8fc1a9cd-9275-45cb-9cd5-d3523bdcd9e4\",                        [{\"marker\":{\"color\":\"blue\"},\"mode\":\"markers\",\"name\":\"data\",\"x\":[-1.0,-0.7,-0.4,-0.10000000000000009,0.19999999999999996,0.5,0.7999999999999998,1.1,1.4,1.6999999999999997,2.0],\"y\":[2.0,1.49,1.1600000000000001,1.01,1.04,1.25,1.6399999999999997,2.21,2.96,3.8899999999999992,5.0],\"type\":\"scatter\",\"xaxis\":\"x\",\"yaxis\":\"y\"},{\"marker\":{\"color\":\"orange\",\"size\":4},\"mode\":\"markers\",\"name\":\"errors\",\"x\":[-1.0,-0.7,-0.4,-0.10000000000000009,0.19999999999999996,0.5,0.7999999999999998,1.1,1.4,1.6999999999999997,2.0],\"y\":[-0.0763332406737538,8.310744965296424,10.729133677089218,12.202692994374527,11.889478591090404,9.896503166084845,7.564343566649318,-1.498248996718948,-4.179112544134563,-3.1923384911434973,-24.72845201984298],\"type\":\"scatter\",\"xaxis\":\"x\",\"yaxis\":\"y2\"},{\"marker\":{\"size\":3},\"mode\":\"markers\",\"name\":\"extenden prediction\",\"x\":[-2.5,-2.38,-2.26,-2.14,-2.02,-1.9,-1.78,-1.6600000000000001,-1.54,-1.42,-1.3,-1.1800000000000002,-1.06,-0.94,-0.8200000000000001,-0.7000000000000002,-0.5800000000000001,-0.45999999999999996,-0.33999999999999986,-0.2200000000000002,-0.10000000000000009,0.020000000000000018,0.13999999999999968,0.2599999999999998,0.3799999999999999,0.5,0.6200000000000001,0.7399999999999998,0.8599999999999999,0.98,1.0999999999999996,1.2199999999999998,1.3399999999999999,1.46,1.58,1.7000000000000002,1.8200000000000003,1.9399999999999995,2.0599999999999996,2.1799999999999997,2.3,2.42,2.54,2.66,2.7799999999999994,2.8999999999999995,3.0199999999999996,3.1399999999999997,3.26,3.38,3.5],\"y\":[2.1241936796529477,2.12419367965294,2.1241936796523757,2.1241936796217096,2.1241936784144153,2.1241936439928066,2.1241929339922923,2.1241823543127305,2.1240686919165532,2.1231906081591267,2.118329584343445,2.099124967179557,2.04518241038345,1.9374547239877014,1.7824023656163934,1.6138300999829172,1.4616271153560358,1.336261150181076,1.2399237674266987,1.1719781857704197,1.1332471992431827,1.1251876728362165,1.1444166443436021,1.189689187942987,1.2642948896163237,1.3737062895760606,1.518416025213095,1.681986173985446,1.844630288034994,2.0043416801464238,2.1768886971725103,2.3884233786905797,2.6667593085398535,3.024153971601597,3.4231839788354246,3.7658180326945185,3.9474113656239593,3.8929563162008107,3.5708954315662345,3.0712983200711497,2.599269865799508,2.301925701839986,2.1730894631258515,2.134018394522898,2.125630944635647,2.124346540148619,2.12420549133307,2.1241943425686425,2.1241937066724685,2.1241936804526786,2.1241936796701366],\"type\":\"scatter\",\"xaxis\":\"x\",\"yaxis\":\"y\"},{\"marker\":{\"color\":\"black\"},\"mode\":\"markers\",\"name\":\"prediction\",\"x\":[-1.0,-0.7,-0.4,-0.10000000000000009,0.19999999999999996,0.5,0.7999999999999998,1.1,1.4,1.6999999999999997,2.0],\"y\":[1.998473335186525,1.6138300999829167,1.284457950654235,1.1332471992431827,1.1636505773473402,1.3737062895760606,1.7640552344930485,2.176888697172511,2.836298268693617,3.765818032694517,3.763577399007851],\"type\":\"scatter\",\"xaxis\":\"x\",\"yaxis\":\"y\"}],                        {\"template\":{\"data\":{\"histogram2dcontour\":[{\"type\":\"histogram2dcontour\",\"colorbar\":{\"outlinewidth\":0,\"ticks\":\"\"},\"colorscale\":[[0.0,\"#0d0887\"],[0.1111111111111111,\"#46039f\"],[0.2222222222222222,\"#7201a8\"],[0.3333333333333333,\"#9c179e\"],[0.4444444444444444,\"#bd3786\"],[0.5555555555555556,\"#d8576b\"],[0.6666666666666666,\"#ed7953\"],[0.7777777777777778,\"#fb9f3a\"],[0.8888888888888888,\"#fdca26\"],[1.0,\"#f0f921\"]]}],\"choropleth\":[{\"type\":\"choropleth\",\"colorbar\":{\"outlinewidth\":0,\"ticks\":\"\"}}],\"histogram2d\":[{\"type\":\"histogram2d\",\"colorbar\":{\"outlinewidth\":0,\"ticks\":\"\"},\"colorscale\":[[0.0,\"#0d0887\"],[0.1111111111111111,\"#46039f\"],[0.2222222222222222,\"#7201a8\"],[0.3333333333333333,\"#9c179e\"],[0.4444444444444444,\"#bd3786\"],[0.5555555555555556,\"#d8576b\"],[0.6666666666666666,\"#ed7953\"],[0.7777777777777778,\"#fb9f3a\"],[0.8888888888888888,\"#fdca26\"],[1.0,\"#f0f921\"]]}],\"heatmap\":[{\"type\":\"heatmap\",\"colorbar\":{\"outlinewidth\":0,\"ticks\":\"\"},\"colorscale\":[[0.0,\"#0d0887\"],[0.1111111111111111,\"#46039f\"],[0.2222222222222222,\"#7201a8\"],[0.3333333333333333,\"#9c179e\"],[0.4444444444444444,\"#bd3786\"],[0.5555555555555556,\"#d8576b\"],[0.6666666666666666,\"#ed7953\"],[0.7777777777777778,\"#fb9f3a\"],[0.8888888888888888,\"#fdca26\"],[1.0,\"#f0f921\"]]}],\"heatmapgl\":[{\"type\":\"heatmapgl\",\"colorbar\":{\"outlinewidth\":0,\"ticks\":\"\"},\"colorscale\":[[0.0,\"#0d0887\"],[0.1111111111111111,\"#46039f\"],[0.2222222222222222,\"#7201a8\"],[0.3333333333333333,\"#9c179e\"],[0.4444444444444444,\"#bd3786\"],[0.5555555555555556,\"#d8576b\"],[0.6666666666666666,\"#ed7953\"],[0.7777777777777778,\"#fb9f3a\"],[0.8888888888888888,\"#fdca26\"],[1.0,\"#f0f921\"]]}],\"contourcarpet\":[{\"type\":\"contourcarpet\",\"colorbar\":{\"outlinewidth\":0,\"ticks\":\"\"}}],\"contour\":[{\"type\":\"contour\",\"colorbar\":{\"outlinewidth\":0,\"ticks\":\"\"},\"colorscale\":[[0.0,\"#0d0887\"],[0.1111111111111111,\"#46039f\"],[0.2222222222222222,\"#7201a8\"],[0.3333333333333333,\"#9c179e\"],[0.4444444444444444,\"#bd3786\"],[0.5555555555555556,\"#d8576b\"],[0.6666666666666666,\"#ed7953\"],[0.7777777777777778,\"#fb9f3a\"],[0.8888888888888888,\"#fdca26\"],[1.0,\"#f0f921\"]]}],\"surface\":[{\"type\":\"surface\",\"colorbar\":{\"outlinewidth\":0,\"ticks\":\"\"},\"colorscale\":[[0.0,\"#0d0887\"],[0.1111111111111111,\"#46039f\"],[0.2222222222222222,\"#7201a8\"],[0.3333333333333333,\"#9c179e\"],[0.4444444444444444,\"#bd3786\"],[0.5555555555555556,\"#d8576b\"],[0.6666666666666666,\"#ed7953\"],[0.7777777777777778,\"#fb9f3a\"],[0.8888888888888888,\"#fdca26\"],[1.0,\"#f0f921\"]]}],\"mesh3d\":[{\"type\":\"mesh3d\",\"colorbar\":{\"outlinewidth\":0,\"ticks\":\"\"}}],\"scatter\":[{\"fillpattern\":{\"fillmode\":\"overlay\",\"size\":10,\"solidity\":0.2},\"type\":\"scatter\"}],\"parcoords\":[{\"type\":\"parcoords\",\"line\":{\"colorbar\":{\"outlinewidth\":0,\"ticks\":\"\"}}}],\"scatterpolargl\":[{\"type\":\"scatterpolargl\",\"marker\":{\"colorbar\":{\"outlinewidth\":0,\"ticks\":\"\"}}}],\"bar\":[{\"error_x\":{\"color\":\"#2a3f5f\"},\"error_y\":{\"color\":\"#2a3f5f\"},\"marker\":{\"line\":{\"color\":\"#E5ECF6\",\"width\":0.5},\"pattern\":{\"fillmode\":\"overlay\",\"size\":10,\"solidity\":0.2}},\"type\":\"bar\"}],\"scattergeo\":[{\"type\":\"scattergeo\",\"marker\":{\"colorbar\":{\"outlinewidth\":0,\"ticks\":\"\"}}}],\"scatterpolar\":[{\"type\":\"scatterpolar\",\"marker\":{\"colorbar\":{\"outlinewidth\":0,\"ticks\":\"\"}}}],\"histogram\":[{\"marker\":{\"pattern\":{\"fillmode\":\"overlay\",\"size\":10,\"solidity\":0.2}},\"type\":\"histogram\"}],\"scattergl\":[{\"type\":\"scattergl\",\"marker\":{\"colorbar\":{\"outlinewidth\":0,\"ticks\":\"\"}}}],\"scatter3d\":[{\"type\":\"scatter3d\",\"line\":{\"colorbar\":{\"outlinewidth\":0,\"ticks\":\"\"}},\"marker\":{\"colorbar\":{\"outlinewidth\":0,\"ticks\":\"\"}}}],\"scattermapbox\":[{\"type\":\"scattermapbox\",\"marker\":{\"colorbar\":{\"outlinewidth\":0,\"ticks\":\"\"}}}],\"scatterternary\":[{\"type\":\"scatterternary\",\"marker\":{\"colorbar\":{\"outlinewidth\":0,\"ticks\":\"\"}}}],\"scattercarpet\":[{\"type\":\"scattercarpet\",\"marker\":{\"colorbar\":{\"outlinewidth\":0,\"ticks\":\"\"}}}],\"carpet\":[{\"aaxis\":{\"endlinecolor\":\"#2a3f5f\",\"gridcolor\":\"white\",\"linecolor\":\"white\",\"minorgridcolor\":\"white\",\"startlinecolor\":\"#2a3f5f\"},\"baxis\":{\"endlinecolor\":\"#2a3f5f\",\"gridcolor\":\"white\",\"linecolor\":\"white\",\"minorgridcolor\":\"white\",\"startlinecolor\":\"#2a3f5f\"},\"type\":\"carpet\"}],\"table\":[{\"cells\":{\"fill\":{\"color\":\"#EBF0F8\"},\"line\":{\"color\":\"white\"}},\"header\":{\"fill\":{\"color\":\"#C8D4E3\"},\"line\":{\"color\":\"white\"}},\"type\":\"table\"}],\"barpolar\":[{\"marker\":{\"line\":{\"color\":\"#E5ECF6\",\"width\":0.5},\"pattern\":{\"fillmode\":\"overlay\",\"size\":10,\"solidity\":0.2}},\"type\":\"barpolar\"}],\"pie\":[{\"automargin\":true,\"type\":\"pie\"}]},\"layout\":{\"autotypenumbers\":\"strict\",\"colorway\":[\"#636efa\",\"#EF553B\",\"#00cc96\",\"#ab63fa\",\"#FFA15A\",\"#19d3f3\",\"#FF6692\",\"#B6E880\",\"#FF97FF\",\"#FECB52\"],\"font\":{\"color\":\"#2a3f5f\"},\"hovermode\":\"closest\",\"hoverlabel\":{\"align\":\"left\"},\"paper_bgcolor\":\"white\",\"plot_bgcolor\":\"#E5ECF6\",\"polar\":{\"bgcolor\":\"#E5ECF6\",\"angularaxis\":{\"gridcolor\":\"white\",\"linecolor\":\"white\",\"ticks\":\"\"},\"radialaxis\":{\"gridcolor\":\"white\",\"linecolor\":\"white\",\"ticks\":\"\"}},\"ternary\":{\"bgcolor\":\"#E5ECF6\",\"aaxis\":{\"gridcolor\":\"white\",\"linecolor\":\"white\",\"ticks\":\"\"},\"baxis\":{\"gridcolor\":\"white\",\"linecolor\":\"white\",\"ticks\":\"\"},\"caxis\":{\"gridcolor\":\"white\",\"linecolor\":\"white\",\"ticks\":\"\"}},\"coloraxis\":{\"colorbar\":{\"outlinewidth\":0,\"ticks\":\"\"}},\"colorscale\":{\"sequential\":[[0.0,\"#0d0887\"],[0.1111111111111111,\"#46039f\"],[0.2222222222222222,\"#7201a8\"],[0.3333333333333333,\"#9c179e\"],[0.4444444444444444,\"#bd3786\"],[0.5555555555555556,\"#d8576b\"],[0.6666666666666666,\"#ed7953\"],[0.7777777777777778,\"#fb9f3a\"],[0.8888888888888888,\"#fdca26\"],[1.0,\"#f0f921\"]],\"sequentialminus\":[[0.0,\"#0d0887\"],[0.1111111111111111,\"#46039f\"],[0.2222222222222222,\"#7201a8\"],[0.3333333333333333,\"#9c179e\"],[0.4444444444444444,\"#bd3786\"],[0.5555555555555556,\"#d8576b\"],[0.6666666666666666,\"#ed7953\"],[0.7777777777777778,\"#fb9f3a\"],[0.8888888888888888,\"#fdca26\"],[1.0,\"#f0f921\"]],\"diverging\":[[0,\"#8e0152\"],[0.1,\"#c51b7d\"],[0.2,\"#de77ae\"],[0.3,\"#f1b6da\"],[0.4,\"#fde0ef\"],[0.5,\"#f7f7f7\"],[0.6,\"#e6f5d0\"],[0.7,\"#b8e186\"],[0.8,\"#7fbc41\"],[0.9,\"#4d9221\"],[1,\"#276419\"]]},\"xaxis\":{\"gridcolor\":\"white\",\"linecolor\":\"white\",\"ticks\":\"\",\"title\":{\"standoff\":15},\"zerolinecolor\":\"white\",\"automargin\":true,\"zerolinewidth\":2},\"yaxis\":{\"gridcolor\":\"white\",\"linecolor\":\"white\",\"ticks\":\"\",\"title\":{\"standoff\":15},\"zerolinecolor\":\"white\",\"automargin\":true,\"zerolinewidth\":2},\"scene\":{\"xaxis\":{\"backgroundcolor\":\"#E5ECF6\",\"gridcolor\":\"white\",\"linecolor\":\"white\",\"showbackground\":true,\"ticks\":\"\",\"zerolinecolor\":\"white\",\"gridwidth\":2},\"yaxis\":{\"backgroundcolor\":\"#E5ECF6\",\"gridcolor\":\"white\",\"linecolor\":\"white\",\"showbackground\":true,\"ticks\":\"\",\"zerolinecolor\":\"white\",\"gridwidth\":2},\"zaxis\":{\"backgroundcolor\":\"#E5ECF6\",\"gridcolor\":\"white\",\"linecolor\":\"white\",\"showbackground\":true,\"ticks\":\"\",\"zerolinecolor\":\"white\",\"gridwidth\":2}},\"shapedefaults\":{\"line\":{\"color\":\"#2a3f5f\"}},\"annotationdefaults\":{\"arrowcolor\":\"#2a3f5f\",\"arrowhead\":0,\"arrowwidth\":1},\"geo\":{\"bgcolor\":\"white\",\"landcolor\":\"#E5ECF6\",\"subunitcolor\":\"white\",\"showland\":true,\"showlakes\":true,\"lakecolor\":\"white\"},\"title\":{\"x\":0.05},\"mapbox\":{\"style\":\"light\"}}},\"xaxis\":{\"anchor\":\"y\",\"domain\":[0.0,0.94],\"title\":{\"text\":\"x_axis\"}},\"yaxis\":{\"anchor\":\"x\",\"domain\":[0.0,1.0],\"title\":{\"text\":\"data, predics\"}},\"yaxis2\":{\"anchor\":\"x\",\"overlaying\":\"y\",\"side\":\"right\",\"title\":{\"text\":\"% error\"},\"range\":[-20,20],\"showgrid\":false,\"tick0\":-5,\"dtick\":2}},                        {\"responsive\": true}                    ).then(function(){\n",
              "                            \n",
              "var gd = document.getElementById('8fc1a9cd-9275-45cb-9cd5-d3523bdcd9e4');\n",
              "var x = new MutationObserver(function (mutations, observer) {{\n",
              "        var display = window.getComputedStyle(gd).display;\n",
              "        if (!display || display === 'none') {{\n",
              "            console.log([gd, 'removed!']);\n",
              "            Plotly.purge(gd);\n",
              "            observer.disconnect();\n",
              "        }}\n",
              "}});\n",
              "\n",
              "// Listen for the removal of the full notebook cells\n",
              "var notebookContainer = gd.closest('#notebook-container');\n",
              "if (notebookContainer) {{\n",
              "    x.observe(notebookContainer, {childList: true});\n",
              "}}\n",
              "\n",
              "// Listen for the clearing of the current output cell\n",
              "var outputEl = gd.closest('.output');\n",
              "if (outputEl) {{\n",
              "    x.observe(outputEl, {childList: true});\n",
              "}}\n",
              "\n",
              "                        })                };                            </script>        </div>\n",
              "</body>\n",
              "</html>"
            ]
          },
          "metadata": {}
        }
      ]
    },
    {
      "cell_type": "markdown",
      "source": [
        "## 1_2"
      ],
      "metadata": {
        "id": "2EaleSsQa3-V"
      }
    },
    {
      "cell_type": "code",
      "source": [
        "svr1_2=SVR(kernel='poly',degree=2,coef0=1)\n",
        "svr1_2.fit(X_sc1,T_sc1.ravel())\n",
        "predics1_2=scaler_T1.inverse_transform(svr1_2.predict(X_sc1).reshape(-1,1))\n",
        "# predics1_2"
      ],
      "metadata": {
        "id": "NV7XwmHDYAxM"
      },
      "execution_count": 133,
      "outputs": []
    },
    {
      "cell_type": "code",
      "source": [
        "fig = make_subplots(specs=[[{\"secondary_y\": True}]])\n",
        "fig.add_trace(go.Scatter(x=X1[:,0], y=T1[:,0], mode='markers', marker_color='blue', name='data'),secondary_y=False)\n",
        "# fig.add_trace(go.Scatter(x=X1[:,0], y=errors1[:,0], mode='markers', marker_size=4, marker_color='orange', name='errors'),secondary_y=True)\n",
        "\n",
        "X_mean, X_wigth = X1[:,0].mean(), X1[:,0].max()-X1[:,0].mean()\n",
        "X_extended=np.linspace(X_mean-2*X_wigth, X_mean+2*X_wigth, 51)\n",
        "\n",
        "fig.add_trace(go.Scatter(x=X_extended, y=scaler_T1.inverse_transform(svr1_2.predict(scaler_X1.transform(X_extended.reshape(-1,1))).reshape(-1,1))[:,0], mode='markers', marker_size=3, name='extenden prediction'),secondary_y=False)\n",
        "fig.add_trace(go.Scatter(x=X1[:,0], y=predics1_2[:,0], mode='markers', marker_color='black', name='prediction'),secondary_y=False)\n",
        "\n",
        "fig.update_xaxes(title_text=\"x_axis\")\n",
        "\n",
        "# Set y-axes titles\n",
        "fig.update_yaxes(title_text=\"data, predics\", secondary_y=False)\n",
        "fig.update_yaxes(title_text=\"% error\", range=[-20, 20], secondary_y=True, showgrid=False, tick0=-5, dtick=2)\n",
        "\n",
        "fig.show()"
      ],
      "metadata": {
        "colab": {
          "base_uri": "https://localhost:8080/",
          "height": 542
        },
        "id": "sX5S8ZNMbB5z",
        "outputId": "5615903d-e031-481c-d3be-e2625e6b22c8"
      },
      "execution_count": 134,
      "outputs": [
        {
          "output_type": "display_data",
          "data": {
            "text/html": [
              "<html>\n",
              "<head><meta charset=\"utf-8\" /></head>\n",
              "<body>\n",
              "    <div>            <script src=\"https://cdnjs.cloudflare.com/ajax/libs/mathjax/2.7.5/MathJax.js?config=TeX-AMS-MML_SVG\"></script><script type=\"text/javascript\">if (window.MathJax && window.MathJax.Hub && window.MathJax.Hub.Config) {window.MathJax.Hub.Config({SVG: {font: \"STIX-Web\"}});}</script>                <script type=\"text/javascript\">window.PlotlyConfig = {MathJaxConfig: 'local'};</script>\n",
              "        <script charset=\"utf-8\" src=\"https://cdn.plot.ly/plotly-2.24.1.min.js\"></script>                <div id=\"b8daa0a2-d865-4cc7-b589-cdaa3fb3fcff\" class=\"plotly-graph-div\" style=\"height:525px; width:100%;\"></div>            <script type=\"text/javascript\">                                    window.PLOTLYENV=window.PLOTLYENV || {};                                    if (document.getElementById(\"b8daa0a2-d865-4cc7-b589-cdaa3fb3fcff\")) {                    Plotly.newPlot(                        \"b8daa0a2-d865-4cc7-b589-cdaa3fb3fcff\",                        [{\"marker\":{\"color\":\"blue\"},\"mode\":\"markers\",\"name\":\"data\",\"x\":[-1.0,-0.7,-0.4,-0.10000000000000009,0.19999999999999996,0.5,0.7999999999999998,1.1,1.4,1.6999999999999997,2.0],\"y\":[2.0,1.49,1.1600000000000001,1.01,1.04,1.25,1.6399999999999997,2.21,2.96,3.8899999999999992,5.0],\"type\":\"scatter\",\"xaxis\":\"x\",\"yaxis\":\"y\"},{\"marker\":{\"size\":3},\"mode\":\"markers\",\"name\":\"extenden prediction\",\"x\":[-2.5,-2.38,-2.26,-2.14,-2.02,-1.9,-1.78,-1.6600000000000001,-1.54,-1.42,-1.3,-1.1800000000000002,-1.06,-0.94,-0.8200000000000001,-0.7000000000000002,-0.5800000000000001,-0.45999999999999996,-0.33999999999999986,-0.2200000000000002,-0.10000000000000009,0.020000000000000018,0.13999999999999968,0.2599999999999998,0.3799999999999999,0.5,0.6200000000000001,0.7399999999999998,0.8599999999999999,0.98,1.0999999999999996,1.2199999999999998,1.3399999999999999,1.46,1.58,1.7000000000000002,1.8200000000000003,1.9399999999999995,2.0599999999999996,2.1799999999999997,2.3,2.42,2.54,2.66,2.7799999999999994,2.8999999999999995,3.0199999999999996,3.1399999999999997,3.26,3.38,3.5],\"y\":[6.383742260395631,5.8757500842597175,5.393390495599252,4.936663494414233,4.505569080704654,4.100107254470521,3.7202780157118314,3.3660813644285876,3.037517300620788,2.7345858242884304,2.4572869354315188,2.205620634050051,1.9795869201440266,1.779185793713447,1.6044172547583122,1.4552813032786212,1.331777939274374,1.2339071627455713,1.1616689736922128,1.1150633721142986,1.0940903580118286,1.0987499313848028,1.129042092233221,1.1849668405570837,1.2665241763563906,1.3737140996311417,1.5065366103813371,1.6649917086069759,1.8490793943080597,2.058799667484588,2.2941525281365593,2.5551379762639757,2.8417560118668366,3.154006634945141,3.4918898454988905,3.8554056435280843,4.244554029032722,4.659335002012801,5.099748562468327,5.565794710399297,6.057473445805711,6.57478476868757,7.117728679044873,7.686305176877621,8.280514262185806,8.900355934969445,9.545830195228522,10.21693704296305,10.913676478173015,11.636048500858427,12.38405311101929],\"type\":\"scatter\",\"xaxis\":\"x\",\"yaxis\":\"y\"},{\"marker\":{\"color\":\"black\"},\"mode\":\"markers\",\"name\":\"prediction\",\"x\":[-1.0,-0.7,-0.4,-0.10000000000000009,0.19999999999999996,0.5,0.7999999999999998,1.1,1.4,1.6999999999999997,2.0],\"y\":[1.8761822834943067,1.4552813032786207,1.1945839947844614,1.0940903580118286,1.153800392960722,1.3737140996311417,1.7538314780230875,2.29415252813656,2.9946772499715584,3.8554056435280835,4.876337708806135],\"type\":\"scatter\",\"xaxis\":\"x\",\"yaxis\":\"y\"}],                        {\"template\":{\"data\":{\"histogram2dcontour\":[{\"type\":\"histogram2dcontour\",\"colorbar\":{\"outlinewidth\":0,\"ticks\":\"\"},\"colorscale\":[[0.0,\"#0d0887\"],[0.1111111111111111,\"#46039f\"],[0.2222222222222222,\"#7201a8\"],[0.3333333333333333,\"#9c179e\"],[0.4444444444444444,\"#bd3786\"],[0.5555555555555556,\"#d8576b\"],[0.6666666666666666,\"#ed7953\"],[0.7777777777777778,\"#fb9f3a\"],[0.8888888888888888,\"#fdca26\"],[1.0,\"#f0f921\"]]}],\"choropleth\":[{\"type\":\"choropleth\",\"colorbar\":{\"outlinewidth\":0,\"ticks\":\"\"}}],\"histogram2d\":[{\"type\":\"histogram2d\",\"colorbar\":{\"outlinewidth\":0,\"ticks\":\"\"},\"colorscale\":[[0.0,\"#0d0887\"],[0.1111111111111111,\"#46039f\"],[0.2222222222222222,\"#7201a8\"],[0.3333333333333333,\"#9c179e\"],[0.4444444444444444,\"#bd3786\"],[0.5555555555555556,\"#d8576b\"],[0.6666666666666666,\"#ed7953\"],[0.7777777777777778,\"#fb9f3a\"],[0.8888888888888888,\"#fdca26\"],[1.0,\"#f0f921\"]]}],\"heatmap\":[{\"type\":\"heatmap\",\"colorbar\":{\"outlinewidth\":0,\"ticks\":\"\"},\"colorscale\":[[0.0,\"#0d0887\"],[0.1111111111111111,\"#46039f\"],[0.2222222222222222,\"#7201a8\"],[0.3333333333333333,\"#9c179e\"],[0.4444444444444444,\"#bd3786\"],[0.5555555555555556,\"#d8576b\"],[0.6666666666666666,\"#ed7953\"],[0.7777777777777778,\"#fb9f3a\"],[0.8888888888888888,\"#fdca26\"],[1.0,\"#f0f921\"]]}],\"heatmapgl\":[{\"type\":\"heatmapgl\",\"colorbar\":{\"outlinewidth\":0,\"ticks\":\"\"},\"colorscale\":[[0.0,\"#0d0887\"],[0.1111111111111111,\"#46039f\"],[0.2222222222222222,\"#7201a8\"],[0.3333333333333333,\"#9c179e\"],[0.4444444444444444,\"#bd3786\"],[0.5555555555555556,\"#d8576b\"],[0.6666666666666666,\"#ed7953\"],[0.7777777777777778,\"#fb9f3a\"],[0.8888888888888888,\"#fdca26\"],[1.0,\"#f0f921\"]]}],\"contourcarpet\":[{\"type\":\"contourcarpet\",\"colorbar\":{\"outlinewidth\":0,\"ticks\":\"\"}}],\"contour\":[{\"type\":\"contour\",\"colorbar\":{\"outlinewidth\":0,\"ticks\":\"\"},\"colorscale\":[[0.0,\"#0d0887\"],[0.1111111111111111,\"#46039f\"],[0.2222222222222222,\"#7201a8\"],[0.3333333333333333,\"#9c179e\"],[0.4444444444444444,\"#bd3786\"],[0.5555555555555556,\"#d8576b\"],[0.6666666666666666,\"#ed7953\"],[0.7777777777777778,\"#fb9f3a\"],[0.8888888888888888,\"#fdca26\"],[1.0,\"#f0f921\"]]}],\"surface\":[{\"type\":\"surface\",\"colorbar\":{\"outlinewidth\":0,\"ticks\":\"\"},\"colorscale\":[[0.0,\"#0d0887\"],[0.1111111111111111,\"#46039f\"],[0.2222222222222222,\"#7201a8\"],[0.3333333333333333,\"#9c179e\"],[0.4444444444444444,\"#bd3786\"],[0.5555555555555556,\"#d8576b\"],[0.6666666666666666,\"#ed7953\"],[0.7777777777777778,\"#fb9f3a\"],[0.8888888888888888,\"#fdca26\"],[1.0,\"#f0f921\"]]}],\"mesh3d\":[{\"type\":\"mesh3d\",\"colorbar\":{\"outlinewidth\":0,\"ticks\":\"\"}}],\"scatter\":[{\"fillpattern\":{\"fillmode\":\"overlay\",\"size\":10,\"solidity\":0.2},\"type\":\"scatter\"}],\"parcoords\":[{\"type\":\"parcoords\",\"line\":{\"colorbar\":{\"outlinewidth\":0,\"ticks\":\"\"}}}],\"scatterpolargl\":[{\"type\":\"scatterpolargl\",\"marker\":{\"colorbar\":{\"outlinewidth\":0,\"ticks\":\"\"}}}],\"bar\":[{\"error_x\":{\"color\":\"#2a3f5f\"},\"error_y\":{\"color\":\"#2a3f5f\"},\"marker\":{\"line\":{\"color\":\"#E5ECF6\",\"width\":0.5},\"pattern\":{\"fillmode\":\"overlay\",\"size\":10,\"solidity\":0.2}},\"type\":\"bar\"}],\"scattergeo\":[{\"type\":\"scattergeo\",\"marker\":{\"colorbar\":{\"outlinewidth\":0,\"ticks\":\"\"}}}],\"scatterpolar\":[{\"type\":\"scatterpolar\",\"marker\":{\"colorbar\":{\"outlinewidth\":0,\"ticks\":\"\"}}}],\"histogram\":[{\"marker\":{\"pattern\":{\"fillmode\":\"overlay\",\"size\":10,\"solidity\":0.2}},\"type\":\"histogram\"}],\"scattergl\":[{\"type\":\"scattergl\",\"marker\":{\"colorbar\":{\"outlinewidth\":0,\"ticks\":\"\"}}}],\"scatter3d\":[{\"type\":\"scatter3d\",\"line\":{\"colorbar\":{\"outlinewidth\":0,\"ticks\":\"\"}},\"marker\":{\"colorbar\":{\"outlinewidth\":0,\"ticks\":\"\"}}}],\"scattermapbox\":[{\"type\":\"scattermapbox\",\"marker\":{\"colorbar\":{\"outlinewidth\":0,\"ticks\":\"\"}}}],\"scatterternary\":[{\"type\":\"scatterternary\",\"marker\":{\"colorbar\":{\"outlinewidth\":0,\"ticks\":\"\"}}}],\"scattercarpet\":[{\"type\":\"scattercarpet\",\"marker\":{\"colorbar\":{\"outlinewidth\":0,\"ticks\":\"\"}}}],\"carpet\":[{\"aaxis\":{\"endlinecolor\":\"#2a3f5f\",\"gridcolor\":\"white\",\"linecolor\":\"white\",\"minorgridcolor\":\"white\",\"startlinecolor\":\"#2a3f5f\"},\"baxis\":{\"endlinecolor\":\"#2a3f5f\",\"gridcolor\":\"white\",\"linecolor\":\"white\",\"minorgridcolor\":\"white\",\"startlinecolor\":\"#2a3f5f\"},\"type\":\"carpet\"}],\"table\":[{\"cells\":{\"fill\":{\"color\":\"#EBF0F8\"},\"line\":{\"color\":\"white\"}},\"header\":{\"fill\":{\"color\":\"#C8D4E3\"},\"line\":{\"color\":\"white\"}},\"type\":\"table\"}],\"barpolar\":[{\"marker\":{\"line\":{\"color\":\"#E5ECF6\",\"width\":0.5},\"pattern\":{\"fillmode\":\"overlay\",\"size\":10,\"solidity\":0.2}},\"type\":\"barpolar\"}],\"pie\":[{\"automargin\":true,\"type\":\"pie\"}]},\"layout\":{\"autotypenumbers\":\"strict\",\"colorway\":[\"#636efa\",\"#EF553B\",\"#00cc96\",\"#ab63fa\",\"#FFA15A\",\"#19d3f3\",\"#FF6692\",\"#B6E880\",\"#FF97FF\",\"#FECB52\"],\"font\":{\"color\":\"#2a3f5f\"},\"hovermode\":\"closest\",\"hoverlabel\":{\"align\":\"left\"},\"paper_bgcolor\":\"white\",\"plot_bgcolor\":\"#E5ECF6\",\"polar\":{\"bgcolor\":\"#E5ECF6\",\"angularaxis\":{\"gridcolor\":\"white\",\"linecolor\":\"white\",\"ticks\":\"\"},\"radialaxis\":{\"gridcolor\":\"white\",\"linecolor\":\"white\",\"ticks\":\"\"}},\"ternary\":{\"bgcolor\":\"#E5ECF6\",\"aaxis\":{\"gridcolor\":\"white\",\"linecolor\":\"white\",\"ticks\":\"\"},\"baxis\":{\"gridcolor\":\"white\",\"linecolor\":\"white\",\"ticks\":\"\"},\"caxis\":{\"gridcolor\":\"white\",\"linecolor\":\"white\",\"ticks\":\"\"}},\"coloraxis\":{\"colorbar\":{\"outlinewidth\":0,\"ticks\":\"\"}},\"colorscale\":{\"sequential\":[[0.0,\"#0d0887\"],[0.1111111111111111,\"#46039f\"],[0.2222222222222222,\"#7201a8\"],[0.3333333333333333,\"#9c179e\"],[0.4444444444444444,\"#bd3786\"],[0.5555555555555556,\"#d8576b\"],[0.6666666666666666,\"#ed7953\"],[0.7777777777777778,\"#fb9f3a\"],[0.8888888888888888,\"#fdca26\"],[1.0,\"#f0f921\"]],\"sequentialminus\":[[0.0,\"#0d0887\"],[0.1111111111111111,\"#46039f\"],[0.2222222222222222,\"#7201a8\"],[0.3333333333333333,\"#9c179e\"],[0.4444444444444444,\"#bd3786\"],[0.5555555555555556,\"#d8576b\"],[0.6666666666666666,\"#ed7953\"],[0.7777777777777778,\"#fb9f3a\"],[0.8888888888888888,\"#fdca26\"],[1.0,\"#f0f921\"]],\"diverging\":[[0,\"#8e0152\"],[0.1,\"#c51b7d\"],[0.2,\"#de77ae\"],[0.3,\"#f1b6da\"],[0.4,\"#fde0ef\"],[0.5,\"#f7f7f7\"],[0.6,\"#e6f5d0\"],[0.7,\"#b8e186\"],[0.8,\"#7fbc41\"],[0.9,\"#4d9221\"],[1,\"#276419\"]]},\"xaxis\":{\"gridcolor\":\"white\",\"linecolor\":\"white\",\"ticks\":\"\",\"title\":{\"standoff\":15},\"zerolinecolor\":\"white\",\"automargin\":true,\"zerolinewidth\":2},\"yaxis\":{\"gridcolor\":\"white\",\"linecolor\":\"white\",\"ticks\":\"\",\"title\":{\"standoff\":15},\"zerolinecolor\":\"white\",\"automargin\":true,\"zerolinewidth\":2},\"scene\":{\"xaxis\":{\"backgroundcolor\":\"#E5ECF6\",\"gridcolor\":\"white\",\"linecolor\":\"white\",\"showbackground\":true,\"ticks\":\"\",\"zerolinecolor\":\"white\",\"gridwidth\":2},\"yaxis\":{\"backgroundcolor\":\"#E5ECF6\",\"gridcolor\":\"white\",\"linecolor\":\"white\",\"showbackground\":true,\"ticks\":\"\",\"zerolinecolor\":\"white\",\"gridwidth\":2},\"zaxis\":{\"backgroundcolor\":\"#E5ECF6\",\"gridcolor\":\"white\",\"linecolor\":\"white\",\"showbackground\":true,\"ticks\":\"\",\"zerolinecolor\":\"white\",\"gridwidth\":2}},\"shapedefaults\":{\"line\":{\"color\":\"#2a3f5f\"}},\"annotationdefaults\":{\"arrowcolor\":\"#2a3f5f\",\"arrowhead\":0,\"arrowwidth\":1},\"geo\":{\"bgcolor\":\"white\",\"landcolor\":\"#E5ECF6\",\"subunitcolor\":\"white\",\"showland\":true,\"showlakes\":true,\"lakecolor\":\"white\"},\"title\":{\"x\":0.05},\"mapbox\":{\"style\":\"light\"}}},\"xaxis\":{\"anchor\":\"y\",\"domain\":[0.0,0.94],\"title\":{\"text\":\"x_axis\"}},\"yaxis\":{\"anchor\":\"x\",\"domain\":[0.0,1.0],\"title\":{\"text\":\"data, predics\"}},\"yaxis2\":{\"anchor\":\"x\",\"overlaying\":\"y\",\"side\":\"right\",\"title\":{\"text\":\"% error\"},\"range\":[-20,20],\"showgrid\":false,\"tick0\":-5,\"dtick\":2}},                        {\"responsive\": true}                    ).then(function(){\n",
              "                            \n",
              "var gd = document.getElementById('b8daa0a2-d865-4cc7-b589-cdaa3fb3fcff');\n",
              "var x = new MutationObserver(function (mutations, observer) {{\n",
              "        var display = window.getComputedStyle(gd).display;\n",
              "        if (!display || display === 'none') {{\n",
              "            console.log([gd, 'removed!']);\n",
              "            Plotly.purge(gd);\n",
              "            observer.disconnect();\n",
              "        }}\n",
              "}});\n",
              "\n",
              "// Listen for the removal of the full notebook cells\n",
              "var notebookContainer = gd.closest('#notebook-container');\n",
              "if (notebookContainer) {{\n",
              "    x.observe(notebookContainer, {childList: true});\n",
              "}}\n",
              "\n",
              "// Listen for the clearing of the current output cell\n",
              "var outputEl = gd.closest('.output');\n",
              "if (outputEl) {{\n",
              "    x.observe(outputEl, {childList: true});\n",
              "}}\n",
              "\n",
              "                        })                };                            </script>        </div>\n",
              "</body>\n",
              "</html>"
            ]
          },
          "metadata": {}
        }
      ]
    },
    {
      "cell_type": "code",
      "source": [
        "svr_temp=svr1_2\n",
        "print (' Support vectors:\\n',svr_temp.support_vectors_,'\\n',\n",
        "       'Dual coefficients:\\n',svr_temp.dual_coef_,'\\n',\n",
        "       'Coef0: ',svr_temp.coef0,'\\n',\n",
        "       'Intercept: ',svr_temp.intercept_[0],)"
      ],
      "metadata": {
        "id": "Bz5GnhGLk8Lz",
        "outputId": "b0fd7329-d18f-4798-cc23-5369b88784ee",
        "colab": {
          "base_uri": "https://localhost:8080/"
        }
      },
      "execution_count": 152,
      "outputs": [
        {
          "output_type": "stream",
          "name": "stdout",
          "text": [
            " Support vectors:\n",
            " [[-1.58113883e+00]\n",
            " [ 5.85138911e-17]\n",
            " [ 1.58113883e+00]] \n",
            " Dual coefficients:\n",
            " [[ 0.00823805 -0.25888175  0.25064369]] \n",
            " Coef0:  1 \n",
            " Intercept:  -0.6272211083683312\n"
          ]
        }
      ]
    },
    {
      "cell_type": "markdown",
      "source": [
        "# 2"
      ],
      "metadata": {
        "id": "h9fyS_pgttCQ"
      }
    },
    {
      "cell_type": "code",
      "source": [
        "data2=[\n",
        "[0.32,\t0.99,\t0.77,\t0.69,\t0.04,\t0.37,\t0.25,\t0.44,\t0.42,\t0.64,\t0.8,],\n",
        "[0.4,\t0.23,\t0.22,\t0.57,\t0.78,\t0.69,\t0.2,\t0.45,\t0.17,\t0.98,\t0.96,],\n",
        "[4.952768,\t5.924299,\t5.412533,\t5.214509,\t4.844064,\t4.912653,\t4.975625,\t4.995184,\t5.040088,\t5.066144,\t5.32,],\n",
        "]\n",
        "data2=np.array(data2).T\n",
        "X2=data2[:,[0,1]]\n",
        "T2=data2[:,[2]]"
      ],
      "metadata": {
        "id": "bem65dLcf982"
      },
      "execution_count": 14,
      "outputs": []
    },
    {
      "cell_type": "code",
      "source": [
        "scaler_X2 = preprocessing.StandardScaler().fit(X2)\n",
        "scaler_T2 = preprocessing.StandardScaler().fit(T2)\n",
        "\n",
        "scaler_data2 = [scaler_X2.mean_, scaler_X2.scale_, scaler_T2.mean_, scaler_T2.scale_]\n",
        "print('scaler X -- mean, stdev:  ',scaler_data2[0], scaler_data2[1])\n",
        "print('scaler T -- mean, stdev:  ',scaler_data2[2], scaler_data2[3])\n",
        "\n",
        "X_sc2 = scaler_X2.transform(X2)\n",
        "T_sc2 = scaler_T2.transform(T2)\n",
        "X_sc2[0:3]"
      ],
      "metadata": {
        "colab": {
          "base_uri": "https://localhost:8080/"
        },
        "id": "ZMDUCakvt5HG",
        "outputId": "7c196f68-7ac1-465c-86fb-9ef22b5efed1"
      },
      "execution_count": 15,
      "outputs": [
        {
          "output_type": "stream",
          "name": "stdout",
          "text": [
            "scaler X -- mean, stdev:   [0.52090909 0.51363636] [0.26752925 0.28952226]\n",
            "scaler T -- mean, stdev:   [5.15071518] [0.29600926]\n"
          ]
        },
        {
          "output_type": "execute_result",
          "data": {
            "text/plain": [
              "array([[-0.7509799 , -0.39249612],\n",
              "       [ 1.75341913, -0.97967031],\n",
              "       [ 0.93107915, -1.01420996]])"
            ]
          },
          "metadata": {},
          "execution_count": 15
        }
      ]
    },
    {
      "cell_type": "code",
      "source": [
        "# svr2=SVR(kernel='rbf', gamma=.1)\n",
        "# svr2=SVR(kernel='sigmoid')\n",
        "svr2=SVR(kernel='poly', degree=2, coef0=1)\n",
        "svr2.fit(X_sc2,T_sc2.ravel())\n",
        "predics2=scaler_T2.inverse_transform(svr2.predict(X_sc2).reshape(-1,1))\n",
        "# predics2"
      ],
      "metadata": {
        "id": "pOUjYYVAttl-"
      },
      "execution_count": 71,
      "outputs": []
    },
    {
      "cell_type": "code",
      "source": [
        "svr2.get_params()"
      ],
      "metadata": {
        "colab": {
          "base_uri": "https://localhost:8080/"
        },
        "id": "5lmtfoT4wu_U",
        "outputId": "069f4f76-1a98-4b67-de66-ffef7bb89604"
      },
      "execution_count": 72,
      "outputs": [
        {
          "output_type": "execute_result",
          "data": {
            "text/plain": [
              "{'C': 1.0,\n",
              " 'cache_size': 200,\n",
              " 'coef0': 1,\n",
              " 'degree': 2,\n",
              " 'epsilon': 0.1,\n",
              " 'gamma': 'scale',\n",
              " 'kernel': 'poly',\n",
              " 'max_iter': -1,\n",
              " 'shrinking': True,\n",
              " 'tol': 0.001,\n",
              " 'verbose': False}"
            ]
          },
          "metadata": {},
          "execution_count": 72
        }
      ]
    },
    {
      "cell_type": "code",
      "source": [
        "x_mesh, y_mesh = np.linspace(-1, 2, 31), np.linspace(-1, 2, 31)\n",
        "# x_mesh, y_mesh = np.arange(-1, 2, 0.1), np.arange(-1, 2, 0.1)\n",
        "x_mesh, y_mesh = np.meshgrid(x_mesh, y_mesh)\n",
        "x_mesh = x_mesh.flatten().reshape(31*31,1)\n",
        "y_mesh = y_mesh.flatten().reshape(31*31,1)\n",
        "mesh2=np.concatenate((x_mesh, y_mesh), axis=1)\n",
        "# x_mesh[:5]\n",
        "mesh_predics2=scaler_T2.inverse_transform(svr2.predict(scaler_X2.transform(mesh2)).reshape(-1,1))"
      ],
      "metadata": {
        "id": "TcQ-xsIvuuL1"
      },
      "execution_count": 73,
      "outputs": []
    },
    {
      "cell_type": "code",
      "source": [
        "fig=go.Figure()\n",
        "fig.add_trace(go.Scatter3d(x=data2[:,0], y=data2[:,1], z=data2[:,2], mode='markers', name='data'))\n",
        "fig.add_trace(go.Scatter3d(x=data2[:,0], y=data2[:,1], z=predics2[:,0], mode='markers', name='predics'))\n",
        "fig.add_trace(go.Scatter3d(x=x_mesh[:,0], y=y_mesh[:,0], z=mesh_predics2[:,0], mode='markers', marker_size=2, name='mesh-predics'))\n",
        "x=np.linspace(0, 1, 11)\n",
        "y=np.linspace(0, 1, 11)\n",
        "x, y = np.meshgrid(x,y)\n",
        "z=x**3-.2*y+5\n",
        "fig.add_trace(go.Surface(x=x, y=y, z=z, colorbar_x=0, opacity=0.5, showlegend=True, name='data surface'))\n",
        "fig.update_scenes(camera_projection_type=\"orthographic\")\n",
        "\n",
        "fig.show()"
      ],
      "metadata": {
        "colab": {
          "base_uri": "https://localhost:8080/",
          "height": 542
        },
        "outputId": "1d0778eb-8737-4eac-9e67-1d49496d1582",
        "id": "255c_AQVttmA"
      },
      "execution_count": 74,
      "outputs": [
        {
          "output_type": "display_data",
          "data": {
            "text/html": [
              "<html>\n",
              "<head><meta charset=\"utf-8\" /></head>\n",
              "<body>\n",
              "    <div>            <script src=\"https://cdnjs.cloudflare.com/ajax/libs/mathjax/2.7.5/MathJax.js?config=TeX-AMS-MML_SVG\"></script><script type=\"text/javascript\">if (window.MathJax && window.MathJax.Hub && window.MathJax.Hub.Config) {window.MathJax.Hub.Config({SVG: {font: \"STIX-Web\"}});}</script>                <script type=\"text/javascript\">window.PlotlyConfig = {MathJaxConfig: 'local'};</script>\n",
              "        <script charset=\"utf-8\" src=\"https://cdn.plot.ly/plotly-2.24.1.min.js\"></script>                <div id=\"870eef7c-8f68-4a8f-b453-7fdf780668fd\" class=\"plotly-graph-div\" style=\"height:525px; width:100%;\"></div>            <script type=\"text/javascript\">                                    window.PLOTLYENV=window.PLOTLYENV || {};                                    if (document.getElementById(\"870eef7c-8f68-4a8f-b453-7fdf780668fd\")) {                    Plotly.newPlot(                        \"870eef7c-8f68-4a8f-b453-7fdf780668fd\",                        [{\"mode\":\"markers\",\"name\":\"data\",\"x\":[0.32,0.99,0.77,0.69,0.04,0.37,0.25,0.44,0.42,0.64,0.8],\"y\":[0.4,0.23,0.22,0.57,0.78,0.69,0.2,0.45,0.17,0.98,0.96],\"z\":[4.952768,5.924299,5.412533,5.214509,4.844064,4.912653,4.975625,4.995184,5.040088,5.066144,5.32],\"type\":\"scatter3d\"},{\"mode\":\"markers\",\"name\":\"predics\",\"x\":[0.32,0.99,0.77,0.69,0.04,0.37,0.25,0.44,0.42,0.64,0.8],\"y\":[0.4,0.23,0.22,0.57,0.78,0.69,0.2,0.45,0.17,0.98,0.96],\"z\":[4.923758208526665,5.894725451398036,5.442214222699009,5.220102910139115,4.8736923600220114,4.8828874805604885,4.94595570960487,4.97800658316351,5.0277057399421805,5.047569773024041,5.2904967768948605],\"type\":\"scatter3d\"},{\"marker\":{\"size\":2},\"mode\":\"markers\",\"name\":\"mesh-predics\",\"x\":[-1.0,-0.9,-0.8,-0.7,-0.6,-0.5,-0.3999999999999999,-0.29999999999999993,-0.19999999999999996,-0.09999999999999998,0.0,0.10000000000000009,0.20000000000000018,0.30000000000000004,0.40000000000000013,0.5,0.6000000000000001,0.7000000000000002,0.8,0.9000000000000001,1.0,1.1,1.2000000000000002,1.3000000000000003,1.4000000000000004,1.5,1.6,1.7000000000000002,1.8000000000000003,1.9000000000000004,2.0,-1.0,-0.9,-0.8,-0.7,-0.6,-0.5,-0.3999999999999999,-0.29999999999999993,-0.19999999999999996,-0.09999999999999998,0.0,0.10000000000000009,0.20000000000000018,0.30000000000000004,0.40000000000000013,0.5,0.6000000000000001,0.7000000000000002,0.8,0.9000000000000001,1.0,1.1,1.2000000000000002,1.3000000000000003,1.4000000000000004,1.5,1.6,1.7000000000000002,1.8000000000000003,1.9000000000000004,2.0,-1.0,-0.9,-0.8,-0.7,-0.6,-0.5,-0.3999999999999999,-0.29999999999999993,-0.19999999999999996,-0.09999999999999998,0.0,0.10000000000000009,0.20000000000000018,0.30000000000000004,0.40000000000000013,0.5,0.6000000000000001,0.7000000000000002,0.8,0.9000000000000001,1.0,1.1,1.2000000000000002,1.3000000000000003,1.4000000000000004,1.5,1.6,1.7000000000000002,1.8000000000000003,1.9000000000000004,2.0,-1.0,-0.9,-0.8,-0.7,-0.6,-0.5,-0.3999999999999999,-0.29999999999999993,-0.19999999999999996,-0.09999999999999998,0.0,0.10000000000000009,0.20000000000000018,0.30000000000000004,0.40000000000000013,0.5,0.6000000000000001,0.7000000000000002,0.8,0.9000000000000001,1.0,1.1,1.2000000000000002,1.3000000000000003,1.4000000000000004,1.5,1.6,1.7000000000000002,1.8000000000000003,1.9000000000000004,2.0,-1.0,-0.9,-0.8,-0.7,-0.6,-0.5,-0.3999999999999999,-0.29999999999999993,-0.19999999999999996,-0.09999999999999998,0.0,0.10000000000000009,0.20000000000000018,0.30000000000000004,0.40000000000000013,0.5,0.6000000000000001,0.7000000000000002,0.8,0.9000000000000001,1.0,1.1,1.2000000000000002,1.3000000000000003,1.4000000000000004,1.5,1.6,1.7000000000000002,1.8000000000000003,1.9000000000000004,2.0,-1.0,-0.9,-0.8,-0.7,-0.6,-0.5,-0.3999999999999999,-0.29999999999999993,-0.19999999999999996,-0.09999999999999998,0.0,0.10000000000000009,0.20000000000000018,0.30000000000000004,0.40000000000000013,0.5,0.6000000000000001,0.7000000000000002,0.8,0.9000000000000001,1.0,1.1,1.2000000000000002,1.3000000000000003,1.4000000000000004,1.5,1.6,1.7000000000000002,1.8000000000000003,1.9000000000000004,2.0,-1.0,-0.9,-0.8,-0.7,-0.6,-0.5,-0.3999999999999999,-0.29999999999999993,-0.19999999999999996,-0.09999999999999998,0.0,0.10000000000000009,0.20000000000000018,0.30000000000000004,0.40000000000000013,0.5,0.6000000000000001,0.7000000000000002,0.8,0.9000000000000001,1.0,1.1,1.2000000000000002,1.3000000000000003,1.4000000000000004,1.5,1.6,1.7000000000000002,1.8000000000000003,1.9000000000000004,2.0,-1.0,-0.9,-0.8,-0.7,-0.6,-0.5,-0.3999999999999999,-0.29999999999999993,-0.19999999999999996,-0.09999999999999998,0.0,0.10000000000000009,0.20000000000000018,0.30000000000000004,0.40000000000000013,0.5,0.6000000000000001,0.7000000000000002,0.8,0.9000000000000001,1.0,1.1,1.2000000000000002,1.3000000000000003,1.4000000000000004,1.5,1.6,1.7000000000000002,1.8000000000000003,1.9000000000000004,2.0,-1.0,-0.9,-0.8,-0.7,-0.6,-0.5,-0.3999999999999999,-0.29999999999999993,-0.19999999999999996,-0.09999999999999998,0.0,0.10000000000000009,0.20000000000000018,0.30000000000000004,0.40000000000000013,0.5,0.6000000000000001,0.7000000000000002,0.8,0.9000000000000001,1.0,1.1,1.2000000000000002,1.3000000000000003,1.4000000000000004,1.5,1.6,1.7000000000000002,1.8000000000000003,1.9000000000000004,2.0,-1.0,-0.9,-0.8,-0.7,-0.6,-0.5,-0.3999999999999999,-0.29999999999999993,-0.19999999999999996,-0.09999999999999998,0.0,0.10000000000000009,0.20000000000000018,0.30000000000000004,0.40000000000000013,0.5,0.6000000000000001,0.7000000000000002,0.8,0.9000000000000001,1.0,1.1,1.2000000000000002,1.3000000000000003,1.4000000000000004,1.5,1.6,1.7000000000000002,1.8000000000000003,1.9000000000000004,2.0,-1.0,-0.9,-0.8,-0.7,-0.6,-0.5,-0.3999999999999999,-0.29999999999999993,-0.19999999999999996,-0.09999999999999998,0.0,0.10000000000000009,0.20000000000000018,0.30000000000000004,0.40000000000000013,0.5,0.6000000000000001,0.7000000000000002,0.8,0.9000000000000001,1.0,1.1,1.2000000000000002,1.3000000000000003,1.4000000000000004,1.5,1.6,1.7000000000000002,1.8000000000000003,1.9000000000000004,2.0,-1.0,-0.9,-0.8,-0.7,-0.6,-0.5,-0.3999999999999999,-0.29999999999999993,-0.19999999999999996,-0.09999999999999998,0.0,0.10000000000000009,0.20000000000000018,0.30000000000000004,0.40000000000000013,0.5,0.6000000000000001,0.7000000000000002,0.8,0.9000000000000001,1.0,1.1,1.2000000000000002,1.3000000000000003,1.4000000000000004,1.5,1.6,1.7000000000000002,1.8000000000000003,1.9000000000000004,2.0,-1.0,-0.9,-0.8,-0.7,-0.6,-0.5,-0.3999999999999999,-0.29999999999999993,-0.19999999999999996,-0.09999999999999998,0.0,0.10000000000000009,0.20000000000000018,0.30000000000000004,0.40000000000000013,0.5,0.6000000000000001,0.7000000000000002,0.8,0.9000000000000001,1.0,1.1,1.2000000000000002,1.3000000000000003,1.4000000000000004,1.5,1.6,1.7000000000000002,1.8000000000000003,1.9000000000000004,2.0,-1.0,-0.9,-0.8,-0.7,-0.6,-0.5,-0.3999999999999999,-0.29999999999999993,-0.19999999999999996,-0.09999999999999998,0.0,0.10000000000000009,0.20000000000000018,0.30000000000000004,0.40000000000000013,0.5,0.6000000000000001,0.7000000000000002,0.8,0.9000000000000001,1.0,1.1,1.2000000000000002,1.3000000000000003,1.4000000000000004,1.5,1.6,1.7000000000000002,1.8000000000000003,1.9000000000000004,2.0,-1.0,-0.9,-0.8,-0.7,-0.6,-0.5,-0.3999999999999999,-0.29999999999999993,-0.19999999999999996,-0.09999999999999998,0.0,0.10000000000000009,0.20000000000000018,0.30000000000000004,0.40000000000000013,0.5,0.6000000000000001,0.7000000000000002,0.8,0.9000000000000001,1.0,1.1,1.2000000000000002,1.3000000000000003,1.4000000000000004,1.5,1.6,1.7000000000000002,1.8000000000000003,1.9000000000000004,2.0,-1.0,-0.9,-0.8,-0.7,-0.6,-0.5,-0.3999999999999999,-0.29999999999999993,-0.19999999999999996,-0.09999999999999998,0.0,0.10000000000000009,0.20000000000000018,0.30000000000000004,0.40000000000000013,0.5,0.6000000000000001,0.7000000000000002,0.8,0.9000000000000001,1.0,1.1,1.2000000000000002,1.3000000000000003,1.4000000000000004,1.5,1.6,1.7000000000000002,1.8000000000000003,1.9000000000000004,2.0,-1.0,-0.9,-0.8,-0.7,-0.6,-0.5,-0.3999999999999999,-0.29999999999999993,-0.19999999999999996,-0.09999999999999998,0.0,0.10000000000000009,0.20000000000000018,0.30000000000000004,0.40000000000000013,0.5,0.6000000000000001,0.7000000000000002,0.8,0.9000000000000001,1.0,1.1,1.2000000000000002,1.3000000000000003,1.4000000000000004,1.5,1.6,1.7000000000000002,1.8000000000000003,1.9000000000000004,2.0,-1.0,-0.9,-0.8,-0.7,-0.6,-0.5,-0.3999999999999999,-0.29999999999999993,-0.19999999999999996,-0.09999999999999998,0.0,0.10000000000000009,0.20000000000000018,0.30000000000000004,0.40000000000000013,0.5,0.6000000000000001,0.7000000000000002,0.8,0.9000000000000001,1.0,1.1,1.2000000000000002,1.3000000000000003,1.4000000000000004,1.5,1.6,1.7000000000000002,1.8000000000000003,1.9000000000000004,2.0,-1.0,-0.9,-0.8,-0.7,-0.6,-0.5,-0.3999999999999999,-0.29999999999999993,-0.19999999999999996,-0.09999999999999998,0.0,0.10000000000000009,0.20000000000000018,0.30000000000000004,0.40000000000000013,0.5,0.6000000000000001,0.7000000000000002,0.8,0.9000000000000001,1.0,1.1,1.2000000000000002,1.3000000000000003,1.4000000000000004,1.5,1.6,1.7000000000000002,1.8000000000000003,1.9000000000000004,2.0,-1.0,-0.9,-0.8,-0.7,-0.6,-0.5,-0.3999999999999999,-0.29999999999999993,-0.19999999999999996,-0.09999999999999998,0.0,0.10000000000000009,0.20000000000000018,0.30000000000000004,0.40000000000000013,0.5,0.6000000000000001,0.7000000000000002,0.8,0.9000000000000001,1.0,1.1,1.2000000000000002,1.3000000000000003,1.4000000000000004,1.5,1.6,1.7000000000000002,1.8000000000000003,1.9000000000000004,2.0,-1.0,-0.9,-0.8,-0.7,-0.6,-0.5,-0.3999999999999999,-0.29999999999999993,-0.19999999999999996,-0.09999999999999998,0.0,0.10000000000000009,0.20000000000000018,0.30000000000000004,0.40000000000000013,0.5,0.6000000000000001,0.7000000000000002,0.8,0.9000000000000001,1.0,1.1,1.2000000000000002,1.3000000000000003,1.4000000000000004,1.5,1.6,1.7000000000000002,1.8000000000000003,1.9000000000000004,2.0,-1.0,-0.9,-0.8,-0.7,-0.6,-0.5,-0.3999999999999999,-0.29999999999999993,-0.19999999999999996,-0.09999999999999998,0.0,0.10000000000000009,0.20000000000000018,0.30000000000000004,0.40000000000000013,0.5,0.6000000000000001,0.7000000000000002,0.8,0.9000000000000001,1.0,1.1,1.2000000000000002,1.3000000000000003,1.4000000000000004,1.5,1.6,1.7000000000000002,1.8000000000000003,1.9000000000000004,2.0,-1.0,-0.9,-0.8,-0.7,-0.6,-0.5,-0.3999999999999999,-0.29999999999999993,-0.19999999999999996,-0.09999999999999998,0.0,0.10000000000000009,0.20000000000000018,0.30000000000000004,0.40000000000000013,0.5,0.6000000000000001,0.7000000000000002,0.8,0.9000000000000001,1.0,1.1,1.2000000000000002,1.3000000000000003,1.4000000000000004,1.5,1.6,1.7000000000000002,1.8000000000000003,1.9000000000000004,2.0,-1.0,-0.9,-0.8,-0.7,-0.6,-0.5,-0.3999999999999999,-0.29999999999999993,-0.19999999999999996,-0.09999999999999998,0.0,0.10000000000000009,0.20000000000000018,0.30000000000000004,0.40000000000000013,0.5,0.6000000000000001,0.7000000000000002,0.8,0.9000000000000001,1.0,1.1,1.2000000000000002,1.3000000000000003,1.4000000000000004,1.5,1.6,1.7000000000000002,1.8000000000000003,1.9000000000000004,2.0,-1.0,-0.9,-0.8,-0.7,-0.6,-0.5,-0.3999999999999999,-0.29999999999999993,-0.19999999999999996,-0.09999999999999998,0.0,0.10000000000000009,0.20000000000000018,0.30000000000000004,0.40000000000000013,0.5,0.6000000000000001,0.7000000000000002,0.8,0.9000000000000001,1.0,1.1,1.2000000000000002,1.3000000000000003,1.4000000000000004,1.5,1.6,1.7000000000000002,1.8000000000000003,1.9000000000000004,2.0,-1.0,-0.9,-0.8,-0.7,-0.6,-0.5,-0.3999999999999999,-0.29999999999999993,-0.19999999999999996,-0.09999999999999998,0.0,0.10000000000000009,0.20000000000000018,0.30000000000000004,0.40000000000000013,0.5,0.6000000000000001,0.7000000000000002,0.8,0.9000000000000001,1.0,1.1,1.2000000000000002,1.3000000000000003,1.4000000000000004,1.5,1.6,1.7000000000000002,1.8000000000000003,1.9000000000000004,2.0,-1.0,-0.9,-0.8,-0.7,-0.6,-0.5,-0.3999999999999999,-0.29999999999999993,-0.19999999999999996,-0.09999999999999998,0.0,0.10000000000000009,0.20000000000000018,0.30000000000000004,0.40000000000000013,0.5,0.6000000000000001,0.7000000000000002,0.8,0.9000000000000001,1.0,1.1,1.2000000000000002,1.3000000000000003,1.4000000000000004,1.5,1.6,1.7000000000000002,1.8000000000000003,1.9000000000000004,2.0,-1.0,-0.9,-0.8,-0.7,-0.6,-0.5,-0.3999999999999999,-0.29999999999999993,-0.19999999999999996,-0.09999999999999998,0.0,0.10000000000000009,0.20000000000000018,0.30000000000000004,0.40000000000000013,0.5,0.6000000000000001,0.7000000000000002,0.8,0.9000000000000001,1.0,1.1,1.2000000000000002,1.3000000000000003,1.4000000000000004,1.5,1.6,1.7000000000000002,1.8000000000000003,1.9000000000000004,2.0,-1.0,-0.9,-0.8,-0.7,-0.6,-0.5,-0.3999999999999999,-0.29999999999999993,-0.19999999999999996,-0.09999999999999998,0.0,0.10000000000000009,0.20000000000000018,0.30000000000000004,0.40000000000000013,0.5,0.6000000000000001,0.7000000000000002,0.8,0.9000000000000001,1.0,1.1,1.2000000000000002,1.3000000000000003,1.4000000000000004,1.5,1.6,1.7000000000000002,1.8000000000000003,1.9000000000000004,2.0,-1.0,-0.9,-0.8,-0.7,-0.6,-0.5,-0.3999999999999999,-0.29999999999999993,-0.19999999999999996,-0.09999999999999998,0.0,0.10000000000000009,0.20000000000000018,0.30000000000000004,0.40000000000000013,0.5,0.6000000000000001,0.7000000000000002,0.8,0.9000000000000001,1.0,1.1,1.2000000000000002,1.3000000000000003,1.4000000000000004,1.5,1.6,1.7000000000000002,1.8000000000000003,1.9000000000000004,2.0,-1.0,-0.9,-0.8,-0.7,-0.6,-0.5,-0.3999999999999999,-0.29999999999999993,-0.19999999999999996,-0.09999999999999998,0.0,0.10000000000000009,0.20000000000000018,0.30000000000000004,0.40000000000000013,0.5,0.6000000000000001,0.7000000000000002,0.8,0.9000000000000001,1.0,1.1,1.2000000000000002,1.3000000000000003,1.4000000000000004,1.5,1.6,1.7000000000000002,1.8000000000000003,1.9000000000000004,2.0],\"y\":[-1.0,-1.0,-1.0,-1.0,-1.0,-1.0,-1.0,-1.0,-1.0,-1.0,-1.0,-1.0,-1.0,-1.0,-1.0,-1.0,-1.0,-1.0,-1.0,-1.0,-1.0,-1.0,-1.0,-1.0,-1.0,-1.0,-1.0,-1.0,-1.0,-1.0,-1.0,-0.9,-0.9,-0.9,-0.9,-0.9,-0.9,-0.9,-0.9,-0.9,-0.9,-0.9,-0.9,-0.9,-0.9,-0.9,-0.9,-0.9,-0.9,-0.9,-0.9,-0.9,-0.9,-0.9,-0.9,-0.9,-0.9,-0.9,-0.9,-0.9,-0.9,-0.9,-0.8,-0.8,-0.8,-0.8,-0.8,-0.8,-0.8,-0.8,-0.8,-0.8,-0.8,-0.8,-0.8,-0.8,-0.8,-0.8,-0.8,-0.8,-0.8,-0.8,-0.8,-0.8,-0.8,-0.8,-0.8,-0.8,-0.8,-0.8,-0.8,-0.8,-0.8,-0.7,-0.7,-0.7,-0.7,-0.7,-0.7,-0.7,-0.7,-0.7,-0.7,-0.7,-0.7,-0.7,-0.7,-0.7,-0.7,-0.7,-0.7,-0.7,-0.7,-0.7,-0.7,-0.7,-0.7,-0.7,-0.7,-0.7,-0.7,-0.7,-0.7,-0.7,-0.6,-0.6,-0.6,-0.6,-0.6,-0.6,-0.6,-0.6,-0.6,-0.6,-0.6,-0.6,-0.6,-0.6,-0.6,-0.6,-0.6,-0.6,-0.6,-0.6,-0.6,-0.6,-0.6,-0.6,-0.6,-0.6,-0.6,-0.6,-0.6,-0.6,-0.6,-0.5,-0.5,-0.5,-0.5,-0.5,-0.5,-0.5,-0.5,-0.5,-0.5,-0.5,-0.5,-0.5,-0.5,-0.5,-0.5,-0.5,-0.5,-0.5,-0.5,-0.5,-0.5,-0.5,-0.5,-0.5,-0.5,-0.5,-0.5,-0.5,-0.5,-0.5,-0.3999999999999999,-0.3999999999999999,-0.3999999999999999,-0.3999999999999999,-0.3999999999999999,-0.3999999999999999,-0.3999999999999999,-0.3999999999999999,-0.3999999999999999,-0.3999999999999999,-0.3999999999999999,-0.3999999999999999,-0.3999999999999999,-0.3999999999999999,-0.3999999999999999,-0.3999999999999999,-0.3999999999999999,-0.3999999999999999,-0.3999999999999999,-0.3999999999999999,-0.3999999999999999,-0.3999999999999999,-0.3999999999999999,-0.3999999999999999,-0.3999999999999999,-0.3999999999999999,-0.3999999999999999,-0.3999999999999999,-0.3999999999999999,-0.3999999999999999,-0.3999999999999999,-0.29999999999999993,-0.29999999999999993,-0.29999999999999993,-0.29999999999999993,-0.29999999999999993,-0.29999999999999993,-0.29999999999999993,-0.29999999999999993,-0.29999999999999993,-0.29999999999999993,-0.29999999999999993,-0.29999999999999993,-0.29999999999999993,-0.29999999999999993,-0.29999999999999993,-0.29999999999999993,-0.29999999999999993,-0.29999999999999993,-0.29999999999999993,-0.29999999999999993,-0.29999999999999993,-0.29999999999999993,-0.29999999999999993,-0.29999999999999993,-0.29999999999999993,-0.29999999999999993,-0.29999999999999993,-0.29999999999999993,-0.29999999999999993,-0.29999999999999993,-0.29999999999999993,-0.19999999999999996,-0.19999999999999996,-0.19999999999999996,-0.19999999999999996,-0.19999999999999996,-0.19999999999999996,-0.19999999999999996,-0.19999999999999996,-0.19999999999999996,-0.19999999999999996,-0.19999999999999996,-0.19999999999999996,-0.19999999999999996,-0.19999999999999996,-0.19999999999999996,-0.19999999999999996,-0.19999999999999996,-0.19999999999999996,-0.19999999999999996,-0.19999999999999996,-0.19999999999999996,-0.19999999999999996,-0.19999999999999996,-0.19999999999999996,-0.19999999999999996,-0.19999999999999996,-0.19999999999999996,-0.19999999999999996,-0.19999999999999996,-0.19999999999999996,-0.19999999999999996,-0.09999999999999998,-0.09999999999999998,-0.09999999999999998,-0.09999999999999998,-0.09999999999999998,-0.09999999999999998,-0.09999999999999998,-0.09999999999999998,-0.09999999999999998,-0.09999999999999998,-0.09999999999999998,-0.09999999999999998,-0.09999999999999998,-0.09999999999999998,-0.09999999999999998,-0.09999999999999998,-0.09999999999999998,-0.09999999999999998,-0.09999999999999998,-0.09999999999999998,-0.09999999999999998,-0.09999999999999998,-0.09999999999999998,-0.09999999999999998,-0.09999999999999998,-0.09999999999999998,-0.09999999999999998,-0.09999999999999998,-0.09999999999999998,-0.09999999999999998,-0.09999999999999998,0.0,0.0,0.0,0.0,0.0,0.0,0.0,0.0,0.0,0.0,0.0,0.0,0.0,0.0,0.0,0.0,0.0,0.0,0.0,0.0,0.0,0.0,0.0,0.0,0.0,0.0,0.0,0.0,0.0,0.0,0.0,0.10000000000000009,0.10000000000000009,0.10000000000000009,0.10000000000000009,0.10000000000000009,0.10000000000000009,0.10000000000000009,0.10000000000000009,0.10000000000000009,0.10000000000000009,0.10000000000000009,0.10000000000000009,0.10000000000000009,0.10000000000000009,0.10000000000000009,0.10000000000000009,0.10000000000000009,0.10000000000000009,0.10000000000000009,0.10000000000000009,0.10000000000000009,0.10000000000000009,0.10000000000000009,0.10000000000000009,0.10000000000000009,0.10000000000000009,0.10000000000000009,0.10000000000000009,0.10000000000000009,0.10000000000000009,0.10000000000000009,0.20000000000000018,0.20000000000000018,0.20000000000000018,0.20000000000000018,0.20000000000000018,0.20000000000000018,0.20000000000000018,0.20000000000000018,0.20000000000000018,0.20000000000000018,0.20000000000000018,0.20000000000000018,0.20000000000000018,0.20000000000000018,0.20000000000000018,0.20000000000000018,0.20000000000000018,0.20000000000000018,0.20000000000000018,0.20000000000000018,0.20000000000000018,0.20000000000000018,0.20000000000000018,0.20000000000000018,0.20000000000000018,0.20000000000000018,0.20000000000000018,0.20000000000000018,0.20000000000000018,0.20000000000000018,0.20000000000000018,0.30000000000000004,0.30000000000000004,0.30000000000000004,0.30000000000000004,0.30000000000000004,0.30000000000000004,0.30000000000000004,0.30000000000000004,0.30000000000000004,0.30000000000000004,0.30000000000000004,0.30000000000000004,0.30000000000000004,0.30000000000000004,0.30000000000000004,0.30000000000000004,0.30000000000000004,0.30000000000000004,0.30000000000000004,0.30000000000000004,0.30000000000000004,0.30000000000000004,0.30000000000000004,0.30000000000000004,0.30000000000000004,0.30000000000000004,0.30000000000000004,0.30000000000000004,0.30000000000000004,0.30000000000000004,0.30000000000000004,0.40000000000000013,0.40000000000000013,0.40000000000000013,0.40000000000000013,0.40000000000000013,0.40000000000000013,0.40000000000000013,0.40000000000000013,0.40000000000000013,0.40000000000000013,0.40000000000000013,0.40000000000000013,0.40000000000000013,0.40000000000000013,0.40000000000000013,0.40000000000000013,0.40000000000000013,0.40000000000000013,0.40000000000000013,0.40000000000000013,0.40000000000000013,0.40000000000000013,0.40000000000000013,0.40000000000000013,0.40000000000000013,0.40000000000000013,0.40000000000000013,0.40000000000000013,0.40000000000000013,0.40000000000000013,0.40000000000000013,0.5,0.5,0.5,0.5,0.5,0.5,0.5,0.5,0.5,0.5,0.5,0.5,0.5,0.5,0.5,0.5,0.5,0.5,0.5,0.5,0.5,0.5,0.5,0.5,0.5,0.5,0.5,0.5,0.5,0.5,0.5,0.6000000000000001,0.6000000000000001,0.6000000000000001,0.6000000000000001,0.6000000000000001,0.6000000000000001,0.6000000000000001,0.6000000000000001,0.6000000000000001,0.6000000000000001,0.6000000000000001,0.6000000000000001,0.6000000000000001,0.6000000000000001,0.6000000000000001,0.6000000000000001,0.6000000000000001,0.6000000000000001,0.6000000000000001,0.6000000000000001,0.6000000000000001,0.6000000000000001,0.6000000000000001,0.6000000000000001,0.6000000000000001,0.6000000000000001,0.6000000000000001,0.6000000000000001,0.6000000000000001,0.6000000000000001,0.6000000000000001,0.7000000000000002,0.7000000000000002,0.7000000000000002,0.7000000000000002,0.7000000000000002,0.7000000000000002,0.7000000000000002,0.7000000000000002,0.7000000000000002,0.7000000000000002,0.7000000000000002,0.7000000000000002,0.7000000000000002,0.7000000000000002,0.7000000000000002,0.7000000000000002,0.7000000000000002,0.7000000000000002,0.7000000000000002,0.7000000000000002,0.7000000000000002,0.7000000000000002,0.7000000000000002,0.7000000000000002,0.7000000000000002,0.7000000000000002,0.7000000000000002,0.7000000000000002,0.7000000000000002,0.7000000000000002,0.7000000000000002,0.8,0.8,0.8,0.8,0.8,0.8,0.8,0.8,0.8,0.8,0.8,0.8,0.8,0.8,0.8,0.8,0.8,0.8,0.8,0.8,0.8,0.8,0.8,0.8,0.8,0.8,0.8,0.8,0.8,0.8,0.8,0.9000000000000001,0.9000000000000001,0.9000000000000001,0.9000000000000001,0.9000000000000001,0.9000000000000001,0.9000000000000001,0.9000000000000001,0.9000000000000001,0.9000000000000001,0.9000000000000001,0.9000000000000001,0.9000000000000001,0.9000000000000001,0.9000000000000001,0.9000000000000001,0.9000000000000001,0.9000000000000001,0.9000000000000001,0.9000000000000001,0.9000000000000001,0.9000000000000001,0.9000000000000001,0.9000000000000001,0.9000000000000001,0.9000000000000001,0.9000000000000001,0.9000000000000001,0.9000000000000001,0.9000000000000001,0.9000000000000001,1.0,1.0,1.0,1.0,1.0,1.0,1.0,1.0,1.0,1.0,1.0,1.0,1.0,1.0,1.0,1.0,1.0,1.0,1.0,1.0,1.0,1.0,1.0,1.0,1.0,1.0,1.0,1.0,1.0,1.0,1.0,1.1,1.1,1.1,1.1,1.1,1.1,1.1,1.1,1.1,1.1,1.1,1.1,1.1,1.1,1.1,1.1,1.1,1.1,1.1,1.1,1.1,1.1,1.1,1.1,1.1,1.1,1.1,1.1,1.1,1.1,1.1,1.2000000000000002,1.2000000000000002,1.2000000000000002,1.2000000000000002,1.2000000000000002,1.2000000000000002,1.2000000000000002,1.2000000000000002,1.2000000000000002,1.2000000000000002,1.2000000000000002,1.2000000000000002,1.2000000000000002,1.2000000000000002,1.2000000000000002,1.2000000000000002,1.2000000000000002,1.2000000000000002,1.2000000000000002,1.2000000000000002,1.2000000000000002,1.2000000000000002,1.2000000000000002,1.2000000000000002,1.2000000000000002,1.2000000000000002,1.2000000000000002,1.2000000000000002,1.2000000000000002,1.2000000000000002,1.2000000000000002,1.3000000000000003,1.3000000000000003,1.3000000000000003,1.3000000000000003,1.3000000000000003,1.3000000000000003,1.3000000000000003,1.3000000000000003,1.3000000000000003,1.3000000000000003,1.3000000000000003,1.3000000000000003,1.3000000000000003,1.3000000000000003,1.3000000000000003,1.3000000000000003,1.3000000000000003,1.3000000000000003,1.3000000000000003,1.3000000000000003,1.3000000000000003,1.3000000000000003,1.3000000000000003,1.3000000000000003,1.3000000000000003,1.3000000000000003,1.3000000000000003,1.3000000000000003,1.3000000000000003,1.3000000000000003,1.3000000000000003,1.4000000000000004,1.4000000000000004,1.4000000000000004,1.4000000000000004,1.4000000000000004,1.4000000000000004,1.4000000000000004,1.4000000000000004,1.4000000000000004,1.4000000000000004,1.4000000000000004,1.4000000000000004,1.4000000000000004,1.4000000000000004,1.4000000000000004,1.4000000000000004,1.4000000000000004,1.4000000000000004,1.4000000000000004,1.4000000000000004,1.4000000000000004,1.4000000000000004,1.4000000000000004,1.4000000000000004,1.4000000000000004,1.4000000000000004,1.4000000000000004,1.4000000000000004,1.4000000000000004,1.4000000000000004,1.4000000000000004,1.5,1.5,1.5,1.5,1.5,1.5,1.5,1.5,1.5,1.5,1.5,1.5,1.5,1.5,1.5,1.5,1.5,1.5,1.5,1.5,1.5,1.5,1.5,1.5,1.5,1.5,1.5,1.5,1.5,1.5,1.5,1.6,1.6,1.6,1.6,1.6,1.6,1.6,1.6,1.6,1.6,1.6,1.6,1.6,1.6,1.6,1.6,1.6,1.6,1.6,1.6,1.6,1.6,1.6,1.6,1.6,1.6,1.6,1.6,1.6,1.6,1.6,1.7000000000000002,1.7000000000000002,1.7000000000000002,1.7000000000000002,1.7000000000000002,1.7000000000000002,1.7000000000000002,1.7000000000000002,1.7000000000000002,1.7000000000000002,1.7000000000000002,1.7000000000000002,1.7000000000000002,1.7000000000000002,1.7000000000000002,1.7000000000000002,1.7000000000000002,1.7000000000000002,1.7000000000000002,1.7000000000000002,1.7000000000000002,1.7000000000000002,1.7000000000000002,1.7000000000000002,1.7000000000000002,1.7000000000000002,1.7000000000000002,1.7000000000000002,1.7000000000000002,1.7000000000000002,1.7000000000000002,1.8000000000000003,1.8000000000000003,1.8000000000000003,1.8000000000000003,1.8000000000000003,1.8000000000000003,1.8000000000000003,1.8000000000000003,1.8000000000000003,1.8000000000000003,1.8000000000000003,1.8000000000000003,1.8000000000000003,1.8000000000000003,1.8000000000000003,1.8000000000000003,1.8000000000000003,1.8000000000000003,1.8000000000000003,1.8000000000000003,1.8000000000000003,1.8000000000000003,1.8000000000000003,1.8000000000000003,1.8000000000000003,1.8000000000000003,1.8000000000000003,1.8000000000000003,1.8000000000000003,1.8000000000000003,1.8000000000000003,1.9000000000000004,1.9000000000000004,1.9000000000000004,1.9000000000000004,1.9000000000000004,1.9000000000000004,1.9000000000000004,1.9000000000000004,1.9000000000000004,1.9000000000000004,1.9000000000000004,1.9000000000000004,1.9000000000000004,1.9000000000000004,1.9000000000000004,1.9000000000000004,1.9000000000000004,1.9000000000000004,1.9000000000000004,1.9000000000000004,1.9000000000000004,1.9000000000000004,1.9000000000000004,1.9000000000000004,1.9000000000000004,1.9000000000000004,1.9000000000000004,1.9000000000000004,1.9000000000000004,1.9000000000000004,1.9000000000000004,2.0,2.0,2.0,2.0,2.0,2.0,2.0,2.0,2.0,2.0,2.0,2.0,2.0,2.0,2.0,2.0,2.0,2.0,2.0,2.0,2.0,2.0,2.0,2.0,2.0,2.0,2.0,2.0,2.0,2.0,2.0],\"z\":[7.095198681019288,6.7711599110261815,6.477085840570917,6.212976469653494,5.978831798273916,5.77465182643218,5.600436554128286,5.456185981362235,5.341900108134026,5.257578934443661,5.203222460291136,5.178830685676455,5.184403610599618,5.21994123506062,5.285443559059467,5.380910582596156,5.506342305670689,5.661738728283062,5.84709985043328,6.06242567212134,6.3077161933472405,6.582971414110986,6.888191334412575,7.223375954252002,7.5885252736292745,7.983639292544391,8.408718010997347,8.863761428988148,9.34876954651679,9.863742363583277,10.408679880187602,7.091220533945266,6.765769675510544,6.470283516613668,6.204762057254632,5.969205297433439,5.76361323715009,5.5879858764045816,5.442323215196918,5.326625253527095,5.240891991395116,5.185123428800979,5.159319565744684,5.163480402226233,5.197605938245622,5.261696173802855,5.355751108897931,5.47977074353085,5.63375507770161,5.817704111410214,6.031617844656662,6.275496277440948,6.54933940976308,6.853147241623054,7.186919773020869,7.55065700395653,7.944358934430028,8.368025564441375,8.821656893990557,9.305252923077589,9.818813651702461,10.362339079865176,7.087349658164382,6.760486711288048,6.4635884639495575,6.196654916148909,5.959686067886103,5.752681919161141,5.575642469974019,5.428567720324741,5.311457670213305,5.224312319639712,5.167131668603962,5.139915717106053,5.142664465145988,5.175377912723766,5.238056059839385,5.330698906492847,5.453306452684153,5.605878698413299,5.788415643680288,6.000917288485123,6.243383632827796,6.515814676708311,6.818210420126676,7.150570863082876,7.512896005576922,7.905185847608811,8.327440389178538,8.779659630286114,9.261843570931532,9.773992211114788,10.316105550835886,7.083586053676642,6.755311018358693,6.457000682578589,6.1886550463363275,5.950274109631907,5.7418578724653315,5.563406334836596,5.414919496745704,5.296397358192656,5.207839919177449,5.149247179700085,5.120619139760563,5.121955799358884,5.153257158495048,5.214523217169054,5.305753975380902,5.426949433130594,5.578109590418127,5.759234447243503,5.970324003606725,6.211378259507782,6.482397214946689,6.783380869923436,7.114329224438022,7.475242278490454,7.86612003208073,8.286962485208845,8.737769637874807,9.21854149007861,9.729278041820253,10.26997929309974,7.079929720482041,6.7502425967224795,6.450520172500761,6.180762447816885,5.940969422670853,5.731141097062663,5.551277470992314,5.401378544459809,5.281444317465146,5.191474790008327,5.131469962089349,5.101429833708214,5.101354404864922,5.131243675559472,5.191097645791864,5.280916315562099,5.400699684870177,5.550447753716098,5.73016052209986,5.939837990021466,6.1794801574809135,6.449087024478204,6.748658591013337,7.078194857086315,7.437695822697131,7.827161487845792,8.246591852532294,8.695986916756638,9.175346680518828,9.68467114381886,10.223960306656732,7.076380658580581,6.745281446379405,6.444146933716073,6.172977120590584,5.931772007002937,5.720531592953135,5.539255878441173,5.387944863467054,5.266598548030778,5.1752169321323445,5.113800015771753,5.082347798949005,5.080860281664099,5.1093374639170355,5.167779345707814,5.2561859270364355,5.3745572079029,5.522893188307206,5.701193868249356,5.909459247729349,6.147689326747181,6.415884105302857,6.71404358339638,7.0421677610277404,7.400256638196945,7.788310214903994,8.206328491148879,8.654311466931613,9.132259142252192,9.64017151711061,10.178048591506867,7.072938867972261,6.740427567329473,6.437880966224527,6.165299064657424,5.922681862628164,5.710029360136748,5.527341557183172,5.37461845376744,5.25186004988955,5.159066345549503,5.096237340747298,5.063373035482936,5.060473429756417,5.08753852356774,5.144568316916906,5.231562809803913,5.348522002228764,5.495445894191458,5.672334485691993,5.879187776730372,6.116005767306593,6.382788457420657,6.679535847072563,7.0062479362623105,7.362924724989904,7.749566213255335,8.166172401058612,8.61274328839973,9.089278875278694,9.595779161695496,10.132244147650143,7.069604348657081,6.73568095957268,6.431722270026121,6.1577282800174045,5.913698989546532,5.699634398613501,5.515534507218312,5.361399315360966,5.237228823041463,5.143023030259802,5.078781937015984,5.0445055433100086,5.040193849141875,5.065846854511585,5.121464559419137,5.207046963864532,5.32259406784777,5.468105871368849,5.643582374427771,5.8490235770245365,6.084429479159143,6.349800080831595,6.645135382041886,6.970435382790022,7.325700083076001,7.710929482899818,8.126123582261481,8.571282381160987,9.046405879598336,9.551494077573528,10.08654697508656,7.0663771006350435,6.731041623109029,6.425670845120856,6.150264766670526,5.9048233877580385,5.689346708383395,5.503834728546592,5.348287448247634,5.222704867486517,5.127086986263243,5.061433804577811,5.025745322430222,5.020021539820475,5.044262456748571,5.09846807321451,5.18263838921829,5.296773404759914,5.44087311983938,5.61493753445669,5.81896664861184,6.052960462304834,6.316918975535671,6.61084218830435,6.934730100610871,7.288582712455236,7.67240002383744,8.08618203475749,8.529928745215381,9.003640155211118,9.507316264744695,10.040957073816116,7.063257123906146,6.726509557938518,6.419726691508731,6.142908524616788,5.8960550572626875,5.67916628944643,5.492242221168014,5.335282852427441,5.2082881832247105,5.1112582135598235,5.044192943432778,5.007092372843575,4.999956501792215,5.022785330278698,5.075578858303023,5.15833708586519,5.2710600129652,5.413747639603053,5.586399965778748,5.7890169914922875,6.021598716743666,6.28414514153289,6.576656265859956,6.899132089724863,7.251572613127616,7.633977836068205,8.046347758546643,8.48868238056292,8.960981702117044,9.463245723209006,9.995474443838813,7.060244418470388,6.722084764061146,6.413889809189747,6.13565955385619,5.887393998060476,5.669093141802605,5.480756985082576,5.32238552790039,5.193978770256046,5.095536712149545,5.027059353580886,4.988546694550069,4.979998735057096,5.001415475101965,5.052796914684676,5.13414305380523,5.245453892463628,5.386729430659867,5.557969668393948,5.759174605665873,5.990344242475639,6.251478578823249,6.542577614708701,6.8636413501319975,7.214669785093134,7.595662919592111,8.006620753628932,8.447543287203597,8.918430520316107,9.419282452966456,9.95009908515465,7.057338984327771,6.717767241476916,6.408160198163904,6.128517854388733,5.878840210151406,5.659127265451922,5.469379020290278,5.309595474666478,5.179776628580521,5.079922482032407,5.0100330350221345,4.970108287549705,4.960148239615117,4.980152891218372,5.030122242359471,5.1100562930384115,5.219955043255195,5.35981849300982,5.529646642302289,5.7294394911326,5.959197039500752,6.218919287406749,6.508606234850587,6.8282578818322675,7.177874228351792,7.557455274409157,7.967001020004364,8.406511465137417,8.875986609808312,9.375426454017047,9.904830997763629,7.054540821478296,6.713556990185827,6.4025378584312005,6.121483426214416,5.870393693535475,5.649268660394378,5.4581083267911215,5.296912692725708,5.165681758198137,5.064415523208409,4.993113987756523,4.95177715184248,4.940405015466279,4.958997578627922,5.007554841327406,5.086076803564732,5.194563465339902,5.3330148266529145,5.501430887503769,5.699811647892467,5.928157107819007,6.186467267283389,6.474742126285616,6.792981684825681,7.141185942903592,7.519354900519344,7.927488557672937,8.365586914364378,8.833649970593656,9.33167772636078,9.859670181665745,7.051849929921961,6.709454010187879,6.397022789991638,6.1145562693332405,5.862054448212686,5.639517326629975,5.446944904585105,5.284337182078079,5.151694159108894,5.049015835677553,4.976302211784053,4.9335532874283965,4.9207690626105824,4.937949537330611,4.985094711588482,5.062204585384195,5.169279158717751,5.30631843158915,5.473322403998391,5.6702910759454745,5.897224447430401,6.154122518453169,6.440985289013782,6.757812759112236,7.104604928748533,7.481361797922672,7.888083366634655,8.324769634884477,8.791420602672144,9.288036269997653,9.814616636861004,7.049266309658767,6.705458301483071,6.391614992845216,6.107736383745206,5.853822474183038,5.629873264158713,5.43588875367223,5.271868942723589,5.1378138313127915,5.033723419439836,4.959597707104724,4.915436694307453,4.901240381048026,4.917008767326441,4.962741853142698,5.038439638496798,5.14410212338874,5.279729307818526,5.445321191786153,5.640877775291624,5.866399058334936,6.121885040916092,6.40733572303509,6.72275110469193,7.068131185886614,7.443475966619138,7.848785446889506,8.284059626697717,8.749298506043772,9.244502084927667,9.769670363349405,7.046789960688713,6.701569864071404,6.386314466991936,6.101023769450311,5.845697771446531,5.6203364729805925,5.424939874052495,5.259507974662241,5.12404077480983,5.018538274495261,4.943000473718534,4.89742737247965,4.8818189707786095,4.896175268615411,4.940496265990054,5.014781962902541,5.119032359352871,5.253247455341042,5.417427250867056,5.611571745930913,5.835680940532612,6.089754834672155,6.373793428349539,6.687796721564765,7.031764714317835,7.405697406608746,7.8095947984375,8.243456889804099,8.707283680708539,9.20107517115082,9.724831361130946,7.044420883011799,6.697788697952876,6.381121212431795,6.094418426448557,5.837680340003163,5.610906953095611,5.414098265725901,5.247254277894033,5.110374989600008,5.003460400843826,4.926510511625486,4.879525321944989,4.862504831802334,4.8754490411975215,4.918357950130552,4.9912315586014255,5.094069866610141,5.226872874156699,5.3896405812411,5.582372987863343,5.805070094023428,6.057731899721357,6.340358404957128,6.652949609730741,6.995505514042198,7.368026117891496,7.770511421278636,8.202961424203622,8.665376126666448,9.157755528667117,9.680099630205628,7.042159076628028,6.694114803127491,6.376035229164796,6.0879203547399445,5.829770179852936,5.601584704503771,5.403363928692447,5.235107852418966,5.096816475683328,4.988489798485531,4.910127820825578,4.861730542703468,4.843297964119199,4.8548300850727735,4.896326905564191,4.96778842559345,5.069214645160552,5.200605564265497,5.361961182908284,5.553281501088914,5.774566518807386,6.025816236063701,6.307030652857859,6.618209769189858,6.9593535850597,7.3304621004673844,7.731535315412913,8.162573229896282,8.623575843917497,9.11454315747655,9.63547517057345,7.040004541537394,6.690548179595245,6.371056517190937,6.081529554324472,5.82196729099585,5.592369727205071,5.392736862952134,5.223068698237039,5.083365233059787,4.973626467420378,4.893852401318811,4.844043034755087,4.824198367729205,4.834318400241166,4.874403132290969,4.944452563878615,5.044466695004104,5.174445525667435,5.334389055868608,5.524297285607625,5.744170214884483,5.994007843699185,6.273810172051729,6.583577199942115,6.923308927370345,7.293005354336414,7.6926664808403284,8.122292306882088,8.581882832461686,9.071438057579128,9.590957982234412,7.037957277739904,6.687088827356142,6.366185076510219,6.075246025202141,5.814271673431905,5.583262021199513,5.382217068504961,5.211136815348254,5.070021261729388,4.958870407648365,4.877684253105185,4.826462798099847,4.805206042632352,4.813913986702699,4.852586630310889,4.921223973456922,5.019826016140796,5.148392758362514,5.306924200122074,5.495420341419477,5.713881182254722,5.96230672262781,6.240696962538741,6.5490519019875135,6.887371540974129,7.255655879498586,7.653904917560885,8.08211865516103,8.540297092299019,9.028440228974848,9.546548065188514,7.0360172852355545,6.683736746410177,6.361420907122642,6.06906976737295,5.8066833271611005,5.574261586487094,5.371804545350929,5.1993122037526085,5.056784561692129,4.944221619169493,4.861623376184699,4.808989832737748,4.786320988828638,4.793616844457373,4.830877399623949,4.898102654328368,4.9952926085706295,5.122447262350733,5.2795666156686805,5.46665066852447,5.683699420918101,5.9307128728495755,6.207691024318893,6.5146338753260515,6.851541425871055,7.218413675953897,7.615250625574584,8.042052274733114,8.498818623429486,8.985549671663703,9.50224541943576,7.0341845640243434,6.6804919367573525,6.356764009028206,6.063000780836898,5.799202252183437,5.5653684230678175,5.361499293490039,5.187594863450103,5.04365513294801,4.929680101983761,4.845669770557354,4.791624138668789,4.7675432063180665,4.773426973505187,4.80927544023015,4.875088606492955,4.970866472293603,5.096609037632094,5.252316302508427,5.437988266922603,5.653624930874621,5.899226294364482,6.174792357392185,6.480323119957731,6.81581858206112,7.18127874370235,7.576703604881423,8.002093165598339,8.4574474258531,8.942766385645701,9.458050044976144,7.032459114106273,6.677354398397671,6.352214382226907,6.05703906559399,5.7918284484989115,5.556582530941679,5.351301312922288,5.1759847944407396,5.030632975497034,4.91524585609117,4.829823436223149,4.774365715892971,4.748872695100635,4.753344373846142,4.787780752129492,4.852181829950683,4.946547607309718,5.070878084206595,5.225173260641315,5.409433136613877,5.623657712124281,5.867846987172529,6.142000961758619,6.4461196358825505,6.780203009544326,7.144251082743942,7.538263855481403,7.962241327756705,8.41618349956985,8.90009037092084,9.413961941809669,7.030840935481344,6.674324131331126,6.34777202671875,6.051184621644219,5.784561916107531,5.547903910108684,5.341210603647678,5.164481996724517,5.017718089339197,4.9009188814917195,4.8140843731820855,4.757214564410294,4.730309455176345,4.733369045480238,4.766393335321974,4.829382324701552,4.922336013618973,5.045254402074236,5.198137490067342,5.380985277598291,5.593797764667082,5.8365749512737155,6.109316837418192,6.412023423100511,6.744694708320672,7.107330693078676,7.499931377374521,7.922496761208212,8.375026844579745,8.85752162748912,9.369981109936335,7.029330028149558,6.6714011355577245,6.343436942503739,6.04543744898759,5.777402655009289,5.539332560568829,5.331227165666209,5.153086470301433,5.004910474474501,4.8866991781854106,4.798452581434162,4.7401706842207565,4.711853486545194,4.713500988407474,4.745113189807596,4.806690090745561,4.898231691221368,5.019737991235019,5.171208990786511,5.352644689875846,5.564045088503024,5.805410186668044,6.076739984370907,6.378034481611612,6.709293678390161,7.07051757470655,7.461706170560783,7.882859465952858,8.333977460882778,8.815060155350537,9.326107549356141,7.027926392110911,6.6685854110774665,6.339209129581864,6.039797547624104,5.7703506652041865,5.530868482322114,5.32135099897788,5.141798215171492,4.992210130902946,4.8725867461722405,4.78292806097938,4.723234075324361,4.693504789207185,4.693740202627851,4.7239403155863595,4.784105128082711,4.874234640116905,4.994328851688942,5.144387762798821,5.324411373446542,5.534399683632106,5.774352693355513,6.044270402616762,6.344152811415854,6.673999919752789,7.0338117276275645,7.423588235040183,7.8433294419906465,8.293035348478952,8.7727059545051,9.282341260069087,7.026630027365403,6.665876957890346,6.335088587953128,6.034264917553756,5.763405946692226,5.522511675368537,5.311582103582692,5.130617231334689,4.97961705862453,4.858581585452213,4.767510811817738,4.706404737721106,4.6752633631623155,4.674086688141368,4.7028747126582635,4.761627436713002,4.850344860305582,4.969026983436005,5.11767380610427,5.296285328310378,5.504861550054328,5.743402471336122,6.011908092155759,6.310378412513236,6.638813432408558,6.99721315184172,7.385577570812726,7.803906689321575,8.252200507368267,8.7304590249528,9.238682242075175,7.0254409339130355,6.6632757759963654,6.331075317617534,6.028839558776547,5.756568499473406,5.514262139708105,5.301920479480647,5.11954351879103,4.967131257639255,4.844683696025324,4.752200833949237,4.68968267141099,4.657129208410587,4.654540444948027,4.681916381023308,4.739257016636433,4.826562351787399,4.943832386476209,5.091067120702861,5.268266554467355,5.475430687769692,5.712559520609872,5.979653052987895,6.27671128490376,6.603734216357467,6.960721847349016,7.3476741778784085,7.764591207945644,8.21147293755072,8.68831936669364,9.195130495374404,7.024359111753811,6.660781865395527,6.3271693185750815,6.023521471292483,5.749838323547725,5.506119875340811,5.292366126671738,5.108577077540511,4.954752727947122,4.830893077891577,4.736998127373877,4.6730678763940166,4.639102324951999,4.635101473047825,4.661065320681493,4.716993867853004,4.802887114562357,4.918745060809553,5.064567706594592,5.240355051917473,5.446107096778197,5.6818238411767625,5.947505285113172,6.243151428587423,6.5687622715995175,6.924337814149452,7.309878056237231,7.725382997862853,8.170852639026318,8.646286979727625,9.151686019966773,7.023384560887729,6.65839522608783,6.323370590825771,6.018310655101559,5.743215418915188,5.498084882266658,5.282919045155972,5.09771790758313,4.94248146954813,4.817209731050972,4.721902692091656,4.656560352670183,4.621182712786553,4.615769772440765,4.64032153163282,4.694837990362717,4.7793191486304565,4.893765006436039,5.038175563779464,5.212550820660732,5.416890777079841,5.651195433036794,5.915464788531589,6.209698843564228,6.533897598134708,6.88806105224303,7.272189205889195,7.6862820590732035,8.130339611795055,8.604361864054749,9.108348815852283,7.022517281314784,6.656115858073271,6.319679134369599,6.013207110203771,5.736699785575787,5.490157160485648,5.273579234933347,5.086966008918892,4.930317482442277,4.803633655503504,4.706914528102576,4.64016010023949,4.603370371914246,4.596545343126844,4.619685013877286,4.67278938416557,4.755858453991696,4.868892223355665,5.011890692257476,5.184853860697131,5.387781728674627,5.620674296189966,5.883531563243149,6.176353529834173,6.49914019596304,6.851891561629747,7.234607626834299,7.647288391576695,8.089933855856932,8.562544019675013,9.065118883030934],\"type\":\"scatter3d\"},{\"colorbar\":{\"x\":0},\"name\":\"data surface\",\"opacity\":0.5,\"showlegend\":true,\"x\":[[0.0,0.1,0.2,0.30000000000000004,0.4,0.5,0.6000000000000001,0.7000000000000001,0.8,0.9,1.0],[0.0,0.1,0.2,0.30000000000000004,0.4,0.5,0.6000000000000001,0.7000000000000001,0.8,0.9,1.0],[0.0,0.1,0.2,0.30000000000000004,0.4,0.5,0.6000000000000001,0.7000000000000001,0.8,0.9,1.0],[0.0,0.1,0.2,0.30000000000000004,0.4,0.5,0.6000000000000001,0.7000000000000001,0.8,0.9,1.0],[0.0,0.1,0.2,0.30000000000000004,0.4,0.5,0.6000000000000001,0.7000000000000001,0.8,0.9,1.0],[0.0,0.1,0.2,0.30000000000000004,0.4,0.5,0.6000000000000001,0.7000000000000001,0.8,0.9,1.0],[0.0,0.1,0.2,0.30000000000000004,0.4,0.5,0.6000000000000001,0.7000000000000001,0.8,0.9,1.0],[0.0,0.1,0.2,0.30000000000000004,0.4,0.5,0.6000000000000001,0.7000000000000001,0.8,0.9,1.0],[0.0,0.1,0.2,0.30000000000000004,0.4,0.5,0.6000000000000001,0.7000000000000001,0.8,0.9,1.0],[0.0,0.1,0.2,0.30000000000000004,0.4,0.5,0.6000000000000001,0.7000000000000001,0.8,0.9,1.0],[0.0,0.1,0.2,0.30000000000000004,0.4,0.5,0.6000000000000001,0.7000000000000001,0.8,0.9,1.0]],\"y\":[[0.0,0.0,0.0,0.0,0.0,0.0,0.0,0.0,0.0,0.0,0.0],[0.1,0.1,0.1,0.1,0.1,0.1,0.1,0.1,0.1,0.1,0.1],[0.2,0.2,0.2,0.2,0.2,0.2,0.2,0.2,0.2,0.2,0.2],[0.30000000000000004,0.30000000000000004,0.30000000000000004,0.30000000000000004,0.30000000000000004,0.30000000000000004,0.30000000000000004,0.30000000000000004,0.30000000000000004,0.30000000000000004,0.30000000000000004],[0.4,0.4,0.4,0.4,0.4,0.4,0.4,0.4,0.4,0.4,0.4],[0.5,0.5,0.5,0.5,0.5,0.5,0.5,0.5,0.5,0.5,0.5],[0.6000000000000001,0.6000000000000001,0.6000000000000001,0.6000000000000001,0.6000000000000001,0.6000000000000001,0.6000000000000001,0.6000000000000001,0.6000000000000001,0.6000000000000001,0.6000000000000001],[0.7000000000000001,0.7000000000000001,0.7000000000000001,0.7000000000000001,0.7000000000000001,0.7000000000000001,0.7000000000000001,0.7000000000000001,0.7000000000000001,0.7000000000000001,0.7000000000000001],[0.8,0.8,0.8,0.8,0.8,0.8,0.8,0.8,0.8,0.8,0.8],[0.9,0.9,0.9,0.9,0.9,0.9,0.9,0.9,0.9,0.9,0.9],[1.0,1.0,1.0,1.0,1.0,1.0,1.0,1.0,1.0,1.0,1.0]],\"z\":[[5.0,5.001,5.008,5.027,5.064,5.125,5.216,5.343,5.5120000000000005,5.729,6.0],[4.98,4.981,4.988,5.007,5.044,5.105,5.196,5.323,5.492,5.709,5.98],[4.96,4.961,4.968,4.987,5.024,5.085,5.176,5.303,5.472,5.689,5.96],[4.94,4.941,4.948,4.967,5.004,5.065,5.156,5.283,5.452,5.6690000000000005,5.9399999999999995],[4.92,4.921,4.928,4.947,4.984,5.045,5.136,5.263,5.432,5.649,5.92],[4.9,4.901,4.908,4.927,4.964,5.025,5.116,5.243,5.412,5.6290000000000004,5.9],[4.88,4.881,4.888,4.907,4.944,5.005,5.096,5.223,5.392,5.609,5.88],[4.86,4.861,4.868,4.887,4.924,4.985,5.0760000000000005,5.203,5.372,5.589,5.86],[4.84,4.841,4.848,4.867,4.904,4.965,5.056,5.183,5.352,5.569,5.84],[4.82,4.821,4.828,4.847,4.884,4.945,5.0360000000000005,5.163,5.332,5.549,5.82],[4.8,4.801,4.808,4.827,4.864,4.925,5.016,5.143,5.312,5.529,5.8]],\"type\":\"surface\"}],                        {\"template\":{\"data\":{\"histogram2dcontour\":[{\"type\":\"histogram2dcontour\",\"colorbar\":{\"outlinewidth\":0,\"ticks\":\"\"},\"colorscale\":[[0.0,\"#0d0887\"],[0.1111111111111111,\"#46039f\"],[0.2222222222222222,\"#7201a8\"],[0.3333333333333333,\"#9c179e\"],[0.4444444444444444,\"#bd3786\"],[0.5555555555555556,\"#d8576b\"],[0.6666666666666666,\"#ed7953\"],[0.7777777777777778,\"#fb9f3a\"],[0.8888888888888888,\"#fdca26\"],[1.0,\"#f0f921\"]]}],\"choropleth\":[{\"type\":\"choropleth\",\"colorbar\":{\"outlinewidth\":0,\"ticks\":\"\"}}],\"histogram2d\":[{\"type\":\"histogram2d\",\"colorbar\":{\"outlinewidth\":0,\"ticks\":\"\"},\"colorscale\":[[0.0,\"#0d0887\"],[0.1111111111111111,\"#46039f\"],[0.2222222222222222,\"#7201a8\"],[0.3333333333333333,\"#9c179e\"],[0.4444444444444444,\"#bd3786\"],[0.5555555555555556,\"#d8576b\"],[0.6666666666666666,\"#ed7953\"],[0.7777777777777778,\"#fb9f3a\"],[0.8888888888888888,\"#fdca26\"],[1.0,\"#f0f921\"]]}],\"heatmap\":[{\"type\":\"heatmap\",\"colorbar\":{\"outlinewidth\":0,\"ticks\":\"\"},\"colorscale\":[[0.0,\"#0d0887\"],[0.1111111111111111,\"#46039f\"],[0.2222222222222222,\"#7201a8\"],[0.3333333333333333,\"#9c179e\"],[0.4444444444444444,\"#bd3786\"],[0.5555555555555556,\"#d8576b\"],[0.6666666666666666,\"#ed7953\"],[0.7777777777777778,\"#fb9f3a\"],[0.8888888888888888,\"#fdca26\"],[1.0,\"#f0f921\"]]}],\"heatmapgl\":[{\"type\":\"heatmapgl\",\"colorbar\":{\"outlinewidth\":0,\"ticks\":\"\"},\"colorscale\":[[0.0,\"#0d0887\"],[0.1111111111111111,\"#46039f\"],[0.2222222222222222,\"#7201a8\"],[0.3333333333333333,\"#9c179e\"],[0.4444444444444444,\"#bd3786\"],[0.5555555555555556,\"#d8576b\"],[0.6666666666666666,\"#ed7953\"],[0.7777777777777778,\"#fb9f3a\"],[0.8888888888888888,\"#fdca26\"],[1.0,\"#f0f921\"]]}],\"contourcarpet\":[{\"type\":\"contourcarpet\",\"colorbar\":{\"outlinewidth\":0,\"ticks\":\"\"}}],\"contour\":[{\"type\":\"contour\",\"colorbar\":{\"outlinewidth\":0,\"ticks\":\"\"},\"colorscale\":[[0.0,\"#0d0887\"],[0.1111111111111111,\"#46039f\"],[0.2222222222222222,\"#7201a8\"],[0.3333333333333333,\"#9c179e\"],[0.4444444444444444,\"#bd3786\"],[0.5555555555555556,\"#d8576b\"],[0.6666666666666666,\"#ed7953\"],[0.7777777777777778,\"#fb9f3a\"],[0.8888888888888888,\"#fdca26\"],[1.0,\"#f0f921\"]]}],\"surface\":[{\"type\":\"surface\",\"colorbar\":{\"outlinewidth\":0,\"ticks\":\"\"},\"colorscale\":[[0.0,\"#0d0887\"],[0.1111111111111111,\"#46039f\"],[0.2222222222222222,\"#7201a8\"],[0.3333333333333333,\"#9c179e\"],[0.4444444444444444,\"#bd3786\"],[0.5555555555555556,\"#d8576b\"],[0.6666666666666666,\"#ed7953\"],[0.7777777777777778,\"#fb9f3a\"],[0.8888888888888888,\"#fdca26\"],[1.0,\"#f0f921\"]]}],\"mesh3d\":[{\"type\":\"mesh3d\",\"colorbar\":{\"outlinewidth\":0,\"ticks\":\"\"}}],\"scatter\":[{\"fillpattern\":{\"fillmode\":\"overlay\",\"size\":10,\"solidity\":0.2},\"type\":\"scatter\"}],\"parcoords\":[{\"type\":\"parcoords\",\"line\":{\"colorbar\":{\"outlinewidth\":0,\"ticks\":\"\"}}}],\"scatterpolargl\":[{\"type\":\"scatterpolargl\",\"marker\":{\"colorbar\":{\"outlinewidth\":0,\"ticks\":\"\"}}}],\"bar\":[{\"error_x\":{\"color\":\"#2a3f5f\"},\"error_y\":{\"color\":\"#2a3f5f\"},\"marker\":{\"line\":{\"color\":\"#E5ECF6\",\"width\":0.5},\"pattern\":{\"fillmode\":\"overlay\",\"size\":10,\"solidity\":0.2}},\"type\":\"bar\"}],\"scattergeo\":[{\"type\":\"scattergeo\",\"marker\":{\"colorbar\":{\"outlinewidth\":0,\"ticks\":\"\"}}}],\"scatterpolar\":[{\"type\":\"scatterpolar\",\"marker\":{\"colorbar\":{\"outlinewidth\":0,\"ticks\":\"\"}}}],\"histogram\":[{\"marker\":{\"pattern\":{\"fillmode\":\"overlay\",\"size\":10,\"solidity\":0.2}},\"type\":\"histogram\"}],\"scattergl\":[{\"type\":\"scattergl\",\"marker\":{\"colorbar\":{\"outlinewidth\":0,\"ticks\":\"\"}}}],\"scatter3d\":[{\"type\":\"scatter3d\",\"line\":{\"colorbar\":{\"outlinewidth\":0,\"ticks\":\"\"}},\"marker\":{\"colorbar\":{\"outlinewidth\":0,\"ticks\":\"\"}}}],\"scattermapbox\":[{\"type\":\"scattermapbox\",\"marker\":{\"colorbar\":{\"outlinewidth\":0,\"ticks\":\"\"}}}],\"scatterternary\":[{\"type\":\"scatterternary\",\"marker\":{\"colorbar\":{\"outlinewidth\":0,\"ticks\":\"\"}}}],\"scattercarpet\":[{\"type\":\"scattercarpet\",\"marker\":{\"colorbar\":{\"outlinewidth\":0,\"ticks\":\"\"}}}],\"carpet\":[{\"aaxis\":{\"endlinecolor\":\"#2a3f5f\",\"gridcolor\":\"white\",\"linecolor\":\"white\",\"minorgridcolor\":\"white\",\"startlinecolor\":\"#2a3f5f\"},\"baxis\":{\"endlinecolor\":\"#2a3f5f\",\"gridcolor\":\"white\",\"linecolor\":\"white\",\"minorgridcolor\":\"white\",\"startlinecolor\":\"#2a3f5f\"},\"type\":\"carpet\"}],\"table\":[{\"cells\":{\"fill\":{\"color\":\"#EBF0F8\"},\"line\":{\"color\":\"white\"}},\"header\":{\"fill\":{\"color\":\"#C8D4E3\"},\"line\":{\"color\":\"white\"}},\"type\":\"table\"}],\"barpolar\":[{\"marker\":{\"line\":{\"color\":\"#E5ECF6\",\"width\":0.5},\"pattern\":{\"fillmode\":\"overlay\",\"size\":10,\"solidity\":0.2}},\"type\":\"barpolar\"}],\"pie\":[{\"automargin\":true,\"type\":\"pie\"}]},\"layout\":{\"autotypenumbers\":\"strict\",\"colorway\":[\"#636efa\",\"#EF553B\",\"#00cc96\",\"#ab63fa\",\"#FFA15A\",\"#19d3f3\",\"#FF6692\",\"#B6E880\",\"#FF97FF\",\"#FECB52\"],\"font\":{\"color\":\"#2a3f5f\"},\"hovermode\":\"closest\",\"hoverlabel\":{\"align\":\"left\"},\"paper_bgcolor\":\"white\",\"plot_bgcolor\":\"#E5ECF6\",\"polar\":{\"bgcolor\":\"#E5ECF6\",\"angularaxis\":{\"gridcolor\":\"white\",\"linecolor\":\"white\",\"ticks\":\"\"},\"radialaxis\":{\"gridcolor\":\"white\",\"linecolor\":\"white\",\"ticks\":\"\"}},\"ternary\":{\"bgcolor\":\"#E5ECF6\",\"aaxis\":{\"gridcolor\":\"white\",\"linecolor\":\"white\",\"ticks\":\"\"},\"baxis\":{\"gridcolor\":\"white\",\"linecolor\":\"white\",\"ticks\":\"\"},\"caxis\":{\"gridcolor\":\"white\",\"linecolor\":\"white\",\"ticks\":\"\"}},\"coloraxis\":{\"colorbar\":{\"outlinewidth\":0,\"ticks\":\"\"}},\"colorscale\":{\"sequential\":[[0.0,\"#0d0887\"],[0.1111111111111111,\"#46039f\"],[0.2222222222222222,\"#7201a8\"],[0.3333333333333333,\"#9c179e\"],[0.4444444444444444,\"#bd3786\"],[0.5555555555555556,\"#d8576b\"],[0.6666666666666666,\"#ed7953\"],[0.7777777777777778,\"#fb9f3a\"],[0.8888888888888888,\"#fdca26\"],[1.0,\"#f0f921\"]],\"sequentialminus\":[[0.0,\"#0d0887\"],[0.1111111111111111,\"#46039f\"],[0.2222222222222222,\"#7201a8\"],[0.3333333333333333,\"#9c179e\"],[0.4444444444444444,\"#bd3786\"],[0.5555555555555556,\"#d8576b\"],[0.6666666666666666,\"#ed7953\"],[0.7777777777777778,\"#fb9f3a\"],[0.8888888888888888,\"#fdca26\"],[1.0,\"#f0f921\"]],\"diverging\":[[0,\"#8e0152\"],[0.1,\"#c51b7d\"],[0.2,\"#de77ae\"],[0.3,\"#f1b6da\"],[0.4,\"#fde0ef\"],[0.5,\"#f7f7f7\"],[0.6,\"#e6f5d0\"],[0.7,\"#b8e186\"],[0.8,\"#7fbc41\"],[0.9,\"#4d9221\"],[1,\"#276419\"]]},\"xaxis\":{\"gridcolor\":\"white\",\"linecolor\":\"white\",\"ticks\":\"\",\"title\":{\"standoff\":15},\"zerolinecolor\":\"white\",\"automargin\":true,\"zerolinewidth\":2},\"yaxis\":{\"gridcolor\":\"white\",\"linecolor\":\"white\",\"ticks\":\"\",\"title\":{\"standoff\":15},\"zerolinecolor\":\"white\",\"automargin\":true,\"zerolinewidth\":2},\"scene\":{\"xaxis\":{\"backgroundcolor\":\"#E5ECF6\",\"gridcolor\":\"white\",\"linecolor\":\"white\",\"showbackground\":true,\"ticks\":\"\",\"zerolinecolor\":\"white\",\"gridwidth\":2},\"yaxis\":{\"backgroundcolor\":\"#E5ECF6\",\"gridcolor\":\"white\",\"linecolor\":\"white\",\"showbackground\":true,\"ticks\":\"\",\"zerolinecolor\":\"white\",\"gridwidth\":2},\"zaxis\":{\"backgroundcolor\":\"#E5ECF6\",\"gridcolor\":\"white\",\"linecolor\":\"white\",\"showbackground\":true,\"ticks\":\"\",\"zerolinecolor\":\"white\",\"gridwidth\":2}},\"shapedefaults\":{\"line\":{\"color\":\"#2a3f5f\"}},\"annotationdefaults\":{\"arrowcolor\":\"#2a3f5f\",\"arrowhead\":0,\"arrowwidth\":1},\"geo\":{\"bgcolor\":\"white\",\"landcolor\":\"#E5ECF6\",\"subunitcolor\":\"white\",\"showland\":true,\"showlakes\":true,\"lakecolor\":\"white\"},\"title\":{\"x\":0.05},\"mapbox\":{\"style\":\"light\"}}},\"scene\":{\"camera\":{\"projection\":{\"type\":\"orthographic\"}}}},                        {\"responsive\": true}                    ).then(function(){\n",
              "                            \n",
              "var gd = document.getElementById('870eef7c-8f68-4a8f-b453-7fdf780668fd');\n",
              "var x = new MutationObserver(function (mutations, observer) {{\n",
              "        var display = window.getComputedStyle(gd).display;\n",
              "        if (!display || display === 'none') {{\n",
              "            console.log([gd, 'removed!']);\n",
              "            Plotly.purge(gd);\n",
              "            observer.disconnect();\n",
              "        }}\n",
              "}});\n",
              "\n",
              "// Listen for the removal of the full notebook cells\n",
              "var notebookContainer = gd.closest('#notebook-container');\n",
              "if (notebookContainer) {{\n",
              "    x.observe(notebookContainer, {childList: true});\n",
              "}}\n",
              "\n",
              "// Listen for the clearing of the current output cell\n",
              "var outputEl = gd.closest('.output');\n",
              "if (outputEl) {{\n",
              "    x.observe(outputEl, {childList: true});\n",
              "}}\n",
              "\n",
              "                        })                };                            </script>        </div>\n",
              "</body>\n",
              "</html>"
            ]
          },
          "metadata": {}
        }
      ]
    },
    {
      "cell_type": "code",
      "source": [],
      "metadata": {
        "id": "nQ_2c4WFvkv7"
      },
      "execution_count": 19,
      "outputs": []
    }
  ]
}