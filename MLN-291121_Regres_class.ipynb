{
  "nbformat": 4,
  "nbformat_minor": 0,
  "metadata": {
    "colab": {
      "name": "MLN.ipynb",
      "provenance": [],
      "collapsed_sections": [],
      "toc_visible": true,
      "include_colab_link": true
    },
    "kernelspec": {
      "name": "python3",
      "display_name": "Python 3"
    },
    "language_info": {
      "name": "python"
    }
  },
  "cells": [
    {
      "cell_type": "markdown",
      "metadata": {
        "id": "view-in-github",
        "colab_type": "text"
      },
      "source": [
        "<a href=\"https://colab.research.google.com/github/vladgap/Various/blob/main/MLN-291121_Regres_class.ipynb\" target=\"_parent\"><img src=\"https://colab.research.google.com/assets/colab-badge.svg\" alt=\"Open In Colab\"/></a>"
      ]
    },
    {
      "cell_type": "code",
      "metadata": {
        "id": "rWfs6xKyIiBC"
      },
      "source": [
        "import numpy as np\n",
        "# import pandas as pd\n",
        "from sklearn import preprocessing"
      ],
      "execution_count": 171,
      "outputs": []
    },
    {
      "cell_type": "markdown",
      "metadata": {
        "id": "VG50azfXte36"
      },
      "source": [
        "# StandardScaler"
      ]
    },
    {
      "cell_type": "code",
      "metadata": {
        "colab": {
          "base_uri": "https://localhost:8080/"
        },
        "id": "Jn6l3WGso4QY",
        "outputId": "93a503d1-75b4-4ff7-cbe4-4a864c9d954f"
      },
      "source": [
        "x=[\n",
        "[2,1,0],\n",
        "[-1,0,1],\n",
        "[0,0,0],\n",
        "[1,1,0],\n",
        "[-1,-1,-1],\n",
        "[-1,1,-1],\n",
        "]\n",
        "# x=np.array(x)\n",
        "scaler = preprocessing.StandardScaler().fit(x)\n",
        "print(scaler.mean_, scaler.scale_)\n",
        "x_scaled = scaler.transform(x)\n",
        "print (x_scaled)\n",
        "x_back=scaler.inverse_transform(x_scaled)\n",
        "print (x_back)\n",
        "scaler.inverse_transform([[0,0,0]])\n",
        "# help(scaler)"
      ],
      "execution_count": 172,
      "outputs": [
        {
          "output_type": "stream",
          "name": "stdout",
          "text": [
            "[ 0.          0.33333333 -0.16666667] [1.15470054 0.74535599 0.68718427]\n",
            "[[ 1.73205081  0.89442719  0.24253563]\n",
            " [-0.8660254  -0.4472136   1.69774938]\n",
            " [ 0.         -0.4472136   0.24253563]\n",
            " [ 0.8660254   0.89442719  0.24253563]\n",
            " [-0.8660254  -1.78885438 -1.21267813]\n",
            " [-0.8660254   0.89442719 -1.21267813]]\n",
            "[[ 2.  1.  0.]\n",
            " [-1.  0.  1.]\n",
            " [ 0.  0.  0.]\n",
            " [ 1.  1.  0.]\n",
            " [-1. -1. -1.]\n",
            " [-1.  1. -1.]]\n"
          ]
        },
        {
          "output_type": "execute_result",
          "data": {
            "text/plain": [
              "array([[ 0.        ,  0.33333333, -0.16666667]])"
            ]
          },
          "metadata": {},
          "execution_count": 172
        }
      ]
    },
    {
      "cell_type": "markdown",
      "metadata": {
        "id": "pUCN7lc5sieC"
      },
      "source": [
        "# Single Neuron"
      ]
    },
    {
      "cell_type": "code",
      "metadata": {
        "id": "eSEiZemKj3xT"
      },
      "source": [
        "class Neuron:\n",
        "    \"\"\"A single neuron with an activation function.\n",
        "       Attributes:\n",
        "          inputs: The number of inputs in the perceptron, not counting the bias.\n",
        "          bias:   The bias term. By defaul it's 1.0.\n",
        "          activ:  The activation function: linear (default), relu, sigmoid.\"\"\"\n",
        "\n",
        "    def __init__(self, inputs, bias = 1.0, activ = 'linear'):\n",
        "        \"\"\"Return a new Perceptron object with the specified number of inputs (+1 for the bias) and random initial weights.\"\"\" \n",
        "        self.weights = (np.random.rand(inputs+1) * 2) - 1 \n",
        "        self.bias = bias\n",
        "        self.activ = activ\n",
        "\n",
        "    def run(self, x):\n",
        "        \"\"\"Run the perceptron. x is a python list with the input values.\"\"\"\n",
        "        sum = np.dot(np.append(x,self.bias),self.weights)\n",
        "        if self.activ == 'linear':\n",
        "          return sum\n",
        "        if self.activ == 'sigmoid':\n",
        "          return self.sigmoid(sum)\n",
        "        if self.activ == 'relu':\n",
        "          return self.relu(sum)\n",
        "        if self.activ == 'mrelu':\n",
        "          return self.mrelu(sum)\n",
        "\n",
        "    def set_weights(self, w_init):\n",
        "        \"\"\"Overrides the np.random.rand() weights and the bias weight.\"\"\"\n",
        "        # w_init is a list of floats. Organize it as you'd like.\n",
        "        self.weights=np.array(w_init, dtype='double')\n",
        "\n",
        "    def set_activ(self, activ, param=0):\n",
        "        \"\"\"Overrides the 'linear' activation function.\"\"\"\n",
        "        self.activ = activ\n",
        "        self.param = param\n",
        "\n",
        "    def sigmoid(self, x):\n",
        "        # return the output of the sigmoid function applied to x\n",
        "        return 1/(1+np.exp(-x))\n",
        "    \n",
        "    def relu(self, x):\n",
        "        # return the output of the relu function applied to x\n",
        "        if x >= 0:\n",
        "          return x\n",
        "        return 0\n",
        "\n",
        "    def mrelu(self, x):\n",
        "        # return the output of the modified relu function applied to x\n",
        "        if x >= 0:\n",
        "          return x\n",
        "        return self.param*x"
      ],
      "execution_count": 173,
      "outputs": []
    },
    {
      "cell_type": "code",
      "metadata": {
        "id": "nN9wRG3NlI4b",
        "colab": {
          "base_uri": "https://localhost:8080/"
        },
        "outputId": "48944b77-a1db-429b-dc76-9e6ae2c9aed1"
      },
      "source": [
        "neu=Neuron(inputs=2)\n",
        "neu.set_weights([10,10,-15]) \n",
        "neu.set_activ('mrelu', param=0.01)\n",
        "neu.run([1,0])"
      ],
      "execution_count": 174,
      "outputs": [
        {
          "output_type": "execute_result",
          "data": {
            "text/plain": [
              "-0.05"
            ]
          },
          "metadata": {},
          "execution_count": 174
        }
      ]
    },
    {
      "cell_type": "markdown",
      "metadata": {
        "id": "bo32Xuop0eYO"
      },
      "source": [
        "## AND gate"
      ]
    },
    {
      "cell_type": "code",
      "metadata": {
        "colab": {
          "base_uri": "https://localhost:8080/"
        },
        "id": "QeLvN9yxHGsw",
        "outputId": "0655685a-158b-4d73-d111-2611cd8283c8"
      },
      "source": [
        "neuron = Neuron(inputs=2, activ='sigmoid')\n",
        "neuron.set_weights([10,10,-15]) #AND gate\n",
        "\n",
        "print(\"AND Gate:\")\n",
        "print (\"0 0 = {0:.10f}\".format(neuron.run([0,0])))\n",
        "print (\"0 1 = {0:.10f}\".format(neuron.run([0,1])))\n",
        "print (\"1 0 = {0:.10f}\".format(neuron.run([1,0])))\n",
        "print (\"1 1 = {0:.10f}\".format(neuron.run([1,1])))\n"
      ],
      "execution_count": 175,
      "outputs": [
        {
          "output_type": "stream",
          "name": "stdout",
          "text": [
            "AND Gate:\n",
            "0 0 = 0.0000003059\n",
            "0 1 = 0.0066928509\n",
            "1 0 = 0.0066928509\n",
            "1 1 = 0.9933071491\n"
          ]
        }
      ]
    },
    {
      "cell_type": "markdown",
      "metadata": {
        "id": "WDiUtQWL2qFC"
      },
      "source": [
        "## OR gate"
      ]
    },
    {
      "cell_type": "code",
      "metadata": {
        "colab": {
          "base_uri": "https://localhost:8080/"
        },
        "id": "PJy3bJjS2qhO",
        "outputId": "20f7b9ee-a686-42db-8720-f771b94014fc"
      },
      "source": [
        "neuron = Neuron(inputs=2, activ='sigmoid')\n",
        "neuron.set_weights([10,10,-5]) #OR gate\n",
        "\n",
        "print(\"OR Gate:\")\n",
        "print (\"0 0 = {0:.10f}\".format(neuron.run([0,0])))\n",
        "print (\"0 1 = {0:.10f}\".format(neuron.run([0,1])))\n",
        "print (\"1 0 = {0:.10f}\".format(neuron.run([1,0])))\n",
        "print (\"1 1 = {0:.10f}\".format(neuron.run([1,1])))\n"
      ],
      "execution_count": 176,
      "outputs": [
        {
          "output_type": "stream",
          "name": "stdout",
          "text": [
            "OR Gate:\n",
            "0 0 = 0.0066928509\n",
            "0 1 = 0.9933071491\n",
            "1 0 = 0.9933071491\n",
            "1 1 = 0.9999996941\n"
          ]
        }
      ]
    },
    {
      "cell_type": "markdown",
      "metadata": {
        "id": "2CyK0jOA4vGH"
      },
      "source": [
        "## NAND gate"
      ]
    },
    {
      "cell_type": "code",
      "metadata": {
        "colab": {
          "base_uri": "https://localhost:8080/"
        },
        "id": "XH_wkvCq4vpB",
        "outputId": "86a5db97-5f94-4fd8-9f18-72a9112fd8fc"
      },
      "source": [
        "neuron = Neuron(inputs=2, activ='sigmoid')\n",
        "neuron.set_weights([-10,-10,15]) #NAND gate\n",
        "\n",
        "print(\"NAND Gate:\")\n",
        "print (\"0 0 = {0:.10f}\".format(neuron.run([0,0])))\n",
        "print (\"0 1 = {0:.10f}\".format(neuron.run([0,1])))\n",
        "print (\"1 0 = {0:.10f}\".format(neuron.run([1,0])))\n",
        "print (\"1 1 = {0:.10f}\".format(neuron.run([1,1])))"
      ],
      "execution_count": 177,
      "outputs": [
        {
          "output_type": "stream",
          "name": "stdout",
          "text": [
            "NAND Gate:\n",
            "0 0 = 0.9999996941\n",
            "0 1 = 0.9933071491\n",
            "1 0 = 0.9933071491\n",
            "1 1 = 0.0066928509\n"
          ]
        }
      ]
    },
    {
      "cell_type": "markdown",
      "metadata": {
        "id": "3rpjT9eO6LeS"
      },
      "source": [
        "# Multilayer neuron"
      ]
    },
    {
      "cell_type": "code",
      "metadata": {
        "id": "My-snyukphuZ"
      },
      "source": [
        "class MultiLayerNeuron:     \n",
        "    \"\"\"A multilayer neuron class that uses the Neuron class above.\n",
        "       Builds a list of neurons with the specific activation function.\n",
        "       The activation function may be modified later using the set_activ method.\n",
        "       For example: mln.network[layer][neuron].set_activ('linear').\n",
        "       Attributes:\n",
        "          layers:  A list with the number of neurons per layer. Including the input (first) and the output (last) layers.\n",
        "          bias:    The bias term. The same bias is used for all neurons.\n",
        "          eta:     The learning rate.\n",
        "          activ:   The activation function: linear (default), relu, sigmoid.\"\"\"\n",
        "\n",
        "    def __init__(self, layers, bias = 1.0, eta = 0.5, activ='linear'):\n",
        "        \"\"\"Return a new MLP object with the specified parameters.\"\"\" \n",
        "        self.layers = np.array(layers,dtype=object)\n",
        "        self.bias = bias\n",
        "        self.eta = eta\n",
        "        self.network = [] # The list of lists of neurons (perceptrons).\n",
        "        self.values = []  # The list of lists of neurons' (perceptrons') output values.\n",
        "        self.d = []       # The list of lists of error terms (lowercase deltas)\n",
        "        self.activ = activ\n",
        "\n",
        "        # 2 nested loops to create neurons layer by layer\n",
        "        for i in range(len(self.layers)): # outer loop iterates on each layer\n",
        "            self.values.append([]) #The new list of values will be filled with zeros, for every neuron in the layer. \n",
        "            self.values[i] = [0.0 for j in range(self.layers[i])]\n",
        "            self.d.append([])\n",
        "            self.d[i] = [0.0 for j in range(self.layers[i])]                        \n",
        "            self.network.append([])\n",
        "            if i > 0:      #network[0] is the input layer, so it has no neurons\n",
        "                for j in range(self.layers[i]): # inner loop iterates on each neuron in a layer\n",
        "                    neur=Neuron(inputs = self.layers[i-1], bias = self.bias, activ = self.activ) # \n",
        "                    self.network[i].append(neur) # adding j perceptrons\n",
        "        \n",
        "        self.network = np.array([np.array(x) for x in self.network],dtype=object) #transforms list of lists to numpy array\n",
        "        self.values = np.array([np.array(x) for x in self.values],dtype=object)\n",
        "        self.d = np.array([np.array(x) for x in self.d],dtype=object)\n",
        "\n",
        "    def set_weights(self, w_init): # set_weights of the MultiLayer class\n",
        "        \"\"\"Set the weights. \n",
        "           w_init is a list of lists with the weights for all but the input layer.\"\"\"\n",
        "        for i in range(len(w_init)):\n",
        "            for j in range(len(w_init[i])):\n",
        "                self.network[i+1][j].set_weights(w_init[i][j]) # set_weights for each perceptron i\n",
        "\n",
        "    def set_activ(self, activ, param=0):\n",
        "        \"\"\"Set the activation function to every neurons.\"\"\"\n",
        "        for i in range(1,len(self.network)):\n",
        "            for j in range(self.layers[i]):\n",
        "                self.network[i][j].set_activ(activ, param) # set_activ for each neuron\n",
        "        self.param=param\n",
        "    \n",
        "    def set_output_activ(self, activ, param=0):\n",
        "        \"\"\"Set the activation function to the last (output) neurons.\"\"\"\n",
        "        i = len(self.network)-1\n",
        "        for j in range(self.layers[i]):\n",
        "            self.network[i][j].set_activ(activ, param) \n",
        "\n",
        "    def printWeights(self):\n",
        "        \"\"\"Displays a summary of weights and activation functions per layer and neuron.\"\"\"\n",
        "        print()\n",
        "        print('Layer 0 is the Input Layer')\n",
        "        for i in range(1,len(self.network)):\n",
        "            for j in range(self.layers[i]):\n",
        "                print(\"Layer\",i,\"Neuron\",j,\":\",self.network[i][j].weights,self.network[i][j].activ)\n",
        "        print()\n",
        "\n",
        "    def run(self, x):\n",
        "        \"\"\"Feed a sample x into the MultiLayer Neuron.\"\"\"\n",
        "        x = np.array(x,dtype=object)\n",
        "        self.values[0] = x\n",
        "        for i in range(1,len(self.network)):\n",
        "            for j in range(self.layers[i]):  \n",
        "                self.values[i][j] = self.network[i][j].run(self.values[i-1]) #runs preceptrons with the previous outputs\n",
        "        return self.values[-1]\n",
        "\n",
        "    def bp_classif(self, x, y):\n",
        "        \"\"\"Run a single (x,y) pair with the backpropagation algorithm - Gradient Descent.\n",
        "        Uses the derivative of the sigmoid function.\"\"\"\n",
        "        x = np.array(x,dtype=object)\n",
        "        y = np.array(y,dtype=object)\n",
        "        # STEP 1: Feed a sample to the network \n",
        "        outputs = self.run(x)\n",
        "        # STEP 2: Calculate the MSE\n",
        "        error = 2*(y - outputs) # A list of outputs\n",
        "        MSE = sum( error ** 2) / self.layers[-1] \n",
        "        # ∂MSE/∂weight=∂MSE/∂output*∂output/∂weight\n",
        "        # STEP 3: Calculate the OUTPUT error terms\n",
        "        # ∂MSE/∂output -- depends on neuron's activation function\n",
        "        self.d[-1] = outputs * (1 - outputs) * (error) # derivative of the SIGMOID function \n",
        "        # STEP 4: Calculate the error term of EACH UNIT on each layer\n",
        "        for i in reversed(range(1,len(self.network)-1)):\n",
        "            for h in range(len(self.network[i])):\n",
        "                fwd_error = 0.0\n",
        "                for k in range(self.layers[i+1]): \n",
        "                    fwd_error += self.network[i+1][k].weights[h] * self.d[i+1][k]               \n",
        "                self.d[i][h] = self.values[i][h] * (1-self.values[i][h]) * fwd_error # derivative of the SIGMOID function\n",
        "        # STEPS 5 & 6: Calculate the deltas and update the weights\n",
        "        for i in range(1,len(self.network)): # runs on layers\n",
        "            for j in range(self.layers[i]): # runs on neurons\n",
        "                for k in range(self.layers[i-1]+1): # runs on inputs. +1 for bias\n",
        "                    if k==self.layers[i-1]:\n",
        "                        delta = self.eta * self.d[i][j] * self.bias\n",
        "                    else:\n",
        "                        delta = self.eta * self.d[i][j] * self.values[i-1][k] # applying the delta rule\n",
        "                    self.network[i][j].weights[k] += delta\n",
        "        return MSE\n",
        "\n",
        "    def sigmoid(self, x):\n",
        "        # return the output of the sigmoid function applied to x\n",
        "        return 1/(1+np.exp(-x))\n",
        "\n",
        "    def deriv(self, value, i, j=0):\n",
        "        if self.network[i][j].activ == 'linear':\n",
        "          # print ('lin')\n",
        "          return 1\n",
        "        if self.network[i][j].activ == 'sigmoid':\n",
        "          # print ('sig')\n",
        "          return self.sigmoid(value)*(1-self.sigmoid(value))\n",
        "        if self.network[i][j].activ == 'relu':\n",
        "          if value > 0:\n",
        "            # print ('re>')\n",
        "            return 1\n",
        "          else:\n",
        "            # print ('re<')\n",
        "            return 0\n",
        "        if self.network[i][j].activ == 'mrelu':\n",
        "          if value > 0:\n",
        "            return 1\n",
        "          else:\n",
        "            return self.param\n",
        "\n",
        "    def bp_regres(self, x, y):\n",
        "        \"\"\"Run a single (x,y) pair with the backpropagation algorithm - Gradient Descent.\n",
        "        Uses the derivative according each neuron's activation function.\"\"\"\n",
        "        x = np.array(x,dtype=object)\n",
        "        y = np.array(y,dtype=object)\n",
        "        # STEP 1: Feed a sample to the network \n",
        "        outputs = self.run(x)\n",
        "        # STEP 2: Calculate the MSE\n",
        "        error = 2*(y - outputs) # A list of outputs\n",
        "        MSE = sum( error ** 2) / self.layers[-1] \n",
        "        # ∂MSE/∂weight=∂MSE/∂output*∂output/∂weight\n",
        "        # STEP 3: Calculate the OUTPUT error terms\n",
        "        # ∂MSE/∂output -- depends on neuron's activation function\n",
        "        for j in range (len(outputs)):\n",
        "            self.d[-1][j] = self.deriv(outputs[j], len(self.network)-1) * error\n",
        "        # STEP 4: Calculate the error term of EACH UNIT on each layer\n",
        "        for i in reversed(range(1,len(self.network)-1)):\n",
        "            for h in range(len(self.network[i])):\n",
        "                fwd_error = 0.0\n",
        "                for k in range(self.layers[i+1]): \n",
        "                    fwd_error += self.network[i+1][k].weights[h] * self.d[i+1][k] \n",
        "                self.d[i][h] = self.deriv(self.values[i][h], i, h) * fwd_error\n",
        "        # STEPS 5 & 6: Calculate the deltas and update the weights\n",
        "        for i in range(1,len(self.network)): # runs on layers\n",
        "            for j in range(self.layers[i]): # runs on neurons\n",
        "                for k in range(self.layers[i-1]+1): # runs on inputs. +1 for bias\n",
        "                    # output=sum(weight*value)+bias*bias_weight\n",
        "                    if k==self.layers[i-1]:\n",
        "                        # ∂output/∂bias_weight=bias\n",
        "                        delta = self.eta * self.d[i][j] * self.bias\n",
        "                    else:\n",
        "                        # ∂output/∂weight=value\n",
        "                        delta = self.eta * self.d[i][j] * self.values[i-1][k] \n",
        "                    self.network[i][j].weights[k] += delta # applying the delta rule\n",
        "        return MSE"
      ],
      "execution_count": 178,
      "outputs": []
    },
    {
      "cell_type": "markdown",
      "metadata": {
        "id": "LlSin4uPzSFX"
      },
      "source": [
        "## XOR gate=(OR+NAND)+AND"
      ]
    },
    {
      "cell_type": "code",
      "metadata": {
        "id": "I2dcROXuqJT1",
        "colab": {
          "base_uri": "https://localhost:8080/"
        },
        "outputId": "f8c659ad-a3f7-4b9e-8847-80e1088aec14"
      },
      "source": [
        "#test code\n",
        "mln1 = MultiLayerNeuron(layers=[2,2,1])  #mln1\n",
        "mln1.set_weights([[[-10,-10,15],[15,15,-10]],[[10,10,-15]]])\n",
        "mln1.set_activ('sigmoid') #linear is by default\n",
        "\n",
        "mln1.printWeights()\n",
        "print(\"XOR Gate:\")\n",
        "print (\"0 0 = {0:.10f}\".format(mln1.run([0,0])[0]))\n",
        "print (\"0 1 = {0:.10f}\".format(mln1.run([0,1])[0]))\n",
        "print (\"1 0 = {0:.10f}\".format(mln1.run([1,0])[0]))\n",
        "print (\"1 1 = {0:.10f}\".format(mln1.run([1,1])[0]))"
      ],
      "execution_count": 179,
      "outputs": [
        {
          "output_type": "stream",
          "name": "stdout",
          "text": [
            "\n",
            "Layer 0 is the Input Layer\n",
            "Layer 1 Neuron 0 : [-10. -10.  15.] sigmoid\n",
            "Layer 1 Neuron 1 : [ 15.  15. -10.] sigmoid\n",
            "Layer 2 Neuron 0 : [ 10.  10. -15.] sigmoid\n",
            "\n",
            "XOR Gate:\n",
            "0 0 = 0.0066958493\n",
            "0 1 = 0.9923558642\n",
            "1 0 = 0.9923558642\n",
            "1 1 = 0.0071528098\n"
          ]
        }
      ]
    },
    {
      "cell_type": "markdown",
      "metadata": {
        "id": "mBf5fifWK_EG"
      },
      "source": [
        "## Training "
      ]
    },
    {
      "cell_type": "code",
      "metadata": {
        "id": "JaZYikTxNp69",
        "colab": {
          "base_uri": "https://localhost:8080/"
        },
        "outputId": "24b47b75-e8cc-43fc-8149-f511426d71fe"
      },
      "source": [
        "mln2 = MultiLayerNeuron(layers=[2,2,1])\n",
        "mln2.set_activ('sigmoid') #linear is by default\n",
        "print(\"\\nTraining Neural Network as an XOR Gate...\\n\")\n",
        "for i in range(2000):\n",
        "    MSE = 0.0\n",
        "    MSE += mln2.bp_classif([0,0],[0])\n",
        "    MSE += mln2.bp_classif([0,1],[1])\n",
        "    MSE += mln2.bp_classif([1,0],[1])\n",
        "    MSE += mln2.bp_classif([1,1],[0])\n",
        "    MSE = MSE / 4\n",
        "    if(i%200 == 0):\n",
        "        print (MSE)\n",
        "\n",
        "mln2.printWeights()\n",
        "    \n",
        "print(\"XOR Gate:\")\n",
        "print (\"0 0 = {0:.10f}\".format(mln2.run([0,0])[0]))\n",
        "print (\"0 1 = {0:.10f}\".format(mln2.run([0,1])[0]))\n",
        "print (\"1 0 = {0:.10f}\".format(mln2.run([1,0])[0]))\n",
        "print (\"1 1 = {0:.10f}\".format(mln2.run([1,1])[0]))"
      ],
      "execution_count": 180,
      "outputs": [
        {
          "output_type": "stream",
          "name": "stdout",
          "text": [
            "\n",
            "Training Neural Network as an XOR Gate...\n",
            "\n",
            "1.141865438648455\n",
            "1.0875424743085054\n",
            "1.0420815946273536\n",
            "0.7269303939464997\n",
            "0.1472298764118687\n",
            "0.030917715116783304\n",
            "0.015773283374714155\n",
            "0.01035781047136582\n",
            "0.007639299752604101\n",
            "0.006021266986977274\n",
            "\n",
            "Layer 0 is the Input Layer\n",
            "Layer 1 Neuron 0 : [-4.29027381 -4.3091861   6.36587153] sigmoid\n",
            "Layer 1 Neuron 1 : [-6.03107499 -6.16185698  2.38974534] sigmoid\n",
            "Layer 2 Neuron 0 : [ 8.4730645  -8.69439911 -3.9472784 ] sigmoid\n",
            "\n",
            "XOR Gate:\n",
            "0 0 = 0.0306738465\n",
            "0 1 = 0.9667414156\n",
            "1 0 = 0.9663980398\n",
            "1 1 = 0.0419757056\n"
          ]
        }
      ]
    },
    {
      "cell_type": "markdown",
      "metadata": {
        "id": "wZS1-UADpTpY"
      },
      "source": [
        "# Regres"
      ]
    },
    {
      "cell_type": "code",
      "metadata": {
        "id": "xkOQ9tbuvI9P"
      },
      "source": [
        "class Regres:\n",
        "    def __init__(self, layers, bias=1.0, eta=0.1, ):\n",
        "        self.layers = layers\n",
        "        self.bias = bias\n",
        "        self.eta = eta\n",
        "        self.regres_network = MultiLayerNeuron(layers=layers, bias=bias, eta=eta)\n",
        "\n",
        "    def set_weights(self, w_init):\n",
        "        self.regres_network.set_weights(w_init)\n",
        "\n",
        "    def set_hidden_activ(self, activ, param=0):\n",
        "        self.regres_network.set_activ(activ, param=0)\n",
        "        self.regres_network.set_output_activ('linear')\n",
        "\n",
        "    def fit(self, X, y, epochs):\n",
        "        self.epochs=epochs\n",
        "        history=[]\n",
        "        self.weight_history=[0.0 for i in range(self.epochs)]\n",
        "        self.MSE_history=[]\n",
        "        for i in range(self.epochs):\n",
        "            weight_epoch=[]\n",
        "            MSE = 0.0\n",
        "            for j in range (len(X)):\n",
        "                MSE +=  self.regres_network.bp_regres(X[j],[y[j]])\n",
        "            MSE = MSE / len(X)\n",
        "            self.MSE_history.append(MSE)\n",
        "            for m in range(1,len(self.regres_network.network)):\n",
        "                for n in range(self.layers[m]):\n",
        "                    weight_epoch.append(self.regres_network.network[m][n].weights)\n",
        "            self.weight_history[i]=weight_epoch\n",
        "            print (\"weight_epoch\",weight_epoch)\n",
        "            # print ('weight_his',self.weight_history)\n",
        "            # history.append(weight_epoch)\n",
        "            # print (\"history\",history)\n",
        "            # self.weight_history=history\n",
        "        print (\"\"\"Model fitted.\n",
        "self.weight_history - list of lists of weights propagation\n",
        "self.MSE_history - list of MSEs propagation\"\"\")\n",
        "\n",
        "    def printWeights(self):\n",
        "        self.regres_network.printWeights()\n",
        "\n",
        "    def run(self, x):\n",
        "        return self.regres_network.run(x)\n",
        "\n",
        "    def predict(self, x):\n",
        "        y=[]\n",
        "        for i in range(len(x)):\n",
        "            y.append(self.run(x[i])[0])\n",
        "        return y"
      ],
      "execution_count": 181,
      "outputs": []
    },
    {
      "cell_type": "code",
      "metadata": {
        "id": "3rarzZ-VuIoF",
        "colab": {
          "base_uri": "https://localhost:8080/"
        },
        "outputId": "a59f1f47-1dd9-4831-947e-f978c403a820"
      },
      "source": [
        "weight_history=[]\n",
        "a=[[1,2],[1,3],[4,1]]\n",
        "b=[]\n",
        "for m in range(3):\n",
        "  for n in range(2):\n",
        "    b.append(a[m][n])\n",
        "print (\"b\",b)\n",
        "weight_history.append(b)\n",
        "print (weight_history)"
      ],
      "execution_count": 182,
      "outputs": [
        {
          "output_type": "stream",
          "name": "stdout",
          "text": [
            "b [1, 2, 1, 3, 4, 1]\n",
            "[[1, 2, 1, 3, 4, 1]]\n"
          ]
        }
      ]
    },
    {
      "cell_type": "markdown",
      "metadata": {
        "id": "gqJ8FTGSvCrP"
      },
      "source": [
        "# Regres_scale"
      ]
    },
    {
      "cell_type": "code",
      "metadata": {
        "id": "Zz-y1CtyyZvy"
      },
      "source": [
        "# nuzhno podumat' kak vesa obratno perevesti. mozhet inverse_transform\n",
        "class Regres_scale:\n",
        "    def __init__(self, layers, bias=1.0, eta=0.5, ):\n",
        "        self.layers = layers\n",
        "        self.bias = bias\n",
        "        self.eta = eta\n",
        "        # self.epochs = epochs      \n",
        "        self.regres_network = MultiLayerNeuron(layers=layers, bias=bias, eta=eta)\n",
        "\n",
        "    def set_weights(self, w_init):\n",
        "        self.regres_network.set_weights(w_init)\n",
        "\n",
        "    def set_hidden_activ(self, activ):\n",
        "        self.regres_network.set_activ(activ)\n",
        "        self.regres_network.set_output_activ('linear')\n",
        "\n",
        "    def fit(self, x, y, epochs):\n",
        "        self.scaler = preprocessing.StandardScaler().fit(x)\n",
        "        x_scaled=self.scaler.transform(x)\n",
        "        self.epochs=epochs\n",
        "        for i in range(epochs):\n",
        "            MSE = 0.0\n",
        "            for j in range (len(x)):\n",
        "                MSE +=  self.regres_network.bp_regres(x_scaled[j],[y[j]])\n",
        "            MSE = MSE / len(x)\n",
        "            # dobavit' istoriyu kak v Regres\n",
        "\n",
        "    def printWeights(self):\n",
        "        self.regres_network.printWeights()\n",
        "\n",
        "    def run(self, x):\n",
        "        return self.regres_network.run(x)\n",
        "\n",
        "    def predict(self, x):\n",
        "        y=[]\n",
        "        for i in range(len(x)):\n",
        "            y.append(self.run(x[i])[0])\n",
        "        return y\n",
        "\n",
        "    def get_standard_params(self, x):\n",
        "        x2=np.array(x)\n",
        "        mean=x2.mean(axis=0)\n",
        "        stdev=x2.std(axis=0)\n",
        "        return mean, stdev"
      ],
      "execution_count": 183,
      "outputs": []
    },
    {
      "cell_type": "markdown",
      "metadata": {
        "id": "T1CIr02vJjVL"
      },
      "source": [
        "# Example 1 -- weights"
      ]
    },
    {
      "cell_type": "code",
      "metadata": {
        "id": "c1cXJqv6KPD9",
        "colab": {
          "base_uri": "https://localhost:8080/"
        },
        "outputId": "2fc5bc3b-92ec-4a63-cb78-8416b74e4646"
      },
      "source": [
        "print (\"1 1 =\",mln1.run([1,1]))\n",
        "print (mln1.network[1][0].weights) # network is list of lists of perceptrons. Each has attribute \"weights\""
      ],
      "execution_count": 184,
      "outputs": [
        {
          "output_type": "stream",
          "name": "stdout",
          "text": [
            "1 1 = [0.00715281]\n",
            "[-10. -10.  15.]\n"
          ]
        }
      ]
    },
    {
      "cell_type": "code",
      "metadata": {
        "id": "mV8ZGDKCGdig",
        "colab": {
          "base_uri": "https://localhost:8080/"
        },
        "outputId": "78b71688-aad4-4678-f115-c8177420a6f2"
      },
      "source": [
        "mln1=MultiLayerNeuron(layers=[2,2,1])\n",
        "mln1.set_activ('relu')\n",
        "mln1.printWeights()\n",
        "\n",
        "mln1.set_output_activ('sigmoid') # setting the output activ func\n",
        "mln1.printWeights()\n",
        "\n",
        "mln1.network[1][0].set_activ('linear') # changing specific activ func\n",
        "mln1.printWeights()"
      ],
      "execution_count": 185,
      "outputs": [
        {
          "output_type": "stream",
          "name": "stdout",
          "text": [
            "\n",
            "Layer 0 is the Input Layer\n",
            "Layer 1 Neuron 0 : [0.0762786  0.34623108 0.11998604] relu\n",
            "Layer 1 Neuron 1 : [ 0.43112262  0.14433069 -0.16652147] relu\n",
            "Layer 2 Neuron 0 : [-0.33337097  0.02457917  0.92573862] relu\n",
            "\n",
            "\n",
            "Layer 0 is the Input Layer\n",
            "Layer 1 Neuron 0 : [0.0762786  0.34623108 0.11998604] relu\n",
            "Layer 1 Neuron 1 : [ 0.43112262  0.14433069 -0.16652147] relu\n",
            "Layer 2 Neuron 0 : [-0.33337097  0.02457917  0.92573862] sigmoid\n",
            "\n",
            "\n",
            "Layer 0 is the Input Layer\n",
            "Layer 1 Neuron 0 : [0.0762786  0.34623108 0.11998604] linear\n",
            "Layer 1 Neuron 1 : [ 0.43112262  0.14433069 -0.16652147] relu\n",
            "Layer 2 Neuron 0 : [-0.33337097  0.02457917  0.92573862] sigmoid\n",
            "\n"
          ]
        }
      ]
    },
    {
      "cell_type": "markdown",
      "metadata": {
        "id": "MFSdNaYSKr7h"
      },
      "source": [
        "# Example 3 -- linear activs, bp_regres. מתכנס למשקלים טוב מאוד "
      ]
    },
    {
      "cell_type": "code",
      "metadata": {
        "id": "tsu-mr5IdZlt",
        "colab": {
          "base_uri": "https://localhost:8080/"
        },
        "outputId": "08aa0f28-2478-4bed-a9b2-b906ada92a3a"
      },
      "source": [
        "mln3 = MultiLayerNeuron(layers=[3,1], eta=0.3)\n",
        "# mln3.set_weights([[[5.,-0.9,2.,0.]]])\n",
        "mln3.set_weights([[[0,0,0,0]]])\n",
        "mln3.printWeights()\n",
        "print(\"\\nTraining Neural Network...\\n\")\n",
        "for i in range(400):\n",
        "    MSE = 0.0\n",
        "    MSE += mln3.bp_regres([0.7759,\t0.1104,\t0.9977,],5.764286995)\n",
        "    MSE += mln3.bp_regres([0.9692,\t0.6961,\t0.8483,],5.84646758)\n",
        "    MSE += mln3.bp_regres([0.0265,\t0.399,\t0.5375,],0.808633075)\n",
        "    MSE += mln3.bp_regres([0.7694,\t0.5051,\t0.2542,],3.850298589)\n",
        "    MSE = MSE / 4\n",
        "    if(i%200 == 0):\n",
        "        print (MSE)\n",
        "\n",
        "mln3.printWeights()\n",
        "\n"
      ],
      "execution_count": 186,
      "outputs": [
        {
          "output_type": "stream",
          "name": "stdout",
          "text": [
            "\n",
            "Layer 0 is the Input Layer\n",
            "Layer 1 Neuron 0 : [0. 0. 0. 0.] linear\n",
            "\n",
            "\n",
            "Training Neural Network...\n",
            "\n",
            "54.560573414122615\n",
            "9.652321993077698e-13\n",
            "\n",
            "Layer 0 is the Input Layer\n",
            "Layer 1 Neuron 0 : [ 4.99973369e+00 -9.99625006e-01  1.99991681e+00  3.52253294e-05] linear\n",
            "\n"
          ]
        }
      ]
    },
    {
      "cell_type": "markdown",
      "metadata": {
        "id": "gwlXhDA2KORl"
      },
      "source": [
        "# Example 4 -- sigmoid, bp_regres. מקרב רגרסיה עם סיגמויד. עובד טוב"
      ]
    },
    {
      "cell_type": "code",
      "metadata": {
        "id": "JBA-VYuEJGm2",
        "colab": {
          "base_uri": "https://localhost:8080/",
          "height": 624
        },
        "outputId": "ad9e8972-eeb7-41da-9899-09f370524a79"
      },
      "source": [
        "# generating output values\n",
        "mln4 = MultiLayerNeuron(layers=[3,2,1])\n",
        "mln4.set_activ('sigmoid')\n",
        "mln4.set_output_activ('linear')\n",
        "mln4.set_weights([[[0,1,-2,1],[1,-2,0,1]],[[-1,2,3]]])\n",
        "mln4.printWeights()\n",
        "\n",
        "y4=[]\n",
        "y4.append(mln4.run([2,1,0])[0])\n",
        "y4.append(mln4.run([-1,0,1])[0])\n",
        "y4.append(mln4.run([0,0,0])[0])\n",
        "y4.append(mln4.run([1,1,0])[0])\n",
        "y4.append(mln4.run([-1,-1,-1])[0])\n",
        "y4.append(mln4.run([-1,1,-1])[0])\n",
        "display ('original values:',y4)\n",
        "print ()\n",
        "\n",
        "# training model and predicting values\n",
        "mln4 = MultiLayerNeuron(layers=[3,2,1], eta=0.1)\n",
        "mln4.set_activ('sigmoid')\n",
        "mln4.set_output_activ('linear')\n",
        "\n",
        "for i in range(1000):\n",
        "    MSE = 0.0\n",
        "    MSE += mln4.bp_regres([2,1,0],y4[0])\n",
        "    MSE += mln4.bp_regres([-1,0,1],y4[1])\n",
        "    MSE += mln4.bp_regres([0,0,0],y4[2])\n",
        "    MSE += mln4.bp_regres([1,1,0],y4[3])\n",
        "    MSE += mln4.bp_regres([-1,-1,-1],y4[4])\n",
        "    MSE += mln4.bp_regres([-1,1,-1],y4[5])\n",
        "    MSE = MSE / 6\n",
        "    if(i%200 == 0):\n",
        "        print ('MSE=',MSE)\n",
        "mln4.printWeights()\n",
        "\n",
        "y4=[]\n",
        "y4.append(mln4.run([2,1,0])[0])\n",
        "y4.append(mln4.run([-1,0,1])[0])\n",
        "y4.append(mln4.run([0,0,0])[0])\n",
        "y4.append(mln4.run([1,1,0])[0])\n",
        "y4.append(mln4.run([-1,-1,-1])[0])\n",
        "y4.append(mln4.run([-1,1,-1])[0])\n",
        "display ('predicted values:',y4)\n",
        "print ()"
      ],
      "execution_count": 187,
      "outputs": [
        {
          "output_type": "stream",
          "name": "stdout",
          "text": [
            "\n",
            "Layer 0 is the Input Layer\n",
            "Layer 1 Neuron 0 : [ 0.  1. -2.  1.] sigmoid\n",
            "Layer 1 Neuron 1 : [ 1. -2.  0.  1.] sigmoid\n",
            "Layer 2 Neuron 0 : [-1.  2.  3.] linear\n",
            "\n"
          ]
        },
        {
          "output_type": "display_data",
          "data": {
            "application/vnd.google.colaboratory.intrinsic+json": {
              "type": "string"
            },
            "text/plain": [
              "'original values:'"
            ]
          },
          "metadata": {}
        },
        {
          "output_type": "display_data",
          "data": {
            "text/plain": [
              "[3.5813200792821274,\n",
              " 3.731058578630005,\n",
              " 3.731058578630005,\n",
              " 3.119202922022118,\n",
              " 3.880797077977882,\n",
              " 2.2563920540063265]"
            ]
          },
          "metadata": {}
        },
        {
          "output_type": "stream",
          "name": "stdout",
          "text": [
            "\n",
            "MSE= 16.18495519892475\n",
            "MSE= 0.3146917475609619\n",
            "MSE= 0.45079560726303486\n",
            "MSE= 0.48738808198908457\n",
            "MSE= 0.39849830150254945\n",
            "\n",
            "Layer 0 is the Input Layer\n",
            "Layer 1 Neuron 0 : [ 36.01126864 -71.93065744  36.15850424  -0.75290128] sigmoid\n",
            "Layer 1 Neuron 1 : [ 3.27086186 -5.95725701  2.71910365 -1.10235425] sigmoid\n",
            "Layer 2 Neuron 0 : [2.92860239 0.41212283 2.68302883] linear\n",
            "\n"
          ]
        },
        {
          "output_type": "display_data",
          "data": {
            "application/vnd.google.colaboratory.intrinsic+json": {
              "type": "string"
            },
            "text/plain": [
              "'predicted values:'"
            ]
          },
          "metadata": {}
        },
        {
          "output_type": "display_data",
          "data": {
            "text/plain": [
              "[3.8341123511387956,\n",
              " 3.78313559257158,\n",
              " 3.7234782643196827,\n",
              " 2.6921463756859687,\n",
              " 3.5754963650032368,\n",
              " 2.6830297198146122]"
            ]
          },
          "metadata": {}
        },
        {
          "output_type": "stream",
          "name": "stdout",
          "text": [
            "\n"
          ]
        }
      ]
    },
    {
      "cell_type": "markdown",
      "metadata": {
        "id": "RQ6f38VkOng4"
      },
      "source": [
        "# Example 5 -- relu-sigmoid, bp_regres. מתכנס למשקלים לא משהו"
      ]
    },
    {
      "cell_type": "code",
      "metadata": {
        "id": "tTgRMD9GOoF_",
        "colab": {
          "base_uri": "https://localhost:8080/",
          "height": 936
        },
        "outputId": "9f08b95f-7a7f-4a60-822a-02e1eb44c2bc"
      },
      "source": [
        "mln4 = MultiLayerNeuron(layers=[3,2,1,1]) # generating MLN with random weights\n",
        "mln4.set_activ('relu')\n",
        "mln4.network[2][0].set_activ('sigmoid') # changing specific activ func\n",
        "mln4.set_output_activ('linear')\n",
        "mln4.set_weights([[[0,1,-2,1],[1,-2,0,1]],[[1,0,1]],[[-1,2]]]) # setting weights\n",
        "mln4.printWeights()\n",
        "\n",
        "y4=[] # generating output values\n",
        "y4.append(mln4.run([2,1,0])[0])\n",
        "y4.append(mln4.run([-1,0,1])[0])\n",
        "y4.append(mln4.run([0,0,0])[0])\n",
        "y4.append(mln4.run([1,1,0])[0])\n",
        "y4.append(mln4.run([-1,-1,-1])[0])\n",
        "y4.append(mln4.run([-1,1,-1])[0])\n",
        "display ('original values:',y4)\n",
        "print ()\n",
        "\n",
        "# training model and predicting values\n",
        "mln4 = MultiLayerNeuron(layers=[3,2,1,1], eta=0.3) # generating MLN with random weights\n",
        "mln4.set_activ('relu')\n",
        "mln4.network[2][0].set_activ('sigmoid') # changing specific activ func\n",
        "mln4.set_output_activ('linear')\n",
        "\n",
        "for i in range(400):\n",
        "    MSE = 0.0\n",
        "    MSE += mln4.bp_regres([2,1,0],y4[0])\n",
        "    MSE += mln4.bp_regres([-1,0,1],y4[1])\n",
        "    MSE += mln4.bp_regres([0,0,0],y4[2])\n",
        "    MSE += mln4.bp_regres([1,1,0],y4[3])\n",
        "    MSE += mln4.bp_regres([-1,-1,-1],y4[4])\n",
        "    MSE += mln4.bp_regres([-1,1,-1],y4[5])\n",
        "    MSE = MSE / 6\n",
        "    if(i%20 == 0):\n",
        "        print ('MSE', i, '=',MSE)\n",
        "mln4.printWeights()\n",
        "\n",
        "y4=[]\n",
        "y4.append(mln4.run([2,1,0])[0])\n",
        "y4.append(mln4.run([-1,0,1])[0])\n",
        "y4.append(mln4.run([0,0,0])[0])\n",
        "y4.append(mln4.run([1,1,0])[0])\n",
        "y4.append(mln4.run([-1,-1,-1])[0])\n",
        "y4.append(mln4.run([-1,1,-1])[0])\n",
        "display ('predicted values:',y4)\n",
        "print ()"
      ],
      "execution_count": 188,
      "outputs": [
        {
          "output_type": "stream",
          "name": "stdout",
          "text": [
            "\n",
            "Layer 0 is the Input Layer\n",
            "Layer 1 Neuron 0 : [ 0.  1. -2.  1.] relu\n",
            "Layer 1 Neuron 1 : [ 1. -2.  0.  1.] relu\n",
            "Layer 2 Neuron 0 : [1. 0. 1.] sigmoid\n",
            "Layer 3 Neuron 0 : [-1.  2.] linear\n",
            "\n"
          ]
        },
        {
          "output_type": "display_data",
          "data": {
            "application/vnd.google.colaboratory.intrinsic+json": {
              "type": "string"
            },
            "text/plain": [
              "'original values:'"
            ]
          },
          "metadata": {}
        },
        {
          "output_type": "display_data",
          "data": {
            "text/plain": [
              "[1.0474258731775667,\n",
              " 1.2689414213699952,\n",
              " 1.1192029220221178,\n",
              " 1.0474258731775667,\n",
              " 1.0474258731775667,\n",
              " 1.0066928509242847]"
            ]
          },
          "metadata": {}
        },
        {
          "output_type": "stream",
          "name": "stdout",
          "text": [
            "\n",
            "MSE 0 = 0.5462590412459115\n",
            "MSE 20 = 0.04846103347268103\n",
            "MSE 40 = 0.048318724190199676\n",
            "MSE 60 = 0.04819236692519905\n",
            "MSE 80 = 0.04807794686758246\n",
            "MSE 100 = 0.04797295616756813\n",
            "MSE 120 = 0.04787571054692199\n",
            "MSE 140 = 0.047785015534762866\n",
            "MSE 160 = 0.047699989764824584\n",
            "MSE 180 = 0.047619965750103604\n",
            "MSE 200 = 0.047544432198117444\n",
            "MSE 220 = 0.047473000501277486\n",
            "MSE 240 = 0.0474053866339188\n",
            "MSE 260 = 0.04734140399679126\n",
            "MSE 280 = 0.04728096509229237\n",
            "MSE 300 = 0.04722409129467405\n",
            "MSE 320 = 0.04717093083738402\n",
            "MSE 340 = 0.04712178562714422\n",
            "MSE 360 = 0.04707714756934372\n",
            "MSE 380 = 0.04703774451535592\n",
            "\n",
            "Layer 0 is the Input Layer\n",
            "Layer 1 Neuron 0 : [ 0.54950762 -0.68914942 -0.94785424 -0.21644664] relu\n",
            "Layer 1 Neuron 1 : [ 0.17848226 -0.55960051 -0.33591261 -0.75544821] relu\n",
            "Layer 2 Neuron 0 : [ 0.30939053 -0.23456568 -0.88470623] sigmoid\n",
            "Layer 3 Neuron 0 : [-0.1362159   1.06626814] linear\n",
            "\n"
          ]
        },
        {
          "output_type": "display_data",
          "data": {
            "application/vnd.google.colaboratory.intrinsic+json": {
              "type": "string"
            },
            "text/plain": [
              "'predicted values:'"
            ]
          },
          "metadata": {}
        },
        {
          "output_type": "display_data",
          "data": {
            "text/plain": [
              "[1.0247587789188546,\n",
              " 1.0264653769671375,\n",
              " 1.0264653769671375,\n",
              " 1.0264653769671375,\n",
              " 1.0184738960660582,\n",
              " 1.0264653769671375]"
            ]
          },
          "metadata": {}
        },
        {
          "output_type": "stream",
          "name": "stdout",
          "text": [
            "\n"
          ]
        }
      ]
    },
    {
      "cell_type": "markdown",
      "metadata": {
        "id": "5iig6wESsnxe"
      },
      "source": [
        "# Example 7 -- Regres class. עובד באופן עקרוני\n",
        "# relu בעייתי"
      ]
    },
    {
      "cell_type": "code",
      "metadata": {
        "id": "S6k1A-gflH4c",
        "colab": {
          "base_uri": "https://localhost:8080/"
        },
        "outputId": "fad6781b-7593-4d7d-8d49-41d6bbc8992e"
      },
      "source": [
        "reg1=Regres(layers=[3,2,1,1], eta=0.3)\n",
        "reg1.set_weights([[[1,1,0,0],[0,0,0,0]],[[0,0,0]],[[0,0]]])\n",
        "X=[\n",
        "[2,1,0],\n",
        "[-1,0,1],\n",
        "[0,0,0],\n",
        "[1,1,0],\n",
        "[-1,-1,-1],\n",
        "[-1,1,-1],\n",
        "]\n",
        "y=[1.0474258731775667,\n",
        " 1.2689414213699952,\n",
        " 1.1192029220221178,\n",
        " 1.0474258731775667,\n",
        " 1.0474258731775667,\n",
        " 1.0066928509242847]\n",
        "reg1.set_hidden_activ('relu')\n",
        "reg1.regres_network.network[2][0].set_activ('sigmoid') # changing specific activ func\n",
        "reg1.fit(X,y, epochs=5)\n",
        "reg1.printWeights()\n",
        "pred=reg1.predict(X)\n",
        "print (pred)\n",
        "print()\n",
        "# display ('weight_history',reg1.weight_history)\n",
        "display ('MSE',reg1.MSE_history)"
      ],
      "execution_count": 189,
      "outputs": [
        {
          "output_type": "stream",
          "name": "stdout",
          "text": [
            "weight_epoch [array([1., 1., 0., 0.]), array([0., 0., 0., 0.]), array([-0.01004363,  0.        ,  0.01054202]), array([0.40626752, 0.81345965])]\n",
            "weight_epoch [array([ 9.99943510e-01,  1.00005251e+00, -4.50468799e-05,  5.25099344e-05]), array([0., 0., 0., 0.]), array([-0.01639217,  0.        ,  0.00904985]), array([0.40618406, 0.81392458])]\n",
            "weight_epoch [array([ 9.99878829e-01,  1.00014354e+00, -1.06675990e-04,  2.11560284e-04]), array([0., 0., 0., 0.]), array([-0.02228857,  0.        ,  0.00755239]), array([0.4060741 , 0.81421285])]\n",
            "weight_epoch [array([ 9.99802753e-01,  1.00026810e+00, -1.83813904e-04,  4.40823369e-04]), array([0., 0., 0., 0.]), array([-0.02773872,  0.        ,  0.00606316]), array([0.405996  , 0.81447959])]\n",
            "weight_epoch [array([ 9.99713140e-01,  1.00042202e+00, -2.75446741e-04,  7.33518678e-04]), array([0., 0., 0., 0.]), array([-0.03277788,  0.        ,  0.00458208]), array([0.40593827, 0.81473119])]\n",
            "Model fitted.\n",
            "self.weight_history - list of lists of weights propagation\n",
            "self.MSE_history - list of MSEs propagation\n",
            "\n",
            "Layer 0 is the Input Layer\n",
            "Layer 1 Neuron 0 : [ 9.99713140e-01  1.00042202e+00 -2.75446741e-04  7.33518678e-04] relu\n",
            "Layer 1 Neuron 1 : [0. 0. 0. 0.] relu\n",
            "Layer 2 Neuron 0 : [-0.03277788  0.          0.00458208] sigmoid\n",
            "Layer 3 Neuron 0 : [0.40593827 0.81473119] linear\n",
            "\n",
            "[1.0081910251075497, 1.0181653384338307, 1.0181628984344357, 1.0115114716378777, 1.0181653384338307, 1.0181596241520412]\n",
            "\n"
          ]
        },
        {
          "output_type": "display_data",
          "data": {
            "application/vnd.google.colaboratory.intrinsic+json": {
              "type": "string"
            },
            "text/plain": [
              "'MSE'"
            ]
          },
          "metadata": {}
        },
        {
          "output_type": "display_data",
          "data": {
            "text/plain": [
              "[0.8936248829442258,\n",
              " 0.04857883327236249,\n",
              " 0.0481469881158581,\n",
              " 0.04777680393002976,\n",
              " 0.04744442311981101]"
            ]
          },
          "metadata": {}
        }
      ]
    },
    {
      "cell_type": "markdown",
      "metadata": {
        "id": "3bxt-T9Qs5zv"
      },
      "source": [
        "# Example -- Regres_scale. צריך חשוב ולהשלים"
      ]
    },
    {
      "cell_type": "code",
      "metadata": {
        "colab": {
          "base_uri": "https://localhost:8080/"
        },
        "id": "w0_dFIMLvjG9",
        "outputId": "e734c3cd-eb7c-41f9-9e10-1e5a7f344e99"
      },
      "source": [
        "# nuzhno podumat' kak vesa obratno perevesti. mozhet inverse_transform\n",
        "reg2=Regres_scale(layers=[3,2,1,1], eta=0.1)\n",
        "reg2.set_weights([[[1,1,0,0],[0,0,0,0]],[[0,0,0]],[[0,0]]])\n",
        "X=[\n",
        "[2,1,0],\n",
        "[-1,0,1],\n",
        "[0,0,0],\n",
        "[1,1,0],\n",
        "[-1,-1,-1],\n",
        "[-1,1,-1],\n",
        "]\n",
        "y=[1.0474258731775667,\n",
        " 1.2689414213699952,\n",
        " 1.1192029220221178,\n",
        " 1.0474258731775667,\n",
        " 1.0474258731775667,\n",
        " 1.0066928509242847]\n",
        "reg2.set_hidden_activ('relu')\n",
        "reg2.regres_network.network[2][0].set_activ('sigmoid') # changing specific activ func\n",
        "reg2.fit(X,y,epochs=200)\n",
        "reg2.printWeights()\n",
        "pred=reg2.predict(X)\n",
        "pred"
      ],
      "execution_count": 190,
      "outputs": [
        {
          "output_type": "stream",
          "name": "stdout",
          "text": [
            "\n",
            "Layer 0 is the Input Layer\n",
            "Layer 1 Neuron 0 : [ 0.9517462   1.06201428 -0.06407585  0.06933407] relu\n",
            "Layer 1 Neuron 1 : [0. 0. 0. 0.] relu\n",
            "Layer 2 Neuron 0 : [-0.20894407  0.          0.00917428] sigmoid\n",
            "Layer 3 Neuron 0 : [0.46600036 0.84566849] linear\n",
            "\n"
          ]
        },
        {
          "output_type": "execute_result",
          "data": {
            "text/plain": [
              "[1.0081438427807037,\n",
              " 1.0797374688505368,\n",
              " 1.078049747612554,\n",
              " 1.029768336904302,\n",
              " 1.0797374688505368,\n",
              " 1.073806571646052]"
            ]
          },
          "metadata": {},
          "execution_count": 190
        }
      ]
    },
    {
      "cell_type": "markdown",
      "metadata": {
        "id": "VMQEsh7bFFe9"
      },
      "source": [
        "# Example 6 -- https://mmuratarat.github.io/2020-01-09/backpropagation"
      ]
    },
    {
      "cell_type": "code",
      "metadata": {
        "id": "HvAnY1Q1FF_L",
        "colab": {
          "base_uri": "https://localhost:8080/"
        },
        "outputId": "90cc7b59-f1ea-4978-8298-9499cc395783"
      },
      "source": [
        "# generating output values\n",
        "mln6 = MultiLayerNeuron(layers=[5,3,1], eta=.5)\n",
        "mln6.set_activ('sigmoid')\n",
        "mln6.set_output_activ('linear')\n",
        "mln6.set_weights([[[.19,.33,.4,.51,.54,.1],\n",
        "                   [.55,.16,.35,.85,.49,.1],\n",
        "                   [.76,.97,.7,.85,.57,.1]],\n",
        "                  [[.1,.03,-.17,.1]]\n",
        "                  ]) # setting initial weights\n",
        "mln6.printWeights()\n",
        "\n",
        "# training\n",
        "for i in range(100):\n",
        "    MSE = 0.0\n",
        "    MSE += mln6.bp_regres([.5,.1,1,0,0],[0.1])\n",
        "    MSE += mln6.bp_regres([.3,.2,0,1,0],[.6])\n",
        "    MSE += mln6.bp_regres([.7,.9,0,0,1],[.4])\n",
        "    MSE += mln6.bp_regres([.8,.1,1,0,0],[.1])\n",
        "    MSE = MSE / 4\n",
        "    if(i%10 == 0):\n",
        "        print ('MSE', i, '=',MSE)\n",
        "\n",
        "mln6.printWeights()"
      ],
      "execution_count": 191,
      "outputs": [
        {
          "output_type": "stream",
          "name": "stdout",
          "text": [
            "\n",
            "Layer 0 is the Input Layer\n",
            "Layer 1 Neuron 0 : [0.19 0.33 0.4  0.51 0.54 0.1 ] sigmoid\n",
            "Layer 1 Neuron 1 : [0.55 0.16 0.35 0.85 0.49 0.1 ] sigmoid\n",
            "Layer 1 Neuron 2 : [0.76 0.97 0.7  0.85 0.57 0.1 ] sigmoid\n",
            "Layer 2 Neuron 0 : [ 0.1   0.03 -0.17  0.1 ] linear\n",
            "\n",
            "MSE 0 = 3.097759865123268\n",
            "MSE 10 = 0.2948017967667316\n",
            "MSE 20 = 0.11235016703947856\n",
            "MSE 30 = 0.039031749833149484\n",
            "MSE 40 = 0.005346702764168406\n",
            "MSE 50 = 0.00047155150910413527\n",
            "MSE 60 = 9.822149422722454e-05\n",
            "MSE 70 = 6.0504726410544755e-05\n",
            "MSE 80 = 4.67746394940529e-05\n",
            "MSE 90 = 3.966114337742912e-05\n",
            "\n",
            "Layer 0 is the Input Layer\n",
            "Layer 1 Neuron 0 : [-0.92948745 -0.3432972  -0.4785581   0.21811547 -0.0456272  -1.65606983] sigmoid\n",
            "Layer 1 Neuron 1 : [-1.01311017 -0.23274925 -1.57166574  1.18384536  0.1929425  -1.78487787] sigmoid\n",
            "Layer 1 Neuron 2 : [-0.09277171 -0.3986799   1.19699659 -0.59778185 -0.68424799 -2.10503325] sigmoid\n",
            "Layer 2 Neuron 0 : [ 0.25752661  0.97942477 -1.06640139  0.35525422] linear\n",
            "\n"
          ]
        }
      ]
    },
    {
      "cell_type": "markdown",
      "metadata": {
        "id": "JhdtW0Cjc7Fi"
      },
      "source": [
        "# Example 8 -- Relu check"
      ]
    },
    {
      "cell_type": "code",
      "metadata": {
        "id": "5eWXM7kbc6gn",
        "colab": {
          "base_uri": "https://localhost:8080/",
          "height": 605
        },
        "outputId": "4e2327da-8657-47d0-f04d-618866cd6543"
      },
      "source": [
        "reg2=Regres(layers=[1,1,1], eta=0.01)\n",
        "X=[[0],[1],[2],[3],[4],[5]]\n",
        "y=[0,1,2,3,4,5]\n",
        "reg2.printWeights()\n",
        "\n",
        "reg2.set_hidden_activ('linear')\n",
        "reg2.fit(X,y,epochs=5)\n",
        "reg2.printWeights()\n",
        "pred=reg2.predict(X)\n",
        "print (pred)\n",
        "print()\n",
        "display ('weight_history',reg2.weight_history)\n",
        "display ('MSE',reg2.MSE_history)"
      ],
      "execution_count": 192,
      "outputs": [
        {
          "output_type": "stream",
          "name": "stdout",
          "text": [
            "\n",
            "Layer 0 is the Input Layer\n",
            "Layer 1 Neuron 0 : [-0.95857011  0.14705313] linear\n",
            "Layer 2 Neuron 0 : [-0.61881202  0.54702895] linear\n",
            "\n",
            "weight_epoch [array([-1.09073759,  0.11795281]), array([-0.80688341,  0.58963738])]\n",
            "weight_epoch [array([-1.10012678,  0.13042581]), array([-0.8215007 ,  0.57422415])]\n",
            "weight_epoch [array([-1.10185797,  0.14478834]), array([-0.82625418,  0.55678058])]\n",
            "weight_epoch [array([-1.10322915,  0.15839369]), array([-0.83059985,  0.54034959])]\n",
            "weight_epoch [array([-1.10442429,  0.1712147 ]), array([-0.83474537,  0.52494523])]\n",
            "Model fitted.\n",
            "self.weight_history - list of lists of weights propagation\n",
            "self.MSE_history - list of MSEs propagation\n",
            "\n",
            "Layer 0 is the Input Layer\n",
            "Layer 1 Neuron 0 : [-1.10442429  0.1712147 ] linear\n",
            "Layer 2 Neuron 0 : [-0.83474537  0.52494523] linear\n",
            "\n",
            "[0.38202454890319437, 1.3039376191471266, 2.225850689391059, 3.147763759634991, 4.069676829878923, 4.991589900122855]\n",
            "\n"
          ]
        },
        {
          "output_type": "display_data",
          "data": {
            "application/vnd.google.colaboratory.intrinsic+json": {
              "type": "string"
            },
            "text/plain": [
              "'weight_history'"
            ]
          },
          "metadata": {}
        },
        {
          "output_type": "display_data",
          "data": {
            "text/plain": [
              "[[array([-1.10442429,  0.1712147 ]), array([-0.83474537,  0.52494523])],\n",
              " [array([-1.10442429,  0.1712147 ]), array([-0.83474537,  0.52494523])],\n",
              " [array([-1.10442429,  0.1712147 ]), array([-0.83474537,  0.52494523])],\n",
              " [array([-1.10442429,  0.1712147 ]), array([-0.83474537,  0.52494523])],\n",
              " [array([-1.10442429,  0.1712147 ]), array([-0.83474537,  0.52494523])]]"
            ]
          },
          "metadata": {}
        },
        {
          "output_type": "display_data",
          "data": {
            "application/vnd.google.colaboratory.intrinsic+json": {
              "type": "string"
            },
            "text/plain": [
              "'MSE'"
            ]
          },
          "metadata": {}
        },
        {
          "output_type": "display_data",
          "data": {
            "text/plain": [
              "[1.3725036441082057,\n",
              " 0.31155315477281936,\n",
              " 0.2877186109076955,\n",
              " 0.25240723572643786,\n",
              " 0.22081958374089586]"
            ]
          },
          "metadata": {}
        }
      ]
    },
    {
      "cell_type": "markdown",
      "metadata": {
        "id": "iEwuMi2DkFWq"
      },
      "source": [
        "# Example 9 -- mrelu check. working"
      ]
    },
    {
      "cell_type": "code",
      "metadata": {
        "id": "ay2oPnEzpHR3",
        "colab": {
          "base_uri": "https://localhost:8080/",
          "height": 899
        },
        "outputId": "31c459fa-86cd-4dbb-c505-03fe1e4222dc"
      },
      "source": [
        "mln4 = MultiLayerNeuron(layers=[1,2,1]) # generating MLN with random weights\n",
        "mln4.set_activ('mrelu', param=0.1)\n",
        "# mln4.set_activ('relu')\n",
        "mln4.set_output_activ('linear')\n",
        "mln4.set_weights([[[-1.1,1.74],[3.35,-6.44]],[[-1.41,2.05,2.2]]]) # setting weights\n",
        "mln4.printWeights()\n",
        "\n",
        "y4=[] # generating output values\n",
        "y4.append(mln4.run([0])[0])\n",
        "y4.append(mln4.run([1])[0])\n",
        "y4.append(mln4.run([2])[0])\n",
        "y4.append(mln4.run([3])[0])\n",
        "y4.append(mln4.run([4])[0])\n",
        "y4.append(mln4.run([5])[0])\n",
        "display ('original values:',y4)\n",
        "print ()\n",
        "\n",
        "# training model and predicting values\n",
        "mln4 = MultiLayerNeuron(layers=[1,2,1], eta=0.005) # generating MLN with random weights\n",
        "mln4.set_activ('mrelu', param=0.1)\n",
        "# mln4.set_activ('relu')\n",
        "mln4.set_output_activ('linear')\n",
        "\n",
        "for i in range(4000):\n",
        "    MSE = 0.0\n",
        "    MSE += mln4.bp_regres([0],y4[0])\n",
        "    MSE += mln4.bp_regres([1],y4[1])\n",
        "    MSE += mln4.bp_regres([2],y4[2])\n",
        "    MSE += mln4.bp_regres([3],y4[3])\n",
        "    MSE += mln4.bp_regres([4],y4[4])\n",
        "    MSE += mln4.bp_regres([5],y4[5])\n",
        "    MSE = MSE / 6\n",
        "    if(i%200 == 0):\n",
        "        print ('MSE', i, '=',MSE)\n",
        "mln4.printWeights()\n",
        "\n",
        "y4=[]\n",
        "y4.append(mln4.run([0])[0])\n",
        "y4.append(mln4.run([1])[0])\n",
        "y4.append(mln4.run([2])[0])\n",
        "y4.append(mln4.run([3])[0])\n",
        "y4.append(mln4.run([4])[0])\n",
        "y4.append(mln4.run([5])[0])\n",
        "display ('predicted values:',y4)\n",
        "print ()"
      ],
      "execution_count": 193,
      "outputs": [
        {
          "output_type": "stream",
          "name": "stdout",
          "text": [
            "\n",
            "Layer 0 is the Input Layer\n",
            "Layer 1 Neuron 0 : [-1.1   1.74] mrelu\n",
            "Layer 1 Neuron 1 : [ 3.35 -6.44] mrelu\n",
            "Layer 2 Neuron 0 : [-1.41  2.05  2.2 ] linear\n",
            "\n"
          ]
        },
        {
          "output_type": "display_data",
          "data": {
            "application/vnd.google.colaboratory.intrinsic+json": {
              "type": "string"
            },
            "text/plain": [
              "'original values:'"
            ]
          },
          "metadata": {}
        },
        {
          "output_type": "display_data",
          "data": {
            "text/plain": [
              "[-1.5735999999999999,\n",
              " 0.6641500000000005,\n",
              " 2.7978599999999996,\n",
              " 9.82046,\n",
              " 16.843059999999998,\n",
              " 23.865659999999995]"
            ]
          },
          "metadata": {}
        },
        {
          "output_type": "stream",
          "name": "stdout",
          "text": [
            "\n",
            "MSE 0 = 612.6643432272605\n",
            "MSE 200 = 8.333048641430231\n",
            "MSE 400 = 1.2778662121051203\n",
            "MSE 600 = 0.754769076233262\n",
            "MSE 800 = 0.3740768075913423\n",
            "MSE 1000 = 0.07859955609611667\n",
            "MSE 1200 = 0.011447242621122754\n",
            "MSE 1400 = 0.0015037944936402365\n",
            "MSE 1600 = 0.00019058404755281397\n",
            "MSE 1800 = 2.3823723939203674e-05\n",
            "MSE 2000 = 2.96836164684285e-06\n",
            "MSE 2200 = 3.694008089155483e-07\n",
            "MSE 2400 = 4.5952768862663815e-08\n",
            "MSE 2600 = 5.716206371697316e-09\n",
            "MSE 2800 = 7.109863975432801e-10\n",
            "MSE 3000 = 8.843112393602159e-11\n",
            "MSE 3200 = 1.0999570810217392e-11\n",
            "MSE 3400 = 1.3672108660013314e-12\n",
            "MSE 3600 = 1.6937700647237486e-13\n",
            "MSE 3800 = 2.1064422831134935e-14\n",
            "\n",
            "Layer 0 is the Input Layer\n",
            "Layer 1 Neuron 0 : [-1.10511818  1.10511818] mrelu\n",
            "Layer 1 Neuron 1 : [ 2.18660129 -3.91617343] mrelu\n",
            "Layer 2 Neuron 0 : [-1.40346974  3.14071891  1.20735993] linear\n",
            "\n"
          ]
        },
        {
          "output_type": "display_data",
          "data": {
            "application/vnd.google.colaboratory.intrinsic+json": {
              "type": "string"
            },
            "text/plain": [
              "'predicted values:'"
            ]
          },
          "metadata": {}
        },
        {
          "output_type": "display_data",
          "data": {
            "text/plain": [
              "[-1.57359998203963,\n",
              " 0.6641499413394282,\n",
              " 2.797860008094644,\n",
              " 9.820460003819772,\n",
              " 16.8430599995449,\n",
              " 23.865659995270025]"
            ]
          },
          "metadata": {}
        },
        {
          "output_type": "stream",
          "name": "stdout",
          "text": [
            "\n"
          ]
        }
      ]
    },
    {
      "cell_type": "code",
      "metadata": {
        "id": "V8pAh-iAkiJw",
        "colab": {
          "base_uri": "https://localhost:8080/",
          "height": 1000
        },
        "outputId": "0a2cfa5a-6a3c-4a7f-c135-53a511c212ad"
      },
      "source": [
        "reg2=Regres(layers=[1,2,1], eta=0.0001)\n",
        "X=[[1],[2],[3],[4],[5]]\n",
        "y=[1.,4.,9.,16.,25.]\n",
        "# reg2.printWeights()\n",
        "\n",
        "reg2.set_hidden_activ('mrelu', param=0.1)\n",
        "reg2.fit(X,y,epochs=500)\n",
        "reg2.printWeights()\n",
        "pred=reg2.predict(X)\n",
        "print (pred)\n",
        "print()\n",
        "# display ('weight_history',reg2.weight_history)\n",
        "display ('MSE',np.array(reg2.MSE_history).min())"
      ],
      "execution_count": 194,
      "outputs": [
        {
          "output_type": "stream",
          "name": "stdout",
          "text": [
            "weight_epoch [array([-0.68412759, -0.0836259 ]), array([0.45478376, 0.46399496]), array([-0.96154489, -0.50658509, -0.56748191])]\n",
            "weight_epoch [array([-0.68412759, -0.0836259 ]), array([0.42999403, 0.45777451]), array([-0.96154489, -0.47854005, -0.55501007])]\n",
            "weight_epoch [array([-0.68412759, -0.0836259 ]), array([0.40674087, 0.45194602]), array([-0.96154489, -0.4519745 , -0.54263845])]\n",
            "weight_epoch [array([-0.68412759, -0.0836259 ]), array([0.38492004, 0.44648213]), array([-0.96154489, -0.42677482, -0.53035796])]\n",
            "weight_epoch [array([-0.68412759, -0.0836259 ]), array([0.36443806, 0.44135839]), array([-0.96154489, -0.40283839, -0.51816053])]\n",
            "weight_epoch [array([-0.68412759, -0.0836259 ]), array([0.34521084, 0.43655283]), array([-0.96154489, -0.38007208, -0.506039  ])]\n",
            "weight_epoch [array([-0.68412759, -0.0836259 ]), array([0.32716246, 0.43204566]), array([-0.96154489, -0.35839097, -0.493987  ])]\n",
            "weight_epoch [array([-0.68412759, -0.0836259 ]), array([0.31022417, 0.42781902]), array([-0.96154489, -0.33771732, -0.48199886])]\n",
            "weight_epoch [array([-0.68412759, -0.0836259 ]), array([0.29433353, 0.4238567 ]), array([-0.96154489, -0.31797967, -0.47006951])]\n",
            "weight_epoch [array([-0.68412759, -0.0836259 ]), array([0.27943372, 0.420144  ]), array([-0.96154489, -0.29911209, -0.45819441])]\n",
            "weight_epoch [array([-0.68412759, -0.0836259 ]), array([0.26547292, 0.41666752]), array([-0.96154489, -0.28105351, -0.44636952])]\n",
            "weight_epoch [array([-0.68412759, -0.0836259 ]), array([0.25240379, 0.41341503]), array([-0.96154489, -0.26374718, -0.43459121])]\n",
            "weight_epoch [array([-0.68412759, -0.0836259 ]), array([0.24018299, 0.41037537]), array([-0.96154489, -0.2471402 , -0.42285623])]\n",
            "weight_epoch [array([-0.68412759, -0.0836259 ]), array([0.22877084, 0.40753835]), array([-0.96154489, -0.23118306, -0.41116166])]\n",
            "weight_epoch [array([-0.68412759, -0.0836259 ]), array([0.21813096, 0.40489459]), array([-0.96154489, -0.21582933, -0.39950488])]\n",
            "weight_epoch [array([-0.68412759, -0.0836259 ]), array([0.20822999, 0.40243555]), array([-0.96154489, -0.20103531, -0.38788355])]\n",
            "weight_epoch [array([-0.68412759, -0.0836259 ]), array([0.19903732, 0.40015338]), array([-0.96154489, -0.18675973, -0.37629556])]\n",
            "weight_epoch [array([-0.68412759, -0.0836259 ]), array([0.19052488, 0.39804087]), array([-0.96154489, -0.17296357, -0.36473903])]\n",
            "weight_epoch [array([-0.68412759, -0.0836259 ]), array([0.18266696, 0.39609145]), array([-0.96154489, -0.15960977, -0.35321226])]\n",
            "weight_epoch [array([-0.68412759, -0.0836259 ]), array([0.17543999, 0.39429909]), array([-0.96154489, -0.14666306, -0.34171375])]\n",
            "weight_epoch [array([-0.68412759, -0.0836259 ]), array([0.16882247, 0.39265828]), array([-0.96154489, -0.13408981, -0.33024213])]\n",
            "weight_epoch [array([-0.68412759, -0.0836259 ]), array([0.16279476, 0.391164  ]), array([-0.96154489, -0.12185782, -0.3187962 ])]\n",
            "weight_epoch [array([-0.68412759, -0.0836259 ]), array([0.157339  , 0.38981166]), array([-0.96154489, -0.10993622, -0.3073749 ])]\n",
            "weight_epoch [array([-0.68412759, -0.0836259 ]), array([0.152439  , 0.38859714]), array([-0.96154489, -0.09829534, -0.29597727])]\n",
            "weight_epoch [array([-0.68412759, -0.0836259 ]), array([0.14808015, 0.38751668]), array([-0.96154489, -0.08690655, -0.28460246])]\n",
            "weight_epoch [array([-0.68412759, -0.0836259 ]), array([0.14424934, 0.3865669 ]), array([-0.96154489, -0.0757422 , -0.27324975])]\n",
            "weight_epoch [array([-0.68412759, -0.0836259 ]), array([0.14093488, 0.38574481]), array([-0.96154489, -0.06477551, -0.2619185 ])]\n",
            "weight_epoch [array([-0.68412759, -0.0836259 ]), array([0.13812642, 0.38504774]), array([-0.96154489, -0.05398044, -0.25060816])]\n",
            "weight_epoch [array([-0.68412759, -0.0836259 ]), array([0.13581493, 0.38447333]), array([-0.96154489, -0.04333166, -0.23931826])]\n",
            "weight_epoch [array([-0.68412759, -0.0836259 ]), array([0.13399262, 0.38401956]), array([-0.96154489, -0.03280445, -0.22804841])]\n",
            "weight_epoch [array([-0.68412759, -0.0836259 ]), array([0.13265289, 0.38368471]), array([-0.96154489, -0.02237462, -0.2167983 ])]\n",
            "weight_epoch [array([-0.68412759, -0.0836259 ]), array([0.13179031, 0.38346732]), array([-0.96154489, -0.01201844, -0.20556769])]\n",
            "weight_epoch [array([-0.68412759, -0.0836259 ]), array([0.13140056, 0.38336624]), array([-0.96154489, -0.0017126 , -0.19435641])]\n",
            "weight_epoch [array([-0.68412759, -0.0836259 ]), array([0.13148041, 0.38338056]), array([-0.96154489,  0.00856588, -0.18316435])]\n",
            "weight_epoch [array([-0.68412759, -0.0836259 ]), array([0.1320277 , 0.38350965]), array([-0.96154489,  0.01883968, -0.17199146])]\n",
            "weight_epoch [array([-0.68412759, -0.0836259 ]), array([0.13304128, 0.38375313]), array([-0.96154489,  0.02913124, -0.16083779])]\n",
            "weight_epoch [array([-0.68412759, -0.0836259 ]), array([0.13452101, 0.38411087]), array([-0.96154489,  0.03946284, -0.1497034 ])]\n",
            "weight_epoch [array([-0.68412759, -0.0836259 ]), array([0.13646774, 0.38458297]), array([-0.96154489,  0.04985658, -0.13858846])]\n",
            "weight_epoch [array([-0.68412759, -0.0836259 ]), array([0.13888326, 0.38516976]), array([-0.96154489,  0.06033448, -0.12749318])]\n",
            "weight_epoch [array([-0.68412759, -0.0836259 ]), array([0.14177033, 0.38587183]), array([-0.96154489,  0.07091851, -0.11641784])]\n",
            "weight_epoch [array([-0.68412759, -0.0836259 ]), array([0.14513261, 0.38668995]), array([-0.96154489,  0.08163059, -0.1053628 ])]\n",
            "weight_epoch [array([-0.68412759, -0.0836259 ]), array([0.14897466, 0.38762514]), array([-0.96154489,  0.09249269, -0.09432848])]\n",
            "weight_epoch [array([-0.68412759, -0.0836259 ]), array([0.15330196, 0.38867861]), array([-0.96154489,  0.10352678, -0.08331538])]\n",
            "weight_epoch [array([-0.68412759, -0.0836259 ]), array([0.15812081, 0.38985181]), array([-0.96154489,  0.11475494, -0.07232406])]\n",
            "weight_epoch [array([-0.68412759, -0.0836259 ]), array([0.16343841, 0.39114635]), array([-0.96154489,  0.12619932, -0.06135519])]\n",
            "weight_epoch [array([-0.68412759, -0.0836259 ]), array([0.16926274, 0.39256406]), array([-0.96154489,  0.1378822 , -0.05040951])]\n",
            "weight_epoch [array([-0.68412759, -0.0836259 ]), array([0.17560264, 0.39410697]), array([-0.96154489,  0.14982596, -0.03948783])]\n",
            "weight_epoch [array([-0.68412759, -0.0836259 ]), array([0.18246769, 0.39577728]), array([-0.96154489,  0.16205316, -0.0285911 ])]\n",
            "weight_epoch [array([-0.68412759, -0.0836259 ]), array([0.18986825, 0.39757734]), array([-0.96154489,  0.17458648, -0.01772034])]\n",
            "weight_epoch [array([-0.68412759, -0.0836259 ]), array([0.19781541, 0.39950972]), array([-0.96154489,  0.18744877, -0.00687668])]\n",
            "weight_epoch [array([-0.68412759, -0.0836259 ]), array([0.20632095, 0.4015771 ]), array([-0.96154489,  0.20066301,  0.00393861])]\n",
            "weight_epoch [array([-0.68412759, -0.0836259 ]), array([0.21539731, 0.40378233]), array([-0.96154489,  0.21425231,  0.01472416])]\n",
            "weight_epoch [array([-0.68412759, -0.0836259 ]), array([0.22505753, 0.40612837]), array([-0.96154489,  0.2282399 ,  0.02547844])]\n",
            "weight_epoch [array([-0.68412759, -0.0836259 ]), array([0.23531522, 0.40861834]), array([-0.96154489,  0.2426491 ,  0.03619982])]\n",
            "weight_epoch [array([-0.68412759, -0.0836259 ]), array([0.24618449, 0.41125541]), array([-0.96154489,  0.25750325,  0.04688646])]\n",
            "weight_epoch [array([-0.68412759, -0.0836259 ]), array([0.25767988, 0.41404286]), array([-0.96154489,  0.27282572,  0.0575364 ])]\n",
            "weight_epoch [array([-0.68412759, -0.0836259 ]), array([0.26981628, 0.41698404]), array([-0.96154489,  0.2886398 ,  0.06814748])]\n",
            "weight_epoch [array([-0.68412759, -0.0836259 ]), array([0.28260884, 0.4200823 ]), array([-0.96154489,  0.30496865,  0.07871737])]\n",
            "weight_epoch [array([-0.68412759, -0.0836259 ]), array([0.2960729 , 0.42334104]), array([-0.96154489,  0.3218352 ,  0.08924352])]\n",
            "weight_epoch [array([-0.68412759, -0.0836259 ]), array([0.31022381, 0.4267636 ]), array([-0.96154489,  0.33926208,  0.09972317])]\n",
            "weight_epoch [array([-0.68412759, -0.0836259 ]), array([0.32507686, 0.43035329]), array([-0.96154489,  0.35727146,  0.11015336])]\n",
            "weight_epoch [array([-0.68412759, -0.0836259 ]), array([0.34064711, 0.43411328]), array([-0.96154489,  0.37588494,  0.12053085])]\n",
            "weight_epoch [array([-0.68412759, -0.0836259 ]), array([0.35694921, 0.43804664]), array([-0.96154489,  0.3951234 ,  0.13085217])]\n",
            "weight_epoch [array([-0.68412759, -0.0836259 ]), array([0.37399723, 0.44215621]), array([-0.96154489,  0.41500677,  0.14111357])]\n",
            "weight_epoch [array([-0.68412759, -0.0836259 ]), array([0.39180448, 0.44644461]), array([-0.96154489,  0.43555393,  0.15131102])]\n",
            "weight_epoch [array([-0.68412759, -0.0836259 ]), array([0.41038321, 0.45091411]), array([-0.96154489,  0.45678238,  0.16144019])]\n",
            "weight_epoch [array([-0.68412759, -0.0836259 ]), array([0.42974446, 0.45556665]), array([-0.96154489,  0.47870808,  0.17149645])]\n",
            "weight_epoch [array([-0.68412759, -0.0836259 ]), array([0.4498977 , 0.46040367]), array([-0.96154489,  0.50134513,  0.18147482])]\n",
            "weight_epoch [array([-0.68412759, -0.0836259 ]), array([0.4708506 , 0.46542611]), array([-0.96154489,  0.5247055 ,  0.19137002])]\n",
            "weight_epoch [array([-0.68412759, -0.0836259 ]), array([0.49260868, 0.4706343 ]), array([-0.96154489,  0.54879874,  0.20117642])]\n",
            "weight_epoch [array([-0.68412759, -0.0836259 ]), array([0.51517498, 0.47602787]), array([-0.96154489,  0.57363157,  0.21088802])]\n",
            "weight_epoch [array([-0.68412759, -0.0836259 ]), array([0.53854973, 0.48160563]), array([-0.96154489,  0.5992076 ,  0.22049848])]\n",
            "weight_epoch [array([-0.68412759, -0.0836259 ]), array([0.56272996, 0.48736554]), array([-0.96154489,  0.62552695,  0.23000112])]\n",
            "weight_epoch [array([-0.68412759, -0.0836259 ]), array([0.58770913, 0.49330453]), array([-0.96154489,  0.6525858 ,  0.23938889])]\n",
            "weight_epoch [array([-0.68412759, -0.0836259 ]), array([0.61347673, 0.49941848]), array([-0.96154489,  0.68037612,  0.24865439])]\n",
            "weight_epoch [array([-0.68412759, -0.0836259 ]), array([0.64001794, 0.50570205]), array([-0.96154489,  0.70888516,  0.25778991])]\n",
            "weight_epoch [array([-0.68412759, -0.0836259 ]), array([0.66731322, 0.51214864]), array([-0.96154489,  0.73809518,  0.26678743])]\n",
            "weight_epoch [array([-0.68412759, -0.0836259 ]), array([0.69533799, 0.51875028]), array([-0.96154489,  0.76798304,  0.27563861])]\n",
            "weight_epoch [array([-0.68412759, -0.0836259 ]), array([0.72406228, 0.52549753]), array([-0.96154489,  0.79851991,  0.28433489])]\n",
            "weight_epoch [array([-0.68412759, -0.0836259 ]), array([0.7534505 , 0.53237945]), array([-0.96154489,  0.82967097,  0.29286748])]\n",
            "weight_epoch [array([-0.68412759, -0.0836259 ]), array([0.78346119, 0.53938353]), array([-0.96154489,  0.86139523,  0.30122743])]\n",
            "weight_epoch [array([-0.68412759, -0.0836259 ]), array([0.81404687, 0.54649566]), array([-0.96154489,  0.89364535,  0.30940567])]\n",
            "weight_epoch [array([-0.68412759, -0.0836259 ]), array([0.84515404, 0.55370012]), array([-0.96154489,  0.92636764,  0.3173931 ])]\n",
            "weight_epoch [array([-0.68412759, -0.0836259 ]), array([0.87672313, 0.56097962]), array([-0.96154489,  0.95950206,  0.32518062])]\n",
            "weight_epoch [array([-0.68412759, -0.0836259 ]), array([0.90868873, 0.56831533]), array([-0.96154489,  0.99298243,  0.33275927])]\n",
            "weight_epoch [array([-0.68412759, -0.0836259 ]), array([0.94097984, 0.57568698]), array([-0.96154489,  1.02673672,  0.34012025])]\n",
            "weight_epoch [array([-0.68412759, -0.0836259 ]), array([0.97352027, 0.58307296]), array([-0.96154489,  1.06068745,  0.34725508])]\n",
            "weight_epoch [array([-0.68412759, -0.0836259 ]), array([1.00622917, 0.59045051]), array([-0.96154489,  1.09475229,  0.35415562])]\n",
            "weight_epoch [array([-0.68412759, -0.0836259 ]), array([1.03902173, 0.59779589]), array([-0.96154489,  1.12884478,  0.36081426])]\n",
            "weight_epoch [array([-0.68412759, -0.0836259 ]), array([1.07180996, 0.60508462]), array([-0.96154489,  1.16287511,  0.36722392])]\n",
            "weight_epoch [array([-0.68412759, -0.0836259 ]), array([1.10450361, 0.61229171]), array([-0.96154489,  1.19675114,  0.37337823])]\n",
            "weight_epoch [array([-0.68412759, -0.0836259 ]), array([1.13701119, 0.61939199]), array([-0.96154489,  1.23037944,  0.37927157])]\n",
            "weight_epoch [array([-0.68412759, -0.0836259 ]), array([1.16924107, 0.62636039]), array([-0.96154489,  1.26366641,  0.38489918])]\n",
            "weight_epoch [array([-0.68412759, -0.0836259 ]), array([1.20110258, 0.63317226]), array([-0.96154489,  1.29651949,  0.39025722])]\n",
            "weight_epoch [array([-0.68412759, -0.0836259 ]), array([1.23250723, 0.63980368]), array([-0.96154489,  1.3288484 ,  0.39534286])]\n",
            "weight_epoch [array([-0.68412759, -0.0836259 ]), array([1.2633698, 0.6462318]), array([-0.96154489,  1.36056624,  0.40015428])]\n",
            "weight_epoch [array([-0.68412759, -0.0836259 ]), array([1.29360951, 0.65243512]), array([-0.96154489,  1.39159075,  0.40469076])]\n",
            "weight_epoch [array([-0.68412759, -0.0836259 ]), array([1.32315094, 0.65839378]), array([-0.96154489,  1.42184529,  0.40895266])]\n",
            "weight_epoch [array([-0.68412759, -0.0836259 ]), array([1.35192505, 0.66408979]), array([-0.96154489,  1.45125979,  0.41294141])]\n",
            "weight_epoch [array([-0.68412759, -0.0836259 ]), array([1.37986986, 0.66950726]), array([-0.96154489,  1.4797716 ,  0.41665955])]\n",
            "weight_epoch [array([-0.68412759, -0.0836259 ]), array([1.4069311 , 0.67463254]), array([-0.96154489,  1.50732606,  0.42011062])]\n",
            "weight_epoch [array([-0.68412759, -0.0836259 ]), array([1.43306268, 0.67945433]), array([-0.96154489,  1.533877  ,  0.42329916])]\n",
            "weight_epoch [array([-0.68412759, -0.0836259 ]), array([1.45822689, 0.68396377]), array([-0.96154489,  1.55938701,  0.42623062])]\n",
            "weight_epoch [array([-0.68412759, -0.0836259 ]), array([1.48239455, 0.6881544 ]), array([-0.96154489,  1.58382749,  0.42891129])]\n",
            "weight_epoch [array([-0.68412759, -0.0836259 ]), array([1.50554491, 0.69202219]), array([-0.96154489,  1.60717863,  0.43134823])]\n",
            "weight_epoch [array([-0.68412759, -0.0836259 ]), array([1.52766541, 0.69556541]), array([-0.96154489,  1.62942908,  0.43354914])]\n",
            "weight_epoch [array([-0.68412759, -0.0836259 ]), array([1.5487513 , 0.69878454]), array([-0.96154489,  1.65057561,  0.43552227])]\n",
            "weight_epoch [array([-0.68412759, -0.0836259 ]), array([1.56880514, 0.70168211]), array([-0.96154489,  1.67062258,  0.43727636])]\n",
            "weight_epoch [array([-0.68412759, -0.0836259 ]), array([1.58783625, 0.70426253]), array([-0.96154489,  1.68958132,  0.43882049])]\n",
            "weight_epoch [array([-0.68412759, -0.0836259 ]), array([1.60585999, 0.70653189]), array([-0.96154489,  1.70746942,  0.44016398])]\n",
            "weight_epoch [array([-0.68412759, -0.0836259 ]), array([1.62289715, 0.70849775]), array([-0.96154489,  1.72431005,  0.44131635])]\n",
            "weight_epoch [array([-0.68412759, -0.0836259 ]), array([1.63897313, 0.71016894]), array([-0.96154489,  1.74013116,  0.44228717])]\n",
            "weight_epoch [array([-0.68412759, -0.0836259 ]), array([1.65411726, 0.71155535]), array([-0.96154489,  1.75496472,  0.44308601])]\n",
            "weight_epoch [array([-0.68412759, -0.0836259 ]), array([1.66836212, 0.71266772]), array([-0.96154489,  1.76884603,  0.44372237])]\n",
            "weight_epoch [array([-0.68412759, -0.0836259 ]), array([1.68174279, 0.71351745]), array([-0.96154489,  1.78181293,  0.4442056 ])]\n",
            "weight_epoch [array([-0.68412759, -0.0836259 ]), array([1.69429627, 0.7141164 ]), array([-0.96154489,  1.79390522,  0.44454486])]\n",
            "weight_epoch [array([-0.68412759, -0.0836259 ]), array([1.70606085, 0.71447674]), array([-0.96154489,  1.80516398,  0.44474904])]\n",
            "weight_epoch [array([-0.68412759, -0.0836259 ]), array([1.71707562, 0.71461078]), array([-0.96154489,  1.81563105,  0.44482677])]\n",
            "weight_epoch [array([-0.68412759, -0.0836259 ]), array([1.72737997, 0.71453087]), array([-0.96154489,  1.82534853,  0.44478635])]\n",
            "weight_epoch [array([-0.68412759, -0.0836259 ]), array([1.73701316, 0.71424925]), array([-0.96154489,  1.83435834,  0.44463574])]\n",
            "weight_epoch [array([-0.68412759, -0.0836259 ]), array([1.74601401, 0.71377797]), array([-0.96154489,  1.84270187,  0.44438255])]\n",
            "weight_epoch [array([-0.68412759, -0.0836259 ]), array([1.75442057, 0.71312878]), array([-0.96154489,  1.85041967,  0.44403401])]\n",
            "weight_epoch [array([-0.68412759, -0.0836259 ]), array([1.76226988, 0.71231311]), array([-0.96154489,  1.85755117,  0.44359697])]\n",
            "weight_epoch [array([-0.68412759, -0.0836259 ]), array([1.7695978 , 0.71134197]), array([-0.96154489,  1.86413452,  0.44307793])]\n",
            "weight_epoch [array([-0.68412759, -0.0836259 ]), array([1.7764388 , 0.71022594]), array([-0.96154489,  1.8702064 ,  0.44248298])]\n",
            "weight_epoch [array([-0.68412759, -0.0836259 ]), array([1.78282592, 0.70897511]), array([-0.96154489,  1.8758019 ,  0.44181788])]\n",
            "weight_epoch [array([-0.68412759, -0.0836259 ]), array([1.78879063, 0.7075991 ]), array([-0.96154489,  1.88095448,  0.441088  ])]\n",
            "weight_epoch [array([-0.68412759, -0.0836259 ]), array([1.79436283, 0.70610702]), array([-0.96154489,  1.8856959 ,  0.44029838])]\n",
            "weight_epoch [array([-0.68412759, -0.0836259 ]), array([1.7995708 , 0.70450748]), array([-0.96154489,  1.89005618,  0.43945373])]\n",
            "weight_epoch [array([-0.68412759, -0.0836259 ]), array([1.8044412 , 0.70280859]), array([-0.96154489,  1.89406365,  0.43855842])]\n",
            "weight_epoch [array([-0.68412759, -0.0836259 ]), array([1.80899913, 0.70101797]), array([-0.96154489,  1.89774493,  0.43761653])]\n",
            "weight_epoch [array([-0.68412759, -0.0836259 ]), array([1.8132681 , 0.69914274]), array([-0.96154489,  1.90112499,  0.43663185])]\n",
            "weight_epoch [array([-0.68412759, -0.0836259 ]), array([1.81727011, 0.69718958]), array([-0.96154489,  1.90422717,  0.43560788])]\n",
            "weight_epoch [array([-0.68412759, -0.0836259 ]), array([1.82102572, 0.6951647 ]), array([-0.96154489,  1.90707327,  0.43454787])]\n",
            "weight_epoch [array([-0.68412759, -0.0836259 ]), array([1.82455404, 0.69307389]), array([-0.96154489,  1.9096836 ,  0.43345483])]\n",
            "weight_epoch [array([-0.68412759, -0.0836259 ]), array([1.82787289, 0.69092253]), array([-0.96154489,  1.91207704,  0.43233154])]\n",
            "weight_epoch [array([-0.68412759, -0.0836259 ]), array([1.8309988 , 0.68871561]), array([-0.96154489,  1.91427112,  0.43118056])]\n",
            "weight_epoch [array([-0.68412759, -0.0836259 ]), array([1.83394707, 0.68645776]), array([-0.96154489,  1.91628209,  0.43000425])]\n",
            "weight_epoch [array([-0.68412759, -0.0836259 ]), array([1.8367319 , 0.68415326]), array([-0.96154489,  1.91812501,  0.4288048 ])]\n",
            "weight_epoch [array([-0.68412759, -0.0836259 ]), array([1.83936641, 0.68180605]), array([-0.96154489,  1.91981377,  0.4275842 ])]\n",
            "weight_epoch [array([-0.68412759, -0.0836259 ]), array([1.8418627 , 0.67941979]), array([-0.96154489,  1.92136124,  0.4263443 ])]\n",
            "weight_epoch [array([-0.68412759, -0.0836259 ]), array([1.84423196, 0.67699784]), array([-0.96154489,  1.92277926,  0.42508679])]\n",
            "weight_epoch [array([-0.68412759, -0.0836259 ]), array([1.84648449, 0.6745433 ]), array([-0.96154489,  1.92407876,  0.42381324])]\n",
            "weight_epoch [array([-0.68412759, -0.0836259 ]), array([1.84862978, 0.67205904]), array([-0.96154489,  1.9252698 ,  0.42252506])]\n",
            "weight_epoch [array([-0.68412759, -0.0836259 ]), array([1.85067656, 0.66954767]), array([-0.96154489,  1.92636166,  0.42122358])]\n",
            "weight_epoch [array([-0.68412759, -0.0836259 ]), array([1.85263288, 0.66701161]), array([-0.96154489,  1.92736284,  0.41990999])]\n",
            "weight_epoch [array([-0.68412759, -0.0836259 ]), array([1.8545061 , 0.66445307]), array([-0.96154489,  1.92828117,  0.41858541])]\n",
            "weight_epoch [array([-0.68412759, -0.0836259 ]), array([1.85630302, 0.6618741 ]), array([-0.96154489,  1.92912385,  0.41725083])]\n",
            "weight_epoch [array([-0.68412759, -0.0836259 ]), array([1.85802985, 0.65927655]), array([-0.96154489,  1.92989746,  0.41590719])]\n",
            "weight_epoch [array([-0.68412759, -0.0836259 ]), array([1.85969231, 0.65666215]), array([-0.96154489,  1.93060808,  0.41455534])]\n",
            "weight_epoch [array([-0.68412759, -0.0836259 ]), array([1.86129564, 0.65403246]), array([-0.96154489,  1.93126124,  0.41319605])]\n",
            "weight_epoch [array([-0.68412759, -0.0836259 ]), array([1.86284464, 0.65138893]), array([-0.96154489,  1.93186204,  0.41183003])]\n",
            "weight_epoch [array([-0.68412759, -0.0836259 ]), array([1.86434371, 0.64873286]), array([-0.96154489,  1.93241514,  0.41045794])]\n",
            "weight_epoch [array([-0.68412759, -0.0836259 ]), array([1.86579689, 0.64606548]), array([-0.96154489,  1.93292482,  0.40908037])]\n",
            "weight_epoch [array([-0.68412759, -0.0836259 ]), array([1.86720787, 0.64338787]), array([-0.96154489,  1.93339499,  0.40769786])]\n",
            "weight_epoch [array([-0.68412759, -0.0836259 ]), array([1.86858003, 0.64070106]), array([-0.96154489,  1.93382922,  0.40631091])]\n",
            "weight_epoch [array([-0.68412759, -0.0836259 ]), array([1.86991647, 0.63800596]), array([-0.96154489,  1.93423081,  0.40491998])]\n",
            "weight_epoch [array([-0.68412759, -0.0836259 ]), array([1.87122001, 0.63530343]), array([-0.96154489,  1.93460273,  0.40352548])]\n",
            "weight_epoch [array([-0.68412759, -0.0836259 ]), array([1.87249325, 0.63259424]), array([-0.96154489,  1.93494775,  0.4021278 ])]\n",
            "weight_epoch [array([-0.68412759, -0.0836259 ]), array([1.87373857, 0.62987908]), array([-0.96154489,  1.93526836,  0.40072728])]\n",
            "weight_epoch [array([-0.68412759, -0.0836259 ]), array([1.87495813, 0.62715862]), array([-0.96154489,  1.93556686,  0.39932423])]\n",
            "weight_epoch [array([-0.68412759, -0.0836259 ]), array([1.87615391, 0.62443344]), array([-0.96154489,  1.93584535,  0.39791896])]\n",
            "weight_epoch [array([-0.68412759, -0.0836259 ]), array([1.87732773, 0.62170408]), array([-0.96154489,  1.93610573,  0.39651172])]\n",
            "weight_epoch [array([-0.68412759, -0.0836259 ]), array([1.87848124, 0.61897102]), array([-0.96154489,  1.93634977,  0.39510276])]\n",
            "weight_epoch [array([-0.68412759, -0.0836259 ]), array([1.87961597, 0.61623473]), array([-0.96154489,  1.93657907,  0.39369229])]\n",
            "weight_epoch [array([-0.68412759, -0.0836259 ]), array([1.88073329, 0.61349561]), array([-0.96154489,  1.93679507,  0.39228053])]\n",
            "weight_epoch [array([-0.68412759, -0.0836259 ]), array([1.88183447, 0.61075404]), array([-0.96154489,  1.93699913,  0.39086765])]\n",
            "weight_epoch [array([-0.68412759, -0.0836259 ]), array([1.88292068, 0.60801036]), array([-0.96154489,  1.93719245,  0.38945383])]\n",
            "weight_epoch [array([-0.68412759, -0.0836259 ]), array([1.88399297, 0.60526488]), array([-0.96154489,  1.93737615,  0.38803921])]\n",
            "weight_epoch [array([-0.68412759, -0.0836259 ]), array([1.8850523 , 0.60251788]), array([-0.96154489,  1.93755125,  0.38662394])]\n",
            "weight_epoch [array([-0.68412759, -0.0836259 ]), array([1.88609956, 0.59976964]), array([-0.96154489,  1.93771867,  0.38520814])]\n",
            "weight_epoch [array([-0.68412759, -0.0836259 ]), array([1.88713555, 0.59702037]), array([-0.96154489,  1.93787927,  0.38379194])]\n",
            "weight_epoch [array([-0.68412759, -0.0836259 ]), array([1.88816102, 0.59427031]), array([-0.96154489,  1.93803381,  0.38237543])]\n",
            "weight_epoch [array([-0.68412759, -0.0836259 ]), array([1.88917664, 0.59151964]), array([-0.96154489,  1.938183  ,  0.38095873])]\n",
            "weight_epoch [array([-0.68412759, -0.0836259 ]), array([1.89018302, 0.58876855]), array([-0.96154489,  1.93832748,  0.37954191])]\n",
            "weight_epoch [array([-0.68412759, -0.0836259 ]), array([1.89118073, 0.5860172 ]), array([-0.96154489,  1.93846784,  0.37812506])]\n",
            "weight_epoch [array([-0.68412759, -0.0836259 ]), array([1.89217028, 0.58326574]), array([-0.96154489,  1.93860462,  0.37670825])]\n",
            "weight_epoch [array([-0.68412759, -0.0836259 ]), array([1.89315214, 0.5805143 ]), array([-0.96154489,  1.9387383 ,  0.37529155])]\n",
            "weight_epoch [array([-0.68412759, -0.0836259 ]), array([1.89412675, 0.57776302]), array([-0.96154489,  1.93886933,  0.37387502])]\n",
            "weight_epoch [array([-0.68412759, -0.0836259 ]), array([1.89509449, 0.575012  ]), array([-0.96154489,  1.93899812,  0.37245872])]\n",
            "weight_epoch [array([-0.68412759, -0.0836259 ]), array([1.89605572, 0.57226134]), array([-0.96154489,  1.93912504,  0.3710427 ])]\n",
            "weight_epoch [array([-0.68412759, -0.0836259 ]), array([1.89701078, 0.56951115]), array([-0.96154489,  1.93925042,  0.36962701])]\n",
            "weight_epoch [array([-0.68412759, -0.0836259 ]), array([1.89795995, 0.5667615 ]), array([-0.96154489,  1.93937457,  0.36821168])]\n",
            "weight_epoch [array([-0.68412759, -0.0836259 ]), array([1.89890353, 0.56401248]), array([-0.96154489,  1.93949777,  0.36679676])]\n",
            "weight_epoch [array([-0.68412759, -0.0836259 ]), array([1.89984175, 0.56126414]), array([-0.96154489,  1.93962028,  0.36538229])]\n",
            "weight_epoch [array([-0.68412759, -0.0836259 ]), array([1.90077485, 0.55851657]), array([-0.96154489,  1.93974234,  0.3639683 ])]\n",
            "weight_epoch [array([-0.68412759, -0.0836259 ]), array([1.90170304, 0.55576981]), array([-0.96154489,  1.93986414,  0.36255481])]\n",
            "weight_epoch [array([-0.68412759, -0.0836259 ]), array([1.90262651, 0.55302392]), array([-0.96154489,  1.93998589,  0.36114185])]\n",
            "weight_epoch [array([-0.68412759, -0.0836259 ]), array([1.90354543, 0.55027895]), array([-0.96154489,  1.94010777,  0.35972945])]\n",
            "weight_epoch [array([-0.68412759, -0.0836259 ]), array([1.90445997, 0.54753493]), array([-0.96154489,  1.94022992,  0.35831764])]\n",
            "weight_epoch [array([-0.68412759, -0.0836259 ]), array([1.90537027, 0.54479192]), array([-0.96154489,  1.9403525 ,  0.35690642])]\n",
            "weight_epoch [array([-0.68412759, -0.0836259 ]), array([1.90627648, 0.54204995]), array([-0.96154489,  1.94047565,  0.35549583])]\n",
            "weight_epoch [array([-0.68412759, -0.0836259 ]), array([1.90717871, 0.53930904]), array([-0.96154489,  1.94059947,  0.35408587])]\n",
            "weight_epoch [array([-0.68412759, -0.0836259 ]), array([1.90807707, 0.53656923]), array([-0.96154489,  1.94072408,  0.35267657])]\n",
            "weight_epoch [array([-0.68412759, -0.0836259 ]), array([1.90897168, 0.53383055]), array([-0.96154489,  1.94084958,  0.35126794])]\n",
            "weight_epoch [array([-0.68412759, -0.0836259 ]), array([1.90986262, 0.53109302]), array([-0.96154489,  1.94097605,  0.34985998])]\n",
            "weight_epoch [array([-0.68412759, -0.0836259 ]), array([1.91074999, 0.52835666]), array([-0.96154489,  1.94110359,  0.34845272])]\n",
            "weight_epoch [array([-0.68412759, -0.0836259 ]), array([1.91163386, 0.52562149]), array([-0.96154489,  1.94123227,  0.34704616])]\n",
            "weight_epoch [array([-0.68412759, -0.0836259 ]), array([1.91251431, 0.52288753]), array([-0.96154489,  1.94136214,  0.34564032])]\n",
            "weight_epoch [array([-0.68412759, -0.0836259 ]), array([1.9133914, 0.5201548]), array([-0.96154489,  1.94149328,  0.3442352 ])]\n",
            "weight_epoch [array([-0.68412759, -0.0836259 ]), array([1.91426521, 0.51742331]), array([-0.96154489,  1.94162574,  0.3428308 ])]\n",
            "weight_epoch [array([-0.68412759, -0.0836259 ]), array([1.91513578, 0.51469306]), array([-0.96154489,  1.94175957,  0.34142715])]\n",
            "weight_epoch [array([-0.68412759, -0.0836259 ]), array([1.91600317, 0.51196409]), array([-0.96154489,  1.94189482,  0.34002425])]\n",
            "weight_epoch [array([-0.68412759, -0.0836259 ]), array([1.91686743, 0.50923639]), array([-0.96154489,  1.94203152,  0.33862209])]\n",
            "weight_epoch [array([-0.68412759, -0.0836259 ]), array([1.91772861, 0.50650997]), array([-0.96154489,  1.94216971,  0.33722069])]\n",
            "weight_epoch [array([-0.68412759, -0.0836259 ]), array([1.91858674, 0.50378485]), array([-0.96154489,  1.94230943,  0.33582006])]\n",
            "weight_epoch [array([-0.68412759, -0.0836259 ]), array([1.91944186, 0.50106102]), array([-0.96154489,  1.9424507 ,  0.33442019])]\n",
            "weight_epoch [array([-0.68412759, -0.0836259 ]), array([1.92029401, 0.4983385 ]), array([-0.96154489,  1.94259355,  0.33302109])]\n",
            "weight_epoch [array([-0.68412759, -0.0836259 ]), array([1.92114322, 0.4956173 ]), array([-0.96154489,  1.94273802,  0.33162277])]\n",
            "weight_epoch [array([-0.68412759, -0.0836259 ]), array([1.92198953, 0.49289741]), array([-0.96154489,  1.94288411,  0.33022523])]\n",
            "weight_epoch [array([-0.68412759, -0.0836259 ]), array([1.92283296, 0.49017885]), array([-0.96154489,  1.94303185,  0.32882848])]\n",
            "weight_epoch [array([-0.68412759, -0.0836259 ]), array([1.92367354, 0.48746161]), array([-0.96154489,  1.94318125,  0.32743251])]\n",
            "weight_epoch [array([-0.68412759, -0.0836259 ]), array([1.92451128, 0.4847457 ]), array([-0.96154489,  1.94333234,  0.32603733])]\n",
            "weight_epoch [array([-0.68412759, -0.0836259 ]), array([1.92534623, 0.48203112]), array([-0.96154489,  1.94348512,  0.32464294])]\n",
            "weight_epoch [array([-0.68412759, -0.0836259 ]), array([1.92617839, 0.47931788]), array([-0.96154489,  1.94363961,  0.32324934])]\n",
            "weight_epoch [array([-0.68412759, -0.0836259 ]), array([1.92700779, 0.47660598]), array([-0.96154489,  1.94379581,  0.32185654])]\n",
            "weight_epoch [array([-0.68412759, -0.0836259 ]), array([1.92783444, 0.47389541]), array([-0.96154489,  1.94395374,  0.32046454])]\n",
            "weight_epoch [array([-0.68412759, -0.0836259 ]), array([1.92865836, 0.47118618]), array([-0.96154489,  1.9441134 ,  0.31907334])]\n",
            "weight_epoch [array([-0.68412759, -0.0836259 ]), array([1.92947958, 0.4684783 ]), array([-0.96154489,  1.94427481,  0.31768294])]\n",
            "weight_epoch [array([-0.68412759, -0.0836259 ]), array([1.9302981 , 0.46577176]), array([-0.96154489,  1.94443796,  0.31629334])]\n",
            "weight_epoch [array([-0.68412759, -0.0836259 ]), array([1.93111394, 0.46306656]), array([-0.96154489,  1.94460287,  0.31490455])]\n",
            "weight_epoch [array([-0.68412759, -0.0836259 ]), array([1.93192711, 0.4603627 ]), array([-0.96154489,  1.94476954,  0.31351656])]\n",
            "weight_epoch [array([-0.68412759, -0.0836259 ]), array([1.93273763, 0.45766019]), array([-0.96154489,  1.94493796,  0.31212938])]\n",
            "weight_epoch [array([-0.68412759, -0.0836259 ]), array([1.93354551, 0.45495902]), array([-0.96154489,  1.94510815,  0.31074301])]\n",
            "weight_epoch [array([-0.68412759, -0.0836259 ]), array([1.93435076, 0.45225919]), array([-0.96154489,  1.9452801 ,  0.30935745])]\n",
            "weight_epoch [array([-0.68412759, -0.0836259 ]), array([1.93515339, 0.44956071]), array([-0.96154489,  1.94545382,  0.3079727 ])]\n",
            "weight_epoch [array([-0.68412759, -0.0836259 ]), array([1.93595342, 0.44686356]), array([-0.96154489,  1.94562931,  0.30658876])]\n",
            "weight_epoch [array([-0.68412759, -0.0836259 ]), array([1.93675085, 0.44416776]), array([-0.96154489,  1.94580657,  0.30520563])]\n",
            "weight_epoch [array([-0.68412759, -0.0836259 ]), array([1.93754569, 0.44147331]), array([-0.96154489,  1.9459856 ,  0.30382332])]\n",
            "weight_epoch [array([-0.68412759, -0.0836259 ]), array([1.93833796, 0.43878019]), array([-0.96154489,  1.9461664 ,  0.30244182])]\n",
            "weight_epoch [array([-0.68412759, -0.0836259 ]), array([1.93912766, 0.43608841]), array([-0.96154489,  1.94634897,  0.30106113])]\n",
            "weight_epoch [array([-0.68412759, -0.0836259 ]), array([1.9399148 , 0.43339797]), array([-0.96154489,  1.94653331,  0.29968126])]\n",
            "weight_epoch [array([-0.68412759, -0.0836259 ]), array([1.94069939, 0.43070887]), array([-0.96154489,  1.94671941,  0.2983022 ])]\n",
            "weight_epoch [array([-0.68412759, -0.0836259 ]), array([1.94148143, 0.4280211 ]), array([-0.96154489,  1.94690728,  0.29692396])]\n",
            "weight_epoch [array([-0.68412759, -0.0836259 ]), array([1.94226095, 0.42533467]), array([-0.96154489,  1.94709692,  0.29554654])]\n",
            "weight_epoch [array([-0.68412759, -0.0836259 ]), array([1.94303793, 0.42264957]), array([-0.96154489,  1.94728832,  0.29416993])]\n",
            "weight_epoch [array([-0.68412759, -0.0836259 ]), array([1.9438124 , 0.41996581]), array([-0.96154489,  1.94748148,  0.29279414])]\n",
            "weight_epoch [array([-0.68412759, -0.0836259 ]), array([1.94458435, 0.41728338]), array([-0.96154489,  1.94767639,  0.29141917])]\n",
            "weight_epoch [array([-0.68412759, -0.0836259 ]), array([1.9453538 , 0.41460228]), array([-0.96154489,  1.94787307,  0.29004502])]\n",
            "weight_epoch [array([-0.68412759, -0.0836259 ]), array([1.94612075, 0.41192251]), array([-0.96154489,  1.9480715 ,  0.28867168])]\n",
            "weight_epoch [array([-0.68412759, -0.0836259 ]), array([1.94688522, 0.40924406]), array([-0.96154489,  1.94827168,  0.28729917])]\n",
            "weight_epoch [array([-0.68412759, -0.0836259 ]), array([1.94764719, 0.40656695]), array([-0.96154489,  1.94847361,  0.28592747])]\n",
            "weight_epoch [array([-0.68412759, -0.0836259 ]), array([1.94840669, 0.40389115]), array([-0.96154489,  1.94867729,  0.28455659])]\n",
            "weight_epoch [array([-0.68412759, -0.0836259 ]), array([1.94916372, 0.40121669]), array([-0.96154489,  1.94888271,  0.28318654])]\n",
            "weight_epoch [array([-0.68412759, -0.0836259 ]), array([1.94991829, 0.39854354]), array([-0.96154489,  1.94908987,  0.2818173 ])]\n",
            "weight_epoch [array([-0.68412759, -0.0836259 ]), array([1.95067039, 0.39587172]), array([-0.96154489,  1.94929876,  0.28044889])]\n",
            "weight_epoch [array([-0.68412759, -0.0836259 ]), array([1.95142005, 0.39320121]), array([-0.96154489,  1.9495094 ,  0.27908129])]\n",
            "weight_epoch [array([-0.68412759, -0.0836259 ]), array([1.95216726, 0.39053202]), array([-0.96154489,  1.94972176,  0.27771452])]\n",
            "weight_epoch [array([-0.68412759, -0.0836259 ]), array([1.95291202, 0.38786415]), array([-0.96154489,  1.94993585,  0.27634857])]\n",
            "weight_epoch [array([-0.68412759, -0.0836259 ]), array([1.95365436, 0.3851976 ]), array([-0.96154489,  1.95015167,  0.27498344])]\n",
            "weight_epoch [array([-0.68412759, -0.0836259 ]), array([1.95439426, 0.38253235]), array([-0.96154489,  1.9503692 ,  0.27361914])]\n",
            "weight_epoch [array([-0.68412759, -0.0836259 ]), array([1.95513174, 0.37986842]), array([-0.96154489,  1.95058846,  0.27225566])]\n",
            "weight_epoch [array([-0.68412759, -0.0836259 ]), array([1.95586681, 0.37720581]), array([-0.96154489,  1.95080943,  0.270893  ])]\n",
            "weight_epoch [array([-0.68412759, -0.0836259 ]), array([1.95659946, 0.3745445 ]), array([-0.96154489,  1.95103211,  0.26953116])]\n",
            "weight_epoch [array([-0.68412759, -0.0836259 ]), array([1.95732971, 0.3718845 ]), array([-0.96154489,  1.9512565 ,  0.26817014])]\n",
            "weight_epoch [array([-0.68412759, -0.0836259 ]), array([1.95805756, 0.3692258 ]), array([-0.96154489,  1.9514826 ,  0.26680995])]\n",
            "weight_epoch [array([-0.68412759, -0.0836259 ]), array([1.95878302, 0.36656841]), array([-0.96154489,  1.9517104 ,  0.26545059])]\n",
            "weight_epoch [array([-0.68412759, -0.0836259 ]), array([1.95950608, 0.36391232]), array([-0.96154489,  1.95193989,  0.26409205])]\n",
            "weight_epoch [array([-0.68412759, -0.0836259 ]), array([1.96022676, 0.36125754]), array([-0.96154489,  1.95217108,  0.26273433])]\n",
            "weight_epoch [array([-0.68412759, -0.0836259 ]), array([1.96094507, 0.35860406]), array([-0.96154489,  1.95240396,  0.26137744])]\n",
            "weight_epoch [array([-0.68412759, -0.0836259 ]), array([1.961661  , 0.35595187]), array([-0.96154489,  1.95263852,  0.26002137])]\n",
            "weight_epoch [array([-0.68412759, -0.0836259 ]), array([1.96237457, 0.35330099]), array([-0.96154489,  1.95287477,  0.25866613])]\n",
            "weight_epoch [array([-0.68412759, -0.0836259 ]), array([1.96308577, 0.3506514 ]), array([-0.96154489,  1.95311271,  0.25731171])]\n",
            "weight_epoch [array([-0.68412759, -0.0836259 ]), array([1.96379461, 0.3480031 ]), array([-0.96154489,  1.95335231,  0.25595812])]\n",
            "weight_epoch [array([-0.68412759, -0.0836259 ]), array([1.96450111, 0.3453561 ]), array([-0.96154489,  1.95359359,  0.25460535])]\n",
            "weight_epoch [array([-0.68412759, -0.0836259 ]), array([1.96520526, 0.34271039]), array([-0.96154489,  1.95383655,  0.25325342])]\n",
            "weight_epoch [array([-0.68412759, -0.0836259 ]), array([1.96590707, 0.34006598]), array([-0.96154489,  1.95408116,  0.2519023 ])]\n",
            "weight_epoch [array([-0.68412759, -0.0836259 ]), array([1.96660654, 0.33742285]), array([-0.96154489,  1.95432744,  0.25055202])]\n",
            "weight_epoch [array([-0.68412759, -0.0836259 ]), array([1.96730368, 0.33478101]), array([-0.96154489,  1.95457538,  0.24920256])]\n",
            "weight_epoch [array([-0.68412759, -0.0836259 ]), array([1.9679985 , 0.33214046]), array([-0.96154489,  1.95482498,  0.24785393])]\n",
            "weight_epoch [array([-0.68412759, -0.0836259 ]), array([1.96869099, 0.32950119]), array([-0.96154489,  1.95507623,  0.24650612])]\n",
            "weight_epoch [array([-0.68412759, -0.0836259 ]), array([1.96938117, 0.32686321]), array([-0.96154489,  1.95532912,  0.24515915])]\n",
            "weight_epoch [array([-0.68412759, -0.0836259 ]), array([1.97006904, 0.32422651]), array([-0.96154489,  1.95558367,  0.243813  ])]\n",
            "weight_epoch [array([-0.68412759, -0.0836259 ]), array([1.97075461, 0.32159109]), array([-0.96154489,  1.95583985,  0.24246768])]\n",
            "weight_epoch [array([-0.68412759, -0.0836259 ]), array([1.97143788, 0.31895696]), array([-0.96154489,  1.95609767,  0.24112319])]\n",
            "weight_epoch [array([-0.68412759, -0.0836259 ]), array([1.97211885, 0.3163241 ]), array([-0.96154489,  1.95635713,  0.23977953])]\n",
            "weight_epoch [array([-0.68412759, -0.0836259 ]), array([1.97279753, 0.31369252]), array([-0.96154489,  1.95661822,  0.2384367 ])]\n",
            "weight_epoch [array([-0.68412759, -0.0836259 ]), array([1.97347393, 0.31106222]), array([-0.96154489,  1.95688094,  0.23709469])]\n",
            "weight_epoch [array([-0.68412759, -0.0836259 ]), array([1.97414805, 0.30843319]), array([-0.96154489,  1.95714528,  0.23575352])]\n",
            "weight_epoch [array([-0.68412759, -0.0836259 ]), array([1.97481989, 0.30580544]), array([-0.96154489,  1.95741125,  0.23441318])]\n",
            "weight_epoch [array([-0.68412759, -0.0836259 ]), array([1.97548946, 0.30317896]), array([-0.96154489,  1.95767883,  0.23307366])]\n",
            "weight_epoch [array([-0.68412759, -0.0836259 ]), array([1.97615677, 0.30055375]), array([-0.96154489,  1.95794802,  0.23173498])]\n",
            "weight_epoch [array([-0.68412759, -0.0836259 ]), array([1.97682182, 0.29792981]), array([-0.96154489,  1.95821883,  0.23039713])]\n",
            "weight_epoch [array([-0.68412759, -0.0836259 ]), array([1.97748461, 0.29530715]), array([-0.96154489,  1.95849125,  0.22906011])]\n",
            "weight_epoch [array([-0.68412759, -0.0836259 ]), array([1.97814516, 0.29268575]), array([-0.96154489,  1.95876527,  0.22772392])]\n",
            "weight_epoch [array([-0.68412759, -0.0836259 ]), array([1.97880346, 0.29006562]), array([-0.96154489,  1.95904089,  0.22638856])]\n",
            "weight_epoch [array([-0.68412759, -0.0836259 ]), array([1.97945951, 0.28744675]), array([-0.96154489,  1.95931811,  0.22505403])]\n",
            "weight_epoch [array([-0.68412759, -0.0836259 ]), array([1.98011334, 0.28482915]), array([-0.96154489,  1.95959692,  0.22372034])]\n",
            "weight_epoch [array([-0.68412759, -0.0836259 ]), array([1.98076493, 0.28221282]), array([-0.96154489,  1.95987733,  0.22238748])]\n",
            "weight_epoch [array([-0.68412759, -0.0836259 ]), array([1.9814143 , 0.27959774]), array([-0.96154489,  1.96015932,  0.22105545])]\n",
            "weight_epoch [array([-0.68412759, -0.0836259 ]), array([1.98206144, 0.27698393]), array([-0.96154489,  1.9604429 ,  0.21972425])]\n",
            "weight_epoch [array([-0.68412759, -0.0836259 ]), array([1.98270638, 0.27437138]), array([-0.96154489,  1.96072806,  0.21839389])]\n",
            "weight_epoch [array([-0.68412759, -0.0836259 ]), array([1.9833491 , 0.27176009]), array([-0.96154489,  1.96101479,  0.21706436])]\n",
            "weight_epoch [array([-0.68412759, -0.0836259 ]), array([1.98398961, 0.26915005]), array([-0.96154489,  1.9613031 ,  0.21573566])]\n",
            "weight_epoch [array([-0.68412759, -0.0836259 ]), array([1.98462792, 0.26654128]), array([-0.96154489,  1.96159299,  0.2144078 ])]\n",
            "weight_epoch [array([-0.68412759, -0.0836259 ]), array([1.98526404, 0.26393376]), array([-0.96154489,  1.96188444,  0.21308078])]\n",
            "weight_epoch [array([-0.68412759, -0.0836259 ]), array([1.98589796, 0.2613275 ]), array([-0.96154489,  1.96217745,  0.21175458])]\n",
            "weight_epoch [array([-0.68412759, -0.0836259 ]), array([1.9865297 , 0.25872249]), array([-0.96154489,  1.96247203,  0.21042923])]\n",
            "weight_epoch [array([-0.68412759, -0.0836259 ]), array([1.98715925, 0.25611873]), array([-0.96154489,  1.96276817,  0.20910471])]\n",
            "weight_epoch [array([-0.68412759, -0.0836259 ]), array([1.98778663, 0.25351623]), array([-0.96154489,  1.96306586,  0.20778102])]\n",
            "weight_epoch [array([-0.68412759, -0.0836259 ]), array([1.98841183, 0.25091498]), array([-0.96154489,  1.9633651 ,  0.20645817])]\n",
            "weight_epoch [array([-0.68412759, -0.0836259 ]), array([1.98903487, 0.24831497]), array([-0.96154489,  1.9636659 ,  0.20513616])]\n",
            "weight_epoch [array([-0.68412759, -0.0836259 ]), array([1.98965574, 0.24571622]), array([-0.96154489,  1.96396824,  0.20381498])]\n",
            "weight_epoch [array([-0.68412759, -0.0836259 ]), array([1.99027445, 0.24311872]), array([-0.96154489,  1.96427212,  0.20249464])]\n",
            "weight_epoch [array([-0.68412759, -0.0836259 ]), array([1.99089101, 0.24052246]), array([-0.96154489,  1.96457754,  0.20117514])]\n",
            "weight_epoch [array([-0.68412759, -0.0836259 ]), array([1.99150542, 0.23792746]), array([-0.96154489,  1.96488449,  0.19985647])]\n",
            "weight_epoch [array([-0.68412759, -0.0836259 ]), array([1.99211769, 0.23533369]), array([-0.96154489,  1.96519298,  0.19853864])]\n",
            "weight_epoch [array([-0.68412759, -0.0836259 ]), array([1.99272782, 0.23274118]), array([-0.96154489,  1.96550301,  0.19722165])]\n",
            "weight_epoch [array([-0.68412759, -0.0836259 ]), array([1.99333581, 0.2301499 ]), array([-0.96154489,  1.96581455,  0.1959055 ])]\n",
            "weight_epoch [array([-0.68412759, -0.0836259 ]), array([1.99394167, 0.22755987]), array([-0.96154489,  1.96612762,  0.19459019])]\n",
            "weight_epoch [array([-0.68412759, -0.0836259 ]), array([1.9945454 , 0.22497108]), array([-0.96154489,  1.96644222,  0.19327572])]\n",
            "weight_epoch [array([-0.68412759, -0.0836259 ]), array([1.99514701, 0.22238354]), array([-0.96154489,  1.96675833,  0.19196208])]\n",
            "weight_epoch [array([-0.68412759, -0.0836259 ]), array([1.99574651, 0.21979723]), array([-0.96154489,  1.96707595,  0.19064929])]\n",
            "weight_epoch [array([-0.68412759, -0.0836259 ]), array([1.99634389, 0.21721217]), array([-0.96154489,  1.96739509,  0.18933734])]\n",
            "weight_epoch [array([-0.68412759, -0.0836259 ]), array([1.99693917, 0.21462834]), array([-0.96154489,  1.96771573,  0.18802622])]\n",
            "weight_epoch [array([-0.68412759, -0.0836259 ]), array([1.99753234, 0.21204575]), array([-0.96154489,  1.96803788,  0.18671595])]\n",
            "weight_epoch [array([-0.68412759, -0.0836259 ]), array([1.99812342, 0.2094644 ]), array([-0.96154489,  1.96836154,  0.18540652])]\n",
            "weight_epoch [array([-0.68412759, -0.0836259 ]), array([1.9987124 , 0.20688429]), array([-0.96154489,  1.96868669,  0.18409793])]\n",
            "weight_epoch [array([-0.68412759, -0.0836259 ]), array([1.99929929, 0.20430541]), array([-0.96154489,  1.96901334,  0.18279018])]\n",
            "weight_epoch [array([-0.68412759, -0.0836259 ]), array([1.99988409, 0.20172776]), array([-0.96154489,  1.96934148,  0.18148327])]\n",
            "weight_epoch [array([-0.68412759, -0.0836259 ]), array([2.00046682, 0.19915136]), array([-0.96154489,  1.96967111,  0.1801772 ])]\n",
            "weight_epoch [array([-0.68412759, -0.0836259 ]), array([2.00104747, 0.19657618]), array([-0.96154489,  1.97000223,  0.17887198])]\n",
            "weight_epoch [array([-0.68412759, -0.0836259 ]), array([2.00162605, 0.19400224]), array([-0.96154489,  1.97033484,  0.1775676 ])]\n",
            "weight_epoch [array([-0.68412759, -0.0836259 ]), array([2.00220257, 0.19142953]), array([-0.96154489,  1.97066893,  0.17626407])]\n",
            "weight_epoch [array([-0.68412759, -0.0836259 ]), array([2.00277702, 0.18885805]), array([-0.96154489,  1.97100449,  0.17496138])]\n",
            "weight_epoch [array([-0.68412759, -0.0836259 ]), array([2.00334941, 0.1862878 ]), array([-0.96154489,  1.97134153,  0.17365953])]\n",
            "weight_epoch [array([-0.68412759, -0.0836259 ]), array([2.00391975, 0.18371879]), array([-0.96154489,  1.97168005,  0.17235852])]\n",
            "weight_epoch [array([-0.68412759, -0.0836259 ]), array([2.00448804, 0.181151  ]), array([-0.96154489,  1.97202003,  0.17105837])]\n",
            "weight_epoch [array([-0.68412759, -0.0836259 ]), array([2.00505429, 0.17858444]), array([-0.96154489,  1.97236148,  0.16975905])]\n",
            "weight_epoch [array([-0.68412759, -0.0836259 ]), array([2.0056185 , 0.17601911]), array([-0.96154489,  1.9727044 ,  0.16846058])]\n",
            "weight_epoch [array([-0.68412759, -0.0836259 ]), array([2.00618067, 0.17345501]), array([-0.96154489,  1.97304877,  0.16716296])]\n",
            "weight_epoch [array([-0.68412759, -0.0836259 ]), array([2.00674082, 0.17089213]), array([-0.96154489,  1.97339461,  0.16586618])]\n",
            "weight_epoch [array([-0.68412759, -0.0836259 ]), array([2.00729893, 0.16833048]), array([-0.96154489,  1.9737419 ,  0.16457025])]\n",
            "weight_epoch [array([-0.68412759, -0.0836259 ]), array([2.00785503, 0.16577005]), array([-0.96154489,  1.97409064,  0.16327517])]\n",
            "weight_epoch [array([-0.68412759, -0.0836259 ]), array([2.00840911, 0.16321086]), array([-0.96154489,  1.97444083,  0.16198093])]\n",
            "weight_epoch [array([-0.68412759, -0.0836259 ]), array([2.00896117, 0.16065288]), array([-0.96154489,  1.97479247,  0.16068755])]\n",
            "weight_epoch [array([-0.68412759, -0.0836259 ]), array([2.00951123, 0.15809613]), array([-0.96154489,  1.97514555,  0.159395  ])]\n",
            "weight_epoch [array([-0.68412759, -0.0836259 ]), array([2.01005928, 0.1555406 ]), array([-0.96154489,  1.97550008,  0.15810331])]\n",
            "weight_epoch [array([-0.68412759, -0.0836259 ]), array([2.01060533, 0.1529863 ]), array([-0.96154489,  1.97585604,  0.15681247])]\n",
            "weight_epoch [array([-0.68412759, -0.0836259 ]), array([2.01114938, 0.15043321]), array([-0.96154489,  1.97621343,  0.15552247])]\n",
            "weight_epoch [array([-0.68412759, -0.0836259 ]), array([2.01169145, 0.14788135]), array([-0.96154489,  1.97657226,  0.15423333])]\n",
            "weight_epoch [array([-0.68412759, -0.0836259 ]), array([2.01223153, 0.14533071]), array([-0.96154489,  1.97693252,  0.15294503])]\n",
            "weight_epoch [array([-0.68412759, -0.0836259 ]), array([2.01276962, 0.14278129]), array([-0.96154489,  1.97729421,  0.15165758])]\n",
            "weight_epoch [array([-0.68412759, -0.0836259 ]), array([2.01330574, 0.1402331 ]), array([-0.96154489,  1.97765732,  0.15037099])]\n",
            "weight_epoch [array([-0.68412759, -0.0836259 ]), array([2.01383989, 0.13768612]), array([-0.96154489,  1.97802185,  0.14908524])]\n",
            "weight_epoch [array([-0.68412759, -0.0836259 ]), array([2.01437206, 0.13514036]), array([-0.96154489,  1.97838781,  0.14780035])]\n",
            "weight_epoch [array([-0.68412759, -0.0836259 ]), array([2.01490227, 0.13259581]), array([-0.96154489,  1.97875517,  0.14651631])]\n",
            "weight_epoch [array([-0.68412759, -0.0836259 ]), array([2.01543052, 0.13005249]), array([-0.96154489,  1.97912395,  0.14523312])]\n",
            "weight_epoch [array([-0.68412759, -0.0836259 ]), array([2.01595682, 0.12751039]), array([-0.96154489,  1.97949414,  0.14395078])]\n",
            "weight_epoch [array([-0.68412759, -0.0836259 ]), array([2.01648116, 0.1249695 ]), array([-0.96154489,  1.97986574,  0.14266929])]\n",
            "weight_epoch [array([-0.68412759, -0.0836259 ]), array([2.01700355, 0.12242983]), array([-0.96154489,  1.98023874,  0.14138866])]\n",
            "weight_epoch [array([-0.68412759, -0.0836259 ]), array([2.017524  , 0.11989137]), array([-0.96154489,  1.98061315,  0.14010888])]\n",
            "weight_epoch [array([-0.68412759, -0.0836259 ]), array([2.01804251, 0.11735413]), array([-0.96154489,  1.98098895,  0.13882995])]\n",
            "weight_epoch [array([-0.68412759, -0.0836259 ]), array([2.01855909, 0.11481811]), array([-0.96154489,  1.98136615,  0.13755188])]\n",
            "weight_epoch [array([-0.68412759, -0.0836259 ]), array([2.01907374, 0.1122833 ]), array([-0.96154489,  1.98174475,  0.13627466])]\n",
            "weight_epoch [array([-0.68412759, -0.0836259 ]), array([2.01958645, 0.10974971]), array([-0.96154489,  1.98212474,  0.1349983 ])]\n",
            "weight_epoch [array([-0.68412759, -0.0836259 ]), array([2.02009725, 0.10721733]), array([-0.96154489,  1.98250611,  0.13372279])]\n",
            "weight_epoch [array([-0.68412759, -0.0836259 ]), array([2.02060613, 0.10468616]), array([-0.96154489,  1.98288887,  0.13244814])]\n",
            "weight_epoch [array([-0.68412759, -0.0836259 ]), array([2.0211131 , 0.10215621]), array([-0.96154489,  1.98327302,  0.13117434])]\n",
            "weight_epoch [array([-0.68412759, -0.0836259 ]), array([2.02161815, 0.09962748]), array([-0.96154489,  1.98365854,  0.12990141])]\n",
            "weight_epoch [array([-0.68412759, -0.0836259 ]), array([2.02212131, 0.09709995]), array([-0.96154489,  1.98404544,  0.12862932])]\n",
            "weight_epoch [array([-0.68412759, -0.0836259 ]), array([2.02262256, 0.09457364]), array([-0.96154489,  1.98443372,  0.1273581 ])]\n",
            "weight_epoch [array([-0.68412759, -0.0836259 ]), array([2.02312191, 0.09204854]), array([-0.96154489,  1.98482337,  0.12608773])]\n",
            "weight_epoch [array([-0.68412759, -0.0836259 ]), array([2.02361937, 0.08952465]), array([-0.96154489,  1.98521439,  0.12481822])]\n",
            "weight_epoch [array([-0.68412759, -0.0836259 ]), array([2.02411494, 0.08700198]), array([-0.96154489,  1.98560678,  0.12354957])]\n",
            "weight_epoch [array([-0.68412759, -0.0836259 ]), array([2.02460863, 0.08448051]), array([-0.96154489,  1.98600053,  0.12228177])]\n",
            "weight_epoch [array([-0.68412759, -0.0836259 ]), array([2.02510044, 0.08196026]), array([-0.96154489,  1.98639565,  0.12101484])]\n",
            "weight_epoch [array([-0.68412759, -0.0836259 ]), array([2.02559038, 0.07944122]), array([-0.96154489,  1.98679212,  0.11974876])]\n",
            "weight_epoch [array([-0.68412759, -0.0836259 ]), array([2.02607844, 0.07692338]), array([-0.96154489,  1.98718995,  0.11848355])]\n",
            "weight_epoch [array([-0.68412759, -0.0836259 ]), array([2.02656463, 0.07440676]), array([-0.96154489,  1.98758913,  0.11721919])]\n",
            "weight_epoch [array([-0.68412759, -0.0836259 ]), array([2.02704896, 0.07189135]), array([-0.96154489,  1.98798967,  0.1159557 ])]\n",
            "weight_epoch [array([-0.68412759, -0.0836259 ]), array([2.02753144, 0.06937715]), array([-0.96154489,  1.98839156,  0.11469307])]\n",
            "weight_epoch [array([-0.68412759, -0.0836259 ]), array([2.02801205, 0.06686416]), array([-0.96154489,  1.98879479,  0.11343129])]\n",
            "weight_epoch [array([-0.68412759, -0.0836259 ]), array([2.02849082, 0.06435238]), array([-0.96154489,  1.98919936,  0.11217038])]\n",
            "weight_epoch [array([-0.68412759, -0.0836259 ]), array([2.02896774, 0.0618418 ]), array([-0.96154489,  1.98960528,  0.11091034])]\n",
            "weight_epoch [array([-0.68412759, -0.0836259 ]), array([2.02944281, 0.05933244]), array([-0.96154489,  1.99001253,  0.10965115])]\n",
            "weight_epoch [array([-0.68412759, -0.0836259 ]), array([2.02991605, 0.05682428]), array([-0.96154489,  1.99042112,  0.10839283])]\n",
            "weight_epoch [array([-0.68412759, -0.0836259 ]), array([2.03038746, 0.05431734]), array([-0.96154489,  1.99083105,  0.10713537])]\n",
            "weight_epoch [array([-0.68412759, -0.0836259 ]), array([2.03085703, 0.0518116 ]), array([-0.96154489,  1.9912423 ,  0.10587878])]\n",
            "weight_epoch [array([-0.68412759, -0.0836259 ]), array([2.03132478, 0.04930707]), array([-0.96154489,  1.99165488,  0.10462304])]\n",
            "weight_epoch [array([-0.68412759, -0.0836259 ]), array([2.0317907 , 0.04680375]), array([-0.96154489,  1.99206879,  0.10336818])]\n",
            "weight_epoch [array([-0.68412759, -0.0836259 ]), array([2.03225481, 0.04430163]), array([-0.96154489,  1.99248402,  0.10211418])]\n",
            "weight_epoch [array([-0.68412759, -0.0836259 ]), array([2.0327171 , 0.04180073]), array([-0.96154489,  1.99290058,  0.10086104])]\n",
            "weight_epoch [array([-0.68412759, -0.0836259 ]), array([2.03317759, 0.03930103]), array([-0.96154489,  1.99331845,  0.09960877])]\n",
            "weight_epoch [array([-0.68412759, -0.0836259 ]), array([2.03363626, 0.03680254]), array([-0.96154489,  1.99373763,  0.09835737])]\n",
            "weight_epoch [array([-0.68412759, -0.0836259 ]), array([2.03409314, 0.03430526]), array([-0.96154489,  1.99415813,  0.09710683])]\n",
            "weight_epoch [array([-0.68412759, -0.0836259 ]), array([2.03454822, 0.03180918]), array([-0.96154489,  1.99457994,  0.09585716])]\n",
            "weight_epoch [array([-0.68412759, -0.0836259 ]), array([2.0350015 , 0.02931431]), array([-0.96154489,  1.99500306,  0.09460836])]\n",
            "weight_epoch [array([-0.68412759, -0.0836259 ]), array([2.035453  , 0.02682065]), array([-0.96154489,  1.99542748,  0.09336042])]\n",
            "weight_epoch [array([-0.68412759, -0.0836259 ]), array([2.03590271, 0.0243282 ]), array([-0.96154489,  1.99585321,  0.09211336])]\n",
            "weight_epoch [array([-0.68412759, -0.0836259 ]), array([2.03635063, 0.02183695]), array([-0.96154489,  1.99628024,  0.09086716])]\n",
            "weight_epoch [array([-0.68412759, -0.0836259 ]), array([2.03679678, 0.01934691]), array([-0.96154489,  1.99670856,  0.08962183])]\n",
            "weight_epoch [array([-0.68412759, -0.0836259 ]), array([2.03724116, 0.01685808]), array([-0.96154489,  1.99713818,  0.08837737])]\n",
            "weight_epoch [array([-0.68412759, -0.0836259 ]), array([2.03768377, 0.01437045]), array([-0.96154489,  1.9975691 ,  0.08713378])]\n",
            "weight_epoch [array([-0.68412759, -0.0836259 ]), array([2.03812461, 0.01188403]), array([-0.96154489,  1.9980013 ,  0.08589106])]\n",
            "weight_epoch [array([-0.68412759, -0.0836259 ]), array([2.03856369, 0.00939882]), array([-0.96154489,  1.99843479,  0.08464921])]\n",
            "weight_epoch [array([-0.68412759, -0.0836259 ]), array([2.03900101, 0.00691481]), array([-0.96154489,  1.99886957,  0.08340824])]\n",
            "weight_epoch [array([-0.68412759, -0.0836259 ]), array([2.03943658, 0.00443201]), array([-0.96154489,  1.99930563,  0.08216813])]\n",
            "weight_epoch [array([-0.68412759, -0.0836259 ]), array([2.03987040e+00, 1.95041996e-03]), array([-0.96154489,  1.99974297,  0.0809289 ])]\n",
            "weight_epoch [array([-0.68412759, -0.0836259 ]), array([ 2.04030247e+00, -5.29965619e-04]), array([-0.96154489,  2.00018159,  0.07969053])]\n",
            "weight_epoch [array([-0.68412759, -0.0836259 ]), array([ 2.0407328 , -0.00300914]), array([-0.96154489,  2.00062148,  0.07845305])]\n",
            "weight_epoch [array([-0.68412759, -0.0836259 ]), array([ 2.04116139, -0.00548712]), array([-0.96154489,  2.00106265,  0.07721643])]\n",
            "weight_epoch [array([-0.68412759, -0.0836259 ]), array([ 2.04158825, -0.00796388]), array([-0.96154489,  2.00150509,  0.07598069])]\n",
            "weight_epoch [array([-0.68412759, -0.0836259 ]), array([ 2.04201338, -0.01043944]), array([-0.96154489,  2.0019488 ,  0.07474582])]\n",
            "weight_epoch [array([-0.68412759, -0.0836259 ]), array([ 2.04243679, -0.01291379]), array([-0.96154489,  2.00239377,  0.07351183])]\n",
            "weight_epoch [array([-0.68412759, -0.0836259 ]), array([ 2.04285847, -0.01538694]), array([-0.96154489,  2.00284001,  0.07227871])]\n",
            "weight_epoch [array([-0.68412759, -0.0836259 ]), array([ 2.04327843, -0.01785887]), array([-0.96154489,  2.00328751,  0.07104647])]\n",
            "weight_epoch [array([-0.68412759, -0.0836259 ]), array([ 2.04369668, -0.0203296 ]), array([-0.96154489,  2.00373626,  0.0698151 ])]\n",
            "weight_epoch [array([-0.68412759, -0.0836259 ]), array([ 2.04411322, -0.02279913]), array([-0.96154489,  2.00418627,  0.06858461])]\n",
            "weight_epoch [array([-0.68412759, -0.0836259 ]), array([ 2.04452806, -0.02526744]), array([-0.96154489,  2.00463754,  0.067355  ])]\n",
            "weight_epoch [array([-0.68412759, -0.0836259 ]), array([ 2.04494119, -0.02773455]), array([-0.96154489,  2.00509006,  0.06612626])]\n",
            "weight_epoch [array([-0.68412759, -0.0836259 ]), array([ 2.04535262, -0.03020045]), array([-0.96154489,  2.00554382,  0.0648984 ])]\n",
            "weight_epoch [array([-0.68412759, -0.0836259 ]), array([ 2.04576236, -0.03266514]), array([-0.96154489,  2.00599884,  0.06367142])]\n",
            "weight_epoch [array([-0.68412759, -0.0836259 ]), array([ 2.04617041, -0.03512863]), array([-0.96154489,  2.00645509,  0.06244531])]\n",
            "weight_epoch [array([-0.68412759, -0.0836259 ]), array([ 2.04657677, -0.03759091]), array([-0.96154489,  2.00691259,  0.06122009])]\n",
            "weight_epoch [array([-0.68412759, -0.0836259 ]), array([ 2.04698144, -0.04005197]), array([-0.96154489,  2.00737133,  0.05999574])]\n",
            "weight_epoch [array([-0.68412759, -0.0836259 ]), array([ 2.04738444, -0.04251184]), array([-0.96154489,  2.0078313 ,  0.05877228])]\n",
            "weight_epoch [array([-0.68412759, -0.0836259 ]), array([ 2.04778576, -0.04497049]), array([-0.96154489,  2.00829251,  0.05754969])]\n",
            "weight_epoch [array([-0.68412759, -0.0836259 ]), array([ 2.04818542, -0.04742793]), array([-0.96154489,  2.00875495,  0.05632798])]\n",
            "weight_epoch [array([-0.68412759, -0.0836259 ]), array([ 2.0485834 , -0.04988417]), array([-0.96154489,  2.00921863,  0.05510716])]\n",
            "weight_epoch [array([-0.68412759, -0.0836259 ]), array([ 2.04897972, -0.0523392 ]), array([-0.96154489,  2.00968352,  0.05388722])]\n",
            "weight_epoch [array([-0.68412759, -0.0836259 ]), array([ 2.04937438, -0.05479301]), array([-0.96154489,  2.01014965,  0.05266815])]\n",
            "weight_epoch [array([-0.68412759, -0.0836259 ]), array([ 2.04976739, -0.05724562]), array([-0.96154489,  2.01061699,  0.05144998])]\n",
            "weight_epoch [array([-0.68412759, -0.0836259 ]), array([ 2.05015874, -0.05969702]), array([-0.96154489,  2.01108556,  0.05023268])]\n",
            "weight_epoch [array([-0.68412759, -0.0836259 ]), array([ 2.05054844, -0.06214721]), array([-0.96154489,  2.01155534,  0.04901626])]\n",
            "weight_epoch [array([-0.68412759, -0.0836259 ]), array([ 2.0509365 , -0.06459619]), array([-0.96154489,  2.01202634,  0.04780073])]\n",
            "weight_epoch [array([-0.68412759, -0.0836259 ]), array([ 2.05132292, -0.06704396]), array([-0.96154489,  2.01249855,  0.04658609])]\n",
            "weight_epoch [array([-0.68412759, -0.0836259 ]), array([ 2.0517077 , -0.06949052]), array([-0.96154489,  2.01297198,  0.04537232])]\n",
            "weight_epoch [array([-0.68412759, -0.0836259 ]), array([ 2.05209085, -0.07193587]), array([-0.96154489,  2.01344661,  0.04415945])]\n",
            "weight_epoch [array([-0.68412759, -0.0836259 ]), array([ 2.05247237, -0.07438001]), array([-0.96154489,  2.01392244,  0.04294746])]\n",
            "weight_epoch [array([-0.68412759, -0.0836259 ]), array([ 2.05285227, -0.07682294]), array([-0.96154489,  2.01439948,  0.04173635])]\n",
            "weight_epoch [array([-0.68412759, -0.0836259 ]), array([ 2.05323054, -0.07926466]), array([-0.96154489,  2.01487773,  0.04052613])]\n",
            "weight_epoch [array([-0.68412759, -0.0836259 ]), array([ 2.05360719, -0.08170516]), array([-0.96154489,  2.01535717,  0.03931679])]\n",
            "weight_epoch [array([-0.68412759, -0.0836259 ]), array([ 2.05398223, -0.08414445]), array([-0.96154489,  2.0158378 ,  0.03810835])]\n",
            "weight_epoch [array([-0.68412759, -0.0836259 ]), array([ 2.05435566, -0.08658253]), array([-0.96154489,  2.01631964,  0.03690079])]\n",
            "weight_epoch [array([-0.68412759, -0.0836259 ]), array([ 2.05472749, -0.0890194 ]), array([-0.96154489,  2.01680266,  0.03569412])]\n",
            "weight_epoch [array([-0.68412759, -0.0836259 ]), array([ 2.05509771, -0.09145506]), array([-0.96154489,  2.01728687,  0.03448833])]\n",
            "weight_epoch [array([-0.68412759, -0.0836259 ]), array([ 2.05546633, -0.0938895 ]), array([-0.96154489,  2.01777227,  0.03328344])]\n",
            "weight_epoch [array([-0.68412759, -0.0836259 ]), array([ 2.05583336, -0.09632273]), array([-0.96154489,  2.01825886,  0.03207943])]\n",
            "weight_epoch [array([-0.68412759, -0.0836259 ]), array([ 2.05619879, -0.09875475]), array([-0.96154489,  2.01874662,  0.03087631])]\n",
            "weight_epoch [array([-0.68412759, -0.0836259 ]), array([ 2.05656264, -0.10118555]), array([-0.96154489,  2.01923557,  0.02967409])]\n",
            "weight_epoch [array([-0.68412759, -0.0836259 ]), array([ 2.0569249 , -0.10361514]), array([-0.96154489,  2.0197257 ,  0.02847275])]\n",
            "weight_epoch [array([-0.68412759, -0.0836259 ]), array([ 2.05728558, -0.10604351]), array([-0.96154489,  2.020217  ,  0.02727231])]\n",
            "weight_epoch [array([-0.68412759, -0.0836259 ]), array([ 2.05764469, -0.10847067]), array([-0.96154489,  2.02070947,  0.02607275])]\n",
            "weight_epoch [array([-0.68412759, -0.0836259 ]), array([ 2.05800222, -0.11089661]), array([-0.96154489,  2.02120312,  0.02487409])]\n",
            "weight_epoch [array([-0.68412759, -0.0836259 ]), array([ 2.05835819, -0.11332134]), array([-0.96154489,  2.02169793,  0.02367632])]\n",
            "weight_epoch [array([-0.68412759, -0.0836259 ]), array([ 2.05871258, -0.11574485]), array([-0.96154489,  2.02219391,  0.02247945])]\n",
            "weight_epoch [array([-0.68412759, -0.0836259 ]), array([ 2.05906542, -0.11816715]), array([-0.96154489,  2.02269105,  0.02128346])]\n",
            "weight_epoch [array([-0.68412759, -0.0836259 ]), array([ 2.0594167 , -0.12058822]), array([-0.96154489,  2.02318936,  0.02008837])]\n",
            "weight_epoch [array([-0.68412759, -0.0836259 ]), array([ 2.05976642, -0.12300809]), array([-0.96154489,  2.02368882,  0.01889418])]\n",
            "weight_epoch [array([-0.68412759, -0.0836259 ]), array([ 2.0601146 , -0.12542673]), array([-0.96154489,  2.02418944,  0.01770087])]\n",
            "weight_epoch [array([-0.68412759, -0.0836259 ]), array([ 2.06046123, -0.12784415]), array([-0.96154489,  2.02469122,  0.01650847])]\n",
            "weight_epoch [array([-0.68412759, -0.0836259 ]), array([ 2.06080631, -0.13026036]), array([-0.96154489,  2.02519415,  0.01531696])]\n",
            "weight_epoch [array([-0.68412759, -0.0836259 ]), array([ 2.06114985, -0.13267535]), array([-0.96154489,  2.02569822,  0.01412634])]\n",
            "weight_epoch [array([-0.68412759, -0.0836259 ]), array([ 2.06149186, -0.13508912]), array([-0.96154489,  2.02620345,  0.01293662])]\n",
            "weight_epoch [array([-0.68412759, -0.0836259 ]), array([ 2.06183234, -0.13750167]), array([-0.96154489,  2.02670982,  0.0117478 ])]\n",
            "weight_epoch [array([-0.68412759, -0.0836259 ]), array([ 2.06217129, -0.13991299]), array([-0.96154489,  2.02721733,  0.01055987])]\n",
            "weight_epoch [array([-0.68412759, -0.0836259 ]), array([ 2.06250871, -0.1423231 ]), array([-0.96154489,  2.02772599,  0.00937284])]\n",
            "weight_epoch [array([-0.68412759, -0.0836259 ]), array([ 2.06284461, -0.14473199]), array([-0.96154489,  2.02823578,  0.00818671])]\n",
            "weight_epoch [array([-0.68412759, -0.0836259 ]), array([ 2.06317899, -0.14713966]), array([-0.96154489,  2.02874671,  0.00700148])]\n",
            "weight_epoch [array([-0.68412759, -0.0836259 ]), array([ 2.06351186, -0.1495461 ]), array([-0.96154489,  2.02925878,  0.00581715])]\n",
            "weight_epoch [array([-0.68412759, -0.0836259 ]), array([ 2.06384322, -0.15195132]), array([-0.96154489,  2.02977197,  0.00463371])]\n",
            "weight_epoch [array([-0.68412759, -0.0836259 ]), array([ 2.06417308, -0.15435532]), array([-0.96154489,  2.03028629,  0.00345118])]\n",
            "weight_epoch [array([-0.68412759, -0.0836259 ]), array([ 2.06450143, -0.15675809]), array([-0.96154489,  2.03080175,  0.00226954])]\n",
            "weight_epoch [array([-0.68412759, -0.0836259 ]), array([ 2.06482828, -0.15915964]), array([-9.61544891e-01,  2.03131832e+00,  1.08881037e-03])]\n",
            "weight_epoch [array([-0.68412759, -0.0836259 ]), array([ 2.06515363, -0.16155997]), array([-9.61544891e-01,  2.03183602e+00, -9.10219240e-05])]\n",
            "weight_epoch [array([-0.68412759, -0.0836259 ]), array([ 2.0654775 , -0.16395907]), array([-9.61544891e-01,  2.03235484e+00, -1.26995269e-03])]\n",
            "weight_epoch [array([-0.68412759, -0.0836259 ]), array([ 2.06579987, -0.16635695]), array([-0.96154489,  2.03287477, -0.00244798])]\n",
            "weight_epoch [array([-0.68412759, -0.0836259 ]), array([ 2.06612076, -0.1687536 ]), array([-0.96154489,  2.03339583, -0.00362511])]\n",
            "weight_epoch [array([-0.68412759, -0.0836259 ]), array([ 2.06644017, -0.17114902]), array([-0.96154489,  2.03391799, -0.00480133])]\n",
            "weight_epoch [array([-0.68412759, -0.0836259 ]), array([ 2.0667581 , -0.17354322]), array([-0.96154489,  2.03444127, -0.00597665])]\n",
            "weight_epoch [array([-0.68412759, -0.0836259 ]), array([ 2.06707456, -0.17593619]), array([-0.96154489,  2.03496565, -0.00715107])]\n",
            "weight_epoch [array([-0.68412759, -0.0836259 ]), array([ 2.06738954, -0.17832793]), array([-0.96154489,  2.03549114, -0.00832458])]\n",
            "weight_epoch [array([-0.68412759, -0.0836259 ]), array([ 2.06770306, -0.18071844]), array([-0.96154489,  2.03601774, -0.00949719])]\n",
            "weight_epoch [array([-0.68412759, -0.0836259 ]), array([ 2.06801512, -0.18310772]), array([-0.96154489,  2.03654544, -0.01066889])]\n",
            "weight_epoch [array([-0.68412759, -0.0836259 ]), array([ 2.06832571, -0.18549577]), array([-0.96154489,  2.03707423, -0.01183969])]\n",
            "weight_epoch [array([-0.68412759, -0.0836259 ]), array([ 2.06863485, -0.1878826 ]), array([-0.96154489,  2.03760413, -0.01300958])]\n",
            "weight_epoch [array([-0.68412759, -0.0836259 ]), array([ 2.06894254, -0.19026819]), array([-0.96154489,  2.03813511, -0.01417856])]\n",
            "weight_epoch [array([-0.68412759, -0.0836259 ]), array([ 2.06924878, -0.19265255]), array([-0.96154489,  2.0386672 , -0.01534664])]\n",
            "weight_epoch [array([-0.68412759, -0.0836259 ]), array([ 2.06955357, -0.19503568]), array([-0.96154489,  2.03920037, -0.01651381])]\n",
            "weight_epoch [array([-0.68412759, -0.0836259 ]), array([ 2.06985692, -0.19741757]), array([-0.96154489,  2.03973463, -0.01768007])]\n",
            "weight_epoch [array([-0.68412759, -0.0836259 ]), array([ 2.07015884, -0.19979823]), array([-0.96154489,  2.04026997, -0.01884543])]\n",
            "weight_epoch [array([-0.68412759, -0.0836259 ]), array([ 2.07045932, -0.20217766]), array([-0.96154489,  2.0408064 , -0.02000987])]\n",
            "weight_epoch [array([-0.68412759, -0.0836259 ]), array([ 2.07075836, -0.20455585]), array([-0.96154489,  2.04134391, -0.02117341])]\n",
            "weight_epoch [array([-0.68412759, -0.0836259 ]), array([ 2.07105598, -0.20693281]), array([-0.96154489,  2.0418825 , -0.02233604])]\n",
            "weight_epoch [array([-0.68412759, -0.0836259 ]), array([ 2.07135218, -0.20930853]), array([-0.96154489,  2.04242217, -0.02349775])]\n",
            "weight_epoch [array([-0.68412759, -0.0836259 ]), array([ 2.07164695, -0.21168302]), array([-0.96154489,  2.04296291, -0.02465856])]\n",
            "weight_epoch [array([-0.68412759, -0.0836259 ]), array([ 2.07194031, -0.21405626]), array([-0.96154489,  2.04350472, -0.02581845])]\n",
            "weight_epoch [array([-0.68412759, -0.0836259 ]), array([ 2.07223226, -0.21642827]), array([-0.96154489,  2.04404761, -0.02697744])]\n",
            "weight_epoch [array([-0.68412759, -0.0836259 ]), array([ 2.07252279, -0.21879904]), array([-0.96154489,  2.04459156, -0.02813551])]\n",
            "weight_epoch [array([-0.68412759, -0.0836259 ]), array([ 2.07281192, -0.22116858]), array([-0.96154489,  2.04513657, -0.02929267])]\n",
            "weight_epoch [array([-0.68412759, -0.0836259 ]), array([ 2.07309964, -0.22353687]), array([-0.96154489,  2.04568265, -0.03044892])]\n",
            "weight_epoch [array([-0.68412759, -0.0836259 ]), array([ 2.07338597, -0.22590392]), array([-0.96154489,  2.04622979, -0.03160425])]\n",
            "weight_epoch [array([-0.68412759, -0.0836259 ]), array([ 2.0736709 , -0.22826973]), array([-0.96154489,  2.04677799, -0.03275867])]\n",
            "weight_epoch [array([-0.68412759, -0.0836259 ]), array([ 2.07395444, -0.2306343 ]), array([-0.96154489,  2.04732725, -0.03391218])]\n",
            "weight_epoch [array([-0.68412759, -0.0836259 ]), array([ 2.07423659, -0.23299763]), array([-0.96154489,  2.04787755, -0.03506477])]\n",
            "weight_epoch [array([-0.68412759, -0.0836259 ]), array([ 2.07451735, -0.23535971]), array([-0.96154489,  2.04842891, -0.03621645])]\n",
            "weight_epoch [array([-0.68412759, -0.0836259 ]), array([ 2.07479673, -0.23772055]), array([-0.96154489,  2.04898132, -0.03736721])]\n",
            "weight_epoch [array([-0.68412759, -0.0836259 ]), array([ 2.07507473, -0.24008014]), array([-0.96154489,  2.04953478, -0.03851706])]\n",
            "weight_epoch [array([-0.68412759, -0.0836259 ]), array([ 2.07535136, -0.24243849]), array([-0.96154489,  2.05008928, -0.03966599])]\n",
            "Model fitted.\n",
            "self.weight_history - list of lists of weights propagation\n",
            "self.MSE_history - list of MSEs propagation\n",
            "\n",
            "Layer 0 is the Input Layer\n",
            "Layer 1 Neuron 0 : [-0.68412759 -0.0836259 ] mrelu\n",
            "Layer 1 Neuron 1 : [ 2.07535136 -0.24243849] mrelu\n",
            "Layer 2 Neuron 0 : [-0.96154489  2.05008928 -0.03966599] linear\n",
            "\n",
            "[3.717969044197635, 7.972624627669938, 12.227280211142244, 16.481935794614547, 20.736591378086853]\n",
            "\n"
          ]
        },
        {
          "output_type": "display_data",
          "data": {
            "application/vnd.google.colaboratory.intrinsic+json": {
              "type": "string"
            },
            "text/plain": [
              "'MSE'"
            ]
          },
          "metadata": {}
        },
        {
          "output_type": "display_data",
          "data": {
            "text/plain": [
              "42.48581385228632"
            ]
          },
          "metadata": {}
        }
      ]
    }
  ]
}