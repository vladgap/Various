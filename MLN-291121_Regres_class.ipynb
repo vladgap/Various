{
  "nbformat": 4,
  "nbformat_minor": 0,
  "metadata": {
    "colab": {
      "name": "MLN.ipynb",
      "provenance": [],
      "collapsed_sections": [],
      "toc_visible": true,
      "include_colab_link": true
    },
    "kernelspec": {
      "name": "python3",
      "display_name": "Python 3"
    },
    "language_info": {
      "name": "python"
    }
  },
  "cells": [
    {
      "cell_type": "markdown",
      "metadata": {
        "id": "view-in-github",
        "colab_type": "text"
      },
      "source": [
        "<a href=\"https://colab.research.google.com/github/vladgap/Various/blob/main/MLN-291121_Regres_class.ipynb\" target=\"_parent\"><img src=\"https://colab.research.google.com/assets/colab-badge.svg\" alt=\"Open In Colab\"/></a>"
      ]
    },
    {
      "cell_type": "code",
      "metadata": {
        "id": "rWfs6xKyIiBC"
      },
      "source": [
        "5import numpy as np\n",
        "# import pandas as pd\n",
        "from sklearn import preprocessing"
      ],
      "execution_count": 24,
      "outputs": []
    },
    {
      "cell_type": "markdown",
      "metadata": {
        "id": "VG50azfXte36"
      },
      "source": [
        "# StandardScaler"
      ]
    },
    {
      "cell_type": "code",
      "metadata": {
        "colab": {
          "base_uri": "https://localhost:8080/"
        },
        "id": "Jn6l3WGso4QY",
        "outputId": "23705b83-0374-4bd9-90e5-7cc8cd6b34f5"
      },
      "source": [
        "x=[\n",
        "[2,1,0],\n",
        "[-1,0,1],\n",
        "[0,0,0],\n",
        "[1,1,0],\n",
        "[-1,-1,-1],\n",
        "[-1,1,-1],\n",
        "]\n",
        "# x=np.array(x)\n",
        "scaler = preprocessing.StandardScaler().fit(x)\n",
        "print(scaler.mean_, scaler.scale_)\n",
        "x_scaled = scaler.transform(x)\n",
        "print (x_scaled)\n",
        "x_back=scaler.inverse_transform(x_scaled)\n",
        "print (x_back)\n",
        "scaler.inverse_transform([[0,0,0]])\n",
        "# help(scaler)"
      ],
      "execution_count": 25,
      "outputs": [
        {
          "output_type": "stream",
          "name": "stdout",
          "text": [
            "[ 0.          0.33333333 -0.16666667] [1.15470054 0.74535599 0.68718427]\n",
            "[[ 1.73205081  0.89442719  0.24253563]\n",
            " [-0.8660254  -0.4472136   1.69774938]\n",
            " [ 0.         -0.4472136   0.24253563]\n",
            " [ 0.8660254   0.89442719  0.24253563]\n",
            " [-0.8660254  -1.78885438 -1.21267813]\n",
            " [-0.8660254   0.89442719 -1.21267813]]\n",
            "[[ 2.  1.  0.]\n",
            " [-1.  0.  1.]\n",
            " [ 0.  0.  0.]\n",
            " [ 1.  1.  0.]\n",
            " [-1. -1. -1.]\n",
            " [-1.  1. -1.]]\n"
          ]
        },
        {
          "output_type": "execute_result",
          "data": {
            "text/plain": [
              "array([[ 0.        ,  0.33333333, -0.16666667]])"
            ]
          },
          "metadata": {},
          "execution_count": 25
        }
      ]
    },
    {
      "cell_type": "markdown",
      "metadata": {
        "id": "pUCN7lc5sieC"
      },
      "source": [
        "# Single Neuron"
      ]
    },
    {
      "cell_type": "code",
      "metadata": {
        "id": "eSEiZemKj3xT"
      },
      "source": [
        "class Neuron:\n",
        "    \"\"\"A single neuron with an activation function.\n",
        "       Attributes:\n",
        "          inputs: The number of inputs in the perceptron, not counting the bias.\n",
        "          bias:   The bias term. By defaul it's 1.0.\n",
        "          activ:  The activation function: linear (default), relu, sigmoid.\"\"\"\n",
        "\n",
        "    def __init__(self, inputs, bias = 1.0, activ = 'linear'):\n",
        "        \"\"\"Return a new Perceptron object with the specified number of inputs (+1 for the bias) and random initial weights.\"\"\" \n",
        "        self.weights = (np.random.rand(inputs+1) * 2) - 1 \n",
        "        self.bias = bias\n",
        "        self.activ = activ\n",
        "\n",
        "    def run(self, x):\n",
        "        \"\"\"Run the perceptron. x is a python list with the input values.\"\"\"\n",
        "        sum = np.dot(np.append(x,self.bias),self.weights)\n",
        "        if self.activ == 'linear':\n",
        "          return sum\n",
        "        if self.activ == 'sigmoid':\n",
        "          return self.sigmoid(sum)\n",
        "        if self.activ == 'relu':\n",
        "          return self.relu(sum)\n",
        "        if self.activ == 'mrelu':\n",
        "          return self.mrelu(sum)\n",
        "\n",
        "    def set_weights(self, w_init):\n",
        "        \"\"\"Overrides the np.random.rand() weights and the bias weight.\"\"\"\n",
        "        # w_init is a list of floats. Organize it as you'd like.\n",
        "        self.weights=np.array(w_init, dtype='double')\n",
        "\n",
        "    def set_activ(self, activ, param=0):\n",
        "        \"\"\"Overrides the 'linear' activation function.\"\"\"\n",
        "        self.activ = activ\n",
        "        self.param = param\n",
        "\n",
        "    def sigmoid(self, x):\n",
        "        # return the output of the sigmoid function applied to x\n",
        "        return 1/(1+np.exp(-x))\n",
        "    \n",
        "    def relu(self, x):\n",
        "        # return the output of the relu function applied to x\n",
        "        if x >= 0:\n",
        "          return x\n",
        "        return 0\n",
        "\n",
        "    def mrelu(self, x):\n",
        "        # return the output of the modified relu function applied to x\n",
        "        if x >= 0:\n",
        "          return x\n",
        "        return self.param*x"
      ],
      "execution_count": 26,
      "outputs": []
    },
    {
      "cell_type": "code",
      "metadata": {
        "id": "nN9wRG3NlI4b",
        "colab": {
          "base_uri": "https://localhost:8080/"
        },
        "outputId": "4fd7a38a-8a56-4762-92eb-ce89a2b2d0b5"
      },
      "source": [
        "neu=Neuron(inputs=2)\n",
        "neu.set_weights([10,10,-15]) \n",
        "neu.set_activ('mrelu', param=0.01)\n",
        "neu.run([1,0])"
      ],
      "execution_count": 27,
      "outputs": [
        {
          "output_type": "execute_result",
          "data": {
            "text/plain": [
              "-0.05"
            ]
          },
          "metadata": {},
          "execution_count": 27
        }
      ]
    },
    {
      "cell_type": "markdown",
      "metadata": {
        "id": "bo32Xuop0eYO"
      },
      "source": [
        "## AND gate"
      ]
    },
    {
      "cell_type": "code",
      "metadata": {
        "colab": {
          "base_uri": "https://localhost:8080/"
        },
        "id": "QeLvN9yxHGsw",
        "outputId": "6340beba-e219-42f3-9936-57bbd43cfb48"
      },
      "source": [
        "neuron = Neuron(inputs=2, activ='sigmoid')\n",
        "neuron.set_weights([10,10,-15]) #AND gate\n",
        "\n",
        "print(\"AND Gate:\")\n",
        "print (\"0 0 = {0:.10f}\".format(neuron.run([0,0])))\n",
        "print (\"0 1 = {0:.10f}\".format(neuron.run([0,1])))\n",
        "print (\"1 0 = {0:.10f}\".format(neuron.run([1,0])))\n",
        "print (\"1 1 = {0:.10f}\".format(neuron.run([1,1])))\n"
      ],
      "execution_count": 28,
      "outputs": [
        {
          "output_type": "stream",
          "name": "stdout",
          "text": [
            "AND Gate:\n",
            "0 0 = 0.0000003059\n",
            "0 1 = 0.0066928509\n",
            "1 0 = 0.0066928509\n",
            "1 1 = 0.9933071491\n"
          ]
        }
      ]
    },
    {
      "cell_type": "markdown",
      "metadata": {
        "id": "WDiUtQWL2qFC"
      },
      "source": [
        "## OR gate"
      ]
    },
    {
      "cell_type": "code",
      "metadata": {
        "colab": {
          "base_uri": "https://localhost:8080/"
        },
        "id": "PJy3bJjS2qhO",
        "outputId": "8ffd38a7-9df0-4479-8ced-7d5e3e6d011c"
      },
      "source": [
        "neuron = Neuron(inputs=2, activ='sigmoid')\n",
        "neuron.set_weights([10,10,-5]) #OR gate\n",
        "\n",
        "print(\"OR Gate:\")\n",
        "print (\"0 0 = {0:.10f}\".format(neuron.run([0,0])))\n",
        "print (\"0 1 = {0:.10f}\".format(neuron.run([0,1])))\n",
        "print (\"1 0 = {0:.10f}\".format(neuron.run([1,0])))\n",
        "print (\"1 1 = {0:.10f}\".format(neuron.run([1,1])))\n"
      ],
      "execution_count": 29,
      "outputs": [
        {
          "output_type": "stream",
          "name": "stdout",
          "text": [
            "OR Gate:\n",
            "0 0 = 0.0066928509\n",
            "0 1 = 0.9933071491\n",
            "1 0 = 0.9933071491\n",
            "1 1 = 0.9999996941\n"
          ]
        }
      ]
    },
    {
      "cell_type": "markdown",
      "metadata": {
        "id": "2CyK0jOA4vGH"
      },
      "source": [
        "## NAND gate"
      ]
    },
    {
      "cell_type": "code",
      "metadata": {
        "colab": {
          "base_uri": "https://localhost:8080/"
        },
        "id": "XH_wkvCq4vpB",
        "outputId": "3e11f032-d399-4987-ef49-23bf67ea3084"
      },
      "source": [
        "neuron = Neuron(inputs=2, activ='sigmoid')\n",
        "neuron.set_weights([-10,-10,15]) #NAND gate\n",
        "\n",
        "print(\"NAND Gate:\")\n",
        "print (\"0 0 = {0:.10f}\".format(neuron.run([0,0])))\n",
        "print (\"0 1 = {0:.10f}\".format(neuron.run([0,1])))\n",
        "print (\"1 0 = {0:.10f}\".format(neuron.run([1,0])))\n",
        "print (\"1 1 = {0:.10f}\".format(neuron.run([1,1])))"
      ],
      "execution_count": 30,
      "outputs": [
        {
          "output_type": "stream",
          "name": "stdout",
          "text": [
            "NAND Gate:\n",
            "0 0 = 0.9999996941\n",
            "0 1 = 0.9933071491\n",
            "1 0 = 0.9933071491\n",
            "1 1 = 0.0066928509\n"
          ]
        }
      ]
    },
    {
      "cell_type": "markdown",
      "metadata": {
        "id": "3rpjT9eO6LeS"
      },
      "source": [
        "# Multilayer neuron"
      ]
    },
    {
      "cell_type": "code",
      "metadata": {
        "id": "My-snyukphuZ"
      },
      "source": [
        "class MultiLayerNeuron:     \n",
        "    \"\"\"A multilayer neuron class that uses the Neuron class above.\n",
        "       Builds a list of neurons with the specific activation function.\n",
        "       The activation function may be modified later using the set_activ method.\n",
        "       For example: mln.network[layer][neuron].set_activ('linear').\n",
        "       Attributes:\n",
        "          layers:  A list with the number of neurons per layer. Including the input (first) and the output (last) layers.\n",
        "          bias:    The bias term. The same bias is used for all neurons.\n",
        "          eta:     The learning rate.\n",
        "          activ:   The activation function: linear (default), relu, sigmoid.\"\"\"\n",
        "\n",
        "    def __init__(self, layers, bias = 1.0, eta = 0.5, activ='linear'):\n",
        "        \"\"\"Return a new MLP object with the specified parameters.\"\"\" \n",
        "        self.layers = np.array(layers,dtype=object)\n",
        "        self.bias = bias\n",
        "        self.eta = eta\n",
        "        self.network = [] # The list of lists of neurons (perceptrons).\n",
        "        self.values = []  # The list of lists of neurons' (perceptrons') output values.\n",
        "        self.d = []       # The list of lists of error terms (lowercase deltas)\n",
        "        self.activ = activ\n",
        "\n",
        "        # 2 nested loops to create neurons layer by layer\n",
        "        for i in range(len(self.layers)): # outer loop iterates on each layer\n",
        "            self.values.append([]) #The new list of values will be filled with zeros, for every neuron in the layer. \n",
        "            self.values[i] = [0.0 for j in range(self.layers[i])]\n",
        "            self.d.append([])\n",
        "            self.d[i] = [0.0 for j in range(self.layers[i])]                        \n",
        "            self.network.append([])\n",
        "            if i > 0:      #network[0] is the input layer, so it has no neurons\n",
        "                for j in range(self.layers[i]): # inner loop iterates on each neuron in a layer\n",
        "                    neur=Neuron(inputs = self.layers[i-1], bias = self.bias, activ = self.activ) # \n",
        "                    self.network[i].append(neur) # adding j perceptrons\n",
        "        \n",
        "        self.network = np.array([np.array(x) for x in self.network],dtype=object) #transforms list of lists to numpy array\n",
        "        self.values = np.array([np.array(x) for x in self.values],dtype=object)\n",
        "        self.d = np.array([np.array(x) for x in self.d],dtype=object)\n",
        "\n",
        "    def set_weights(self, w_init): # set_weights of the MultiLayer class\n",
        "        \"\"\"Set the weights. \n",
        "           w_init is a list of lists with the weights for all but the input layer.\"\"\"\n",
        "        for i in range(len(w_init)):\n",
        "            for j in range(len(w_init[i])):\n",
        "                self.network[i+1][j].set_weights(w_init[i][j]) # set_weights for each perceptron i\n",
        "\n",
        "    def set_activ(self, activ, param=0):\n",
        "        \"\"\"Set the activation function to every neurons.\"\"\"\n",
        "        for i in range(1,len(self.network)):\n",
        "            for j in range(self.layers[i]):\n",
        "                self.network[i][j].set_activ(activ, param) # set_activ for each neuron\n",
        "        self.param=param\n",
        "    \n",
        "    def set_output_activ(self, activ, param=0):\n",
        "        \"\"\"Set the activation function to the last (output) neurons.\"\"\"\n",
        "        i = len(self.network)-1\n",
        "        for j in range(self.layers[i]):\n",
        "            self.network[i][j].set_activ(activ, param) \n",
        "\n",
        "    def printWeights(self):\n",
        "        \"\"\"Displays a summary of weights and activation functions per layer and neuron.\"\"\"\n",
        "        print()\n",
        "        print('Layer 0 is the Input Layer')\n",
        "        for i in range(1,len(self.network)):\n",
        "            for j in range(self.layers[i]):\n",
        "                print(\"Layer\",i,\"Neuron\",j,\":\",self.network[i][j].weights,self.network[i][j].activ)\n",
        "        print()\n",
        "\n",
        "    def run(self, x):\n",
        "        \"\"\"Feed a sample x into the MultiLayer Neuron.\"\"\"\n",
        "        x = np.array(x,dtype=object)\n",
        "        self.values[0] = x\n",
        "        for i in range(1,len(self.network)):\n",
        "            for j in range(self.layers[i]):  \n",
        "                self.values[i][j] = self.network[i][j].run(self.values[i-1]) #runs preceptrons with the previous outputs\n",
        "        return self.values[-1]\n",
        "\n",
        "    def bp_classif(self, x, y):\n",
        "        \"\"\"Run a single (x,y) pair with the backpropagation algorithm - Gradient Descent.\n",
        "        Uses the derivative of the sigmoid function.\"\"\"\n",
        "        x = np.array(x,dtype=object)\n",
        "        y = np.array(y,dtype=object)\n",
        "        # STEP 1: Feed a sample to the network \n",
        "        outputs = self.run(x)\n",
        "        # STEP 2: Calculate the MSE\n",
        "        error = 2*(y - outputs) # A list of outputs\n",
        "        MSE = sum( error ** 2) / self.layers[-1] \n",
        "        # ∂MSE/∂weight=∂MSE/∂output*∂output/∂weight\n",
        "        # STEP 3: Calculate the OUTPUT error terms\n",
        "        # ∂MSE/∂output -- depends on neuron's activation function\n",
        "        self.d[-1] = outputs * (1 - outputs) * (error) # derivative of the SIGMOID function \n",
        "        # STEP 4: Calculate the error term of EACH UNIT on each layer\n",
        "        for i in reversed(range(1,len(self.network)-1)):\n",
        "            for h in range(len(self.network[i])):\n",
        "                fwd_error = 0.0\n",
        "                for k in range(self.layers[i+1]): \n",
        "                    fwd_error += self.network[i+1][k].weights[h] * self.d[i+1][k]               \n",
        "                self.d[i][h] = self.values[i][h] * (1-self.values[i][h]) * fwd_error # derivative of the SIGMOID function\n",
        "        # STEPS 5 & 6: Calculate the deltas and update the weights\n",
        "        for i in range(1,len(self.network)): # runs on layers\n",
        "            for j in range(self.layers[i]): # runs on neurons\n",
        "                for k in range(self.layers[i-1]+1): # runs on inputs. +1 for bias\n",
        "                    if k==self.layers[i-1]:\n",
        "                        delta = self.eta * self.d[i][j] * self.bias\n",
        "                    else:\n",
        "                        delta = self.eta * self.d[i][j] * self.values[i-1][k] # applying the delta rule\n",
        "                    self.network[i][j].weights[k] += delta\n",
        "        return MSE\n",
        "\n",
        "    def sigmoid(self, x):\n",
        "        # return the output of the sigmoid function applied to x\n",
        "        return 1/(1+np.exp(-x))\n",
        "\n",
        "    def deriv(self, value, i, j=0):\n",
        "        if self.network[i][j].activ == 'linear':\n",
        "          # print ('lin')\n",
        "          return 1\n",
        "        if self.network[i][j].activ == 'sigmoid':\n",
        "          # print ('sig')\n",
        "          return self.sigmoid(value)*(1-self.sigmoid(value))\n",
        "        if self.network[i][j].activ == 'relu':\n",
        "          if value > 0:\n",
        "            # print ('re>')\n",
        "            return 1\n",
        "          else:\n",
        "            # print ('re<')\n",
        "            return 0\n",
        "        if self.network[i][j].activ == 'mrelu':\n",
        "          if value > 0:\n",
        "            return 1\n",
        "          else:\n",
        "            return self.param\n",
        "\n",
        "    def bp_regres(self, x, y):\n",
        "        \"\"\"Run a single (x,y) pair with the backpropagation algorithm - Gradient Descent.\n",
        "        Uses the derivative according each neuron's activation function.\"\"\"\n",
        "        x = np.array(x,dtype=object)\n",
        "        y = np.array(y,dtype=object)\n",
        "        # STEP 1: Feed a sample to the network \n",
        "        outputs = self.run(x)\n",
        "        # STEP 2: Calculate the MSE\n",
        "        error = 2*(y - outputs) # A list of outputs\n",
        "        MSE = sum( error ** 2) / self.layers[-1] \n",
        "        # ∂MSE/∂weight=∂MSE/∂output*∂output/∂weight\n",
        "        # STEP 3: Calculate the OUTPUT error terms\n",
        "        # ∂MSE/∂output -- depends on neuron's activation function\n",
        "        for j in range (len(outputs)):\n",
        "            self.d[-1][j] = self.deriv(outputs[j], len(self.network)-1) * error\n",
        "        # STEP 4: Calculate the error term of EACH UNIT on each layer\n",
        "        for i in reversed(range(1,len(self.network)-1)):\n",
        "            for h in range(len(self.network[i])):\n",
        "                fwd_error = 0.0\n",
        "                for k in range(self.layers[i+1]): \n",
        "                    fwd_error += self.network[i+1][k].weights[h] * self.d[i+1][k] \n",
        "                self.d[i][h] = self.deriv(self.values[i][h], i, h) * fwd_error\n",
        "        # STEPS 5 & 6: Calculate the deltas and update the weights\n",
        "        for i in range(1,len(self.network)): # runs on layers\n",
        "            for j in range(self.layers[i]): # runs on neurons\n",
        "                for k in range(self.layers[i-1]+1): # runs on inputs. +1 for bias\n",
        "                    # output=sum(weight*value)+bias*bias_weight\n",
        "                    if k==self.layers[i-1]:\n",
        "                        # ∂output/∂bias_weight=bias\n",
        "                        delta = self.eta * self.d[i][j] * self.bias\n",
        "                    else:\n",
        "                        # ∂output/∂weight=value\n",
        "                        delta = self.eta * self.d[i][j] * self.values[i-1][k] \n",
        "                    self.network[i][j].weights[k] += delta # applying the delta rule\n",
        "        return MSE"
      ],
      "execution_count": 31,
      "outputs": []
    },
    {
      "cell_type": "markdown",
      "metadata": {
        "id": "LlSin4uPzSFX"
      },
      "source": [
        "## XOR gate=(OR+NAND)+AND"
      ]
    },
    {
      "cell_type": "code",
      "metadata": {
        "id": "I2dcROXuqJT1",
        "colab": {
          "base_uri": "https://localhost:8080/"
        },
        "outputId": "fa0bbd89-cbb0-4563-9ba6-c451dddc551a"
      },
      "source": [
        "#test code\n",
        "mln1 = MultiLayerNeuron(layers=[2,2,1])  #mln1\n",
        "mln1.set_weights([[[-10,-10,15],[15,15,-10]],[[10,10,-15]]])\n",
        "mln1.set_activ('sigmoid') #linear is by default\n",
        "\n",
        "mln1.printWeights()\n",
        "print(\"XOR Gate:\")\n",
        "print (\"0 0 = {0:.10f}\".format(mln1.run([0,0])[0]))\n",
        "print (\"0 1 = {0:.10f}\".format(mln1.run([0,1])[0]))\n",
        "print (\"1 0 = {0:.10f}\".format(mln1.run([1,0])[0]))\n",
        "print (\"1 1 = {0:.10f}\".format(mln1.run([1,1])[0]))"
      ],
      "execution_count": 32,
      "outputs": [
        {
          "output_type": "stream",
          "name": "stdout",
          "text": [
            "\n",
            "Layer 0 is the Input Layer\n",
            "Layer 1 Neuron 0 : [-10. -10.  15.] sigmoid\n",
            "Layer 1 Neuron 1 : [ 15.  15. -10.] sigmoid\n",
            "Layer 2 Neuron 0 : [ 10.  10. -15.] sigmoid\n",
            "\n",
            "XOR Gate:\n",
            "0 0 = 0.0066958493\n",
            "0 1 = 0.9923558642\n",
            "1 0 = 0.9923558642\n",
            "1 1 = 0.0071528098\n"
          ]
        }
      ]
    },
    {
      "cell_type": "markdown",
      "metadata": {
        "id": "mBf5fifWK_EG"
      },
      "source": [
        "## Training "
      ]
    },
    {
      "cell_type": "code",
      "metadata": {
        "id": "JaZYikTxNp69",
        "colab": {
          "base_uri": "https://localhost:8080/"
        },
        "outputId": "ef75e72e-a3ff-42a0-eabd-fc006d6d5af0"
      },
      "source": [
        "mln2 = MultiLayerNeuron(layers=[2,2,1])\n",
        "mln2.set_activ('sigmoid') #linear is by default\n",
        "print(\"\\nTraining Neural Network as an XOR Gate...\\n\")\n",
        "for i in range(2000):\n",
        "    MSE = 0.0\n",
        "    MSE += mln2.bp_classif([0,0],[0])\n",
        "    MSE += mln2.bp_classif([0,1],[1])\n",
        "    MSE += mln2.bp_classif([1,0],[1])\n",
        "    MSE += mln2.bp_classif([1,1],[0])\n",
        "    MSE = MSE / 4\n",
        "    if(i%200 == 0):\n",
        "        print (MSE)\n",
        "\n",
        "mln2.printWeights()\n",
        "    \n",
        "print(\"XOR Gate:\")\n",
        "print (\"0 0 = {0:.10f}\".format(mln2.run([0,0])[0]))\n",
        "print (\"0 1 = {0:.10f}\".format(mln2.run([0,1])[0]))\n",
        "print (\"1 0 = {0:.10f}\".format(mln2.run([1,0])[0]))\n",
        "print (\"1 1 = {0:.10f}\".format(mln2.run([1,1])[0]))"
      ],
      "execution_count": 33,
      "outputs": [
        {
          "output_type": "stream",
          "name": "stdout",
          "text": [
            "\n",
            "Training Neural Network as an XOR Gate...\n",
            "\n",
            "1.134631275970705\n",
            "1.0940674480002763\n",
            "1.074424708630514\n",
            "0.8967498836528993\n",
            "0.4013386507695465\n",
            "0.04407171359159843\n",
            "0.01906563510439163\n",
            "0.011773903637231492\n",
            "0.008413389676760018\n",
            "0.006505350154944383\n",
            "\n",
            "Layer 0 is the Input Layer\n",
            "Layer 1 Neuron 0 : [-4.30430961 -4.2860413   6.36020546] sigmoid\n",
            "Layer 1 Neuron 1 : [-6.03011722 -5.95379785  2.34105521] sigmoid\n",
            "Layer 2 Neuron 0 : [ 8.40695334 -8.66101567 -3.91060118] sigmoid\n",
            "\n",
            "XOR Gate:\n",
            "0 0 = 0.0317095090\n",
            "0 1 = 0.9654550600\n",
            "1 0 = 0.9654874291\n",
            "1 1 = 0.0433118734\n"
          ]
        }
      ]
    },
    {
      "cell_type": "markdown",
      "metadata": {
        "id": "wZS1-UADpTpY"
      },
      "source": [
        "# Regres"
      ]
    },
    {
      "cell_type": "code",
      "metadata": {
        "id": "xkOQ9tbuvI9P"
      },
      "source": [
        "class Regres:\n",
        "    def __init__(self, layers, bias=1.0, eta=0.1, ):\n",
        "        self.layers = layers\n",
        "        self.bias = bias\n",
        "        self.eta = eta\n",
        "        self.regres_network = MultiLayerNeuron(layers=layers, bias=bias, eta=eta)\n",
        "\n",
        "    def set_weights(self, w_init):\n",
        "        self.regres_network.set_weights(w_init)\n",
        "\n",
        "    def set_hidden_activ(self, activ, param=0):\n",
        "        self.regres_network.set_activ(activ, param=0)\n",
        "        self.regres_network.set_output_activ('linear')\n",
        "\n",
        "    def fit(self, X, y, epochs):\n",
        "        self.epochs=epochs\n",
        "        history=[]\n",
        "        # self.weight_history=[]\n",
        "        self.MSE_history=[]\n",
        "        for i in range(self.epochs):\n",
        "            weight_epoch=[]\n",
        "            MSE = 0.0\n",
        "            for j in range (len(X)):\n",
        "                MSE +=  self.regres_network.bp_regres(X[j],[y[j]])\n",
        "            MSE = MSE / len(X)\n",
        "            self.MSE_history.append(MSE)\n",
        "            for m in range(1,len(self.regres_network.network)):\n",
        "                for n in range(self.layers[m]):\n",
        "                    weight_epoch.append(self.regres_network.network[m][n].weights)\n",
        "            print (\"weight_epoch\",weight_epoch)\n",
        "            history.append(weight_epoch)\n",
        "            print (\"history\",history)\n",
        "        self.weight_history=history\n",
        "        print (\"\"\"Model fitted.\n",
        "self.weight_history - list of lists of weights propagation\n",
        "self.MSE_history - list of MSEs propagation\"\"\")\n",
        "\n",
        "    def printWeights(self):\n",
        "        self.regres_network.printWeights()\n",
        "\n",
        "    def run(self, x):\n",
        "        return self.regres_network.run(x)\n",
        "\n",
        "    def predict(self, x):\n",
        "        y=[]\n",
        "        for i in range(len(x)):\n",
        "            y.append(self.run(x[i])[0])\n",
        "        return y"
      ],
      "execution_count": 80,
      "outputs": []
    },
    {
      "cell_type": "markdown",
      "metadata": {
        "id": "gqJ8FTGSvCrP"
      },
      "source": [
        "# Regres_scale"
      ]
    },
    {
      "cell_type": "code",
      "metadata": {
        "id": "Zz-y1CtyyZvy"
      },
      "source": [
        "# nuzhno podumat' kak vesa obratno perevesti. mozhet inverse_transform\n",
        "class Regres_scale:\n",
        "    def __init__(self, layers, bias=1.0, eta=0.5, ):\n",
        "        self.layers = layers\n",
        "        self.bias = bias\n",
        "        self.eta = eta\n",
        "        # self.epochs = epochs      \n",
        "        self.regres_network = MultiLayerNeuron(layers=layers, bias=bias, eta=eta)\n",
        "\n",
        "    def set_weights(self, w_init):\n",
        "        self.regres_network.set_weights(w_init)\n",
        "\n",
        "    def set_hidden_activ(self, activ):\n",
        "        self.regres_network.set_activ(activ)\n",
        "        self.regres_network.set_output_activ('linear')\n",
        "\n",
        "    def fit(self, x, y, epochs):\n",
        "        self.scaler = preprocessing.StandardScaler().fit(x)\n",
        "        x_scaled=self.scaler.transform(x)\n",
        "        self.epochs=epochs\n",
        "        for i in range(epochs):\n",
        "            MSE = 0.0\n",
        "            for j in range (len(x)):\n",
        "                MSE +=  self.regres_network.bp_regres(x_scaled[j],[y[j]])\n",
        "            MSE = MSE / len(x)\n",
        "            # dobavit' istoriyu kak v Regres\n",
        "\n",
        "    def printWeights(self):\n",
        "        self.regres_network.printWeights()\n",
        "\n",
        "    def run(self, x):\n",
        "        return self.regres_network.run(x)\n",
        "\n",
        "    def predict(self, x):\n",
        "        y=[]\n",
        "        for i in range(len(x)):\n",
        "            y.append(self.run(x[i])[0])\n",
        "        return y\n",
        "\n",
        "    def get_standard_params(self, x):\n",
        "        x2=np.array(x)\n",
        "        mean=x2.mean(axis=0)\n",
        "        stdev=x2.std(axis=0)\n",
        "        return mean, stdev"
      ],
      "execution_count": 35,
      "outputs": []
    },
    {
      "cell_type": "markdown",
      "metadata": {
        "id": "T1CIr02vJjVL"
      },
      "source": [
        "# Example 1 -- weights"
      ]
    },
    {
      "cell_type": "code",
      "metadata": {
        "id": "c1cXJqv6KPD9",
        "colab": {
          "base_uri": "https://localhost:8080/"
        },
        "outputId": "548e2a85-583e-4c68-a66a-ddcd9e55b87d"
      },
      "source": [
        "print (\"1 1 =\",mln1.run([1,1]))\n",
        "print (mln1.network[1][0].weights) # network is list of lists of perceptrons. Each has attribute \"weights\""
      ],
      "execution_count": 36,
      "outputs": [
        {
          "output_type": "stream",
          "name": "stdout",
          "text": [
            "1 1 = [0.00715281]\n",
            "[-10. -10.  15.]\n"
          ]
        }
      ]
    },
    {
      "cell_type": "code",
      "metadata": {
        "id": "mV8ZGDKCGdig",
        "colab": {
          "base_uri": "https://localhost:8080/"
        },
        "outputId": "ff990987-b52d-4f39-9b07-06cce84e540f"
      },
      "source": [
        "mln1=MultiLayerNeuron(layers=[2,2,1])\n",
        "mln1.set_activ('relu')\n",
        "mln1.printWeights()\n",
        "\n",
        "mln1.set_output_activ('sigmoid') # setting the output activ func\n",
        "mln1.printWeights()\n",
        "\n",
        "mln1.network[1][0].set_activ('linear') # changing specific activ func\n",
        "mln1.printWeights()"
      ],
      "execution_count": 37,
      "outputs": [
        {
          "output_type": "stream",
          "name": "stdout",
          "text": [
            "\n",
            "Layer 0 is the Input Layer\n",
            "Layer 1 Neuron 0 : [ 0.99631445 -0.3836388   0.59816778] relu\n",
            "Layer 1 Neuron 1 : [-0.59278009  0.44331908 -0.19677762] relu\n",
            "Layer 2 Neuron 0 : [0.24654403 0.18776822 0.83218298] relu\n",
            "\n",
            "\n",
            "Layer 0 is the Input Layer\n",
            "Layer 1 Neuron 0 : [ 0.99631445 -0.3836388   0.59816778] relu\n",
            "Layer 1 Neuron 1 : [-0.59278009  0.44331908 -0.19677762] relu\n",
            "Layer 2 Neuron 0 : [0.24654403 0.18776822 0.83218298] sigmoid\n",
            "\n",
            "\n",
            "Layer 0 is the Input Layer\n",
            "Layer 1 Neuron 0 : [ 0.99631445 -0.3836388   0.59816778] linear\n",
            "Layer 1 Neuron 1 : [-0.59278009  0.44331908 -0.19677762] relu\n",
            "Layer 2 Neuron 0 : [0.24654403 0.18776822 0.83218298] sigmoid\n",
            "\n"
          ]
        }
      ]
    },
    {
      "cell_type": "markdown",
      "metadata": {
        "id": "MFSdNaYSKr7h"
      },
      "source": [
        "# Example 3 -- linear activs, bp_regres. מתכנס למשקלים טוב מאוד "
      ]
    },
    {
      "cell_type": "code",
      "metadata": {
        "id": "tsu-mr5IdZlt",
        "colab": {
          "base_uri": "https://localhost:8080/"
        },
        "outputId": "e52addf3-6ec8-4788-9e95-0b2f045a257b"
      },
      "source": [
        "mln3 = MultiLayerNeuron(layers=[3,1], eta=0.3)\n",
        "# mln3.set_weights([[[5.,-0.9,2.,0.]]])\n",
        "mln3.set_weights([[[0,0,0,0]]])\n",
        "mln3.printWeights()\n",
        "print(\"\\nTraining Neural Network...\\n\")\n",
        "for i in range(400):\n",
        "    MSE = 0.0\n",
        "    MSE += mln3.bp_regres([0.7759,\t0.1104,\t0.9977,],5.764286995)\n",
        "    MSE += mln3.bp_regres([0.9692,\t0.6961,\t0.8483,],5.84646758)\n",
        "    MSE += mln3.bp_regres([0.0265,\t0.399,\t0.5375,],0.808633075)\n",
        "    MSE += mln3.bp_regres([0.7694,\t0.5051,\t0.2542,],3.850298589)\n",
        "    MSE = MSE / 4\n",
        "    if(i%200 == 0):\n",
        "        print (MSE)\n",
        "\n",
        "mln3.printWeights()\n",
        "\n"
      ],
      "execution_count": 38,
      "outputs": [
        {
          "output_type": "stream",
          "name": "stdout",
          "text": [
            "\n",
            "Layer 0 is the Input Layer\n",
            "Layer 1 Neuron 0 : [0. 0. 0. 0.] linear\n",
            "\n",
            "\n",
            "Training Neural Network...\n",
            "\n",
            "54.560573414122615\n",
            "9.652321993077698e-13\n",
            "\n",
            "Layer 0 is the Input Layer\n",
            "Layer 1 Neuron 0 : [ 4.99973369e+00 -9.99625006e-01  1.99991681e+00  3.52253294e-05] linear\n",
            "\n"
          ]
        }
      ]
    },
    {
      "cell_type": "markdown",
      "metadata": {
        "id": "gwlXhDA2KORl"
      },
      "source": [
        "# Example 4 -- sigmoid, bp_regres. מקרב רגרסיה עם סיגמויד. עובד טוב"
      ]
    },
    {
      "cell_type": "code",
      "metadata": {
        "id": "JBA-VYuEJGm2",
        "colab": {
          "base_uri": "https://localhost:8080/",
          "height": 624
        },
        "outputId": "c5e4d315-508e-4aaf-d468-eb8e9b55e27e"
      },
      "source": [
        "# generating output values\n",
        "mln4 = MultiLayerNeuron(layers=[3,2,1])\n",
        "mln4.set_activ('sigmoid')\n",
        "mln4.set_output_activ('linear')\n",
        "mln4.set_weights([[[0,1,-2,1],[1,-2,0,1]],[[-1,2,3]]])\n",
        "mln4.printWeights()\n",
        "\n",
        "y4=[]\n",
        "y4.append(mln4.run([2,1,0])[0])\n",
        "y4.append(mln4.run([-1,0,1])[0])\n",
        "y4.append(mln4.run([0,0,0])[0])\n",
        "y4.append(mln4.run([1,1,0])[0])\n",
        "y4.append(mln4.run([-1,-1,-1])[0])\n",
        "y4.append(mln4.run([-1,1,-1])[0])\n",
        "display ('original values:',y4)\n",
        "print ()\n",
        "\n",
        "# training model and predicting values\n",
        "mln4 = MultiLayerNeuron(layers=[3,2,1], eta=0.1)\n",
        "mln4.set_activ('sigmoid')\n",
        "mln4.set_output_activ('linear')\n",
        "\n",
        "for i in range(1000):\n",
        "    MSE = 0.0\n",
        "    MSE += mln4.bp_regres([2,1,0],y4[0])\n",
        "    MSE += mln4.bp_regres([-1,0,1],y4[1])\n",
        "    MSE += mln4.bp_regres([0,0,0],y4[2])\n",
        "    MSE += mln4.bp_regres([1,1,0],y4[3])\n",
        "    MSE += mln4.bp_regres([-1,-1,-1],y4[4])\n",
        "    MSE += mln4.bp_regres([-1,1,-1],y4[5])\n",
        "    MSE = MSE / 6\n",
        "    if(i%200 == 0):\n",
        "        print ('MSE=',MSE)\n",
        "mln4.printWeights()\n",
        "\n",
        "y4=[]\n",
        "y4.append(mln4.run([2,1,0])[0])\n",
        "y4.append(mln4.run([-1,0,1])[0])\n",
        "y4.append(mln4.run([0,0,0])[0])\n",
        "y4.append(mln4.run([1,1,0])[0])\n",
        "y4.append(mln4.run([-1,-1,-1])[0])\n",
        "y4.append(mln4.run([-1,1,-1])[0])\n",
        "display ('predicted values:',y4)\n",
        "print ()"
      ],
      "execution_count": 39,
      "outputs": [
        {
          "output_type": "stream",
          "name": "stdout",
          "text": [
            "\n",
            "Layer 0 is the Input Layer\n",
            "Layer 1 Neuron 0 : [ 0.  1. -2.  1.] sigmoid\n",
            "Layer 1 Neuron 1 : [ 1. -2.  0.  1.] sigmoid\n",
            "Layer 2 Neuron 0 : [-1.  2.  3.] linear\n",
            "\n"
          ]
        },
        {
          "output_type": "display_data",
          "data": {
            "application/vnd.google.colaboratory.intrinsic+json": {
              "type": "string"
            },
            "text/plain": [
              "'original values:'"
            ]
          },
          "metadata": {}
        },
        {
          "output_type": "display_data",
          "data": {
            "text/plain": [
              "[3.5813200792821274,\n",
              " 3.731058578630005,\n",
              " 3.731058578630005,\n",
              " 3.119202922022118,\n",
              " 3.880797077977882,\n",
              " 2.2563920540063265]"
            ]
          },
          "metadata": {}
        },
        {
          "output_type": "stream",
          "name": "stdout",
          "text": [
            "\n",
            "MSE= 9.863429968101311\n",
            "MSE= 0.017114449170585917\n",
            "MSE= 0.013503228483639806\n",
            "MSE= 0.011697533180905039\n",
            "MSE= 0.010672848435298615\n",
            "\n",
            "Layer 0 is the Input Layer\n",
            "Layer 1 Neuron 0 : [ 0.27652539 -1.07078221  0.22041932  0.62319543] sigmoid\n",
            "Layer 1 Neuron 1 : [ 0.57582458 -1.20156888  0.57528622  0.87848137] sigmoid\n",
            "Layer 2 Neuron 0 : [1.41477838 1.80575182 1.51006579] linear\n",
            "\n"
          ]
        },
        {
          "output_type": "display_data",
          "data": {
            "application/vnd.google.colaboratory.intrinsic+json": {
              "type": "string"
            },
            "text/plain": [
              "'predicted values:'"
            ]
          },
          "metadata": {}
        },
        {
          "output_type": "display_data",
          "data": {
            "text/plain": [
              "[3.511617327175137,\n",
              " 3.68839901004352,\n",
              " 3.7067856935869052,\n",
              " 3.1734661356082423,\n",
              " 3.8910820624202724,\n",
              " 2.2426049886231274]"
            ]
          },
          "metadata": {}
        },
        {
          "output_type": "stream",
          "name": "stdout",
          "text": [
            "\n"
          ]
        }
      ]
    },
    {
      "cell_type": "markdown",
      "metadata": {
        "id": "RQ6f38VkOng4"
      },
      "source": [
        "# Example 5 -- relu-sigmoid, bp_regres. מתכנס למשקלים לא משהו"
      ]
    },
    {
      "cell_type": "code",
      "metadata": {
        "id": "tTgRMD9GOoF_",
        "colab": {
          "base_uri": "https://localhost:8080/",
          "height": 936
        },
        "outputId": "fc8a1bd8-e79f-42db-a0fc-eedcf9de32ba"
      },
      "source": [
        "mln4 = MultiLayerNeuron(layers=[3,2,1,1]) # generating MLN with random weights\n",
        "mln4.set_activ('relu')\n",
        "mln4.network[2][0].set_activ('sigmoid') # changing specific activ func\n",
        "mln4.set_output_activ('linear')\n",
        "mln4.set_weights([[[0,1,-2,1],[1,-2,0,1]],[[1,0,1]],[[-1,2]]]) # setting weights\n",
        "mln4.printWeights()\n",
        "\n",
        "y4=[] # generating output values\n",
        "y4.append(mln4.run([2,1,0])[0])\n",
        "y4.append(mln4.run([-1,0,1])[0])\n",
        "y4.append(mln4.run([0,0,0])[0])\n",
        "y4.append(mln4.run([1,1,0])[0])\n",
        "y4.append(mln4.run([-1,-1,-1])[0])\n",
        "y4.append(mln4.run([-1,1,-1])[0])\n",
        "display ('original values:',y4)\n",
        "print ()\n",
        "\n",
        "# training model and predicting values\n",
        "mln4 = MultiLayerNeuron(layers=[3,2,1,1], eta=0.3) # generating MLN with random weights\n",
        "mln4.set_activ('relu')\n",
        "mln4.network[2][0].set_activ('sigmoid') # changing specific activ func\n",
        "mln4.set_output_activ('linear')\n",
        "\n",
        "for i in range(400):\n",
        "    MSE = 0.0\n",
        "    MSE += mln4.bp_regres([2,1,0],y4[0])\n",
        "    MSE += mln4.bp_regres([-1,0,1],y4[1])\n",
        "    MSE += mln4.bp_regres([0,0,0],y4[2])\n",
        "    MSE += mln4.bp_regres([1,1,0],y4[3])\n",
        "    MSE += mln4.bp_regres([-1,-1,-1],y4[4])\n",
        "    MSE += mln4.bp_regres([-1,1,-1],y4[5])\n",
        "    MSE = MSE / 6\n",
        "    if(i%20 == 0):\n",
        "        print ('MSE', i, '=',MSE)\n",
        "mln4.printWeights()\n",
        "\n",
        "y4=[]\n",
        "y4.append(mln4.run([2,1,0])[0])\n",
        "y4.append(mln4.run([-1,0,1])[0])\n",
        "y4.append(mln4.run([0,0,0])[0])\n",
        "y4.append(mln4.run([1,1,0])[0])\n",
        "y4.append(mln4.run([-1,-1,-1])[0])\n",
        "y4.append(mln4.run([-1,1,-1])[0])\n",
        "display ('predicted values:',y4)\n",
        "print ()"
      ],
      "execution_count": 40,
      "outputs": [
        {
          "output_type": "stream",
          "name": "stdout",
          "text": [
            "\n",
            "Layer 0 is the Input Layer\n",
            "Layer 1 Neuron 0 : [ 0.  1. -2.  1.] relu\n",
            "Layer 1 Neuron 1 : [ 1. -2.  0.  1.] relu\n",
            "Layer 2 Neuron 0 : [1. 0. 1.] sigmoid\n",
            "Layer 3 Neuron 0 : [-1.  2.] linear\n",
            "\n"
          ]
        },
        {
          "output_type": "display_data",
          "data": {
            "application/vnd.google.colaboratory.intrinsic+json": {
              "type": "string"
            },
            "text/plain": [
              "'original values:'"
            ]
          },
          "metadata": {}
        },
        {
          "output_type": "display_data",
          "data": {
            "text/plain": [
              "[1.0474258731775667,\n",
              " 1.2689414213699952,\n",
              " 1.1192029220221178,\n",
              " 1.0474258731775667,\n",
              " 1.0474258731775667,\n",
              " 1.0066928509242847]"
            ]
          },
          "metadata": {}
        },
        {
          "output_type": "stream",
          "name": "stdout",
          "text": [
            "\n",
            "MSE 0 = 2.462471771733307\n",
            "MSE 20 = 0.052250323202369865\n",
            "MSE 40 = 0.03236467388712388\n",
            "MSE 60 = 0.01087933779479891\n",
            "MSE 80 = 0.006101211066464374\n",
            "MSE 100 = 0.0035740337717257084\n",
            "MSE 120 = 0.0019037364747688723\n",
            "MSE 140 = 0.0012025910305125652\n",
            "MSE 160 = 0.0008908715695432438\n",
            "MSE 180 = 0.0007327277668338676\n",
            "MSE 200 = 0.0006418651693292314\n",
            "MSE 220 = 0.0005837629908566505\n",
            "MSE 240 = 0.0005431431342668049\n",
            "MSE 260 = 0.0005126040224888769\n",
            "MSE 280 = 0.0004882785030330047\n",
            "MSE 300 = 0.0004680156003351744\n",
            "MSE 320 = 0.0004505545192279195\n",
            "MSE 340 = 0.0004351221837456489\n",
            "MSE 360 = 0.00042019419845400587\n",
            "MSE 380 = 0.0004169085314796631\n",
            "\n",
            "Layer 0 is the Input Layer\n",
            "Layer 1 Neuron 0 : [-0.38419303 -0.17742159  0.88609171  0.63966291] relu\n",
            "Layer 1 Neuron 1 : [0.96921107 0.54309035 0.10298429 0.55871972] relu\n",
            "Layer 2 Neuron 0 : [ 0.63145645  0.05966703 -0.69229031] sigmoid\n",
            "Layer 3 Neuron 0 : [0.90744662 0.7041205 ] linear\n",
            "\n"
          ]
        },
        {
          "output_type": "display_data",
          "data": {
            "application/vnd.google.colaboratory.intrinsic+json": {
              "type": "string"
            },
            "text/plain": [
              "'predicted values:'"
            ]
          },
          "metadata": {}
        },
        {
          "output_type": "display_data",
          "data": {
            "text/plain": [
              "[1.0443995686712637,\n",
              " 1.2718981714170545,\n",
              " 1.1002979710212148,\n",
              " 1.0425839936832884,\n",
              " 1.0481561190625983,\n",
              " 1.0071320584094752]"
            ]
          },
          "metadata": {}
        },
        {
          "output_type": "stream",
          "name": "stdout",
          "text": [
            "\n"
          ]
        }
      ]
    },
    {
      "cell_type": "markdown",
      "metadata": {
        "id": "5iig6wESsnxe"
      },
      "source": [
        "# Example 7 -- Regres class. עובד באופן עקרוני\n",
        "# relu בעייתי"
      ]
    },
    {
      "cell_type": "code",
      "metadata": {
        "id": "S6k1A-gflH4c",
        "colab": {
          "base_uri": "https://localhost:8080/",
          "height": 734
        },
        "outputId": "dbfa87d4-3622-4066-a728-31307df0fc98"
      },
      "source": [
        "reg1=Regres(layers=[3,2,1,1], eta=0.3)\n",
        "reg1.set_weights([[[1,1,0,0],[0,0,0,0]],[[0,0,0]],[[0,0]]])\n",
        "X=[\n",
        "[2,1,0],\n",
        "[-1,0,1],\n",
        "[0,0,0],\n",
        "[1,1,0],\n",
        "[-1,-1,-1],\n",
        "[-1,1,-1],\n",
        "]\n",
        "y=[1.0474258731775667,\n",
        " 1.2689414213699952,\n",
        " 1.1192029220221178,\n",
        " 1.0474258731775667,\n",
        " 1.0474258731775667,\n",
        " 1.0066928509242847]\n",
        "reg1.set_hidden_activ('relu')\n",
        "reg1.regres_network.network[2][0].set_activ('sigmoid') # changing specific activ func\n",
        "reg1.fit(X,y, epochs=5)\n",
        "reg1.printWeights()\n",
        "pred=reg1.predict(X)\n",
        "print (pred)\n",
        "print()\n",
        "# display ('weight_history',reg1.weight_history)\n",
        "display ('MSE',reg1.MSE_history)"
      ],
      "execution_count": 48,
      "outputs": [
        {
          "output_type": "stream",
          "name": "stdout",
          "text": [
            "Model fitted.\n",
            "self.weight_history - list of lists of weights propagation\n",
            "self.MSE_history - list of MSEs propagation\n",
            "\n",
            "Layer 0 is the Input Layer\n",
            "Layer 1 Neuron 0 : [ 9.99713140e-01  1.00042202e+00 -2.75446741e-04  7.33518678e-04] relu\n",
            "Layer 1 Neuron 1 : [0. 0. 0. 0.] relu\n",
            "Layer 2 Neuron 0 : [-0.03277788  0.          0.00458208] sigmoid\n",
            "Layer 3 Neuron 0 : [0.40593827 0.81473119] linear\n",
            "\n",
            "[1.0081910251075497, 1.0181653384338307, 1.0181628984344357, 1.0115114716378777, 1.0181653384338307, 1.0181596241520412]\n",
            "\n"
          ]
        },
        {
          "output_type": "display_data",
          "data": {
            "application/vnd.google.colaboratory.intrinsic+json": {
              "type": "string"
            },
            "text/plain": [
              "'weight_history'"
            ]
          },
          "metadata": {}
        },
        {
          "output_type": "display_data",
          "data": {
            "text/plain": [
              "[[array([ 9.99713140e-01,  1.00042202e+00, -2.75446741e-04,  7.33518678e-04]),\n",
              "  array([0., 0., 0., 0.]),\n",
              "  array([-0.03277788,  0.        ,  0.00458208]),\n",
              "  array([0.40593827, 0.81473119])],\n",
              " [array([ 9.99713140e-01,  1.00042202e+00, -2.75446741e-04,  7.33518678e-04]),\n",
              "  array([0., 0., 0., 0.]),\n",
              "  array([-0.03277788,  0.        ,  0.00458208]),\n",
              "  array([0.40593827, 0.81473119])],\n",
              " [array([ 9.99713140e-01,  1.00042202e+00, -2.75446741e-04,  7.33518678e-04]),\n",
              "  array([0., 0., 0., 0.]),\n",
              "  array([-0.03277788,  0.        ,  0.00458208]),\n",
              "  array([0.40593827, 0.81473119])],\n",
              " [array([ 9.99713140e-01,  1.00042202e+00, -2.75446741e-04,  7.33518678e-04]),\n",
              "  array([0., 0., 0., 0.]),\n",
              "  array([-0.03277788,  0.        ,  0.00458208]),\n",
              "  array([0.40593827, 0.81473119])],\n",
              " [array([ 9.99713140e-01,  1.00042202e+00, -2.75446741e-04,  7.33518678e-04]),\n",
              "  array([0., 0., 0., 0.]),\n",
              "  array([-0.03277788,  0.        ,  0.00458208]),\n",
              "  array([0.40593827, 0.81473119])]]"
            ]
          },
          "metadata": {}
        },
        {
          "output_type": "display_data",
          "data": {
            "application/vnd.google.colaboratory.intrinsic+json": {
              "type": "string"
            },
            "text/plain": [
              "'MSE'"
            ]
          },
          "metadata": {}
        },
        {
          "output_type": "display_data",
          "data": {
            "text/plain": [
              "[0.8936248829442258,\n",
              " 0.04857883327236249,\n",
              " 0.0481469881158581,\n",
              " 0.04777680393002976,\n",
              " 0.04744442311981101]"
            ]
          },
          "metadata": {}
        }
      ]
    },
    {
      "cell_type": "markdown",
      "metadata": {
        "id": "3bxt-T9Qs5zv"
      },
      "source": [
        "# Example -- Regres_scale. צריך חשוב ולהשלים"
      ]
    },
    {
      "cell_type": "code",
      "metadata": {
        "colab": {
          "base_uri": "https://localhost:8080/"
        },
        "id": "w0_dFIMLvjG9",
        "outputId": "67276354-2a8f-4166-fce0-b730aa7a71b2"
      },
      "source": [
        "# nuzhno podumat' kak vesa obratno perevesti. mozhet inverse_transform\n",
        "reg2=Regres_scale(layers=[3,2,1,1], eta=0.1)\n",
        "reg2.set_weights([[[1,1,0,0],[0,0,0,0]],[[0,0,0]],[[0,0]]])\n",
        "X=[\n",
        "[2,1,0],\n",
        "[-1,0,1],\n",
        "[0,0,0],\n",
        "[1,1,0],\n",
        "[-1,-1,-1],\n",
        "[-1,1,-1],\n",
        "]\n",
        "y=[1.0474258731775667,\n",
        " 1.2689414213699952,\n",
        " 1.1192029220221178,\n",
        " 1.0474258731775667,\n",
        " 1.0474258731775667,\n",
        " 1.0066928509242847]\n",
        "reg2.set_hidden_activ('relu')\n",
        "reg2.regres_network.network[2][0].set_activ('sigmoid') # changing specific activ func\n",
        "reg2.fit(X,y,epochs=200)\n",
        "reg2.printWeights()\n",
        "pred=reg2.predict(X)\n",
        "pred"
      ],
      "execution_count": 42,
      "outputs": [
        {
          "output_type": "stream",
          "name": "stdout",
          "text": [
            "\n",
            "Layer 0 is the Input Layer\n",
            "Layer 1 Neuron 0 : [ 0.9517462   1.06201428 -0.06407585  0.06933407] relu\n",
            "Layer 1 Neuron 1 : [0. 0. 0. 0.] relu\n",
            "Layer 2 Neuron 0 : [-0.20894407  0.          0.00917428] sigmoid\n",
            "Layer 3 Neuron 0 : [0.46600036 0.84566849] linear\n",
            "\n"
          ]
        },
        {
          "output_type": "execute_result",
          "data": {
            "text/plain": [
              "[1.0081438427807037,\n",
              " 1.0797374688505368,\n",
              " 1.078049747612554,\n",
              " 1.029768336904302,\n",
              " 1.0797374688505368,\n",
              " 1.073806571646052]"
            ]
          },
          "metadata": {},
          "execution_count": 42
        }
      ]
    },
    {
      "cell_type": "markdown",
      "metadata": {
        "id": "VMQEsh7bFFe9"
      },
      "source": [
        "# Example 6 -- https://mmuratarat.github.io/2020-01-09/backpropagation"
      ]
    },
    {
      "cell_type": "code",
      "metadata": {
        "id": "HvAnY1Q1FF_L",
        "colab": {
          "base_uri": "https://localhost:8080/"
        },
        "outputId": "6be1e7d5-acfb-44b3-9ccd-953591f53bc0"
      },
      "source": [
        "# generating output values\n",
        "mln6 = MultiLayerNeuron(layers=[5,3,1], eta=.5)\n",
        "mln6.set_activ('sigmoid')\n",
        "mln6.set_output_activ('linear')\n",
        "mln6.set_weights([[[.19,.33,.4,.51,.54,.1],\n",
        "                   [.55,.16,.35,.85,.49,.1],\n",
        "                   [.76,.97,.7,.85,.57,.1]],\n",
        "                  [[.1,.03,-.17,.1]]\n",
        "                  ]) # setting initial weights\n",
        "mln6.printWeights()\n",
        "\n",
        "# training\n",
        "for i in range(100):\n",
        "    MSE = 0.0\n",
        "    MSE += mln6.bp_regres([.5,.1,1,0,0],[0.1])\n",
        "    MSE += mln6.bp_regres([.3,.2,0,1,0],[.6])\n",
        "    MSE += mln6.bp_regres([.7,.9,0,0,1],[.4])\n",
        "    MSE += mln6.bp_regres([.8,.1,1,0,0],[.1])\n",
        "    MSE = MSE / 4\n",
        "    if(i%10 == 0):\n",
        "        print ('MSE', i, '=',MSE)\n",
        "\n",
        "mln6.printWeights()"
      ],
      "execution_count": 43,
      "outputs": [
        {
          "output_type": "stream",
          "name": "stdout",
          "text": [
            "\n",
            "Layer 0 is the Input Layer\n",
            "Layer 1 Neuron 0 : [0.19 0.33 0.4  0.51 0.54 0.1 ] sigmoid\n",
            "Layer 1 Neuron 1 : [0.55 0.16 0.35 0.85 0.49 0.1 ] sigmoid\n",
            "Layer 1 Neuron 2 : [0.76 0.97 0.7  0.85 0.57 0.1 ] sigmoid\n",
            "Layer 2 Neuron 0 : [ 0.1   0.03 -0.17  0.1 ] linear\n",
            "\n",
            "MSE 0 = 3.097759865123268\n",
            "MSE 10 = 0.2948017967667316\n",
            "MSE 20 = 0.11235016703947856\n",
            "MSE 30 = 0.039031749833149484\n",
            "MSE 40 = 0.005346702764168406\n",
            "MSE 50 = 0.00047155150910413527\n",
            "MSE 60 = 9.822149422722454e-05\n",
            "MSE 70 = 6.0504726410544755e-05\n",
            "MSE 80 = 4.67746394940529e-05\n",
            "MSE 90 = 3.966114337742912e-05\n",
            "\n",
            "Layer 0 is the Input Layer\n",
            "Layer 1 Neuron 0 : [-0.92948745 -0.3432972  -0.4785581   0.21811547 -0.0456272  -1.65606983] sigmoid\n",
            "Layer 1 Neuron 1 : [-1.01311017 -0.23274925 -1.57166574  1.18384536  0.1929425  -1.78487787] sigmoid\n",
            "Layer 1 Neuron 2 : [-0.09277171 -0.3986799   1.19699659 -0.59778185 -0.68424799 -2.10503325] sigmoid\n",
            "Layer 2 Neuron 0 : [ 0.25752661  0.97942477 -1.06640139  0.35525422] linear\n",
            "\n"
          ]
        }
      ]
    },
    {
      "cell_type": "markdown",
      "metadata": {
        "id": "JhdtW0Cjc7Fi"
      },
      "source": [
        "# Example 8 -- Relu check"
      ]
    },
    {
      "cell_type": "code",
      "metadata": {
        "id": "5eWXM7kbc6gn",
        "colab": {
          "base_uri": "https://localhost:8080/",
          "height": 717
        },
        "outputId": "9305a7d0-45b5-424d-e5e2-2b8bc3557c83"
      },
      "source": [
        "reg2=Regres(layers=[1,1,1], eta=0.01)\n",
        "X=[[0],[1],[2],[3],[4],[5]]\n",
        "y=[0,1,2,3,4,5]\n",
        "reg2.printWeights()\n",
        "\n",
        "reg2.set_hidden_activ('linear')\n",
        "reg2.fit(X,y,epochs=5)\n",
        "reg2.printWeights()\n",
        "pred=reg2.predict(X)\n",
        "print (pred)\n",
        "print()\n",
        "display ('weight_history',reg2.weight_history)\n",
        "display ('MSE',reg2.MSE_history)"
      ],
      "execution_count": 81,
      "outputs": [
        {
          "output_type": "stream",
          "name": "stdout",
          "text": [
            "\n",
            "Layer 0 is the Input Layer\n",
            "Layer 1 Neuron 0 : [ 0.72633362 -0.62427338] linear\n",
            "Layer 2 Neuron 0 : [0.21234444 0.83258552] linear\n",
            "\n",
            "weight_epoch [array([ 0.92650656, -0.57778039]), array([0.59559103, 0.97821316])]\n",
            "history [[array([ 0.92650656, -0.57778039]), array([0.59559103, 0.97821316])]]\n",
            "weight_epoch [array([ 1.06584953, -0.55134881]), array([0.77857861, 1.01780813])]\n",
            "history [[array([ 1.06584953, -0.55134881]), array([0.77857861, 1.01780813])], [array([ 1.06584953, -0.55134881]), array([0.77857861, 1.01780813])]]\n",
            "weight_epoch [array([ 1.08460892, -0.5632087 ]), array([0.81230437, 1.00261297])]\n",
            "history [[array([ 1.08460892, -0.5632087 ]), array([0.81230437, 1.00261297])], [array([ 1.08460892, -0.5632087 ]), array([0.81230437, 1.00261297])], [array([ 1.08460892, -0.5632087 ]), array([0.81230437, 1.00261297])]]\n",
            "weight_epoch [array([ 1.08411475, -0.58050043]), array([0.82370286, 0.98143197])]\n",
            "history [[array([ 1.08411475, -0.58050043]), array([0.82370286, 0.98143197])], [array([ 1.08411475, -0.58050043]), array([0.82370286, 0.98143197])], [array([ 1.08411475, -0.58050043]), array([0.82370286, 0.98143197])], [array([ 1.08411475, -0.58050043]), array([0.82370286, 0.98143197])]]\n",
            "weight_epoch [array([ 1.08230837, -0.59710907]), array([0.83310383, 0.96136172])]\n",
            "history [[array([ 1.08230837, -0.59710907]), array([0.83310383, 0.96136172])], [array([ 1.08230837, -0.59710907]), array([0.83310383, 0.96136172])], [array([ 1.08230837, -0.59710907]), array([0.83310383, 0.96136172])], [array([ 1.08230837, -0.59710907]), array([0.83310383, 0.96136172])], [array([ 1.08230837, -0.59710907]), array([0.83310383, 0.96136172])]]\n",
            "Model fitted.\n",
            "self.weight_history - list of lists of weights propagation\n",
            "self.MSE_history - list of MSEs propagation\n",
            "\n",
            "Layer 0 is the Input Layer\n",
            "Layer 1 Neuron 0 : [ 1.08230837 -0.59710907] linear\n",
            "Layer 2 Neuron 0 : [0.83310383 0.96136172] linear\n",
            "\n",
            "[0.46390786880313695, 1.3655831118582857, 2.2672583549134346, 3.168933597968583, 4.070608841023732, 4.972284084078882]\n",
            "\n"
          ]
        },
        {
          "output_type": "display_data",
          "data": {
            "application/vnd.google.colaboratory.intrinsic+json": {
              "type": "string"
            },
            "text/plain": [
              "'weight_history'"
            ]
          },
          "metadata": {}
        },
        {
          "output_type": "display_data",
          "data": {
            "text/plain": [
              "[[array([ 1.08230837, -0.59710907]), array([0.83310383, 0.96136172])],\n",
              " [array([ 1.08230837, -0.59710907]), array([0.83310383, 0.96136172])],\n",
              " [array([ 1.08230837, -0.59710907]), array([0.83310383, 0.96136172])],\n",
              " [array([ 1.08230837, -0.59710907]), array([0.83310383, 0.96136172])],\n",
              " [array([ 1.08230837, -0.59710907]), array([0.83310383, 0.96136172])]]"
            ]
          },
          "metadata": {}
        },
        {
          "output_type": "display_data",
          "data": {
            "application/vnd.google.colaboratory.intrinsic+json": {
              "type": "string"
            },
            "text/plain": [
              "'MSE'"
            ]
          },
          "metadata": {}
        },
        {
          "output_type": "display_data",
          "data": {
            "text/plain": [
              "[11.62300978206809,\n",
              " 1.7586227446652278,\n",
              " 0.4348370642631832,\n",
              " 0.3894198091480052,\n",
              " 0.3342553899095295]"
            ]
          },
          "metadata": {}
        }
      ]
    },
    {
      "cell_type": "markdown",
      "metadata": {
        "id": "iEwuMi2DkFWq"
      },
      "source": [
        "# Example 9 -- mrelu check. working"
      ]
    },
    {
      "cell_type": "code",
      "metadata": {
        "id": "ay2oPnEzpHR3",
        "colab": {
          "base_uri": "https://localhost:8080/",
          "height": 899
        },
        "outputId": "ac033fb6-556f-43f4-b984-a37a7ed3d2a0"
      },
      "source": [
        "mln4 = MultiLayerNeuron(layers=[1,2,1]) # generating MLN with random weights\n",
        "mln4.set_activ('mrelu', param=0.1)\n",
        "# mln4.set_activ('relu')\n",
        "mln4.set_output_activ('linear')\n",
        "mln4.set_weights([[[-1.1,1.74],[3.35,-6.44]],[[-1.41,2.05,2.2]]]) # setting weights\n",
        "mln4.printWeights()\n",
        "\n",
        "y4=[] # generating output values\n",
        "y4.append(mln4.run([0])[0])\n",
        "y4.append(mln4.run([1])[0])\n",
        "y4.append(mln4.run([2])[0])\n",
        "y4.append(mln4.run([3])[0])\n",
        "y4.append(mln4.run([4])[0])\n",
        "y4.append(mln4.run([5])[0])\n",
        "display ('original values:',y4)\n",
        "print ()\n",
        "\n",
        "# training model and predicting values\n",
        "mln4 = MultiLayerNeuron(layers=[1,2,1], eta=0.005) # generating MLN with random weights\n",
        "mln4.set_activ('mrelu', param=0.1)\n",
        "# mln4.set_activ('relu')\n",
        "mln4.set_output_activ('linear')\n",
        "\n",
        "for i in range(4000):\n",
        "    MSE = 0.0\n",
        "    MSE += mln4.bp_regres([0],y4[0])\n",
        "    MSE += mln4.bp_regres([1],y4[1])\n",
        "    MSE += mln4.bp_regres([2],y4[2])\n",
        "    MSE += mln4.bp_regres([3],y4[3])\n",
        "    MSE += mln4.bp_regres([4],y4[4])\n",
        "    MSE += mln4.bp_regres([5],y4[5])\n",
        "    MSE = MSE / 6\n",
        "    if(i%200 == 0):\n",
        "        print ('MSE', i, '=',MSE)\n",
        "mln4.printWeights()\n",
        "\n",
        "y4=[]\n",
        "y4.append(mln4.run([0])[0])\n",
        "y4.append(mln4.run([1])[0])\n",
        "y4.append(mln4.run([2])[0])\n",
        "y4.append(mln4.run([3])[0])\n",
        "y4.append(mln4.run([4])[0])\n",
        "y4.append(mln4.run([5])[0])\n",
        "display ('predicted values:',y4)\n",
        "print ()"
      ],
      "execution_count": 45,
      "outputs": [
        {
          "output_type": "stream",
          "name": "stdout",
          "text": [
            "\n",
            "Layer 0 is the Input Layer\n",
            "Layer 1 Neuron 0 : [-1.1   1.74] mrelu\n",
            "Layer 1 Neuron 1 : [ 3.35 -6.44] mrelu\n",
            "Layer 2 Neuron 0 : [-1.41  2.05  2.2 ] linear\n",
            "\n"
          ]
        },
        {
          "output_type": "display_data",
          "data": {
            "application/vnd.google.colaboratory.intrinsic+json": {
              "type": "string"
            },
            "text/plain": [
              "'original values:'"
            ]
          },
          "metadata": {}
        },
        {
          "output_type": "display_data",
          "data": {
            "text/plain": [
              "[-1.5735999999999999,\n",
              " 0.6641500000000005,\n",
              " 2.7978599999999996,\n",
              " 9.82046,\n",
              " 16.843059999999998,\n",
              " 23.865659999999995]"
            ]
          },
          "metadata": {}
        },
        {
          "output_type": "stream",
          "name": "stdout",
          "text": [
            "\n",
            "MSE 0 = 587.6028548428432\n",
            "MSE 200 = 0.8045738973043814\n",
            "MSE 400 = 0.7930133010912465\n",
            "MSE 600 = 0.7908271013294241\n",
            "MSE 800 = 0.7886413200092238\n",
            "MSE 1000 = 0.7858435949209769\n",
            "MSE 1200 = 0.7821935363718499\n",
            "MSE 1400 = 0.7774291532432863\n",
            "MSE 1600 = 0.7712222458736777\n",
            "MSE 1800 = 0.7631616925260736\n",
            "MSE 2000 = 0.7527402840312338\n",
            "MSE 2200 = 0.7393460381720615\n",
            "MSE 2400 = 0.7222632625568575\n",
            "MSE 2600 = 0.7006916145838957\n",
            "MSE 2800 = 0.6737941804492406\n",
            "MSE 3000 = 0.6407867539172908\n",
            "MSE 3200 = 0.6010771643042487\n",
            "MSE 3400 = 0.554451812299935\n",
            "MSE 3600 = 0.5012837897825897\n",
            "MSE 3800 = 0.4427060865079247\n",
            "\n",
            "Layer 0 is the Input Layer\n",
            "Layer 1 Neuron 0 : [-2.30789708 -0.1415729 ] mrelu\n",
            "Layer 1 Neuron 1 : [ 1.92337375 -3.39394958] mrelu\n",
            "Layer 2 Neuron 0 : [-2.29570983  3.39731075  0.09128504] linear\n",
            "\n"
          ]
        },
        {
          "output_type": "display_data",
          "data": {
            "application/vnd.google.colaboratory.intrinsic+json": {
              "type": "string"
            },
            "text/plain": [
              "'predicted values:'"
            ]
          },
          "metadata": {}
        },
        {
          "output_type": "display_data",
          "data": {
            "text/plain": [
              "[-1.029244070691431,\n",
              " 0.15401196039817505,\n",
              " 2.721733695243328,\n",
              " 9.785858201854166,\n",
              " 16.849982708465,\n",
              " 23.914107215075838]"
            ]
          },
          "metadata": {}
        },
        {
          "output_type": "stream",
          "name": "stdout",
          "text": [
            "\n"
          ]
        }
      ]
    },
    {
      "cell_type": "code",
      "metadata": {
        "id": "V8pAh-iAkiJw",
        "colab": {
          "base_uri": "https://localhost:8080/",
          "height": 256
        },
        "outputId": "77e20cc1-6cc5-4695-cc1c-8d6767b3ab2a"
      },
      "source": [
        "reg2=Regres(layers=[1,2,1], eta=0.0001)\n",
        "X=[[1],[2],[3],[4],[5]]\n",
        "y=[1.,4.,9.,16.,25.]\n",
        "# reg2.printWeights()\n",
        "\n",
        "reg2.set_hidden_activ('mrelu', param=0.1)\n",
        "reg2.fit(X,y,epochs=500)\n",
        "reg2.printWeights()\n",
        "pred=reg2.predict(X)\n",
        "print (pred)\n",
        "print()\n",
        "# display ('weight_history',reg2.weight_history)\n",
        "display ('MSE',np.array(reg2.MSE_history).min())"
      ],
      "execution_count": 46,
      "outputs": [
        {
          "output_type": "stream",
          "name": "stdout",
          "text": [
            "Model fitted.\n",
            "self.weight_history - list of lists of weights propagation\n",
            "self.MSE_history - list of MSEs propagation\n",
            "\n",
            "Layer 0 is the Input Layer\n",
            "Layer 1 Neuron 0 : [-0.69527974 -0.18507363] mrelu\n",
            "Layer 1 Neuron 1 : [-0.5830809   0.26453816] mrelu\n",
            "Layer 2 Neuron 0 : [0.40794887 0.56867433 4.75716192] linear\n",
            "\n",
            "[4.757161922165078, 4.757161922165078, 4.757161922165078, 4.757161922165078, 4.757161922165078]\n",
            "\n"
          ]
        },
        {
          "output_type": "display_data",
          "data": {
            "application/vnd.google.colaboratory.intrinsic+json": {
              "type": "string"
            },
            "text/plain": [
              "'MSE'"
            ]
          },
          "metadata": {}
        },
        {
          "output_type": "display_data",
          "data": {
            "text/plain": [
              "455.33922009429006"
            ]
          },
          "metadata": {}
        }
      ]
    }
  ]
}