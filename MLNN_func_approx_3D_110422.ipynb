{
  "nbformat": 4,
  "nbformat_minor": 0,
  "metadata": {
    "colab": {
      "name": "MLNN func approx 3D 110422.ipynb",
      "provenance": [],
      "toc_visible": true,
      "collapsed_sections": [],
      "authorship_tag": "ABX9TyNf/PYRQg/e1hRn7ZuO2vhZ",
      "include_colab_link": true
    },
    "kernelspec": {
      "name": "python3",
      "display_name": "Python 3"
    },
    "language_info": {
      "name": "python"
    }
  },
  "cells": [
    {
      "cell_type": "markdown",
      "metadata": {
        "id": "view-in-github",
        "colab_type": "text"
      },
      "source": [
        "<a href=\"https://colab.research.google.com/github/vladgap/Various/blob/main/MLNN_func_approx_3D_110422.ipynb\" target=\"_parent\"><img src=\"https://colab.research.google.com/assets/colab-badge.svg\" alt=\"Open In Colab\"/></a>"
      ]
    },
    {
      "cell_type": "code",
      "execution_count": 2,
      "metadata": {
        "id": "G7TXXO5XNDO4"
      },
      "outputs": [],
      "source": [
        "import pandas as pd\n",
        "import numpy as np\n",
        "import plotly.graph_objs as go\n",
        "from plotly.subplots import make_subplots"
      ]
    },
    {
      "cell_type": "markdown",
      "source": [
        "# data"
      ],
      "metadata": {
        "id": "JyzAZfKBiHy6"
      }
    },
    {
      "cell_type": "markdown",
      "source": [
        "f=x1^3-0.2*x2+5"
      ],
      "metadata": {
        "id": "_gDeiR2jGNHe"
      }
    },
    {
      "cell_type": "code",
      "source": [
        "data=[\n",
        "[0.32,\t0.99,\t0.77,\t0.69,\t0.04,\t0.37,\t0.25,\t0.44,\t0.42,\t0.64,\t0.8,],\n",
        "[0.4,\t0.23,\t0.22,\t0.57,\t0.78,\t0.69,\t0.2,\t0.45,\t0.17,\t0.98,\t0.96,],\n",
        "[4.952768,\t5.924299,\t5.412533,\t5.214509,\t4.844064,\t4.912653,\t4.975625,\t4.995184,\t5.040088,\t5.066144,\t5.32,],\n",
        "]\n",
        "data=np.array(data).T\n",
        "data=pd.DataFrame(data, columns=['x1','x2', 'f'])#.sort_values(by=['x1'])\n",
        "data.head()"
      ],
      "metadata": {
        "colab": {
          "base_uri": "https://localhost:8080/",
          "height": 206
        },
        "id": "YAjoaTotNTWP",
        "outputId": "09ecae7e-4d70-4540-928b-cbc38d00810f"
      },
      "execution_count": 33,
      "outputs": [
        {
          "output_type": "execute_result",
          "data": {
            "text/plain": [
              "     x1    x2         f\n",
              "0  0.32  0.40  4.952768\n",
              "1  0.99  0.23  5.924299\n",
              "2  0.77  0.22  5.412533\n",
              "3  0.69  0.57  5.214509\n",
              "4  0.04  0.78  4.844064"
            ],
            "text/html": [
              "\n",
              "  <div id=\"df-3ad99c82-16ab-4583-a1b4-11a8651c559e\">\n",
              "    <div class=\"colab-df-container\">\n",
              "      <div>\n",
              "<style scoped>\n",
              "    .dataframe tbody tr th:only-of-type {\n",
              "        vertical-align: middle;\n",
              "    }\n",
              "\n",
              "    .dataframe tbody tr th {\n",
              "        vertical-align: top;\n",
              "    }\n",
              "\n",
              "    .dataframe thead th {\n",
              "        text-align: right;\n",
              "    }\n",
              "</style>\n",
              "<table border=\"1\" class=\"dataframe\">\n",
              "  <thead>\n",
              "    <tr style=\"text-align: right;\">\n",
              "      <th></th>\n",
              "      <th>x1</th>\n",
              "      <th>x2</th>\n",
              "      <th>f</th>\n",
              "    </tr>\n",
              "  </thead>\n",
              "  <tbody>\n",
              "    <tr>\n",
              "      <th>0</th>\n",
              "      <td>0.32</td>\n",
              "      <td>0.40</td>\n",
              "      <td>4.952768</td>\n",
              "    </tr>\n",
              "    <tr>\n",
              "      <th>1</th>\n",
              "      <td>0.99</td>\n",
              "      <td>0.23</td>\n",
              "      <td>5.924299</td>\n",
              "    </tr>\n",
              "    <tr>\n",
              "      <th>2</th>\n",
              "      <td>0.77</td>\n",
              "      <td>0.22</td>\n",
              "      <td>5.412533</td>\n",
              "    </tr>\n",
              "    <tr>\n",
              "      <th>3</th>\n",
              "      <td>0.69</td>\n",
              "      <td>0.57</td>\n",
              "      <td>5.214509</td>\n",
              "    </tr>\n",
              "    <tr>\n",
              "      <th>4</th>\n",
              "      <td>0.04</td>\n",
              "      <td>0.78</td>\n",
              "      <td>4.844064</td>\n",
              "    </tr>\n",
              "  </tbody>\n",
              "</table>\n",
              "</div>\n",
              "      <button class=\"colab-df-convert\" onclick=\"convertToInteractive('df-3ad99c82-16ab-4583-a1b4-11a8651c559e')\"\n",
              "              title=\"Convert this dataframe to an interactive table.\"\n",
              "              style=\"display:none;\">\n",
              "        \n",
              "  <svg xmlns=\"http://www.w3.org/2000/svg\" height=\"24px\"viewBox=\"0 0 24 24\"\n",
              "       width=\"24px\">\n",
              "    <path d=\"M0 0h24v24H0V0z\" fill=\"none\"/>\n",
              "    <path d=\"M18.56 5.44l.94 2.06.94-2.06 2.06-.94-2.06-.94-.94-2.06-.94 2.06-2.06.94zm-11 1L8.5 8.5l.94-2.06 2.06-.94-2.06-.94L8.5 2.5l-.94 2.06-2.06.94zm10 10l.94 2.06.94-2.06 2.06-.94-2.06-.94-.94-2.06-.94 2.06-2.06.94z\"/><path d=\"M17.41 7.96l-1.37-1.37c-.4-.4-.92-.59-1.43-.59-.52 0-1.04.2-1.43.59L10.3 9.45l-7.72 7.72c-.78.78-.78 2.05 0 2.83L4 21.41c.39.39.9.59 1.41.59.51 0 1.02-.2 1.41-.59l7.78-7.78 2.81-2.81c.8-.78.8-2.07 0-2.86zM5.41 20L4 18.59l7.72-7.72 1.47 1.35L5.41 20z\"/>\n",
              "  </svg>\n",
              "      </button>\n",
              "      \n",
              "  <style>\n",
              "    .colab-df-container {\n",
              "      display:flex;\n",
              "      flex-wrap:wrap;\n",
              "      gap: 12px;\n",
              "    }\n",
              "\n",
              "    .colab-df-convert {\n",
              "      background-color: #E8F0FE;\n",
              "      border: none;\n",
              "      border-radius: 50%;\n",
              "      cursor: pointer;\n",
              "      display: none;\n",
              "      fill: #1967D2;\n",
              "      height: 32px;\n",
              "      padding: 0 0 0 0;\n",
              "      width: 32px;\n",
              "    }\n",
              "\n",
              "    .colab-df-convert:hover {\n",
              "      background-color: #E2EBFA;\n",
              "      box-shadow: 0px 1px 2px rgba(60, 64, 67, 0.3), 0px 1px 3px 1px rgba(60, 64, 67, 0.15);\n",
              "      fill: #174EA6;\n",
              "    }\n",
              "\n",
              "    [theme=dark] .colab-df-convert {\n",
              "      background-color: #3B4455;\n",
              "      fill: #D2E3FC;\n",
              "    }\n",
              "\n",
              "    [theme=dark] .colab-df-convert:hover {\n",
              "      background-color: #434B5C;\n",
              "      box-shadow: 0px 1px 3px 1px rgba(0, 0, 0, 0.15);\n",
              "      filter: drop-shadow(0px 1px 2px rgba(0, 0, 0, 0.3));\n",
              "      fill: #FFFFFF;\n",
              "    }\n",
              "  </style>\n",
              "\n",
              "      <script>\n",
              "        const buttonEl =\n",
              "          document.querySelector('#df-3ad99c82-16ab-4583-a1b4-11a8651c559e button.colab-df-convert');\n",
              "        buttonEl.style.display =\n",
              "          google.colab.kernel.accessAllowed ? 'block' : 'none';\n",
              "\n",
              "        async function convertToInteractive(key) {\n",
              "          const element = document.querySelector('#df-3ad99c82-16ab-4583-a1b4-11a8651c559e');\n",
              "          const dataTable =\n",
              "            await google.colab.kernel.invokeFunction('convertToInteractive',\n",
              "                                                     [key], {});\n",
              "          if (!dataTable) return;\n",
              "\n",
              "          const docLinkHtml = 'Like what you see? Visit the ' +\n",
              "            '<a target=\"_blank\" href=https://colab.research.google.com/notebooks/data_table.ipynb>data table notebook</a>'\n",
              "            + ' to learn more about interactive tables.';\n",
              "          element.innerHTML = '';\n",
              "          dataTable['output_type'] = 'display_data';\n",
              "          await google.colab.output.renderOutput(dataTable, element);\n",
              "          const docLink = document.createElement('div');\n",
              "          docLink.innerHTML = docLinkHtml;\n",
              "          element.appendChild(docLink);\n",
              "        }\n",
              "      </script>\n",
              "    </div>\n",
              "  </div>\n",
              "  "
            ]
          },
          "metadata": {},
          "execution_count": 33
        }
      ]
    },
    {
      "cell_type": "code",
      "source": [
        "fig_data=go.Figure()\n",
        "fig_data.add_trace(go.Scatter3d(x=data.x1, y=data.x2, z=data.f, mode='markers'))\n",
        "x=np.linspace(0, 1, 11)\n",
        "y=np.linspace(0, 1, 11)\n",
        "x, y = np.meshgrid(x,y)\n",
        "z=x**3-.2*y+5\n",
        "fig_data.add_trace(go.Surface(x=x, y=y, z=z))\n",
        "fig_data.show()"
      ],
      "metadata": {
        "colab": {
          "base_uri": "https://localhost:8080/",
          "height": 542
        },
        "id": "W4ZEHf4GD4PV",
        "outputId": "820a3bb9-275e-4846-b55e-4a559506623a"
      },
      "execution_count": 109,
      "outputs": [
        {
          "output_type": "display_data",
          "data": {
            "text/html": [
              "<html>\n",
              "<head><meta charset=\"utf-8\" /></head>\n",
              "<body>\n",
              "    <div>            <script src=\"https://cdnjs.cloudflare.com/ajax/libs/mathjax/2.7.5/MathJax.js?config=TeX-AMS-MML_SVG\"></script><script type=\"text/javascript\">if (window.MathJax) {MathJax.Hub.Config({SVG: {font: \"STIX-Web\"}});}</script>                <script type=\"text/javascript\">window.PlotlyConfig = {MathJaxConfig: 'local'};</script>\n",
              "        <script src=\"https://cdn.plot.ly/plotly-2.8.3.min.js\"></script>                <div id=\"bc771ac4-72e2-42bf-a5cb-17c860c3d809\" class=\"plotly-graph-div\" style=\"height:525px; width:100%;\"></div>            <script type=\"text/javascript\">                                    window.PLOTLYENV=window.PLOTLYENV || {};                                    if (document.getElementById(\"bc771ac4-72e2-42bf-a5cb-17c860c3d809\")) {                    Plotly.newPlot(                        \"bc771ac4-72e2-42bf-a5cb-17c860c3d809\",                        [{\"mode\":\"markers\",\"x\":[0.32,0.99,0.77,0.69,0.04,0.37,0.25,0.44,0.42,0.64,0.8],\"y\":[0.4,0.23,0.22,0.57,0.78,0.69,0.2,0.45,0.17,0.98,0.96],\"z\":[4.952768,5.924299,5.412533,5.214509,4.844064,4.912653,4.975625,4.995184,5.040088,5.066144,5.32],\"type\":\"scatter3d\"},{\"x\":[[0.0,0.1,0.2,0.30000000000000004,0.4,0.5,0.6000000000000001,0.7000000000000001,0.8,0.9,1.0],[0.0,0.1,0.2,0.30000000000000004,0.4,0.5,0.6000000000000001,0.7000000000000001,0.8,0.9,1.0],[0.0,0.1,0.2,0.30000000000000004,0.4,0.5,0.6000000000000001,0.7000000000000001,0.8,0.9,1.0],[0.0,0.1,0.2,0.30000000000000004,0.4,0.5,0.6000000000000001,0.7000000000000001,0.8,0.9,1.0],[0.0,0.1,0.2,0.30000000000000004,0.4,0.5,0.6000000000000001,0.7000000000000001,0.8,0.9,1.0],[0.0,0.1,0.2,0.30000000000000004,0.4,0.5,0.6000000000000001,0.7000000000000001,0.8,0.9,1.0],[0.0,0.1,0.2,0.30000000000000004,0.4,0.5,0.6000000000000001,0.7000000000000001,0.8,0.9,1.0],[0.0,0.1,0.2,0.30000000000000004,0.4,0.5,0.6000000000000001,0.7000000000000001,0.8,0.9,1.0],[0.0,0.1,0.2,0.30000000000000004,0.4,0.5,0.6000000000000001,0.7000000000000001,0.8,0.9,1.0],[0.0,0.1,0.2,0.30000000000000004,0.4,0.5,0.6000000000000001,0.7000000000000001,0.8,0.9,1.0],[0.0,0.1,0.2,0.30000000000000004,0.4,0.5,0.6000000000000001,0.7000000000000001,0.8,0.9,1.0]],\"y\":[[0.0,0.0,0.0,0.0,0.0,0.0,0.0,0.0,0.0,0.0,0.0],[0.1,0.1,0.1,0.1,0.1,0.1,0.1,0.1,0.1,0.1,0.1],[0.2,0.2,0.2,0.2,0.2,0.2,0.2,0.2,0.2,0.2,0.2],[0.30000000000000004,0.30000000000000004,0.30000000000000004,0.30000000000000004,0.30000000000000004,0.30000000000000004,0.30000000000000004,0.30000000000000004,0.30000000000000004,0.30000000000000004,0.30000000000000004],[0.4,0.4,0.4,0.4,0.4,0.4,0.4,0.4,0.4,0.4,0.4],[0.5,0.5,0.5,0.5,0.5,0.5,0.5,0.5,0.5,0.5,0.5],[0.6000000000000001,0.6000000000000001,0.6000000000000001,0.6000000000000001,0.6000000000000001,0.6000000000000001,0.6000000000000001,0.6000000000000001,0.6000000000000001,0.6000000000000001,0.6000000000000001],[0.7000000000000001,0.7000000000000001,0.7000000000000001,0.7000000000000001,0.7000000000000001,0.7000000000000001,0.7000000000000001,0.7000000000000001,0.7000000000000001,0.7000000000000001,0.7000000000000001],[0.8,0.8,0.8,0.8,0.8,0.8,0.8,0.8,0.8,0.8,0.8],[0.9,0.9,0.9,0.9,0.9,0.9,0.9,0.9,0.9,0.9,0.9],[1.0,1.0,1.0,1.0,1.0,1.0,1.0,1.0,1.0,1.0,1.0]],\"z\":[[5.0,5.001,5.008,5.027,5.064,5.125,5.216,5.343,5.5120000000000005,5.729,6.0],[4.98,4.981,4.988,5.007,5.044,5.105,5.196,5.323,5.492,5.709,5.98],[4.96,4.961,4.968,4.987,5.024,5.085,5.176,5.303,5.472,5.689,5.96],[4.94,4.941,4.948,4.967,5.004,5.065,5.156,5.283,5.452,5.6690000000000005,5.9399999999999995],[4.92,4.921,4.928,4.947,4.984,5.045,5.136,5.263,5.432,5.649,5.92],[4.9,4.901,4.908,4.927,4.964,5.025,5.116,5.243,5.412,5.6290000000000004,5.9],[4.88,4.881,4.888,4.907,4.944,5.005,5.096,5.223,5.392,5.609,5.88],[4.86,4.861,4.868,4.887,4.924,4.985,5.0760000000000005,5.203,5.372,5.589,5.86],[4.84,4.841,4.848,4.867,4.904,4.965,5.056,5.183,5.352,5.569,5.84],[4.82,4.821,4.828,4.847,4.884,4.945,5.0360000000000005,5.163,5.332,5.549,5.82],[4.8,4.801,4.808,4.827,4.864,4.925,5.016,5.143,5.312,5.529,5.8]],\"type\":\"surface\"}],                        {\"template\":{\"data\":{\"bar\":[{\"error_x\":{\"color\":\"#2a3f5f\"},\"error_y\":{\"color\":\"#2a3f5f\"},\"marker\":{\"line\":{\"color\":\"#E5ECF6\",\"width\":0.5},\"pattern\":{\"fillmode\":\"overlay\",\"size\":10,\"solidity\":0.2}},\"type\":\"bar\"}],\"barpolar\":[{\"marker\":{\"line\":{\"color\":\"#E5ECF6\",\"width\":0.5},\"pattern\":{\"fillmode\":\"overlay\",\"size\":10,\"solidity\":0.2}},\"type\":\"barpolar\"}],\"carpet\":[{\"aaxis\":{\"endlinecolor\":\"#2a3f5f\",\"gridcolor\":\"white\",\"linecolor\":\"white\",\"minorgridcolor\":\"white\",\"startlinecolor\":\"#2a3f5f\"},\"baxis\":{\"endlinecolor\":\"#2a3f5f\",\"gridcolor\":\"white\",\"linecolor\":\"white\",\"minorgridcolor\":\"white\",\"startlinecolor\":\"#2a3f5f\"},\"type\":\"carpet\"}],\"choropleth\":[{\"colorbar\":{\"outlinewidth\":0,\"ticks\":\"\"},\"type\":\"choropleth\"}],\"contour\":[{\"colorbar\":{\"outlinewidth\":0,\"ticks\":\"\"},\"colorscale\":[[0.0,\"#0d0887\"],[0.1111111111111111,\"#46039f\"],[0.2222222222222222,\"#7201a8\"],[0.3333333333333333,\"#9c179e\"],[0.4444444444444444,\"#bd3786\"],[0.5555555555555556,\"#d8576b\"],[0.6666666666666666,\"#ed7953\"],[0.7777777777777778,\"#fb9f3a\"],[0.8888888888888888,\"#fdca26\"],[1.0,\"#f0f921\"]],\"type\":\"contour\"}],\"contourcarpet\":[{\"colorbar\":{\"outlinewidth\":0,\"ticks\":\"\"},\"type\":\"contourcarpet\"}],\"heatmap\":[{\"colorbar\":{\"outlinewidth\":0,\"ticks\":\"\"},\"colorscale\":[[0.0,\"#0d0887\"],[0.1111111111111111,\"#46039f\"],[0.2222222222222222,\"#7201a8\"],[0.3333333333333333,\"#9c179e\"],[0.4444444444444444,\"#bd3786\"],[0.5555555555555556,\"#d8576b\"],[0.6666666666666666,\"#ed7953\"],[0.7777777777777778,\"#fb9f3a\"],[0.8888888888888888,\"#fdca26\"],[1.0,\"#f0f921\"]],\"type\":\"heatmap\"}],\"heatmapgl\":[{\"colorbar\":{\"outlinewidth\":0,\"ticks\":\"\"},\"colorscale\":[[0.0,\"#0d0887\"],[0.1111111111111111,\"#46039f\"],[0.2222222222222222,\"#7201a8\"],[0.3333333333333333,\"#9c179e\"],[0.4444444444444444,\"#bd3786\"],[0.5555555555555556,\"#d8576b\"],[0.6666666666666666,\"#ed7953\"],[0.7777777777777778,\"#fb9f3a\"],[0.8888888888888888,\"#fdca26\"],[1.0,\"#f0f921\"]],\"type\":\"heatmapgl\"}],\"histogram\":[{\"marker\":{\"pattern\":{\"fillmode\":\"overlay\",\"size\":10,\"solidity\":0.2}},\"type\":\"histogram\"}],\"histogram2d\":[{\"colorbar\":{\"outlinewidth\":0,\"ticks\":\"\"},\"colorscale\":[[0.0,\"#0d0887\"],[0.1111111111111111,\"#46039f\"],[0.2222222222222222,\"#7201a8\"],[0.3333333333333333,\"#9c179e\"],[0.4444444444444444,\"#bd3786\"],[0.5555555555555556,\"#d8576b\"],[0.6666666666666666,\"#ed7953\"],[0.7777777777777778,\"#fb9f3a\"],[0.8888888888888888,\"#fdca26\"],[1.0,\"#f0f921\"]],\"type\":\"histogram2d\"}],\"histogram2dcontour\":[{\"colorbar\":{\"outlinewidth\":0,\"ticks\":\"\"},\"colorscale\":[[0.0,\"#0d0887\"],[0.1111111111111111,\"#46039f\"],[0.2222222222222222,\"#7201a8\"],[0.3333333333333333,\"#9c179e\"],[0.4444444444444444,\"#bd3786\"],[0.5555555555555556,\"#d8576b\"],[0.6666666666666666,\"#ed7953\"],[0.7777777777777778,\"#fb9f3a\"],[0.8888888888888888,\"#fdca26\"],[1.0,\"#f0f921\"]],\"type\":\"histogram2dcontour\"}],\"mesh3d\":[{\"colorbar\":{\"outlinewidth\":0,\"ticks\":\"\"},\"type\":\"mesh3d\"}],\"parcoords\":[{\"line\":{\"colorbar\":{\"outlinewidth\":0,\"ticks\":\"\"}},\"type\":\"parcoords\"}],\"pie\":[{\"automargin\":true,\"type\":\"pie\"}],\"scatter\":[{\"marker\":{\"colorbar\":{\"outlinewidth\":0,\"ticks\":\"\"}},\"type\":\"scatter\"}],\"scatter3d\":[{\"line\":{\"colorbar\":{\"outlinewidth\":0,\"ticks\":\"\"}},\"marker\":{\"colorbar\":{\"outlinewidth\":0,\"ticks\":\"\"}},\"type\":\"scatter3d\"}],\"scattercarpet\":[{\"marker\":{\"colorbar\":{\"outlinewidth\":0,\"ticks\":\"\"}},\"type\":\"scattercarpet\"}],\"scattergeo\":[{\"marker\":{\"colorbar\":{\"outlinewidth\":0,\"ticks\":\"\"}},\"type\":\"scattergeo\"}],\"scattergl\":[{\"marker\":{\"colorbar\":{\"outlinewidth\":0,\"ticks\":\"\"}},\"type\":\"scattergl\"}],\"scattermapbox\":[{\"marker\":{\"colorbar\":{\"outlinewidth\":0,\"ticks\":\"\"}},\"type\":\"scattermapbox\"}],\"scatterpolar\":[{\"marker\":{\"colorbar\":{\"outlinewidth\":0,\"ticks\":\"\"}},\"type\":\"scatterpolar\"}],\"scatterpolargl\":[{\"marker\":{\"colorbar\":{\"outlinewidth\":0,\"ticks\":\"\"}},\"type\":\"scatterpolargl\"}],\"scatterternary\":[{\"marker\":{\"colorbar\":{\"outlinewidth\":0,\"ticks\":\"\"}},\"type\":\"scatterternary\"}],\"surface\":[{\"colorbar\":{\"outlinewidth\":0,\"ticks\":\"\"},\"colorscale\":[[0.0,\"#0d0887\"],[0.1111111111111111,\"#46039f\"],[0.2222222222222222,\"#7201a8\"],[0.3333333333333333,\"#9c179e\"],[0.4444444444444444,\"#bd3786\"],[0.5555555555555556,\"#d8576b\"],[0.6666666666666666,\"#ed7953\"],[0.7777777777777778,\"#fb9f3a\"],[0.8888888888888888,\"#fdca26\"],[1.0,\"#f0f921\"]],\"type\":\"surface\"}],\"table\":[{\"cells\":{\"fill\":{\"color\":\"#EBF0F8\"},\"line\":{\"color\":\"white\"}},\"header\":{\"fill\":{\"color\":\"#C8D4E3\"},\"line\":{\"color\":\"white\"}},\"type\":\"table\"}]},\"layout\":{\"annotationdefaults\":{\"arrowcolor\":\"#2a3f5f\",\"arrowhead\":0,\"arrowwidth\":1},\"autotypenumbers\":\"strict\",\"coloraxis\":{\"colorbar\":{\"outlinewidth\":0,\"ticks\":\"\"}},\"colorscale\":{\"diverging\":[[0,\"#8e0152\"],[0.1,\"#c51b7d\"],[0.2,\"#de77ae\"],[0.3,\"#f1b6da\"],[0.4,\"#fde0ef\"],[0.5,\"#f7f7f7\"],[0.6,\"#e6f5d0\"],[0.7,\"#b8e186\"],[0.8,\"#7fbc41\"],[0.9,\"#4d9221\"],[1,\"#276419\"]],\"sequential\":[[0.0,\"#0d0887\"],[0.1111111111111111,\"#46039f\"],[0.2222222222222222,\"#7201a8\"],[0.3333333333333333,\"#9c179e\"],[0.4444444444444444,\"#bd3786\"],[0.5555555555555556,\"#d8576b\"],[0.6666666666666666,\"#ed7953\"],[0.7777777777777778,\"#fb9f3a\"],[0.8888888888888888,\"#fdca26\"],[1.0,\"#f0f921\"]],\"sequentialminus\":[[0.0,\"#0d0887\"],[0.1111111111111111,\"#46039f\"],[0.2222222222222222,\"#7201a8\"],[0.3333333333333333,\"#9c179e\"],[0.4444444444444444,\"#bd3786\"],[0.5555555555555556,\"#d8576b\"],[0.6666666666666666,\"#ed7953\"],[0.7777777777777778,\"#fb9f3a\"],[0.8888888888888888,\"#fdca26\"],[1.0,\"#f0f921\"]]},\"colorway\":[\"#636efa\",\"#EF553B\",\"#00cc96\",\"#ab63fa\",\"#FFA15A\",\"#19d3f3\",\"#FF6692\",\"#B6E880\",\"#FF97FF\",\"#FECB52\"],\"font\":{\"color\":\"#2a3f5f\"},\"geo\":{\"bgcolor\":\"white\",\"lakecolor\":\"white\",\"landcolor\":\"#E5ECF6\",\"showlakes\":true,\"showland\":true,\"subunitcolor\":\"white\"},\"hoverlabel\":{\"align\":\"left\"},\"hovermode\":\"closest\",\"mapbox\":{\"style\":\"light\"},\"paper_bgcolor\":\"white\",\"plot_bgcolor\":\"#E5ECF6\",\"polar\":{\"angularaxis\":{\"gridcolor\":\"white\",\"linecolor\":\"white\",\"ticks\":\"\"},\"bgcolor\":\"#E5ECF6\",\"radialaxis\":{\"gridcolor\":\"white\",\"linecolor\":\"white\",\"ticks\":\"\"}},\"scene\":{\"xaxis\":{\"backgroundcolor\":\"#E5ECF6\",\"gridcolor\":\"white\",\"gridwidth\":2,\"linecolor\":\"white\",\"showbackground\":true,\"ticks\":\"\",\"zerolinecolor\":\"white\"},\"yaxis\":{\"backgroundcolor\":\"#E5ECF6\",\"gridcolor\":\"white\",\"gridwidth\":2,\"linecolor\":\"white\",\"showbackground\":true,\"ticks\":\"\",\"zerolinecolor\":\"white\"},\"zaxis\":{\"backgroundcolor\":\"#E5ECF6\",\"gridcolor\":\"white\",\"gridwidth\":2,\"linecolor\":\"white\",\"showbackground\":true,\"ticks\":\"\",\"zerolinecolor\":\"white\"}},\"shapedefaults\":{\"line\":{\"color\":\"#2a3f5f\"}},\"ternary\":{\"aaxis\":{\"gridcolor\":\"white\",\"linecolor\":\"white\",\"ticks\":\"\"},\"baxis\":{\"gridcolor\":\"white\",\"linecolor\":\"white\",\"ticks\":\"\"},\"bgcolor\":\"#E5ECF6\",\"caxis\":{\"gridcolor\":\"white\",\"linecolor\":\"white\",\"ticks\":\"\"}},\"title\":{\"x\":0.05},\"xaxis\":{\"automargin\":true,\"gridcolor\":\"white\",\"linecolor\":\"white\",\"ticks\":\"\",\"title\":{\"standoff\":15},\"zerolinecolor\":\"white\",\"zerolinewidth\":2},\"yaxis\":{\"automargin\":true,\"gridcolor\":\"white\",\"linecolor\":\"white\",\"ticks\":\"\",\"title\":{\"standoff\":15},\"zerolinecolor\":\"white\",\"zerolinewidth\":2}}}},                        {\"responsive\": true}                    ).then(function(){\n",
              "                            \n",
              "var gd = document.getElementById('bc771ac4-72e2-42bf-a5cb-17c860c3d809');\n",
              "var x = new MutationObserver(function (mutations, observer) {{\n",
              "        var display = window.getComputedStyle(gd).display;\n",
              "        if (!display || display === 'none') {{\n",
              "            console.log([gd, 'removed!']);\n",
              "            Plotly.purge(gd);\n",
              "            observer.disconnect();\n",
              "        }}\n",
              "}});\n",
              "\n",
              "// Listen for the removal of the full notebook cells\n",
              "var notebookContainer = gd.closest('#notebook-container');\n",
              "if (notebookContainer) {{\n",
              "    x.observe(notebookContainer, {childList: true});\n",
              "}}\n",
              "\n",
              "// Listen for the clearing of the current output cell\n",
              "var outputEl = gd.closest('.output');\n",
              "if (outputEl) {{\n",
              "    x.observe(outputEl, {childList: true});\n",
              "}}\n",
              "\n",
              "                        })                };                            </script>        </div>\n",
              "</body>\n",
              "</html>"
            ]
          },
          "metadata": {}
        }
      ]
    },
    {
      "cell_type": "markdown",
      "source": [
        "# scaling"
      ],
      "metadata": {
        "id": "EIYE98GxiL5y"
      }
    },
    {
      "cell_type": "code",
      "source": [
        "pip install MLNN"
      ],
      "metadata": {
        "colab": {
          "base_uri": "https://localhost:8080/"
        },
        "id": "cap-rwlLNOet",
        "outputId": "1c6bfa69-ef4e-45a8-9c00-6e66a6278e96"
      },
      "execution_count": 35,
      "outputs": [
        {
          "output_type": "stream",
          "name": "stdout",
          "text": [
            "Requirement already satisfied: MLNN in /usr/local/lib/python3.7/dist-packages (1.1)\n"
          ]
        }
      ]
    },
    {
      "cell_type": "code",
      "source": [
        "from sklearn import preprocessing\n",
        "from MLNN import *"
      ],
      "metadata": {
        "id": "tEfORV03NF3m"
      },
      "execution_count": 36,
      "outputs": []
    },
    {
      "cell_type": "code",
      "source": [
        "scaler_X = preprocessing.StandardScaler().fit(data[['x1','x2']])\n",
        "print(scaler_X.mean_, scaler_X.scale_)\n",
        "X_sc = scaler_X.transform(data[['x1','x2']]) # matrix\n",
        "X_sc[0:3]"
      ],
      "metadata": {
        "colab": {
          "base_uri": "https://localhost:8080/"
        },
        "id": "pGBRhUeBPPab",
        "outputId": "12cd534a-27ae-4ad5-8360-f3f50ad27497"
      },
      "execution_count": 67,
      "outputs": [
        {
          "output_type": "stream",
          "name": "stdout",
          "text": [
            "[0.52090909 0.51363636] [0.26752925 0.28952226]\n"
          ]
        },
        {
          "output_type": "execute_result",
          "data": {
            "text/plain": [
              "array([[-0.7509799 , -0.39249612],\n",
              "       [ 1.75341913, -0.97967031],\n",
              "       [ 0.93107915, -1.01420996]])"
            ]
          },
          "metadata": {},
          "execution_count": 67
        }
      ]
    },
    {
      "cell_type": "code",
      "source": [
        "scaler_y = preprocessing.StandardScaler().fit(data[['f']])\n",
        "y_sc = scaler_y.transform(data[['f']])[:,0] # vector\n",
        "y_sc"
      ],
      "metadata": {
        "colab": {
          "base_uri": "https://localhost:8080/"
        },
        "id": "yx6hNxEEQW1z",
        "outputId": "28555c0b-340b-470e-e25f-07403818c3f5"
      },
      "execution_count": 38,
      "outputs": [
        {
          "output_type": "execute_result",
          "data": {
            "text/plain": [
              "array([-0.66871956,  2.61337708,  0.88449198,  0.21551291, -1.03595131,\n",
              "       -0.80423897, -0.59150238, -0.52542674, -0.37372879, -0.28570451,\n",
              "        0.57189028])"
            ]
          },
          "metadata": {},
          "execution_count": 38
        }
      ]
    },
    {
      "cell_type": "markdown",
      "source": [
        "# model fitting"
      ],
      "metadata": {
        "id": "FLk5KZvmiO7P"
      }
    },
    {
      "cell_type": "code",
      "source": [
        "layers=[2,2,1]"
      ],
      "metadata": {
        "id": "4_nlr3F6wL0O"
      },
      "execution_count": 229,
      "outputs": []
    },
    {
      "cell_type": "code",
      "source": [
        "reg1=Regres(layers=layers)\n",
        "reg1.set_hidden_activ('mrelu', param=0.01)\n",
        "reg1.fit(np.array(X_sc), y_sc, epochs=1000, eta=0.01)\n",
        "data1=go.Scatter(y=reg1.MSE_history[:], name='eta=0.01')"
      ],
      "metadata": {
        "colab": {
          "base_uri": "https://localhost:8080/"
        },
        "id": "vVvUfWX4QcOT",
        "outputId": "4fa5b41a-5707-45e1-e952-f3772da2a48d"
      },
      "execution_count": 230,
      "outputs": [
        {
          "output_type": "stream",
          "name": "stdout",
          "text": [
            "Model fitted.\n",
            "self.weight_history - list of lists of weights propagation\n",
            "self.weight_history_table - Pandas table of weights propagation\n",
            "self.MSE_history - list of MSEs propagation\n"
          ]
        }
      ]
    },
    {
      "cell_type": "code",
      "source": [
        "reg2=Regres(layers=layers)\n",
        "reg2.set_hidden_activ('mrelu', param=0.01)\n",
        "reg2.fit(np.array(X_sc), y_sc, epochs=1000, eta=0.001)\n",
        "data2=go.Scatter(y=reg2.MSE_history[:], name='eta=0.001')"
      ],
      "metadata": {
        "colab": {
          "base_uri": "https://localhost:8080/"
        },
        "id": "W2YOKDNJd52d",
        "outputId": "31a1f905-5547-4e3a-e283-b527119f572a"
      },
      "execution_count": 231,
      "outputs": [
        {
          "output_type": "stream",
          "name": "stdout",
          "text": [
            "Model fitted.\n",
            "self.weight_history - list of lists of weights propagation\n",
            "self.weight_history_table - Pandas table of weights propagation\n",
            "self.MSE_history - list of MSEs propagation\n"
          ]
        }
      ]
    },
    {
      "cell_type": "code",
      "source": [
        "reg_fixed=Regres(layers=layers)\n",
        "reg_fixed.set_hidden_activ('mrelu', param=0.01)\n",
        "# reg_fixed.set_weights(fixed_weights) # if no fixed_weights exist yet, skip it\n",
        "reg_fixed.fit(np.array(X_sc), y_sc, epochs=1000, eta=0.0001)\n",
        "data_fixed=go.Scatter(y=reg_fixed.MSE_history[:], name='fixed')"
      ],
      "metadata": {
        "colab": {
          "base_uri": "https://localhost:8080/"
        },
        "id": "ufFUldc6kAru",
        "outputId": "468907d0-1e00-4dc7-e315-630b8472c4c1"
      },
      "execution_count": 232,
      "outputs": [
        {
          "output_type": "stream",
          "name": "stdout",
          "text": [
            "Model fitted.\n",
            "self.weight_history - list of lists of weights propagation\n",
            "self.weight_history_table - Pandas table of weights propagation\n",
            "self.MSE_history - list of MSEs propagation\n"
          ]
        }
      ]
    },
    {
      "cell_type": "code",
      "source": [
        "fig1=go.Figure()\n",
        "fig1.add_trace(data1), print('MSE1=', reg1.MSE_history[-1])\n",
        "fig1.add_trace(data2), print('MSE2=', reg2.MSE_history[-1])\n",
        "\n",
        "fig1.add_trace(data_fixed), print('MSE_fixed=', reg_fixed.MSE_history[-1])\n",
        "\n",
        "fig1.update_yaxes(range=[0, 1])\n",
        "fig1.show()"
      ],
      "metadata": {
        "colab": {
          "base_uri": "https://localhost:8080/",
          "height": 594
        },
        "id": "IvLyz58mRV6z",
        "outputId": "98856bb6-e0aa-4a2e-ebcd-4228d101fba0"
      },
      "execution_count": 233,
      "outputs": [
        {
          "output_type": "stream",
          "name": "stdout",
          "text": [
            "MSE1= 0.03645419940739201\n",
            "MSE2= 0.02755858074295775\n",
            "MSE_fixed= 1.334325477998955\n"
          ]
        },
        {
          "output_type": "display_data",
          "data": {
            "text/html": [
              "<html>\n",
              "<head><meta charset=\"utf-8\" /></head>\n",
              "<body>\n",
              "    <div>            <script src=\"https://cdnjs.cloudflare.com/ajax/libs/mathjax/2.7.5/MathJax.js?config=TeX-AMS-MML_SVG\"></script><script type=\"text/javascript\">if (window.MathJax) {MathJax.Hub.Config({SVG: {font: \"STIX-Web\"}});}</script>                <script type=\"text/javascript\">window.PlotlyConfig = {MathJaxConfig: 'local'};</script>\n",
              "        <script src=\"https://cdn.plot.ly/plotly-2.8.3.min.js\"></script>                <div id=\"037be118-fabf-4f1c-8488-078cc646dd62\" class=\"plotly-graph-div\" style=\"height:525px; width:100%;\"></div>            <script type=\"text/javascript\">                                    window.PLOTLYENV=window.PLOTLYENV || {};                                    if (document.getElementById(\"037be118-fabf-4f1c-8488-078cc646dd62\")) {                    Plotly.newPlot(                        \"037be118-fabf-4f1c-8488-078cc646dd62\",                        [{\"name\":\"eta=0.01\",\"y\":[3.192146011842131,2.7603238299788018,2.4717535904783388,2.242355132954055,2.034733387138513,1.830423265636388,1.6432210067080464,1.4746979402470215,1.3257660868255396,1.1962697570314922,1.0850690375925416,0.9903463929949516,0.910352575756272,0.843148741636483,0.7855256982537117,0.7358088928752089,0.6926488616345521,0.654961589835296,0.6218771288454334,0.5926954840974145,0.5668500194813214,0.5438781242233025,0.5233983180569256,0.5050926947023284,0.4886935867758431,0.47397346365652554,0.46073725547576705,0.4488164773392404,0.43672533378371997,0.4250356154374938,0.40905272959469835,0.39227968693382903,0.37640997090666084,0.36143830517522424,0.3473423067258775,0.3340913475904404,0.3216510786670983,0.30998568355877326,0.29905900133903907,0.2888350999315042,0.27927858560063085,0.2703547851722175,0.26202986514350257,0.25427091736846885,0.2470460249108752,0.24032431428264103,0.23407599697249032,0.22827240171741267,0.2228859983540037,0.21789041384056632,0.21326044095422986,0.20897204014743112,0.20500233505442855,0.2013296021532202,0.19793325510329565,0.19479382429123707,0.1918929321224786,0.18921326459753748,0.18673853970459336,0.18445347314744984,0.18234374190920102,0.1803959461279962,0.17859756973300053,0.17693694025690743,0.17540318820708684,0.17398620634160958,0.17267660915974925,0.17146569287997038,0.17034539614246721,0.1693082616386128,0.16834739883663194,0.16745644794179704,0.1664930573295634,0.16509283925979645,0.16369998122528673,0.16234327667160273,0.16103655576381978,0.15978548590927544,0.15859145379080353,0.1574536568502779,0.15637020387589812,0.1553386896386013,0.15435649509544075,0.15342094506622997,0.1525293916499514,0.15167925857047074,0.1508680646274883,0.1500934357087966,0.1493531103471966,0.14864494150084676,0.1479668960381214,0.14731705277696697,0.14669359958925027,0.14609482989259995,0.14551913874400135,0.14496501868407727,0.1444310554394046,0.14391592356229457,0.1434183820677746,0.14293727011306812,0.14247150275392212,0.1420200668036674,0.14158201681424182,0.14115647119312294,0.14074260846590256,0.1403396636908603,0.1399469250291773,0.13956373047227918,0.13918946472606278,0.1388235562503836,0.13846547445111926,0.1381147270212633,0.1377708574268752,0.13743344253322745,0.13710209036613055,0.1367764380031953,0.1364561495896251,0.13614091447306562,0.13583044545201603,0.13552447713234847,0.13522276438654035,0.13492508091034575,0.13463121787174875,0.13434098264719171,0.13405419764024654,0.13377069917805162,0.13349033648103836,0.1332129707016429,0.13293847402789882,0.13266672884798364,0.1323976269719939,0.13213106890739768,0.13186696318479718,0.1316052257308223,0.13134577928513338,0.13108855285868576,0.13083348123057517,0.13058050448092776,0.13032956755745145,0.13008061987340946,0.12983361493491052,0.12958850999553687,0.12934526573645855,0.1291038459702942,0.12886421736709203,0.12862634920090688,0.12839021311554735,0.1281557829081646,0.1279230343294314,0.1276919448991532,0.12746249373622723,0.12723466140193063,0.12700842975559845,0.12678378182180802,0.12656070166824998,0.1263391742935186,0.1261191855241096,0.12590072191996515,0.12568377068793937,0.12546831960262048,0.12525435693396078,0.12504187138123016,0.12483085201281624,0.1246212882114496,0.12441316962444815,0.1242064861186068,0.12400122773938893,0.12379738467409264,0.1235949472186964,0.12339390574809873,0.12287198136540356,0.12181014131277212,0.12070152975998694,0.11956692637316811,0.11842029047824688,0.11727002142937083,0.11612106462443467,0.11497640533239166,0.11383794966421469,0.11270700616123693,0.11158453948962431,0.11047130205773213,0.10936790266996783,0.10827484355448957,0.10719254180079942,0.10612134317274174,0.10506153213743322,0.10401333990206091,0.10297695126508759,0.10195251063340481,0.10094012735877594,0.09993988046816983,0.09895182283622739,0.09797598484244031,0.09701237755648918,0.09606099549683042,0.09512181900801356,0.0941948163011021,0.09327994519916993,0.09237715462663189,0.09148638587749991,0.090607573693862,0.08974064718215215,0.08888553059127892,0.08805756524341492,0.08730857655186532,0.0865689045848579,0.08583920505052368,0.08511963709319058,0.0844101313251774,0.08371052458272576,0.08302062512834006,0.08234024228646807,0.0816691983422841,0.0810073319213802,0.08035449753556982,0.07971056361980908,0.07907541017072357,0.07844892648213107,0.07783100916881718,0.07722156052530094,0.07662048720240286,0.07602769916023323,0.07544310885083637,0.0748666305865376,0.07429818005594725,0.07373767395605324,0.07318502971490069,0.0726401652845508,0.07210299898835255,0.07157344941002645,0.0710514353148536,0.07053687559543415,0.07002968923620166,0.06952979529220689,0.06903711287871966,0.068551561168998,0.06807305939819819,0.06760152687186592,0.06713688297782304,0.06667904720054965,0.06622793913736415,0.06578347851588527,0.06534558521237349,0.06491417927065302,0.06448918092138621,0.06407051060152305,0.06365808897380193,0.0632518369461924,0.0628516756912137,0.062457526665060374,0.06206931162649664,0.06168695265548079,0.06131037217148949,0.0609394929515233,0.06057423814776812,0.060214531304903035,0.059860296377032655,0.059511457744241006,0.059167940228745074,0.05882966911064749,0.05849657014327459,0.05816856956809081,0.05784559412918428,0.05752757108731412,0.05721442823351593,0.05690609390225577,0.05660249698412923,0.056303566938103684,0.05600923380329344,0.05571942821026907,0.055434081391897455,0.055153125193708435,0.05487649208378642,0.0546041151621891,0.05433592816988841,0.05407186549723704,0.0538118621919595,0.05355585396666842,0.05330377720591209,0.053055568972748726,0.05281116701485633,0.05257050977017856,0.052333536372112716,0.05210018665423959,0.0518704011546069,0.05164412111956451,0.05142128850716419,0.05120184599012232,0.05098573695835942,0.05077290552111788,0.05056329650866753,0.050356855473607375,0.05015352869176836,0.049953263162726975,0.04975600660993931,0.04956170748050118,0.04937031494454489,0.04918177889428171,0.048996049942697247,0.04881307942191207,0.04863281938121397,0.04845522258477173,0.04828024250904377,0.04810783333988471,0.04793794996936527,0.04777054799231318,0.047605583702583325,0.047443014089070396,0.04728279683146979,0.04712489029580146,0.046969253529699294,0.04681584625748509,0.04666462887502729,0.04651556244440163,0.0463686086883579,0.04622372998460584,0.046080889359926686,0.045940050484122426,0.04580117766380949,0.04566423583606531,0.04552919056194129,0.04539600801984401,0.045264654998798975,0.04513509889160247,0.045007307687869196,0.04488124996698679,0.04475689489098204,0.04463421219730765,0.04451317219155752,0.04439374574011803,0.044275904262760256,0.04415961972518437,0.04404486463151847,0.043931612016781384,0.043819835439315794,0.04370950897319569,0.043600607200616745,0.043493105204274254,0.043386978559734425,0.0432822033278047,0.043178756046908226,0.043076613725467075,0.04297575383430092,0.04287615429904395,0.04277779349258475,0.04268065022753526,0.04258470374873012,0.04248993372576446,0.04239632024556864,0.04230384380502893,0.04221248530365387,0.04212222603629096,0.04203304768589761,0.041944932316367395,0.0418578623654164,0.041771820637530904,0.04168679029697933,0.04160275486089211,0.04151969819240887,0.04143760449389751,0.04135645830024678,0.04127624447223182,0.041196948189958664,0.041118554946383834,0.041041050540916224,0.04096442107309702,0.04088865293636312,0.040813732811892704,0.04073964766253471,0.04066638472682378,0.04059393151307855,0.04052227579358876,0.04045140559888587,0.04038130921210393,0.040311975163425176,0.04024339222461431,0.04017554940364112,0.04010843593938965,0.04004204129645738,0.03997635516004023,0.039911367430906224,0.039847068220457686,0.03978344784588003,0.03972049682537702,0.03965820587349406,0.03959656589652738,0.039535567988018674,0.039475203424335775,0.03941546366033793,0.0393563403251247,0.03929782521786987,0.03923991030373594,0.03918258770987388,0.03912584972150141,0.039069688778063244,0.03901409746947126,0.03895906853242354,0.03890459484680056,0.03885066943214006,0.03879728544418731,0.038744436171520215,0.03869211503225045,0.03864031557079595,0.03858903145472772,0.03853825647168644,0.03848798452637074,0.038438209637593757,0.038388925935408984,0.03836729987868256,0.03830271476049771,0.038255235476377894,0.03820785048841551,0.0381853164488378,0.03812510136026371,0.03807915301357748,0.038033300444520135,0.038010409792586304,0.03795372116387045,0.03790928711261831,0.03786495891338005,0.03782092959629995,0.03780573523782422,0.037745175122748616,0.03770273466913251,0.03766037613041814,0.03764554497184793,0.03758771580720511,0.037546711270773,0.03750577314834472,0.03749148971530097,0.037435944959291506,0.0373963136360218,0.03735674310556337,0.03734319773358737,0.03728963446378313,0.03725133132021916,0.03721308138363854,0.03720039651746508,0.037148582251649596,0.03711155917610155,0.03707458050324746,0.03706282181616017,0.03701258094118351,0.03697678913196531,0.036941032581366315,0.03693021956586471,0.03688142643668863,0.03684681830803008,0.03683278808465975,0.03683318000358755,0.036806943527224245,0.03681805899182218,0.036782155754825595,0.03680388680874968,0.036767366776427356,0.03677540783941494,0.036756549557466975,0.03675505558114229,0.036745560479250886,0.036735597107226826,0.036735203379965775,0.036717302314032765,0.036725581794417754,0.03670012025486737,0.03671663934803516,0.036683946363346924,0.036708298878750496,0.03667302482092423,0.03668861355875094,0.036667078957360974,0.036674593214552804,0.03666033674488873,0.03666079402693503,0.036653754525359725,0.036647642965118916,0.03664754501063789,0.03663519670866855,0.03664172592766573,0.03662342334905255,0.03663627046486868,0.0366122765778787,0.03663114621451526,0.03660171303114802,0.0366263238498191,0.03659169489401039,0.036621778106386976,0.036586699576409844,0.03660524923720578,0.03658428288345593,0.0365965195502613,0.03658079395119972,0.03658769074077289,0.03657723963866048,0.03657922821118734,0.036573860964769694,0.03657121351922509,0.03657069495059482,0.036563633484855765,0.03656772971399272,0.03655645719421951,0.03656494526969998,0.03654965458750223,0.03656232307215421,0.03654319970244429,0.03655984746045011,0.03653707033481765,0.03655750528383189,0.03653124715645673,0.03655528530403929,0.03652571297032058,0.036553177713807034,0.03652045218329556,0.036551173798579355,0.0365157204274521,0.03654113288638042,0.03651571216977712,0.036536583404870045,0.03651447694860838,0.036531710572527236,0.036513033966046014,0.03652699294707729,0.03651163601682468,0.03652252458825518,0.036510330448095124,0.036518303639907164,0.036509114391351676,0.03651479573660174,0.03652205328189948,0.03650355489219099,0.036521425054824856,0.03650019310950054,0.03652005561261523,0.03649670737770217,0.036518604801669456,0.03649339354435554,0.036517226347635406,0.036490296972709106,0.03651594055965837,0.03648740320504059,0.03651473701009569,0.0364846884257006,0.03651360134379902,0.03648213129682681,0.03651252132264041,0.036479714671822684,0.03651148750665199,0.03647742499242552,0.03651049276138657,0.03647525139228657,0.03650953165996127,0.03647318495586807,0.03650860000480363,0.036472055573847965,0.036508339609266215,0.0364875050731505,0.03649044558970262,0.03648775538825961,0.03648850635337133,0.03648687050109646,0.03648625457372889,0.0364858214512032,0.03648412183151884,0.03648483322187184,0.03648217449394578,0.03648393616000339,0.03648039408637598,0.036483116871112324,0.03647978866361965,0.036496997007244035,0.03647081160387923,0.0364966766535971,0.036469577143753436,0.036495600685749835,0.0364681251120955,0.036494420629719276,0.036466748815090856,0.036493289459439,0.03646549566928247,0.03649222876337445,0.03646435456731246,0.036491229867389334,0.03646330537590416,0.03649028021684022,0.03646233047728921,0.03648936930892826,0.036474973936034855,0.036482907262047864,0.03646821144354224,0.03648294240760404,0.0364679205611168,0.036481699991052975,0.036466969593050166,0.03648032521793366,0.03646596852313793,0.03647906946923243,0.03646504600285534,0.03648034005086565,0.0364790549865533,0.036470774900308485,0.03647866978628931,0.036470063542835725,0.036477545276999424,0.0364691213169897,0.03647632909077993,0.03646823736988955,0.036475171003669635,0.03646745635696743,0.03647409039424542,0.0364667656492223,0.03647307715028595,0.036466575724381445,0.03648709110911374,0.03645950503185176,0.036486533872760685,0.03645916117235876,0.036485233484283924,0.03645855595542242,0.03648383383157238,0.03645798177750356,0.03648248734625754,0.03645748838610627,0.03648121649564368,0.036457067373291775,0.03648001351371911,0.03646348388981434,0.0364789238263265,0.03645811733941792,0.036479450795450924,0.036457588299626836,0.036478709694843646,0.036456426476077344,0.03647782099893834,0.036455228410104776,0.03647755610172527,0.03646918033114454,0.0364703923949486,0.036468505452225755,0.03646999019729765,0.03646713948005187,0.03646936820907914,0.036465709332707215,0.03646880197649311,0.036464356403638966,0.036468330256906274,0.03646309602938116,0.03646793759377911,0.036461915806524886,0.0364691921332294,0.036475902759165374,0.0364613785531254,0.036475196928486005,0.03646129061062206,0.03647375238605463,0.0364609242750653,0.03647221579142371,0.036460574442223684,0.03647074040629877,0.03646029208798408,0.036469348870913645,0.0364600695926063,0.03646803335365653,0.036463386040401176,0.036481915941260656,0.03645384722204978,0.03648109074975939,0.03645390252922604,0.03647951346890715,0.0364536655755817,0.03647784239645703,0.03645343752912183,0.036476234426888875,0.03645327158825335,0.036474713391321176,0.036459807058203904,0.03647578662770847,0.036452121402800325,0.03647657720706196,0.036451347825040496,0.03647608570852405,0.03644995193115093,0.03647604171526992,0.03646373949338345,0.0364690616362677,0.03646273877071283,0.0364687704032514,0.036461082888978105,0.03646828062176089,0.036459393625468926,0.036467859080840985,0.036457806376702255,0.03646753769543697,0.036456331762814737,0.0364673359970217,0.03647018775117022,0.036461316891811486,0.03646921514143356,0.036461333393328826,0.036467542285874247,0.03646108375257077,0.036465799510229574,0.03646085308639301,0.036464133992831944,0.036460688476850855,0.036462565588875125,0.0364605804925767,0.0364610848754605,0.036464270318301364,0.036474892455535576,0.03645466316815645,0.03647391626548204,0.036454815697008806,0.03647219744840348,0.03645467032428863,0.03647039321191762,0.03645452829482847,0.036468660091911485,0.03645444307676632,0.0364670216801976,0.03645818530402957,0.036480718064351186,0.03644863537923832,0.03647960446061033,0.036448838213018614,0.036477758413691726,0.036448749479240636,0.03647583468985773,0.03644866764862808,0.03647398824104737,0.036456413749665954,0.036471509938654716,0.036450782208737105,0.03647239310844502,0.036449741833971365,0.036472010067708345,0.03644810107220772,0.0364714742441625,0.03644645257340861,0.03647443671383046,0.03646016253274846,0.03646492923923773,0.03645909447698696,0.03646484861364331,0.03645734012278608,0.03646452590525652,0.03645553704912201,0.036464242851177116,0.036453829388596204,0.03646404028310317,0.0364522328115569,0.036467696070599964,0.0364659865373665,0.0364580571853421,0.03646492976439664,0.036458174018819504,0.03646314831118627,0.03645800355161699,0.03646129393489501,0.03645784274484943,0.03645952013613523,0.03645806972113244,0.03647317535291675,0.03645199615946678,0.03647191627181839,0.036452146710230664,0.036469971578056766,0.03645203137168928,0.03646797028692375,0.0364519337153241,0.0364660585088658,0.036451899908302776,0.03646425519406838,0.03645334842261461,0.036477877014983326,0.03644627764921309,0.036476589701468394,0.0364465228628081,0.03647459870634041,0.03644648549745359,0.03647254282597309,0.03644645592380621,0.03647057237521585,0.036446483733696196,0.03646870840630137,0.03645357403007323,0.0364695159920657,0.03644540982688361,0.0364704871577135,0.03644435117358131,0.03647016608705836,0.03644268125827808,0.03647182304527986,0.036456303071146806,0.03646356767052135,0.03645505698450657,0.036463421845767716,0.03645315857051056,0.03646306499559396,0.03645123584287664,0.036462767880785354,0.036449426095676654,0.03646256396868483,0.03644774037143179,0.03646560576749024,0.03646145043266193,0.03645663694679155,0.03646031206072997,0.03645676302410573,0.03645846153819945,0.036456605958651946,0.0364565449520773,0.036456459622050914,0.03645471391986413,0.03645646940831622,0.03646834081564056,0.0364506705014728,0.03646702752297726,0.03645083214457779,0.03646503474509141,0.036450728065103494,0.03646298914938994,0.03645064088589081,0.03646103620392621,0.03645061659803532,0.03645919463199917,0.036452199817747756,0.03647279608587766,0.036445031426933346,0.036471475246582286,0.036445283162919534,0.03646945292168633,0.03644525094217355,0.03646736789727507,0.036445225419477034,0.03646537053654465,0.036445256366234254,0.036463481882206286,0.036448752171904415,0.0364683413795377,0.03644078111791174,0.03647695904929127,0.03643981186225636,0.036474183600924776,0.036439574394461396,0.03647190064033202,0.03643959105909611,0.03646984166159508,0.03645200581889488,0.03646273798491075,0.03644623568517101,0.03646376847102944,0.03644504674064063,0.03646350303932346,0.03644324898257939,0.036463182163750926,0.036456801935871176,0.036457060904407576,0.03645541403342246,0.03645695798598165,0.03645339535429297,0.03645665195999721,0.036451361157750356,0.03645640690814208,0.036449445171578915,0.03645625451274115,0.0364476573884105,0.03645781459456407,0.0364613115987045,0.0364504646421534,0.036460061153696814,0.03645063071555032,0.036458114468666654,0.0364505187452551,0.03645610808834265,0.036450417745525425,0.036454191063454724,0.03645037630277208,0.03645238360709729,0.03645346855226951,0.0364659981506201,0.0364447434168385,0.03646472505787564,0.03644498100536406,0.03646273817758539,0.036444927718138405,0.03646068508775313,0.036444879071951417,0.03645871872988868,0.03644529111001001,0.03647223941584432,0.03643929782448627,0.036470797600119974,0.036439546069707236,0.036468676463308064,0.03643952531217382,0.03646650455885277,0.03643951902935096,0.03646442809299984,0.03643957366370288,0.036462466052000056,0.03644679659290329,0.03646271039114255,0.036438989917432905,0.03646370754845538,0.036437850237293054,0.03646341509860645,0.036436104717979735,0.036465003207690444,0.036449679331520164,0.036456902886107194,0.03644836229604423,0.036456781742311595,0.036446398031207555,0.036456448912255746,0.036444413032977026,0.03645617461926354,0.03644254430850871,0.03645599233050927,0.03644080280834354,0.03645935977095357,0.03645447403818741,0.03645012723492838,0.036453287424417634,0.03645027245859103,0.03645138967688887,0.03645013233468548,0.03644942785058356,0.036450001497289115,0.03644755397820163,0.03645060147449872,0.03646114723006855,0.03644425632853446,0.03645980063289251,0.03644443279545312,0.03645777284274211,0.03644434041810794,0.03645569319329048,0.03644426343210941,0.036453708035257514,0.036444248392192596,0.03645183633004001,0.036446668088041374,0.03646540955947976,0.03643868984376191,0.03646407019056616,0.036438952359447135,0.03646202509897246,0.0364389269818777,0.03645991728045,0.03643890674959689,0.036457898408770464,0.036438942187814634,0.03645598988134302,0.03644311699948484,0.03646951216694,0.036433464081135875,0.03646815133373655,0.03643377563032326,0.0364660700837458,0.03643379119144434,0.03646392209193973,0.036433809150751374,0.03646186215621789,0.0364453967953557,0.036456906329038925,0.03643822675800849,0.03645789959641407,0.03643701890570414,0.036457606695938775,0.03643520902631913,0.036458686198211694,0.036448740376170324,0.036451127083159306,0.03644736329545865,0.0364510183514539,0.03644534752356923,0.03645070296250939,0.03644331532418652,0.03645044834013652,0.03644140221680061,0.036450286826228556,0.036439618496901444,0.03645332678995421,0.03645326002231093,0.036444475351321774,0.03645203073235162,0.03644464028914521,0.036450094482676464,0.03644452124453453,0.036448096011553945,0.03644441158869918,0.03644618676027762,0.036444795331956166,0.036459753862466644,0.036438716674474216,0.036458371496604164,0.03643891225808624,0.036456310746396735,0.0364388396455457,0.03645419940739201],\"type\":\"scatter\"},{\"name\":\"eta=0.001\",\"y\":[2.3407517947370406,2.3325407531390705,2.3243529687921143,2.316185718026488,2.3080363960120285,2.2999025097376884,2.291781671398778,2.283671592173344,2.275564523280852,2.267544412337242,2.2595319732590244,2.251525337724787,2.243522707447187,2.235522350098789,2.22752259549905,2.219521832049406,2.2115185034039744,2.2035111053639014,2.1954981829838967,2.18747832787999,2.1794501757280305,2.1714124039429397,2.1633637295291654,2.155302907093263,2.147228727009916,2.1391400137331877,2.131035624245142,2.1229144466343954,2.1147753987975175,2.1066174272565727,2.098439506086428,2.0902406359457673,2.08201984320611,2.073776179173383,2.0655087193969033,2.0572165630609125,2.048898832454034,2.040554672512291,2.0321832504315434,2.0237837553454243,2.015355398065069,2.006897410877115,1.9984090473966363,1.989889582471848,1.9807629164371574,1.9703829930897492,1.9599524980402463,1.9494705877995064,1.9389364671974463,1.9283493901995923,1.9177086607451648,1.9070136336038497,1.896263715248361,1.885458364739817,1.8745970946229542,1.8636794718280925,1.8527051185767591,1.841673713287804,1.8305849914807764,1.8194387466733142,1.808234831269221,1.7968952483781537,1.782882275778955,1.7688494045320424,1.7547968476978895,1.7407249298304637,1.7266340843461614,1.7125248509864286,1.6983978733587988,1.6842538965420062,1.6700937647417176,1.6559184189842837,1.6417288948367654,1.6275263201422752,1.613311912760472,1.5990869783038206,1.5848529078609557,1.57061117569923,1.5563633369392356,1.542111025194776,1.5278559501724667,1.5135998952257834,1.4993447148590584,1.4850923321775455,1.470844736280334,1.4566039795934707,1.4423721751413021,1.4281514937546043,1.4139441612146777,1.3997524553331404,1.385578702967712,1.371425276974829,1.357294593100456,1.3431891068109592,1.3291113100664274,1.315063728039278,1.3010489157814582,1.2870694548439876,1.2731279498530037,1.2592270250468667,1.2453693207792456,1.231557489993475,1.2177941946737585,1.2040821022791208,1.1904238821662476,1.1768222020076222,1.1632797242115258,1.1497991023507053,1.136382977606594,1.1230339752361285,1.109754701068268,1.0965477380373612,1.0834156427605397,1.0703609421662834,1.0573861301812513,1.044493664482401,1.0316859633213007,1.0189654024273713,1.0063343119966528,0.993794973772456,0.9813496182240428,0.9690004218292017,0.9567495044663162,0.9445989269211977,0.9325506885136268,0.920606724848197,0.9087689056936746,0.8970390329947033,0.8854188390192828,0.873909984645022,0.8628686262238662,0.8527106210373159,0.8426716989121567,0.8327519712457504,0.8229514772552791,0.8132701851883515,0.8037079936719379,0.7942647331895281,0.7849401676765165,0.7757339962238806,0.7666458548803867,0.757675318543658,0.7488219029306429,0.7400850666181708,0.7314642131445104,0.7229586931630632,0.7145678066395639,0.7062908050844303,0.6981268938121762,0.690075234220097,0.6821349460787547,0.6743051098270921,0.6665847688653627,0.6589729318393818,0.6514685749099706,0.6440706440018122,0.6367780570263034,0.6295897060733412,0.6225044595673648,0.6155211643833083,0.607882235517135,0.5999654195883454,0.5921659451716377,0.5844827065638767,0.576914576887032,0.5694604092198109,0.5621190377767586,0.554889279124927,0.5477699334290161,0.5407597857166636,0.5338576071562676,0.5270621563404206,0.5203721805686599,0.5137864171238345,0.5073035945369664,0.5009224338359941,0.4946416497742956,0.4884599520353433,0.48237604641027737,0.4763886359455969,0.4704964220585381,0.4646981056180614,0.45899238798970965,0.4533779720428827,0.4478535631193726,0.44241786996226123,0.4370696056045114,0.43180748821681897,0.42663024191448334,0.42153659752324146,0.4165252933041868,0.4115950756380341,0.4067446996691373,0.40197292990978944,0.39727854080544117,0.3926603172615757,0.38811705513306194,0.3836475616768833,0.3792506559692035,0.3749251692877854,0.3706699454608291,0.36648384118332317,0.3623657263020471,0.358314484070374,0.3538936555216453,0.3487290623825064,0.34368924446672316,0.33877076579911447,0.333970308783242,0.32928466773712356,0.3247107429305269,0.3202455350818862,0.31588614027628775,0.3116297452691135,0.3074736231428228,0.30341512928702763,0.2994516976744581,0.29558083740768515,0.2918001295135505,0.28810722396416333,0.2844998369050959,0.28097574807303644,0.2775327983866388,0.27416888769571296,0.27088197267513386,0.267670064851034,0.26453122874790735,0.2614635801462392,0.2584652844411725,0.2555345550935689,0.25266965216556553,0.24986888093344561,0.24713059057127273,0.2444531728993291,0.24183506119194273,0.23927472903977726,0.23677068926211506,0.23432149286506787,0.23192572804204611,0.22958201921314544,0.2272890261004312,0.22504544283639535,0.22284999710311196,0.22070144929986393,0.21859859173722881,0.21654024785580447,0.21452527146794384,0.21255254602102316,0.21062098388091552,0.20872952563448074,0.20687713940999714,0.20506282021457184,0.2032855892876608,0.201544493469932,0.19983860458675332,0.19816701884570279,0.19652885624751557,0.1949232600099731,0.19334939600427645,0.19180645220348944,0.19029363814268072,0.18881018439043692,0.18735534203143106,0.18592838215977797,0.18452859538292163,0.18315529133582495,0.18180779820524473,0.18048546226390386,0.17918764741436588,0.1779137347424567,0.17666312208005727,0.17543522357712768,0.17422946928281094,0.17304530473548266,0.17188219056160958,0.17073960208329286,0.16961702893436573,0.16851397468492582,0.1674299564741812,0.1663645046514891,0.16531716242547434,0.16428748552110278,0.16327504184460312,0.16227941115611136,0.1613001847499294,0.1603369651422785,0.15938936576643148,0.15845701067510892,0.15753953425002276,0.15663658091844815,0.1557478048767105,0.15487286982046677,0.15401144868166788,0.15316322337207947,0.15232788453324775,0.1515051312927906,0.15069467102689857,0.14989621912892262,0.1491094987839396,0.14833424074917181,0.14757018314014766,0.14681707122248266,0.14607465720917434,0.14534270006328345,0.14462096530589957,0.14390922482926885,0.1432072567149748,0.14251484505706094,0.14183177978998393,0.14115785652128632,0.14049287636888397,0.13983664580285657,0.13918897649164047,0.13854968515251384,0.1379185934062746,0.137295527636011,0.1366803188498581,0.13607280254764806,0.13547281859135404,0.13488021107923215,0.1342948282235664,0.13371652223192856,0.13314514919185563,0.1325805689588616,0.13202264504769243,0.1314712445267383,0.13092623791552294,0.13038749908518363,0.12985490516185957,0.1293283364329176,0.12880767625592673,0.1282928109703151,0.1277836298116294,0.12728002482832865,0.12678189080103586,0.12628912516418514,0.12580162792999108,0.12531930161467833,0.12484205116690207,0.12436978389830497,0.12390240941613816,0.12343983955789777,0.12298198832790815,0.12252877183580498,0.12208010823685415,0.12163591767405936,0.12119612222200064,0.12076064583235571,0.12032941428105509,0.1199023551170189,0.11947939761243119,0.11906047271450539,0.11864551299869629,0.11823445262331353,0.11782722728549677,0.11742377417851074,0.11702403195031928,0.1166279406634006,0.11623544175576715,0.11584647800315082,0.11546099348231974,0.1150789335354942,0.11470024473582198,0.1143248748538893,0.11395277282522744,0.11358388871878983,0.11321817370636823,0.1128555800329186,0.11249606098776975,0.11213957087668676,0.11178606499476351,0.11143549960011719,0.1110878318883643,0.11074301996784713,0.11040102283559468,0.11006180035399055,0.10972531322812772,0.10939152298382937,0.10906039194631462,0.10854391615442852,0.10749115920962656,0.1064567419119868,0.10544011152211584,0.1044407466519071,0.10345815473909506,0.10249186975443987,0.10154145011883854,0.100606476809951,0.09968655163997489,0.09878129568805001,0.09789034787242215,0.09701336364897574,0.09615001382408583,0.09529998347092947,0.09446297093947065,0.09363868695130262,0.09282685377139875,0.0920272044495977,0.0912394821253577,0.09046343938993995,0.08969883770074899,0.08894544684307254,0.08820304443491654,0.08747141547105092,0.08675035190274635,0.0860396522500272,0.08533912124356126,0.084648569493579,0.08396781318346398,0.08329667378588027,0.08263497779948896,0.08198255650450557,0.08133924573549468,0.08070488566996097,0.08007932063140978,0.0794623989056945,0.07885397256955208,0.07825389733034023,0.0776620323760812,0.0770782402349809,0.07650238664368465,0.07593434042358325,0.07537397336454502,0.07482116011551229,0.07427577808143353,0.0737377073260655,0.07320683048020388,0.07268303265494981,0.07216620135964501,0.07165622642414123,0.07115299992510178,0.07065641611604787,0.07016637136089655,0.06968276407075018,0.06920549464371888,0.06873446540757601,0.06826958056506062,0.06781074614165523,0.06735786993568325,0.06691086147057852,0.06646963194919335,0.06603409421001964,0.06560416268521065,0.06517975336029237,0.06476078373546892,0.06434717278843013,0.06393884093857441,0.0635357100125682,0.06313770321116995,0.06274474507724856,0.062356761464933005,0.061973679509833214,0.06159542760027863,0.061221935349519,0.06085313356884465,0.06048895424157341,0.06012933049787106,0.0597741965903562,0.059423487870460194,0.05907714076550368,0.05873509275645588,0.0583972823563496,0.05806364908931943,0.05773413347024036,0.05740867698493461,0.05708722207093087,0.056769712098745255,0.056456091353669885,0.05614630501804144,0.05584029915397784,0.05553802068656019,0.055239417387443646,0.054944437858883484,0.05465303151815735,0.05436514858237284,0.05408074005364345,0.053799757704622204,0.05352215406437908,0.0532478824046111,0.0529768967261733,0.05270915174592042,0.05244460288384878,0.0521832062505295,0.05192491863482092,0.05166969749185624,0.05141750093129204,0.05116828770581592,0.05092201719989974,0.05067864941879441,0.050438144977759294,0.050200465091516794,0.04996557156392912,0.049733426777887675,0.04950399368541152,0.049277235797948286,0.049053117176870935,0.048831602424168265,0.0486126566733194,0.048396245580351445,0.04818233531507438,0.04797089255248611,0.04776188446434821,0.04755527871092382,0.04735104343287443,0.04714914724331471,0.04694955922001676,0.0467522488977642,0.04655718626085034,0.0463643417357178,0.04617368618373499,0.045985190894109344,0.04579882757693017,0.04561456835634137,0.04543238576383889,0.04525225273169185,0.04507414258648314,0.0448980290427678,0.04472388619684576,0.04455168852064791,0.04438141085573092,0.044213028407380464,0.04404651673881934,0.04388185176551867,0.04371900974960941,0.04355796729439421,0.043398701338954,0.04324118915285022,0.04308540833092035,0.04293133678816327,0.04277895275471369,0.042628234770904674,0.042479161682415056,0.04233171263550038,0.04218586707230612,0.04204160472626215,0.041898905617554556,0.04175775004867618,0.04161811860005196,0.04147999212573987,0.04134335174920335,0.041208178859156334,0.04107445510547816,0.040942162395196616,0.040811282888540364,0.040681798995054745,0.04055369336978559,0.040426948909524515,0.040301548749118406,0.04017747625783873,0.0400547150358129,0.039933248910513246,0.039813061933305534,0.03969413837605226,0.03957646272777535,0.03946001969136989,0.03934479418037513,0.039230771315795866,0.03911793642297806,0.03900627502853378,0.03889577285731705,0.0387864158294494,0.03867819005739251,0.03857108184306984,0.03846507767503355,0.03836016422567867,0.038256328348501026,0.03815355707539983,0.03805183761402446,0.037951157345162405,0.037851503820170954,0.03775286475844831,0.03765522804494669,0.03755858172772412,0.037462914015536315,0.03736821327546579,0.03727446803058988,0.03718166695768494,0.0370897988849678,0.03699885278987216,0.036908817796861525,0.036819683175274724,0.03673143833720798,0.03664407283542785,0.036557576361319455,0.0364719387428649,0.036387149942654934,0.03630320005593105,0.036220079308658955,0.036137778055631196,0.036056286778600795,0.03597559608444248,0.03589569670334423,0.0358165794870259,0.03573823540698602,0.03566065555277541,0.03558383113029838,0.035507753460139846,0.03543241397591804,0.03535780422266344,0.03528391585522212,0.035210740636684015,0.03513827043683581,0.03506649723063678,0.03499541309671904,0.03492501021591036,0.0348552808697791,0.034786217439203265,0.034717812402959486,0.0346500583363343,0.03458294790975759,0.03451647388745547,0.03445062912612472,0.0343854065736269,0.03432079926770228,0.034256800334704345,0.034193402988351995,0.03413060052850178,0.034068386339938604,0.034006753891184065,0.03394569673332396,0.03388520849885245,0.033825282900534215,0.03376591373028364,0.03370709485806123,0.033648820230786025,0.0335910838712646,0.03353387987713662,0.033477202419835705,0.03342104574356592,0.033365404164293594,0.03331027206875465,0.03325564391347626,0.03320151422381334,0.03314787759299934,0.033094728681211445,0.033042062214649066,0.03298987298462689,0.03293815584668083,0.032886905719687304,0.0328361175849956,0.03278578648557356,0.03273590752516515,0.032686475867460894,0.03263748673528087,0.03258893540976877,0.03254081722959935,0.03249312759019624,0.032445861942961327,0.03239901579451674,0.032352584705956686,0.032306564292110505,0.03226095022081709,0.03221573821220947,0.032170924038009745,0.03212650352083466,0.03208247253351138,0.032038826998402964,0.031995562886743566,0.03195267621798396,0.03191016305914563,0.031868019524185526,0.03182624177336845,0.031784826012650196,0.031743768493068196,0.03170306551014213,0.03166271340328234,0.031622708555207574,0.0315830473913703,0.031543726379391006,0.03150474202850046,0.03146609088898982,0.0314277695516687,0.031389774647331135,0.03135210284622938,0.0313147508575548,0.03127771542892685,0.03124099334588816,0.03120458143140883,0.031168476545395483,0.031132675584209492,0.031097175480190253,0.03106197320118663,0.031027065750094285,0.03099245016439993,0.030958123515731708,0.030924082909416582,0.030890325484043257,0.030856848411031864,0.03082364889420939,0.030790724169391416,0.03075807150396946,0.030725688196504418,0.03069357157632555,0.030661719003134934,0.03063012786661801,0.030598795586059303,0.030567719609963573,0.030536897415682066,0.030506326509044276,0.030476004423994892,0.030445928722235772,0.030416096992872697,0.030386506852067337,0.030357155942694034,0.03032804193400106,0.03029916252127739,0.03027051542552269,0.030242098393123983,0.030213909195534197,0.030185945628957753,0.03015820551403855,0.030130686695553563,0.030103387042109665,0.03007630444584564,0.030049436822137364,0.03002278210930778,0.029996338268340438,0.029970103282597124,0.029944075157539482,0.029918251920454077,0.029892631620181808,0.029867212326850644,0.029841992131611747,0.029816969146380067,0.029792141503577587,0.02976750735588085,0.029743064875970747,0.02971881225628762,0.02969474770878766,0.029670869464703663,0.029647175774309666,0.029623664906686865,0.029600335149494703,0.029577184808743943,0.029554212208572975,0.02953141569102763,0.029508793615842875,0.02948634436022902,0.02946406631865929,0.029441957902661242,0.02942001754061049,0.029398243677527566,0.029376634774877123,0.029355189310370053,0.029333905777768395,0.029312782686692296,0.029291818562430218,0.029271011945751445,0.02925036139272078,0.02922986547451611,0.02920952277724822,0.029189331901782824,0.029169291463565738,0.029149400092449165,0.029153228802652566,0.029124481480809653,0.02912938271556905,0.029099857709625417,0.029106077074473036,0.029075513230298233,0.029083273783966457,0.029051435357327186,0.029060939804044353,0.029043555395802126,0.029023074013274888,0.02902213691707894,0.028999526249857188,0.029001097894692397,0.028976214739217777,0.028980420394260496,0.028953134647918752,0.028960088316714372,0.028930281724246106,0.02894008713662594,0.028924257395650965,0.028903726835475953,0.028904944222984983,0.028881307978524565,0.02888591416654907,0.028859107763133995,0.028867158570880073,0.028852163533530654,0.028833537158300674,0.02883399621937222,0.028811742334629954,0.028816070636554204,0.02879016218978297,0.02879838120355774,0.028784082896296467,0.028765525886568253,0.02876691158923668,0.028744332663409696,0.028749952489828697,0.028723351445204104,0.028733201710342784,0.028719500601452633,0.028699613991593573,0.028703216023646186,0.028679005078132258,0.028687121236012806,0.028673853191387065,0.028655836750369947,0.028658187773721686,0.028635595670068324,0.02864269714503351,0.028615564046474796,0.02862737894108771,0.028614579057877024,0.028593252998113303,0.028599658221619598,0.028573574943946092,0.028584897124732986,0.02857245369034337,0.02855179943993136,0.02855806425448416,0.02853247099095974,0.028543823737466542,0.028531707375279183,0.028511222101754344,0.02851781671962336,0.028492238556814098,0.028504065517274992,0.02849225152423197,0.02847150660073239,0.02847883134670147,0.028452862548561844,0.02846554217410703,0.028454009460224725,0.02843263711478635,0.028441034775266306,0.02842972932914675,0.02841261873621701,0.028417053000832384,0.028394441530401313,0.028404494703123496,0.02839343159996432,0.02837492529903437,0.02838115935022123,0.028357079553044104,0.028368998673906708,0.02835816536413707,0.02833805092862207,0.028346279373318573,0.0283356430667804,0.028319213229264804,0.02832401910209416,0.028301814387563705,0.02831249656331831,0.02830206205491932,0.02828345627626545,0.028290792639330153,0.02826637545633287,0.028279619237224485,0.02826937856061915,0.0282484801599458,0.028258449792655013,0.028248384737283184,0.028230757941194996,0.028237689946826385,0.02821409859823971,0.02822708268609075,0.028217189662649342,0.02819682961167177,0.028206809552161816,0.02819707907403387,0.02817972565554756,0.028186916704117517,0.028163477352032916,0.028176834214354022,0.028167257975208485,0.02814681457574966,0.02815738759287356,0.02814796317067466,0.02813030797115552,0.028138296393456576,0.028114458146630925,0.028128702491891457,0.02811941736875755,0.028098379249098856,0.028110022351332156,0.028100880018689444,0.028082447276567144,0.028091676071993567,0.02808266889961277,0.02806666503616857,0.028073649041850637,0.028051300030375006,0.02806469340281861,0.028055803342300314,0.028035935358150244,0.028047028392219987,0.02803826753306664,0.028020709103402045,0.028029666587029413,0.028021028366312595,0.028005623723047116,0.02801259540137668,0.02799072715208172,0.02800421888620881,0.027995680547674352,0.027976045339990055,0.02798746951487685,0.027979049769733796,0.02796149214494028,0.02797099829448642,0.027962691269463037,0.02794706991874797,0.027954793994653594,0.02793262151962056,0.027946946116757795,0.027938724957380087,0.027918587234747237,0.027931029465929402,0.027922918263204855,0.02790467137894962,0.027915369785882847,0.027907363139377427,0.027890876340944056,0.02789995681535852,0.027892049931221453,0.027877203901601203,0.027884781313286144,0.027863265928648174,0.02787755425187236,0.02786971551853209,0.0278499677190716,0.027862625156507784,0.02785488533635747,0.02783677822838049,0.02784792705027325,0.027840281450222628,0.027823699644667143,0.027833451036877333,0.027825895481590753,0.027810733595016627,0.02781918907940942,0.02779728001357323,0.027812517204379102,0.027805016076058345,0.027784671980671218,0.027798467803233664,0.027791057017588237,0.02777216229060051,0.02778462823094122,0.027777303533208744,0.027759753152818957,0.02777099048990742,0.02776374809710104,0.027747446238113968,0.027757547357615677,0.027750383882085797,0.027735242747176883,0.027744292257410774,0.027737204645258827,0.02772314347443265,0.027731219156577513,0.027710291388134023,0.027725259865957294,0.0277182074735256,0.027698535797931467,0.027712354639472615,0.02770538037815567,0.027686868449976577,0.027699630654646475,0.027692731028854743,0.027675291241816034,0.02768708135414185,0.02768025324673099,0.0276638056000966,0.027674700791974236,0.02766794140405974,0.027652412543907365,0.02766248353433998,0.02765579033656845,0.027641112742366226,0.027650424580929468,0.027643795273728736,0.02762990656600558,0.027638519301862362,0.02761768252736208,0.027633261463950398,0.027626650861017673,0.02760680209791615,0.027621483726671073,0.027614940636796557,0.027595998530435813,0.027609861453592986,0.02760338292975041,0.027585273620778852,0.027598389175439938,0.027591972590722116,0.027574628738007204,0.02758706193194116,0.0275807049287799,0.02756406488319543,0.027575875189683408,0.027569575638656328,0.027553582742288904,0.027564824776785613,0.02755858074295775],\"type\":\"scatter\"},{\"name\":\"fixed\",\"y\":[9.486885115821568,9.444244630466336,9.401942731300506,9.359975734283184,9.31834000740971,9.277031969792908,9.236048090763754,9.195384888990828,9.155038931618199,9.115006833421212,9.07528525597986,9.035870906869198,8.99676053886647,8.957950949174549,8.919438978661253,8.881221511114218,8.843295472510915,8.805657830303522,8.768305592718203,8.731235808068549,8.694445564082816,8.657931987244634,8.621692242146876,8.5857235308584,8.550023092303356,8.514588201652769,8.479416169728136,8.444504342416716,8.409850100098323,8.375450857083278,8.341304061061347,8.307407192561335,8.273757764421198,8.240353321268342,8.207191439009911,8.1742697243329,8.141585814213798,8.109137375437568,8.076922104125806,8.044937725273815,8.013181992296431,7.981652686582407,7.950347617057179,7.919264619753798,7.888401557391886,7.857756318964426,7.82732681933222,7.797110998825851,7.767106822855001,7.737312281524928,7.707725389260005,7.678344184434136,7.6491667290079075,7.620191108172336,7.591415429999075,7.562837825096948,7.534456446274671,7.506269468209641,7.478275087122646,7.450471520458396,7.422857006571754,7.395429804419535,7.36818819325775,7.341130472344224,7.314254960646441,7.287559996554513,7.261043937599188,7.234705160174776,7.208542059266898,7.182553048184988,7.156736558299392,7.131091038783029,7.105614956357485,7.080306795043501,7.0551650559156975,7.030188256861501,7.005374932344179,6.980723633169917,6.956232926258789,6.931901394419649,6.907727636128806,6.883710265312387,6.859847911132365,6.836139217776182,6.812582844249834,6.789177464174432,6.765921765586105,6.742814450739252,6.71985423591297,6.697039851220726,6.6743700404231365,6.651843560743762,6.629459182687973,6.607215689864713,6.5851118788111584,6.563146558820245,6.541318551770937,6.519626691961253,6.49806982594396,6.476646812364899,6.455356521803892,6.434197836618183,6.413169650788367,6.392270869766745,6.371500410328093,6.350857200422757,6.330340179032101,6.309948296026165,6.289680512023582,6.269535798253674,6.2495131364206875,6.229611518570125,6.209829946957178,6.190167433917139,6.170623001737866,6.151195682534145,6.131884518124026,6.112688559907017,6.093606868744145,6.074638514839841,6.0557825776256005,6.037038145645428,6.018404316442982,5.999880196450437,5.981464900879001,5.96315755361107,5.944957287094017,5.926863242235518,5.908874568300465,5.8909904228094145,5.873209971438496,5.855532387920834,5.837956853949406,5.820482559081316,5.803108700643485,5.785834483639709,5.768659120659061,5.751581831785649,5.734601844509655,5.717718393639669,5.700930721216293,5.68423807642698,5.667639715522086,5.651134901732153,5.634722905186333,5.618403002832007,5.602174478355525,5.586036622104078,5.569988731008672,5.554030108508193,5.538160064474528,5.522377915138754,5.506682983018336,5.491074596845376,5.475552091495827,5.4601148079197115,5.444762093072303,5.429493299846251,5.414307787004659,5.399204919115075,5.3841840664843765,5.369244605094565,5.354580476285798,5.340363174877893,5.326219805271507,5.312149847415734,5.298152785530699,5.284228108064241,5.270375307649121,5.256593881060765,5.242883329175547,5.229243156929578,5.215672873278014,5.202171991154865,5.188740027433299,5.1753765028864445,5.162080942148663,5.148852873677301,5.135691829714918,5.122597346251964,5.10956896298992,5.096606223304884,5.0837086742115964,5.0708758663279045,5.058107353839656,5.045402694466012,5.032761449425182,5.02018318340057,5.0076674645073105,4.995213864259229,4.9828219575361805,4.970491322551775,4.95822154082149,4.946012197131167,4.933862879505865,4.921773179179096,4.909742690562407,4.897771011215332,4.885857741815686,4.874002486130217,4.862204850985584,4.8504644462396875,4.8387808847533185,4.82715378236215,4.815582757849046,4.804067432916671,4.792607432160461,4.781202383041845,4.769851915861817,4.758555663734799,4.747313262562788,4.736124351009814,4.724988570476677,4.7139055650759785,4.702874981607419,4.6918964695334004,4.680969680954873,4.670094270587476,4.659269895737931,4.648496216280713,4.637772894634963,4.627099595741675,4.6164759870411265,4.605901738450558,4.595376522342111,4.584900013520987,4.574471889203875,4.564091828997596,4.553759514877975,4.5434746311689755,4.533236864522028,4.523045903895601,4.512901440534994,4.502803167952336,4.492750781906823,4.482743980385146,4.472782463582141,4.462865933881647,4.4529940958375755,4.443166656155161,4.433383323672434,4.423643809341882,4.413947826212309,4.404295089410879,4.394685316125365,4.3851182255865675,4.375593539050935,4.366110979783356,4.356670273040135,4.347271146052152,4.337913328008191,4.328596550038442,4.319320545198186,4.310085048451637,4.300889796655957,4.291734528545435,4.282618984715834,4.273542907608891,4.264506041496985,4.25550813246796,4.246548928410098,4.237628178997251,4.228745635674125,4.2199010516417195,4.211094181842889,4.202324782948096,4.193592613341256,4.184897433105774,4.176239004010685,4.167617089496959,4.159031454663924,4.150481866255842,4.141968092648607,4.133489903836583,4.125047071419567,4.116639368589886,4.108266570119632,4.099928452347995,4.091624793168749,4.0833553720178495,4.075119969861161,4.066918369182285,4.0587503539705345,4.050615709709007,4.042514223362783,4.034445683367234,4.026409879616447,4.018406603451766,4.010435647650431,4.002496806414347,3.994589875358941,3.9867146515021403,3.978870933253451,3.971058520403146,3.963277214111543,3.9555268168984075,3.9478071326324367,3.940117966520852,3.932459125099096,3.92483041622061,3.917231649046732,3.9096626340366694,3.9021231829375735,3.8946131087747173,3.887132225841748,3.87968034969104,3.872257297124146,3.8648628861823195,3.857496936137146,3.850159267481238,3.84284970191904,3.835568062357704,3.828314172898051,3.821087858825626,3.81388894660182,3.806717263855089,3.799572639372239,3.7924549030898054,3.785363886085498,3.7782994205697373,3.771261339877256,3.7642494784587823,3.757263671872803,3.75030375677739,3.7433695709221153,3.736460953140023,3.729577743339692,3.7227197824973484,3.7158869126490752,3.7090789768830614,3.7022958193319457,3.6955372851652215,3.6888032205816987,3.6820934728020487,3.675407890061402,3.6687463216020286,3.662108617666055,3.6554946294882784,3.6489042092890247,3.642337210267068,3.6357934865926214,3.629272893400389,3.6227752867826677,3.6163005237825243,3.6098484623870206,3.603418961520505,3.5970118810379548,3.5906270817183814,3.584264425258299,3.57792377426523,3.5716049922512907,3.5653079436268142,3.559032493694032,3.552778508640824,3.546545855534497,3.5403344023156396,3.5341440177920145,3.527974571632505,3.5218259343611265,3.515697977351071,3.5095905728188104,3.5035035938182517,3.497436914234932,3.4913904087802794,3.4853639529859026,3.4793574231979436,3.4733706965714686,3.4674036510649127,3.4614561654345626,3.4555281192290965,3.4496193927841587,3.4437298672169843,3.4378594244210685,3.4320079470608813,3.4261753185666235,3.4203614231290236,3.4145661456941854,3.4087893719584668,3.403030988363416,3.3972908820907324,3.3915689410572782,3.3858650539101323,3.3801791100216794,3.374510999484737,3.3688606131077306,3.3632278424099042,3.3576125796165655,3.352014717654373,3.346434150146662,3.3408707714088064,3.3353244764436156,3.329795160936779,3.324282721252329,3.3187870544281584,3.31330805817156,3.307845630854811,3.3023996715107855,3.296970079828607,3.2915567561493337,3.2861596014616783,3.2807785173977533,3.2754134062288682,3.2700641708613456,3.264730714832366,3.259412942305864,3.254110758068437,3.2488240675252986,3.243552776696258,3.238296792211728,3.2330560213087733,3.227830371827182,3.222619752205569,3.2174240714775064,3.2122432392676967,3.207077165788154,3.2019257618344366,3.1967889387818933,3.191666608581946,3.186558683758396,3.1814650774037614,3.1763857031756455,3.171320475293123,3.166269308533164,3.1612321182270815,3.1562088202570013,3.151199331052365,3.1462035675864612,3.1412214473729634,3.136252888462529,3.1312978094393884,3.126356129417981,3.121427768039612,3.116512645469125,3.1116106823916145,3.1067218000091517,3.1018459200375363,3.096982964703078,3.092132856739393,3.087295519384233,3.0824708763763295,3.07765885195227,3.072859370843388,3.068072358272681,3.0632977399517514,3.0585354420777677,3.0537853913304476,3.0490475148690668,3.0443217403294813,3.0396079958211852,3.034906209924371,3.0302163116870275,3.0255382306220526,3.020871896704385,3.016217240368157,3.0115741925038715,3.0069426844555953,3.0023226480181737,2.997714015434465,2.993116719392592,2.9885306930232214,2.9839558698968514,2.9793921840211257,2.9748395698381667,2.9702979622219186,2.9657672964755233,2.961247508328705,2.9567385339351704,2.952240309870041,2.9477527731272875,2.9432758611171903,2.9388095116638193,2.934353663002526,2.9299082537774512,2.9254732230390643,2.921048510241698,2.91663405524112,2.9122297982921044,2.907835680046036,2.903451641548519,2.899077624237005,2.8947135699384385,2.890359420866922,2.886015119621389,2.881680609183298,2.877355832914341,2.8730407345541686,2.8687352582181274,2.8644393483950163,2.8601529499448555,2.8558760080966707,2.8516084684462943,2.847350276954177,2.8431013799432168,2.8388617240966054,2.8346312564556837,2.8304099244178107,2.826197675734254,2.821994458508087,2.8178002211921043,2.8136149125867442,2.8094384818380367,2.805270878435553,2.801112052210375,2.796961953333075,2.7928205323117137,2.7886877399898413,2.7845635275445253,2.7804478464843765,2.7763406486475963,2.772241886200041,2.7681515116332838,2.764069477762706,2.7599957377255864,2.755930244979209,2.7518729532989923,2.7478238167766076,2.743782789818132,2.7397498271422,2.7357248837781714,2.731707915064311,2.7276988766459778,2.7236977244738267,2.719704414802022,2.7157189041864602,2.711741149483006,2.70777110784574,2.703808736725214,2.6998539938667196,2.6959068373085677,2.691967225380376,2.6880351167013714,2.6841104701787,2.6801932450057464,2.676283400660467,2.6723808969037304,2.6684856937776704,2.6645977516040436,2.660717030982608,2.656843492789498,2.65297709817562,2.649117808565053,2.6452655856534566,2.6414203914064953,2.6375821880582655,2.6337509381097366,2.6299266043271996,2.6261091497407265,2.6222985376426307,2.618494731585954,2.6146976953829455,2.6109073931035542,2.607123789073939,2.6033468478749744,2.599576534340777,2.595812813557229,2.5920556508605266,2.5883050118357103,2.58456086231524,2.580823168377545,2.577091896345598,2.573367012785503,2.569648484505077,2.5659362785524475,2.5622303622146596,2.5585307030162907,2.5548372687180656,2.5511500273154932,2.547468947037495,2.5437939963450575,2.5401251439298784,2.5364623587130315,2.532805609843631,2.529154866697507,2.5255100988758907,2.5218712762040996,2.518238368730243,2.514611346723918,2.510990180674927,2.5073748412919965,2.5037652995015005,2.5001615264462,2.4965634934839755,2.4929711721865826,2.4893845343384005,2.485803551935199,2.4822281971829017,2.478658442496363,2.4750942604981505,2.4715356240173336,2.4679825060882776,2.4644348799494478,2.4608927190422123,2.4573559970096643,2.453824687695437,2.4502987651425325,2.4467782035921606,2.443262977482571,2.439753061447908,2.436248430317054,2.432749059112499,2.4292549230491955,2.425765997533436,2.4222822581617263,2.4188036807196713,2.4153302411808646,2.411861915705776,2.4083986806406616,2.4049405125164665,2.4014873880477348,2.398039284131531,2.3945961778463607,2.3911580464511015,2.387724867383939,2.3842966182613043,2.380873276876822,2.3774548212002626,2.3740412293764943,2.3706324797244522,2.367228550736101,2.363829421075409,2.3604350695773295,2.3570454752467778,2.3536606172576264,2.3502804749516955,2.3469050278377512,2.3435342555905154,2.3401681380496644,2.3368066552188567,2.3334497872647386,2.3300975145159772,2.3267498174622885,2.3234066767534687,2.320068073198433,2.3167339877642634,2.313404401575253,2.3100792959119607,2.3067586522102705,2.3034424520604517,2.300130677206228,2.2968233095438495,2.2935203311211683,2.2902217241367206,2.286927470938814,2.283637554024613,2.2803519560392367,2.277070659774861,2.273793648169817,2.270520904307702,2.2672524114164903,2.263988152867652,2.260728112175271,2.257472272995176,2.2542206191240606,2.250973134498628,2.2477298031947197,2.2444906094264656,2.241255537545423,2.238024572039733,2.2347976975332724,2.2315748987848107,2.2283561606871762,2.2251414682664215,2.221930806680992,2.2187241612209054,2.215521517306924,2.2123228604897425,2.2091281764491715,2.205937450993329,2.202750670057834,2.199567819705007,2.1963888861230645,2.1932138556253338,2.190042714649456,2.186875449756603,2.1837120476306895,2.1805524950775985,2.1773967790244004,2.1742448865185864,2.1710968047272945,2.167952520936548,2.164812022550495,2.161675297090643,2.158542332195114,2.1554131156178893,2.1522876352280598,2.14916587900909,2.1460478350580647,2.1429334915849676,2.139822836911934,2.1367158594725306,2.133612547811022,2.13051289058165,2.1274168765479153,2.124324494581858,2.1212357336633456,2.1181505828793594,2.1150690314232965,2.1119910685942553,2.108916683796341,2.1058458665379707,2.102778606431173,2.0997148931909018,2.0966547166343457,2.093598066680249,2.0905449333482236,2.087495306758074,2.084449177129125,2.08143177337482,2.0784433275395933,2.0754582642793395,2.072476574811287,2.0694982504410637,2.0665232825620996,2.063551662655037,2.060583382287142,2.057618433111717,2.0546568068675106,2.0516984953781447,2.0487434905515274,2.0457917843792797,2.0428433689361607,2.03989823637949,2.0369563789485916,2.0340177889642104,2.031082458827957,2.028150381021744,2.025221548107226,2.022295952725241,2.0193735875952554,2.0164544455148135,2.0135385193589843,2.0106258020798156,2.0077162867057874,2.0048099663412717,2.0019068341659865,1.9990068834344585,1.9961101074754957,1.993216499691638,1.9903260535586398,1.9874387626249324,1.9845546205111015,1.981673620909359,1.978795757583024,1.9759210243660015,1.9730494151622628,1.9701809239453325,1.967315544757774,1.9644532717106775,1.961594098983155,1.9587380208218284,1.9558850315403271,1.9530351255187854,1.9501882972033486,1.9473445411056622,1.9445038518023876,1.9416662239347047,1.9388316522078197,1.9360001313904773,1.9331716563144703,1.9303462218741614,1.9275238230259952,1.9247044547880157,1.9218881122393945,1.9190747905199488,1.9162644848296688,1.913457190428247,1.910652902634605,1.907851616826427,1.9050533284396949,1.9022580329682222,1.8994657259631944,1.896676403032707,1.8938900598413093,1.8911066921095483,1.8883262956135136,1.8855488661843887,1.882774399707999,1.880002892124364,1.8772343394272548,1.8744687376637446,1.8717060829337753,1.8689463713897096,1.8661895992358992,1.8634357627282456,1.8606848581737696,1.8579368819301771,1.8551918304054298,1.8524497000573192,1.8497104873930368,1.8469741889687554,1.8442408013892022,1.8415103213072435,1.8387827454234638,1.8360580704857483,1.8333362932888717,1.830617410674085,1.827901419528704,1.8251883167857015,1.8224780994233007,1.8197707644645709,1.8170663089770238,1.8143647300722128,1.8116660249053333,1.8089701906748281,1.8062772246219885,1.803587124030563,1.8008998862263648,1.7982155085768816,1.7955339884908914,1.7928553234180682,1.7901795108486078,1.7875065483128383,1.784836433380841,1.782169163662073,1.77950473680499,1.776843150496669,1.7741844024624385,1.7715284904655026,1.7688754123065769,1.7662251658235142,1.763577748890942,1.7609331594199005,1.758291395357471,1.755652454686428,1.7530163354248673,1.7503830356258596,1.7477525533770863,1.7451248868004912,1.7425000340519257,1.7398779933208006,1.7372587628297358,1.7346423408342155,1.7320287256222409,1.729417915513987,1.7268099088614632,1.724204704048173,1.721602299488773,1.7190026936287408,1.7164058849440345,1.7138118719407673,1.71122065315487,1.708632227151764,1.7060465925260322,1.7034637479010948,1.7008836919288832,1.6983064232895173,1.6957319406909832,1.6931602428688173,1.6905913285857856,1.6880251966315682,1.6854618458224442,1.6829012750009793,1.6803434830357167,1.6777884688208644,1.6752362312759892,1.6726867693457088,1.670140081999392,1.6675961682308482,1.6650550270580324,1.6625166575227426,1.659981058690323,1.6574482296493658,1.6549181695114192,1.6523908774106928,1.649866352503765,1.647344593969294,1.6448256010077293,1.6423093728410263,1.6397959087123581,1.6372852078858349,1.6347772696462195,1.6322720932986505,1.6297696781683597,1.627270023600397,1.6247731289593539,1.622278993629089,1.6197876170124572,1.6172989985310373,1.614813137624864,1.6123300337521562,1.6098496863890566,1.6073720950293626,1.604897259184264,1.6024251783820829,1.5999558521680124,1.5974892801038556,1.5950254617677748,1.5925643967540302,1.5901060846727268,1.5876505251495658,1.585197717825588,1.5827476623569303,1.5803003584145714,1.5778558056840901,1.5754140038654199,1.5729749526726033,1.5705386518335507,1.5681051010898022,1.5656743001962843,1.5632462489210766,1.5608209470451748,1.5583983943622535,1.5559785906784365,1.5535615358120631,1.5511472295934596,1.5487356718647083,1.5463268624794226,1.543920801302521,1.541517488210002,1.5391169230887203,1.5367191058361689,1.534324036360254,1.5319317145790818,1.5295421404207372,1.5271553138230707,1.5247712347334839,1.5223899031087142,1.5200113189146265,1.5176354821260019,1.5152623927263307,1.5128920507076005,1.510524456070096,1.508159608822192,1.5057975089801514,1.5034381565679213,1.5010815516169351,1.498727694165915,1.49637658426067,1.494028221953904,1.4916826073050193,1.4893397403799242,1.4869996212508396,1.4846622499961095,1.4823276267000132,1.4799957514525737,1.477666624349375,1.4753402454913749,1.4730166149847201,1.470695732940568,1.4683775994749007,1.466062214708348,1.463749578766008,1.461439691777271,1.459132553875641,1.4568281651985655,1.4545265258872566,1.4522276360865254,1.4499314959446057,1.447638105612989,1.4453474652462552,1.4430595750019037,1.440774435040191,1.438492045523965,1.4362124066185025,1.4339355184913471,1.4316613813121521,1.4293899952525153,1.4271213604858273,1.4248554771871103,1.4225923455328673,1.4203319657009248,1.4180743378702814,1.4158194622209566,1.4135673389338381,1.4113179681905377,1.4090713501732381,1.40682748506455,1.4045863730473656,1.4023480143047136,1.4001124090196186,1.397879557374958,1.3956494595533204,1.3934221157368687,1.3911975261072016,1.3889756908452144,1.3867566101309672,1.3845402841435468,1.3823267130609358,1.38011589705988,1.3779078363157555,1.3757025310024433,1.3734999812921966,1.3713001873555148,1.3691031493610182,1.3669088674753225,1.3647173418629126,1.3625285726860232,1.3603425601045165,1.358159304275759,1.355978805354505,1.3538010634927782,1.3516260788397525,1.349453851541639,1.3472843817415676,1.3451176695794773,1.3429537151919992,1.34079251871235,1.3386340802702161,1.336478399991649,1.334325477998955],\"type\":\"scatter\"}],                        {\"template\":{\"data\":{\"bar\":[{\"error_x\":{\"color\":\"#2a3f5f\"},\"error_y\":{\"color\":\"#2a3f5f\"},\"marker\":{\"line\":{\"color\":\"#E5ECF6\",\"width\":0.5},\"pattern\":{\"fillmode\":\"overlay\",\"size\":10,\"solidity\":0.2}},\"type\":\"bar\"}],\"barpolar\":[{\"marker\":{\"line\":{\"color\":\"#E5ECF6\",\"width\":0.5},\"pattern\":{\"fillmode\":\"overlay\",\"size\":10,\"solidity\":0.2}},\"type\":\"barpolar\"}],\"carpet\":[{\"aaxis\":{\"endlinecolor\":\"#2a3f5f\",\"gridcolor\":\"white\",\"linecolor\":\"white\",\"minorgridcolor\":\"white\",\"startlinecolor\":\"#2a3f5f\"},\"baxis\":{\"endlinecolor\":\"#2a3f5f\",\"gridcolor\":\"white\",\"linecolor\":\"white\",\"minorgridcolor\":\"white\",\"startlinecolor\":\"#2a3f5f\"},\"type\":\"carpet\"}],\"choropleth\":[{\"colorbar\":{\"outlinewidth\":0,\"ticks\":\"\"},\"type\":\"choropleth\"}],\"contour\":[{\"colorbar\":{\"outlinewidth\":0,\"ticks\":\"\"},\"colorscale\":[[0.0,\"#0d0887\"],[0.1111111111111111,\"#46039f\"],[0.2222222222222222,\"#7201a8\"],[0.3333333333333333,\"#9c179e\"],[0.4444444444444444,\"#bd3786\"],[0.5555555555555556,\"#d8576b\"],[0.6666666666666666,\"#ed7953\"],[0.7777777777777778,\"#fb9f3a\"],[0.8888888888888888,\"#fdca26\"],[1.0,\"#f0f921\"]],\"type\":\"contour\"}],\"contourcarpet\":[{\"colorbar\":{\"outlinewidth\":0,\"ticks\":\"\"},\"type\":\"contourcarpet\"}],\"heatmap\":[{\"colorbar\":{\"outlinewidth\":0,\"ticks\":\"\"},\"colorscale\":[[0.0,\"#0d0887\"],[0.1111111111111111,\"#46039f\"],[0.2222222222222222,\"#7201a8\"],[0.3333333333333333,\"#9c179e\"],[0.4444444444444444,\"#bd3786\"],[0.5555555555555556,\"#d8576b\"],[0.6666666666666666,\"#ed7953\"],[0.7777777777777778,\"#fb9f3a\"],[0.8888888888888888,\"#fdca26\"],[1.0,\"#f0f921\"]],\"type\":\"heatmap\"}],\"heatmapgl\":[{\"colorbar\":{\"outlinewidth\":0,\"ticks\":\"\"},\"colorscale\":[[0.0,\"#0d0887\"],[0.1111111111111111,\"#46039f\"],[0.2222222222222222,\"#7201a8\"],[0.3333333333333333,\"#9c179e\"],[0.4444444444444444,\"#bd3786\"],[0.5555555555555556,\"#d8576b\"],[0.6666666666666666,\"#ed7953\"],[0.7777777777777778,\"#fb9f3a\"],[0.8888888888888888,\"#fdca26\"],[1.0,\"#f0f921\"]],\"type\":\"heatmapgl\"}],\"histogram\":[{\"marker\":{\"pattern\":{\"fillmode\":\"overlay\",\"size\":10,\"solidity\":0.2}},\"type\":\"histogram\"}],\"histogram2d\":[{\"colorbar\":{\"outlinewidth\":0,\"ticks\":\"\"},\"colorscale\":[[0.0,\"#0d0887\"],[0.1111111111111111,\"#46039f\"],[0.2222222222222222,\"#7201a8\"],[0.3333333333333333,\"#9c179e\"],[0.4444444444444444,\"#bd3786\"],[0.5555555555555556,\"#d8576b\"],[0.6666666666666666,\"#ed7953\"],[0.7777777777777778,\"#fb9f3a\"],[0.8888888888888888,\"#fdca26\"],[1.0,\"#f0f921\"]],\"type\":\"histogram2d\"}],\"histogram2dcontour\":[{\"colorbar\":{\"outlinewidth\":0,\"ticks\":\"\"},\"colorscale\":[[0.0,\"#0d0887\"],[0.1111111111111111,\"#46039f\"],[0.2222222222222222,\"#7201a8\"],[0.3333333333333333,\"#9c179e\"],[0.4444444444444444,\"#bd3786\"],[0.5555555555555556,\"#d8576b\"],[0.6666666666666666,\"#ed7953\"],[0.7777777777777778,\"#fb9f3a\"],[0.8888888888888888,\"#fdca26\"],[1.0,\"#f0f921\"]],\"type\":\"histogram2dcontour\"}],\"mesh3d\":[{\"colorbar\":{\"outlinewidth\":0,\"ticks\":\"\"},\"type\":\"mesh3d\"}],\"parcoords\":[{\"line\":{\"colorbar\":{\"outlinewidth\":0,\"ticks\":\"\"}},\"type\":\"parcoords\"}],\"pie\":[{\"automargin\":true,\"type\":\"pie\"}],\"scatter\":[{\"marker\":{\"colorbar\":{\"outlinewidth\":0,\"ticks\":\"\"}},\"type\":\"scatter\"}],\"scatter3d\":[{\"line\":{\"colorbar\":{\"outlinewidth\":0,\"ticks\":\"\"}},\"marker\":{\"colorbar\":{\"outlinewidth\":0,\"ticks\":\"\"}},\"type\":\"scatter3d\"}],\"scattercarpet\":[{\"marker\":{\"colorbar\":{\"outlinewidth\":0,\"ticks\":\"\"}},\"type\":\"scattercarpet\"}],\"scattergeo\":[{\"marker\":{\"colorbar\":{\"outlinewidth\":0,\"ticks\":\"\"}},\"type\":\"scattergeo\"}],\"scattergl\":[{\"marker\":{\"colorbar\":{\"outlinewidth\":0,\"ticks\":\"\"}},\"type\":\"scattergl\"}],\"scattermapbox\":[{\"marker\":{\"colorbar\":{\"outlinewidth\":0,\"ticks\":\"\"}},\"type\":\"scattermapbox\"}],\"scatterpolar\":[{\"marker\":{\"colorbar\":{\"outlinewidth\":0,\"ticks\":\"\"}},\"type\":\"scatterpolar\"}],\"scatterpolargl\":[{\"marker\":{\"colorbar\":{\"outlinewidth\":0,\"ticks\":\"\"}},\"type\":\"scatterpolargl\"}],\"scatterternary\":[{\"marker\":{\"colorbar\":{\"outlinewidth\":0,\"ticks\":\"\"}},\"type\":\"scatterternary\"}],\"surface\":[{\"colorbar\":{\"outlinewidth\":0,\"ticks\":\"\"},\"colorscale\":[[0.0,\"#0d0887\"],[0.1111111111111111,\"#46039f\"],[0.2222222222222222,\"#7201a8\"],[0.3333333333333333,\"#9c179e\"],[0.4444444444444444,\"#bd3786\"],[0.5555555555555556,\"#d8576b\"],[0.6666666666666666,\"#ed7953\"],[0.7777777777777778,\"#fb9f3a\"],[0.8888888888888888,\"#fdca26\"],[1.0,\"#f0f921\"]],\"type\":\"surface\"}],\"table\":[{\"cells\":{\"fill\":{\"color\":\"#EBF0F8\"},\"line\":{\"color\":\"white\"}},\"header\":{\"fill\":{\"color\":\"#C8D4E3\"},\"line\":{\"color\":\"white\"}},\"type\":\"table\"}]},\"layout\":{\"annotationdefaults\":{\"arrowcolor\":\"#2a3f5f\",\"arrowhead\":0,\"arrowwidth\":1},\"autotypenumbers\":\"strict\",\"coloraxis\":{\"colorbar\":{\"outlinewidth\":0,\"ticks\":\"\"}},\"colorscale\":{\"diverging\":[[0,\"#8e0152\"],[0.1,\"#c51b7d\"],[0.2,\"#de77ae\"],[0.3,\"#f1b6da\"],[0.4,\"#fde0ef\"],[0.5,\"#f7f7f7\"],[0.6,\"#e6f5d0\"],[0.7,\"#b8e186\"],[0.8,\"#7fbc41\"],[0.9,\"#4d9221\"],[1,\"#276419\"]],\"sequential\":[[0.0,\"#0d0887\"],[0.1111111111111111,\"#46039f\"],[0.2222222222222222,\"#7201a8\"],[0.3333333333333333,\"#9c179e\"],[0.4444444444444444,\"#bd3786\"],[0.5555555555555556,\"#d8576b\"],[0.6666666666666666,\"#ed7953\"],[0.7777777777777778,\"#fb9f3a\"],[0.8888888888888888,\"#fdca26\"],[1.0,\"#f0f921\"]],\"sequentialminus\":[[0.0,\"#0d0887\"],[0.1111111111111111,\"#46039f\"],[0.2222222222222222,\"#7201a8\"],[0.3333333333333333,\"#9c179e\"],[0.4444444444444444,\"#bd3786\"],[0.5555555555555556,\"#d8576b\"],[0.6666666666666666,\"#ed7953\"],[0.7777777777777778,\"#fb9f3a\"],[0.8888888888888888,\"#fdca26\"],[1.0,\"#f0f921\"]]},\"colorway\":[\"#636efa\",\"#EF553B\",\"#00cc96\",\"#ab63fa\",\"#FFA15A\",\"#19d3f3\",\"#FF6692\",\"#B6E880\",\"#FF97FF\",\"#FECB52\"],\"font\":{\"color\":\"#2a3f5f\"},\"geo\":{\"bgcolor\":\"white\",\"lakecolor\":\"white\",\"landcolor\":\"#E5ECF6\",\"showlakes\":true,\"showland\":true,\"subunitcolor\":\"white\"},\"hoverlabel\":{\"align\":\"left\"},\"hovermode\":\"closest\",\"mapbox\":{\"style\":\"light\"},\"paper_bgcolor\":\"white\",\"plot_bgcolor\":\"#E5ECF6\",\"polar\":{\"angularaxis\":{\"gridcolor\":\"white\",\"linecolor\":\"white\",\"ticks\":\"\"},\"bgcolor\":\"#E5ECF6\",\"radialaxis\":{\"gridcolor\":\"white\",\"linecolor\":\"white\",\"ticks\":\"\"}},\"scene\":{\"xaxis\":{\"backgroundcolor\":\"#E5ECF6\",\"gridcolor\":\"white\",\"gridwidth\":2,\"linecolor\":\"white\",\"showbackground\":true,\"ticks\":\"\",\"zerolinecolor\":\"white\"},\"yaxis\":{\"backgroundcolor\":\"#E5ECF6\",\"gridcolor\":\"white\",\"gridwidth\":2,\"linecolor\":\"white\",\"showbackground\":true,\"ticks\":\"\",\"zerolinecolor\":\"white\"},\"zaxis\":{\"backgroundcolor\":\"#E5ECF6\",\"gridcolor\":\"white\",\"gridwidth\":2,\"linecolor\":\"white\",\"showbackground\":true,\"ticks\":\"\",\"zerolinecolor\":\"white\"}},\"shapedefaults\":{\"line\":{\"color\":\"#2a3f5f\"}},\"ternary\":{\"aaxis\":{\"gridcolor\":\"white\",\"linecolor\":\"white\",\"ticks\":\"\"},\"baxis\":{\"gridcolor\":\"white\",\"linecolor\":\"white\",\"ticks\":\"\"},\"bgcolor\":\"#E5ECF6\",\"caxis\":{\"gridcolor\":\"white\",\"linecolor\":\"white\",\"ticks\":\"\"}},\"title\":{\"x\":0.05},\"xaxis\":{\"automargin\":true,\"gridcolor\":\"white\",\"linecolor\":\"white\",\"ticks\":\"\",\"title\":{\"standoff\":15},\"zerolinecolor\":\"white\",\"zerolinewidth\":2},\"yaxis\":{\"automargin\":true,\"gridcolor\":\"white\",\"linecolor\":\"white\",\"ticks\":\"\",\"title\":{\"standoff\":15},\"zerolinecolor\":\"white\",\"zerolinewidth\":2}}},\"yaxis\":{\"range\":[0,1]}},                        {\"responsive\": true}                    ).then(function(){\n",
              "                            \n",
              "var gd = document.getElementById('037be118-fabf-4f1c-8488-078cc646dd62');\n",
              "var x = new MutationObserver(function (mutations, observer) {{\n",
              "        var display = window.getComputedStyle(gd).display;\n",
              "        if (!display || display === 'none') {{\n",
              "            console.log([gd, 'removed!']);\n",
              "            Plotly.purge(gd);\n",
              "            observer.disconnect();\n",
              "        }}\n",
              "}});\n",
              "\n",
              "// Listen for the removal of the full notebook cells\n",
              "var notebookContainer = gd.closest('#notebook-container');\n",
              "if (notebookContainer) {{\n",
              "    x.observe(notebookContainer, {childList: true});\n",
              "}}\n",
              "\n",
              "// Listen for the clearing of the current output cell\n",
              "var outputEl = gd.closest('.output');\n",
              "if (outputEl) {{\n",
              "    x.observe(outputEl, {childList: true});\n",
              "}}\n",
              "\n",
              "                        })                };                            </script>        </div>\n",
              "</body>\n",
              "</html>"
            ]
          },
          "metadata": {}
        }
      ]
    },
    {
      "cell_type": "markdown",
      "source": [
        "# model fixation"
      ],
      "metadata": {
        "id": "z58CRm6zxKui"
      }
    },
    {
      "cell_type": "code",
      "source": [
        "reg1.printWeights()"
      ],
      "metadata": {
        "id": "T3wX1FuGSt_v",
        "colab": {
          "base_uri": "https://localhost:8080/"
        },
        "outputId": "0dd00e6b-e800-4ea3-d3a1-24208c198109"
      },
      "execution_count": 234,
      "outputs": [
        {
          "output_type": "stream",
          "name": "stdout",
          "text": [
            "\n",
            "Layer 0 is the Input Layer\n",
            "Layer 1 Neuron 0 : [ 1.56446122 -0.16142885 -0.41573885] mrelu\n",
            "Layer 1 Neuron 1 : [-0.91917005  0.26932202 -0.0269946 ] mrelu\n",
            "Layer 2 Neuron 0 : [ 1.18817235 -0.33208351 -0.45033722] linear\n",
            "\n"
          ]
        }
      ]
    },
    {
      "cell_type": "code",
      "source": [
        "reg2.weight_history[-1]"
      ],
      "metadata": {
        "colab": {
          "base_uri": "https://localhost:8080/"
        },
        "id": "zYV1lNgpe2ng",
        "outputId": "d155bf1f-4d92-498c-eb7c-717bdc0de93c"
      },
      "execution_count": 235,
      "outputs": [
        {
          "output_type": "execute_result",
          "data": {
            "text/plain": [
              "[[[1.4106222508530821, -0.15216369611325525, -0.5251792157211558],\n",
              "  [-0.38777417797905417, 0.0861523982455459, 0.7642008900347037]],\n",
              " [[1.1066013204408893, -0.8373151441213467, 0.2276434534999552]]]"
            ]
          },
          "metadata": {},
          "execution_count": 235
        }
      ]
    },
    {
      "cell_type": "code",
      "source": [
        "fixed_weights=[[[1.4106222508530821, -0.15216369611325525, -0.5251792157211558],\n",
        "  [-0.38777417797905417, 0.0861523982455459, 0.7642008900347037]],\n",
        " [[1.1066013204408893, -0.8373151441213467, 0.2276434534999552]]]\n",
        "fixed_MSE=0.02755858074295775"
      ],
      "metadata": {
        "id": "uGcGMA0MfPcj"
      },
      "execution_count": 236,
      "outputs": []
    },
    {
      "cell_type": "markdown",
      "source": [
        "# predictions"
      ],
      "metadata": {
        "id": "tPnnvI92iUO_"
      }
    },
    {
      "cell_type": "code",
      "source": [
        "# chosen_model=reg_fixed\n",
        "chosen_model=reg2"
      ],
      "metadata": {
        "id": "ON-F6RZrthgz"
      },
      "execution_count": 246,
      "outputs": []
    },
    {
      "cell_type": "code",
      "source": [
        "predics=scaler_y.inverse_transform([chosen_model.predict(np.array(X_sc))])[0]\n",
        "errors=(predics-data.f)/data.f*100"
      ],
      "metadata": {
        "id": "8AoV4wNJfYEL"
      },
      "execution_count": 247,
      "outputs": []
    },
    {
      "cell_type": "markdown",
      "source": [
        "## mesh"
      ],
      "metadata": {
        "id": "FChTiw_VSJ-u"
      }
    },
    {
      "cell_type": "code",
      "source": [
        "pip install doepy"
      ],
      "metadata": {
        "colab": {
          "base_uri": "https://localhost:8080/"
        },
        "id": "9atYGPpzSLR2",
        "outputId": "d16ee8c3-3a4c-4177-ea10-0efde85b0aa6"
      },
      "execution_count": 248,
      "outputs": [
        {
          "output_type": "stream",
          "name": "stdout",
          "text": [
            "Requirement already satisfied: doepy in /usr/local/lib/python3.7/dist-packages (0.0.1)\n",
            "Requirement already satisfied: numpy in /usr/local/lib/python3.7/dist-packages (from doepy) (1.21.5)\n",
            "Requirement already satisfied: diversipy in /usr/local/lib/python3.7/dist-packages (from doepy) (0.8)\n",
            "Requirement already satisfied: pandas in /usr/local/lib/python3.7/dist-packages (from doepy) (1.3.5)\n",
            "Requirement already satisfied: pyDOE in /usr/local/lib/python3.7/dist-packages (from doepy) (0.3.8)\n",
            "Requirement already satisfied: scipy in /usr/local/lib/python3.7/dist-packages (from diversipy->doepy) (1.4.1)\n",
            "Requirement already satisfied: pytz>=2017.3 in /usr/local/lib/python3.7/dist-packages (from pandas->doepy) (2018.9)\n",
            "Requirement already satisfied: python-dateutil>=2.7.3 in /usr/local/lib/python3.7/dist-packages (from pandas->doepy) (2.8.2)\n",
            "Requirement already satisfied: six>=1.5 in /usr/local/lib/python3.7/dist-packages (from python-dateutil>=2.7.3->pandas->doepy) (1.15.0)\n"
          ]
        }
      ]
    },
    {
      "cell_type": "code",
      "source": [
        "from doepy import build"
      ],
      "metadata": {
        "id": "VP0NluGTSMeW"
      },
      "execution_count": 249,
      "outputs": []
    },
    {
      "cell_type": "code",
      "source": [
        "list1={'x1':np.linspace(0, 1, 11),'x2':np.linspace(0, 1, 11)}\n",
        "mesh_data=build.full_fact(list1)\n",
        "display(mesh_data[:5])"
      ],
      "metadata": {
        "colab": {
          "base_uri": "https://localhost:8080/",
          "height": 206
        },
        "id": "Mnlg9m73ST9o",
        "outputId": "5127b932-781c-4a2b-a230-66692d3aef49"
      },
      "execution_count": 250,
      "outputs": [
        {
          "output_type": "display_data",
          "data": {
            "text/plain": [
              "    x1   x2\n",
              "0  0.0  0.0\n",
              "1  0.1  0.0\n",
              "2  0.2  0.0\n",
              "3  0.3  0.0\n",
              "4  0.4  0.0"
            ],
            "text/html": [
              "\n",
              "  <div id=\"df-bd391e9d-e6dd-4ec7-8ce3-16f4006af828\">\n",
              "    <div class=\"colab-df-container\">\n",
              "      <div>\n",
              "<style scoped>\n",
              "    .dataframe tbody tr th:only-of-type {\n",
              "        vertical-align: middle;\n",
              "    }\n",
              "\n",
              "    .dataframe tbody tr th {\n",
              "        vertical-align: top;\n",
              "    }\n",
              "\n",
              "    .dataframe thead th {\n",
              "        text-align: right;\n",
              "    }\n",
              "</style>\n",
              "<table border=\"1\" class=\"dataframe\">\n",
              "  <thead>\n",
              "    <tr style=\"text-align: right;\">\n",
              "      <th></th>\n",
              "      <th>x1</th>\n",
              "      <th>x2</th>\n",
              "    </tr>\n",
              "  </thead>\n",
              "  <tbody>\n",
              "    <tr>\n",
              "      <th>0</th>\n",
              "      <td>0.0</td>\n",
              "      <td>0.0</td>\n",
              "    </tr>\n",
              "    <tr>\n",
              "      <th>1</th>\n",
              "      <td>0.1</td>\n",
              "      <td>0.0</td>\n",
              "    </tr>\n",
              "    <tr>\n",
              "      <th>2</th>\n",
              "      <td>0.2</td>\n",
              "      <td>0.0</td>\n",
              "    </tr>\n",
              "    <tr>\n",
              "      <th>3</th>\n",
              "      <td>0.3</td>\n",
              "      <td>0.0</td>\n",
              "    </tr>\n",
              "    <tr>\n",
              "      <th>4</th>\n",
              "      <td>0.4</td>\n",
              "      <td>0.0</td>\n",
              "    </tr>\n",
              "  </tbody>\n",
              "</table>\n",
              "</div>\n",
              "      <button class=\"colab-df-convert\" onclick=\"convertToInteractive('df-bd391e9d-e6dd-4ec7-8ce3-16f4006af828')\"\n",
              "              title=\"Convert this dataframe to an interactive table.\"\n",
              "              style=\"display:none;\">\n",
              "        \n",
              "  <svg xmlns=\"http://www.w3.org/2000/svg\" height=\"24px\"viewBox=\"0 0 24 24\"\n",
              "       width=\"24px\">\n",
              "    <path d=\"M0 0h24v24H0V0z\" fill=\"none\"/>\n",
              "    <path d=\"M18.56 5.44l.94 2.06.94-2.06 2.06-.94-2.06-.94-.94-2.06-.94 2.06-2.06.94zm-11 1L8.5 8.5l.94-2.06 2.06-.94-2.06-.94L8.5 2.5l-.94 2.06-2.06.94zm10 10l.94 2.06.94-2.06 2.06-.94-2.06-.94-.94-2.06-.94 2.06-2.06.94z\"/><path d=\"M17.41 7.96l-1.37-1.37c-.4-.4-.92-.59-1.43-.59-.52 0-1.04.2-1.43.59L10.3 9.45l-7.72 7.72c-.78.78-.78 2.05 0 2.83L4 21.41c.39.39.9.59 1.41.59.51 0 1.02-.2 1.41-.59l7.78-7.78 2.81-2.81c.8-.78.8-2.07 0-2.86zM5.41 20L4 18.59l7.72-7.72 1.47 1.35L5.41 20z\"/>\n",
              "  </svg>\n",
              "      </button>\n",
              "      \n",
              "  <style>\n",
              "    .colab-df-container {\n",
              "      display:flex;\n",
              "      flex-wrap:wrap;\n",
              "      gap: 12px;\n",
              "    }\n",
              "\n",
              "    .colab-df-convert {\n",
              "      background-color: #E8F0FE;\n",
              "      border: none;\n",
              "      border-radius: 50%;\n",
              "      cursor: pointer;\n",
              "      display: none;\n",
              "      fill: #1967D2;\n",
              "      height: 32px;\n",
              "      padding: 0 0 0 0;\n",
              "      width: 32px;\n",
              "    }\n",
              "\n",
              "    .colab-df-convert:hover {\n",
              "      background-color: #E2EBFA;\n",
              "      box-shadow: 0px 1px 2px rgba(60, 64, 67, 0.3), 0px 1px 3px 1px rgba(60, 64, 67, 0.15);\n",
              "      fill: #174EA6;\n",
              "    }\n",
              "\n",
              "    [theme=dark] .colab-df-convert {\n",
              "      background-color: #3B4455;\n",
              "      fill: #D2E3FC;\n",
              "    }\n",
              "\n",
              "    [theme=dark] .colab-df-convert:hover {\n",
              "      background-color: #434B5C;\n",
              "      box-shadow: 0px 1px 3px 1px rgba(0, 0, 0, 0.15);\n",
              "      filter: drop-shadow(0px 1px 2px rgba(0, 0, 0, 0.3));\n",
              "      fill: #FFFFFF;\n",
              "    }\n",
              "  </style>\n",
              "\n",
              "      <script>\n",
              "        const buttonEl =\n",
              "          document.querySelector('#df-bd391e9d-e6dd-4ec7-8ce3-16f4006af828 button.colab-df-convert');\n",
              "        buttonEl.style.display =\n",
              "          google.colab.kernel.accessAllowed ? 'block' : 'none';\n",
              "\n",
              "        async function convertToInteractive(key) {\n",
              "          const element = document.querySelector('#df-bd391e9d-e6dd-4ec7-8ce3-16f4006af828');\n",
              "          const dataTable =\n",
              "            await google.colab.kernel.invokeFunction('convertToInteractive',\n",
              "                                                     [key], {});\n",
              "          if (!dataTable) return;\n",
              "\n",
              "          const docLinkHtml = 'Like what you see? Visit the ' +\n",
              "            '<a target=\"_blank\" href=https://colab.research.google.com/notebooks/data_table.ipynb>data table notebook</a>'\n",
              "            + ' to learn more about interactive tables.';\n",
              "          element.innerHTML = '';\n",
              "          dataTable['output_type'] = 'display_data';\n",
              "          await google.colab.output.renderOutput(dataTable, element);\n",
              "          const docLink = document.createElement('div');\n",
              "          docLink.innerHTML = docLinkHtml;\n",
              "          element.appendChild(docLink);\n",
              "        }\n",
              "      </script>\n",
              "    </div>\n",
              "  </div>\n",
              "  "
            ]
          },
          "metadata": {}
        }
      ]
    },
    {
      "cell_type": "code",
      "source": [
        "mesh_sc=scaler_X.transform(mesh_data[['x1','x2']])\n",
        "mesh_predics=scaler_y.inverse_transform([chosen_model.predict(np.array(mesh_sc))])[0]"
      ],
      "metadata": {
        "id": "FYuovnEuT8Pq"
      },
      "execution_count": 251,
      "outputs": []
    },
    {
      "cell_type": "markdown",
      "source": [
        "## plot"
      ],
      "metadata": {
        "id": "HCgw1y3ISKaO"
      }
    },
    {
      "cell_type": "code",
      "source": [
        "fig_predic=go.Figure()\n",
        "fig_predic.add_trace(go.Scatter3d(x=data.x1, y=data.x2, z=data.f, mode='markers', name='data'))\n",
        "fig_predic.add_trace(go.Scatter3d(x=data.x1, y=data.x2, z=predics, mode='markers', name='predics'))\n",
        "fig_predic.add_trace(go.Scatter3d(x=mesh_data.x1, y=mesh_data.x2, z=mesh_predics, mode='markers', marker_size=2, name='mesh-predics'))\n",
        "x=np.linspace(0, 1, 11)\n",
        "y=np.linspace(0, 1, 11)\n",
        "x, y = np.meshgrid(x,y)\n",
        "z=x**3-.2*y+5\n",
        "fig_predic.add_trace(go.Surface(x=x, y=y, z=z, colorbar_x=0, opacity=0.5,))\n",
        "# fig_predic.update_scenes(camera_projection_type=\"orthographic\")\n",
        "\n",
        "fig_predic.show()"
      ],
      "metadata": {
        "colab": {
          "base_uri": "https://localhost:8080/",
          "height": 542
        },
        "id": "UJ2CPxnqNSeE",
        "outputId": "8db03bb2-6cdb-48b4-cff0-7972cf0bd49e"
      },
      "execution_count": 252,
      "outputs": [
        {
          "output_type": "display_data",
          "data": {
            "text/html": [
              "<html>\n",
              "<head><meta charset=\"utf-8\" /></head>\n",
              "<body>\n",
              "    <div>            <script src=\"https://cdnjs.cloudflare.com/ajax/libs/mathjax/2.7.5/MathJax.js?config=TeX-AMS-MML_SVG\"></script><script type=\"text/javascript\">if (window.MathJax) {MathJax.Hub.Config({SVG: {font: \"STIX-Web\"}});}</script>                <script type=\"text/javascript\">window.PlotlyConfig = {MathJaxConfig: 'local'};</script>\n",
              "        <script src=\"https://cdn.plot.ly/plotly-2.8.3.min.js\"></script>                <div id=\"1be7ec4b-139f-41df-9b2e-587e37a6eef6\" class=\"plotly-graph-div\" style=\"height:525px; width:100%;\"></div>            <script type=\"text/javascript\">                                    window.PLOTLYENV=window.PLOTLYENV || {};                                    if (document.getElementById(\"1be7ec4b-139f-41df-9b2e-587e37a6eef6\")) {                    Plotly.newPlot(                        \"1be7ec4b-139f-41df-9b2e-587e37a6eef6\",                        [{\"mode\":\"markers\",\"name\":\"data\",\"x\":[0.32,0.99,0.77,0.69,0.04,0.37,0.25,0.44,0.42,0.64,0.8],\"y\":[0.4,0.23,0.22,0.57,0.78,0.69,0.2,0.45,0.17,0.98,0.96],\"z\":[4.952768,5.924299,5.412533,5.214509,4.844064,4.912653,4.975625,4.995184,5.040088,5.066144,5.32],\"type\":\"scatter3d\"},{\"mode\":\"markers\",\"name\":\"predics\",\"x\":[0.32,0.99,0.77,0.69,0.04,0.37,0.25,0.44,0.42,0.64,0.8],\"y\":[0.4,0.23,0.22,0.57,0.78,0.69,0.2,0.45,0.17,0.98,0.96],\"z\":[4.964893827789055,5.905101240338501,5.448578673694743,5.1955958466619965,4.83627651398641,4.961468169700887,4.95449663243891,5.004316682217905,5.017782436397187,5.037078435808707,5.329197847376009],\"type\":\"scatter3d\"},{\"marker\":{\"size\":2},\"mode\":\"markers\",\"name\":\"mesh-predics\",\"x\":[0.0,0.10000000149011612,0.20000000298023224,0.30000001192092896,0.4000000059604645,0.5,0.6000000238418579,0.699999988079071,0.800000011920929,0.8999999761581421,1.0,0.0,0.10000000149011612,0.20000000298023224,0.30000001192092896,0.4000000059604645,0.5,0.6000000238418579,0.699999988079071,0.800000011920929,0.8999999761581421,1.0,0.0,0.10000000149011612,0.20000000298023224,0.30000001192092896,0.4000000059604645,0.5,0.6000000238418579,0.699999988079071,0.800000011920929,0.8999999761581421,1.0,0.0,0.10000000149011612,0.20000000298023224,0.30000001192092896,0.4000000059604645,0.5,0.6000000238418579,0.699999988079071,0.800000011920929,0.8999999761581421,1.0,0.0,0.10000000149011612,0.20000000298023224,0.30000001192092896,0.4000000059604645,0.5,0.6000000238418579,0.699999988079071,0.800000011920929,0.8999999761581421,1.0,0.0,0.10000000149011612,0.20000000298023224,0.30000001192092896,0.4000000059604645,0.5,0.6000000238418579,0.699999988079071,0.800000011920929,0.8999999761581421,1.0,0.0,0.10000000149011612,0.20000000298023224,0.30000001192092896,0.4000000059604645,0.5,0.6000000238418579,0.699999988079071,0.800000011920929,0.8999999761581421,1.0,0.0,0.10000000149011612,0.20000000298023224,0.30000001192092896,0.4000000059604645,0.5,0.6000000238418579,0.699999988079071,0.800000011920929,0.8999999761581421,1.0,0.0,0.10000000149011612,0.20000000298023224,0.30000001192092896,0.4000000059604645,0.5,0.6000000238418579,0.699999988079071,0.800000011920929,0.8999999761581421,1.0,0.0,0.10000000149011612,0.20000000298023224,0.30000001192092896,0.4000000059604645,0.5,0.6000000238418579,0.699999988079071,0.800000011920929,0.8999999761581421,1.0,0.0,0.10000000149011612,0.20000000298023224,0.30000001192092896,0.4000000059604645,0.5,0.6000000238418579,0.699999988079071,0.800000011920929,0.8999999761581421,1.0],\"y\":[0.0,0.0,0.0,0.0,0.0,0.0,0.0,0.0,0.0,0.0,0.0,0.10000000149011612,0.10000000149011612,0.10000000149011612,0.10000000149011612,0.10000000149011612,0.10000000149011612,0.10000000149011612,0.10000000149011612,0.10000000149011612,0.10000000149011612,0.10000000149011612,0.20000000298023224,0.20000000298023224,0.20000000298023224,0.20000000298023224,0.20000000298023224,0.20000000298023224,0.20000000298023224,0.20000000298023224,0.20000000298023224,0.20000000298023224,0.20000000298023224,0.30000001192092896,0.30000001192092896,0.30000001192092896,0.30000001192092896,0.30000001192092896,0.30000001192092896,0.30000001192092896,0.30000001192092896,0.30000001192092896,0.30000001192092896,0.30000001192092896,0.4000000059604645,0.4000000059604645,0.4000000059604645,0.4000000059604645,0.4000000059604645,0.4000000059604645,0.4000000059604645,0.4000000059604645,0.4000000059604645,0.4000000059604645,0.4000000059604645,0.5,0.5,0.5,0.5,0.5,0.5,0.5,0.5,0.5,0.5,0.5,0.6000000238418579,0.6000000238418579,0.6000000238418579,0.6000000238418579,0.6000000238418579,0.6000000238418579,0.6000000238418579,0.6000000238418579,0.6000000238418579,0.6000000238418579,0.6000000238418579,0.699999988079071,0.699999988079071,0.699999988079071,0.699999988079071,0.699999988079071,0.699999988079071,0.699999988079071,0.699999988079071,0.699999988079071,0.699999988079071,0.699999988079071,0.800000011920929,0.800000011920929,0.800000011920929,0.800000011920929,0.800000011920929,0.800000011920929,0.800000011920929,0.800000011920929,0.800000011920929,0.800000011920929,0.800000011920929,0.8999999761581421,0.8999999761581421,0.8999999761581421,0.8999999761581421,0.8999999761581421,0.8999999761581421,0.8999999761581421,0.8999999761581421,0.8999999761581421,0.8999999761581421,0.8999999761581421,1.0,1.0,1.0,1.0,1.0,1.0,1.0,1.0,1.0,1.0,1.0],\"z\":[4.879433692574534,4.915359108831336,4.9512845250881385,4.9872099470736035,5.023135363330406,5.059060781019374,5.147986294602179,5.356628997744971,5.565271800698199,5.773914470570846,5.961969147760274,4.8720583920326925,4.907983808289495,4.943909224546298,4.979834646531762,5.015760062788564,5.051685480477532,5.123395256335194,5.3320379594779865,5.540680762431214,5.749323432303861,5.944753410035131,4.864683094036343,4.900608510293146,4.936533926549948,4.972459348535413,5.008384764792215,5.0443101824811825,5.098804226555496,5.307446929698288,5.5160897326515155,5.724732402524163,5.927537678251782,4.857307794767247,4.893233211024049,4.929158627280852,4.965084049266316,5.0010094655231185,5.036934883212087,5.074213192532154,5.282855895674946,5.491498698628174,5.700141368500821,5.908784171454049,4.849932495498152,4.885857911754954,4.921783328011756,4.957708749997221,4.993634166254023,5.029559583942992,5.065485010224953,5.258264861651605,5.4669076646048325,5.67555033447748,5.8841931374307075,4.8425571963086025,4.878482612565405,4.914408028822207,4.950333450807672,4.986258867064475,5.022184284753442,5.058109711035404,5.23367382789349,5.442316630846718,5.650959300719365,5.859602103672593,4.835181895050841,4.871107311307644,4.907032727564446,4.942958149549911,4.978883565806713,5.014808983495681,5.050734409777642,5.209082787239456,5.417725590192684,5.626368260065331,5.835011063018559,4.827806598963611,4.863732015220413,4.899657431477215,4.93558285346268,4.971508269719482,5.00743368740845,5.0433591136904115,5.184491763825223,5.393134566778451,5.601777236651097,5.810420039604326,4.820431295876277,4.8563567121330795,4.892282128389882,4.928207550375347,4.964132966632149,5.000058384321116,5.035983810603079,5.159900717070951,5.368543520024179,5.5771861898968265,5.785828992850054,4.813056000425419,4.848981416682221,4.8849068329390235,4.9208322549244885,4.956757671181291,4.992683088870259,5.028608515152221,5.135309695778539,5.343952498731768,5.552595168604414,5.761237971557642,4.805680697338086,4.841606113594888,4.877531529851691,4.913456951837155,4.949382368093958,4.9853077857829255,5.021233212064887,5.110718649024268,5.319361451977496,5.528004121850143,5.73664692480337],\"type\":\"scatter3d\"},{\"colorbar\":{\"x\":0},\"opacity\":0.5,\"x\":[[0.0,0.1,0.2,0.30000000000000004,0.4,0.5,0.6000000000000001,0.7000000000000001,0.8,0.9,1.0],[0.0,0.1,0.2,0.30000000000000004,0.4,0.5,0.6000000000000001,0.7000000000000001,0.8,0.9,1.0],[0.0,0.1,0.2,0.30000000000000004,0.4,0.5,0.6000000000000001,0.7000000000000001,0.8,0.9,1.0],[0.0,0.1,0.2,0.30000000000000004,0.4,0.5,0.6000000000000001,0.7000000000000001,0.8,0.9,1.0],[0.0,0.1,0.2,0.30000000000000004,0.4,0.5,0.6000000000000001,0.7000000000000001,0.8,0.9,1.0],[0.0,0.1,0.2,0.30000000000000004,0.4,0.5,0.6000000000000001,0.7000000000000001,0.8,0.9,1.0],[0.0,0.1,0.2,0.30000000000000004,0.4,0.5,0.6000000000000001,0.7000000000000001,0.8,0.9,1.0],[0.0,0.1,0.2,0.30000000000000004,0.4,0.5,0.6000000000000001,0.7000000000000001,0.8,0.9,1.0],[0.0,0.1,0.2,0.30000000000000004,0.4,0.5,0.6000000000000001,0.7000000000000001,0.8,0.9,1.0],[0.0,0.1,0.2,0.30000000000000004,0.4,0.5,0.6000000000000001,0.7000000000000001,0.8,0.9,1.0],[0.0,0.1,0.2,0.30000000000000004,0.4,0.5,0.6000000000000001,0.7000000000000001,0.8,0.9,1.0]],\"y\":[[0.0,0.0,0.0,0.0,0.0,0.0,0.0,0.0,0.0,0.0,0.0],[0.1,0.1,0.1,0.1,0.1,0.1,0.1,0.1,0.1,0.1,0.1],[0.2,0.2,0.2,0.2,0.2,0.2,0.2,0.2,0.2,0.2,0.2],[0.30000000000000004,0.30000000000000004,0.30000000000000004,0.30000000000000004,0.30000000000000004,0.30000000000000004,0.30000000000000004,0.30000000000000004,0.30000000000000004,0.30000000000000004,0.30000000000000004],[0.4,0.4,0.4,0.4,0.4,0.4,0.4,0.4,0.4,0.4,0.4],[0.5,0.5,0.5,0.5,0.5,0.5,0.5,0.5,0.5,0.5,0.5],[0.6000000000000001,0.6000000000000001,0.6000000000000001,0.6000000000000001,0.6000000000000001,0.6000000000000001,0.6000000000000001,0.6000000000000001,0.6000000000000001,0.6000000000000001,0.6000000000000001],[0.7000000000000001,0.7000000000000001,0.7000000000000001,0.7000000000000001,0.7000000000000001,0.7000000000000001,0.7000000000000001,0.7000000000000001,0.7000000000000001,0.7000000000000001,0.7000000000000001],[0.8,0.8,0.8,0.8,0.8,0.8,0.8,0.8,0.8,0.8,0.8],[0.9,0.9,0.9,0.9,0.9,0.9,0.9,0.9,0.9,0.9,0.9],[1.0,1.0,1.0,1.0,1.0,1.0,1.0,1.0,1.0,1.0,1.0]],\"z\":[[5.0,5.001,5.008,5.027,5.064,5.125,5.216,5.343,5.5120000000000005,5.729,6.0],[4.98,4.981,4.988,5.007,5.044,5.105,5.196,5.323,5.492,5.709,5.98],[4.96,4.961,4.968,4.987,5.024,5.085,5.176,5.303,5.472,5.689,5.96],[4.94,4.941,4.948,4.967,5.004,5.065,5.156,5.283,5.452,5.6690000000000005,5.9399999999999995],[4.92,4.921,4.928,4.947,4.984,5.045,5.136,5.263,5.432,5.649,5.92],[4.9,4.901,4.908,4.927,4.964,5.025,5.116,5.243,5.412,5.6290000000000004,5.9],[4.88,4.881,4.888,4.907,4.944,5.005,5.096,5.223,5.392,5.609,5.88],[4.86,4.861,4.868,4.887,4.924,4.985,5.0760000000000005,5.203,5.372,5.589,5.86],[4.84,4.841,4.848,4.867,4.904,4.965,5.056,5.183,5.352,5.569,5.84],[4.82,4.821,4.828,4.847,4.884,4.945,5.0360000000000005,5.163,5.332,5.549,5.82],[4.8,4.801,4.808,4.827,4.864,4.925,5.016,5.143,5.312,5.529,5.8]],\"type\":\"surface\"}],                        {\"template\":{\"data\":{\"bar\":[{\"error_x\":{\"color\":\"#2a3f5f\"},\"error_y\":{\"color\":\"#2a3f5f\"},\"marker\":{\"line\":{\"color\":\"#E5ECF6\",\"width\":0.5},\"pattern\":{\"fillmode\":\"overlay\",\"size\":10,\"solidity\":0.2}},\"type\":\"bar\"}],\"barpolar\":[{\"marker\":{\"line\":{\"color\":\"#E5ECF6\",\"width\":0.5},\"pattern\":{\"fillmode\":\"overlay\",\"size\":10,\"solidity\":0.2}},\"type\":\"barpolar\"}],\"carpet\":[{\"aaxis\":{\"endlinecolor\":\"#2a3f5f\",\"gridcolor\":\"white\",\"linecolor\":\"white\",\"minorgridcolor\":\"white\",\"startlinecolor\":\"#2a3f5f\"},\"baxis\":{\"endlinecolor\":\"#2a3f5f\",\"gridcolor\":\"white\",\"linecolor\":\"white\",\"minorgridcolor\":\"white\",\"startlinecolor\":\"#2a3f5f\"},\"type\":\"carpet\"}],\"choropleth\":[{\"colorbar\":{\"outlinewidth\":0,\"ticks\":\"\"},\"type\":\"choropleth\"}],\"contour\":[{\"colorbar\":{\"outlinewidth\":0,\"ticks\":\"\"},\"colorscale\":[[0.0,\"#0d0887\"],[0.1111111111111111,\"#46039f\"],[0.2222222222222222,\"#7201a8\"],[0.3333333333333333,\"#9c179e\"],[0.4444444444444444,\"#bd3786\"],[0.5555555555555556,\"#d8576b\"],[0.6666666666666666,\"#ed7953\"],[0.7777777777777778,\"#fb9f3a\"],[0.8888888888888888,\"#fdca26\"],[1.0,\"#f0f921\"]],\"type\":\"contour\"}],\"contourcarpet\":[{\"colorbar\":{\"outlinewidth\":0,\"ticks\":\"\"},\"type\":\"contourcarpet\"}],\"heatmap\":[{\"colorbar\":{\"outlinewidth\":0,\"ticks\":\"\"},\"colorscale\":[[0.0,\"#0d0887\"],[0.1111111111111111,\"#46039f\"],[0.2222222222222222,\"#7201a8\"],[0.3333333333333333,\"#9c179e\"],[0.4444444444444444,\"#bd3786\"],[0.5555555555555556,\"#d8576b\"],[0.6666666666666666,\"#ed7953\"],[0.7777777777777778,\"#fb9f3a\"],[0.8888888888888888,\"#fdca26\"],[1.0,\"#f0f921\"]],\"type\":\"heatmap\"}],\"heatmapgl\":[{\"colorbar\":{\"outlinewidth\":0,\"ticks\":\"\"},\"colorscale\":[[0.0,\"#0d0887\"],[0.1111111111111111,\"#46039f\"],[0.2222222222222222,\"#7201a8\"],[0.3333333333333333,\"#9c179e\"],[0.4444444444444444,\"#bd3786\"],[0.5555555555555556,\"#d8576b\"],[0.6666666666666666,\"#ed7953\"],[0.7777777777777778,\"#fb9f3a\"],[0.8888888888888888,\"#fdca26\"],[1.0,\"#f0f921\"]],\"type\":\"heatmapgl\"}],\"histogram\":[{\"marker\":{\"pattern\":{\"fillmode\":\"overlay\",\"size\":10,\"solidity\":0.2}},\"type\":\"histogram\"}],\"histogram2d\":[{\"colorbar\":{\"outlinewidth\":0,\"ticks\":\"\"},\"colorscale\":[[0.0,\"#0d0887\"],[0.1111111111111111,\"#46039f\"],[0.2222222222222222,\"#7201a8\"],[0.3333333333333333,\"#9c179e\"],[0.4444444444444444,\"#bd3786\"],[0.5555555555555556,\"#d8576b\"],[0.6666666666666666,\"#ed7953\"],[0.7777777777777778,\"#fb9f3a\"],[0.8888888888888888,\"#fdca26\"],[1.0,\"#f0f921\"]],\"type\":\"histogram2d\"}],\"histogram2dcontour\":[{\"colorbar\":{\"outlinewidth\":0,\"ticks\":\"\"},\"colorscale\":[[0.0,\"#0d0887\"],[0.1111111111111111,\"#46039f\"],[0.2222222222222222,\"#7201a8\"],[0.3333333333333333,\"#9c179e\"],[0.4444444444444444,\"#bd3786\"],[0.5555555555555556,\"#d8576b\"],[0.6666666666666666,\"#ed7953\"],[0.7777777777777778,\"#fb9f3a\"],[0.8888888888888888,\"#fdca26\"],[1.0,\"#f0f921\"]],\"type\":\"histogram2dcontour\"}],\"mesh3d\":[{\"colorbar\":{\"outlinewidth\":0,\"ticks\":\"\"},\"type\":\"mesh3d\"}],\"parcoords\":[{\"line\":{\"colorbar\":{\"outlinewidth\":0,\"ticks\":\"\"}},\"type\":\"parcoords\"}],\"pie\":[{\"automargin\":true,\"type\":\"pie\"}],\"scatter\":[{\"marker\":{\"colorbar\":{\"outlinewidth\":0,\"ticks\":\"\"}},\"type\":\"scatter\"}],\"scatter3d\":[{\"line\":{\"colorbar\":{\"outlinewidth\":0,\"ticks\":\"\"}},\"marker\":{\"colorbar\":{\"outlinewidth\":0,\"ticks\":\"\"}},\"type\":\"scatter3d\"}],\"scattercarpet\":[{\"marker\":{\"colorbar\":{\"outlinewidth\":0,\"ticks\":\"\"}},\"type\":\"scattercarpet\"}],\"scattergeo\":[{\"marker\":{\"colorbar\":{\"outlinewidth\":0,\"ticks\":\"\"}},\"type\":\"scattergeo\"}],\"scattergl\":[{\"marker\":{\"colorbar\":{\"outlinewidth\":0,\"ticks\":\"\"}},\"type\":\"scattergl\"}],\"scattermapbox\":[{\"marker\":{\"colorbar\":{\"outlinewidth\":0,\"ticks\":\"\"}},\"type\":\"scattermapbox\"}],\"scatterpolar\":[{\"marker\":{\"colorbar\":{\"outlinewidth\":0,\"ticks\":\"\"}},\"type\":\"scatterpolar\"}],\"scatterpolargl\":[{\"marker\":{\"colorbar\":{\"outlinewidth\":0,\"ticks\":\"\"}},\"type\":\"scatterpolargl\"}],\"scatterternary\":[{\"marker\":{\"colorbar\":{\"outlinewidth\":0,\"ticks\":\"\"}},\"type\":\"scatterternary\"}],\"surface\":[{\"colorbar\":{\"outlinewidth\":0,\"ticks\":\"\"},\"colorscale\":[[0.0,\"#0d0887\"],[0.1111111111111111,\"#46039f\"],[0.2222222222222222,\"#7201a8\"],[0.3333333333333333,\"#9c179e\"],[0.4444444444444444,\"#bd3786\"],[0.5555555555555556,\"#d8576b\"],[0.6666666666666666,\"#ed7953\"],[0.7777777777777778,\"#fb9f3a\"],[0.8888888888888888,\"#fdca26\"],[1.0,\"#f0f921\"]],\"type\":\"surface\"}],\"table\":[{\"cells\":{\"fill\":{\"color\":\"#EBF0F8\"},\"line\":{\"color\":\"white\"}},\"header\":{\"fill\":{\"color\":\"#C8D4E3\"},\"line\":{\"color\":\"white\"}},\"type\":\"table\"}]},\"layout\":{\"annotationdefaults\":{\"arrowcolor\":\"#2a3f5f\",\"arrowhead\":0,\"arrowwidth\":1},\"autotypenumbers\":\"strict\",\"coloraxis\":{\"colorbar\":{\"outlinewidth\":0,\"ticks\":\"\"}},\"colorscale\":{\"diverging\":[[0,\"#8e0152\"],[0.1,\"#c51b7d\"],[0.2,\"#de77ae\"],[0.3,\"#f1b6da\"],[0.4,\"#fde0ef\"],[0.5,\"#f7f7f7\"],[0.6,\"#e6f5d0\"],[0.7,\"#b8e186\"],[0.8,\"#7fbc41\"],[0.9,\"#4d9221\"],[1,\"#276419\"]],\"sequential\":[[0.0,\"#0d0887\"],[0.1111111111111111,\"#46039f\"],[0.2222222222222222,\"#7201a8\"],[0.3333333333333333,\"#9c179e\"],[0.4444444444444444,\"#bd3786\"],[0.5555555555555556,\"#d8576b\"],[0.6666666666666666,\"#ed7953\"],[0.7777777777777778,\"#fb9f3a\"],[0.8888888888888888,\"#fdca26\"],[1.0,\"#f0f921\"]],\"sequentialminus\":[[0.0,\"#0d0887\"],[0.1111111111111111,\"#46039f\"],[0.2222222222222222,\"#7201a8\"],[0.3333333333333333,\"#9c179e\"],[0.4444444444444444,\"#bd3786\"],[0.5555555555555556,\"#d8576b\"],[0.6666666666666666,\"#ed7953\"],[0.7777777777777778,\"#fb9f3a\"],[0.8888888888888888,\"#fdca26\"],[1.0,\"#f0f921\"]]},\"colorway\":[\"#636efa\",\"#EF553B\",\"#00cc96\",\"#ab63fa\",\"#FFA15A\",\"#19d3f3\",\"#FF6692\",\"#B6E880\",\"#FF97FF\",\"#FECB52\"],\"font\":{\"color\":\"#2a3f5f\"},\"geo\":{\"bgcolor\":\"white\",\"lakecolor\":\"white\",\"landcolor\":\"#E5ECF6\",\"showlakes\":true,\"showland\":true,\"subunitcolor\":\"white\"},\"hoverlabel\":{\"align\":\"left\"},\"hovermode\":\"closest\",\"mapbox\":{\"style\":\"light\"},\"paper_bgcolor\":\"white\",\"plot_bgcolor\":\"#E5ECF6\",\"polar\":{\"angularaxis\":{\"gridcolor\":\"white\",\"linecolor\":\"white\",\"ticks\":\"\"},\"bgcolor\":\"#E5ECF6\",\"radialaxis\":{\"gridcolor\":\"white\",\"linecolor\":\"white\",\"ticks\":\"\"}},\"scene\":{\"xaxis\":{\"backgroundcolor\":\"#E5ECF6\",\"gridcolor\":\"white\",\"gridwidth\":2,\"linecolor\":\"white\",\"showbackground\":true,\"ticks\":\"\",\"zerolinecolor\":\"white\"},\"yaxis\":{\"backgroundcolor\":\"#E5ECF6\",\"gridcolor\":\"white\",\"gridwidth\":2,\"linecolor\":\"white\",\"showbackground\":true,\"ticks\":\"\",\"zerolinecolor\":\"white\"},\"zaxis\":{\"backgroundcolor\":\"#E5ECF6\",\"gridcolor\":\"white\",\"gridwidth\":2,\"linecolor\":\"white\",\"showbackground\":true,\"ticks\":\"\",\"zerolinecolor\":\"white\"}},\"shapedefaults\":{\"line\":{\"color\":\"#2a3f5f\"}},\"ternary\":{\"aaxis\":{\"gridcolor\":\"white\",\"linecolor\":\"white\",\"ticks\":\"\"},\"baxis\":{\"gridcolor\":\"white\",\"linecolor\":\"white\",\"ticks\":\"\"},\"bgcolor\":\"#E5ECF6\",\"caxis\":{\"gridcolor\":\"white\",\"linecolor\":\"white\",\"ticks\":\"\"}},\"title\":{\"x\":0.05},\"xaxis\":{\"automargin\":true,\"gridcolor\":\"white\",\"linecolor\":\"white\",\"ticks\":\"\",\"title\":{\"standoff\":15},\"zerolinecolor\":\"white\",\"zerolinewidth\":2},\"yaxis\":{\"automargin\":true,\"gridcolor\":\"white\",\"linecolor\":\"white\",\"ticks\":\"\",\"title\":{\"standoff\":15},\"zerolinecolor\":\"white\",\"zerolinewidth\":2}}}},                        {\"responsive\": true}                    ).then(function(){\n",
              "                            \n",
              "var gd = document.getElementById('1be7ec4b-139f-41df-9b2e-587e37a6eef6');\n",
              "var x = new MutationObserver(function (mutations, observer) {{\n",
              "        var display = window.getComputedStyle(gd).display;\n",
              "        if (!display || display === 'none') {{\n",
              "            console.log([gd, 'removed!']);\n",
              "            Plotly.purge(gd);\n",
              "            observer.disconnect();\n",
              "        }}\n",
              "}});\n",
              "\n",
              "// Listen for the removal of the full notebook cells\n",
              "var notebookContainer = gd.closest('#notebook-container');\n",
              "if (notebookContainer) {{\n",
              "    x.observe(notebookContainer, {childList: true});\n",
              "}}\n",
              "\n",
              "// Listen for the clearing of the current output cell\n",
              "var outputEl = gd.closest('.output');\n",
              "if (outputEl) {{\n",
              "    x.observe(outputEl, {childList: true});\n",
              "}}\n",
              "\n",
              "                        })                };                            </script>        </div>\n",
              "</body>\n",
              "</html>"
            ]
          },
          "metadata": {}
        }
      ]
    },
    {
      "cell_type": "code",
      "source": [
        "chosen_model.printWeights()"
      ],
      "metadata": {
        "id": "PyTJVaDgjeGS",
        "colab": {
          "base_uri": "https://localhost:8080/"
        },
        "outputId": "c4441663-94a7-428a-f8cb-f05f21a5bc31"
      },
      "execution_count": 253,
      "outputs": [
        {
          "output_type": "stream",
          "name": "stdout",
          "text": [
            "\n",
            "Layer 0 is the Input Layer\n",
            "Layer 1 Neuron 0 : [ 1.41062225 -0.1521637  -0.52517922] mrelu\n",
            "Layer 1 Neuron 1 : [-0.38777418  0.0861524   0.76420089] mrelu\n",
            "Layer 2 Neuron 0 : [ 1.10660132 -0.83731514  0.22764345] linear\n",
            "\n"
          ]
        }
      ]
    },
    {
      "cell_type": "code",
      "source": [
        "print('X mean=', scaler_X.mean_,',X stdev=', scaler_X.scale_)\n",
        "print('y mean=', scaler_y.mean_[0],',y stdev=', scaler_y.scale_[0])"
      ],
      "metadata": {
        "colab": {
          "base_uri": "https://localhost:8080/"
        },
        "id": "GjM9XZFeNhbb",
        "outputId": "68f664c8-590f-4c61-a124-0210fe57a95a"
      },
      "execution_count": 254,
      "outputs": [
        {
          "output_type": "stream",
          "name": "stdout",
          "text": [
            "X mean= [0.52090909 0.51363636] ,X stdev= [0.26752925 0.28952226]\n",
            "y mean= 5.150715181818182 ,y stdev= 0.29600926114591214\n"
          ]
        }
      ]
    },
    {
      "cell_type": "code",
      "source": [
        ""
      ],
      "metadata": {
        "id": "ugtbjAETN47O"
      },
      "execution_count": 254,
      "outputs": []
    }
  ]
}