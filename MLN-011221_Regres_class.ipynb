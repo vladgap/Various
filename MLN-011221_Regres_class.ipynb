{
  "nbformat": 4,
  "nbformat_minor": 0,
  "metadata": {
    "colab": {
      "name": "MLN.ipynb",
      "provenance": [],
      "collapsed_sections": [],
      "toc_visible": true,
      "include_colab_link": true
    },
    "kernelspec": {
      "name": "python3",
      "display_name": "Python 3"
    },
    "language_info": {
      "name": "python"
    }
  },
  "cells": [
    {
      "cell_type": "markdown",
      "metadata": {
        "id": "view-in-github",
        "colab_type": "text"
      },
      "source": [
        "<a href=\"https://colab.research.google.com/github/vladgap/Various/blob/main/MLN-011221_Regres_class.ipynb\" target=\"_parent\"><img src=\"https://colab.research.google.com/assets/colab-badge.svg\" alt=\"Open In Colab\"/></a>"
      ]
    },
    {
      "cell_type": "code",
      "metadata": {
        "id": "rWfs6xKyIiBC"
      },
      "source": [
        "import numpy as np\n",
        "import pandas as pd\n",
        "from sklearn import preprocessing"
      ],
      "execution_count": 48,
      "outputs": []
    },
    {
      "cell_type": "markdown",
      "metadata": {
        "id": "VG50azfXte36"
      },
      "source": [
        "# StandardScaler"
      ]
    },
    {
      "cell_type": "code",
      "metadata": {
        "colab": {
          "base_uri": "https://localhost:8080/"
        },
        "id": "Jn6l3WGso4QY",
        "outputId": "c559b212-b458-44ec-f68d-2526c98a8f1d"
      },
      "source": [
        "x=[\n",
        "[2,1,0],\n",
        "[-1,0,1],\n",
        "[0,0,0],\n",
        "[1,1,0],\n",
        "[-1,-1,-1],\n",
        "[-1,1,-1],\n",
        "]\n",
        "# x=np.array(x)\n",
        "scaler = preprocessing.StandardScaler().fit(x)\n",
        "print(scaler.mean_, scaler.scale_)\n",
        "x_scaled = scaler.transform(x)\n",
        "print (x_scaled)\n",
        "x_back=scaler.inverse_transform(x_scaled)\n",
        "print (x_back)\n",
        "scaler.inverse_transform([[0,0,0]])\n",
        "# help(scaler)"
      ],
      "execution_count": 2,
      "outputs": [
        {
          "output_type": "stream",
          "name": "stdout",
          "text": [
            "[ 0.          0.33333333 -0.16666667] [1.15470054 0.74535599 0.68718427]\n",
            "[[ 1.73205081  0.89442719  0.24253563]\n",
            " [-0.8660254  -0.4472136   1.69774938]\n",
            " [ 0.         -0.4472136   0.24253563]\n",
            " [ 0.8660254   0.89442719  0.24253563]\n",
            " [-0.8660254  -1.78885438 -1.21267813]\n",
            " [-0.8660254   0.89442719 -1.21267813]]\n",
            "[[ 2.  1.  0.]\n",
            " [-1.  0.  1.]\n",
            " [ 0.  0.  0.]\n",
            " [ 1.  1.  0.]\n",
            " [-1. -1. -1.]\n",
            " [-1.  1. -1.]]\n"
          ]
        },
        {
          "output_type": "execute_result",
          "data": {
            "text/plain": [
              "array([[ 0.        ,  0.33333333, -0.16666667]])"
            ]
          },
          "metadata": {},
          "execution_count": 2
        }
      ]
    },
    {
      "cell_type": "markdown",
      "metadata": {
        "id": "pUCN7lc5sieC"
      },
      "source": [
        "# Single Neuron"
      ]
    },
    {
      "cell_type": "code",
      "metadata": {
        "id": "eSEiZemKj3xT"
      },
      "source": [
        "class Neuron:\n",
        "    \"\"\"A single neuron with an activation function.\n",
        "       Attributes:\n",
        "          inputs: The number of inputs in the perceptron, not counting the bias.\n",
        "          bias:   The bias term. By defaul it's 1.0.\n",
        "          activ:  The activation function: linear (default), relu, sigmoid.\"\"\"\n",
        "\n",
        "    def __init__(self, inputs, bias = 1.0, activ = 'linear'):\n",
        "        \"\"\"Return a new Perceptron object with the specified number of inputs (+1 for the bias) and random initial weights.\"\"\" \n",
        "        self.weights = (np.random.rand(inputs+1) * 2) - 1 \n",
        "        self.bias = bias\n",
        "        self.activ = activ\n",
        "\n",
        "    def run(self, x):\n",
        "        \"\"\"Run the perceptron. x is a python list with the input values.\"\"\"\n",
        "        sum = np.dot(np.append(x,self.bias),self.weights)\n",
        "        if self.activ == 'linear':\n",
        "          return sum\n",
        "        if self.activ == 'sigmoid':\n",
        "          return self.sigmoid(sum)\n",
        "        if self.activ == 'relu':\n",
        "          return self.relu(sum)\n",
        "        if self.activ == 'mrelu':\n",
        "          return self.mrelu(sum)\n",
        "\n",
        "    def set_weights(self, w_init):\n",
        "        \"\"\"Overrides the np.random.rand() weights and the bias weight.\"\"\"\n",
        "        # w_init is a list of floats. Organize it as you'd like.\n",
        "        self.weights=np.array(w_init, dtype='double')\n",
        "\n",
        "    def set_activ(self, activ, param=0):\n",
        "        \"\"\"Overrides the 'linear' activation function.\"\"\"\n",
        "        self.activ = activ\n",
        "        self.param = param\n",
        "\n",
        "    def sigmoid(self, x):\n",
        "        # return the output of the sigmoid function applied to x\n",
        "        return 1/(1+np.exp(-x))\n",
        "    \n",
        "    def relu(self, x):\n",
        "        # return the output of the relu function applied to x\n",
        "        if x >= 0:\n",
        "          return x\n",
        "        return 0\n",
        "\n",
        "    def mrelu(self, x):\n",
        "        # return the output of the modified relu function applied to x\n",
        "        if x >= 0:\n",
        "          return x\n",
        "        return self.param*x"
      ],
      "execution_count": 3,
      "outputs": []
    },
    {
      "cell_type": "code",
      "metadata": {
        "id": "nN9wRG3NlI4b",
        "colab": {
          "base_uri": "https://localhost:8080/"
        },
        "outputId": "3e50d01e-5c3f-4bd3-d07c-c60167618b0e"
      },
      "source": [
        "neu=Neuron(inputs=2)\n",
        "neu.set_weights([10,10,-15]) \n",
        "neu.set_activ('mrelu', param=0.01)\n",
        "neu.run([1,0])"
      ],
      "execution_count": 4,
      "outputs": [
        {
          "output_type": "execute_result",
          "data": {
            "text/plain": [
              "-0.05"
            ]
          },
          "metadata": {},
          "execution_count": 4
        }
      ]
    },
    {
      "cell_type": "markdown",
      "metadata": {
        "id": "bo32Xuop0eYO"
      },
      "source": [
        "## AND gate"
      ]
    },
    {
      "cell_type": "code",
      "metadata": {
        "colab": {
          "base_uri": "https://localhost:8080/"
        },
        "id": "QeLvN9yxHGsw",
        "outputId": "5ea6a327-4a15-486c-eb74-5c9d5a2d9b18"
      },
      "source": [
        "neuron = Neuron(inputs=2, activ='sigmoid')\n",
        "neuron.set_weights([10,10,-15]) #AND gate\n",
        "\n",
        "print(\"AND Gate:\")\n",
        "print (\"0 0 = {0:.10f}\".format(neuron.run([0,0])))\n",
        "print (\"0 1 = {0:.10f}\".format(neuron.run([0,1])))\n",
        "print (\"1 0 = {0:.10f}\".format(neuron.run([1,0])))\n",
        "print (\"1 1 = {0:.10f}\".format(neuron.run([1,1])))\n"
      ],
      "execution_count": 5,
      "outputs": [
        {
          "output_type": "stream",
          "name": "stdout",
          "text": [
            "AND Gate:\n",
            "0 0 = 0.0000003059\n",
            "0 1 = 0.0066928509\n",
            "1 0 = 0.0066928509\n",
            "1 1 = 0.9933071491\n"
          ]
        }
      ]
    },
    {
      "cell_type": "markdown",
      "metadata": {
        "id": "WDiUtQWL2qFC"
      },
      "source": [
        "## OR gate"
      ]
    },
    {
      "cell_type": "code",
      "metadata": {
        "colab": {
          "base_uri": "https://localhost:8080/"
        },
        "id": "PJy3bJjS2qhO",
        "outputId": "8adb651f-8bd7-49eb-8b43-a71593ef80f4"
      },
      "source": [
        "neuron = Neuron(inputs=2, activ='sigmoid')\n",
        "neuron.set_weights([10,10,-5]) #OR gate\n",
        "\n",
        "print(\"OR Gate:\")\n",
        "print (\"0 0 = {0:.10f}\".format(neuron.run([0,0])))\n",
        "print (\"0 1 = {0:.10f}\".format(neuron.run([0,1])))\n",
        "print (\"1 0 = {0:.10f}\".format(neuron.run([1,0])))\n",
        "print (\"1 1 = {0:.10f}\".format(neuron.run([1,1])))\n"
      ],
      "execution_count": 6,
      "outputs": [
        {
          "output_type": "stream",
          "name": "stdout",
          "text": [
            "OR Gate:\n",
            "0 0 = 0.0066928509\n",
            "0 1 = 0.9933071491\n",
            "1 0 = 0.9933071491\n",
            "1 1 = 0.9999996941\n"
          ]
        }
      ]
    },
    {
      "cell_type": "markdown",
      "metadata": {
        "id": "2CyK0jOA4vGH"
      },
      "source": [
        "## NAND gate"
      ]
    },
    {
      "cell_type": "code",
      "metadata": {
        "colab": {
          "base_uri": "https://localhost:8080/"
        },
        "id": "XH_wkvCq4vpB",
        "outputId": "3f2e15c7-15a8-42a0-898b-6ae7f013af96"
      },
      "source": [
        "neuron = Neuron(inputs=2, activ='sigmoid')\n",
        "neuron.set_weights([-10,-10,15]) #NAND gate\n",
        "\n",
        "print(\"NAND Gate:\")\n",
        "print (\"0 0 = {0:.10f}\".format(neuron.run([0,0])))\n",
        "print (\"0 1 = {0:.10f}\".format(neuron.run([0,1])))\n",
        "print (\"1 0 = {0:.10f}\".format(neuron.run([1,0])))\n",
        "print (\"1 1 = {0:.10f}\".format(neuron.run([1,1])))"
      ],
      "execution_count": 7,
      "outputs": [
        {
          "output_type": "stream",
          "name": "stdout",
          "text": [
            "NAND Gate:\n",
            "0 0 = 0.9999996941\n",
            "0 1 = 0.9933071491\n",
            "1 0 = 0.9933071491\n",
            "1 1 = 0.0066928509\n"
          ]
        }
      ]
    },
    {
      "cell_type": "markdown",
      "metadata": {
        "id": "3rpjT9eO6LeS"
      },
      "source": [
        "# Multilayer neuron"
      ]
    },
    {
      "cell_type": "code",
      "metadata": {
        "id": "My-snyukphuZ"
      },
      "source": [
        "class MultiLayerNeuron:     \n",
        "    \"\"\"A multilayer neuron class that uses the Neuron class above.\n",
        "       Builds a list of neurons with the specific activation function.\n",
        "       The activation function may be modified later using the set_activ method.\n",
        "       For example: mln.network[layer][neuron].set_activ('linear').\n",
        "       Attributes:\n",
        "          layers:  A list with the number of neurons per layer. Including the input (first) and the output (last) layers.\n",
        "          bias:    The bias term. The same bias is used for all neurons.\n",
        "          eta:     The learning rate.\n",
        "          activ:   The activation function: linear (default), relu, sigmoid.\"\"\"\n",
        "\n",
        "    def __init__(self, layers, bias = 1.0, eta = 0.5, activ='linear'):\n",
        "        \"\"\"Return a new MLP object with the specified parameters.\"\"\" \n",
        "        self.layers = np.array(layers,dtype=object)\n",
        "        self.bias = bias\n",
        "        self.eta = eta\n",
        "        self.network = [] # The list of lists of neurons (perceptrons).\n",
        "        self.values = []  # The list of lists of neurons' (perceptrons') output values.\n",
        "        self.d = []       # The list of lists of error terms (lowercase deltas)\n",
        "        self.activ = activ\n",
        "\n",
        "        # 2 nested loops to create neurons layer by layer\n",
        "        for i in range(len(self.layers)): # outer loop iterates on each layer\n",
        "            self.values.append([]) #The new list of values will be filled with zeros, for every neuron in the layer. \n",
        "            self.values[i] = [0.0 for j in range(self.layers[i])]\n",
        "            self.d.append([])\n",
        "            self.d[i] = [0.0 for j in range(self.layers[i])]                        \n",
        "            self.network.append([])\n",
        "            if i > 0:      #network[0] is the input layer, so it has no neurons\n",
        "                for j in range(self.layers[i]): # inner loop iterates on each neuron in a layer\n",
        "                    neur=Neuron(inputs = self.layers[i-1], bias = self.bias, activ = self.activ) # \n",
        "                    self.network[i].append(neur) # adding j perceptrons\n",
        "        \n",
        "        self.network = np.array([np.array(x) for x in self.network],dtype=object) #transforms list of lists to numpy array\n",
        "        self.values = np.array([np.array(x) for x in self.values],dtype=object)\n",
        "        self.d = np.array([np.array(x) for x in self.d],dtype=object)\n",
        "\n",
        "    def set_weights(self, w_init): # set_weights of the MultiLayer class\n",
        "        \"\"\"Set the weights. \n",
        "           w_init is a list of lists with the weights for all but the input layer.\"\"\"\n",
        "        for i in range(len(w_init)):\n",
        "            for j in range(len(w_init[i])):\n",
        "                self.network[i+1][j].set_weights(w_init[i][j]) # set_weights for each perceptron i\n",
        "\n",
        "    def set_activ(self, activ, param=0):\n",
        "        \"\"\"Set the activation function to every neurons.\"\"\"\n",
        "        for i in range(1,len(self.network)):\n",
        "            for j in range(self.layers[i]):\n",
        "                self.network[i][j].set_activ(activ, param) # set_activ for each neuron\n",
        "        self.param=param\n",
        "    \n",
        "    def set_output_activ(self, activ, param=0):\n",
        "        \"\"\"Set the activation function to the last (output) neurons.\"\"\"\n",
        "        i = len(self.network)-1\n",
        "        for j in range(self.layers[i]):\n",
        "            self.network[i][j].set_activ(activ, param) \n",
        "\n",
        "    def printWeights(self):\n",
        "        \"\"\"Displays a summary of weights and activation functions per layer and neuron.\"\"\"\n",
        "        print()\n",
        "        print('Layer 0 is the Input Layer')\n",
        "        for i in range(1,len(self.network)):\n",
        "            for j in range(self.layers[i]):\n",
        "                print(\"Layer\",i,\"Neuron\",j,\":\",self.network[i][j].weights,self.network[i][j].activ)\n",
        "        print()\n",
        "\n",
        "    def run(self, x):\n",
        "        \"\"\"Feed a sample x into the MultiLayer Neuron.\"\"\"\n",
        "        x = np.array(x,dtype=object)\n",
        "        self.values[0] = x\n",
        "        for i in range(1,len(self.network)):\n",
        "            for j in range(self.layers[i]):  \n",
        "                self.values[i][j] = self.network[i][j].run(self.values[i-1]) #runs preceptrons with the previous outputs\n",
        "        return self.values[-1]\n",
        "\n",
        "    def bp_classif(self, x, y):\n",
        "        \"\"\"Run a single (x,y) pair with the backpropagation algorithm - Gradient Descent.\n",
        "        Uses the derivative of the sigmoid function.\"\"\"\n",
        "        x = np.array(x,dtype=object)\n",
        "        y = np.array(y,dtype=object)\n",
        "        # STEP 1: Feed a sample to the network \n",
        "        outputs = self.run(x)\n",
        "        # STEP 2: Calculate the MSE\n",
        "        error = 2*(y - outputs) # A list of outputs\n",
        "        MSE = sum( error ** 2) / self.layers[-1] \n",
        "        # ∂MSE/∂weight=∂MSE/∂output*∂output/∂weight\n",
        "        # STEP 3: Calculate the OUTPUT error terms\n",
        "        # ∂MSE/∂output -- depends on neuron's activation function\n",
        "        self.d[-1] = outputs * (1 - outputs) * (error) # derivative of the SIGMOID function \n",
        "        # STEP 4: Calculate the error term of EACH UNIT on each layer\n",
        "        for i in reversed(range(1,len(self.network)-1)):\n",
        "            for h in range(len(self.network[i])):\n",
        "                fwd_error = 0.0\n",
        "                for k in range(self.layers[i+1]): \n",
        "                    fwd_error += self.network[i+1][k].weights[h] * self.d[i+1][k]               \n",
        "                self.d[i][h] = self.values[i][h] * (1-self.values[i][h]) * fwd_error # derivative of the SIGMOID function\n",
        "        # STEPS 5 & 6: Calculate the deltas and update the weights\n",
        "        for i in range(1,len(self.network)): # runs on layers\n",
        "            for j in range(self.layers[i]): # runs on neurons\n",
        "                for k in range(self.layers[i-1]+1): # runs on inputs. +1 for bias\n",
        "                    if k==self.layers[i-1]:\n",
        "                        delta = self.eta * self.d[i][j] * self.bias\n",
        "                    else:\n",
        "                        delta = self.eta * self.d[i][j] * self.values[i-1][k] # applying the delta rule\n",
        "                    self.network[i][j].weights[k] += delta\n",
        "        return MSE\n",
        "\n",
        "    def sigmoid(self, x):\n",
        "        # return the output of the sigmoid function applied to x\n",
        "        return 1/(1+np.exp(-x))\n",
        "\n",
        "    def deriv(self, value, i, j=0):\n",
        "        if self.network[i][j].activ == 'linear':\n",
        "          # print ('lin')\n",
        "          return 1\n",
        "        if self.network[i][j].activ == 'sigmoid':\n",
        "          # print ('sig')\n",
        "          return self.sigmoid(value)*(1-self.sigmoid(value))\n",
        "        if self.network[i][j].activ == 'relu':\n",
        "          if value > 0:\n",
        "            # print ('re>')\n",
        "            return 1\n",
        "          else:\n",
        "            # print ('re<')\n",
        "            return 0\n",
        "        if self.network[i][j].activ == 'mrelu':\n",
        "          if value > 0:\n",
        "            return 1\n",
        "          else:\n",
        "            return self.param\n",
        "\n",
        "    def bp_regres(self, x, y):\n",
        "        \"\"\"Run a single (x,y) pair with the backpropagation algorithm - Gradient Descent.\n",
        "        Uses the derivative according each neuron's activation function.\"\"\"\n",
        "        x = np.array(x,dtype=object)\n",
        "        y = np.array(y,dtype=object)\n",
        "        # STEP 1: Feed a sample to the network \n",
        "        outputs = self.run(x)\n",
        "        # STEP 2: Calculate the MSE\n",
        "        error = 2*(y - outputs) # A list of outputs\n",
        "        MSE = sum( error ** 2) / self.layers[-1] \n",
        "        # ∂MSE/∂weight=∂MSE/∂output*∂output/∂weight\n",
        "        # STEP 3: Calculate the OUTPUT error terms\n",
        "        # ∂MSE/∂output -- depends on neuron's activation function\n",
        "        for j in range (len(outputs)):\n",
        "            self.d[-1][j] = self.deriv(outputs[j], len(self.network)-1) * error\n",
        "        # STEP 4: Calculate the error term of EACH UNIT on each layer\n",
        "        for i in reversed(range(1,len(self.network)-1)):\n",
        "            for h in range(len(self.network[i])):\n",
        "                fwd_error = 0.0\n",
        "                for k in range(self.layers[i+1]): \n",
        "                    fwd_error += self.network[i+1][k].weights[h] * self.d[i+1][k] \n",
        "                self.d[i][h] = self.deriv(self.values[i][h], i, h) * fwd_error\n",
        "        # STEPS 5 & 6: Calculate the deltas and update the weights\n",
        "        for i in range(1,len(self.network)): # runs on layers\n",
        "            for j in range(self.layers[i]): # runs on neurons\n",
        "                for k in range(self.layers[i-1]+1): # runs on inputs. +1 for bias\n",
        "                    # output=sum(weight*value)+bias*bias_weight\n",
        "                    if k==self.layers[i-1]:\n",
        "                        # ∂output/∂bias_weight=bias\n",
        "                        delta = self.eta * self.d[i][j] * self.bias\n",
        "                    else:\n",
        "                        # ∂output/∂weight=value\n",
        "                        delta = self.eta * self.d[i][j] * self.values[i-1][k] \n",
        "                    self.network[i][j].weights[k] += delta # applying the delta rule\n",
        "        return MSE"
      ],
      "execution_count": 8,
      "outputs": []
    },
    {
      "cell_type": "markdown",
      "metadata": {
        "id": "LlSin4uPzSFX"
      },
      "source": [
        "## XOR gate=(OR+NAND)+AND"
      ]
    },
    {
      "cell_type": "code",
      "metadata": {
        "id": "I2dcROXuqJT1",
        "colab": {
          "base_uri": "https://localhost:8080/"
        },
        "outputId": "8335e7c8-fea9-419b-ae2b-0dbc670ac98d"
      },
      "source": [
        "#test code\n",
        "mln1 = MultiLayerNeuron(layers=[2,2,1])  #mln1\n",
        "mln1.set_weights([[[-10,-10,15],[15,15,-10]],[[10,10,-15]]])\n",
        "mln1.set_activ('sigmoid') #linear is by default\n",
        "\n",
        "mln1.printWeights()\n",
        "print(\"XOR Gate:\")\n",
        "print (\"0 0 = {0:.10f}\".format(mln1.run([0,0])[0]))\n",
        "print (\"0 1 = {0:.10f}\".format(mln1.run([0,1])[0]))\n",
        "print (\"1 0 = {0:.10f}\".format(mln1.run([1,0])[0]))\n",
        "print (\"1 1 = {0:.10f}\".format(mln1.run([1,1])[0]))"
      ],
      "execution_count": 9,
      "outputs": [
        {
          "output_type": "stream",
          "name": "stdout",
          "text": [
            "\n",
            "Layer 0 is the Input Layer\n",
            "Layer 1 Neuron 0 : [-10. -10.  15.] sigmoid\n",
            "Layer 1 Neuron 1 : [ 15.  15. -10.] sigmoid\n",
            "Layer 2 Neuron 0 : [ 10.  10. -15.] sigmoid\n",
            "\n",
            "XOR Gate:\n",
            "0 0 = 0.0066958493\n",
            "0 1 = 0.9923558642\n",
            "1 0 = 0.9923558642\n",
            "1 1 = 0.0071528098\n"
          ]
        }
      ]
    },
    {
      "cell_type": "markdown",
      "metadata": {
        "id": "mBf5fifWK_EG"
      },
      "source": [
        "## Training "
      ]
    },
    {
      "cell_type": "code",
      "metadata": {
        "id": "JaZYikTxNp69",
        "colab": {
          "base_uri": "https://localhost:8080/"
        },
        "outputId": "0aba99a9-669a-45d2-f0a6-83fcbdb3b5fe"
      },
      "source": [
        "mln2 = MultiLayerNeuron(layers=[2,2,1])\n",
        "mln2.set_activ('sigmoid') #linear is by default\n",
        "print(\"\\nTraining Neural Network as an XOR Gate...\\n\")\n",
        "for i in range(2000):\n",
        "    MSE = 0.0\n",
        "    MSE += mln2.bp_classif([0,0],[0])\n",
        "    MSE += mln2.bp_classif([0,1],[1])\n",
        "    MSE += mln2.bp_classif([1,0],[1])\n",
        "    MSE += mln2.bp_classif([1,1],[0])\n",
        "    MSE = MSE / 4\n",
        "    if(i%200 == 0):\n",
        "        print (MSE)\n",
        "\n",
        "mln2.printWeights()\n",
        "    \n",
        "print(\"XOR Gate:\")\n",
        "print (\"0 0 = {0:.10f}\".format(mln2.run([0,0])[0]))\n",
        "print (\"0 1 = {0:.10f}\".format(mln2.run([0,1])[0]))\n",
        "print (\"1 0 = {0:.10f}\".format(mln2.run([1,0])[0]))\n",
        "print (\"1 1 = {0:.10f}\".format(mln2.run([1,1])[0]))"
      ],
      "execution_count": 10,
      "outputs": [
        {
          "output_type": "stream",
          "name": "stdout",
          "text": [
            "\n",
            "Training Neural Network as an XOR Gate...\n",
            "\n",
            "1.3668306600311346\n",
            "0.9091274518948705\n",
            "0.06749272897836474\n",
            "0.022475612733651288\n",
            "0.012867627612127681\n",
            "0.008881300026390527\n",
            "0.006734169633314301\n",
            "0.005402332555512186\n",
            "0.004499546039950102\n",
            "0.0038490963301811352\n",
            "\n",
            "Layer 0 is the Input Layer\n",
            "Layer 1 Neuron 0 : [-5.87291793  5.72395499 -3.21515389] sigmoid\n",
            "Layer 1 Neuron 1 : [ 5.33018183 -5.55891598 -2.97863353] sigmoid\n",
            "Layer 2 Neuron 0 : [ 8.33464253  8.42415784 -4.13709532] sigmoid\n",
            "\n",
            "XOR Gate:\n",
            "0 0 = 0.0320572595\n",
            "0 1 = 0.9726702741\n",
            "1 0 = 0.9722286081\n",
            "1 1 = 0.0284482357\n"
          ]
        }
      ]
    },
    {
      "cell_type": "markdown",
      "metadata": {
        "id": "wZS1-UADpTpY"
      },
      "source": [
        "# Regres"
      ]
    },
    {
      "cell_type": "code",
      "metadata": {
        "id": "xkOQ9tbuvI9P"
      },
      "source": [
        "class Regres:\n",
        "    def __init__(self, layers, bias=1.0, eta=0.1, ):\n",
        "        self.layers = layers\n",
        "        self.bias = bias\n",
        "        self.eta = eta\n",
        "        self.regres_network = MultiLayerNeuron(layers=layers, bias=bias, eta=eta)\n",
        "\n",
        "    def set_weights(self, w_init):\n",
        "        self.regres_network.set_weights(w_init)\n",
        "\n",
        "    def set_hidden_activ(self, activ, param=0):\n",
        "        self.regres_network.set_activ(activ, param=0)\n",
        "        self.regres_network.set_output_activ('linear')\n",
        "\n",
        "    def fit(self, X, y, epochs):\n",
        "        self.epochs=epochs\n",
        "        self.weight_history=[]\n",
        "        self.weight_history_table=[]\n",
        "        # self.cols=[]\n",
        "        self.MSE_history=[]\n",
        "        for i in range(self.epochs):\n",
        "            weight_epoch=[]\n",
        "            weight_epoch_table=[]\n",
        "            MSE = 0.0\n",
        "            for j in range (len(X)):\n",
        "                MSE +=  self.regres_network.bp_regres(X[j],[y[j]])\n",
        "            MSE = MSE / len(X)\n",
        "            self.MSE_history.append(MSE)\n",
        "            for m in range(1,len(self.layers)):\n",
        "                for n in range(self.layers[m]):\n",
        "                    # col=\"{}_{}\".format(m,n)\n",
        "                    # self.cols.append(col)\n",
        "                    neuron_w=self.regres_network.network[m][n].weights\n",
        "                    neuron_w_list=[x for x in neuron_w]\n",
        "                    weight_epoch.append(neuron_w_list)\n",
        "                    weight_epoch_table+=neuron_w_list\n",
        "            self.weight_history.append(weight_epoch)\n",
        "            self.weight_history_table.append(weight_epoch_table)\n",
        "        self.weight_history_table=pd.DataFrame(data=self.weight_history_table, columns=self.get_cols())\n",
        "        print (\"\"\"Model fitted.\n",
        "self.weight_history - list of lists of weights propagation\n",
        "self.weight_history_table - pandas table of weights propagation\n",
        "self.MSE_history - list of MSEs propagation\"\"\")\n",
        "\n",
        "    def get_cols(self): \n",
        "        cols=[]\n",
        "        for i in range(1,len(self.layers)):\n",
        "            for h in range(self.layers[i]):\n",
        "                for k in range(self.layers[i-1]+1): \n",
        "                    col=\"{}_{}_{}\".format(i,h,k) \n",
        "                    cols.append(col)\n",
        "        return cols \n",
        "    \n",
        "    def printWeights(self):\n",
        "        self.regres_network.printWeights()\n",
        "\n",
        "    def run(self, x):\n",
        "        return self.regres_network.run(x)\n",
        "\n",
        "    def predict(self, x):\n",
        "        y=[]\n",
        "        for i in range(len(x)):\n",
        "            y.append(self.run(x[i])[0])\n",
        "        return y"
      ],
      "execution_count": 113,
      "outputs": []
    },
    {
      "cell_type": "code",
      "metadata": {
        "id": "3rarzZ-VuIoF",
        "colab": {
          "base_uri": "https://localhost:8080/"
        },
        "outputId": "2502275d-d404-48c0-a0fc-b7b3f3226085"
      },
      "source": [
        "weight_history=[]\n",
        "a=[[1,2],[1,3],[4,1]]\n",
        "b=[]\n",
        "for m in range(3):\n",
        "  for n in range(2):\n",
        "    b.append(a[m][n])\n",
        "print (\"b\",b)\n",
        "weight_history.append(b)\n",
        "print (weight_history)"
      ],
      "execution_count": 12,
      "outputs": [
        {
          "output_type": "stream",
          "name": "stdout",
          "text": [
            "b [1, 2, 1, 3, 4, 1]\n",
            "[[1, 2, 1, 3, 4, 1]]\n"
          ]
        }
      ]
    },
    {
      "cell_type": "markdown",
      "metadata": {
        "id": "gqJ8FTGSvCrP"
      },
      "source": [
        "# Regres_scale"
      ]
    },
    {
      "cell_type": "code",
      "metadata": {
        "id": "Zz-y1CtyyZvy"
      },
      "source": [
        "# nuzhno podumat' kak vesa obratno perevesti. mozhet inverse_transform\n",
        "class Regres_scale:\n",
        "    def __init__(self, layers, bias=1.0, eta=0.5, ):\n",
        "        self.layers = layers\n",
        "        self.bias = bias\n",
        "        self.eta = eta\n",
        "        # self.epochs = epochs      \n",
        "        self.regres_network = MultiLayerNeuron(layers=layers, bias=bias, eta=eta)\n",
        "\n",
        "    def set_weights(self, w_init):\n",
        "        self.regres_network.set_weights(w_init)\n",
        "\n",
        "    def set_hidden_activ(self, activ):\n",
        "        self.regres_network.set_activ(activ)\n",
        "        self.regres_network.set_output_activ('linear')\n",
        "\n",
        "    def fit(self, x, y, epochs):\n",
        "        self.scaler = preprocessing.StandardScaler().fit(x)\n",
        "        x_scaled=self.scaler.transform(x)\n",
        "        self.epochs=epochs\n",
        "        for i in range(epochs):\n",
        "            MSE = 0.0\n",
        "            for j in range (len(x)):\n",
        "                MSE +=  self.regres_network.bp_regres(x_scaled[j],[y[j]])\n",
        "            MSE = MSE / len(x)\n",
        "            # dobavit' istoriyu kak v Regres\n",
        "\n",
        "    def printWeights(self):\n",
        "        self.regres_network.printWeights()\n",
        "\n",
        "    def run(self, x):\n",
        "        return self.regres_network.run(x)\n",
        "\n",
        "    def predict(self, x):\n",
        "        y=[]\n",
        "        for i in range(len(x)):\n",
        "            y.append(self.run(x[i])[0])\n",
        "        return y\n",
        "\n",
        "    def get_standard_params(self, x):\n",
        "        x2=np.array(x)\n",
        "        mean=x2.mean(axis=0)\n",
        "        stdev=x2.std(axis=0)\n",
        "        return mean, stdev"
      ],
      "execution_count": 13,
      "outputs": []
    },
    {
      "cell_type": "markdown",
      "metadata": {
        "id": "T1CIr02vJjVL"
      },
      "source": [
        "# Example 1 -- weights"
      ]
    },
    {
      "cell_type": "code",
      "metadata": {
        "id": "c1cXJqv6KPD9",
        "colab": {
          "base_uri": "https://localhost:8080/"
        },
        "outputId": "ab9a4824-2e36-4b67-b69a-927500d2d241"
      },
      "source": [
        "print (\"1 1 =\",mln1.run([1,1]))\n",
        "# print (mln1.network[1][0].weights) # network is list of lists of perceptrons. Each has attribute \"weights\"\n",
        "w1=mln1.network[1][0].weights\n",
        "w2=[x for x in w1]\n",
        "w2"
      ],
      "execution_count": 31,
      "outputs": [
        {
          "output_type": "stream",
          "name": "stdout",
          "text": [
            "1 1 = [0.42896503]\n"
          ]
        },
        {
          "output_type": "execute_result",
          "data": {
            "text/plain": [
              "[-0.4935207493697864, 0.3834408303278405, -0.03511010044167673]"
            ]
          },
          "metadata": {},
          "execution_count": 31
        }
      ]
    },
    {
      "cell_type": "code",
      "metadata": {
        "id": "mV8ZGDKCGdig",
        "colab": {
          "base_uri": "https://localhost:8080/"
        },
        "outputId": "3cf8228f-5bf6-48ff-9bc5-74c5bdd0087b"
      },
      "source": [
        "mln1=MultiLayerNeuron(layers=[2,2,1])\n",
        "mln1.set_activ('relu')\n",
        "mln1.printWeights()\n",
        "\n",
        "mln1.set_output_activ('sigmoid') # setting the output activ func\n",
        "mln1.printWeights()\n",
        "\n",
        "mln1.network[1][0].set_activ('linear') # changing specific activ func\n",
        "mln1.printWeights()"
      ],
      "execution_count": 15,
      "outputs": [
        {
          "output_type": "stream",
          "name": "stdout",
          "text": [
            "\n",
            "Layer 0 is the Input Layer\n",
            "Layer 1 Neuron 0 : [-0.49352075  0.38344083 -0.0351101 ] relu\n",
            "Layer 1 Neuron 1 : [0.0157239  0.32777417 0.77556509] relu\n",
            "Layer 2 Neuron 0 : [-0.15919856  0.39479284 -0.75098722] relu\n",
            "\n",
            "\n",
            "Layer 0 is the Input Layer\n",
            "Layer 1 Neuron 0 : [-0.49352075  0.38344083 -0.0351101 ] relu\n",
            "Layer 1 Neuron 1 : [0.0157239  0.32777417 0.77556509] relu\n",
            "Layer 2 Neuron 0 : [-0.15919856  0.39479284 -0.75098722] sigmoid\n",
            "\n",
            "\n",
            "Layer 0 is the Input Layer\n",
            "Layer 1 Neuron 0 : [-0.49352075  0.38344083 -0.0351101 ] linear\n",
            "Layer 1 Neuron 1 : [0.0157239  0.32777417 0.77556509] relu\n",
            "Layer 2 Neuron 0 : [-0.15919856  0.39479284 -0.75098722] sigmoid\n",
            "\n"
          ]
        }
      ]
    },
    {
      "cell_type": "markdown",
      "metadata": {
        "id": "MFSdNaYSKr7h"
      },
      "source": [
        "# Example 3 -- linear activs, bp_regres. מתכנס למשקלים טוב מאוד "
      ]
    },
    {
      "cell_type": "code",
      "metadata": {
        "id": "tsu-mr5IdZlt",
        "colab": {
          "base_uri": "https://localhost:8080/"
        },
        "outputId": "692f6a8b-c68f-49f1-9d09-f7670dceafa6"
      },
      "source": [
        "mln3 = MultiLayerNeuron(layers=[3,1], eta=0.3)\n",
        "# mln3.set_weights([[[5.,-0.9,2.,0.]]])\n",
        "mln3.set_weights([[[0,0,0,0]]])\n",
        "mln3.printWeights()\n",
        "print(\"\\nTraining Neural Network...\\n\")\n",
        "for i in range(400):\n",
        "    MSE = 0.0\n",
        "    MSE += mln3.bp_regres([0.7759,\t0.1104,\t0.9977,],5.764286995)\n",
        "    MSE += mln3.bp_regres([0.9692,\t0.6961,\t0.8483,],5.84646758)\n",
        "    MSE += mln3.bp_regres([0.0265,\t0.399,\t0.5375,],0.808633075)\n",
        "    MSE += mln3.bp_regres([0.7694,\t0.5051,\t0.2542,],3.850298589)\n",
        "    MSE = MSE / 4\n",
        "    if(i%200 == 0):\n",
        "        print (MSE)\n",
        "\n",
        "mln3.printWeights()\n",
        "\n"
      ],
      "execution_count": 16,
      "outputs": [
        {
          "output_type": "stream",
          "name": "stdout",
          "text": [
            "\n",
            "Layer 0 is the Input Layer\n",
            "Layer 1 Neuron 0 : [0. 0. 0. 0.] linear\n",
            "\n",
            "\n",
            "Training Neural Network...\n",
            "\n",
            "54.560573414122615\n",
            "9.652321993077698e-13\n",
            "\n",
            "Layer 0 is the Input Layer\n",
            "Layer 1 Neuron 0 : [ 4.99973369e+00 -9.99625006e-01  1.99991681e+00  3.52253294e-05] linear\n",
            "\n"
          ]
        }
      ]
    },
    {
      "cell_type": "markdown",
      "metadata": {
        "id": "gwlXhDA2KORl"
      },
      "source": [
        "# Example 4 -- sigmoid, bp_regres. מקרב רגרסיה עם סיגמויד. עובד טוב"
      ]
    },
    {
      "cell_type": "code",
      "metadata": {
        "id": "JBA-VYuEJGm2",
        "colab": {
          "base_uri": "https://localhost:8080/",
          "height": 657
        },
        "outputId": "bd8b0647-d99d-410a-b679-f7ac50245f4e"
      },
      "source": [
        "# generating output values\n",
        "mln4 = MultiLayerNeuron(layers=[3,2,1])\n",
        "mln4.set_activ('sigmoid')\n",
        "mln4.set_output_activ('linear')\n",
        "mln4.set_weights([[[0,1,-2,1],[1,-2,0,1]],[[-1,2,3]]])\n",
        "mln4.printWeights()\n",
        "\n",
        "y4=[]\n",
        "y4.append(mln4.run([2,1,0])[0])\n",
        "y4.append(mln4.run([-1,0,1])[0])\n",
        "y4.append(mln4.run([0,0,0])[0])\n",
        "y4.append(mln4.run([1,1,0])[0])\n",
        "y4.append(mln4.run([-1,-1,-1])[0])\n",
        "y4.append(mln4.run([-1,1,-1])[0])\n",
        "display ('original values:',y4)\n",
        "print ()\n",
        "\n",
        "# training model and predicting values\n",
        "mln4 = MultiLayerNeuron(layers=[3,2,1], eta=0.1)\n",
        "mln4.set_activ('sigmoid')\n",
        "mln4.set_output_activ('linear')\n",
        "\n",
        "for i in range(1000):\n",
        "    MSE = 0.0\n",
        "    MSE += mln4.bp_regres([2,1,0],y4[0])\n",
        "    MSE += mln4.bp_regres([-1,0,1],y4[1])\n",
        "    MSE += mln4.bp_regres([0,0,0],y4[2])\n",
        "    MSE += mln4.bp_regres([1,1,0],y4[3])\n",
        "    MSE += mln4.bp_regres([-1,-1,-1],y4[4])\n",
        "    MSE += mln4.bp_regres([-1,1,-1],y4[5])\n",
        "    MSE = MSE / 6\n",
        "    if(i%200 == 0):\n",
        "        print ('MSE=',MSE)\n",
        "mln4.printWeights()\n",
        "\n",
        "y4=[]\n",
        "y4.append(mln4.run([2,1,0])[0])\n",
        "y4.append(mln4.run([-1,0,1])[0])\n",
        "y4.append(mln4.run([0,0,0])[0])\n",
        "y4.append(mln4.run([1,1,0])[0])\n",
        "y4.append(mln4.run([-1,-1,-1])[0])\n",
        "y4.append(mln4.run([-1,1,-1])[0])\n",
        "display ('predicted values:',y4)\n",
        "print ()"
      ],
      "execution_count": 17,
      "outputs": [
        {
          "output_type": "stream",
          "name": "stdout",
          "text": [
            "\n",
            "Layer 0 is the Input Layer\n",
            "Layer 1 Neuron 0 : [ 0.  1. -2.  1.] sigmoid\n",
            "Layer 1 Neuron 1 : [ 1. -2.  0.  1.] sigmoid\n",
            "Layer 2 Neuron 0 : [-1.  2.  3.] linear\n",
            "\n"
          ]
        },
        {
          "output_type": "display_data",
          "data": {
            "application/vnd.google.colaboratory.intrinsic+json": {
              "type": "string"
            },
            "text/plain": [
              "'original values:'"
            ]
          },
          "metadata": {}
        },
        {
          "output_type": "display_data",
          "data": {
            "text/plain": [
              "[3.5813200792821274,\n",
              " 3.731058578630005,\n",
              " 3.731058578630005,\n",
              " 3.119202922022118,\n",
              " 3.880797077977882,\n",
              " 2.2563920540063265]"
            ]
          },
          "metadata": {}
        },
        {
          "output_type": "stream",
          "name": "stdout",
          "text": [
            "\n",
            "MSE= 19.489652799555873\n",
            "MSE= 0.02728719311677784\n",
            "MSE= 0.02113912897034817\n",
            "MSE= 0.017195069423565287\n",
            "MSE= 0.014455978355482063\n",
            "\n",
            "Layer 0 is the Input Layer\n",
            "Layer 1 Neuron 0 : [ 0.42308272 -0.99135748  0.60655673  1.21673559] sigmoid\n",
            "Layer 1 Neuron 1 : [ 0.39791135 -1.1013564   0.27332004 -0.02605244] sigmoid\n",
            "Layer 2 Neuron 0 : [1.66063715 1.95626123 1.45068755] linear\n",
            "\n"
          ]
        },
        {
          "output_type": "display_data",
          "data": {
            "application/vnd.google.colaboratory.intrinsic+json": {
              "type": "string"
            },
            "text/plain": [
              "'predicted values:'"
            ]
          },
          "metadata": {}
        },
        {
          "output_type": "display_data",
          "data": {
            "text/plain": [
              "[3.505113170657939,\n",
              " 3.687474139534376,\n",
              " 3.697240113477619,\n",
              " 3.177548988410871,\n",
              " 3.893629219455489,\n",
              " 2.2418366346641716]"
            ]
          },
          "metadata": {}
        },
        {
          "output_type": "stream",
          "name": "stdout",
          "text": [
            "\n"
          ]
        }
      ]
    },
    {
      "cell_type": "markdown",
      "metadata": {
        "id": "RQ6f38VkOng4"
      },
      "source": [
        "# Example 5 -- relu-sigmoid, bp_regres. מתכנס למשקלים לא משהו"
      ]
    },
    {
      "cell_type": "code",
      "metadata": {
        "id": "tTgRMD9GOoF_",
        "colab": {
          "base_uri": "https://localhost:8080/",
          "height": 986
        },
        "outputId": "8d5ad0d9-9d93-45a5-fa3d-93adf56f4d27"
      },
      "source": [
        "mln4 = MultiLayerNeuron(layers=[3,2,1,1]) # generating MLN with random weights\n",
        "mln4.set_activ('relu')\n",
        "mln4.network[2][0].set_activ('sigmoid') # changing specific activ func\n",
        "mln4.set_output_activ('linear')\n",
        "mln4.set_weights([[[0,1,-2,1],[1,-2,0,1]],[[1,0,1]],[[-1,2]]]) # setting weights\n",
        "mln4.printWeights()\n",
        "\n",
        "y4=[] # generating output values\n",
        "y4.append(mln4.run([2,1,0])[0])\n",
        "y4.append(mln4.run([-1,0,1])[0])\n",
        "y4.append(mln4.run([0,0,0])[0])\n",
        "y4.append(mln4.run([1,1,0])[0])\n",
        "y4.append(mln4.run([-1,-1,-1])[0])\n",
        "y4.append(mln4.run([-1,1,-1])[0])\n",
        "display ('original values:',y4)\n",
        "print ()\n",
        "\n",
        "# training model and predicting values\n",
        "mln4 = MultiLayerNeuron(layers=[3,2,1,1], eta=0.3) # generating MLN with random weights\n",
        "mln4.set_activ('relu')\n",
        "mln4.network[2][0].set_activ('sigmoid') # changing specific activ func\n",
        "mln4.set_output_activ('linear')\n",
        "\n",
        "for i in range(400):\n",
        "    MSE = 0.0\n",
        "    MSE += mln4.bp_regres([2,1,0],y4[0])\n",
        "    MSE += mln4.bp_regres([-1,0,1],y4[1])\n",
        "    MSE += mln4.bp_regres([0,0,0],y4[2])\n",
        "    MSE += mln4.bp_regres([1,1,0],y4[3])\n",
        "    MSE += mln4.bp_regres([-1,-1,-1],y4[4])\n",
        "    MSE += mln4.bp_regres([-1,1,-1],y4[5])\n",
        "    MSE = MSE / 6\n",
        "    if(i%20 == 0):\n",
        "        print ('MSE', i, '=',MSE)\n",
        "mln4.printWeights()\n",
        "\n",
        "y4=[]\n",
        "y4.append(mln4.run([2,1,0])[0])\n",
        "y4.append(mln4.run([-1,0,1])[0])\n",
        "y4.append(mln4.run([0,0,0])[0])\n",
        "y4.append(mln4.run([1,1,0])[0])\n",
        "y4.append(mln4.run([-1,-1,-1])[0])\n",
        "y4.append(mln4.run([-1,1,-1])[0])\n",
        "display ('predicted values:',y4)\n",
        "print ()"
      ],
      "execution_count": 18,
      "outputs": [
        {
          "output_type": "stream",
          "name": "stdout",
          "text": [
            "\n",
            "Layer 0 is the Input Layer\n",
            "Layer 1 Neuron 0 : [ 0.  1. -2.  1.] relu\n",
            "Layer 1 Neuron 1 : [ 1. -2.  0.  1.] relu\n",
            "Layer 2 Neuron 0 : [1. 0. 1.] sigmoid\n",
            "Layer 3 Neuron 0 : [-1.  2.] linear\n",
            "\n"
          ]
        },
        {
          "output_type": "display_data",
          "data": {
            "application/vnd.google.colaboratory.intrinsic+json": {
              "type": "string"
            },
            "text/plain": [
              "'original values:'"
            ]
          },
          "metadata": {}
        },
        {
          "output_type": "display_data",
          "data": {
            "text/plain": [
              "[1.0474258731775667,\n",
              " 1.2689414213699952,\n",
              " 1.1192029220221178,\n",
              " 1.0474258731775667,\n",
              " 1.0474258731775667,\n",
              " 1.0066928509242847]"
            ]
          },
          "metadata": {}
        },
        {
          "output_type": "stream",
          "name": "stdout",
          "text": [
            "\n",
            "MSE 0 = 1.2428698204664617\n",
            "MSE 20 = 0.05337800911055901\n",
            "MSE 40 = 0.042515350384664745\n",
            "MSE 60 = 0.013704007731044401\n",
            "MSE 80 = 0.00824950743488877\n",
            "MSE 100 = 0.00880943721040711\n",
            "MSE 120 = 0.008852923971947977\n",
            "MSE 140 = 0.008888057472520682\n",
            "MSE 160 = 0.008904751383209933\n",
            "MSE 180 = 0.008912233949436668\n",
            "MSE 200 = 0.00891486296949455\n",
            "MSE 220 = 0.008914943843271107\n",
            "MSE 240 = 0.008913691399401897\n",
            "MSE 260 = 0.00891174076377044\n",
            "MSE 280 = 0.008909422512809767\n",
            "MSE 300 = 0.008906908337551027\n",
            "MSE 320 = 0.00890428733363357\n",
            "MSE 340 = 0.008901605735332434\n",
            "MSE 360 = 0.00887551691173158\n",
            "MSE 380 = 0.008884061075500903\n",
            "\n",
            "Layer 0 is the Input Layer\n",
            "Layer 1 Neuron 0 : [ 0.28731933 -0.62145969  0.28064334 -0.00380912] relu\n",
            "Layer 1 Neuron 1 : [-0.25430956  0.5153527   1.31925083 -0.26112722] relu\n",
            "Layer 2 Neuron 0 : [-0.34021665  0.57002803  0.50218212] sigmoid\n",
            "Layer 3 Neuron 0 : [1.44922792 0.10840802] linear\n",
            "\n"
          ]
        },
        {
          "output_type": "display_data",
          "data": {
            "application/vnd.google.colaboratory.intrinsic+json": {
              "type": "string"
            },
            "text/plain": [
              "'predicted values:'"
            ]
          },
          "metadata": {}
        },
        {
          "output_type": "display_data",
          "data": {
            "text/plain": [
              "[1.0112364383024495,\n",
              " 1.2349693951440601,\n",
              " 1.0112364383024495,\n",
              " 1.0112364383024495,\n",
              " 1.0054703877519875,\n",
              " 1.0112364383024495]"
            ]
          },
          "metadata": {}
        },
        {
          "output_type": "stream",
          "name": "stdout",
          "text": [
            "\n"
          ]
        }
      ]
    },
    {
      "cell_type": "markdown",
      "metadata": {
        "id": "5iig6wESsnxe"
      },
      "source": [
        "# Example 7 -- Regres class. עובד באופן עקרוני\n",
        "# relu בעייתי"
      ]
    },
    {
      "cell_type": "code",
      "metadata": {
        "id": "S6k1A-gflH4c",
        "colab": {
          "base_uri": "https://localhost:8080/"
        },
        "outputId": "b5e1efa8-674c-4162-e40e-eae07c3444aa"
      },
      "source": [
        "reg1=Regres(layers=[3,2,1,1], eta=0.3)\n",
        "reg1.set_weights([[[1,1,0,0],[0,0,0,0]],[[0,0,0]],[[0,0]]])\n",
        "X=[\n",
        "[2,1,0],\n",
        "[-1,0,1],\n",
        "[0,0,0],\n",
        "[1,1,0],\n",
        "[-1,-1,-1],\n",
        "[-1,1,-1],\n",
        "]\n",
        "y=[1.0474258731775667,\n",
        " 1.2689414213699952,\n",
        " 1.1192029220221178,\n",
        " 1.0474258731775667,\n",
        " 1.0474258731775667,\n",
        " 1.0066928509242847]\n",
        "reg1.set_hidden_activ('relu')\n",
        "reg1.regres_network.network[2][0].set_activ('sigmoid') # changing specific activ func\n",
        "reg1.fit(X,y, epochs=5)\n",
        "reg1.printWeights()\n",
        "pred=reg1.predict(X)\n",
        "print (pred)\n",
        "print()\n",
        "# display ('weight_history',reg1.weight_history)\n",
        "display ('MSE',reg1.MSE_history)"
      ],
      "execution_count": 19,
      "outputs": [
        {
          "output_type": "stream",
          "name": "stdout",
          "text": [
            "weight_epoch [array([1., 1., 0., 0.]), array([0., 0., 0., 0.]), array([-0.01004363,  0.        ,  0.01054202]), array([0.40626752, 0.81345965])]\n",
            "weight_epoch [array([ 9.99943510e-01,  1.00005251e+00, -4.50468799e-05,  5.25099344e-05]), array([0., 0., 0., 0.]), array([-0.01639217,  0.        ,  0.00904985]), array([0.40618406, 0.81392458])]\n",
            "weight_epoch [array([ 9.99878829e-01,  1.00014354e+00, -1.06675990e-04,  2.11560284e-04]), array([0., 0., 0., 0.]), array([-0.02228857,  0.        ,  0.00755239]), array([0.4060741 , 0.81421285])]\n",
            "weight_epoch [array([ 9.99802753e-01,  1.00026810e+00, -1.83813904e-04,  4.40823369e-04]), array([0., 0., 0., 0.]), array([-0.02773872,  0.        ,  0.00606316]), array([0.405996  , 0.81447959])]\n",
            "weight_epoch [array([ 9.99713140e-01,  1.00042202e+00, -2.75446741e-04,  7.33518678e-04]), array([0., 0., 0., 0.]), array([-0.03277788,  0.        ,  0.00458208]), array([0.40593827, 0.81473119])]\n",
            "Model fitted.\n",
            "self.weight_history - list of lists of weights propagation\n",
            "self.MSE_history - list of MSEs propagation\n",
            "\n",
            "Layer 0 is the Input Layer\n",
            "Layer 1 Neuron 0 : [ 9.99713140e-01  1.00042202e+00 -2.75446741e-04  7.33518678e-04] relu\n",
            "Layer 1 Neuron 1 : [0. 0. 0. 0.] relu\n",
            "Layer 2 Neuron 0 : [-0.03277788  0.          0.00458208] sigmoid\n",
            "Layer 3 Neuron 0 : [0.40593827 0.81473119] linear\n",
            "\n",
            "[1.0081910251075497, 1.0181653384338307, 1.0181628984344357, 1.0115114716378777, 1.0181653384338307, 1.0181596241520412]\n",
            "\n"
          ]
        },
        {
          "output_type": "display_data",
          "data": {
            "application/vnd.google.colaboratory.intrinsic+json": {
              "type": "string"
            },
            "text/plain": [
              "'MSE'"
            ]
          },
          "metadata": {}
        },
        {
          "output_type": "display_data",
          "data": {
            "text/plain": [
              "[0.8936248829442258,\n",
              " 0.04857883327236249,\n",
              " 0.0481469881158581,\n",
              " 0.04777680393002976,\n",
              " 0.04744442311981101]"
            ]
          },
          "metadata": {}
        }
      ]
    },
    {
      "cell_type": "markdown",
      "metadata": {
        "id": "3bxt-T9Qs5zv"
      },
      "source": [
        "# Example -- Regres_scale. צריך חשוב ולהשלים"
      ]
    },
    {
      "cell_type": "code",
      "metadata": {
        "colab": {
          "base_uri": "https://localhost:8080/"
        },
        "id": "w0_dFIMLvjG9",
        "outputId": "4e279eb7-768f-45d6-f5b2-c2868ff8c566"
      },
      "source": [
        "# nuzhno podumat' kak vesa obratno perevesti. mozhet inverse_transform\n",
        "reg2=Regres_scale(layers=[3,2,1,1], eta=0.1)\n",
        "reg2.set_weights([[[1,1,0,0],[0,0,0,0]],[[0,0,0]],[[0,0]]])\n",
        "X=[\n",
        "[2,1,0],\n",
        "[-1,0,1],\n",
        "[0,0,0],\n",
        "[1,1,0],\n",
        "[-1,-1,-1],\n",
        "[-1,1,-1],\n",
        "]\n",
        "y=[1.0474258731775667,\n",
        " 1.2689414213699952,\n",
        " 1.1192029220221178,\n",
        " 1.0474258731775667,\n",
        " 1.0474258731775667,\n",
        " 1.0066928509242847]\n",
        "reg2.set_hidden_activ('relu')\n",
        "reg2.regres_network.network[2][0].set_activ('sigmoid') # changing specific activ func\n",
        "reg2.fit(X,y,epochs=200)\n",
        "reg2.printWeights()\n",
        "pred=reg2.predict(X)\n",
        "pred"
      ],
      "execution_count": 20,
      "outputs": [
        {
          "output_type": "stream",
          "name": "stdout",
          "text": [
            "\n",
            "Layer 0 is the Input Layer\n",
            "Layer 1 Neuron 0 : [ 0.9517462   1.06201428 -0.06407585  0.06933407] relu\n",
            "Layer 1 Neuron 1 : [0. 0. 0. 0.] relu\n",
            "Layer 2 Neuron 0 : [-0.20894407  0.          0.00917428] sigmoid\n",
            "Layer 3 Neuron 0 : [0.46600036 0.84566849] linear\n",
            "\n"
          ]
        },
        {
          "output_type": "execute_result",
          "data": {
            "text/plain": [
              "[1.0081438427807037,\n",
              " 1.0797374688505368,\n",
              " 1.078049747612554,\n",
              " 1.029768336904302,\n",
              " 1.0797374688505368,\n",
              " 1.073806571646052]"
            ]
          },
          "metadata": {},
          "execution_count": 20
        }
      ]
    },
    {
      "cell_type": "markdown",
      "metadata": {
        "id": "VMQEsh7bFFe9"
      },
      "source": [
        "# Example 6 -- https://mmuratarat.github.io/2020-01-09/backpropagation"
      ]
    },
    {
      "cell_type": "code",
      "metadata": {
        "id": "HvAnY1Q1FF_L",
        "colab": {
          "base_uri": "https://localhost:8080/"
        },
        "outputId": "9d039b0e-d459-484e-d110-9eba7067fd91"
      },
      "source": [
        "# generating output values\n",
        "mln6 = MultiLayerNeuron(layers=[5,3,1], eta=.5)\n",
        "mln6.set_activ('sigmoid')\n",
        "mln6.set_output_activ('linear')\n",
        "mln6.set_weights([[[.19,.33,.4,.51,.54,.1],\n",
        "                   [.55,.16,.35,.85,.49,.1],\n",
        "                   [.76,.97,.7,.85,.57,.1]],\n",
        "                  [[.1,.03,-.17,.1]]\n",
        "                  ]) # setting initial weights\n",
        "mln6.printWeights()\n",
        "\n",
        "# training\n",
        "for i in range(100):\n",
        "    MSE = 0.0\n",
        "    MSE += mln6.bp_regres([.5,.1,1,0,0],[0.1])\n",
        "    MSE += mln6.bp_regres([.3,.2,0,1,0],[.6])\n",
        "    MSE += mln6.bp_regres([.7,.9,0,0,1],[.4])\n",
        "    MSE += mln6.bp_regres([.8,.1,1,0,0],[.1])\n",
        "    MSE = MSE / 4\n",
        "    if(i%10 == 0):\n",
        "        print ('MSE', i, '=',MSE)\n",
        "\n",
        "mln6.printWeights()"
      ],
      "execution_count": 21,
      "outputs": [
        {
          "output_type": "stream",
          "name": "stdout",
          "text": [
            "\n",
            "Layer 0 is the Input Layer\n",
            "Layer 1 Neuron 0 : [0.19 0.33 0.4  0.51 0.54 0.1 ] sigmoid\n",
            "Layer 1 Neuron 1 : [0.55 0.16 0.35 0.85 0.49 0.1 ] sigmoid\n",
            "Layer 1 Neuron 2 : [0.76 0.97 0.7  0.85 0.57 0.1 ] sigmoid\n",
            "Layer 2 Neuron 0 : [ 0.1   0.03 -0.17  0.1 ] linear\n",
            "\n",
            "MSE 0 = 3.097759865123268\n",
            "MSE 10 = 0.2948017967667316\n",
            "MSE 20 = 0.11235016703947856\n",
            "MSE 30 = 0.039031749833149484\n",
            "MSE 40 = 0.005346702764168406\n",
            "MSE 50 = 0.00047155150910413527\n",
            "MSE 60 = 9.822149422722454e-05\n",
            "MSE 70 = 6.0504726410544755e-05\n",
            "MSE 80 = 4.67746394940529e-05\n",
            "MSE 90 = 3.966114337742912e-05\n",
            "\n",
            "Layer 0 is the Input Layer\n",
            "Layer 1 Neuron 0 : [-0.92948745 -0.3432972  -0.4785581   0.21811547 -0.0456272  -1.65606983] sigmoid\n",
            "Layer 1 Neuron 1 : [-1.01311017 -0.23274925 -1.57166574  1.18384536  0.1929425  -1.78487787] sigmoid\n",
            "Layer 1 Neuron 2 : [-0.09277171 -0.3986799   1.19699659 -0.59778185 -0.68424799 -2.10503325] sigmoid\n",
            "Layer 2 Neuron 0 : [ 0.25752661  0.97942477 -1.06640139  0.35525422] linear\n",
            "\n"
          ]
        }
      ]
    },
    {
      "cell_type": "markdown",
      "metadata": {
        "id": "JhdtW0Cjc7Fi"
      },
      "source": [
        "# Example 8 -- Relu check"
      ]
    },
    {
      "cell_type": "code",
      "metadata": {
        "id": "5eWXM7kbc6gn",
        "colab": {
          "base_uri": "https://localhost:8080/",
          "height": 692
        },
        "outputId": "183b48d9-9c4b-4407-8403-ac5abd73e96b"
      },
      "source": [
        "reg2=Regres(layers=[1,2,1], eta=0.01)\n",
        "X=[[0],[1],[2],[3],[4],[5]]\n",
        "y=[0,1,2,3,4,5]\n",
        "reg2.printWeights()\n",
        "\n",
        "reg2.set_hidden_activ('linear')\n",
        "reg2.fit(X,y,epochs=5)\n",
        "reg2.printWeights()\n",
        "pred=reg2.predict(X)\n",
        "print ('predictions',pred)\n",
        "display ('weight_history_table',reg2.weight_history_table)\n",
        "display ('MSE',reg2.MSE_history)"
      ],
      "execution_count": 120,
      "outputs": [
        {
          "output_type": "stream",
          "name": "stdout",
          "text": [
            "\n",
            "Layer 0 is the Input Layer\n",
            "Layer 1 Neuron 0 : [-0.01131819  0.5324673 ] linear\n",
            "Layer 1 Neuron 1 : [0.72387826 0.10673647] linear\n",
            "Layer 2 Neuron 0 : [-0.81721239 -0.05371982  0.22557585] linear\n",
            "\n",
            "Model fitted.\n",
            "self.weight_history - list of lists of weights propagation\n",
            "self.weight_history_table - pandas table of weights propagation\n",
            "self.MSE_history - list of MSEs propagation\n",
            "\n",
            "Layer 0 is the Input Layer\n",
            "Layer 1 Neuron 0 : [-0.59726066  0.37106217] linear\n",
            "Layer 1 Neuron 1 : [0.84543639 0.1187419 ] linear\n",
            "Layer 2 Neuron 0 : [-0.89429205  0.51401691  0.43162184] linear\n",
            "\n",
            "predictions [0.16081923708480456, 1.1295132920519806, 2.098207347019157, 3.066901401986333, 4.0355954569535095, 5.004289511920685]\n"
          ]
        },
        {
          "output_type": "display_data",
          "data": {
            "application/vnd.google.colaboratory.intrinsic+json": {
              "type": "string"
            },
            "text/plain": [
              "'weight_history_table'"
            ]
          },
          "metadata": {}
        },
        {
          "output_type": "display_data",
          "data": {
            "text/html": [
              "<div>\n",
              "<style scoped>\n",
              "    .dataframe tbody tr th:only-of-type {\n",
              "        vertical-align: middle;\n",
              "    }\n",
              "\n",
              "    .dataframe tbody tr th {\n",
              "        vertical-align: top;\n",
              "    }\n",
              "\n",
              "    .dataframe thead th {\n",
              "        text-align: right;\n",
              "    }\n",
              "</style>\n",
              "<table border=\"1\" class=\"dataframe\">\n",
              "  <thead>\n",
              "    <tr style=\"text-align: right;\">\n",
              "      <th></th>\n",
              "      <th>1_0_0</th>\n",
              "      <th>1_0_1</th>\n",
              "      <th>1_1_0</th>\n",
              "      <th>1_1_1</th>\n",
              "      <th>2_0_0</th>\n",
              "      <th>2_0_1</th>\n",
              "      <th>2_0_2</th>\n",
              "    </tr>\n",
              "  </thead>\n",
              "  <tbody>\n",
              "    <tr>\n",
              "      <th>0</th>\n",
              "      <td>-0.563676</td>\n",
              "      <td>0.355707</td>\n",
              "      <td>0.826498</td>\n",
              "      <td>0.127656</td>\n",
              "      <td>-0.866058</td>\n",
              "      <td>0.484198</td>\n",
              "      <td>0.448856</td>\n",
              "    </tr>\n",
              "    <tr>\n",
              "      <th>1</th>\n",
              "      <td>-0.594539</td>\n",
              "      <td>0.352176</td>\n",
              "      <td>0.843941</td>\n",
              "      <td>0.129669</td>\n",
              "      <td>-0.884893</td>\n",
              "      <td>0.514116</td>\n",
              "      <td>0.452871</td>\n",
              "    </tr>\n",
              "    <tr>\n",
              "      <th>2</th>\n",
              "      <td>-0.595390</td>\n",
              "      <td>0.359039</td>\n",
              "      <td>0.844404</td>\n",
              "      <td>0.125684</td>\n",
              "      <td>-0.888177</td>\n",
              "      <td>0.513920</td>\n",
              "      <td>0.445123</td>\n",
              "    </tr>\n",
              "    <tr>\n",
              "      <th>3</th>\n",
              "      <td>-0.596375</td>\n",
              "      <td>0.365293</td>\n",
              "      <td>0.844948</td>\n",
              "      <td>0.122067</td>\n",
              "      <td>-0.891349</td>\n",
              "      <td>0.513969</td>\n",
              "      <td>0.438089</td>\n",
              "    </tr>\n",
              "    <tr>\n",
              "      <th>4</th>\n",
              "      <td>-0.597261</td>\n",
              "      <td>0.371062</td>\n",
              "      <td>0.845436</td>\n",
              "      <td>0.118742</td>\n",
              "      <td>-0.894292</td>\n",
              "      <td>0.514017</td>\n",
              "      <td>0.431622</td>\n",
              "    </tr>\n",
              "  </tbody>\n",
              "</table>\n",
              "</div>"
            ],
            "text/plain": [
              "      1_0_0     1_0_1     1_1_0     1_1_1     2_0_0     2_0_1     2_0_2\n",
              "0 -0.563676  0.355707  0.826498  0.127656 -0.866058  0.484198  0.448856\n",
              "1 -0.594539  0.352176  0.843941  0.129669 -0.884893  0.514116  0.452871\n",
              "2 -0.595390  0.359039  0.844404  0.125684 -0.888177  0.513920  0.445123\n",
              "3 -0.596375  0.365293  0.844948  0.122067 -0.891349  0.513969  0.438089\n",
              "4 -0.597261  0.371062  0.845436  0.118742 -0.894292  0.514017  0.431622"
            ]
          },
          "metadata": {}
        },
        {
          "output_type": "display_data",
          "data": {
            "application/vnd.google.colaboratory.intrinsic+json": {
              "type": "string"
            },
            "text/plain": [
              "'MSE'"
            ]
          },
          "metadata": {}
        },
        {
          "output_type": "display_data",
          "data": {
            "text/plain": [
              "[17.10054083366001,\n",
              " 0.07862929025724717,\n",
              " 0.05669097270973059,\n",
              " 0.04758631353169853,\n",
              " 0.04013037964451527]"
            ]
          },
          "metadata": {}
        }
      ]
    },
    {
      "cell_type": "code",
      "metadata": {
        "id": "dncFrfZ0XMUL",
        "outputId": "d23dffd9-186e-4e0a-d1b8-464f78dc3379",
        "colab": {
          "base_uri": "https://localhost:8080/",
          "height": 37
        }
      },
      "source": [
        "m,n=3,4\n",
        "\"{}_{}\".format(m,n)"
      ],
      "execution_count": 83,
      "outputs": [
        {
          "output_type": "execute_result",
          "data": {
            "application/vnd.google.colaboratory.intrinsic+json": {
              "type": "string"
            },
            "text/plain": [
              "'3_4'"
            ]
          },
          "metadata": {},
          "execution_count": 83
        }
      ]
    },
    {
      "cell_type": "markdown",
      "metadata": {
        "id": "iEwuMi2DkFWq"
      },
      "source": [
        "# Example 9 -- mrelu check. working"
      ]
    },
    {
      "cell_type": "code",
      "metadata": {
        "id": "ay2oPnEzpHR3",
        "colab": {
          "base_uri": "https://localhost:8080/",
          "height": 947
        },
        "outputId": "af6a4265-fe33-4dc6-9210-b7cdef169c21"
      },
      "source": [
        "mln4 = MultiLayerNeuron(layers=[1,2,1]) # generating MLN with random weights\n",
        "mln4.set_activ('mrelu', param=0.1)\n",
        "# mln4.set_activ('relu')\n",
        "mln4.set_output_activ('linear')\n",
        "mln4.set_weights([[[-1.1,1.74],[3.35,-6.44]],[[-1.41,2.05,2.2]]]) # setting weights\n",
        "mln4.printWeights()\n",
        "\n",
        "y4=[] # generating output values\n",
        "y4.append(mln4.run([0])[0])\n",
        "y4.append(mln4.run([1])[0])\n",
        "y4.append(mln4.run([2])[0])\n",
        "y4.append(mln4.run([3])[0])\n",
        "y4.append(mln4.run([4])[0])\n",
        "y4.append(mln4.run([5])[0])\n",
        "display ('original values:',y4)\n",
        "print ()\n",
        "\n",
        "# training model and predicting values\n",
        "mln4 = MultiLayerNeuron(layers=[1,2,1], eta=0.005) # generating MLN with random weights\n",
        "mln4.set_activ('mrelu', param=0.1)\n",
        "# mln4.set_activ('relu')\n",
        "mln4.set_output_activ('linear')\n",
        "\n",
        "for i in range(4000):\n",
        "    MSE = 0.0\n",
        "    MSE += mln4.bp_regres([0],y4[0])\n",
        "    MSE += mln4.bp_regres([1],y4[1])\n",
        "    MSE += mln4.bp_regres([2],y4[2])\n",
        "    MSE += mln4.bp_regres([3],y4[3])\n",
        "    MSE += mln4.bp_regres([4],y4[4])\n",
        "    MSE += mln4.bp_regres([5],y4[5])\n",
        "    MSE = MSE / 6\n",
        "    if(i%200 == 0):\n",
        "        print ('MSE', i, '=',MSE)\n",
        "mln4.printWeights()\n",
        "\n",
        "y4=[]\n",
        "y4.append(mln4.run([0])[0])\n",
        "y4.append(mln4.run([1])[0])\n",
        "y4.append(mln4.run([2])[0])\n",
        "y4.append(mln4.run([3])[0])\n",
        "y4.append(mln4.run([4])[0])\n",
        "y4.append(mln4.run([5])[0])\n",
        "display ('predicted values:',y4)\n",
        "print ()"
      ],
      "execution_count": 23,
      "outputs": [
        {
          "output_type": "stream",
          "name": "stdout",
          "text": [
            "\n",
            "Layer 0 is the Input Layer\n",
            "Layer 1 Neuron 0 : [-1.1   1.74] mrelu\n",
            "Layer 1 Neuron 1 : [ 3.35 -6.44] mrelu\n",
            "Layer 2 Neuron 0 : [-1.41  2.05  2.2 ] linear\n",
            "\n"
          ]
        },
        {
          "output_type": "display_data",
          "data": {
            "application/vnd.google.colaboratory.intrinsic+json": {
              "type": "string"
            },
            "text/plain": [
              "'original values:'"
            ]
          },
          "metadata": {}
        },
        {
          "output_type": "display_data",
          "data": {
            "text/plain": [
              "[-1.5735999999999999,\n",
              " 0.6641500000000005,\n",
              " 2.7978599999999996,\n",
              " 9.82046,\n",
              " 16.843059999999998,\n",
              " 23.865659999999995]"
            ]
          },
          "metadata": {}
        },
        {
          "output_type": "stream",
          "name": "stdout",
          "text": [
            "\n",
            "MSE 0 = 319.05019939953627\n",
            "MSE 200 = 0.6951426098067065\n",
            "MSE 400 = 0.22160963069218295\n",
            "MSE 600 = 0.038335772238223896\n",
            "MSE 800 = 0.0053441210842693695\n",
            "MSE 1000 = 0.0006976859363124628\n",
            "MSE 1200 = 8.858123950547307e-05\n",
            "MSE 1400 = 1.1121992147017414e-05\n",
            "MSE 1600 = 1.4003900112660313e-06\n",
            "MSE 1800 = 1.7527104669866588e-07\n",
            "MSE 2000 = 2.194580125992845e-08\n",
            "MSE 2200 = 2.758372607375086e-09\n",
            "MSE 2400 = 3.4524659435027884e-10\n",
            "MSE 2600 = 4.3224963991211035e-11\n",
            "MSE 2800 = 5.432727110224384e-12\n",
            "MSE 3000 = 6.79864314454025e-13\n",
            "MSE 3200 = 8.54234247597829e-14\n",
            "MSE 3400 = 1.0697395713300622e-14\n",
            "MSE 3600 = 1.3389536565908188e-15\n",
            "MSE 3800 = 1.682461666978609e-16\n",
            "\n",
            "Layer 0 is the Input Layer\n",
            "Layer 1 Neuron 0 : [-1.10734436  1.10734436] mrelu\n",
            "Layer 1 Neuron 1 : [ 1.94400566 -3.48168794] mrelu\n",
            "Layer 2 Neuron 0 : [-1.4006483   3.53265433  1.20735999] linear\n",
            "\n"
          ]
        },
        {
          "output_type": "display_data",
          "data": {
            "application/vnd.google.colaboratory.intrinsic+json": {
              "type": "string"
            },
            "text/plain": [
              "'predicted values:'"
            ]
          },
          "metadata": {}
        },
        {
          "output_type": "display_data",
          "data": {
            "text/plain": [
              "[-1.5735999984081446,\n",
              " 0.6641499948229865,\n",
              " 2.7978600009735066,\n",
              " 9.820460000334313,\n",
              " 16.843059999695118,\n",
              " 23.865659999055925]"
            ]
          },
          "metadata": {}
        },
        {
          "output_type": "stream",
          "name": "stdout",
          "text": [
            "\n"
          ]
        }
      ]
    },
    {
      "cell_type": "code",
      "metadata": {
        "id": "V8pAh-iAkiJw",
        "colab": {
          "base_uri": "https://localhost:8080/",
          "height": 1000
        },
        "outputId": "aba653c5-8910-442f-b576-65d0668ab21d"
      },
      "source": [
        "reg2=Regres(layers=[1,2,1], eta=0.0001)\n",
        "X=[[1],[2],[3],[4],[5]]\n",
        "y=[1.,4.,9.,16.,25.]\n",
        "# reg2.printWeights()\n",
        "\n",
        "reg2.set_hidden_activ('mrelu', param=0.1)\n",
        "reg2.fit(X,y,epochs=500)\n",
        "reg2.printWeights()\n",
        "pred=reg2.predict(X)\n",
        "print (pred)\n",
        "print()\n",
        "# display ('weight_history',reg2.weight_history)\n",
        "display ('MSE',np.array(reg2.MSE_history).min())"
      ],
      "execution_count": 24,
      "outputs": [
        {
          "output_type": "stream",
          "name": "stdout",
          "text": [
            "weight_epoch [array([-0.7500363 , -0.39889672]), array([-0.44679241, -0.93865311]), array([-0.54125206,  0.96467995,  0.99044019])]\n",
            "weight_epoch [array([-0.7500363 , -0.39889672]), array([-0.44679241, -0.93865311]), array([-0.54125206,  0.96467995,  1.00044815])]\n",
            "weight_epoch [array([-0.7500363 , -0.39889672]), array([-0.44679241, -0.93865311]), array([-0.54125206,  0.96467995,  1.0104461 ])]\n",
            "weight_epoch [array([-0.7500363 , -0.39889672]), array([-0.44679241, -0.93865311]), array([-0.54125206,  0.96467995,  1.02043406])]\n",
            "weight_epoch [array([-0.7500363 , -0.39889672]), array([-0.44679241, -0.93865311]), array([-0.54125206,  0.96467995,  1.03041203])]\n",
            "weight_epoch [array([-0.7500363 , -0.39889672]), array([-0.44679241, -0.93865311]), array([-0.54125206,  0.96467995,  1.04038003])]\n",
            "weight_epoch [array([-0.7500363 , -0.39889672]), array([-0.44679241, -0.93865311]), array([-0.54125206,  0.96467995,  1.05033807])]\n",
            "weight_epoch [array([-0.7500363 , -0.39889672]), array([-0.44679241, -0.93865311]), array([-0.54125206,  0.96467995,  1.06028615])]\n",
            "weight_epoch [array([-0.7500363 , -0.39889672]), array([-0.44679241, -0.93865311]), array([-0.54125206,  0.96467995,  1.07022429])]\n",
            "weight_epoch [array([-0.7500363 , -0.39889672]), array([-0.44679241, -0.93865311]), array([-0.54125206,  0.96467995,  1.08015249])]\n",
            "weight_epoch [array([-0.7500363 , -0.39889672]), array([-0.44679241, -0.93865311]), array([-0.54125206,  0.96467995,  1.09007077])]\n",
            "weight_epoch [array([-0.7500363 , -0.39889672]), array([-0.44679241, -0.93865311]), array([-0.54125206,  0.96467995,  1.09997914])]\n",
            "weight_epoch [array([-0.7500363 , -0.39889672]), array([-0.44679241, -0.93865311]), array([-0.54125206,  0.96467995,  1.1098776 ])]\n",
            "weight_epoch [array([-0.7500363 , -0.39889672]), array([-0.44679241, -0.93865311]), array([-0.54125206,  0.96467995,  1.11976617])]\n",
            "weight_epoch [array([-0.7500363 , -0.39889672]), array([-0.44679241, -0.93865311]), array([-0.54125206,  0.96467995,  1.12964485])]\n",
            "weight_epoch [array([-0.7500363 , -0.39889672]), array([-0.44679241, -0.93865311]), array([-0.54125206,  0.96467995,  1.13951366])]\n",
            "weight_epoch [array([-0.7500363 , -0.39889672]), array([-0.44679241, -0.93865311]), array([-0.54125206,  0.96467995,  1.1493726 ])]\n",
            "weight_epoch [array([-0.7500363 , -0.39889672]), array([-0.44679241, -0.93865311]), array([-0.54125206,  0.96467995,  1.15922168])]\n",
            "weight_epoch [array([-0.7500363 , -0.39889672]), array([-0.44679241, -0.93865311]), array([-0.54125206,  0.96467995,  1.16906093])]\n",
            "weight_epoch [array([-0.7500363 , -0.39889672]), array([-0.44679241, -0.93865311]), array([-0.54125206,  0.96467995,  1.17889033])]\n",
            "weight_epoch [array([-0.7500363 , -0.39889672]), array([-0.44679241, -0.93865311]), array([-0.54125206,  0.96467995,  1.18870992])]\n",
            "weight_epoch [array([-0.7500363 , -0.39889672]), array([-0.44679241, -0.93865311]), array([-0.54125206,  0.96467995,  1.19851968])]\n",
            "weight_epoch [array([-0.7500363 , -0.39889672]), array([-0.44679241, -0.93865311]), array([-0.54125206,  0.96467995,  1.20831964])]\n",
            "weight_epoch [array([-0.7500363 , -0.39889672]), array([-0.44679241, -0.93865311]), array([-0.54125206,  0.96467995,  1.2181098 ])]\n",
            "weight_epoch [array([-0.7500363 , -0.39889672]), array([-0.44679241, -0.93865311]), array([-0.54125206,  0.96467995,  1.22789018])]\n",
            "weight_epoch [array([-0.7500363 , -0.39889672]), array([-0.44679241, -0.93865311]), array([-0.54125206,  0.96467995,  1.23766078])]\n",
            "weight_epoch [array([-0.7500363 , -0.39889672]), array([-0.44679241, -0.93865311]), array([-0.54125206,  0.96467995,  1.24742162])]\n",
            "weight_epoch [array([-0.7500363 , -0.39889672]), array([-0.44679241, -0.93865311]), array([-0.54125206,  0.96467995,  1.25717269])]\n",
            "weight_epoch [array([-0.7500363 , -0.39889672]), array([-0.44679241, -0.93865311]), array([-0.54125206,  0.96467995,  1.26691403])]\n",
            "weight_epoch [array([-0.7500363 , -0.39889672]), array([-0.44679241, -0.93865311]), array([-0.54125206,  0.96467995,  1.27664562])]\n",
            "weight_epoch [array([-0.7500363 , -0.39889672]), array([-0.44679241, -0.93865311]), array([-0.54125206,  0.96467995,  1.28636748])]\n",
            "weight_epoch [array([-0.7500363 , -0.39889672]), array([-0.44679241, -0.93865311]), array([-0.54125206,  0.96467995,  1.29607963])]\n",
            "weight_epoch [array([-0.7500363 , -0.39889672]), array([-0.44679241, -0.93865311]), array([-0.54125206,  0.96467995,  1.30578207])]\n",
            "weight_epoch [array([-0.7500363 , -0.39889672]), array([-0.44679241, -0.93865311]), array([-0.54125206,  0.96467995,  1.31547481])]\n",
            "weight_epoch [array([-0.7500363 , -0.39889672]), array([-0.44679241, -0.93865311]), array([-0.54125206,  0.96467995,  1.32515786])]\n",
            "weight_epoch [array([-0.7500363 , -0.39889672]), array([-0.44679241, -0.93865311]), array([-0.54125206,  0.96467995,  1.33483123])]\n",
            "weight_epoch [array([-0.7500363 , -0.39889672]), array([-0.44679241, -0.93865311]), array([-0.54125206,  0.96467995,  1.34449494])]\n",
            "weight_epoch [array([-0.7500363 , -0.39889672]), array([-0.44679241, -0.93865311]), array([-0.54125206,  0.96467995,  1.35414898])]\n",
            "weight_epoch [array([-0.7500363 , -0.39889672]), array([-0.44679241, -0.93865311]), array([-0.54125206,  0.96467995,  1.36379337])]\n",
            "weight_epoch [array([-0.7500363 , -0.39889672]), array([-0.44679241, -0.93865311]), array([-0.54125206,  0.96467995,  1.37342812])]\n",
            "weight_epoch [array([-0.7500363 , -0.39889672]), array([-0.44679241, -0.93865311]), array([-0.54125206,  0.96467995,  1.38305325])]\n",
            "weight_epoch [array([-0.7500363 , -0.39889672]), array([-0.44679241, -0.93865311]), array([-0.54125206,  0.96467995,  1.39266875])]\n",
            "weight_epoch [array([-0.7500363 , -0.39889672]), array([-0.44679241, -0.93865311]), array([-0.54125206,  0.96467995,  1.40227463])]\n",
            "weight_epoch [array([-0.7500363 , -0.39889672]), array([-0.44679241, -0.93865311]), array([-0.54125206,  0.96467995,  1.41187092])]\n",
            "weight_epoch [array([-0.7500363 , -0.39889672]), array([-0.44679241, -0.93865311]), array([-0.54125206,  0.96467995,  1.42145761])]\n",
            "weight_epoch [array([-0.7500363 , -0.39889672]), array([-0.44679241, -0.93865311]), array([-0.54125206,  0.96467995,  1.43103473])]\n",
            "weight_epoch [array([-0.7500363 , -0.39889672]), array([-0.44679241, -0.93865311]), array([-0.54125206,  0.96467995,  1.44060226])]\n",
            "weight_epoch [array([-0.7500363 , -0.39889672]), array([-0.44679241, -0.93865311]), array([-0.54125206,  0.96467995,  1.45016024])]\n",
            "weight_epoch [array([-0.7500363 , -0.39889672]), array([-0.44679241, -0.93865311]), array([-0.54125206,  0.96467995,  1.45970866])]\n",
            "weight_epoch [array([-0.7500363 , -0.39889672]), array([-0.44679241, -0.93865311]), array([-0.54125206,  0.96467995,  1.46924753])]\n",
            "weight_epoch [array([-0.7500363 , -0.39889672]), array([-0.44679241, -0.93865311]), array([-0.54125206,  0.96467995,  1.47877687])]\n",
            "weight_epoch [array([-0.7500363 , -0.39889672]), array([-0.44679241, -0.93865311]), array([-0.54125206,  0.96467995,  1.48829669])]\n",
            "weight_epoch [array([-0.7500363 , -0.39889672]), array([-0.44679241, -0.93865311]), array([-0.54125206,  0.96467995,  1.49780699])]\n",
            "weight_epoch [array([-0.7500363 , -0.39889672]), array([-0.44679241, -0.93865311]), array([-0.54125206,  0.96467995,  1.50730778])]\n",
            "weight_epoch [array([-0.7500363 , -0.39889672]), array([-0.44679241, -0.93865311]), array([-0.54125206,  0.96467995,  1.51679907])]\n",
            "weight_epoch [array([-0.7500363 , -0.39889672]), array([-0.44679241, -0.93865311]), array([-0.54125206,  0.96467995,  1.52628088])]\n",
            "weight_epoch [array([-0.7500363 , -0.39889672]), array([-0.44679241, -0.93865311]), array([-0.54125206,  0.96467995,  1.53575321])]\n",
            "weight_epoch [array([-0.7500363 , -0.39889672]), array([-0.44679241, -0.93865311]), array([-0.54125206,  0.96467995,  1.54521607])]\n",
            "weight_epoch [array([-0.7500363 , -0.39889672]), array([-0.44679241, -0.93865311]), array([-0.54125206,  0.96467995,  1.55466947])]\n",
            "weight_epoch [array([-0.7500363 , -0.39889672]), array([-0.44679241, -0.93865311]), array([-0.54125206,  0.96467995,  1.56411343])]\n",
            "weight_epoch [array([-0.7500363 , -0.39889672]), array([-0.44679241, -0.93865311]), array([-0.54125206,  0.96467995,  1.57354794])]\n",
            "weight_epoch [array([-0.7500363 , -0.39889672]), array([-0.44679241, -0.93865311]), array([-0.54125206,  0.96467995,  1.58297302])]\n",
            "weight_epoch [array([-0.7500363 , -0.39889672]), array([-0.44679241, -0.93865311]), array([-0.54125206,  0.96467995,  1.59238868])]\n",
            "weight_epoch [array([-0.7500363 , -0.39889672]), array([-0.44679241, -0.93865311]), array([-0.54125206,  0.96467995,  1.60179493])]\n",
            "weight_epoch [array([-0.7500363 , -0.39889672]), array([-0.44679241, -0.93865311]), array([-0.54125206,  0.96467995,  1.61119178])]\n",
            "weight_epoch [array([-0.7500363 , -0.39889672]), array([-0.44679241, -0.93865311]), array([-0.54125206,  0.96467995,  1.62057923])]\n",
            "weight_epoch [array([-0.7500363 , -0.39889672]), array([-0.44679241, -0.93865311]), array([-0.54125206,  0.96467995,  1.6299573 ])]\n",
            "weight_epoch [array([-0.7500363 , -0.39889672]), array([-0.44679241, -0.93865311]), array([-0.54125206,  0.96467995,  1.63932599])]\n",
            "weight_epoch [array([-0.7500363 , -0.39889672]), array([-0.44679241, -0.93865311]), array([-0.54125206,  0.96467995,  1.64868532])]\n",
            "weight_epoch [array([-0.7500363 , -0.39889672]), array([-0.44679241, -0.93865311]), array([-0.54125206,  0.96467995,  1.6580353 ])]\n",
            "weight_epoch [array([-0.7500363 , -0.39889672]), array([-0.44679241, -0.93865311]), array([-0.54125206,  0.96467995,  1.66737592])]\n",
            "weight_epoch [array([-0.7500363 , -0.39889672]), array([-0.44679241, -0.93865311]), array([-0.54125206,  0.96467995,  1.67670722])]\n",
            "weight_epoch [array([-0.7500363 , -0.39889672]), array([-0.44679241, -0.93865311]), array([-0.54125206,  0.96467995,  1.68602918])]\n",
            "weight_epoch [array([-0.7500363 , -0.39889672]), array([-0.44679241, -0.93865311]), array([-0.54125206,  0.96467995,  1.69534182])]\n",
            "weight_epoch [array([-0.7500363 , -0.39889672]), array([-0.44679241, -0.93865311]), array([-0.54125206,  0.96467995,  1.70464516])]\n",
            "weight_epoch [array([-0.7500363 , -0.39889672]), array([-0.44679241, -0.93865311]), array([-0.54125206,  0.96467995,  1.7139392 ])]\n",
            "weight_epoch [array([-0.7500363 , -0.39889672]), array([-0.44679241, -0.93865311]), array([-0.54125206,  0.96467995,  1.72322394])]\n",
            "weight_epoch [array([-0.7500363 , -0.39889672]), array([-0.44679241, -0.93865311]), array([-0.54125206,  0.96467995,  1.73249941])]\n",
            "weight_epoch [array([-0.7500363 , -0.39889672]), array([-0.44679241, -0.93865311]), array([-0.54125206,  0.96467995,  1.7417656 ])]\n",
            "weight_epoch [array([-0.7500363 , -0.39889672]), array([-0.44679241, -0.93865311]), array([-0.54125206,  0.96467995,  1.75102253])]\n",
            "weight_epoch [array([-0.7500363 , -0.39889672]), array([-0.44679241, -0.93865311]), array([-0.54125206,  0.96467995,  1.76027021])]\n",
            "weight_epoch [array([-0.7500363 , -0.39889672]), array([-0.44679241, -0.93865311]), array([-0.54125206,  0.96467995,  1.76950865])]\n",
            "weight_epoch [array([-0.7500363 , -0.39889672]), array([-0.44679241, -0.93865311]), array([-0.54125206,  0.96467995,  1.77873785])]\n",
            "weight_epoch [array([-0.7500363 , -0.39889672]), array([-0.44679241, -0.93865311]), array([-0.54125206,  0.96467995,  1.78795782])]\n",
            "weight_epoch [array([-0.7500363 , -0.39889672]), array([-0.44679241, -0.93865311]), array([-0.54125206,  0.96467995,  1.79716858])]\n",
            "weight_epoch [array([-0.7500363 , -0.39889672]), array([-0.44679241, -0.93865311]), array([-0.54125206,  0.96467995,  1.80637013])]\n",
            "weight_epoch [array([-0.7500363 , -0.39889672]), array([-0.44679241, -0.93865311]), array([-0.54125206,  0.96467995,  1.81556248])]\n",
            "weight_epoch [array([-0.7500363 , -0.39889672]), array([-0.44679241, -0.93865311]), array([-0.54125206,  0.96467995,  1.82474564])]\n",
            "weight_epoch [array([-0.7500363 , -0.39889672]), array([-0.44679241, -0.93865311]), array([-0.54125206,  0.96467995,  1.83391963])]\n",
            "weight_epoch [array([-0.7500363 , -0.39889672]), array([-0.44679241, -0.93865311]), array([-0.54125206,  0.96467995,  1.84308444])]\n",
            "weight_epoch [array([-0.7500363 , -0.39889672]), array([-0.44679241, -0.93865311]), array([-0.54125206,  0.96467995,  1.85224009])]\n",
            "weight_epoch [array([-0.7500363 , -0.39889672]), array([-0.44679241, -0.93865311]), array([-0.54125206,  0.96467995,  1.8613866 ])]\n",
            "weight_epoch [array([-0.7500363 , -0.39889672]), array([-0.44679241, -0.93865311]), array([-0.54125206,  0.96467995,  1.87052395])]\n",
            "weight_epoch [array([-0.7500363 , -0.39889672]), array([-0.44679241, -0.93865311]), array([-0.54125206,  0.96467995,  1.87965218])]\n",
            "weight_epoch [array([-0.7500363 , -0.39889672]), array([-0.44679241, -0.93865311]), array([-0.54125206,  0.96467995,  1.88877128])]\n",
            "weight_epoch [array([-0.7500363 , -0.39889672]), array([-0.44679241, -0.93865311]), array([-0.54125206,  0.96467995,  1.89788126])]\n",
            "weight_epoch [array([-0.7500363 , -0.39889672]), array([-0.44679241, -0.93865311]), array([-0.54125206,  0.96467995,  1.90698214])]\n",
            "weight_epoch [array([-0.7500363 , -0.39889672]), array([-0.44679241, -0.93865311]), array([-0.54125206,  0.96467995,  1.91607392])]\n",
            "weight_epoch [array([-0.7500363 , -0.39889672]), array([-0.44679241, -0.93865311]), array([-0.54125206,  0.96467995,  1.92515661])]\n",
            "weight_epoch [array([-0.7500363 , -0.39889672]), array([-0.44679241, -0.93865311]), array([-0.54125206,  0.96467995,  1.93423023])]\n",
            "weight_epoch [array([-0.7500363 , -0.39889672]), array([-0.44679241, -0.93865311]), array([-0.54125206,  0.96467995,  1.94329477])]\n",
            "weight_epoch [array([-0.7500363 , -0.39889672]), array([-0.44679241, -0.93865311]), array([-0.54125206,  0.96467995,  1.95235025])]\n",
            "weight_epoch [array([-0.7500363 , -0.39889672]), array([-0.44679241, -0.93865311]), array([-0.54125206,  0.96467995,  1.96139668])]\n",
            "weight_epoch [array([-0.7500363 , -0.39889672]), array([-0.44679241, -0.93865311]), array([-0.54125206,  0.96467995,  1.97043407])]\n",
            "weight_epoch [array([-0.7500363 , -0.39889672]), array([-0.44679241, -0.93865311]), array([-0.54125206,  0.96467995,  1.97946243])]\n",
            "weight_epoch [array([-0.7500363 , -0.39889672]), array([-0.44679241, -0.93865311]), array([-0.54125206,  0.96467995,  1.98848175])]\n",
            "weight_epoch [array([-0.7500363 , -0.39889672]), array([-0.44679241, -0.93865311]), array([-0.54125206,  0.96467995,  1.99749207])]\n",
            "weight_epoch [array([-0.7500363 , -0.39889672]), array([-0.44679241, -0.93865311]), array([-0.54125206,  0.96467995,  2.00649338])]\n",
            "weight_epoch [array([-0.7500363 , -0.39889672]), array([-0.44679241, -0.93865311]), array([-0.54125206,  0.96467995,  2.01548568])]\n",
            "weight_epoch [array([-0.7500363 , -0.39889672]), array([-0.44679241, -0.93865311]), array([-0.54125206,  0.96467995,  2.02446901])]\n",
            "weight_epoch [array([-0.7500363 , -0.39889672]), array([-0.44679241, -0.93865311]), array([-0.54125206,  0.96467995,  2.03344335])]\n",
            "weight_epoch [array([-0.7500363 , -0.39889672]), array([-0.44679241, -0.93865311]), array([-0.54125206,  0.96467995,  2.04240872])]\n",
            "weight_epoch [array([-0.7500363 , -0.39889672]), array([-0.44679241, -0.93865311]), array([-0.54125206,  0.96467995,  2.05136512])]\n",
            "weight_epoch [array([-0.7500363 , -0.39889672]), array([-0.44679241, -0.93865311]), array([-0.54125206,  0.96467995,  2.06031258])]\n",
            "weight_epoch [array([-0.7500363 , -0.39889672]), array([-0.44679241, -0.93865311]), array([-0.54125206,  0.96467995,  2.06925109])]\n",
            "weight_epoch [array([-0.7500363 , -0.39889672]), array([-0.44679241, -0.93865311]), array([-0.54125206,  0.96467995,  2.07818067])]\n",
            "weight_epoch [array([-0.7500363 , -0.39889672]), array([-0.44679241, -0.93865311]), array([-0.54125206,  0.96467995,  2.08710132])]\n",
            "weight_epoch [array([-0.7500363 , -0.39889672]), array([-0.44679241, -0.93865311]), array([-0.54125206,  0.96467995,  2.09601305])]\n",
            "weight_epoch [array([-0.7500363 , -0.39889672]), array([-0.44679241, -0.93865311]), array([-0.54125206,  0.96467995,  2.10491588])]\n",
            "weight_epoch [array([-0.7500363 , -0.39889672]), array([-0.44679241, -0.93865311]), array([-0.54125206,  0.96467995,  2.1138098 ])]\n",
            "weight_epoch [array([-0.7500363 , -0.39889672]), array([-0.44679241, -0.93865311]), array([-0.54125206,  0.96467995,  2.12269484])]\n",
            "weight_epoch [array([-0.7500363 , -0.39889672]), array([-0.44679241, -0.93865311]), array([-0.54125206,  0.96467995,  2.13157099])]\n",
            "weight_epoch [array([-0.7500363 , -0.39889672]), array([-0.44679241, -0.93865311]), array([-0.54125206,  0.96467995,  2.14043828])]\n",
            "weight_epoch [array([-0.7500363 , -0.39889672]), array([-0.44679241, -0.93865311]), array([-0.54125206,  0.96467995,  2.14929669])]\n",
            "weight_epoch [array([-0.7500363 , -0.39889672]), array([-0.44679241, -0.93865311]), array([-0.54125206,  0.96467995,  2.15814626])]\n",
            "weight_epoch [array([-0.7500363 , -0.39889672]), array([-0.44679241, -0.93865311]), array([-0.54125206,  0.96467995,  2.16698697])]\n",
            "weight_epoch [array([-0.7500363 , -0.39889672]), array([-0.44679241, -0.93865311]), array([-0.54125206,  0.96467995,  2.17581885])]\n",
            "weight_epoch [array([-0.7500363 , -0.39889672]), array([-0.44679241, -0.93865311]), array([-0.54125206,  0.96467995,  2.18464191])]\n",
            "weight_epoch [array([-0.7500363 , -0.39889672]), array([-0.44679241, -0.93865311]), array([-0.54125206,  0.96467995,  2.19345614])]\n",
            "weight_epoch [array([-0.7500363 , -0.39889672]), array([-0.44679241, -0.93865311]), array([-0.54125206,  0.96467995,  2.20226156])]\n",
            "weight_epoch [array([-0.7500363 , -0.39889672]), array([-0.44679241, -0.93865311]), array([-0.54125206,  0.96467995,  2.21105818])]\n",
            "weight_epoch [array([-0.7500363 , -0.39889672]), array([-0.44679241, -0.93865311]), array([-0.54125206,  0.96467995,  2.219846  ])]\n",
            "weight_epoch [array([-0.7500363 , -0.39889672]), array([-0.44679241, -0.93865311]), array([-0.54125206,  0.96467995,  2.22862505])]\n",
            "weight_epoch [array([-0.7500363 , -0.39889672]), array([-0.44679241, -0.93865311]), array([-0.54125206,  0.96467995,  2.23739531])]\n",
            "weight_epoch [array([-0.7500363 , -0.39889672]), array([-0.44679241, -0.93865311]), array([-0.54125206,  0.96467995,  2.24615681])]\n",
            "weight_epoch [array([-0.7500363 , -0.39889672]), array([-0.44679241, -0.93865311]), array([-0.54125206,  0.96467995,  2.25490955])]\n",
            "weight_epoch [array([-0.7500363 , -0.39889672]), array([-0.44679241, -0.93865311]), array([-0.54125206,  0.96467995,  2.26365355])]\n",
            "weight_epoch [array([-0.7500363 , -0.39889672]), array([-0.44679241, -0.93865311]), array([-0.54125206,  0.96467995,  2.2723888 ])]\n",
            "weight_epoch [array([-0.7500363 , -0.39889672]), array([-0.44679241, -0.93865311]), array([-0.54125206,  0.96467995,  2.28111532])]\n",
            "weight_epoch [array([-0.7500363 , -0.39889672]), array([-0.44679241, -0.93865311]), array([-0.54125206,  0.96467995,  2.28983312])]\n",
            "weight_epoch [array([-0.7500363 , -0.39889672]), array([-0.44679241, -0.93865311]), array([-0.54125206,  0.96467995,  2.2985422 ])]\n",
            "weight_epoch [array([-0.7500363 , -0.39889672]), array([-0.44679241, -0.93865311]), array([-0.54125206,  0.96467995,  2.30724258])]\n",
            "weight_epoch [array([-0.7500363 , -0.39889672]), array([-0.44679241, -0.93865311]), array([-0.54125206,  0.96467995,  2.31593426])]\n",
            "weight_epoch [array([-0.7500363 , -0.39889672]), array([-0.44679241, -0.93865311]), array([-0.54125206,  0.96467995,  2.32461725])]\n",
            "weight_epoch [array([-0.7500363 , -0.39889672]), array([-0.44679241, -0.93865311]), array([-0.54125206,  0.96467995,  2.33329156])]\n",
            "weight_epoch [array([-0.7500363 , -0.39889672]), array([-0.44679241, -0.93865311]), array([-0.54125206,  0.96467995,  2.3419572 ])]\n",
            "weight_epoch [array([-0.7500363 , -0.39889672]), array([-0.44679241, -0.93865311]), array([-0.54125206,  0.96467995,  2.35061418])]\n",
            "weight_epoch [array([-0.7500363 , -0.39889672]), array([-0.44679241, -0.93865311]), array([-0.54125206,  0.96467995,  2.35926251])]\n",
            "weight_epoch [array([-0.7500363 , -0.39889672]), array([-0.44679241, -0.93865311]), array([-0.54125206,  0.96467995,  2.36790219])]\n",
            "weight_epoch [array([-0.7500363 , -0.39889672]), array([-0.44679241, -0.93865311]), array([-0.54125206,  0.96467995,  2.37653323])]\n",
            "weight_epoch [array([-0.7500363 , -0.39889672]), array([-0.44679241, -0.93865311]), array([-0.54125206,  0.96467995,  2.38515565])]\n",
            "weight_epoch [array([-0.7500363 , -0.39889672]), array([-0.44679241, -0.93865311]), array([-0.54125206,  0.96467995,  2.39376945])]\n",
            "weight_epoch [array([-0.7500363 , -0.39889672]), array([-0.44679241, -0.93865311]), array([-0.54125206,  0.96467995,  2.40237464])]\n",
            "weight_epoch [array([-0.7500363 , -0.39889672]), array([-0.44679241, -0.93865311]), array([-0.54125206,  0.96467995,  2.41097122])]\n",
            "weight_epoch [array([-0.7500363 , -0.39889672]), array([-0.44679241, -0.93865311]), array([-0.54125206,  0.96467995,  2.41955922])]\n",
            "weight_epoch [array([-0.7500363 , -0.39889672]), array([-0.44679241, -0.93865311]), array([-0.54125206,  0.96467995,  2.42813863])]\n",
            "weight_epoch [array([-0.7500363 , -0.39889672]), array([-0.44679241, -0.93865311]), array([-0.54125206,  0.96467995,  2.43670946])]\n",
            "weight_epoch [array([-0.7500363 , -0.39889672]), array([-0.44679241, -0.93865311]), array([-0.54125206,  0.96467995,  2.44527172])]\n",
            "weight_epoch [array([-0.7500363 , -0.39889672]), array([-0.44679241, -0.93865311]), array([-0.54125206,  0.96467995,  2.45382543])]\n",
            "weight_epoch [array([-0.7500363 , -0.39889672]), array([-0.44679241, -0.93865311]), array([-0.54125206,  0.96467995,  2.46237059])]\n",
            "weight_epoch [array([-0.7500363 , -0.39889672]), array([-0.44679241, -0.93865311]), array([-0.54125206,  0.96467995,  2.4709072 ])]\n",
            "weight_epoch [array([-0.7500363 , -0.39889672]), array([-0.44679241, -0.93865311]), array([-0.54125206,  0.96467995,  2.47943528])]\n",
            "weight_epoch [array([-0.7500363 , -0.39889672]), array([-0.44679241, -0.93865311]), array([-0.54125206,  0.96467995,  2.48795484])]\n",
            "weight_epoch [array([-0.7500363 , -0.39889672]), array([-0.44679241, -0.93865311]), array([-0.54125206,  0.96467995,  2.49646588])]\n",
            "weight_epoch [array([-0.7500363 , -0.39889672]), array([-0.44679241, -0.93865311]), array([-0.54125206,  0.96467995,  2.50496841])]\n",
            "weight_epoch [array([-0.7500363 , -0.39889672]), array([-0.44679241, -0.93865311]), array([-0.54125206,  0.96467995,  2.51346245])]\n",
            "weight_epoch [array([-0.7500363 , -0.39889672]), array([-0.44679241, -0.93865311]), array([-0.54125206,  0.96467995,  2.52194799])]\n",
            "weight_epoch [array([-0.7500363 , -0.39889672]), array([-0.44679241, -0.93865311]), array([-0.54125206,  0.96467995,  2.53042505])]\n",
            "weight_epoch [array([-0.7500363 , -0.39889672]), array([-0.44679241, -0.93865311]), array([-0.54125206,  0.96467995,  2.53889364])]\n",
            "weight_epoch [array([-0.7500363 , -0.39889672]), array([-0.44679241, -0.93865311]), array([-0.54125206,  0.96467995,  2.54735376])]\n",
            "weight_epoch [array([-0.7500363 , -0.39889672]), array([-0.44679241, -0.93865311]), array([-0.54125206,  0.96467995,  2.55580542])]\n",
            "weight_epoch [array([-0.7500363 , -0.39889672]), array([-0.44679241, -0.93865311]), array([-0.54125206,  0.96467995,  2.56424864])]\n",
            "weight_epoch [array([-0.7500363 , -0.39889672]), array([-0.44679241, -0.93865311]), array([-0.54125206,  0.96467995,  2.57268342])]\n",
            "weight_epoch [array([-0.7500363 , -0.39889672]), array([-0.44679241, -0.93865311]), array([-0.54125206,  0.96467995,  2.58110976])]\n",
            "weight_epoch [array([-0.7500363 , -0.39889672]), array([-0.44679241, -0.93865311]), array([-0.54125206,  0.96467995,  2.58952769])]\n",
            "weight_epoch [array([-0.7500363 , -0.39889672]), array([-0.44679241, -0.93865311]), array([-0.54125206,  0.96467995,  2.59793719])]\n",
            "weight_epoch [array([-0.7500363 , -0.39889672]), array([-0.44679241, -0.93865311]), array([-0.54125206,  0.96467995,  2.6063383 ])]\n",
            "weight_epoch [array([-0.7500363 , -0.39889672]), array([-0.44679241, -0.93865311]), array([-0.54125206,  0.96467995,  2.614731  ])]\n",
            "weight_epoch [array([-0.7500363 , -0.39889672]), array([-0.44679241, -0.93865311]), array([-0.54125206,  0.96467995,  2.62311532])]\n",
            "weight_epoch [array([-0.7500363 , -0.39889672]), array([-0.44679241, -0.93865311]), array([-0.54125206,  0.96467995,  2.63149125])]\n",
            "weight_epoch [array([-0.7500363 , -0.39889672]), array([-0.44679241, -0.93865311]), array([-0.54125206,  0.96467995,  2.63985881])]\n",
            "weight_epoch [array([-0.7500363 , -0.39889672]), array([-0.44679241, -0.93865311]), array([-0.54125206,  0.96467995,  2.64821801])]\n",
            "weight_epoch [array([-0.7500363 , -0.39889672]), array([-0.44679241, -0.93865311]), array([-0.54125206,  0.96467995,  2.65656885])]\n",
            "weight_epoch [array([-0.7500363 , -0.39889672]), array([-0.44679241, -0.93865311]), array([-0.54125206,  0.96467995,  2.66491134])]\n",
            "weight_epoch [array([-0.7500363 , -0.39889672]), array([-0.44679241, -0.93865311]), array([-0.54125206,  0.96467995,  2.6732455 ])]\n",
            "weight_epoch [array([-0.7500363 , -0.39889672]), array([-0.44679241, -0.93865311]), array([-0.54125206,  0.96467995,  2.68157132])]\n",
            "weight_epoch [array([-0.7500363 , -0.39889672]), array([-0.44679241, -0.93865311]), array([-0.54125206,  0.96467995,  2.68988882])]\n",
            "weight_epoch [array([-0.7500363 , -0.39889672]), array([-0.44679241, -0.93865311]), array([-0.54125206,  0.96467995,  2.69819801])]\n",
            "weight_epoch [array([-0.7500363 , -0.39889672]), array([-0.44679241, -0.93865311]), array([-0.54125206,  0.96467995,  2.70649889])]\n",
            "weight_epoch [array([-0.7500363 , -0.39889672]), array([-0.44679241, -0.93865311]), array([-0.54125206,  0.96467995,  2.71479147])]\n",
            "weight_epoch [array([-0.7500363 , -0.39889672]), array([-0.44679241, -0.93865311]), array([-0.54125206,  0.96467995,  2.72307577])]\n",
            "weight_epoch [array([-0.7500363 , -0.39889672]), array([-0.44679241, -0.93865311]), array([-0.54125206,  0.96467995,  2.73135178])]\n",
            "weight_epoch [array([-0.7500363 , -0.39889672]), array([-0.44679241, -0.93865311]), array([-0.54125206,  0.96467995,  2.73961952])]\n",
            "weight_epoch [array([-0.7500363 , -0.39889672]), array([-0.44679241, -0.93865311]), array([-0.54125206,  0.96467995,  2.747879  ])]\n",
            "weight_epoch [array([-0.7500363 , -0.39889672]), array([-0.44679241, -0.93865311]), array([-0.54125206,  0.96467995,  2.75613022])]\n",
            "weight_epoch [array([-0.7500363 , -0.39889672]), array([-0.44679241, -0.93865311]), array([-0.54125206,  0.96467995,  2.76437319])]\n",
            "weight_epoch [array([-0.7500363 , -0.39889672]), array([-0.44679241, -0.93865311]), array([-0.54125206,  0.96467995,  2.77260792])]\n",
            "weight_epoch [array([-0.7500363 , -0.39889672]), array([-0.44679241, -0.93865311]), array([-0.54125206,  0.96467995,  2.78083443])]\n",
            "weight_epoch [array([-0.7500363 , -0.39889672]), array([-0.44679241, -0.93865311]), array([-0.54125206,  0.96467995,  2.7890527 ])]\n",
            "weight_epoch [array([-0.7500363 , -0.39889672]), array([-0.44679241, -0.93865311]), array([-0.54125206,  0.96467995,  2.79726277])]\n",
            "weight_epoch [array([-0.7500363 , -0.39889672]), array([-0.44679241, -0.93865311]), array([-0.54125206,  0.96467995,  2.80546462])]\n",
            "weight_epoch [array([-0.7500363 , -0.39889672]), array([-0.44679241, -0.93865311]), array([-0.54125206,  0.96467995,  2.81365828])]\n",
            "weight_epoch [array([-0.7500363 , -0.39889672]), array([-0.44679241, -0.93865311]), array([-0.54125206,  0.96467995,  2.82184375])]\n",
            "weight_epoch [array([-0.7500363 , -0.39889672]), array([-0.44679241, -0.93865311]), array([-0.54125206,  0.96467995,  2.83002103])]\n",
            "weight_epoch [array([-0.7500363 , -0.39889672]), array([-0.44679241, -0.93865311]), array([-0.54125206,  0.96467995,  2.83819014])]\n",
            "weight_epoch [array([-0.7500363 , -0.39889672]), array([-0.44679241, -0.93865311]), array([-0.54125206,  0.96467995,  2.84635109])]\n",
            "weight_epoch [array([-0.7500363 , -0.39889672]), array([-0.44679241, -0.93865311]), array([-0.54125206,  0.96467995,  2.85450388])]\n",
            "weight_epoch [array([-0.7500363 , -0.39889672]), array([-0.44679241, -0.93865311]), array([-0.54125206,  0.96467995,  2.86264851])]\n",
            "weight_epoch [array([-0.7500363 , -0.39889672]), array([-0.44679241, -0.93865311]), array([-0.54125206,  0.96467995,  2.87078501])]\n",
            "weight_epoch [array([-0.7500363 , -0.39889672]), array([-0.44679241, -0.93865311]), array([-0.54125206,  0.96467995,  2.87891337])]\n",
            "weight_epoch [array([-0.7500363 , -0.39889672]), array([-0.44679241, -0.93865311]), array([-0.54125206,  0.96467995,  2.88703361])]\n",
            "weight_epoch [array([-0.7500363 , -0.39889672]), array([-0.44679241, -0.93865311]), array([-0.54125206,  0.96467995,  2.89514573])]\n",
            "weight_epoch [array([-0.7500363 , -0.39889672]), array([-0.44679241, -0.93865311]), array([-0.54125206,  0.96467995,  2.90324975])]\n",
            "weight_epoch [array([-0.7500363 , -0.39889672]), array([-0.44679241, -0.93865311]), array([-0.54125206,  0.96467995,  2.91134566])]\n",
            "weight_epoch [array([-0.7500363 , -0.39889672]), array([-0.44679241, -0.93865311]), array([-0.54125206,  0.96467995,  2.91943348])]\n",
            "weight_epoch [array([-0.7500363 , -0.39889672]), array([-0.44679241, -0.93865311]), array([-0.54125206,  0.96467995,  2.92751321])]\n",
            "weight_epoch [array([-0.7500363 , -0.39889672]), array([-0.44679241, -0.93865311]), array([-0.54125206,  0.96467995,  2.93558487])]\n",
            "weight_epoch [array([-0.7500363 , -0.39889672]), array([-0.44679241, -0.93865311]), array([-0.54125206,  0.96467995,  2.94364846])]\n",
            "weight_epoch [array([-0.7500363 , -0.39889672]), array([-0.44679241, -0.93865311]), array([-0.54125206,  0.96467995,  2.95170399])]\n",
            "weight_epoch [array([-0.7500363 , -0.39889672]), array([-0.44679241, -0.93865311]), array([-0.54125206,  0.96467995,  2.95975146])]\n",
            "weight_epoch [array([-0.7500363 , -0.39889672]), array([-0.44679241, -0.93865311]), array([-0.54125206,  0.96467995,  2.9677909 ])]\n",
            "weight_epoch [array([-0.7500363 , -0.39889672]), array([-0.44679241, -0.93865311]), array([-0.54125206,  0.96467995,  2.97582229])]\n",
            "weight_epoch [array([-0.7500363 , -0.39889672]), array([-0.44679241, -0.93865311]), array([-0.54125206,  0.96467995,  2.98384566])]\n",
            "weight_epoch [array([-0.7500363 , -0.39889672]), array([-0.44679241, -0.93865311]), array([-0.54125206,  0.96467995,  2.99186101])]\n",
            "weight_epoch [array([-0.7500363 , -0.39889672]), array([-0.44679241, -0.93865311]), array([-0.54125206,  0.96467995,  2.99986834])]\n",
            "weight_epoch [array([-0.7500363 , -0.39889672]), array([-0.44679241, -0.93865311]), array([-0.54125206,  0.96467995,  3.00786767])]\n",
            "weight_epoch [array([-0.7500363 , -0.39889672]), array([-0.44679241, -0.93865311]), array([-0.54125206,  0.96467995,  3.01585901])]\n",
            "weight_epoch [array([-0.7500363 , -0.39889672]), array([-0.44679241, -0.93865311]), array([-0.54125206,  0.96467995,  3.02384236])]\n",
            "weight_epoch [array([-0.7500363 , -0.39889672]), array([-0.44679241, -0.93865311]), array([-0.54125206,  0.96467995,  3.03181772])]\n",
            "weight_epoch [array([-0.7500363 , -0.39889672]), array([-0.44679241, -0.93865311]), array([-0.54125206,  0.96467995,  3.03978512])]\n",
            "weight_epoch [array([-0.7500363 , -0.39889672]), array([-0.44679241, -0.93865311]), array([-0.54125206,  0.96467995,  3.04774455])]\n",
            "weight_epoch [array([-0.7500363 , -0.39889672]), array([-0.44679241, -0.93865311]), array([-0.54125206,  0.96467995,  3.05569602])]\n",
            "weight_epoch [array([-0.7500363 , -0.39889672]), array([-0.44679241, -0.93865311]), array([-0.54125206,  0.96467995,  3.06363955])]\n",
            "weight_epoch [array([-0.7500363 , -0.39889672]), array([-0.44679241, -0.93865311]), array([-0.54125206,  0.96467995,  3.07157514])]\n",
            "weight_epoch [array([-0.7500363 , -0.39889672]), array([-0.44679241, -0.93865311]), array([-0.54125206,  0.96467995,  3.07950279])]\n",
            "weight_epoch [array([-0.7500363 , -0.39889672]), array([-0.44679241, -0.93865311]), array([-0.54125206,  0.96467995,  3.08742252])]\n",
            "weight_epoch [array([-0.7500363 , -0.39889672]), array([-0.44679241, -0.93865311]), array([-0.54125206,  0.96467995,  3.09533433])]\n",
            "weight_epoch [array([-0.7500363 , -0.39889672]), array([-0.44679241, -0.93865311]), array([-0.54125206,  0.96467995,  3.10323824])]\n",
            "weight_epoch [array([-0.7500363 , -0.39889672]), array([-0.44679241, -0.93865311]), array([-0.54125206,  0.96467995,  3.11113424])]\n",
            "weight_epoch [array([-0.7500363 , -0.39889672]), array([-0.44679241, -0.93865311]), array([-0.54125206,  0.96467995,  3.11902235])]\n",
            "weight_epoch [array([-0.7500363 , -0.39889672]), array([-0.44679241, -0.93865311]), array([-0.54125206,  0.96467995,  3.12690257])]\n",
            "weight_epoch [array([-0.7500363 , -0.39889672]), array([-0.44679241, -0.93865311]), array([-0.54125206,  0.96467995,  3.13477492])]\n",
            "weight_epoch [array([-0.7500363 , -0.39889672]), array([-0.44679241, -0.93865311]), array([-0.54125206,  0.96467995,  3.1426394 ])]\n",
            "weight_epoch [array([-0.7500363 , -0.39889672]), array([-0.44679241, -0.93865311]), array([-0.54125206,  0.96467995,  3.15049602])]\n",
            "weight_epoch [array([-0.7500363 , -0.39889672]), array([-0.44679241, -0.93865311]), array([-0.54125206,  0.96467995,  3.15834478])]\n",
            "weight_epoch [array([-0.7500363 , -0.39889672]), array([-0.44679241, -0.93865311]), array([-0.54125206,  0.96467995,  3.1661857 ])]\n",
            "weight_epoch [array([-0.7500363 , -0.39889672]), array([-0.44679241, -0.93865311]), array([-0.54125206,  0.96467995,  3.17401878])]\n",
            "weight_epoch [array([-0.7500363 , -0.39889672]), array([-0.44679241, -0.93865311]), array([-0.54125206,  0.96467995,  3.18184403])]\n",
            "weight_epoch [array([-0.7500363 , -0.39889672]), array([-0.44679241, -0.93865311]), array([-0.54125206,  0.96467995,  3.18966146])]\n",
            "weight_epoch [array([-0.7500363 , -0.39889672]), array([-0.44679241, -0.93865311]), array([-0.54125206,  0.96467995,  3.19747108])]\n",
            "weight_epoch [array([-0.7500363 , -0.39889672]), array([-0.44679241, -0.93865311]), array([-0.54125206,  0.96467995,  3.20527288])]\n",
            "weight_epoch [array([-0.7500363 , -0.39889672]), array([-0.44679241, -0.93865311]), array([-0.54125206,  0.96467995,  3.21306689])]\n",
            "weight_epoch [array([-0.7500363 , -0.39889672]), array([-0.44679241, -0.93865311]), array([-0.54125206,  0.96467995,  3.22085311])]\n",
            "weight_epoch [array([-0.7500363 , -0.39889672]), array([-0.44679241, -0.93865311]), array([-0.54125206,  0.96467995,  3.22863155])]\n",
            "weight_epoch [array([-0.7500363 , -0.39889672]), array([-0.44679241, -0.93865311]), array([-0.54125206,  0.96467995,  3.23640221])]\n",
            "weight_epoch [array([-0.7500363 , -0.39889672]), array([-0.44679241, -0.93865311]), array([-0.54125206,  0.96467995,  3.2441651 ])]\n",
            "weight_epoch [array([-0.7500363 , -0.39889672]), array([-0.44679241, -0.93865311]), array([-0.54125206,  0.96467995,  3.25192023])]\n",
            "weight_epoch [array([-0.7500363 , -0.39889672]), array([-0.44679241, -0.93865311]), array([-0.54125206,  0.96467995,  3.25966761])]\n",
            "weight_epoch [array([-0.7500363 , -0.39889672]), array([-0.44679241, -0.93865311]), array([-0.54125206,  0.96467995,  3.26740725])]\n",
            "weight_epoch [array([-0.7500363 , -0.39889672]), array([-0.44679241, -0.93865311]), array([-0.54125206,  0.96467995,  3.27513915])]\n",
            "weight_epoch [array([-0.7500363 , -0.39889672]), array([-0.44679241, -0.93865311]), array([-0.54125206,  0.96467995,  3.28286332])]\n",
            "weight_epoch [array([-0.7500363 , -0.39889672]), array([-0.44679241, -0.93865311]), array([-0.54125206,  0.96467995,  3.29057977])]\n",
            "weight_epoch [array([-0.7500363 , -0.39889672]), array([-0.44679241, -0.93865311]), array([-0.54125206,  0.96467995,  3.2982885 ])]\n",
            "weight_epoch [array([-0.7500363 , -0.39889672]), array([-0.44679241, -0.93865311]), array([-0.54125206,  0.96467995,  3.30598954])]\n",
            "weight_epoch [array([-0.7500363 , -0.39889672]), array([-0.44679241, -0.93865311]), array([-0.54125206,  0.96467995,  3.31368287])]\n",
            "weight_epoch [array([-0.7500363 , -0.39889672]), array([-0.44679241, -0.93865311]), array([-0.54125206,  0.96467995,  3.32136851])]\n",
            "weight_epoch [array([-0.7500363 , -0.39889672]), array([-0.44679241, -0.93865311]), array([-0.54125206,  0.96467995,  3.32904647])]\n",
            "weight_epoch [array([-0.7500363 , -0.39889672]), array([-0.44679241, -0.93865311]), array([-0.54125206,  0.96467995,  3.33671676])]\n",
            "weight_epoch [array([-0.7500363 , -0.39889672]), array([-0.44679241, -0.93865311]), array([-0.54125206,  0.96467995,  3.34437937])]\n",
            "weight_epoch [array([-0.7500363 , -0.39889672]), array([-0.44679241, -0.93865311]), array([-0.54125206,  0.96467995,  3.35203433])]\n",
            "weight_epoch [array([-0.7500363 , -0.39889672]), array([-0.44679241, -0.93865311]), array([-0.54125206,  0.96467995,  3.35968164])]\n",
            "weight_epoch [array([-0.7500363 , -0.39889672]), array([-0.44679241, -0.93865311]), array([-0.54125206,  0.96467995,  3.3673213 ])]\n",
            "weight_epoch [array([-0.7500363 , -0.39889672]), array([-0.44679241, -0.93865311]), array([-0.54125206,  0.96467995,  3.37495333])]\n",
            "weight_epoch [array([-0.7500363 , -0.39889672]), array([-0.44679241, -0.93865311]), array([-0.54125206,  0.96467995,  3.38257772])]\n",
            "weight_epoch [array([-0.7500363 , -0.39889672]), array([-0.44679241, -0.93865311]), array([-0.54125206,  0.96467995,  3.3901945 ])]\n",
            "weight_epoch [array([-0.7500363 , -0.39889672]), array([-0.44679241, -0.93865311]), array([-0.54125206,  0.96467995,  3.39780366])]\n",
            "weight_epoch [array([-0.7500363 , -0.39889672]), array([-0.44679241, -0.93865311]), array([-0.54125206,  0.96467995,  3.40540521])]\n",
            "weight_epoch [array([-0.7500363 , -0.39889672]), array([-0.44679241, -0.93865311]), array([-0.54125206,  0.96467995,  3.41299917])]\n",
            "weight_epoch [array([-0.7500363 , -0.39889672]), array([-0.44679241, -0.93865311]), array([-0.54125206,  0.96467995,  3.42058554])]\n",
            "weight_epoch [array([-0.7500363 , -0.39889672]), array([-0.44679241, -0.93865311]), array([-0.54125206,  0.96467995,  3.42816432])]\n",
            "weight_epoch [array([-0.7500363 , -0.39889672]), array([-0.44679241, -0.93865311]), array([-0.54125206,  0.96467995,  3.43573553])]\n",
            "weight_epoch [array([-0.7500363 , -0.39889672]), array([-0.44679241, -0.93865311]), array([-0.54125206,  0.96467995,  3.44329917])]\n",
            "weight_epoch [array([-0.7500363 , -0.39889672]), array([-0.44679241, -0.93865311]), array([-0.54125206,  0.96467995,  3.45085524])]\n",
            "weight_epoch [array([-0.7500363 , -0.39889672]), array([-0.44679241, -0.93865311]), array([-0.54125206,  0.96467995,  3.45840377])]\n",
            "weight_epoch [array([-0.7500363 , -0.39889672]), array([-0.44679241, -0.93865311]), array([-0.54125206,  0.96467995,  3.46594475])]\n",
            "weight_epoch [array([-0.7500363 , -0.39889672]), array([-0.44679241, -0.93865311]), array([-0.54125206,  0.96467995,  3.47347819])]\n",
            "weight_epoch [array([-0.7500363 , -0.39889672]), array([-0.44679241, -0.93865311]), array([-0.54125206,  0.96467995,  3.4810041 ])]\n",
            "weight_epoch [array([-0.7500363 , -0.39889672]), array([-0.44679241, -0.93865311]), array([-0.54125206,  0.96467995,  3.48852249])]\n",
            "weight_epoch [array([-0.7500363 , -0.39889672]), array([-0.44679241, -0.93865311]), array([-0.54125206,  0.96467995,  3.49603336])]\n",
            "weight_epoch [array([-0.7500363 , -0.39889672]), array([-0.44679241, -0.93865311]), array([-0.54125206,  0.96467995,  3.50353673])]\n",
            "weight_epoch [array([-0.7500363 , -0.39889672]), array([-0.44679241, -0.93865311]), array([-0.54125206,  0.96467995,  3.51103259])]\n",
            "weight_epoch [array([-0.7500363 , -0.39889672]), array([-0.44679241, -0.93865311]), array([-0.54125206,  0.96467995,  3.51852096])]\n",
            "weight_epoch [array([-0.7500363 , -0.39889672]), array([-0.44679241, -0.93865311]), array([-0.54125206,  0.96467995,  3.52600185])]\n",
            "weight_epoch [array([-0.7500363 , -0.39889672]), array([-0.44679241, -0.93865311]), array([-0.54125206,  0.96467995,  3.53347526])]\n",
            "weight_epoch [array([-0.7500363 , -0.39889672]), array([-0.44679241, -0.93865311]), array([-0.54125206,  0.96467995,  3.5409412 ])]\n",
            "weight_epoch [array([-0.7500363 , -0.39889672]), array([-0.44679241, -0.93865311]), array([-0.54125206,  0.96467995,  3.54839967])]\n",
            "weight_epoch [array([-0.7500363 , -0.39889672]), array([-0.44679241, -0.93865311]), array([-0.54125206,  0.96467995,  3.55585069])]\n",
            "weight_epoch [array([-0.7500363 , -0.39889672]), array([-0.44679241, -0.93865311]), array([-0.54125206,  0.96467995,  3.56329426])]\n",
            "weight_epoch [array([-0.7500363 , -0.39889672]), array([-0.44679241, -0.93865311]), array([-0.54125206,  0.96467995,  3.57073039])]\n",
            "weight_epoch [array([-0.7500363 , -0.39889672]), array([-0.44679241, -0.93865311]), array([-0.54125206,  0.96467995,  3.57815909])]\n",
            "weight_epoch [array([-0.7500363 , -0.39889672]), array([-0.44679241, -0.93865311]), array([-0.54125206,  0.96467995,  3.58558036])]\n",
            "weight_epoch [array([-0.7500363 , -0.39889672]), array([-0.44679241, -0.93865311]), array([-0.54125206,  0.96467995,  3.59299422])]\n",
            "weight_epoch [array([-0.7500363 , -0.39889672]), array([-0.44679241, -0.93865311]), array([-0.54125206,  0.96467995,  3.60040066])]\n",
            "weight_epoch [array([-0.7500363 , -0.39889672]), array([-0.44679241, -0.93865311]), array([-0.54125206,  0.96467995,  3.6077997 ])]\n",
            "weight_epoch [array([-0.7500363 , -0.39889672]), array([-0.44679241, -0.93865311]), array([-0.54125206,  0.96467995,  3.61519134])]\n",
            "weight_epoch [array([-0.7500363 , -0.39889672]), array([-0.44679241, -0.93865311]), array([-0.54125206,  0.96467995,  3.6225756 ])]\n",
            "weight_epoch [array([-0.7500363 , -0.39889672]), array([-0.44679241, -0.93865311]), array([-0.54125206,  0.96467995,  3.62995247])]\n",
            "weight_epoch [array([-0.7500363 , -0.39889672]), array([-0.44679241, -0.93865311]), array([-0.54125206,  0.96467995,  3.63732197])]\n",
            "weight_epoch [array([-0.7500363 , -0.39889672]), array([-0.44679241, -0.93865311]), array([-0.54125206,  0.96467995,  3.6446841 ])]\n",
            "weight_epoch [array([-0.7500363 , -0.39889672]), array([-0.44679241, -0.93865311]), array([-0.54125206,  0.96467995,  3.65203888])]\n",
            "weight_epoch [array([-0.7500363 , -0.39889672]), array([-0.44679241, -0.93865311]), array([-0.54125206,  0.96467995,  3.6593863 ])]\n",
            "weight_epoch [array([-0.7500363 , -0.39889672]), array([-0.44679241, -0.93865311]), array([-0.54125206,  0.96467995,  3.66672638])]\n",
            "weight_epoch [array([-0.7500363 , -0.39889672]), array([-0.44679241, -0.93865311]), array([-0.54125206,  0.96467995,  3.67405912])]\n",
            "weight_epoch [array([-0.7500363 , -0.39889672]), array([-0.44679241, -0.93865311]), array([-0.54125206,  0.96467995,  3.68138453])]\n",
            "weight_epoch [array([-0.7500363 , -0.39889672]), array([-0.44679241, -0.93865311]), array([-0.54125206,  0.96467995,  3.68870262])]\n",
            "weight_epoch [array([-0.7500363 , -0.39889672]), array([-0.44679241, -0.93865311]), array([-0.54125206,  0.96467995,  3.69601339])]\n",
            "weight_epoch [array([-0.7500363 , -0.39889672]), array([-0.44679241, -0.93865311]), array([-0.54125206,  0.96467995,  3.70331685])]\n",
            "weight_epoch [array([-0.7500363 , -0.39889672]), array([-0.44679241, -0.93865311]), array([-0.54125206,  0.96467995,  3.71061302])]\n",
            "weight_epoch [array([-0.7500363 , -0.39889672]), array([-0.44679241, -0.93865311]), array([-0.54125206,  0.96467995,  3.71790189])]\n",
            "weight_epoch [array([-0.7500363 , -0.39889672]), array([-0.44679241, -0.93865311]), array([-0.54125206,  0.96467995,  3.72518347])]\n",
            "weight_epoch [array([-0.7500363 , -0.39889672]), array([-0.44679241, -0.93865311]), array([-0.54125206,  0.96467995,  3.73245778])]\n",
            "weight_epoch [array([-0.7500363 , -0.39889672]), array([-0.44679241, -0.93865311]), array([-0.54125206,  0.96467995,  3.73972482])]\n",
            "weight_epoch [array([-0.7500363 , -0.39889672]), array([-0.44679241, -0.93865311]), array([-0.54125206,  0.96467995,  3.74698459])]\n",
            "weight_epoch [array([-0.7500363 , -0.39889672]), array([-0.44679241, -0.93865311]), array([-0.54125206,  0.96467995,  3.7542371 ])]\n",
            "weight_epoch [array([-0.7500363 , -0.39889672]), array([-0.44679241, -0.93865311]), array([-0.54125206,  0.96467995,  3.76148237])]\n",
            "weight_epoch [array([-0.7500363 , -0.39889672]), array([-0.44679241, -0.93865311]), array([-0.54125206,  0.96467995,  3.76872039])]\n",
            "weight_epoch [array([-0.7500363 , -0.39889672]), array([-0.44679241, -0.93865311]), array([-0.54125206,  0.96467995,  3.77595117])]\n",
            "weight_epoch [array([-0.7500363 , -0.39889672]), array([-0.44679241, -0.93865311]), array([-0.54125206,  0.96467995,  3.78317473])]\n",
            "weight_epoch [array([-0.7500363 , -0.39889672]), array([-0.44679241, -0.93865311]), array([-0.54125206,  0.96467995,  3.79039107])]\n",
            "weight_epoch [array([-0.7500363 , -0.39889672]), array([-0.44679241, -0.93865311]), array([-0.54125206,  0.96467995,  3.7976002 ])]\n",
            "weight_epoch [array([-0.7500363 , -0.39889672]), array([-0.44679241, -0.93865311]), array([-0.54125206,  0.96467995,  3.80480212])]\n",
            "weight_epoch [array([-0.7500363 , -0.39889672]), array([-0.44679241, -0.93865311]), array([-0.54125206,  0.96467995,  3.81199684])]\n",
            "weight_epoch [array([-0.7500363 , -0.39889672]), array([-0.44679241, -0.93865311]), array([-0.54125206,  0.96467995,  3.81918436])]\n",
            "weight_epoch [array([-0.7500363 , -0.39889672]), array([-0.44679241, -0.93865311]), array([-0.54125206,  0.96467995,  3.82636471])]\n",
            "weight_epoch [array([-0.7500363 , -0.39889672]), array([-0.44679241, -0.93865311]), array([-0.54125206,  0.96467995,  3.83353787])]\n",
            "weight_epoch [array([-0.7500363 , -0.39889672]), array([-0.44679241, -0.93865311]), array([-0.54125206,  0.96467995,  3.84070387])]\n",
            "weight_epoch [array([-0.7500363 , -0.39889672]), array([-0.44679241, -0.93865311]), array([-0.54125206,  0.96467995,  3.8478627 ])]\n",
            "weight_epoch [array([-0.7500363 , -0.39889672]), array([-0.44679241, -0.93865311]), array([-0.54125206,  0.96467995,  3.85501438])]\n",
            "weight_epoch [array([-0.7500363 , -0.39889672]), array([-0.44679241, -0.93865311]), array([-0.54125206,  0.96467995,  3.8621589 ])]\n",
            "weight_epoch [array([-0.7500363 , -0.39889672]), array([-0.44679241, -0.93865311]), array([-0.54125206,  0.96467995,  3.86929629])]\n",
            "weight_epoch [array([-0.7500363 , -0.39889672]), array([-0.44679241, -0.93865311]), array([-0.54125206,  0.96467995,  3.87642654])]\n",
            "weight_epoch [array([-0.7500363 , -0.39889672]), array([-0.44679241, -0.93865311]), array([-0.54125206,  0.96467995,  3.88354966])]\n",
            "weight_epoch [array([-0.7500363 , -0.39889672]), array([-0.44679241, -0.93865311]), array([-0.54125206,  0.96467995,  3.89066567])]\n",
            "weight_epoch [array([-0.7500363 , -0.39889672]), array([-0.44679241, -0.93865311]), array([-0.54125206,  0.96467995,  3.89777456])]\n",
            "weight_epoch [array([-0.7500363 , -0.39889672]), array([-0.44679241, -0.93865311]), array([-0.54125206,  0.96467995,  3.90487634])]\n",
            "weight_epoch [array([-0.7500363 , -0.39889672]), array([-0.44679241, -0.93865311]), array([-0.54125206,  0.96467995,  3.91197103])]\n",
            "weight_epoch [array([-0.7500363 , -0.39889672]), array([-0.44679241, -0.93865311]), array([-0.54125206,  0.96467995,  3.91905862])]\n",
            "weight_epoch [array([-0.7500363 , -0.39889672]), array([-0.44679241, -0.93865311]), array([-0.54125206,  0.96467995,  3.92613913])]\n",
            "weight_epoch [array([-0.7500363 , -0.39889672]), array([-0.44679241, -0.93865311]), array([-0.54125206,  0.96467995,  3.93321256])]\n",
            "weight_epoch [array([-0.7500363 , -0.39889672]), array([-0.44679241, -0.93865311]), array([-0.54125206,  0.96467995,  3.94027892])]\n",
            "weight_epoch [array([-0.7500363 , -0.39889672]), array([-0.44679241, -0.93865311]), array([-0.54125206,  0.96467995,  3.94733822])]\n",
            "weight_epoch [array([-0.7500363 , -0.39889672]), array([-0.44679241, -0.93865311]), array([-0.54125206,  0.96467995,  3.95439046])]\n",
            "weight_epoch [array([-0.7500363 , -0.39889672]), array([-0.44679241, -0.93865311]), array([-0.54125206,  0.96467995,  3.96143565])]\n",
            "weight_epoch [array([-0.7500363 , -0.39889672]), array([-0.44679241, -0.93865311]), array([-0.54125206,  0.96467995,  3.9684738 ])]\n",
            "weight_epoch [array([-0.7500363 , -0.39889672]), array([-0.44679241, -0.93865311]), array([-0.54125206,  0.96467995,  3.97550491])]\n",
            "weight_epoch [array([-0.7500363 , -0.39889672]), array([-0.44679241, -0.93865311]), array([-0.54125206,  0.96467995,  3.982529  ])]\n",
            "weight_epoch [array([-0.7500363 , -0.39889672]), array([-0.44679241, -0.93865311]), array([-0.54125206,  0.96467995,  3.98954606])]\n",
            "weight_epoch [array([-0.7500363 , -0.39889672]), array([-0.44679241, -0.93865311]), array([-0.54125206,  0.96467995,  3.99655611])]\n",
            "weight_epoch [array([-0.7500363 , -0.39889672]), array([-0.44679241, -0.93865311]), array([-0.54125206,  0.96467995,  4.00355916])]\n",
            "weight_epoch [array([-0.7500363 , -0.39889672]), array([-0.44679241, -0.93865311]), array([-0.54125206,  0.96467995,  4.0105552 ])]\n",
            "weight_epoch [array([-0.7500363 , -0.39889672]), array([-0.44679241, -0.93865311]), array([-0.54125206,  0.96467995,  4.01754425])]\n",
            "weight_epoch [array([-0.7500363 , -0.39889672]), array([-0.44679241, -0.93865311]), array([-0.54125206,  0.96467995,  4.02452631])]\n",
            "weight_epoch [array([-0.7500363 , -0.39889672]), array([-0.44679241, -0.93865311]), array([-0.54125206,  0.96467995,  4.03150139])]\n",
            "weight_epoch [array([-0.7500363 , -0.39889672]), array([-0.44679241, -0.93865311]), array([-0.54125206,  0.96467995,  4.0384695 ])]\n",
            "weight_epoch [array([-0.7500363 , -0.39889672]), array([-0.44679241, -0.93865311]), array([-0.54125206,  0.96467995,  4.04543065])]\n",
            "weight_epoch [array([-0.7500363 , -0.39889672]), array([-0.44679241, -0.93865311]), array([-0.54125206,  0.96467995,  4.05238484])]\n",
            "weight_epoch [array([-0.7500363 , -0.39889672]), array([-0.44679241, -0.93865311]), array([-0.54125206,  0.96467995,  4.05933207])]\n",
            "weight_epoch [array([-0.7500363 , -0.39889672]), array([-0.44679241, -0.93865311]), array([-0.54125206,  0.96467995,  4.06627236])]\n",
            "weight_epoch [array([-0.7500363 , -0.39889672]), array([-0.44679241, -0.93865311]), array([-0.54125206,  0.96467995,  4.07320572])]\n",
            "weight_epoch [array([-0.7500363 , -0.39889672]), array([-0.44679241, -0.93865311]), array([-0.54125206,  0.96467995,  4.08013214])]\n",
            "weight_epoch [array([-0.7500363 , -0.39889672]), array([-0.44679241, -0.93865311]), array([-0.54125206,  0.96467995,  4.08705164])]\n",
            "weight_epoch [array([-0.7500363 , -0.39889672]), array([-0.44679241, -0.93865311]), array([-0.54125206,  0.96467995,  4.09396423])]\n",
            "weight_epoch [array([-0.7500363 , -0.39889672]), array([-0.44679241, -0.93865311]), array([-0.54125206,  0.96467995,  4.1008699 ])]\n",
            "weight_epoch [array([-0.7500363 , -0.39889672]), array([-0.44679241, -0.93865311]), array([-0.54125206,  0.96467995,  4.10776867])]\n",
            "weight_epoch [array([-0.7500363 , -0.39889672]), array([-0.44679241, -0.93865311]), array([-0.54125206,  0.96467995,  4.11466054])]\n",
            "weight_epoch [array([-0.7500363 , -0.39889672]), array([-0.44679241, -0.93865311]), array([-0.54125206,  0.96467995,  4.12154553])]\n",
            "weight_epoch [array([-0.7500363 , -0.39889672]), array([-0.44679241, -0.93865311]), array([-0.54125206,  0.96467995,  4.12842363])]\n",
            "weight_epoch [array([-0.7500363 , -0.39889672]), array([-0.44679241, -0.93865311]), array([-0.54125206,  0.96467995,  4.13529486])]\n",
            "weight_epoch [array([-0.7500363 , -0.39889672]), array([-0.44679241, -0.93865311]), array([-0.54125206,  0.96467995,  4.14215922])]\n",
            "weight_epoch [array([-0.7500363 , -0.39889672]), array([-0.44679241, -0.93865311]), array([-0.54125206,  0.96467995,  4.14901672])]\n",
            "weight_epoch [array([-0.7500363 , -0.39889672]), array([-0.44679241, -0.93865311]), array([-0.54125206,  0.96467995,  4.15586736])]\n",
            "weight_epoch [array([-0.7500363 , -0.39889672]), array([-0.44679241, -0.93865311]), array([-0.54125206,  0.96467995,  4.16271115])]\n",
            "weight_epoch [array([-0.7500363 , -0.39889672]), array([-0.44679241, -0.93865311]), array([-0.54125206,  0.96467995,  4.16954811])]\n",
            "weight_epoch [array([-0.7500363 , -0.39889672]), array([-0.44679241, -0.93865311]), array([-0.54125206,  0.96467995,  4.17637823])]\n",
            "weight_epoch [array([-0.7500363 , -0.39889672]), array([-0.44679241, -0.93865311]), array([-0.54125206,  0.96467995,  4.18320152])]\n",
            "weight_epoch [array([-0.7500363 , -0.39889672]), array([-0.44679241, -0.93865311]), array([-0.54125206,  0.96467995,  4.19001799])]\n",
            "weight_epoch [array([-0.7500363 , -0.39889672]), array([-0.44679241, -0.93865311]), array([-0.54125206,  0.96467995,  4.19682765])]\n",
            "weight_epoch [array([-0.7500363 , -0.39889672]), array([-0.44679241, -0.93865311]), array([-0.54125206,  0.96467995,  4.2036305 ])]\n",
            "weight_epoch [array([-0.7500363 , -0.39889672]), array([-0.44679241, -0.93865311]), array([-0.54125206,  0.96467995,  4.21042655])]\n",
            "weight_epoch [array([-0.7500363 , -0.39889672]), array([-0.44679241, -0.93865311]), array([-0.54125206,  0.96467995,  4.21721581])]\n",
            "weight_epoch [array([-0.7500363 , -0.39889672]), array([-0.44679241, -0.93865311]), array([-0.54125206,  0.96467995,  4.22399828])]\n",
            "weight_epoch [array([-0.7500363 , -0.39889672]), array([-0.44679241, -0.93865311]), array([-0.54125206,  0.96467995,  4.23077397])]\n",
            "weight_epoch [array([-0.7500363 , -0.39889672]), array([-0.44679241, -0.93865311]), array([-0.54125206,  0.96467995,  4.23754289])]\n",
            "weight_epoch [array([-0.7500363 , -0.39889672]), array([-0.44679241, -0.93865311]), array([-0.54125206,  0.96467995,  4.24430504])]\n",
            "weight_epoch [array([-0.7500363 , -0.39889672]), array([-0.44679241, -0.93865311]), array([-0.54125206,  0.96467995,  4.25106043])]\n",
            "weight_epoch [array([-0.7500363 , -0.39889672]), array([-0.44679241, -0.93865311]), array([-0.54125206,  0.96467995,  4.25780907])]\n",
            "weight_epoch [array([-0.7500363 , -0.39889672]), array([-0.44679241, -0.93865311]), array([-0.54125206,  0.96467995,  4.26455097])]\n",
            "weight_epoch [array([-0.7500363 , -0.39889672]), array([-0.44679241, -0.93865311]), array([-0.54125206,  0.96467995,  4.27128612])]\n",
            "weight_epoch [array([-0.7500363 , -0.39889672]), array([-0.44679241, -0.93865311]), array([-0.54125206,  0.96467995,  4.27801454])]\n",
            "weight_epoch [array([-0.7500363 , -0.39889672]), array([-0.44679241, -0.93865311]), array([-0.54125206,  0.96467995,  4.28473624])]\n",
            "weight_epoch [array([-0.7500363 , -0.39889672]), array([-0.44679241, -0.93865311]), array([-0.54125206,  0.96467995,  4.29145122])]\n",
            "weight_epoch [array([-0.7500363 , -0.39889672]), array([-0.44679241, -0.93865311]), array([-0.54125206,  0.96467995,  4.29815948])]\n",
            "weight_epoch [array([-0.7500363 , -0.39889672]), array([-0.44679241, -0.93865311]), array([-0.54125206,  0.96467995,  4.30486104])]\n",
            "weight_epoch [array([-0.7500363 , -0.39889672]), array([-0.44679241, -0.93865311]), array([-0.54125206,  0.96467995,  4.3115559 ])]\n",
            "weight_epoch [array([-0.7500363 , -0.39889672]), array([-0.44679241, -0.93865311]), array([-0.54125206,  0.96467995,  4.31824407])]\n",
            "weight_epoch [array([-0.7500363 , -0.39889672]), array([-0.44679241, -0.93865311]), array([-0.54125206,  0.96467995,  4.32492555])]\n",
            "weight_epoch [array([-0.7500363 , -0.39889672]), array([-0.44679241, -0.93865311]), array([-0.54125206,  0.96467995,  4.33160036])]\n",
            "weight_epoch [array([-0.7500363 , -0.39889672]), array([-0.44679241, -0.93865311]), array([-0.54125206,  0.96467995,  4.33826849])]\n",
            "weight_epoch [array([-0.7500363 , -0.39889672]), array([-0.44679241, -0.93865311]), array([-0.54125206,  0.96467995,  4.34492996])]\n",
            "weight_epoch [array([-0.7500363 , -0.39889672]), array([-0.44679241, -0.93865311]), array([-0.54125206,  0.96467995,  4.35158477])]\n",
            "weight_epoch [array([-0.7500363 , -0.39889672]), array([-0.44679241, -0.93865311]), array([-0.54125206,  0.96467995,  4.35823292])]\n",
            "weight_epoch [array([-0.7500363 , -0.39889672]), array([-0.44679241, -0.93865311]), array([-0.54125206,  0.96467995,  4.36487443])]\n",
            "weight_epoch [array([-0.7500363 , -0.39889672]), array([-0.44679241, -0.93865311]), array([-0.54125206,  0.96467995,  4.3715093 ])]\n",
            "weight_epoch [array([-0.7500363 , -0.39889672]), array([-0.44679241, -0.93865311]), array([-0.54125206,  0.96467995,  4.37813754])]\n",
            "weight_epoch [array([-0.7500363 , -0.39889672]), array([-0.44679241, -0.93865311]), array([-0.54125206,  0.96467995,  4.38475916])]\n",
            "weight_epoch [array([-0.7500363 , -0.39889672]), array([-0.44679241, -0.93865311]), array([-0.54125206,  0.96467995,  4.39137415])]\n",
            "weight_epoch [array([-0.7500363 , -0.39889672]), array([-0.44679241, -0.93865311]), array([-0.54125206,  0.96467995,  4.39798253])]\n",
            "weight_epoch [array([-0.7500363 , -0.39889672]), array([-0.44679241, -0.93865311]), array([-0.54125206,  0.96467995,  4.40458431])]\n",
            "weight_epoch [array([-0.7500363 , -0.39889672]), array([-0.44679241, -0.93865311]), array([-0.54125206,  0.96467995,  4.41117949])]\n",
            "weight_epoch [array([-0.7500363 , -0.39889672]), array([-0.44679241, -0.93865311]), array([-0.54125206,  0.96467995,  4.41776807])]\n",
            "weight_epoch [array([-0.7500363 , -0.39889672]), array([-0.44679241, -0.93865311]), array([-0.54125206,  0.96467995,  4.42435007])]\n",
            "weight_epoch [array([-0.7500363 , -0.39889672]), array([-0.44679241, -0.93865311]), array([-0.54125206,  0.96467995,  4.43092549])]\n",
            "weight_epoch [array([-0.7500363 , -0.39889672]), array([-0.44679241, -0.93865311]), array([-0.54125206,  0.96467995,  4.43749434])]\n",
            "weight_epoch [array([-0.7500363 , -0.39889672]), array([-0.44679241, -0.93865311]), array([-0.54125206,  0.96467995,  4.44405662])]\n",
            "weight_epoch [array([-0.7500363 , -0.39889672]), array([-0.44679241, -0.93865311]), array([-0.54125206,  0.96467995,  4.45061234])]\n",
            "weight_epoch [array([-0.7500363 , -0.39889672]), array([-0.44679241, -0.93865311]), array([-0.54125206,  0.96467995,  4.45716151])]\n",
            "weight_epoch [array([-0.7500363 , -0.39889672]), array([-0.44679241, -0.93865311]), array([-0.54125206,  0.96467995,  4.46370413])]\n",
            "weight_epoch [array([-0.7500363 , -0.39889672]), array([-0.44679241, -0.93865311]), array([-0.54125206,  0.96467995,  4.47024021])]\n",
            "weight_epoch [array([-0.7500363 , -0.39889672]), array([-0.44679241, -0.93865311]), array([-0.54125206,  0.96467995,  4.47676976])]\n",
            "weight_epoch [array([-0.7500363 , -0.39889672]), array([-0.44679241, -0.93865311]), array([-0.54125206,  0.96467995,  4.48329278])]\n",
            "weight_epoch [array([-0.7500363 , -0.39889672]), array([-0.44679241, -0.93865311]), array([-0.54125206,  0.96467995,  4.48980928])]\n",
            "weight_epoch [array([-0.7500363 , -0.39889672]), array([-0.44679241, -0.93865311]), array([-0.54125206,  0.96467995,  4.49631926])]\n",
            "weight_epoch [array([-0.7500363 , -0.39889672]), array([-0.44679241, -0.93865311]), array([-0.54125206,  0.96467995,  4.50282274])]\n",
            "weight_epoch [array([-0.7500363 , -0.39889672]), array([-0.44679241, -0.93865311]), array([-0.54125206,  0.96467995,  4.50931972])]\n",
            "weight_epoch [array([-0.7500363 , -0.39889672]), array([-0.44679241, -0.93865311]), array([-0.54125206,  0.96467995,  4.5158102 ])]\n",
            "weight_epoch [array([-0.7500363 , -0.39889672]), array([-0.44679241, -0.93865311]), array([-0.54125206,  0.96467995,  4.5222942 ])]\n",
            "weight_epoch [array([-0.7500363 , -0.39889672]), array([-0.44679241, -0.93865311]), array([-0.54125206,  0.96467995,  4.52877172])]\n",
            "weight_epoch [array([-0.7500363 , -0.39889672]), array([-0.44679241, -0.93865311]), array([-0.54125206,  0.96467995,  4.53524276])]\n",
            "weight_epoch [array([-0.7500363 , -0.39889672]), array([-0.44679241, -0.93865311]), array([-0.54125206,  0.96467995,  4.54170733])]\n",
            "weight_epoch [array([-0.7500363 , -0.39889672]), array([-0.44679241, -0.93865311]), array([-0.54125206,  0.96467995,  4.54816544])]\n",
            "weight_epoch [array([-0.7500363 , -0.39889672]), array([-0.44679241, -0.93865311]), array([-0.54125206,  0.96467995,  4.55461709])]\n",
            "weight_epoch [array([-0.7500363 , -0.39889672]), array([-0.44679241, -0.93865311]), array([-0.54125206,  0.96467995,  4.56106229])]\n",
            "weight_epoch [array([-0.7500363 , -0.39889672]), array([-0.44679241, -0.93865311]), array([-0.54125206,  0.96467995,  4.56750106])]\n",
            "weight_epoch [array([-0.7500363 , -0.39889672]), array([-0.44679241, -0.93865311]), array([-0.54125206,  0.96467995,  4.57393338])]\n",
            "weight_epoch [array([-0.7500363 , -0.39889672]), array([-0.44679241, -0.93865311]), array([-0.54125206,  0.96467995,  4.58035928])]\n",
            "weight_epoch [array([-0.7500363 , -0.39889672]), array([-0.44679241, -0.93865311]), array([-0.54125206,  0.96467995,  4.58677875])]\n",
            "weight_epoch [array([-0.7500363 , -0.39889672]), array([-0.44679241, -0.93865311]), array([-0.54125206,  0.96467995,  4.59319181])]\n",
            "weight_epoch [array([-0.7500363 , -0.39889672]), array([-0.44679241, -0.93865311]), array([-0.54125206,  0.96467995,  4.59959845])]\n",
            "weight_epoch [array([-0.7500363 , -0.39889672]), array([-0.44679241, -0.93865311]), array([-0.54125206,  0.96467995,  4.60599869])]\n",
            "weight_epoch [array([-0.7500363 , -0.39889672]), array([-0.44679241, -0.93865311]), array([-0.54125206,  0.96467995,  4.61239254])]\n",
            "weight_epoch [array([-0.7500363 , -0.39889672]), array([-0.44679241, -0.93865311]), array([-0.54125206,  0.96467995,  4.61877999])]\n",
            "weight_epoch [array([-0.7500363 , -0.39889672]), array([-0.44679241, -0.93865311]), array([-0.54125206,  0.96467995,  4.62516106])]\n",
            "weight_epoch [array([-0.7500363 , -0.39889672]), array([-0.44679241, -0.93865311]), array([-0.54125206,  0.96467995,  4.63153574])]\n",
            "weight_epoch [array([-0.7500363 , -0.39889672]), array([-0.44679241, -0.93865311]), array([-0.54125206,  0.96467995,  4.63790406])]\n",
            "weight_epoch [array([-0.7500363 , -0.39889672]), array([-0.44679241, -0.93865311]), array([-0.54125206,  0.96467995,  4.64426601])]\n",
            "weight_epoch [array([-0.7500363 , -0.39889672]), array([-0.44679241, -0.93865311]), array([-0.54125206,  0.96467995,  4.6506216 ])]\n",
            "weight_epoch [array([-0.7500363 , -0.39889672]), array([-0.44679241, -0.93865311]), array([-0.54125206,  0.96467995,  4.65697084])]\n",
            "weight_epoch [array([-0.7500363 , -0.39889672]), array([-0.44679241, -0.93865311]), array([-0.54125206,  0.96467995,  4.66331373])]\n",
            "weight_epoch [array([-0.7500363 , -0.39889672]), array([-0.44679241, -0.93865311]), array([-0.54125206,  0.96467995,  4.66965029])]\n",
            "weight_epoch [array([-0.7500363 , -0.39889672]), array([-0.44679241, -0.93865311]), array([-0.54125206,  0.96467995,  4.6759805 ])]\n",
            "weight_epoch [array([-0.7500363 , -0.39889672]), array([-0.44679241, -0.93865311]), array([-0.54125206,  0.96467995,  4.68230439])]\n",
            "weight_epoch [array([-0.7500363 , -0.39889672]), array([-0.44679241, -0.93865311]), array([-0.54125206,  0.96467995,  4.68862196])]\n",
            "weight_epoch [array([-0.7500363 , -0.39889672]), array([-0.44679241, -0.93865311]), array([-0.54125206,  0.96467995,  4.69493321])]\n",
            "weight_epoch [array([-0.7500363 , -0.39889672]), array([-0.44679241, -0.93865311]), array([-0.54125206,  0.96467995,  4.70123816])]\n",
            "weight_epoch [array([-0.7500363 , -0.39889672]), array([-0.44679241, -0.93865311]), array([-0.54125206,  0.96467995,  4.7075368 ])]\n",
            "weight_epoch [array([-0.7500363 , -0.39889672]), array([-0.44679241, -0.93865311]), array([-0.54125206,  0.96467995,  4.71382915])]\n",
            "weight_epoch [array([-0.7500363 , -0.39889672]), array([-0.44679241, -0.93865311]), array([-0.54125206,  0.96467995,  4.7201152 ])]\n",
            "weight_epoch [array([-0.7500363 , -0.39889672]), array([-0.44679241, -0.93865311]), array([-0.54125206,  0.96467995,  4.72639498])]\n",
            "weight_epoch [array([-0.7500363 , -0.39889672]), array([-0.44679241, -0.93865311]), array([-0.54125206,  0.96467995,  4.73266847])]\n",
            "weight_epoch [array([-0.7500363 , -0.39889672]), array([-0.44679241, -0.93865311]), array([-0.54125206,  0.96467995,  4.7389357 ])]\n",
            "weight_epoch [array([-0.7500363 , -0.39889672]), array([-0.44679241, -0.93865311]), array([-0.54125206,  0.96467995,  4.74519666])]\n",
            "weight_epoch [array([-0.7500363 , -0.39889672]), array([-0.44679241, -0.93865311]), array([-0.54125206,  0.96467995,  4.75145136])]\n",
            "weight_epoch [array([-0.7500363 , -0.39889672]), array([-0.44679241, -0.93865311]), array([-0.54125206,  0.96467995,  4.75769981])]\n",
            "weight_epoch [array([-0.7500363 , -0.39889672]), array([-0.44679241, -0.93865311]), array([-0.54125206,  0.96467995,  4.76394201])]\n",
            "weight_epoch [array([-0.7500363 , -0.39889672]), array([-0.44679241, -0.93865311]), array([-0.54125206,  0.96467995,  4.77017797])]\n",
            "weight_epoch [array([-0.7500363 , -0.39889672]), array([-0.44679241, -0.93865311]), array([-0.54125206,  0.96467995,  4.7764077 ])]\n",
            "weight_epoch [array([-0.7500363 , -0.39889672]), array([-0.44679241, -0.93865311]), array([-0.54125206,  0.96467995,  4.78263121])]\n",
            "weight_epoch [array([-0.7500363 , -0.39889672]), array([-0.44679241, -0.93865311]), array([-0.54125206,  0.96467995,  4.78884849])]\n",
            "weight_epoch [array([-0.7500363 , -0.39889672]), array([-0.44679241, -0.93865311]), array([-0.54125206,  0.96467995,  4.79505955])]\n",
            "weight_epoch [array([-0.7500363 , -0.39889672]), array([-0.44679241, -0.93865311]), array([-0.54125206,  0.96467995,  4.80126441])]\n",
            "weight_epoch [array([-0.7500363 , -0.39889672]), array([-0.44679241, -0.93865311]), array([-0.54125206,  0.96467995,  4.80746307])]\n",
            "weight_epoch [array([-0.7500363 , -0.39889672]), array([-0.44679241, -0.93865311]), array([-0.54125206,  0.96467995,  4.81365553])]\n",
            "weight_epoch [array([-0.7500363 , -0.39889672]), array([-0.44679241, -0.93865311]), array([-0.54125206,  0.96467995,  4.8198418 ])]\n",
            "weight_epoch [array([-0.7500363 , -0.39889672]), array([-0.44679241, -0.93865311]), array([-0.54125206,  0.96467995,  4.82602188])]\n",
            "weight_epoch [array([-0.7500363 , -0.39889672]), array([-0.44679241, -0.93865311]), array([-0.54125206,  0.96467995,  4.83219579])]\n",
            "weight_epoch [array([-0.7500363 , -0.39889672]), array([-0.44679241, -0.93865311]), array([-0.54125206,  0.96467995,  4.83836353])]\n",
            "weight_epoch [array([-0.7500363 , -0.39889672]), array([-0.44679241, -0.93865311]), array([-0.54125206,  0.96467995,  4.8445251 ])]\n",
            "weight_epoch [array([-0.7500363 , -0.39889672]), array([-0.44679241, -0.93865311]), array([-0.54125206,  0.96467995,  4.85068051])]\n",
            "weight_epoch [array([-0.7500363 , -0.39889672]), array([-0.44679241, -0.93865311]), array([-0.54125206,  0.96467995,  4.85682977])]\n",
            "weight_epoch [array([-0.7500363 , -0.39889672]), array([-0.44679241, -0.93865311]), array([-0.54125206,  0.96467995,  4.86297289])]\n",
            "weight_epoch [array([-0.7500363 , -0.39889672]), array([-0.44679241, -0.93865311]), array([-0.54125206,  0.96467995,  4.86910986])]\n",
            "weight_epoch [array([-0.7500363 , -0.39889672]), array([-0.44679241, -0.93865311]), array([-0.54125206,  0.96467995,  4.8752407 ])]\n",
            "weight_epoch [array([-0.7500363 , -0.39889672]), array([-0.44679241, -0.93865311]), array([-0.54125206,  0.96467995,  4.8813654 ])]\n",
            "weight_epoch [array([-0.7500363 , -0.39889672]), array([-0.44679241, -0.93865311]), array([-0.54125206,  0.96467995,  4.88748399])]\n",
            "weight_epoch [array([-0.7500363 , -0.39889672]), array([-0.44679241, -0.93865311]), array([-0.54125206,  0.96467995,  4.89359646])]\n",
            "weight_epoch [array([-0.7500363 , -0.39889672]), array([-0.44679241, -0.93865311]), array([-0.54125206,  0.96467995,  4.89970282])]\n",
            "weight_epoch [array([-0.7500363 , -0.39889672]), array([-0.44679241, -0.93865311]), array([-0.54125206,  0.96467995,  4.90580308])]\n",
            "weight_epoch [array([-0.7500363 , -0.39889672]), array([-0.44679241, -0.93865311]), array([-0.54125206,  0.96467995,  4.91189724])]\n",
            "weight_epoch [array([-0.7500363 , -0.39889672]), array([-0.44679241, -0.93865311]), array([-0.54125206,  0.96467995,  4.91798531])]\n",
            "weight_epoch [array([-0.7500363 , -0.39889672]), array([-0.44679241, -0.93865311]), array([-0.54125206,  0.96467995,  4.92406729])]\n",
            "Model fitted.\n",
            "self.weight_history - list of lists of weights propagation\n",
            "self.MSE_history - list of MSEs propagation\n",
            "\n",
            "Layer 0 is the Input Layer\n",
            "Layer 1 Neuron 0 : [-0.7500363  -0.39889672] mrelu\n",
            "Layer 1 Neuron 1 : [-0.44679241 -0.93865311] mrelu\n",
            "Layer 2 Neuron 0 : [-0.54125206  0.96467995  4.92406729] linear\n",
            "\n",
            "[4.924067287966327, 4.924067287966327, 4.924067287966327, 4.924067287966327, 4.924067287966327]\n",
            "\n"
          ]
        },
        {
          "output_type": "display_data",
          "data": {
            "application/vnd.google.colaboratory.intrinsic+json": {
              "type": "string"
            },
            "text/plain": [
              "'MSE'"
            ]
          },
          "metadata": {}
        },
        {
          "output_type": "display_data",
          "data": {
            "text/plain": [
              "447.1050652745148"
            ]
          },
          "metadata": {}
        }
      ]
    }
  ]
}