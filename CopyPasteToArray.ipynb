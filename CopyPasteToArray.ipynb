{
  "nbformat": 4,
  "nbformat_minor": 0,
  "metadata": {
    "colab": {
      "provenance": [],
      "authorship_tag": "ABX9TyMqeWEj4iYOZZ1sPo7H2rwI",
      "include_colab_link": true
    },
    "kernelspec": {
      "name": "python3",
      "display_name": "Python 3"
    },
    "language_info": {
      "name": "python"
    }
  },
  "cells": [
    {
      "cell_type": "markdown",
      "metadata": {
        "id": "view-in-github",
        "colab_type": "text"
      },
      "source": [
        "<a href=\"https://colab.research.google.com/github/vladgap/Various/blob/main/CopyPasteToArray.ipynb\" target=\"_parent\"><img src=\"https://colab.research.google.com/assets/colab-badge.svg\" alt=\"Open In Colab\"/></a>"
      ]
    },
    {
      "cell_type": "markdown",
      "source": [
        "Converts copy-pasted Excel table to a string, and then to a 2D array. List of lists.\n",
        "\n",
        "Excel table should be copied and pasted ctrl+shift+V between ''' and '''.\n",
        "\n",
        "Row containing letters will be transformed to a list of strings."
      ],
      "metadata": {
        "id": "lIU-JM__VLm8"
      }
    },
    {
      "cell_type": "code",
      "execution_count": 76,
      "metadata": {
        "id": "g2PnpGyCK2ua"
      },
      "outputs": [],
      "source": [
        "a='''\n",
        "1.1\tABC\t5.6\n",
        "2\t4\t7.4\n",
        "1.9\t0\t4.6\n",
        "'''"
      ]
    },
    {
      "cell_type": "code",
      "source": [
        "a"
      ],
      "metadata": {
        "colab": {
          "base_uri": "https://localhost:8080/",
          "height": 36
        },
        "id": "PLaNnjKhVQtj",
        "outputId": "b87ded82-57f3-4913-8ca0-d303f57c4798"
      },
      "execution_count": 77,
      "outputs": [
        {
          "output_type": "execute_result",
          "data": {
            "text/plain": [
              "'\\n1.1\\tABC\\t5.6\\n2\\t4\\t7.4\\n1.9\\t0\\t4.6\\n'"
            ],
            "application/vnd.google.colaboratory.intrinsic+json": {
              "type": "string"
            }
          },
          "metadata": {},
          "execution_count": 77
        }
      ]
    },
    {
      "cell_type": "code",
      "source": [
        "def CopyPasteToArray(a):\n",
        "  if a.startswith('\\n'):\n",
        "    b=a[1:]\n",
        "  else:\n",
        "    b=a\n",
        "  if b.endswith('\\n'):\n",
        "    b=b[:-1]\n",
        "  c=b.replace('\\t',',')\n",
        "  d=c.split('\\n')\n",
        "  f=[]\n",
        "  for e in d:\n",
        "    if e.replace(',','').replace('.','').isdigit(): # only digits no letters\n",
        "      f.append(list(eval(e)))\n",
        "    else:\n",
        "      f.append(e.split(','))\n",
        "  return f"
      ],
      "metadata": {
        "id": "oNdhOQ8XL3u3"
      },
      "execution_count": 78,
      "outputs": []
    },
    {
      "cell_type": "code",
      "source": [
        "CopyPasteToArray(a)"
      ],
      "metadata": {
        "colab": {
          "base_uri": "https://localhost:8080/"
        },
        "id": "REuTGLMxUCG_",
        "outputId": "33d2b97f-aa12-4e5c-da33-d5b1ecf09ea8"
      },
      "execution_count": 79,
      "outputs": [
        {
          "output_type": "execute_result",
          "data": {
            "text/plain": [
              "[['1.1', 'ABC', '5.6'], [2, 4, 7.4], [1.9, 0, 4.6]]"
            ]
          },
          "metadata": {},
          "execution_count": 79
        }
      ]
    },
    {
      "cell_type": "code",
      "source": [
        "CopyPasteToArray('''\n",
        "1.1\t3\n",
        "2\t4\n",
        "1.9\t0\n",
        "''')"
      ],
      "metadata": {
        "colab": {
          "base_uri": "https://localhost:8080/"
        },
        "id": "pFrpNSWyXFZF",
        "outputId": "6130b4de-589c-4de1-af87-8f633089f19a"
      },
      "execution_count": 80,
      "outputs": [
        {
          "output_type": "execute_result",
          "data": {
            "text/plain": [
              "[[1.1, 3], [2, 4], [1.9, 0]]"
            ]
          },
          "metadata": {},
          "execution_count": 80
        }
      ]
    }
  ]
}