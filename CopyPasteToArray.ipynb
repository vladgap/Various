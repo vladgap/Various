{
  "nbformat": 4,
  "nbformat_minor": 0,
  "metadata": {
    "colab": {
      "provenance": [],
      "authorship_tag": "ABX9TyPBohzVGIWJKMC72Om/mf8c",
      "include_colab_link": true
    },
    "kernelspec": {
      "name": "python3",
      "display_name": "Python 3"
    },
    "language_info": {
      "name": "python"
    }
  },
  "cells": [
    {
      "cell_type": "markdown",
      "metadata": {
        "id": "view-in-github",
        "colab_type": "text"
      },
      "source": [
        "<a href=\"https://colab.research.google.com/github/vladgap/Various/blob/main/CopyPasteToArray.ipynb\" target=\"_parent\"><img src=\"https://colab.research.google.com/assets/colab-badge.svg\" alt=\"Open In Colab\"/></a>"
      ]
    },
    {
      "cell_type": "markdown",
      "source": [
        "Converts a string containing table data to a 2D array.\n",
        "\n",
        "Excel table should be copied and pasted ctrl+shift+V between ''' and '''."
      ],
      "metadata": {
        "id": "lIU-JM__VLm8"
      }
    },
    {
      "cell_type": "code",
      "execution_count": 45,
      "metadata": {
        "id": "g2PnpGyCK2ua"
      },
      "outputs": [],
      "source": [
        "a='''\n",
        "1.1\t3\t5.6\n",
        "2\t4\t7.4\n",
        "1.9\t0\t4.6\n",
        "'''"
      ]
    },
    {
      "cell_type": "code",
      "source": [
        "a"
      ],
      "metadata": {
        "colab": {
          "base_uri": "https://localhost:8080/",
          "height": 35
        },
        "id": "PLaNnjKhVQtj",
        "outputId": "21da421e-5e04-4fbc-ecd4-9a937f265dc6"
      },
      "execution_count": 48,
      "outputs": [
        {
          "output_type": "execute_result",
          "data": {
            "text/plain": [
              "'\\n1.1\\t3\\t5.6\\n2\\t4\\t7.4\\n1.9\\t0\\t4.6\\n'"
            ],
            "application/vnd.google.colaboratory.intrinsic+json": {
              "type": "string"
            }
          },
          "metadata": {},
          "execution_count": 48
        }
      ]
    },
    {
      "cell_type": "code",
      "source": [
        "def CopyPasteToArray(a):\n",
        "  if a.startswith('\\n'):\n",
        "    b=a[1:]\n",
        "  else:\n",
        "    b=a\n",
        "  if b.endswith('\\n'):\n",
        "    b=b[:-1]\n",
        "  c=b.replace('\\t',',')\n",
        "  d=c.split('\\n')\n",
        "  e=[list(eval(x)) for x in d]\n",
        "  return e"
      ],
      "metadata": {
        "id": "oNdhOQ8XL3u3"
      },
      "execution_count": 46,
      "outputs": []
    },
    {
      "cell_type": "code",
      "source": [
        "CopyPasteToArray(a)"
      ],
      "metadata": {
        "colab": {
          "base_uri": "https://localhost:8080/"
        },
        "id": "REuTGLMxUCG_",
        "outputId": "8ba87933-0e50-4a19-beb3-e2df1bcc46e2"
      },
      "execution_count": 47,
      "outputs": [
        {
          "output_type": "execute_result",
          "data": {
            "text/plain": [
              "[[1.1, 3, 5.6], [2, 4, 7.4], [1.9, 0, 4.6]]"
            ]
          },
          "metadata": {},
          "execution_count": 47
        }
      ]
    },
    {
      "cell_type": "code",
      "source": [
        "CopyPasteToArray('''1.1\t3\n",
        "2\t4\n",
        "1.9\t0\n",
        "''')"
      ],
      "metadata": {
        "colab": {
          "base_uri": "https://localhost:8080/"
        },
        "id": "pFrpNSWyXFZF",
        "outputId": "aa84985c-0c3b-496b-9a48-2daf17e2198b"
      },
      "execution_count": 49,
      "outputs": [
        {
          "output_type": "execute_result",
          "data": {
            "text/plain": [
              "[[1.1, 3], [2, 4], [1.9, 0]]"
            ]
          },
          "metadata": {},
          "execution_count": 49
        }
      ]
    },
    {
      "cell_type": "code",
      "source": [
        "'''\n",
        "def CopyPasteToArray(a):\n",
        "  if a.startswith('\\n'):\n",
        "    b=a[1:]\n",
        "  else:\n",
        "    b=a\n",
        "  if b.endswith('\\n'):\n",
        "    b=b[:-1]\n",
        "  c=b.replace('\\t',',')\n",
        "  d=c.split('\\n')\n",
        "  e=[list(eval(x)) for x in d]\n",
        "  return e\n",
        "  '''"
      ],
      "metadata": {
        "colab": {
          "base_uri": "https://localhost:8080/",
          "height": 35
        },
        "id": "44zWrOWxasB9",
        "outputId": "c2bebd59-5004-45ec-d76c-ef6320cd2b05"
      },
      "execution_count": 51,
      "outputs": [
        {
          "output_type": "execute_result",
          "data": {
            "text/plain": [
              "\"\\ndef CopyPasteToArray(a):\\n  if a.startswith('\\n'):\\n    b=a[1:]\\n  else:\\n    b=a\\n  if b.endswith('\\n'):\\n    b=b[:-1]\\n  c=b.replace('\\t',',')\\n  d=c.split('\\n')\\n  e=[list(eval(x)) for x in d]\\n  return e\\n  \""
            ],
            "application/vnd.google.colaboratory.intrinsic+json": {
              "type": "string"
            }
          },
          "metadata": {},
          "execution_count": 51
        }
      ]
    }
  ]
}