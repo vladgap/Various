{
  "nbformat": 4,
  "nbformat_minor": 0,
  "metadata": {
    "colab": {
      "name": "neuron.ipynb",
      "provenance": [],
      "collapsed_sections": [],
      "authorship_tag": "ABX9TyP3Xs7bYrstj5MD5o1k4JPI",
      "include_colab_link": true
    },
    "kernelspec": {
      "name": "python3",
      "display_name": "Python 3"
    },
    "language_info": {
      "name": "python"
    }
  },
  "cells": [
    {
      "cell_type": "markdown",
      "metadata": {
        "id": "view-in-github",
        "colab_type": "text"
      },
      "source": [
        "<a href=\"https://colab.research.google.com/github/vladgap/Various/blob/main/neuron1.ipynb\" target=\"_parent\"><img src=\"https://colab.research.google.com/assets/colab-badge.svg\" alt=\"Open In Colab\"/></a>"
      ]
    },
    {
      "cell_type": "code",
      "metadata": {
        "id": "JQCwp3o3cGmg"
      },
      "source": [
        "import numpy as np"
      ],
      "execution_count": 1,
      "outputs": []
    },
    {
      "cell_type": "code",
      "metadata": {
        "id": "qAVYkh8Xcs0p"
      },
      "source": [
        "def Perceptron(inputs, weights, x, bias = 1.0):\n",
        "  \"\"\"A single neuron with the sigmoid activation function.\n",
        "          inputs: The number of inputs in the perceptron, not counting the bias.\n",
        "          weights is a python list with the weights values. amount: inputs+1\n",
        "          x is a python list with the input values. amount: inputs\n",
        "          bias:   The bias term. By defaul it's 1.0.\n",
        "  \"\"\"\n",
        "  # weights = (np.random.rand(inputs+1) * 2) - 1\n",
        "  sum = np.dot(np.append(x,bias),weights)\n",
        "  return sigmoid(sum)\n",
        "\n",
        "def sigmoid(x):\n",
        "  return 1/(1+np.exp(-x))\n"
      ],
      "execution_count": 2,
      "outputs": []
    },
    {
      "cell_type": "code",
      "metadata": {
        "colab": {
          "base_uri": "https://localhost:8080/"
        },
        "id": "G8edK453skWW",
        "outputId": "075a10b1-1d8a-49b0-a925-f7496844c380"
      },
      "source": [
        "#test code\n",
        "w_init=[10,10,-15] #AND Gate x1, x2, bias\n",
        "\n",
        "neuron = Perceptron(inputs=2, weights=w_init, x=[0,0])\n",
        "\n",
        "print(\"Gate:\")\n",
        "print (\"0 0 = {0:.10f}\".format(Perceptron(inputs=2, weights=w_init, x=[0,0])))\n",
        "print (\"0 1 = {0:.10f}\".format(Perceptron(inputs=2, weights=w_init, x=[0,1])))\n",
        "print (\"1 0 = {0:.10f}\".format(Perceptron(inputs=2, weights=w_init, x=[1,0])))\n",
        "print (\"1 1 = {0:.10f}\".format(Perceptron(inputs=2, weights=w_init, x=[1,1])))"
      ],
      "execution_count": 7,
      "outputs": [
        {
          "output_type": "stream",
          "name": "stdout",
          "text": [
            "Gate:\n",
            "0 0 = 0.0000003059\n",
            "0 1 = 0.0066928509\n",
            "1 0 = 0.0066928509\n",
            "1 1 = 0.9933071491\n"
          ]
        }
      ]
    },
    {
      "cell_type": "code",
      "metadata": {
        "id": "bct09Mr7cnqs"
      },
      "source": [
        "class Perceptron:\n",
        "    \"\"\"A single neuron with the sigmoid activation function.\n",
        "       Attributes:\n",
        "          inputs: The number of inputs in the perceptron, not counting the bias.\n",
        "          bias:   The bias term. By defaul it's 1.0.\"\"\"\n",
        "\n",
        "    def __init__(self, inputs, bias = 1.0):\n",
        "        \"\"\"Return a new Perceptron object with the specified number of inputs (+1 for the bias).\"\"\" \n",
        "        self.weights = (np.random.rand(inputs+1) * 2) - 1 \n",
        "        self.bias = bias\n",
        "\n",
        "    def run(self, x):\n",
        "        \"\"\"Run the perceptron. x is a python list with the input values.\"\"\"\n",
        "        sum = np.dot(np.append(x,self.bias),self.weights)\n",
        "        return self.sigmoid(sum)\n",
        "\n",
        "# Challenge: Finish the following methods:\n",
        "\n",
        "    def set_weights(self, w_init):\n",
        "        # w_init is a list of floats. Organize it as you'd like.\n",
        "\n",
        "    def sigmoid(self, x):\n",
        "        # return the output of the sigmoid function applied to x"
      ],
      "execution_count": null,
      "outputs": []
    }
  ]
}