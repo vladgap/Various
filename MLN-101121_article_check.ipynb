{
  "nbformat": 4,
  "nbformat_minor": 0,
  "metadata": {
    "colab": {
      "name": "MLN.ipynb",
      "provenance": [],
      "collapsed_sections": [],
      "toc_visible": true,
      "include_colab_link": true
    },
    "kernelspec": {
      "name": "python3",
      "display_name": "Python 3"
    },
    "language_info": {
      "name": "python"
    }
  },
  "cells": [
    {
      "cell_type": "markdown",
      "metadata": {
        "id": "view-in-github",
        "colab_type": "text"
      },
      "source": [
        "<a href=\"https://colab.research.google.com/github/vladgap/Various/blob/ver1/MLN-101121_article_check.ipynb\" target=\"_parent\"><img src=\"https://colab.research.google.com/assets/colab-badge.svg\" alt=\"Open In Colab\"/></a>"
      ]
    },
    {
      "cell_type": "markdown",
      "metadata": {
        "id": "yYWGdV-GBZJ5"
      },
      "source": [
        "Perceptron -- neuron with an activation function.\n",
        "Inputs and their weights are numbered 0 to(n-1), bias is n"
      ]
    },
    {
      "cell_type": "code",
      "metadata": {
        "id": "rWfs6xKyIiBC"
      },
      "source": [
        "import numpy as np"
      ],
      "execution_count": 1,
      "outputs": []
    },
    {
      "cell_type": "markdown",
      "metadata": {
        "id": "pUCN7lc5sieC"
      },
      "source": [
        "# Single Neuron"
      ]
    },
    {
      "cell_type": "code",
      "metadata": {
        "id": "eSEiZemKj3xT"
      },
      "source": [
        "class Neuron:\n",
        "    \"\"\"A single neuron with an activation function.\n",
        "       Attributes:\n",
        "          inputs: The number of inputs in the perceptron, not counting the bias.\n",
        "          bias:   The bias term. By defaul it's 1.0.\n",
        "          activ:  The activation function: linear (default), relu, sigmoid.\"\"\"\n",
        "\n",
        "    def __init__(self, inputs, bias = 1.0, activ = 'linear'):\n",
        "        \"\"\"Return a new Perceptron object with the specified number of inputs (+1 for the bias) and random initial weights.\"\"\" \n",
        "        self.weights = (np.random.rand(inputs+1) * 2) - 1 \n",
        "        self.bias = bias\n",
        "        self.activ = activ\n",
        "\n",
        "    def run(self, x):\n",
        "        \"\"\"Run the perceptron. x is a python list with the input values.\"\"\"\n",
        "        sum = np.dot(np.append(x,self.bias),self.weights)\n",
        "        if self.activ == 'linear':\n",
        "          return sum\n",
        "        if self.activ == 'sigmoid':\n",
        "          return self.sigmoid(sum)\n",
        "        if self.activ == 'relu':\n",
        "          return self.relu(sum)\n",
        "\n",
        "    def set_weights(self, w_init):\n",
        "        \"\"\"Overrides the np.random.rand() weights and the bias weight.\"\"\"\n",
        "        # w_init is a list of floats. Organize it as you'd like.\n",
        "        self.weights=np.array(w_init)\n",
        "\n",
        "    def set_activ(self, activ):\n",
        "        \"\"\"Overrides the 'linear' activation function.\"\"\"\n",
        "        self.activ = activ\n",
        "\n",
        "    def sigmoid(self, x):\n",
        "        # return the output of the sigmoid function applied to x\n",
        "        return 1/(1+np.exp(-x))\n",
        "    \n",
        "    def relu(self, x):\n",
        "        # return the output of the relu function applied to x\n",
        "        if x >= 0:\n",
        "          return x\n",
        "        return 0"
      ],
      "execution_count": 2,
      "outputs": []
    },
    {
      "cell_type": "code",
      "metadata": {
        "id": "nN9wRG3NlI4b",
        "colab": {
          "base_uri": "https://localhost:8080/"
        },
        "outputId": "fe2c870b-0e6d-445f-cf87-a0f4235adef0"
      },
      "source": [
        "neu=Neuron(inputs=2)\n",
        "neu.set_weights([10,10,-15]) \n",
        "# neu.set_activ('sigmoid')\n",
        "neu.run([1,1])"
      ],
      "execution_count": 3,
      "outputs": [
        {
          "output_type": "execute_result",
          "data": {
            "text/plain": [
              "5.0"
            ]
          },
          "metadata": {},
          "execution_count": 3
        }
      ]
    },
    {
      "cell_type": "markdown",
      "metadata": {
        "id": "bo32Xuop0eYO"
      },
      "source": [
        "## AND gate"
      ]
    },
    {
      "cell_type": "code",
      "metadata": {
        "colab": {
          "base_uri": "https://localhost:8080/"
        },
        "id": "QeLvN9yxHGsw",
        "outputId": "903d9d08-d44f-47ea-f4cf-ed9eaac73c77"
      },
      "source": [
        "neuron = Neuron(inputs=2, activ='sigmoid')\n",
        "neuron.set_weights([10,10,-15]) #AND gate\n",
        "\n",
        "print(\"AND Gate:\")\n",
        "print (\"0 0 = {0:.10f}\".format(neuron.run([0,0])))\n",
        "print (\"0 1 = {0:.10f}\".format(neuron.run([0,1])))\n",
        "print (\"1 0 = {0:.10f}\".format(neuron.run([1,0])))\n",
        "print (\"1 1 = {0:.10f}\".format(neuron.run([1,1])))\n"
      ],
      "execution_count": 4,
      "outputs": [
        {
          "output_type": "stream",
          "name": "stdout",
          "text": [
            "AND Gate:\n",
            "0 0 = 0.0000003059\n",
            "0 1 = 0.0066928509\n",
            "1 0 = 0.0066928509\n",
            "1 1 = 0.9933071491\n"
          ]
        }
      ]
    },
    {
      "cell_type": "code",
      "metadata": {
        "id": "2T6fkDspqDcz"
      },
      "source": [
        "#proverka\n",
        "# a=[]\n",
        "# a.append(Perceptron(inputs=2))\n",
        "# a[1].weights"
      ],
      "execution_count": 5,
      "outputs": []
    },
    {
      "cell_type": "markdown",
      "metadata": {
        "id": "WDiUtQWL2qFC"
      },
      "source": [
        "## OR gate"
      ]
    },
    {
      "cell_type": "code",
      "metadata": {
        "colab": {
          "base_uri": "https://localhost:8080/"
        },
        "id": "PJy3bJjS2qhO",
        "outputId": "cbc18ace-9a07-48d9-8d4b-3e5acdff76a9"
      },
      "source": [
        "neuron = Neuron(inputs=2, activ='sigmoid')\n",
        "neuron.set_weights([10,10,-5]) #OR gate\n",
        "\n",
        "print(\"OR Gate:\")\n",
        "print (\"0 0 = {0:.10f}\".format(neuron.run([0,0])))\n",
        "print (\"0 1 = {0:.10f}\".format(neuron.run([0,1])))\n",
        "print (\"1 0 = {0:.10f}\".format(neuron.run([1,0])))\n",
        "print (\"1 1 = {0:.10f}\".format(neuron.run([1,1])))\n"
      ],
      "execution_count": 6,
      "outputs": [
        {
          "output_type": "stream",
          "name": "stdout",
          "text": [
            "OR Gate:\n",
            "0 0 = 0.0066928509\n",
            "0 1 = 0.9933071491\n",
            "1 0 = 0.9933071491\n",
            "1 1 = 0.9999996941\n"
          ]
        }
      ]
    },
    {
      "cell_type": "markdown",
      "metadata": {
        "id": "2CyK0jOA4vGH"
      },
      "source": [
        "## NAND gate"
      ]
    },
    {
      "cell_type": "code",
      "metadata": {
        "colab": {
          "base_uri": "https://localhost:8080/"
        },
        "id": "XH_wkvCq4vpB",
        "outputId": "7c4902cf-5782-44d0-b158-707ac5b56991"
      },
      "source": [
        "neuron = Neuron(inputs=2, activ='sigmoid')\n",
        "neuron.set_weights([-10,-10,15]) #NAND gate\n",
        "\n",
        "print(\"NAND Gate:\")\n",
        "print (\"0 0 = {0:.10f}\".format(neuron.run([0,0])))\n",
        "print (\"0 1 = {0:.10f}\".format(neuron.run([0,1])))\n",
        "print (\"1 0 = {0:.10f}\".format(neuron.run([1,0])))\n",
        "print (\"1 1 = {0:.10f}\".format(neuron.run([1,1])))"
      ],
      "execution_count": 7,
      "outputs": [
        {
          "output_type": "stream",
          "name": "stdout",
          "text": [
            "NAND Gate:\n",
            "0 0 = 0.9999996941\n",
            "0 1 = 0.9933071491\n",
            "1 0 = 0.9933071491\n",
            "1 1 = 0.0066928509\n"
          ]
        }
      ]
    },
    {
      "cell_type": "markdown",
      "metadata": {
        "id": "3rpjT9eO6LeS"
      },
      "source": [
        "# Multilayer neuron"
      ]
    },
    {
      "cell_type": "code",
      "metadata": {
        "id": "My-snyukphuZ"
      },
      "source": [
        "class MultiLayerNeuron:     \n",
        "    \"\"\"A multilayer neuron class that uses the Neuron class above.\n",
        "       Builds a list of neurons with the specific activation function.\n",
        "       The activation function may be modified later using the set_activ method.\n",
        "       For example: mln.network[layer][neuron].set_activ('linear').\n",
        "       Attributes:\n",
        "          layers:  A list with the number of neurons per layer. Including the input (first) and the output (last) layers.\n",
        "          bias:    The bias term. The same bias is used for all neurons.\n",
        "          eta:     The learning rate.\n",
        "          activ:   The activation function: linear (default), relu, sigmoid.\"\"\"\n",
        "\n",
        "    def __init__(self, layers, bias = 1.0, eta = 0.5, activ='linear'):\n",
        "        \"\"\"Return a new MLP object with the specified parameters.\"\"\" \n",
        "        self.layers = np.array(layers,dtype=object)\n",
        "        self.bias = bias\n",
        "        self.eta = eta\n",
        "        self.network = [] # The list of lists of neurons (perceptrons).\n",
        "        self.values = []  # The list of lists of neurons' (perceptrons') output values.\n",
        "        self.d = []       # The list of lists of error terms (lowercase deltas)\n",
        "        self.activ = activ\n",
        "\n",
        "        # 2 nested loops to create neurons layer by layer\n",
        "        for i in range(len(self.layers)): # outer loop iterates on each layer\n",
        "            self.values.append([]) #The new list of values will be filled with zeros, for every neuron in the layer. \n",
        "            self.values[i] = [0.0 for j in range(self.layers[i])]\n",
        "            self.d.append([])\n",
        "            self.d[i] = [0.0 for j in range(self.layers[i])]                        \n",
        "            self.network.append([])\n",
        "            if i > 0:      #network[0] is the input layer, so it has no neurons\n",
        "                for j in range(self.layers[i]): # inner loop iterates on each neuron in a layer\n",
        "                    neur=Neuron(inputs = self.layers[i-1], bias = self.bias, activ = self.activ) # \n",
        "                    self.network[i].append(neur) # adding j perceptrons\n",
        "        \n",
        "        self.network = np.array([np.array(x) for x in self.network],dtype=object) #transforms list of lists to numpy array\n",
        "        self.values = np.array([np.array(x) for x in self.values],dtype=object)\n",
        "        self.d = np.array([np.array(x) for x in self.d],dtype=object)\n",
        "\n",
        "    def set_weights(self, w_init): # set_weights of the MultiLayer class\n",
        "        \"\"\"Set the weights. \n",
        "           w_init is a list of lists with the weights for all but the input layer.\"\"\"\n",
        "        for i in range(len(w_init)):\n",
        "            for j in range(len(w_init[i])):\n",
        "                self.network[i+1][j].set_weights(w_init[i][j]) # set_weights for each perceptron i\n",
        "\n",
        "    def set_activ(self, activ):\n",
        "        \"\"\"Set the activation function to every neurons.\"\"\"\n",
        "        for i in range(1,len(self.network)):\n",
        "            for j in range(self.layers[i]):\n",
        "                self.network[i][j].set_activ(activ) # set_activ for each neuron\n",
        "    \n",
        "    def set_output_activ(self, activ):\n",
        "        \"\"\"Set the activation function to the last (output) neurons.\"\"\"\n",
        "        i = len(self.network)-1\n",
        "        for j in range(self.layers[i]):\n",
        "            self.network[i][j].set_activ(activ) \n",
        "\n",
        "    def printWeights(self):\n",
        "        \"\"\"Displays a summary of weights and activation functions per layer and neuron.\"\"\"\n",
        "        print()\n",
        "        print('Layer 0 is the Input Layer')\n",
        "        for i in range(1,len(self.network)):\n",
        "            for j in range(self.layers[i]):\n",
        "                print(\"Layer\",i,\"Neuron\",j,\":\",self.network[i][j].weights,self.network[i][j].activ)\n",
        "        print()\n",
        "\n",
        "    def run(self, x):\n",
        "        \"\"\"Feed a sample x into the MultiLayer Neuron.\"\"\"\n",
        "        x = np.array(x,dtype=object)\n",
        "        self.values[0] = x\n",
        "        for i in range(1,len(self.network)):\n",
        "            for j in range(self.layers[i]):  \n",
        "                self.values[i][j] = self.network[i][j].run(self.values[i-1]) #runs preceptrons with the previous outputs\n",
        "        return self.values[-1]\n",
        "\n",
        "    def bp_classif(self, x, y):\n",
        "        \"\"\"Run a single (x,y) pair with the backpropagation algorithm - Gradient Descent.\n",
        "        Uses the derivative of the sigmoid function.\"\"\"\n",
        "        x = np.array(x,dtype=object)\n",
        "        y = np.array(y,dtype=object)\n",
        "        # STEP 1: Feed a sample to the network \n",
        "        outputs = self.run(x)\n",
        "        # STEP 2: Calculate the MSE\n",
        "        error = 2*(y - outputs) # A list of outputs\n",
        "        MSE = sum( error ** 2) / self.layers[-1] \n",
        "        # ∂MSE/∂weight=∂MSE/∂output*∂output/∂weight\n",
        "        # STEP 3: Calculate the OUTPUT error terms\n",
        "        # ∂MSE/∂output -- depends on neuron's activation function\n",
        "        self.d[-1] = outputs * (1 - outputs) * (error) # derivative of the SIGMOID function \n",
        "        # STEP 4: Calculate the error term of EACH UNIT on each layer\n",
        "        for i in reversed(range(1,len(self.network)-1)):\n",
        "            for h in range(len(self.network[i])):\n",
        "                fwd_error = 0.0\n",
        "                for k in range(self.layers[i+1]): \n",
        "                    fwd_error += self.network[i+1][k].weights[h] * self.d[i+1][k]               \n",
        "                self.d[i][h] = self.values[i][h] * (1-self.values[i][h]) * fwd_error # derivative of the SIGMOID function\n",
        "        # STEPS 5 & 6: Calculate the deltas and update the weights\n",
        "        for i in range(1,len(self.network)): # runs on layers\n",
        "            for j in range(self.layers[i]): # runs on neurons\n",
        "                for k in range(self.layers[i-1]+1): # runs on inputs. +1 for bias\n",
        "                    if k==self.layers[i-1]:\n",
        "                        delta = self.eta * self.d[i][j] * self.bias\n",
        "                    else:\n",
        "                        delta = self.eta * self.d[i][j] * self.values[i-1][k] # applying the delta rule\n",
        "                    self.network[i][j].weights[k] += delta\n",
        "        return MSE\n",
        "\n",
        "    def bp_regres(self, x, y):\n",
        "        \"\"\"Run a single (x,y) pair with the backpropagation algorithm - Gradient Descent.\n",
        "        Uses the derivative of the linear function.\"\"\"\n",
        "        x = np.array(x,dtype=object)\n",
        "        y = np.array(y,dtype=object)\n",
        "        # STEP 1: Feed a sample to the network \n",
        "        outputs = self.run(x)\n",
        "        # STEP 2: Calculate the MSE\n",
        "        error = 2*(y - outputs) # A list of outputs\n",
        "        MSE = sum( error ** 2) / self.layers[-1] \n",
        "        # STEP 3: Calculate the OUTPUT error terms\n",
        "        self.d[-1] = (error) \n",
        "        # STEP 4: Calculate the error term of EACH UNIT on each layer\n",
        "        for i in reversed(range(1,len(self.network)-1)):\n",
        "            for h in range(len(self.network[i])):\n",
        "                fwd_error = 0.0\n",
        "                for k in range(self.layers[i+1]): \n",
        "                    fwd_error += self.network[i+1][k].weights[h] * self.d[i+1][k]               \n",
        "                self.d[i][h] = fwd_error \n",
        "        # STEPS 5 & 6: Calculate the deltas and update the weights\n",
        "        for i in range(1,len(self.network)): # runs on layers\n",
        "            for j in range(self.layers[i]): # runs on neurons\n",
        "                for k in range(self.layers[i-1]+1): # runs on inputs. +1 for bias\n",
        "                    if k==self.layers[i-1]:\n",
        "                        delta = self.eta * self.d[i][j] * self.bias\n",
        "                    else:\n",
        "                        delta = self.eta * self.d[i][j] * self.values[i-1][k] # applying the delta rule\n",
        "                    self.network[i][j].weights[k] += delta\n",
        "        return MSE\n",
        "\n",
        "    def deriv(self, value, i, j=0):\n",
        "        if self.network[i][j].activ == 'linear':\n",
        "          # print ('lin')\n",
        "          return value\n",
        "        if self.network[i][j].activ == 'sigmoid':\n",
        "          # print ('sig')\n",
        "          return value*(1-value)\n",
        "        if self.network[i][j].activ == 'relu':\n",
        "          if value > 0:\n",
        "            # print ('re>')\n",
        "            return value\n",
        "          else:\n",
        "            # print ('re<')\n",
        "            return 0\n",
        "\n",
        "    def bp_general(self, x, y):\n",
        "        \"\"\"Run a single (x,y) pair with the backpropagation algorithm - Gradient Descent.\n",
        "        Uses the derivative according each neuron's activation function.\"\"\"\n",
        "        x = np.array(x,dtype=object)\n",
        "        y = np.array(y,dtype=object)\n",
        "        # STEP 1: Feed a sample to the network \n",
        "        outputs = self.run(x)\n",
        "        # STEP 2: Calculate the MSE\n",
        "        error = 2*(y - outputs) # A list of outputs\n",
        "        print ('error', error)\n",
        "        MSE = sum( error ** 2) / self.layers[-1] \n",
        "        # ∂MSE/∂weight=∂MSE/∂output*∂output/∂weight\n",
        "        # STEP 3: Calculate the OUTPUT error terms\n",
        "        # ∂MSE/∂output -- depends on neuron's activation function\n",
        "        for j in range (len(outputs)):\n",
        "            self.d[-1][j] = self.deriv(outputs[j], len(self.network)-1) * error\n",
        "            print ('len', self.network[len(self.network)-1][0].activ)\n",
        "            print ('deriv', self.deriv(outputs[j], len(self.network)-1))\n",
        "            print ('d last',self.d[-1][j])\n",
        "        # STEP 4: Calculate the error term of EACH UNIT on each layer\n",
        "        for i in reversed(range(1,len(self.network)-1)):\n",
        "            for h in range(len(self.network[i])):\n",
        "                fwd_error = 0.0\n",
        "                for k in range(self.layers[i+1]): \n",
        "                    fwd_error += self.network[i+1][k].weights[h] * self.d[i+1][k] \n",
        "                    print ('fwd_error', fwd_error)              \n",
        "                self.d[i][h] = self.deriv(self.values[i][h], i, h) * fwd_error\n",
        "        # STEPS 5 & 6: Calculate the deltas and update the weights\n",
        "        for i in range(1,len(self.network)): # runs on layers\n",
        "            for j in range(self.layers[i]): # runs on neurons\n",
        "                for k in range(self.layers[i-1]+1): # runs on inputs. +1 for bias\n",
        "                    # output=sum(weight*value)+bias*bias_weight\n",
        "                    if k==self.layers[i-1]:\n",
        "                        # ∂output/∂bias_weight=bias\n",
        "                        delta = self.eta * self.d[i][j] * self.bias\n",
        "                    else:\n",
        "                        # ∂output/∂weight=value\n",
        "                        delta = self.eta * self.d[i][j] * self.values[i-1][k] \n",
        "                    self.network[i][j].weights[k] += delta # applying the delta rule\n",
        "        return MSE"
      ],
      "execution_count": 46,
      "outputs": []
    },
    {
      "cell_type": "markdown",
      "metadata": {
        "id": "LlSin4uPzSFX"
      },
      "source": [
        "## XOR gate=(OR+NAND)+AND"
      ]
    },
    {
      "cell_type": "code",
      "metadata": {
        "id": "I2dcROXuqJT1",
        "colab": {
          "base_uri": "https://localhost:8080/"
        },
        "outputId": "38475d85-38df-4d0c-ec45-e7ead9e86dac"
      },
      "source": [
        "#test code\n",
        "mln1 = MultiLayerNeuron(layers=[2,2,1])  #mln1\n",
        "mln1.set_weights([[[-10,-10,15],[15,15,-10]],[[10,10,-15]]])\n",
        "mln1.set_activ('sigmoid') #linear is by default\n",
        "\n",
        "mln1.printWeights()\n",
        "print(\"XOR Gate:\")\n",
        "print (\"0 0 = {0:.10f}\".format(mln1.run([0,0])[0]))\n",
        "print (\"0 1 = {0:.10f}\".format(mln1.run([0,1])[0]))\n",
        "print (\"1 0 = {0:.10f}\".format(mln1.run([1,0])[0]))\n",
        "print (\"1 1 = {0:.10f}\".format(mln1.run([1,1])[0]))"
      ],
      "execution_count": 9,
      "outputs": [
        {
          "output_type": "stream",
          "name": "stdout",
          "text": [
            "\n",
            "Layer 0 is the Input Layer\n",
            "Layer 1 Neuron 0 : [-10 -10  15] sigmoid\n",
            "Layer 1 Neuron 1 : [ 15  15 -10] sigmoid\n",
            "Layer 2 Neuron 0 : [ 10  10 -15] sigmoid\n",
            "\n",
            "XOR Gate:\n",
            "0 0 = 0.0066958493\n",
            "0 1 = 0.9923558642\n",
            "1 0 = 0.9923558642\n",
            "1 1 = 0.0071528098\n"
          ]
        }
      ]
    },
    {
      "cell_type": "markdown",
      "metadata": {
        "id": "mBf5fifWK_EG"
      },
      "source": [
        "## Training "
      ]
    },
    {
      "cell_type": "code",
      "metadata": {
        "id": "JaZYikTxNp69",
        "colab": {
          "base_uri": "https://localhost:8080/"
        },
        "outputId": "cdcae89f-879d-4484-f1bd-5ae045de65ce"
      },
      "source": [
        "mln2 = MultiLayerNeuron(layers=[2,2,1])\n",
        "mln2.set_activ('sigmoid') #linear is by default\n",
        "print(\"\\nTraining Neural Network as an XOR Gate...\\n\")\n",
        "for i in range(5000):\n",
        "    MSE = 0.0\n",
        "    MSE += mln2.bp_classif([0,0],[0])\n",
        "    MSE += mln2.bp_classif([0,1],[1])\n",
        "    MSE += mln2.bp_classif([1,0],[1])\n",
        "    MSE += mln2.bp_classif([1,1],[0])\n",
        "    MSE = MSE / 4\n",
        "    if(i%200 == 0):\n",
        "        print (MSE)\n",
        "\n",
        "mln2.printWeights()\n",
        "    \n",
        "print(\"XOR Gate:\")\n",
        "print (\"0 0 = {0:.10f}\".format(mln2.run([0,0])[0]))\n",
        "print (\"0 1 = {0:.10f}\".format(mln2.run([0,1])[0]))\n",
        "print (\"1 0 = {0:.10f}\".format(mln2.run([1,0])[0]))\n",
        "print (\"1 1 = {0:.10f}\".format(mln2.run([1,1])[0]))"
      ],
      "execution_count": 10,
      "outputs": [
        {
          "output_type": "stream",
          "name": "stdout",
          "text": [
            "\n",
            "Training Neural Network as an XOR Gate...\n",
            "\n",
            "0.2718627885118745\n",
            "0.2616943470604117\n",
            "0.26096741423546416\n",
            "0.26020749867912646\n",
            "0.2593435770704745\n",
            "0.25783755667520303\n",
            "0.25133108656050257\n",
            "0.198180171154835\n",
            "0.04560962109455799\n",
            "0.015938788699405158\n",
            "0.008758173178449988\n",
            "0.005845778255263611\n",
            "0.004322644799038431\n",
            "0.0034015911898457904\n",
            "0.0027902695710590618\n",
            "0.002357468737226992\n",
            "0.0020362203499594863\n",
            "0.001789012632104645\n",
            "0.0015932995859940357\n",
            "0.0014347605776547747\n",
            "0.0013038858499775235\n",
            "0.0011941251100407823\n",
            "0.0011008263022826085\n",
            "0.0010205985149352842\n",
            "0.000950914245682344\n",
            "\n",
            "Layer 0 is the Input Layer\n",
            "Layer 1 Neuron 0 : [-5.61348977 -5.62167426  2.13157724] sigmoid\n",
            "Layer 1 Neuron 1 : [ 4.78467716  4.78586318 -7.44384055] sigmoid\n",
            "Layer 2 Neuron 0 : [-8.76131309 -8.68586157  4.26600216] sigmoid\n",
            "\n",
            "XOR Gate:\n",
            "0 0 = 0.0273550563\n",
            "0 1 = 0.9688650041\n",
            "1 0 = 0.9688216238\n",
            "1 1 = 0.0294393808\n"
          ]
        }
      ]
    },
    {
      "cell_type": "markdown",
      "metadata": {
        "id": "fUuOFdeEJYS_"
      },
      "source": [
        ""
      ]
    },
    {
      "cell_type": "markdown",
      "metadata": {
        "id": "T1CIr02vJjVL"
      },
      "source": [
        "# Example1 -- weights"
      ]
    },
    {
      "cell_type": "code",
      "metadata": {
        "id": "c1cXJqv6KPD9",
        "colab": {
          "base_uri": "https://localhost:8080/"
        },
        "outputId": "211cf704-a9ab-4976-b16a-b0ef3d2b5281"
      },
      "source": [
        "print (\"1 1 =\",mln1.run([1,1]))\n",
        "print (mln1.network[1][0].weights) # network is list of lists of perceptrons. Each has attribute \"weights\""
      ],
      "execution_count": 11,
      "outputs": [
        {
          "output_type": "stream",
          "name": "stdout",
          "text": [
            "1 1 = [0.00715281]\n",
            "[-10 -10  15]\n"
          ]
        }
      ]
    },
    {
      "cell_type": "code",
      "metadata": {
        "id": "mV8ZGDKCGdig",
        "colab": {
          "base_uri": "https://localhost:8080/"
        },
        "outputId": "a9a8b798-0418-481b-f041-e3c2cc690b0d"
      },
      "source": [
        "mln1=MultiLayerNeuron(layers=[2,2,1])\n",
        "mln1.set_activ('relu')\n",
        "mln1.printWeights()\n",
        "\n",
        "mln1.set_output_activ('sigmoid') # setting the output activ func\n",
        "mln1.printWeights()\n",
        "\n",
        "mln1.network[1][0].set_activ('linear') # changing specific activ func\n",
        "mln1.printWeights()"
      ],
      "execution_count": 12,
      "outputs": [
        {
          "output_type": "stream",
          "name": "stdout",
          "text": [
            "\n",
            "Layer 0 is the Input Layer\n",
            "Layer 1 Neuron 0 : [-0.85603414 -0.98960953 -0.29155378] relu\n",
            "Layer 1 Neuron 1 : [ 0.90784257 -0.91450963 -0.32838058] relu\n",
            "Layer 2 Neuron 0 : [ 0.95558115  0.77766704 -0.47094694] relu\n",
            "\n",
            "\n",
            "Layer 0 is the Input Layer\n",
            "Layer 1 Neuron 0 : [-0.85603414 -0.98960953 -0.29155378] relu\n",
            "Layer 1 Neuron 1 : [ 0.90784257 -0.91450963 -0.32838058] relu\n",
            "Layer 2 Neuron 0 : [ 0.95558115  0.77766704 -0.47094694] sigmoid\n",
            "\n",
            "\n",
            "Layer 0 is the Input Layer\n",
            "Layer 1 Neuron 0 : [-0.85603414 -0.98960953 -0.29155378] linear\n",
            "Layer 1 Neuron 1 : [ 0.90784257 -0.91450963 -0.32838058] relu\n",
            "Layer 2 Neuron 0 : [ 0.95558115  0.77766704 -0.47094694] sigmoid\n",
            "\n"
          ]
        }
      ]
    },
    {
      "cell_type": "markdown",
      "metadata": {
        "id": "2NC63zSSKVjl"
      },
      "source": [
        "# Example 2 -- sigmoid, bp_general, XOR"
      ]
    },
    {
      "cell_type": "code",
      "metadata": {
        "id": "prBVNR0eNQSC",
        "colab": {
          "base_uri": "https://localhost:8080/"
        },
        "outputId": "932f20f4-c2ef-4ade-e0d5-7c9b4cea7199"
      },
      "source": [
        "mln2 = MultiLayerNeuron(layers=[2,2,1], eta=0.5)\n",
        "mln2.set_activ('sigmoid') #linear is by default\n",
        "print(\"\\nTraining Neural Network as an XOR Gate...\\n\")\n",
        "for i in range(5000):\n",
        "    MSE = 0.0\n",
        "    MSE += mln2.bp_general([0,0],[0])\n",
        "    MSE += mln2.bp_general([0,1],[1])\n",
        "    MSE += mln2.bp_general([1,0],[1])\n",
        "    MSE += mln2.bp_general([1,1],[0])\n",
        "    MSE = MSE / 4\n",
        "    if(i%200 == 0):\n",
        "        print (MSE)\n",
        "\n",
        "mln2.printWeights()\n",
        "    \n",
        "print(\"XOR Gate:\")\n",
        "print (\"0 0 = {0:.10f}\".format(mln2.run([0,0])[0]))\n",
        "print (\"0 1 = {0:.10f}\".format(mln2.run([0,1])[0]))\n",
        "print (\"1 0 = {0:.10f}\".format(mln2.run([1,0])[0]))\n",
        "print (\"1 1 = {0:.10f}\".format(mln2.run([1,1])[0]))"
      ],
      "execution_count": 13,
      "outputs": [
        {
          "output_type": "stream",
          "name": "stdout",
          "text": [
            "\n",
            "Training Neural Network as an XOR Gate...\n",
            "\n",
            "0.28762557870012756\n",
            "0.26063099628961894\n",
            "0.25936263355810446\n",
            "0.25628226563399437\n",
            "0.23388953702633014\n",
            "0.18408738208882963\n",
            "0.13569821124079304\n",
            "0.037153480177998466\n",
            "0.013992362891620412\n",
            "0.007910801556913422\n",
            "0.005364773757151355\n",
            "0.004008310515854911\n",
            "0.0031776213797063404\n",
            "0.0026211252550958925\n",
            "0.0022242914819338134\n",
            "0.001928032332777406\n",
            "0.0016989658782186237\n",
            "0.0015168869594000076\n",
            "0.001368885871777498\n",
            "0.001246346444263098\n",
            "0.0011433078444255925\n",
            "0.001055520347139098\n",
            "0.0009798757197430768\n",
            "0.0009140500832148515\n",
            "0.0008562724596224377\n",
            "\n",
            "Layer 0 is the Input Layer\n",
            "Layer 1 Neuron 0 : [-6.16400432 -6.07890496  2.4323488 ] sigmoid\n",
            "Layer 1 Neuron 1 : [-4.46415029 -4.44658589  6.6127329 ] sigmoid\n",
            "Layer 2 Neuron 0 : [-9.11529869  8.89904297 -4.1687117 ] sigmoid\n",
            "\n",
            "XOR Gate:\n",
            "0 0 = 0.0250638748\n",
            "0 1 = 0.9729733626\n",
            "1 0 = 0.9730767147\n",
            "1 1 = 0.0336721574\n"
          ]
        }
      ]
    },
    {
      "cell_type": "markdown",
      "metadata": {
        "id": "MFSdNaYSKr7h"
      },
      "source": [
        "# Example 3 -- linear activs, bp_regres"
      ]
    },
    {
      "cell_type": "code",
      "metadata": {
        "id": "tsu-mr5IdZlt",
        "colab": {
          "base_uri": "https://localhost:8080/"
        },
        "outputId": "371620b9-3c9a-4bf0-87d3-00ea7a12d8ab"
      },
      "source": [
        "mln3 = MultiLayerNeuron(layers=[3,1], eta=0.3)\n",
        "# mln3.set_weights([[[4.9,-0.9,2.1,0.2]]])\n",
        "# mln3.printWeights()\n",
        "print(\"\\nTraining Neural Network...\\n\")\n",
        "for i in range(400):\n",
        "    MSE = 0.0\n",
        "    MSE += mln3.bp_regres([0.7759,\t0.1104,\t0.9977,],[5.764286995])\n",
        "    MSE += mln3.bp_regres([0.9692,\t0.6961,\t0.8483,],[5.84646758])\n",
        "    MSE += mln3.bp_regres([0.0265,\t0.399,\t0.5375,],[0.808633075])\n",
        "    MSE += mln3.bp_regres([0.7694,\t0.5051,\t0.2542,],[3.850298589])\n",
        "    MSE = MSE / 4\n",
        "    if(i%200 == 0):\n",
        "        print (MSE)\n",
        "\n",
        "mln3.printWeights()\n",
        "\n"
      ],
      "execution_count": 14,
      "outputs": [
        {
          "output_type": "stream",
          "name": "stdout",
          "text": [
            "\n",
            "Training Neural Network...\n",
            "\n",
            "10.16174059255133\n",
            "2.3016137465785132e-09\n",
            "\n",
            "Layer 0 is the Input Layer\n",
            "Layer 1 Neuron 0 : [ 4.99973370e+00 -9.99625031e-01  1.99991680e+00  3.52339498e-05] linear\n",
            "\n"
          ]
        }
      ]
    },
    {
      "cell_type": "markdown",
      "metadata": {
        "id": "gwlXhDA2KORl"
      },
      "source": [
        "# Example 4 -- sigmoid, bp_regres"
      ]
    },
    {
      "cell_type": "code",
      "metadata": {
        "id": "JBA-VYuEJGm2",
        "colab": {
          "base_uri": "https://localhost:8080/",
          "height": 597
        },
        "outputId": "978e7947-424f-476a-b419-c00712f47b8f"
      },
      "source": [
        "# generating output values\n",
        "mln4 = MultiLayerNeuron(layers=[3,2,1], eta=0.3)\n",
        "mln4.set_activ('sigmoid')\n",
        "mln4.set_output_activ('linear')\n",
        "mln4.set_weights([[[0,1,-2,1],[1,-2,0,1]],[[-1,2,3]]])\n",
        "mln4.printWeights()\n",
        "\n",
        "y4=[]\n",
        "y4.append(mln4.run([2,1,0])[0])\n",
        "y4.append(mln4.run([-1,0,1])[0])\n",
        "y4.append(mln4.run([0,0,0])[0])\n",
        "y4.append(mln4.run([1,1,0])[0])\n",
        "y4.append(mln4.run([-1,-1,-1])[0])\n",
        "y4.append(mln4.run([-1,1,-1])[0])\n",
        "display ('original values:',y4)\n",
        "print ()\n",
        "\n",
        "# training model and predicting values\n",
        "mln4 = MultiLayerNeuron(layers=[3,2,1], eta=0.3)\n",
        "mln4.set_activ('sigmoid')\n",
        "mln4.set_output_activ('linear')\n",
        "\n",
        "for i in range(1000):\n",
        "    MSE = 0.0\n",
        "    MSE += mln4.bp_regres([2,1,0],y4[0])\n",
        "    MSE += mln4.bp_regres([-1,0,1],y4[1])\n",
        "    MSE += mln4.bp_regres([0,0,0],y4[2])\n",
        "    MSE += mln4.bp_regres([1,1,0],y4[3])\n",
        "    MSE += mln4.bp_regres([-1,-1,-1],y4[4])\n",
        "    MSE += mln4.bp_regres([-1,1,-1],y4[5])\n",
        "    MSE = MSE / 6\n",
        "    if(i%200 == 0):\n",
        "        print ('MSE=',MSE)\n",
        "mln4.printWeights()\n",
        "\n",
        "y4=[]\n",
        "y4.append(mln4.run([2,1,0])[0])\n",
        "y4.append(mln4.run([-1,0,1])[0])\n",
        "y4.append(mln4.run([0,0,0])[0])\n",
        "y4.append(mln4.run([1,1,0])[0])\n",
        "y4.append(mln4.run([-1,-1,-1])[0])\n",
        "y4.append(mln4.run([-1,1,-1])[0])\n",
        "display ('predicted values:',y4)\n",
        "print ()"
      ],
      "execution_count": 15,
      "outputs": [
        {
          "output_type": "stream",
          "name": "stdout",
          "text": [
            "\n",
            "Layer 0 is the Input Layer\n",
            "Layer 1 Neuron 0 : [ 0  1 -2  1] sigmoid\n",
            "Layer 1 Neuron 1 : [ 1 -2  0  1] sigmoid\n",
            "Layer 2 Neuron 0 : [-1  2  3] linear\n",
            "\n"
          ]
        },
        {
          "output_type": "display_data",
          "data": {
            "application/vnd.google.colaboratory.intrinsic+json": {
              "type": "string"
            },
            "text/plain": [
              "'original values:'"
            ]
          },
          "metadata": {}
        },
        {
          "output_type": "display_data",
          "data": {
            "text/plain": [
              "[3.5813200792821274,\n",
              " 3.731058578630005,\n",
              " 3.731058578630005,\n",
              " 3.119202922022118,\n",
              " 3.880797077977882,\n",
              " 2.2563920540063265]"
            ]
          },
          "metadata": {}
        },
        {
          "output_type": "stream",
          "name": "stdout",
          "text": [
            "\n",
            "MSE= 2.3696344051105975\n",
            "MSE= 0.0009200888444749596\n",
            "MSE= 0.014857977578680334\n",
            "MSE= 0.1459825105580136\n",
            "MSE= 0.224887053180854\n",
            "\n",
            "Layer 0 is the Input Layer\n",
            "Layer 1 Neuron 0 : [ 296.11613627 -592.20798332  295.99755154   -3.12342151] sigmoid\n",
            "Layer 1 Neuron 1 : [ 185.76641893 -371.87968197  186.2390767    -2.86282998] sigmoid\n",
            "Layer 2 Neuron 0 : [4.85487037 4.64623143 2.94382663] linear\n",
            "\n"
          ]
        },
        {
          "output_type": "stream",
          "name": "stderr",
          "text": [
            "/usr/local/lib/python3.7/dist-packages/ipykernel_launcher.py:35: RuntimeWarning: overflow encountered in exp\n"
          ]
        },
        {
          "output_type": "display_data",
          "data": {
            "application/vnd.google.colaboratory.intrinsic+json": {
              "type": "string"
            },
            "text/plain": [
              "'predicted values:'"
            ]
          },
          "metadata": {}
        },
        {
          "output_type": "display_data",
          "data": {
            "text/plain": [
              "[3.3335696543000557,\n",
              " 3.5163793947052575,\n",
              " 3.399464504160843,\n",
              " 2.9438266268414877,\n",
              " 3.390516117028497,\n",
              " 2.9438266268414877]"
            ]
          },
          "metadata": {}
        },
        {
          "output_type": "stream",
          "name": "stdout",
          "text": [
            "\n"
          ]
        }
      ]
    },
    {
      "cell_type": "markdown",
      "metadata": {
        "id": "RQ6f38VkOng4"
      },
      "source": [
        "# Example 5 -- various, bp_general"
      ]
    },
    {
      "cell_type": "code",
      "metadata": {
        "id": "tTgRMD9GOoF_",
        "colab": {
          "base_uri": "https://localhost:8080/",
          "height": 614
        },
        "outputId": "6a4fb2a9-a3eb-4486-f280-9cc693e1de82"
      },
      "source": [
        "# generating output values\n",
        "mln4 = MultiLayerNeuron(layers=[3,2,1,1])\n",
        "mln4.set_activ('relu')\n",
        "mln4.network[2][0].set_activ('sigmoid') # changing specific activ func\n",
        "mln4.set_output_activ('linear')\n",
        "mln4.set_weights([[[0,1,-2,1],[1,-2,0,1]],[[1,0,1]],[[-1,2]]])\n",
        "mln4.printWeights()\n",
        "\n",
        "y4=[]\n",
        "y4.append(mln4.run([2,1,0])[0])\n",
        "y4.append(mln4.run([-1,0,1])[0])\n",
        "y4.append(mln4.run([0,0,0])[0])\n",
        "y4.append(mln4.run([1,1,0])[0])\n",
        "y4.append(mln4.run([-1,-1,-1])[0])\n",
        "y4.append(mln4.run([-1,1,-1])[0])\n",
        "display ('original values:',y4)\n",
        "print ()\n",
        "\n",
        "# training model and predicting values\n",
        "mln4 = MultiLayerNeuron(layers=[3,2,1,1], eta=0.3)\n",
        "mln4.set_activ('relu')\n",
        "mln4.network[2][0].set_activ('sigmoid') # changing specific activ func\n",
        "mln4.set_output_activ('linear')\n",
        "\n",
        "for i in range(1000):\n",
        "    MSE = 0.0\n",
        "    MSE += mln4.bp_general([2,1,0],y4[0])\n",
        "    MSE += mln4.bp_general([-1,0,1],y4[1])\n",
        "    MSE += mln4.bp_general([0,0,0],y4[2])\n",
        "    MSE += mln4.bp_general([1,1,0],y4[3])\n",
        "    MSE += mln4.bp_general([-1,-1,-1],y4[4])\n",
        "    MSE += mln4.bp_general([-1,1,-1],y4[5])\n",
        "    MSE = MSE / 6\n",
        "    if(i%200 == 0):\n",
        "        print ('MSE=',MSE)\n",
        "mln4.printWeights()\n",
        "\n",
        "y4=[]\n",
        "y4.append(mln4.run([2,1,0])[0])\n",
        "y4.append(mln4.run([-1,0,1])[0])\n",
        "y4.append(mln4.run([0,0,0])[0])\n",
        "y4.append(mln4.run([1,1,0])[0])\n",
        "y4.append(mln4.run([-1,-1,-1])[0])\n",
        "y4.append(mln4.run([-1,1,-1])[0])\n",
        "display ('predicted values:',y4)\n",
        "print ()"
      ],
      "execution_count": 16,
      "outputs": [
        {
          "output_type": "stream",
          "name": "stdout",
          "text": [
            "\n",
            "Layer 0 is the Input Layer\n",
            "Layer 1 Neuron 0 : [ 0  1 -2  1] relu\n",
            "Layer 1 Neuron 1 : [ 1 -2  0  1] relu\n",
            "Layer 2 Neuron 0 : [1 0 1] sigmoid\n",
            "Layer 3 Neuron 0 : [-1  2] linear\n",
            "\n"
          ]
        },
        {
          "output_type": "display_data",
          "data": {
            "application/vnd.google.colaboratory.intrinsic+json": {
              "type": "string"
            },
            "text/plain": [
              "'original values:'"
            ]
          },
          "metadata": {}
        },
        {
          "output_type": "display_data",
          "data": {
            "text/plain": [
              "[1.0474258731775667,\n",
              " 1.2689414213699952,\n",
              " 1.1192029220221178,\n",
              " 1.0474258731775667,\n",
              " 1.0474258731775667,\n",
              " 1.0066928509242847]"
            ]
          },
          "metadata": {}
        },
        {
          "output_type": "stream",
          "name": "stdout",
          "text": [
            "\n",
            "MSE= 0.043333695766815304\n",
            "MSE= 0.009860927559103774\n",
            "MSE= 0.010127426796646353\n",
            "MSE= 0.010097640196507955\n",
            "MSE= 0.009958407849206707\n",
            "\n",
            "Layer 0 is the Input Layer\n",
            "Layer 1 Neuron 0 : [ 0.43573321 -0.67196075 -0.16241134  0.64563345] relu\n",
            "Layer 1 Neuron 1 : [ 0.36679907 -0.60027958 -0.86786428 -0.21805261] relu\n",
            "Layer 2 Neuron 0 : [-0.7659057  -0.01978335  0.39341924] sigmoid\n",
            "Layer 3 Neuron 0 : [0.37496329 0.84812762] linear\n",
            "\n"
          ]
        },
        {
          "output_type": "display_data",
          "data": {
            "application/vnd.google.colaboratory.intrinsic+json": {
              "type": "string"
            },
            "text/plain": [
              "'predicted values:'"
            ]
          },
          "metadata": {}
        },
        {
          "output_type": "display_data",
          "data": {
            "text/plain": [
              "[1.0119375733969678,\n",
              " 1.068728069629125,\n",
              " 1.0261424589110975,\n",
              " 1.043090766742718,\n",
              " 0.996459802893019,\n",
              " 1.072020276700834]"
            ]
          },
          "metadata": {}
        },
        {
          "output_type": "stream",
          "name": "stdout",
          "text": [
            "\n"
          ]
        }
      ]
    },
    {
      "cell_type": "markdown",
      "metadata": {
        "id": "VMQEsh7bFFe9"
      },
      "source": [
        "# Example 6 -- https://mmuratarat.github.io/2020-01-09/backpropagation"
      ]
    },
    {
      "cell_type": "code",
      "metadata": {
        "id": "HvAnY1Q1FF_L",
        "outputId": "d3083daa-3911-4885-a38d-4369574e59d8",
        "colab": {
          "base_uri": "https://localhost:8080/",
          "height": 426
        }
      },
      "source": [
        "# generating output values\n",
        "mln4 = MultiLayerNeuron(layers=[5,3,1], eta=.5)\n",
        "mln4.set_activ('sigmoid')\n",
        "mln4.set_output_activ('linear')\n",
        "mln4.set_weights([[[.19,.33,.4,.51,.54,.1],[.55,.16,.35,.85,.49,.1],[.76,.97,.7,.85,.57,.1]],[[.1,.03,-.17,.1]]]) # setting initial weights\n",
        "mln4.printWeights()\n",
        "\n",
        "y4=[]\n",
        "y4.append(mln4.run([.5,.1,1,0,0])[0])\n",
        "# y4.append(mln4.run([.3,.2,0,1,0])[0])\n",
        "# y4.append(mln4.run([.7,.9,0,0,1])[0])\n",
        "# y4.append(mln4.run([.8,.1,1,0,0])[0])\n",
        "display ('original values:',y4)\n",
        "print ()\n",
        "\n",
        "# training\n",
        "for i in range(1):\n",
        "    MSE = 0.0\n",
        "    MSE += mln4.bp_general([.5,.1,1,0,0],[0.1])\n",
        "    # MSE += mln4.bp_general([-1,0,1],y4[1])\n",
        "    # MSE += mln4.bp_general([0,0,0],y4[2])\n",
        "    # MSE += mln4.bp_general([1,1,0],y4[3])\n",
        "    # MSE += mln4.bp_general([-1,-1,-1],y4[4])\n",
        "    # MSE += mln4.bp_general([-1,1,-1],y4[5])\n",
        "    # MSE = MSE / 6\n",
        "    # if(i%200 == 0):\n",
        "    #     print ('MSE=',MSE)\n",
        "mln4.printWeights()"
      ],
      "execution_count": 47,
      "outputs": [
        {
          "output_type": "stream",
          "name": "stdout",
          "text": [
            "\n",
            "Layer 0 is the Input Layer\n",
            "Layer 1 Neuron 0 : [0.19 0.33 0.4  0.51 0.54 0.1 ] sigmoid\n",
            "Layer 1 Neuron 1 : [0.55 0.16 0.35 0.85 0.49 0.1 ] sigmoid\n",
            "Layer 1 Neuron 2 : [0.76 0.97 0.7  0.85 0.57 0.1 ] sigmoid\n",
            "Layer 2 Neuron 0 : [ 0.1   0.03 -0.17  0.1 ] linear\n",
            "\n"
          ]
        },
        {
          "output_type": "display_data",
          "data": {
            "application/vnd.google.colaboratory.intrinsic+json": {
              "type": "string"
            },
            "text/plain": [
              "'original values:'"
            ]
          },
          "metadata": {}
        },
        {
          "output_type": "display_data",
          "data": {
            "text/plain": [
              "[0.05259044255603488]"
            ]
          },
          "metadata": {}
        },
        {
          "output_type": "stream",
          "name": "stdout",
          "text": [
            "\n",
            "error [0.09481911488793025]\n",
            "len linear\n",
            "deriv 0.05259044255603488\n",
            "d last 0.004986579214727767\n",
            "fwd_error 0.0004986579214727768\n",
            "fwd_error 0.000149597376441833\n",
            "fwd_error -0.0008477184665037205\n",
            "\n",
            "Layer 0 is the Input Layer\n",
            "Layer 1 Neuron 0 : [0.19002828 0.33000566 0.40005657 0.51       0.54       0.10005657] sigmoid\n",
            "Layer 1 Neuron 1 : [0.55000818 0.16000164 0.35001635 0.85       0.49       0.10001635] sigmoid\n",
            "Layer 1 Neuron 2 : [0.75996386 0.96999277 0.69992773 0.85       0.57       0.09992773] sigmoid\n",
            "Layer 2 Neuron 0 : [ 0.10162571  0.03168849 -0.1680504   0.10249329] linear\n",
            "\n"
          ]
        }
      ]
    }
  ]
}